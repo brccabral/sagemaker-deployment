{
 "cells": [
  {
   "cell_type": "markdown",
   "metadata": {},
   "source": [
    "# Sentiment Analysis\n",
    "\n",
    "## Updating a Model in SageMaker\n",
    "\n",
    "_Deep Learning Nanodegree Program | Deployment_\n",
    "\n",
    "---\n",
    "\n",
    "In this notebook we will consider a situation in which a model that we constructed is no longer working as we intended. In particular, we will look at the XGBoost sentiment analysis model that we constructed earlier. In this case, however, we have some new data that our model doesn't seem to perform very well on. As a result, we will re-train our model and update an existing endpoint so that it uses our new model.\n",
    "\n",
    "This notebook starts by re-creating the XGBoost sentiment analysis model that was created in earlier notebooks. This means that you will have already seen the cells up to the end of Step 4. The new content in this notebook begins at Step 5.\n",
    "\n",
    "## Instructions\n",
    "\n",
    "Some template code has already been provided for you, and you will need to implement additional functionality to successfully complete this notebook. You will not need to modify the included code beyond what is requested. Sections that begin with '**TODO**' in the header indicate that you need to complete or implement some portion within them. Instructions will be provided for each section and the specifics of the implementation are marked in the code block with a `# TODO: ...` comment. Please be sure to read the instructions carefully!\n",
    "\n",
    "In addition to implementing code, there will be questions for you to answer which relate to the task and your implementation. Each section where you will answer a question is preceded by a '**Question:**' header. Carefully read each question and provide your answer below the '**Answer:**' header by editing the Markdown cell.\n",
    "\n",
    "> **Note**: Code and Markdown cells can be executed using the **Shift+Enter** keyboard shortcut. In addition, a cell can be edited by typically clicking it (double-click for Markdown cells) or by pressing **Enter** while it is highlighted."
   ]
  },
  {
   "cell_type": "code",
   "execution_count": 1,
   "metadata": {},
   "outputs": [
    {
     "name": "stdout",
     "output_type": "stream",
     "text": [
      "Requirement already satisfied: sagemaker==1.72.0 in /home/ec2-user/anaconda3/envs/pytorch_p36/lib/python3.6/site-packages (1.72.0)\n",
      "Requirement already satisfied: numpy>=1.9.0 in /home/ec2-user/anaconda3/envs/pytorch_p36/lib/python3.6/site-packages (from sagemaker==1.72.0) (1.19.5)\n",
      "Requirement already satisfied: protobuf>=3.1 in /home/ec2-user/anaconda3/envs/pytorch_p36/lib/python3.6/site-packages (from sagemaker==1.72.0) (3.17.2)\n",
      "Requirement already satisfied: scipy>=0.19.0 in /home/ec2-user/anaconda3/envs/pytorch_p36/lib/python3.6/site-packages (from sagemaker==1.72.0) (1.5.3)\n",
      "Requirement already satisfied: packaging>=20.0 in /home/ec2-user/anaconda3/envs/pytorch_p36/lib/python3.6/site-packages (from sagemaker==1.72.0) (21.3)\n",
      "Requirement already satisfied: importlib-metadata>=1.4.0 in /home/ec2-user/anaconda3/envs/pytorch_p36/lib/python3.6/site-packages (from sagemaker==1.72.0) (4.5.0)\n",
      "Requirement already satisfied: smdebug-rulesconfig==0.1.4 in /home/ec2-user/anaconda3/envs/pytorch_p36/lib/python3.6/site-packages (from sagemaker==1.72.0) (0.1.4)\n",
      "Requirement already satisfied: boto3>=1.14.12 in /home/ec2-user/anaconda3/envs/pytorch_p36/lib/python3.6/site-packages (from sagemaker==1.72.0) (1.20.25)\n",
      "Requirement already satisfied: protobuf3-to-dict>=0.1.5 in /home/ec2-user/anaconda3/envs/pytorch_p36/lib/python3.6/site-packages (from sagemaker==1.72.0) (0.1.5)\n",
      "Requirement already satisfied: botocore<1.24.0,>=1.23.25 in /home/ec2-user/anaconda3/envs/pytorch_p36/lib/python3.6/site-packages (from boto3>=1.14.12->sagemaker==1.72.0) (1.23.25)\n",
      "Requirement already satisfied: jmespath<1.0.0,>=0.7.1 in /home/ec2-user/anaconda3/envs/pytorch_p36/lib/python3.6/site-packages (from boto3>=1.14.12->sagemaker==1.72.0) (0.10.0)\n",
      "Requirement already satisfied: s3transfer<0.6.0,>=0.5.0 in /home/ec2-user/anaconda3/envs/pytorch_p36/lib/python3.6/site-packages (from boto3>=1.14.12->sagemaker==1.72.0) (0.5.0)\n",
      "Requirement already satisfied: typing-extensions>=3.6.4 in /home/ec2-user/anaconda3/envs/pytorch_p36/lib/python3.6/site-packages (from importlib-metadata>=1.4.0->sagemaker==1.72.0) (3.10.0.0)\n",
      "Requirement already satisfied: zipp>=0.5 in /home/ec2-user/anaconda3/envs/pytorch_p36/lib/python3.6/site-packages (from importlib-metadata>=1.4.0->sagemaker==1.72.0) (3.4.1)\n",
      "Requirement already satisfied: pyparsing!=3.0.5,>=2.0.2 in /home/ec2-user/anaconda3/envs/pytorch_p36/lib/python3.6/site-packages (from packaging>=20.0->sagemaker==1.72.0) (2.4.7)\n",
      "Requirement already satisfied: six>=1.9 in /home/ec2-user/anaconda3/envs/pytorch_p36/lib/python3.6/site-packages (from protobuf>=3.1->sagemaker==1.72.0) (1.16.0)\n",
      "Requirement already satisfied: python-dateutil<3.0.0,>=2.1 in /home/ec2-user/anaconda3/envs/pytorch_p36/lib/python3.6/site-packages (from botocore<1.24.0,>=1.23.25->boto3>=1.14.12->sagemaker==1.72.0) (2.8.1)\n",
      "Requirement already satisfied: urllib3<1.27,>=1.25.4 in /home/ec2-user/anaconda3/envs/pytorch_p36/lib/python3.6/site-packages (from botocore<1.24.0,>=1.23.25->boto3>=1.14.12->sagemaker==1.72.0) (1.26.5)\n"
     ]
    }
   ],
   "source": [
    "# Make sure that we use SageMaker 1.x\n",
    "!pip install sagemaker==1.72.0"
   ]
  },
  {
   "cell_type": "markdown",
   "metadata": {},
   "source": [
    "## Step 1: Downloading the data\n",
    "\n",
    "The dataset we are going to use is very popular among researchers in Natural Language Processing, usually referred to as the [IMDb dataset](http://ai.stanford.edu/~amaas/data/sentiment/). It consists of movie reviews from the website [imdb.com](http://www.imdb.com/), each labeled as either '**pos**itive', if the reviewer enjoyed the film, or '**neg**ative' otherwise.\n",
    "\n",
    "> Maas, Andrew L., et al. [Learning Word Vectors for Sentiment Analysis](http://ai.stanford.edu/~amaas/data/sentiment/). In _Proceedings of the 49th Annual Meeting of the Association for Computational Linguistics: Human Language Technologies_. Association for Computational Linguistics, 2011.\n",
    "\n",
    "We begin by using some Jupyter Notebook magic to download and extract the dataset."
   ]
  },
  {
   "cell_type": "code",
   "execution_count": 2,
   "metadata": {},
   "outputs": [
    {
     "name": "stdout",
     "output_type": "stream",
     "text": [
      "--2022-02-07 06:32:30--  http://ai.stanford.edu/~amaas/data/sentiment/aclImdb_v1.tar.gz\n",
      "Resolving ai.stanford.edu (ai.stanford.edu)... 171.64.68.10\n",
      "Connecting to ai.stanford.edu (ai.stanford.edu)|171.64.68.10|:80... connected.\n",
      "HTTP request sent, awaiting response... 200 OK\n",
      "Length: 84125825 (80M) [application/x-gzip]\n",
      "Saving to: ‘../data/aclImdb_v1.tar.gz’\n",
      "\n",
      "../data/aclImdb_v1. 100%[===================>]  80.23M  23.2MB/s    in 4.5s    \n",
      "\n",
      "2022-02-07 06:32:35 (17.8 MB/s) - ‘../data/aclImdb_v1.tar.gz’ saved [84125825/84125825]\n",
      "\n"
     ]
    }
   ],
   "source": [
    "%mkdir ../data\n",
    "!wget -O ../data/aclImdb_v1.tar.gz http://ai.stanford.edu/~amaas/data/sentiment/aclImdb_v1.tar.gz\n",
    "!tar -zxf ../data/aclImdb_v1.tar.gz -C ../data"
   ]
  },
  {
   "cell_type": "markdown",
   "metadata": {},
   "source": [
    "## Step 2: Preparing the data\n",
    "\n",
    "The data we have downloaded is split into various files, each of which contains a single review. It will be much easier going forward if we combine these individual files into two large files, one for training and one for testing."
   ]
  },
  {
   "cell_type": "code",
   "execution_count": 3,
   "metadata": {},
   "outputs": [],
   "source": [
    "import os\n",
    "import glob\n",
    "\n",
    "def read_imdb_data(data_dir='../data/aclImdb'):\n",
    "    data = {}\n",
    "    labels = {}\n",
    "    \n",
    "    for data_type in ['train', 'test']:\n",
    "        data[data_type] = {}\n",
    "        labels[data_type] = {}\n",
    "        \n",
    "        for sentiment in ['pos', 'neg']:\n",
    "            data[data_type][sentiment] = []\n",
    "            labels[data_type][sentiment] = []\n",
    "            \n",
    "            path = os.path.join(data_dir, data_type, sentiment, '*.txt')\n",
    "            files = glob.glob(path)\n",
    "            \n",
    "            for f in files:\n",
    "                with open(f) as review:\n",
    "                    data[data_type][sentiment].append(review.read())\n",
    "                    # Here we represent a positive review by '1' and a negative review by '0'\n",
    "                    labels[data_type][sentiment].append(1 if sentiment == 'pos' else 0)\n",
    "                    \n",
    "            assert len(data[data_type][sentiment]) == len(labels[data_type][sentiment]), \\\n",
    "                    \"{}/{} data size does not match labels size\".format(data_type, sentiment)\n",
    "                \n",
    "    return data, labels"
   ]
  },
  {
   "cell_type": "code",
   "execution_count": 4,
   "metadata": {},
   "outputs": [
    {
     "name": "stdout",
     "output_type": "stream",
     "text": [
      "IMDB reviews: train = 12500 pos / 12500 neg, test = 12500 pos / 12500 neg\n"
     ]
    }
   ],
   "source": [
    "data, labels = read_imdb_data()\n",
    "print(\"IMDB reviews: train = {} pos / {} neg, test = {} pos / {} neg\".format(\n",
    "            len(data['train']['pos']), len(data['train']['neg']),\n",
    "            len(data['test']['pos']), len(data['test']['neg'])))"
   ]
  },
  {
   "cell_type": "code",
   "execution_count": 5,
   "metadata": {},
   "outputs": [],
   "source": [
    "from sklearn.utils import shuffle\n",
    "\n",
    "def prepare_imdb_data(data, labels):\n",
    "    \"\"\"Prepare training and test sets from IMDb movie reviews.\"\"\"\n",
    "    \n",
    "    #Combine positive and negative reviews and labels\n",
    "    data_train = data['train']['pos'] + data['train']['neg']\n",
    "    data_test = data['test']['pos'] + data['test']['neg']\n",
    "    labels_train = labels['train']['pos'] + labels['train']['neg']\n",
    "    labels_test = labels['test']['pos'] + labels['test']['neg']\n",
    "    \n",
    "    #Shuffle reviews and corresponding labels within training and test sets\n",
    "    data_train, labels_train = shuffle(data_train, labels_train)\n",
    "    data_test, labels_test = shuffle(data_test, labels_test)\n",
    "    \n",
    "    # Return a unified training data, test data, training labels, test labets\n",
    "    return data_train, data_test, labels_train, labels_test"
   ]
  },
  {
   "cell_type": "code",
   "execution_count": 6,
   "metadata": {},
   "outputs": [
    {
     "name": "stdout",
     "output_type": "stream",
     "text": [
      "IMDb reviews (combined): train = 25000, test = 25000\n"
     ]
    }
   ],
   "source": [
    "train_X, test_X, train_y, test_y = prepare_imdb_data(data, labels)\n",
    "print(\"IMDb reviews (combined): train = {}, test = {}\".format(len(train_X), len(test_X)))"
   ]
  },
  {
   "cell_type": "code",
   "execution_count": 7,
   "metadata": {},
   "outputs": [
    {
     "data": {
      "text/plain": [
       "'Make no bones about it. There are a lot of things wrong with this movie. It\\'s clichéd the whole way, not very funny, predictable, and illogical. Let\\'s start at the beginning: characters. There\\'s the boring, luckless guy - giving Stiller another notch in his boring, luckless guy belt - the allegedly wild, but in reality just fairly normal, love interest - whom Aniston plays well, but really needed no effort to do so - the fat, jovial friend, and then the assortment of clichés: an annoying daredevil Australian guy, a confident Spanish guy, etc. The storyline: the beginning is slightly unusual, but thereafter goes into the standard any-movie style, with every plot turn as predictable as your average knock-knock joke. The biggest problem was that Stiller\\'s character\\'s \"development\" really seemed to come from nothing - like your average school play, the writers knew where he started and where he ended, but didn\\'t put enough stock into properly telling the middle bit. Finally, the alleged \\'jokes\\' were nothing but highly watered down versions of standard gross-out humour; there was a regulation chunder scene, sweaty fat men, etc.<br /><br />In conclusion, the simple fact about this movie is that learning the meaning of the word \\'shart\\' was the only good thing. Hamburg really dished up a dog\\'s dinner here, and the sugar coating of Stiller and Aniston may have lured the viewers, but the taste left at the end was just as rancid.<br /><br />Final comment: This film may have been dreadful, but Aniston still picked a better between-Friends-seasons movie than Kudrow\\'s odious \\'Marci X.\\''"
      ]
     },
     "execution_count": 7,
     "metadata": {},
     "output_type": "execute_result"
    }
   ],
   "source": [
    "train_X[100]"
   ]
  },
  {
   "cell_type": "markdown",
   "metadata": {},
   "source": [
    "## Step 3: Processing the data\n",
    "\n",
    "Now that we have our training and testing datasets merged and ready to use, we need to start processing the raw data into something that will be useable by our machine learning algorithm. To begin with, we remove any html formatting that may appear in the reviews and perform some standard natural language processing in order to homogenize the data."
   ]
  },
  {
   "cell_type": "code",
   "execution_count": 8,
   "metadata": {},
   "outputs": [
    {
     "name": "stderr",
     "output_type": "stream",
     "text": [
      "[nltk_data] Downloading package stopwords to\n",
      "[nltk_data]     /home/ec2-user/nltk_data...\n",
      "[nltk_data]   Package stopwords is already up-to-date!\n"
     ]
    }
   ],
   "source": [
    "import nltk\n",
    "nltk.download(\"stopwords\")\n",
    "from nltk.corpus import stopwords\n",
    "from nltk.stem.porter import *\n",
    "stemmer = PorterStemmer()"
   ]
  },
  {
   "cell_type": "code",
   "execution_count": 9,
   "metadata": {},
   "outputs": [],
   "source": [
    "import re\n",
    "from bs4 import BeautifulSoup\n",
    "\n",
    "def review_to_words(review):\n",
    "    text = BeautifulSoup(review, \"html.parser\").get_text() # Remove HTML tags\n",
    "    text = re.sub(r\"[^a-zA-Z0-9]\", \" \", text.lower()) # Convert to lower case\n",
    "    words = text.split() # Split string into words\n",
    "    words = [w for w in words if w not in stopwords.words(\"english\")] # Remove stopwords\n",
    "    words = [PorterStemmer().stem(w) for w in words] # stem\n",
    "    \n",
    "    return words"
   ]
  },
  {
   "cell_type": "code",
   "execution_count": 10,
   "metadata": {},
   "outputs": [
    {
     "data": {
      "text/plain": [
       "['make',\n",
       " 'bone',\n",
       " 'lot',\n",
       " 'thing',\n",
       " 'wrong',\n",
       " 'movi',\n",
       " 'clich',\n",
       " 'whole',\n",
       " 'way',\n",
       " 'funni',\n",
       " 'predict',\n",
       " 'illog',\n",
       " 'let',\n",
       " 'start',\n",
       " 'begin',\n",
       " 'charact',\n",
       " 'bore',\n",
       " 'luckless',\n",
       " 'guy',\n",
       " 'give',\n",
       " 'stiller',\n",
       " 'anoth',\n",
       " 'notch',\n",
       " 'bore',\n",
       " 'luckless',\n",
       " 'guy',\n",
       " 'belt',\n",
       " 'allegedli',\n",
       " 'wild',\n",
       " 'realiti',\n",
       " 'fairli',\n",
       " 'normal',\n",
       " 'love',\n",
       " 'interest',\n",
       " 'aniston',\n",
       " 'play',\n",
       " 'well',\n",
       " 'realli',\n",
       " 'need',\n",
       " 'effort',\n",
       " 'fat',\n",
       " 'jovial',\n",
       " 'friend',\n",
       " 'assort',\n",
       " 'clich',\n",
       " 'annoy',\n",
       " 'daredevil',\n",
       " 'australian',\n",
       " 'guy',\n",
       " 'confid',\n",
       " 'spanish',\n",
       " 'guy',\n",
       " 'etc',\n",
       " 'storylin',\n",
       " 'begin',\n",
       " 'slightli',\n",
       " 'unusu',\n",
       " 'thereaft',\n",
       " 'goe',\n",
       " 'standard',\n",
       " 'movi',\n",
       " 'style',\n",
       " 'everi',\n",
       " 'plot',\n",
       " 'turn',\n",
       " 'predict',\n",
       " 'averag',\n",
       " 'knock',\n",
       " 'knock',\n",
       " 'joke',\n",
       " 'biggest',\n",
       " 'problem',\n",
       " 'stiller',\n",
       " 'charact',\n",
       " 'develop',\n",
       " 'realli',\n",
       " 'seem',\n",
       " 'come',\n",
       " 'noth',\n",
       " 'like',\n",
       " 'averag',\n",
       " 'school',\n",
       " 'play',\n",
       " 'writer',\n",
       " 'knew',\n",
       " 'start',\n",
       " 'end',\n",
       " 'put',\n",
       " 'enough',\n",
       " 'stock',\n",
       " 'properli',\n",
       " 'tell',\n",
       " 'middl',\n",
       " 'bit',\n",
       " 'final',\n",
       " 'alleg',\n",
       " 'joke',\n",
       " 'noth',\n",
       " 'highli',\n",
       " 'water',\n",
       " 'version',\n",
       " 'standard',\n",
       " 'gross',\n",
       " 'humour',\n",
       " 'regul',\n",
       " 'chunder',\n",
       " 'scene',\n",
       " 'sweati',\n",
       " 'fat',\n",
       " 'men',\n",
       " 'etc',\n",
       " 'conclus',\n",
       " 'simpl',\n",
       " 'fact',\n",
       " 'movi',\n",
       " 'learn',\n",
       " 'mean',\n",
       " 'word',\n",
       " 'shart',\n",
       " 'good',\n",
       " 'thing',\n",
       " 'hamburg',\n",
       " 'realli',\n",
       " 'dish',\n",
       " 'dog',\n",
       " 'dinner',\n",
       " 'sugar',\n",
       " 'coat',\n",
       " 'stiller',\n",
       " 'aniston',\n",
       " 'may',\n",
       " 'lure',\n",
       " 'viewer',\n",
       " 'tast',\n",
       " 'left',\n",
       " 'end',\n",
       " 'rancid',\n",
       " 'final',\n",
       " 'comment',\n",
       " 'film',\n",
       " 'may',\n",
       " 'dread',\n",
       " 'aniston',\n",
       " 'still',\n",
       " 'pick',\n",
       " 'better',\n",
       " 'friend',\n",
       " 'season',\n",
       " 'movi',\n",
       " 'kudrow',\n",
       " 'odiou',\n",
       " 'marci',\n",
       " 'x']"
      ]
     },
     "execution_count": 10,
     "metadata": {},
     "output_type": "execute_result"
    }
   ],
   "source": [
    "review_to_words(train_X[100])"
   ]
  },
  {
   "cell_type": "code",
   "execution_count": 11,
   "metadata": {},
   "outputs": [],
   "source": [
    "import pickle\n",
    "\n",
    "cache_dir = os.path.join(\"../cache\", \"sentiment_analysis\")  # where to store cache files\n",
    "os.makedirs(cache_dir, exist_ok=True)  # ensure cache directory exists\n",
    "\n",
    "def preprocess_data(data_train, data_test, labels_train, labels_test,\n",
    "                    cache_dir=cache_dir, cache_file=\"preprocessed_data.pkl\"):\n",
    "    \"\"\"Convert each review to words; read from cache if available.\"\"\"\n",
    "\n",
    "    # If cache_file is not None, try to read from it first\n",
    "    cache_data = None\n",
    "    if cache_file is not None:\n",
    "        try:\n",
    "            with open(os.path.join(cache_dir, cache_file), \"rb\") as f:\n",
    "                cache_data = pickle.load(f)\n",
    "            print(\"Read preprocessed data from cache file:\", cache_file)\n",
    "        except:\n",
    "            pass  # unable to read from cache, but that's okay\n",
    "    \n",
    "    # If cache is missing, then do the heavy lifting\n",
    "    if cache_data is None:\n",
    "        # Preprocess training and test data to obtain words for each review\n",
    "        #words_train = list(map(review_to_words, data_train))\n",
    "        #words_test = list(map(review_to_words, data_test))\n",
    "        words_train = [review_to_words(review) for review in data_train]\n",
    "        words_test = [review_to_words(review) for review in data_test]\n",
    "        \n",
    "        # Write to cache file for future runs\n",
    "        if cache_file is not None:\n",
    "            cache_data = dict(words_train=words_train, words_test=words_test,\n",
    "                              labels_train=labels_train, labels_test=labels_test)\n",
    "            with open(os.path.join(cache_dir, cache_file), \"wb\") as f:\n",
    "                pickle.dump(cache_data, f)\n",
    "            print(\"Wrote preprocessed data to cache file:\", cache_file)\n",
    "    else:\n",
    "        # Unpack data loaded from cache file\n",
    "        words_train, words_test, labels_train, labels_test = (cache_data['words_train'],\n",
    "                cache_data['words_test'], cache_data['labels_train'], cache_data['labels_test'])\n",
    "    \n",
    "    return words_train, words_test, labels_train, labels_test"
   ]
  },
  {
   "cell_type": "code",
   "execution_count": 12,
   "metadata": {},
   "outputs": [
    {
     "name": "stdout",
     "output_type": "stream",
     "text": [
      "Wrote preprocessed data to cache file: preprocessed_data.pkl\n"
     ]
    }
   ],
   "source": [
    "# Preprocess data\n",
    "train_X, test_X, train_y, test_y = preprocess_data(train_X, test_X, train_y, test_y)"
   ]
  },
  {
   "cell_type": "markdown",
   "metadata": {},
   "source": [
    "### Extract Bag-of-Words features\n",
    "\n",
    "For the model we will be implementing, rather than using the reviews directly, we are going to transform each review into a Bag-of-Words feature representation. Keep in mind that 'in the wild' we will only have access to the training set so our transformer can only use the training set to construct a representation."
   ]
  },
  {
   "cell_type": "code",
   "execution_count": 15,
   "metadata": {},
   "outputs": [],
   "source": [
    "import numpy as np\n",
    "from sklearn.feature_extraction.text import CountVectorizer\n",
    "import joblib\n",
    "# joblib is an enhanced version of pickle that is more efficient for storing NumPy arrays\n",
    "\n",
    "def extract_BoW_features(words_train, words_test, vocabulary_size=5000,\n",
    "                         cache_dir=cache_dir, cache_file=\"bow_features.pkl\"):\n",
    "    \"\"\"Extract Bag-of-Words for a given set of documents, already preprocessed into words.\"\"\"\n",
    "    \n",
    "    # If cache_file is not None, try to read from it first\n",
    "    cache_data = None\n",
    "    if cache_file is not None:\n",
    "        try:\n",
    "            with open(os.path.join(cache_dir, cache_file), \"rb\") as f:\n",
    "                cache_data = joblib.load(f)\n",
    "            print(\"Read features from cache file:\", cache_file)\n",
    "        except:\n",
    "            pass  # unable to read from cache, but that's okay\n",
    "    \n",
    "    # If cache is missing, then do the heavy lifting\n",
    "    if cache_data is None:\n",
    "        # Fit a vectorizer to training documents and use it to transform them\n",
    "        # NOTE: Training documents have already been preprocessed and tokenized into words;\n",
    "        #       pass in dummy functions to skip those steps, e.g. preprocessor=lambda x: x\n",
    "        vectorizer = CountVectorizer(max_features=vocabulary_size,\n",
    "                preprocessor=lambda x: x, tokenizer=lambda x: x)  # already preprocessed\n",
    "        features_train = vectorizer.fit_transform(words_train).toarray()\n",
    "\n",
    "        # Apply the same vectorizer to transform the test documents (ignore unknown words)\n",
    "        features_test = vectorizer.transform(words_test).toarray()\n",
    "        \n",
    "        # NOTE: Remember to convert the features using .toarray() for a compact representation\n",
    "        \n",
    "        # Write to cache file for future runs (store vocabulary as well)\n",
    "        if cache_file is not None:\n",
    "            vocabulary = vectorizer.vocabulary_\n",
    "            cache_data = dict(features_train=features_train, features_test=features_test,\n",
    "                             vocabulary=vocabulary)\n",
    "            with open(os.path.join(cache_dir, cache_file), \"wb\") as f:\n",
    "                joblib.dump(cache_data, f)\n",
    "            print(\"Wrote features to cache file:\", cache_file)\n",
    "    else:\n",
    "        # Unpack data loaded from cache file\n",
    "        features_train, features_test, vocabulary = (cache_data['features_train'],\n",
    "                cache_data['features_test'], cache_data['vocabulary'])\n",
    "    \n",
    "    # Return both the extracted features as well as the vocabulary\n",
    "    return features_train, features_test, vocabulary"
   ]
  },
  {
   "cell_type": "code",
   "execution_count": 16,
   "metadata": {},
   "outputs": [
    {
     "name": "stdout",
     "output_type": "stream",
     "text": [
      "Wrote features to cache file: bow_features.pkl\n"
     ]
    }
   ],
   "source": [
    "# Extract Bag of Words features for both training and test datasets\n",
    "train_X, test_X, vocabulary = extract_BoW_features(train_X, test_X)"
   ]
  },
  {
   "cell_type": "code",
   "execution_count": 17,
   "metadata": {},
   "outputs": [
    {
     "data": {
      "text/plain": [
       "5000"
      ]
     },
     "execution_count": 17,
     "metadata": {},
     "output_type": "execute_result"
    }
   ],
   "source": [
    "len(train_X[100])"
   ]
  },
  {
   "cell_type": "markdown",
   "metadata": {},
   "source": [
    "## Step 4: Classification using XGBoost\n",
    "\n",
    "Now that we have created the feature representation of our training (and testing) data, it is time to start setting up and using the XGBoost classifier provided by SageMaker.\n",
    "\n",
    "### Writing the dataset\n",
    "\n",
    "The XGBoost classifier that we will be using requires the dataset to be written to a file and stored using Amazon S3. To do this, we will start by splitting the training dataset into two parts, the data we will train the model with and a validation set. Then, we will write those datasets to a file and upload the files to S3. In addition, we will write the test set input to a file and upload the file to S3. This is so that we can use SageMakers Batch Transform functionality to test our model once we've fit it."
   ]
  },
  {
   "cell_type": "code",
   "execution_count": 18,
   "metadata": {},
   "outputs": [],
   "source": [
    "import pandas as pd\n",
    "\n",
    "# Earlier we shuffled the training dataset so to make things simple we can just assign\n",
    "# the first 10 000 reviews to the validation set and use the remaining reviews for training.\n",
    "val_X = pd.DataFrame(train_X[:10000])\n",
    "train_X = pd.DataFrame(train_X[10000:])\n",
    "\n",
    "val_y = pd.DataFrame(train_y[:10000])\n",
    "train_y = pd.DataFrame(train_y[10000:])"
   ]
  },
  {
   "cell_type": "markdown",
   "metadata": {},
   "source": [
    "The documentation for the XGBoost algorithm in SageMaker requires that the saved datasets should contain no headers or index and that for the training and validation data, the label should occur first for each sample.\n",
    "\n",
    "For more information about this and other algorithms, the SageMaker developer documentation can be found on __[Amazon's website.](https://docs.aws.amazon.com/sagemaker/latest/dg/)__"
   ]
  },
  {
   "cell_type": "code",
   "execution_count": 19,
   "metadata": {},
   "outputs": [],
   "source": [
    "# First we make sure that the local directory in which we'd like to store the training and validation csv files exists.\n",
    "data_dir = '../data/sentiment_update'\n",
    "if not os.path.exists(data_dir):\n",
    "    os.makedirs(data_dir)"
   ]
  },
  {
   "cell_type": "code",
   "execution_count": 20,
   "metadata": {},
   "outputs": [],
   "source": [
    "pd.DataFrame(test_X).to_csv(os.path.join(data_dir, 'test.csv'), header=False, index=False)\n",
    "\n",
    "pd.concat([val_y, val_X], axis=1).to_csv(os.path.join(data_dir, 'validation.csv'), header=False, index=False)\n",
    "pd.concat([train_y, train_X], axis=1).to_csv(os.path.join(data_dir, 'train.csv'), header=False, index=False)"
   ]
  },
  {
   "cell_type": "code",
   "execution_count": 21,
   "metadata": {},
   "outputs": [],
   "source": [
    "# To save a bit of memory we can set text_X, train_X, val_X, train_y and val_y to None.\n",
    "\n",
    "test_X = train_X = val_X = train_y = val_y = None"
   ]
  },
  {
   "cell_type": "markdown",
   "metadata": {},
   "source": [
    "### Uploading Training / Validation files to S3\n",
    "\n",
    "Amazon's S3 service allows us to store files that can be access by both the built-in training models such as the XGBoost model we will be using as well as custom models such as the one we will see a little later.\n",
    "\n",
    "For this, and most other tasks we will be doing using SageMaker, there are two methods we could use. The first is to use the low level functionality of SageMaker which requires knowing each of the objects involved in the SageMaker environment. The second is to use the high level functionality in which certain choices have been made on the user's behalf. The low level approach benefits from allowing the user a great deal of flexibility while the high level approach makes development much quicker. For our purposes we will opt to use the high level approach although using the low-level approach is certainly an option.\n",
    "\n",
    "Recall the method `upload_data()` which is a member of object representing our current SageMaker session. What this method does is upload the data to the default bucket (which is created if it does not exist) into the path described by the key_prefix variable. To see this for yourself, once you have uploaded the data files, go to the S3 console and look to see where the files have been uploaded.\n",
    "\n",
    "For additional resources, see the __[SageMaker API documentation](http://sagemaker.readthedocs.io/en/latest/)__ and in addition the __[SageMaker Developer Guide.](https://docs.aws.amazon.com/sagemaker/latest/dg/)__"
   ]
  },
  {
   "cell_type": "code",
   "execution_count": 22,
   "metadata": {},
   "outputs": [],
   "source": [
    "import sagemaker\n",
    "\n",
    "session = sagemaker.Session() # Store the current SageMaker session\n",
    "\n",
    "# S3 prefix (which folder will we use)\n",
    "prefix = 'sentiment-update'\n",
    "\n",
    "test_location = session.upload_data(os.path.join(data_dir, 'test.csv'), key_prefix=prefix)\n",
    "val_location = session.upload_data(os.path.join(data_dir, 'validation.csv'), key_prefix=prefix)\n",
    "train_location = session.upload_data(os.path.join(data_dir, 'train.csv'), key_prefix=prefix)"
   ]
  },
  {
   "cell_type": "markdown",
   "metadata": {},
   "source": [
    "### Creating the XGBoost model\n",
    "\n",
    "Now that the data has been uploaded it is time to create the XGBoost model. To begin with, we need to do some setup. At this point it is worth discussing what a model is in SageMaker. It is easiest to think of a model of comprising three different objects in the SageMaker ecosystem, which interact with one another.\n",
    "\n",
    "- Model Artifacts\n",
    "- Training Code (Container)\n",
    "- Inference Code (Container)\n",
    "\n",
    "The Model Artifacts are what you might think of as the actual model itself. For example, if you were building a neural network, the model artifacts would be the weights of the various layers. In our case, for an XGBoost model, the artifacts are the actual trees that are created during training.\n",
    "\n",
    "The other two objects, the training code and the inference code are then used the manipulate the training artifacts. More precisely, the training code uses the training data that is provided and creates the model artifacts, while the inference code uses the model artifacts to make predictions on new data.\n",
    "\n",
    "The way that SageMaker runs the training and inference code is by making use of Docker containers. For now, think of a container as being a way of packaging code up so that dependencies aren't an issue."
   ]
  },
  {
   "cell_type": "code",
   "execution_count": 23,
   "metadata": {},
   "outputs": [],
   "source": [
    "from sagemaker import get_execution_role\n",
    "\n",
    "# Our current execution role is require when creating the model as the training\n",
    "# and inference code will need to access the model artifacts.\n",
    "role = get_execution_role()"
   ]
  },
  {
   "cell_type": "code",
   "execution_count": 24,
   "metadata": {},
   "outputs": [
    {
     "name": "stderr",
     "output_type": "stream",
     "text": [
      "'get_image_uri' method will be deprecated in favor of 'ImageURIProvider' class in SageMaker Python SDK v2.\n",
      "There is a more up to date SageMaker XGBoost image. To use the newer image, please set 'repo_version'='1.0-1'. For example:\n",
      "\tget_image_uri(region, 'xgboost', '1.0-1').\n"
     ]
    }
   ],
   "source": [
    "# We need to retrieve the location of the container which is provided by Amazon for using XGBoost.\n",
    "# As a matter of convenience, the training and inference code both use the same container.\n",
    "from sagemaker.amazon.amazon_estimator import get_image_uri\n",
    "\n",
    "container = get_image_uri(session.boto_region_name, 'xgboost')"
   ]
  },
  {
   "cell_type": "code",
   "execution_count": 25,
   "metadata": {},
   "outputs": [
    {
     "name": "stderr",
     "output_type": "stream",
     "text": [
      "Parameter image_name will be renamed to image_uri in SageMaker Python SDK v2.\n"
     ]
    }
   ],
   "source": [
    "# First we create a SageMaker estimator object for our model.\n",
    "xgb = sagemaker.estimator.Estimator(container, # The location of the container we wish to use\n",
    "                                    role,                                    # What is our current IAM Role\n",
    "                                    train_instance_count=1,                  # How many compute instances\n",
    "                                    train_instance_type='ml.m4.xlarge',      # What kind of compute instances\n",
    "                                    output_path='s3://{}/{}/output'.format(session.default_bucket(), prefix),\n",
    "                                    sagemaker_session=session)\n",
    "\n",
    "# And then set the algorithm specific parameters.\n",
    "xgb.set_hyperparameters(max_depth=5,\n",
    "                        eta=0.2,\n",
    "                        gamma=4,\n",
    "                        min_child_weight=6,\n",
    "                        subsample=0.8,\n",
    "                        silent=0,\n",
    "                        objective='binary:logistic',\n",
    "                        early_stopping_rounds=10,\n",
    "                        num_round=500)"
   ]
  },
  {
   "cell_type": "markdown",
   "metadata": {},
   "source": [
    "### Fit the XGBoost model\n",
    "\n",
    "Now that our model has been set up we simply need to attach the training and validation datasets and then ask SageMaker to set up the computation."
   ]
  },
  {
   "cell_type": "code",
   "execution_count": 26,
   "metadata": {},
   "outputs": [
    {
     "name": "stderr",
     "output_type": "stream",
     "text": [
      "'s3_input' class will be renamed to 'TrainingInput' in SageMaker Python SDK v2.\n",
      "'s3_input' class will be renamed to 'TrainingInput' in SageMaker Python SDK v2.\n"
     ]
    }
   ],
   "source": [
    "s3_input_train = sagemaker.s3_input(s3_data=train_location, content_type='csv')\n",
    "s3_input_validation = sagemaker.s3_input(s3_data=val_location, content_type='csv')"
   ]
  },
  {
   "cell_type": "code",
   "execution_count": 27,
   "metadata": {},
   "outputs": [
    {
     "name": "stdout",
     "output_type": "stream",
     "text": [
      "2022-02-07 07:02:08 Starting - Starting the training job...\n",
      "2022-02-07 07:02:19 Starting - Launching requested ML instances......\n",
      "2022-02-07 07:03:28 Starting - Preparing the instances for training.........\n",
      "2022-02-07 07:04:59 Downloading - Downloading input data...\n",
      "2022-02-07 07:05:20 Training - Downloading the training image.\u001b[34mArguments: train\u001b[0m\n",
      "\u001b[34m[2022-02-07:07:05:42:INFO] Running standalone xgboost training.\u001b[0m\n",
      "\u001b[34m[2022-02-07:07:05:42:INFO] File size need to be processed in the node: 238.47mb. Available memory size in the node: 8362.86mb\u001b[0m\n",
      "\u001b[34m[2022-02-07:07:05:42:INFO] Determined delimiter of CSV input is ','\u001b[0m\n",
      "\u001b[34m[07:05:42] S3DistributionType set as FullyReplicated\u001b[0m\n",
      "\u001b[34m[07:05:44] 15000x5000 matrix with 75000000 entries loaded from /opt/ml/input/data/train?format=csv&label_column=0&delimiter=,\u001b[0m\n",
      "\u001b[34m[2022-02-07:07:05:44:INFO] Determined delimiter of CSV input is ','\u001b[0m\n",
      "\u001b[34m[07:05:44] S3DistributionType set as FullyReplicated\u001b[0m\n",
      "\u001b[34m[07:05:45] 10000x5000 matrix with 50000000 entries loaded from /opt/ml/input/data/validation?format=csv&label_column=0&delimiter=,\u001b[0m\n",
      "\u001b[34m[07:05:49] src/tree/updater_prune.cc:74: tree pruning end, 1 roots, 42 extra nodes, 0 pruned nodes, max_depth=5\u001b[0m\n",
      "\u001b[34m[0]#011train-error:0.296667#011validation-error:0.3032\u001b[0m\n",
      "\u001b[34mMultiple eval metrics have been passed: 'validation-error' will be used for early stopping.\u001b[0m\n",
      "\u001b[34mWill train until validation-error hasn't improved in 10 rounds.\u001b[0m\n",
      "\u001b[34m[07:05:51] src/tree/updater_prune.cc:74: tree pruning end, 1 roots, 48 extra nodes, 4 pruned nodes, max_depth=5\u001b[0m\n",
      "\u001b[34m[1]#011train-error:0.281#011validation-error:0.2858\u001b[0m\n",
      "\u001b[34m[07:05:53] src/tree/updater_prune.cc:74: tree pruning end, 1 roots, 36 extra nodes, 6 pruned nodes, max_depth=5\u001b[0m\n",
      "\u001b[34m[2]#011train-error:0.277867#011validation-error:0.2831\u001b[0m\n",
      "\u001b[34m[07:05:54] src/tree/updater_prune.cc:74: tree pruning end, 1 roots, 30 extra nodes, 4 pruned nodes, max_depth=5\u001b[0m\n",
      "\u001b[34m[3]#011train-error:0.275933#011validation-error:0.2823\u001b[0m\n",
      "\u001b[34m[07:05:55] src/tree/updater_prune.cc:74: tree pruning end, 1 roots, 34 extra nodes, 8 pruned nodes, max_depth=5\u001b[0m\n",
      "\u001b[34m[4]#011train-error:0.269333#011validation-error:0.2795\u001b[0m\n",
      "\u001b[34m[07:05:57] src/tree/updater_prune.cc:74: tree pruning end, 1 roots, 34 extra nodes, 0 pruned nodes, max_depth=5\u001b[0m\n",
      "\u001b[34m[5]#011train-error:0.257667#011validation-error:0.2668\u001b[0m\n",
      "\u001b[34m[07:05:58] src/tree/updater_prune.cc:74: tree pruning end, 1 roots, 30 extra nodes, 4 pruned nodes, max_depth=5\u001b[0m\n",
      "\u001b[34m[6]#011train-error:0.2462#011validation-error:0.2608\u001b[0m\n",
      "\n",
      "2022-02-07 07:05:41 Training - Training image download completed. Training in progress.\u001b[34m[07:06:00] src/tree/updater_prune.cc:74: tree pruning end, 1 roots, 34 extra nodes, 2 pruned nodes, max_depth=5\u001b[0m\n",
      "\u001b[34m[7]#011train-error:0.2394#011validation-error:0.2539\u001b[0m\n",
      "\u001b[34m[07:06:01] src/tree/updater_prune.cc:74: tree pruning end, 1 roots, 36 extra nodes, 2 pruned nodes, max_depth=5\u001b[0m\n",
      "\u001b[34m[8]#011train-error:0.2304#011validation-error:0.2469\u001b[0m\n",
      "\u001b[34m[07:06:03] src/tree/updater_prune.cc:74: tree pruning end, 1 roots, 28 extra nodes, 10 pruned nodes, max_depth=5\u001b[0m\n",
      "\u001b[34m[9]#011train-error:0.2244#011validation-error:0.24\u001b[0m\n",
      "\u001b[34m[07:06:05] src/tree/updater_prune.cc:74: tree pruning end, 1 roots, 24 extra nodes, 10 pruned nodes, max_depth=5\u001b[0m\n",
      "\u001b[34m[10]#011train-error:0.220933#011validation-error:0.2371\u001b[0m\n",
      "\u001b[34m[07:06:06] src/tree/updater_prune.cc:74: tree pruning end, 1 roots, 30 extra nodes, 8 pruned nodes, max_depth=5\u001b[0m\n",
      "\u001b[34m[11]#011train-error:0.214667#011validation-error:0.2323\u001b[0m\n",
      "\u001b[34m[07:06:08] src/tree/updater_prune.cc:74: tree pruning end, 1 roots, 32 extra nodes, 6 pruned nodes, max_depth=5\u001b[0m\n",
      "\u001b[34m[12]#011train-error:0.2086#011validation-error:0.2247\u001b[0m\n",
      "\u001b[34m[07:06:09] src/tree/updater_prune.cc:74: tree pruning end, 1 roots, 34 extra nodes, 6 pruned nodes, max_depth=5\u001b[0m\n",
      "\u001b[34m[13]#011train-error:0.206267#011validation-error:0.2256\u001b[0m\n",
      "\u001b[34m[07:06:11] src/tree/updater_prune.cc:74: tree pruning end, 1 roots, 32 extra nodes, 8 pruned nodes, max_depth=5\u001b[0m\n",
      "\u001b[34m[14]#011train-error:0.204933#011validation-error:0.2242\u001b[0m\n",
      "\u001b[34m[07:06:12] src/tree/updater_prune.cc:74: tree pruning end, 1 roots, 20 extra nodes, 14 pruned nodes, max_depth=5\u001b[0m\n",
      "\u001b[34m[15]#011train-error:0.201333#011validation-error:0.2205\u001b[0m\n",
      "\u001b[34m[07:06:13] src/tree/updater_prune.cc:74: tree pruning end, 1 roots, 44 extra nodes, 8 pruned nodes, max_depth=5\u001b[0m\n",
      "\u001b[34m[16]#011train-error:0.1964#011validation-error:0.2165\u001b[0m\n",
      "\u001b[34m[07:06:15] src/tree/updater_prune.cc:74: tree pruning end, 1 roots, 32 extra nodes, 4 pruned nodes, max_depth=5\u001b[0m\n",
      "\u001b[34m[17]#011train-error:0.1954#011validation-error:0.2139\u001b[0m\n",
      "\u001b[34m[07:06:16] src/tree/updater_prune.cc:74: tree pruning end, 1 roots, 38 extra nodes, 4 pruned nodes, max_depth=5\u001b[0m\n",
      "\u001b[34m[18]#011train-error:0.1922#011validation-error:0.2119\u001b[0m\n",
      "\u001b[34m[07:06:18] src/tree/updater_prune.cc:74: tree pruning end, 1 roots, 26 extra nodes, 6 pruned nodes, max_depth=5\u001b[0m\n",
      "\u001b[34m[19]#011train-error:0.189667#011validation-error:0.2082\u001b[0m\n",
      "\u001b[34m[07:06:19] src/tree/updater_prune.cc:74: tree pruning end, 1 roots, 28 extra nodes, 10 pruned nodes, max_depth=5\u001b[0m\n",
      "\u001b[34m[20]#011train-error:0.185267#011validation-error:0.2058\u001b[0m\n",
      "\u001b[34m[07:06:20] src/tree/updater_prune.cc:74: tree pruning end, 1 roots, 36 extra nodes, 8 pruned nodes, max_depth=5\u001b[0m\n",
      "\u001b[34m[21]#011train-error:0.183#011validation-error:0.2022\u001b[0m\n",
      "\u001b[34m[07:06:22] src/tree/updater_prune.cc:74: tree pruning end, 1 roots, 20 extra nodes, 12 pruned nodes, max_depth=5\u001b[0m\n",
      "\u001b[34m[22]#011train-error:0.1816#011validation-error:0.2008\u001b[0m\n",
      "\u001b[34m[07:06:23] src/tree/updater_prune.cc:74: tree pruning end, 1 roots, 34 extra nodes, 8 pruned nodes, max_depth=5\u001b[0m\n",
      "\u001b[34m[23]#011train-error:0.1772#011validation-error:0.1998\u001b[0m\n",
      "\u001b[34m[07:06:25] src/tree/updater_prune.cc:74: tree pruning end, 1 roots, 30 extra nodes, 6 pruned nodes, max_depth=5\u001b[0m\n",
      "\u001b[34m[24]#011train-error:0.1748#011validation-error:0.1996\u001b[0m\n",
      "\u001b[34m[07:06:26] src/tree/updater_prune.cc:74: tree pruning end, 1 roots, 22 extra nodes, 6 pruned nodes, max_depth=5\u001b[0m\n",
      "\u001b[34m[25]#011train-error:0.1726#011validation-error:0.1981\u001b[0m\n",
      "\u001b[34m[07:06:28] src/tree/updater_prune.cc:74: tree pruning end, 1 roots, 24 extra nodes, 4 pruned nodes, max_depth=5\u001b[0m\n",
      "\u001b[34m[26]#011train-error:0.170533#011validation-error:0.1965\u001b[0m\n",
      "\u001b[34m[07:06:29] src/tree/updater_prune.cc:74: tree pruning end, 1 roots, 16 extra nodes, 14 pruned nodes, max_depth=5\u001b[0m\n",
      "\u001b[34m[27]#011train-error:0.1682#011validation-error:0.1947\u001b[0m\n",
      "\u001b[34m[07:06:31] src/tree/updater_prune.cc:74: tree pruning end, 1 roots, 26 extra nodes, 6 pruned nodes, max_depth=5\u001b[0m\n",
      "\u001b[34m[28]#011train-error:0.166533#011validation-error:0.1934\u001b[0m\n",
      "\u001b[34m[07:06:32] src/tree/updater_prune.cc:74: tree pruning end, 1 roots, 38 extra nodes, 4 pruned nodes, max_depth=5\u001b[0m\n",
      "\u001b[34m[29]#011train-error:0.164333#011validation-error:0.1914\u001b[0m\n",
      "\u001b[34m[07:06:33] src/tree/updater_prune.cc:74: tree pruning end, 1 roots, 30 extra nodes, 12 pruned nodes, max_depth=5\u001b[0m\n",
      "\u001b[34m[30]#011train-error:0.162133#011validation-error:0.1902\u001b[0m\n",
      "\u001b[34m[07:06:35] src/tree/updater_prune.cc:74: tree pruning end, 1 roots, 28 extra nodes, 6 pruned nodes, max_depth=5\u001b[0m\n",
      "\u001b[34m[31]#011train-error:0.161667#011validation-error:0.1888\u001b[0m\n",
      "\u001b[34m[07:06:36] src/tree/updater_prune.cc:74: tree pruning end, 1 roots, 34 extra nodes, 10 pruned nodes, max_depth=5\u001b[0m\n",
      "\u001b[34m[32]#011train-error:0.159533#011validation-error:0.1877\u001b[0m\n",
      "\u001b[34m[07:06:38] src/tree/updater_prune.cc:74: tree pruning end, 1 roots, 34 extra nodes, 14 pruned nodes, max_depth=5\u001b[0m\n",
      "\u001b[34m[33]#011train-error:0.1582#011validation-error:0.187\u001b[0m\n",
      "\u001b[34m[07:06:39] src/tree/updater_prune.cc:74: tree pruning end, 1 roots, 24 extra nodes, 16 pruned nodes, max_depth=5\u001b[0m\n",
      "\u001b[34m[34]#011train-error:0.1566#011validation-error:0.187\u001b[0m\n",
      "\u001b[34m[07:06:40] src/tree/updater_prune.cc:74: tree pruning end, 1 roots, 32 extra nodes, 12 pruned nodes, max_depth=5\u001b[0m\n",
      "\u001b[34m[35]#011train-error:0.1544#011validation-error:0.1856\u001b[0m\n",
      "\u001b[34m[07:06:42] src/tree/updater_prune.cc:74: tree pruning end, 1 roots, 18 extra nodes, 12 pruned nodes, max_depth=5\u001b[0m\n",
      "\u001b[34m[36]#011train-error:0.153467#011validation-error:0.1844\u001b[0m\n",
      "\u001b[34m[07:06:43] src/tree/updater_prune.cc:74: tree pruning end, 1 roots, 22 extra nodes, 6 pruned nodes, max_depth=5\u001b[0m\n",
      "\u001b[34m[37]#011train-error:0.152867#011validation-error:0.1818\u001b[0m\n",
      "\u001b[34m[07:06:45] src/tree/updater_prune.cc:74: tree pruning end, 1 roots, 16 extra nodes, 6 pruned nodes, max_depth=5\u001b[0m\n",
      "\u001b[34m[38]#011train-error:0.152133#011validation-error:0.1824\u001b[0m\n",
      "\u001b[34m[07:06:46] src/tree/updater_prune.cc:74: tree pruning end, 1 roots, 10 extra nodes, 14 pruned nodes, max_depth=5\u001b[0m\n",
      "\u001b[34m[39]#011train-error:0.152#011validation-error:0.1821\u001b[0m\n",
      "\u001b[34m[07:06:48] src/tree/updater_prune.cc:74: tree pruning end, 1 roots, 24 extra nodes, 6 pruned nodes, max_depth=5\u001b[0m\n",
      "\u001b[34m[40]#011train-error:0.149333#011validation-error:0.1799\u001b[0m\n",
      "\u001b[34m[07:06:49] src/tree/updater_prune.cc:74: tree pruning end, 1 roots, 26 extra nodes, 4 pruned nodes, max_depth=5\u001b[0m\n",
      "\u001b[34m[41]#011train-error:0.1486#011validation-error:0.1785\u001b[0m\n"
     ]
    },
    {
     "name": "stdout",
     "output_type": "stream",
     "text": [
      "\u001b[34m[07:06:50] src/tree/updater_prune.cc:74: tree pruning end, 1 roots, 20 extra nodes, 6 pruned nodes, max_depth=5\u001b[0m\n",
      "\u001b[34m[42]#011train-error:0.1468#011validation-error:0.1785\u001b[0m\n",
      "\u001b[34m[07:06:52] src/tree/updater_prune.cc:74: tree pruning end, 1 roots, 18 extra nodes, 18 pruned nodes, max_depth=5\u001b[0m\n",
      "\u001b[34m[43]#011train-error:0.145733#011validation-error:0.1773\u001b[0m\n",
      "\u001b[34m[07:06:53] src/tree/updater_prune.cc:74: tree pruning end, 1 roots, 28 extra nodes, 8 pruned nodes, max_depth=5\u001b[0m\n",
      "\u001b[34m[44]#011train-error:0.142933#011validation-error:0.1768\u001b[0m\n",
      "\u001b[34m[07:06:55] src/tree/updater_prune.cc:74: tree pruning end, 1 roots, 30 extra nodes, 10 pruned nodes, max_depth=5\u001b[0m\n",
      "\u001b[34m[45]#011train-error:0.142067#011validation-error:0.1758\u001b[0m\n",
      "\u001b[34m[07:06:56] src/tree/updater_prune.cc:74: tree pruning end, 1 roots, 18 extra nodes, 18 pruned nodes, max_depth=5\u001b[0m\n",
      "\u001b[34m[46]#011train-error:0.1416#011validation-error:0.1739\u001b[0m\n",
      "\u001b[34m[07:06:58] src/tree/updater_prune.cc:74: tree pruning end, 1 roots, 20 extra nodes, 16 pruned nodes, max_depth=5\u001b[0m\n",
      "\u001b[34m[47]#011train-error:0.139533#011validation-error:0.1741\u001b[0m\n",
      "\u001b[34m[07:06:59] src/tree/updater_prune.cc:74: tree pruning end, 1 roots, 30 extra nodes, 4 pruned nodes, max_depth=5\u001b[0m\n",
      "\u001b[34m[48]#011train-error:0.1382#011validation-error:0.1736\u001b[0m\n",
      "\u001b[34m[07:07:00] src/tree/updater_prune.cc:74: tree pruning end, 1 roots, 12 extra nodes, 8 pruned nodes, max_depth=5\u001b[0m\n",
      "\u001b[34m[49]#011train-error:0.137267#011validation-error:0.1726\u001b[0m\n",
      "\u001b[34m[07:07:02] src/tree/updater_prune.cc:74: tree pruning end, 1 roots, 20 extra nodes, 10 pruned nodes, max_depth=5\u001b[0m\n",
      "\u001b[34m[50]#011train-error:0.1368#011validation-error:0.1712\u001b[0m\n",
      "\u001b[34m[07:07:03] src/tree/updater_prune.cc:74: tree pruning end, 1 roots, 22 extra nodes, 12 pruned nodes, max_depth=5\u001b[0m\n",
      "\u001b[34m[51]#011train-error:0.1354#011validation-error:0.1706\u001b[0m\n",
      "\u001b[34m[07:07:05] src/tree/updater_prune.cc:74: tree pruning end, 1 roots, 22 extra nodes, 14 pruned nodes, max_depth=5\u001b[0m\n",
      "\u001b[34m[52]#011train-error:0.1356#011validation-error:0.1704\u001b[0m\n",
      "\u001b[34m[07:07:07] src/tree/updater_prune.cc:74: tree pruning end, 1 roots, 18 extra nodes, 16 pruned nodes, max_depth=5\u001b[0m\n",
      "\u001b[34m[53]#011train-error:0.135333#011validation-error:0.1697\u001b[0m\n",
      "\u001b[34m[07:07:08] src/tree/updater_prune.cc:74: tree pruning end, 1 roots, 22 extra nodes, 8 pruned nodes, max_depth=5\u001b[0m\n",
      "\u001b[34m[54]#011train-error:0.135333#011validation-error:0.1695\u001b[0m\n",
      "\u001b[34m[07:07:10] src/tree/updater_prune.cc:74: tree pruning end, 1 roots, 16 extra nodes, 10 pruned nodes, max_depth=5\u001b[0m\n",
      "\u001b[34m[55]#011train-error:0.134267#011validation-error:0.1689\u001b[0m\n",
      "\u001b[34m[07:07:11] src/tree/updater_prune.cc:74: tree pruning end, 1 roots, 16 extra nodes, 14 pruned nodes, max_depth=5\u001b[0m\n",
      "\u001b[34m[56]#011train-error:0.1322#011validation-error:0.168\u001b[0m\n",
      "\u001b[34m[07:07:13] src/tree/updater_prune.cc:74: tree pruning end, 1 roots, 18 extra nodes, 6 pruned nodes, max_depth=5\u001b[0m\n",
      "\u001b[34m[57]#011train-error:0.1316#011validation-error:0.1679\u001b[0m\n",
      "\u001b[34m[07:07:14] src/tree/updater_prune.cc:74: tree pruning end, 1 roots, 18 extra nodes, 10 pruned nodes, max_depth=5\u001b[0m\n",
      "\u001b[34m[58]#011train-error:0.1312#011validation-error:0.1678\u001b[0m\n",
      "\u001b[34m[07:07:15] src/tree/updater_prune.cc:74: tree pruning end, 1 roots, 12 extra nodes, 12 pruned nodes, max_depth=5\u001b[0m\n",
      "\u001b[34m[59]#011train-error:0.130333#011validation-error:0.1684\u001b[0m\n",
      "\u001b[34m[07:07:17] src/tree/updater_prune.cc:74: tree pruning end, 1 roots, 14 extra nodes, 18 pruned nodes, max_depth=5\u001b[0m\n",
      "\u001b[34m[60]#011train-error:0.1298#011validation-error:0.167\u001b[0m\n",
      "\u001b[34m[07:07:18] src/tree/updater_prune.cc:74: tree pruning end, 1 roots, 28 extra nodes, 8 pruned nodes, max_depth=5\u001b[0m\n",
      "\u001b[34m[61]#011train-error:0.1298#011validation-error:0.1668\u001b[0m\n",
      "\u001b[34m[07:07:20] src/tree/updater_prune.cc:74: tree pruning end, 1 roots, 18 extra nodes, 10 pruned nodes, max_depth=5\u001b[0m\n",
      "\u001b[34m[62]#011train-error:0.129133#011validation-error:0.1669\u001b[0m\n",
      "\u001b[34m[07:07:21] src/tree/updater_prune.cc:74: tree pruning end, 1 roots, 28 extra nodes, 12 pruned nodes, max_depth=5\u001b[0m\n",
      "\u001b[34m[63]#011train-error:0.127067#011validation-error:0.1666\u001b[0m\n",
      "\u001b[34m[07:07:22] src/tree/updater_prune.cc:74: tree pruning end, 1 roots, 28 extra nodes, 18 pruned nodes, max_depth=5\u001b[0m\n",
      "\u001b[34m[64]#011train-error:0.126333#011validation-error:0.1653\u001b[0m\n",
      "\u001b[34m[07:07:24] src/tree/updater_prune.cc:74: tree pruning end, 1 roots, 10 extra nodes, 18 pruned nodes, max_depth=5\u001b[0m\n",
      "\u001b[34m[65]#011train-error:0.126467#011validation-error:0.1647\u001b[0m\n",
      "\u001b[34m[07:07:25] src/tree/updater_prune.cc:74: tree pruning end, 1 roots, 18 extra nodes, 6 pruned nodes, max_depth=5\u001b[0m\n",
      "\u001b[34m[66]#011train-error:0.125667#011validation-error:0.1648\u001b[0m\n",
      "\u001b[34m[07:07:27] src/tree/updater_prune.cc:74: tree pruning end, 1 roots, 20 extra nodes, 10 pruned nodes, max_depth=5\u001b[0m\n",
      "\u001b[34m[67]#011train-error:0.124533#011validation-error:0.1643\u001b[0m\n",
      "\u001b[34m[07:07:28] src/tree/updater_prune.cc:74: tree pruning end, 1 roots, 26 extra nodes, 10 pruned nodes, max_depth=5\u001b[0m\n",
      "\u001b[34m[68]#011train-error:0.123267#011validation-error:0.1647\u001b[0m\n",
      "\u001b[34m[07:07:30] src/tree/updater_prune.cc:74: tree pruning end, 1 roots, 18 extra nodes, 18 pruned nodes, max_depth=5\u001b[0m\n",
      "\u001b[34m[69]#011train-error:0.123267#011validation-error:0.1646\u001b[0m\n",
      "\u001b[34m[07:07:31] src/tree/updater_prune.cc:74: tree pruning end, 1 roots, 12 extra nodes, 8 pruned nodes, max_depth=5\u001b[0m\n",
      "\u001b[34m[70]#011train-error:0.122667#011validation-error:0.1647\u001b[0m\n",
      "\u001b[34m[07:07:32] src/tree/updater_prune.cc:74: tree pruning end, 1 roots, 14 extra nodes, 16 pruned nodes, max_depth=5\u001b[0m\n",
      "\u001b[34m[71]#011train-error:0.122733#011validation-error:0.1637\u001b[0m\n",
      "\u001b[34m[07:07:34] src/tree/updater_prune.cc:74: tree pruning end, 1 roots, 18 extra nodes, 10 pruned nodes, max_depth=5\u001b[0m\n",
      "\u001b[34m[72]#011train-error:0.122#011validation-error:0.1631\u001b[0m\n",
      "\u001b[34m[07:07:35] src/tree/updater_prune.cc:74: tree pruning end, 1 roots, 16 extra nodes, 6 pruned nodes, max_depth=5\u001b[0m\n",
      "\u001b[34m[73]#011train-error:0.121533#011validation-error:0.1621\u001b[0m\n",
      "\u001b[34m[07:07:37] src/tree/updater_prune.cc:74: tree pruning end, 1 roots, 22 extra nodes, 12 pruned nodes, max_depth=5\u001b[0m\n",
      "\u001b[34m[74]#011train-error:0.1208#011validation-error:0.1616\u001b[0m\n",
      "\u001b[34m[07:07:38] src/tree/updater_prune.cc:74: tree pruning end, 1 roots, 20 extra nodes, 10 pruned nodes, max_depth=5\u001b[0m\n",
      "\u001b[34m[75]#011train-error:0.119667#011validation-error:0.1603\u001b[0m\n",
      "\u001b[34m[07:07:39] src/tree/updater_prune.cc:74: tree pruning end, 1 roots, 10 extra nodes, 6 pruned nodes, max_depth=5\u001b[0m\n",
      "\u001b[34m[76]#011train-error:0.119333#011validation-error:0.1604\u001b[0m\n",
      "\u001b[34m[07:07:41] src/tree/updater_prune.cc:74: tree pruning end, 1 roots, 26 extra nodes, 6 pruned nodes, max_depth=5\u001b[0m\n",
      "\u001b[34m[77]#011train-error:0.118667#011validation-error:0.1606\u001b[0m\n",
      "\u001b[34m[07:07:42] src/tree/updater_prune.cc:74: tree pruning end, 1 roots, 22 extra nodes, 6 pruned nodes, max_depth=5\u001b[0m\n",
      "\u001b[34m[78]#011train-error:0.1188#011validation-error:0.1588\u001b[0m\n",
      "\u001b[34m[07:07:44] src/tree/updater_prune.cc:74: tree pruning end, 1 roots, 10 extra nodes, 8 pruned nodes, max_depth=5\u001b[0m\n",
      "\u001b[34m[79]#011train-error:0.118067#011validation-error:0.1589\u001b[0m\n",
      "\u001b[34m[07:07:45] src/tree/updater_prune.cc:74: tree pruning end, 1 roots, 28 extra nodes, 10 pruned nodes, max_depth=5\u001b[0m\n",
      "\u001b[34m[80]#011train-error:0.1172#011validation-error:0.159\u001b[0m\n",
      "\u001b[34m[07:07:47] src/tree/updater_prune.cc:74: tree pruning end, 1 roots, 18 extra nodes, 8 pruned nodes, max_depth=5\u001b[0m\n",
      "\u001b[34m[81]#011train-error:0.116533#011validation-error:0.1585\u001b[0m\n",
      "\u001b[34m[07:07:48] src/tree/updater_prune.cc:74: tree pruning end, 1 roots, 18 extra nodes, 18 pruned nodes, max_depth=5\u001b[0m\n",
      "\u001b[34m[82]#011train-error:0.1154#011validation-error:0.1577\u001b[0m\n",
      "\u001b[34m[07:07:49] src/tree/updater_prune.cc:74: tree pruning end, 1 roots, 12 extra nodes, 8 pruned nodes, max_depth=5\u001b[0m\n",
      "\u001b[34m[83]#011train-error:0.114333#011validation-error:0.1565\u001b[0m\n",
      "\u001b[34m[07:07:51] src/tree/updater_prune.cc:74: tree pruning end, 1 roots, 22 extra nodes, 10 pruned nodes, max_depth=5\u001b[0m\n",
      "\u001b[34m[84]#011train-error:0.114333#011validation-error:0.1566\u001b[0m\n",
      "\u001b[34m[07:07:52] src/tree/updater_prune.cc:74: tree pruning end, 1 roots, 20 extra nodes, 4 pruned nodes, max_depth=5\u001b[0m\n",
      "\u001b[34m[85]#011train-error:0.113267#011validation-error:0.1561\u001b[0m\n",
      "\u001b[34m[07:07:54] src/tree/updater_prune.cc:74: tree pruning end, 1 roots, 10 extra nodes, 4 pruned nodes, max_depth=5\u001b[0m\n",
      "\u001b[34m[86]#011train-error:0.112867#011validation-error:0.1561\u001b[0m\n",
      "\u001b[34m[07:07:55] src/tree/updater_prune.cc:74: tree pruning end, 1 roots, 12 extra nodes, 0 pruned nodes, max_depth=5\u001b[0m\n",
      "\u001b[34m[87]#011train-error:0.1122#011validation-error:0.1554\u001b[0m\n",
      "\u001b[34m[07:07:57] src/tree/updater_prune.cc:74: tree pruning end, 1 roots, 14 extra nodes, 16 pruned nodes, max_depth=5\u001b[0m\n",
      "\u001b[34m[88]#011train-error:0.111933#011validation-error:0.1554\u001b[0m\n",
      "\u001b[34m[07:07:58] src/tree/updater_prune.cc:74: tree pruning end, 1 roots, 24 extra nodes, 2 pruned nodes, max_depth=5\u001b[0m\n",
      "\u001b[34m[89]#011train-error:0.110533#011validation-error:0.1553\u001b[0m\n",
      "\u001b[34m[07:08:00] src/tree/updater_prune.cc:74: tree pruning end, 1 roots, 18 extra nodes, 6 pruned nodes, max_depth=5\u001b[0m\n",
      "\u001b[34m[90]#011train-error:0.1098#011validation-error:0.1553\u001b[0m\n"
     ]
    },
    {
     "name": "stdout",
     "output_type": "stream",
     "text": [
      "\u001b[34m[07:08:01] src/tree/updater_prune.cc:74: tree pruning end, 1 roots, 16 extra nodes, 12 pruned nodes, max_depth=5\u001b[0m\n",
      "\u001b[34m[91]#011train-error:0.109467#011validation-error:0.1551\u001b[0m\n",
      "\u001b[34m[07:08:03] src/tree/updater_prune.cc:74: tree pruning end, 1 roots, 12 extra nodes, 12 pruned nodes, max_depth=5\u001b[0m\n",
      "\u001b[34m[92]#011train-error:0.109067#011validation-error:0.155\u001b[0m\n",
      "\u001b[34m[07:08:04] src/tree/updater_prune.cc:74: tree pruning end, 1 roots, 18 extra nodes, 14 pruned nodes, max_depth=5\u001b[0m\n",
      "\u001b[34m[93]#011train-error:0.1088#011validation-error:0.1547\u001b[0m\n",
      "\u001b[34m[07:08:06] src/tree/updater_prune.cc:74: tree pruning end, 1 roots, 20 extra nodes, 4 pruned nodes, max_depth=5\u001b[0m\n",
      "\u001b[34m[94]#011train-error:0.108333#011validation-error:0.1534\u001b[0m\n",
      "\u001b[34m[07:08:07] src/tree/updater_prune.cc:74: tree pruning end, 1 roots, 14 extra nodes, 10 pruned nodes, max_depth=5\u001b[0m\n",
      "\u001b[34m[95]#011train-error:0.108133#011validation-error:0.1544\u001b[0m\n",
      "\u001b[34m[07:08:09] src/tree/updater_prune.cc:74: tree pruning end, 1 roots, 16 extra nodes, 14 pruned nodes, max_depth=5\u001b[0m\n",
      "\u001b[34m[96]#011train-error:0.107933#011validation-error:0.1547\u001b[0m\n",
      "\u001b[34m[07:08:10] src/tree/updater_prune.cc:74: tree pruning end, 1 roots, 12 extra nodes, 6 pruned nodes, max_depth=5\u001b[0m\n",
      "\u001b[34m[97]#011train-error:0.1078#011validation-error:0.1546\u001b[0m\n",
      "\u001b[34m[07:08:12] src/tree/updater_prune.cc:74: tree pruning end, 1 roots, 18 extra nodes, 2 pruned nodes, max_depth=5\u001b[0m\n",
      "\u001b[34m[98]#011train-error:0.108133#011validation-error:0.1546\u001b[0m\n",
      "\u001b[34m[07:08:13] src/tree/updater_prune.cc:74: tree pruning end, 1 roots, 12 extra nodes, 4 pruned nodes, max_depth=5\u001b[0m\n",
      "\u001b[34m[99]#011train-error:0.108067#011validation-error:0.1542\u001b[0m\n",
      "\u001b[34m[07:08:15] src/tree/updater_prune.cc:74: tree pruning end, 1 roots, 18 extra nodes, 10 pruned nodes, max_depth=5\u001b[0m\n",
      "\u001b[34m[100]#011train-error:0.1078#011validation-error:0.1538\u001b[0m\n",
      "\u001b[34m[07:08:16] src/tree/updater_prune.cc:74: tree pruning end, 1 roots, 12 extra nodes, 2 pruned nodes, max_depth=5\u001b[0m\n",
      "\u001b[34m[101]#011train-error:0.107067#011validation-error:0.1533\u001b[0m\n",
      "\u001b[34m[07:08:17] src/tree/updater_prune.cc:74: tree pruning end, 1 roots, 18 extra nodes, 16 pruned nodes, max_depth=5\u001b[0m\n",
      "\u001b[34m[102]#011train-error:0.106733#011validation-error:0.1528\u001b[0m\n",
      "\u001b[34m[07:08:19] src/tree/updater_prune.cc:74: tree pruning end, 1 roots, 10 extra nodes, 6 pruned nodes, max_depth=5\u001b[0m\n",
      "\u001b[34m[103]#011train-error:0.106133#011validation-error:0.1526\u001b[0m\n",
      "\u001b[34m[07:08:20] src/tree/updater_prune.cc:74: tree pruning end, 1 roots, 24 extra nodes, 8 pruned nodes, max_depth=5\u001b[0m\n",
      "\u001b[34m[104]#011train-error:0.106133#011validation-error:0.1522\u001b[0m\n",
      "\u001b[34m[07:08:22] src/tree/updater_prune.cc:74: tree pruning end, 1 roots, 10 extra nodes, 6 pruned nodes, max_depth=5\u001b[0m\n",
      "\u001b[34m[105]#011train-error:0.105267#011validation-error:0.1517\u001b[0m\n",
      "\u001b[34m[07:08:23] src/tree/updater_prune.cc:74: tree pruning end, 1 roots, 16 extra nodes, 16 pruned nodes, max_depth=5\u001b[0m\n",
      "\u001b[34m[106]#011train-error:0.105#011validation-error:0.151\u001b[0m\n",
      "\u001b[34m[07:08:24] src/tree/updater_prune.cc:74: tree pruning end, 1 roots, 22 extra nodes, 10 pruned nodes, max_depth=5\u001b[0m\n",
      "\u001b[34m[107]#011train-error:0.104933#011validation-error:0.1515\u001b[0m\n",
      "\u001b[34m[07:08:26] src/tree/updater_prune.cc:74: tree pruning end, 1 roots, 14 extra nodes, 8 pruned nodes, max_depth=5\u001b[0m\n",
      "\u001b[34m[108]#011train-error:0.104267#011validation-error:0.1514\u001b[0m\n",
      "\u001b[34m[07:08:27] src/tree/updater_prune.cc:74: tree pruning end, 1 roots, 16 extra nodes, 10 pruned nodes, max_depth=5\u001b[0m\n",
      "\u001b[34m[109]#011train-error:0.104067#011validation-error:0.1514\u001b[0m\n",
      "\u001b[34m[07:08:29] src/tree/updater_prune.cc:74: tree pruning end, 1 roots, 14 extra nodes, 14 pruned nodes, max_depth=5\u001b[0m\n",
      "\u001b[34m[110]#011train-error:0.103667#011validation-error:0.1514\u001b[0m\n",
      "\u001b[34m[07:08:30] src/tree/updater_prune.cc:74: tree pruning end, 1 roots, 12 extra nodes, 10 pruned nodes, max_depth=5\u001b[0m\n",
      "\u001b[34m[111]#011train-error:0.1032#011validation-error:0.1521\u001b[0m\n",
      "\u001b[34m[07:08:32] src/tree/updater_prune.cc:74: tree pruning end, 1 roots, 14 extra nodes, 12 pruned nodes, max_depth=5\u001b[0m\n",
      "\u001b[34m[112]#011train-error:0.103467#011validation-error:0.1518\u001b[0m\n",
      "\u001b[34m[07:08:33] src/tree/updater_prune.cc:74: tree pruning end, 1 roots, 18 extra nodes, 16 pruned nodes, max_depth=5\u001b[0m\n",
      "\u001b[34m[113]#011train-error:0.102933#011validation-error:0.1505\u001b[0m\n",
      "\u001b[34m[07:08:35] src/tree/updater_prune.cc:74: tree pruning end, 1 roots, 16 extra nodes, 0 pruned nodes, max_depth=5\u001b[0m\n",
      "\u001b[34m[114]#011train-error:0.1028#011validation-error:0.1507\u001b[0m\n",
      "\u001b[34m[07:08:36] src/tree/updater_prune.cc:74: tree pruning end, 1 roots, 12 extra nodes, 16 pruned nodes, max_depth=5\u001b[0m\n",
      "\u001b[34m[115]#011train-error:0.102733#011validation-error:0.1508\u001b[0m\n",
      "\u001b[34m[07:08:37] src/tree/updater_prune.cc:74: tree pruning end, 1 roots, 12 extra nodes, 12 pruned nodes, max_depth=5\u001b[0m\n",
      "\u001b[34m[116]#011train-error:0.102733#011validation-error:0.151\u001b[0m\n",
      "\u001b[34m[07:08:39] src/tree/updater_prune.cc:74: tree pruning end, 1 roots, 16 extra nodes, 8 pruned nodes, max_depth=5\u001b[0m\n",
      "\u001b[34m[117]#011train-error:0.1018#011validation-error:0.1513\u001b[0m\n",
      "\u001b[34m[07:08:40] src/tree/updater_prune.cc:74: tree pruning end, 1 roots, 10 extra nodes, 6 pruned nodes, max_depth=5\u001b[0m\n",
      "\u001b[34m[118]#011train-error:0.1018#011validation-error:0.1501\u001b[0m\n",
      "\u001b[34m[07:08:42] src/tree/updater_prune.cc:74: tree pruning end, 1 roots, 18 extra nodes, 16 pruned nodes, max_depth=5\u001b[0m\n",
      "\u001b[34m[119]#011train-error:0.101667#011validation-error:0.1494\u001b[0m\n",
      "\u001b[34m[07:08:43] src/tree/updater_prune.cc:74: tree pruning end, 1 roots, 18 extra nodes, 12 pruned nodes, max_depth=5\u001b[0m\n",
      "\u001b[34m[120]#011train-error:0.101067#011validation-error:0.1491\u001b[0m\n",
      "\u001b[34m[07:08:44] src/tree/updater_prune.cc:74: tree pruning end, 1 roots, 24 extra nodes, 8 pruned nodes, max_depth=5\u001b[0m\n",
      "\u001b[34m[121]#011train-error:0.1002#011validation-error:0.15\u001b[0m\n",
      "\u001b[34m[07:08:46] src/tree/updater_prune.cc:74: tree pruning end, 1 roots, 18 extra nodes, 10 pruned nodes, max_depth=5\u001b[0m\n",
      "\u001b[34m[122]#011train-error:0.100133#011validation-error:0.1493\u001b[0m\n",
      "\u001b[34m[07:08:47] src/tree/updater_prune.cc:74: tree pruning end, 1 roots, 20 extra nodes, 16 pruned nodes, max_depth=5\u001b[0m\n",
      "\u001b[34m[123]#011train-error:0.099867#011validation-error:0.1484\u001b[0m\n",
      "\u001b[34m[07:08:49] src/tree/updater_prune.cc:74: tree pruning end, 1 roots, 12 extra nodes, 2 pruned nodes, max_depth=5\u001b[0m\n",
      "\u001b[34m[124]#011train-error:0.099067#011validation-error:0.1493\u001b[0m\n",
      "\u001b[34m[07:08:50] src/tree/updater_prune.cc:74: tree pruning end, 1 roots, 10 extra nodes, 8 pruned nodes, max_depth=5\u001b[0m\n",
      "\u001b[34m[125]#011train-error:0.098667#011validation-error:0.1489\u001b[0m\n",
      "\u001b[34m[07:08:51] src/tree/updater_prune.cc:74: tree pruning end, 1 roots, 14 extra nodes, 4 pruned nodes, max_depth=5\u001b[0m\n",
      "\u001b[34m[126]#011train-error:0.0988#011validation-error:0.148\u001b[0m\n",
      "\u001b[34m[07:08:53] src/tree/updater_prune.cc:74: tree pruning end, 1 roots, 10 extra nodes, 12 pruned nodes, max_depth=5\u001b[0m\n",
      "\u001b[34m[127]#011train-error:0.0988#011validation-error:0.1479\u001b[0m\n",
      "\u001b[34m[07:08:54] src/tree/updater_prune.cc:74: tree pruning end, 1 roots, 20 extra nodes, 10 pruned nodes, max_depth=5\u001b[0m\n",
      "\u001b[34m[128]#011train-error:0.098467#011validation-error:0.1477\u001b[0m\n",
      "\u001b[34m[07:08:56] src/tree/updater_prune.cc:74: tree pruning end, 1 roots, 20 extra nodes, 10 pruned nodes, max_depth=5\u001b[0m\n",
      "\u001b[34m[129]#011train-error:0.098333#011validation-error:0.1482\u001b[0m\n",
      "\u001b[34m[07:08:57] src/tree/updater_prune.cc:74: tree pruning end, 1 roots, 14 extra nodes, 8 pruned nodes, max_depth=5\u001b[0m\n",
      "\u001b[34m[130]#011train-error:0.0978#011validation-error:0.1478\u001b[0m\n",
      "\u001b[34m[07:08:59] src/tree/updater_prune.cc:74: tree pruning end, 1 roots, 20 extra nodes, 4 pruned nodes, max_depth=5\u001b[0m\n",
      "\u001b[34m[131]#011train-error:0.097467#011validation-error:0.1471\u001b[0m\n",
      "\u001b[34m[07:09:00] src/tree/updater_prune.cc:74: tree pruning end, 1 roots, 16 extra nodes, 10 pruned nodes, max_depth=5\u001b[0m\n",
      "\u001b[34m[132]#011train-error:0.097133#011validation-error:0.1467\u001b[0m\n",
      "\u001b[34m[07:09:02] src/tree/updater_prune.cc:74: tree pruning end, 1 roots, 14 extra nodes, 6 pruned nodes, max_depth=5\u001b[0m\n",
      "\u001b[34m[133]#011train-error:0.097133#011validation-error:0.147\u001b[0m\n",
      "\u001b[34m[07:09:03] src/tree/updater_prune.cc:74: tree pruning end, 1 roots, 20 extra nodes, 2 pruned nodes, max_depth=5\u001b[0m\n",
      "\u001b[34m[134]#011train-error:0.096333#011validation-error:0.1477\u001b[0m\n",
      "\u001b[34m[07:09:05] src/tree/updater_prune.cc:74: tree pruning end, 1 roots, 16 extra nodes, 8 pruned nodes, max_depth=5\u001b[0m\n",
      "\u001b[34m[135]#011train-error:0.096133#011validation-error:0.1484\u001b[0m\n",
      "\u001b[34m[07:09:06] src/tree/updater_prune.cc:74: tree pruning end, 1 roots, 14 extra nodes, 10 pruned nodes, max_depth=5\u001b[0m\n",
      "\u001b[34m[136]#011train-error:0.0956#011validation-error:0.1474\u001b[0m\n",
      "\u001b[34m[07:09:08] src/tree/updater_prune.cc:74: tree pruning end, 1 roots, 12 extra nodes, 14 pruned nodes, max_depth=5\u001b[0m\n",
      "\u001b[34m[137]#011train-error:0.0954#011validation-error:0.1477\u001b[0m\n",
      "\u001b[34m[07:09:09] src/tree/updater_prune.cc:74: tree pruning end, 1 roots, 10 extra nodes, 4 pruned nodes, max_depth=5\u001b[0m\n",
      "\u001b[34m[138]#011train-error:0.095267#011validation-error:0.1476\u001b[0m\n",
      "\u001b[34m[07:09:11] src/tree/updater_prune.cc:74: tree pruning end, 1 roots, 10 extra nodes, 10 pruned nodes, max_depth=5\u001b[0m\n",
      "\u001b[34m[139]#011train-error:0.095467#011validation-error:0.1468\u001b[0m\n",
      "\u001b[34m[07:09:12] src/tree/updater_prune.cc:74: tree pruning end, 1 roots, 16 extra nodes, 12 pruned nodes, max_depth=5\u001b[0m\n",
      "\u001b[34m[140]#011train-error:0.0954#011validation-error:0.1471\u001b[0m\n"
     ]
    },
    {
     "name": "stdout",
     "output_type": "stream",
     "text": [
      "\u001b[34m[07:09:14] src/tree/updater_prune.cc:74: tree pruning end, 1 roots, 16 extra nodes, 10 pruned nodes, max_depth=5\u001b[0m\n",
      "\u001b[34m[141]#011train-error:0.094933#011validation-error:0.147\u001b[0m\n",
      "\u001b[34m[07:09:15] src/tree/updater_prune.cc:74: tree pruning end, 1 roots, 12 extra nodes, 6 pruned nodes, max_depth=5\u001b[0m\n",
      "\u001b[34m[142]#011train-error:0.0944#011validation-error:0.1475\u001b[0m\n",
      "\u001b[34mStopping. Best iteration:\u001b[0m\n",
      "\u001b[34m[132]#011train-error:0.097133#011validation-error:0.1467\u001b[0m\n",
      "\n",
      "2022-02-07 07:09:24 Uploading - Uploading generated training model\n",
      "2022-02-07 07:09:24 Completed - Training job completed\n",
      "Training seconds: 265\n",
      "Billable seconds: 265\n"
     ]
    }
   ],
   "source": [
    "xgb.fit({'train': s3_input_train, 'validation': s3_input_validation})"
   ]
  },
  {
   "cell_type": "markdown",
   "metadata": {},
   "source": [
    "### Testing the model\n",
    "\n",
    "Now that we've fit our XGBoost model, it's time to see how well it performs. To do this we will use SageMakers Batch Transform functionality. Batch Transform is a convenient way to perform inference on a large dataset in a way that is not realtime. That is, we don't necessarily need to use our model's results immediately and instead we can peform inference on a large number of samples. An example of this in industry might be peforming an end of month report. This method of inference can also be useful to us as it means to can perform inference on our entire test set. \n",
    "\n",
    "To perform a Batch Transformation we need to first create a transformer objects from our trained estimator object."
   ]
  },
  {
   "cell_type": "code",
   "execution_count": 28,
   "metadata": {},
   "outputs": [
    {
     "name": "stderr",
     "output_type": "stream",
     "text": [
      "Parameter image will be renamed to image_uri in SageMaker Python SDK v2.\n"
     ]
    }
   ],
   "source": [
    "xgb_transformer = xgb.transformer(instance_count = 1, instance_type = 'ml.m4.xlarge')"
   ]
  },
  {
   "cell_type": "markdown",
   "metadata": {},
   "source": [
    "Next we actually perform the transform job. When doing so we need to make sure to specify the type of data we are sending so that it is serialized correctly in the background. In our case we are providing our model with csv data so we specify `text/csv`. Also, if the test data that we have provided is too large to process all at once then we need to specify how the data file should be split up. Since each line is a single entry in our data set we tell SageMaker that it can split the input on each line."
   ]
  },
  {
   "cell_type": "code",
   "execution_count": 29,
   "metadata": {},
   "outputs": [],
   "source": [
    "xgb_transformer.transform(test_location, content_type='text/csv', split_type='Line')"
   ]
  },
  {
   "cell_type": "markdown",
   "metadata": {},
   "source": [
    "Currently the transform job is running but it is doing so in the background. Since we wish to wait until the transform job is done and we would like a bit of feedback we can run the `wait()` method."
   ]
  },
  {
   "cell_type": "code",
   "execution_count": 30,
   "metadata": {},
   "outputs": [
    {
     "name": "stdout",
     "output_type": "stream",
     "text": [
      ".....................................\u001b[34mArguments: serve\u001b[0m\n",
      "\u001b[34m[2022-02-07 07:15:55 +0000] [1] [INFO] Starting gunicorn 19.9.0\u001b[0m\n",
      "\u001b[34m[2022-02-07 07:15:55 +0000] [1] [INFO] Listening at: http://0.0.0.0:8080 (1)\u001b[0m\n",
      "\u001b[34m[2022-02-07 07:15:55 +0000] [1] [INFO] Using worker: gevent\u001b[0m\n",
      "\u001b[34m[2022-02-07 07:15:55 +0000] [21] [INFO] Booting worker with pid: 21\u001b[0m\n",
      "\u001b[34m[2022-02-07 07:15:55 +0000] [22] [INFO] Booting worker with pid: 22\u001b[0m\n",
      "\u001b[34m[2022-02-07 07:15:55 +0000] [23] [INFO] Booting worker with pid: 23\u001b[0m\n",
      "\u001b[34m[2022-02-07 07:15:55 +0000] [24] [INFO] Booting worker with pid: 24\u001b[0m\n",
      "\u001b[34m/opt/amazon/lib/python3.7/site-packages/gunicorn/workers/ggevent.py:65: MonkeyPatchWarning: Monkey-patching ssl after ssl has already been imported may lead to errors, including RecursionError on Python 3.6. It may also silently lead to incorrect behaviour on Python 3.7. Please monkey-patch earlier. See https://github.com/gevent/gevent/issues/1016. Modules that had direct imports (NOT patched): ['urllib3.util.ssl_ (/opt/amazon/lib/python3.7/site-packages/urllib3/util/ssl_.py)', 'urllib3.util (/opt/amazon/lib/python3.7/site-packages/urllib3/util/__init__.py)']. \n",
      "  monkey.patch_all(subprocess=True)\u001b[0m\n",
      "\u001b[34m/opt/amazon/lib/python3.7/site-packages/gunicorn/workers/ggevent.py:65: MonkeyPatchWarning: Monkey-patching ssl after ssl has already been imported may lead to errors, including RecursionError on Python 3.6. It may also silently lead to incorrect behaviour on Python 3.7. Please monkey-patch earlier. See https://github.com/gevent/gevent/issues/1016. Modules that had direct imports (NOT patched): ['urllib3.util.ssl_ (/opt/amazon/lib/python3.7/site-packages/urllib3/util/ssl_.py)', 'urllib3.util (/opt/amazon/lib/python3.7/site-packages/urllib3/util/__init__.py)']. \n",
      "  monkey.patch_all(subprocess=True)\u001b[0m\n",
      "\u001b[34m[2022-02-07:07:15:55:INFO] Model loaded successfully for worker : 21\u001b[0m\n",
      "\u001b[34m[2022-02-07:07:15:55:INFO] Model loaded successfully for worker : 22\u001b[0m\n",
      "\u001b[34m/opt/amazon/lib/python3.7/site-packages/gunicorn/workers/ggevent.py:65: MonkeyPatchWarning: Monkey-patching ssl after ssl has already been imported may lead to errors, including RecursionError on Python 3.6. It may also silently lead to incorrect behaviour on Python 3.7. Please monkey-patch earlier. See https://github.com/gevent/gevent/issues/1016. Modules that had direct imports (NOT patched): ['urllib3.util.ssl_ (/opt/amazon/lib/python3.7/site-packages/urllib3/util/ssl_.py)', 'urllib3.util (/opt/amazon/lib/python3.7/site-packages/urllib3/util/__init__.py)']. \n",
      "  monkey.patch_all(subprocess=True)\u001b[0m\n",
      "\u001b[34m[2022-02-07:07:15:55:INFO] Model loaded successfully for worker : 23\u001b[0m\n",
      "\u001b[34m/opt/amazon/lib/python3.7/site-packages/gunicorn/workers/ggevent.py:65: MonkeyPatchWarning: Monkey-patching ssl after ssl has already been imported may lead to errors, including RecursionError on Python 3.6. It may also silently lead to incorrect behaviour on Python 3.7. Please monkey-patch earlier. See https://github.com/gevent/gevent/issues/1016. Modules that had direct imports (NOT patched): ['urllib3.util.ssl_ (/opt/amazon/lib/python3.7/site-packages/urllib3/util/ssl_.py)', 'urllib3.util (/opt/amazon/lib/python3.7/site-packages/urllib3/util/__init__.py)']. \n",
      "  monkey.patch_all(subprocess=True)\u001b[0m\n",
      "\u001b[34m[2022-02-07:07:15:55:INFO] Model loaded successfully for worker : 24\u001b[0m\n",
      "\u001b[35mArguments: serve\u001b[0m\n",
      "\u001b[35m[2022-02-07 07:15:55 +0000] [1] [INFO] Starting gunicorn 19.9.0\u001b[0m\n",
      "\u001b[35m[2022-02-07 07:15:55 +0000] [1] [INFO] Listening at: http://0.0.0.0:8080 (1)\u001b[0m\n",
      "\u001b[35m[2022-02-07 07:15:55 +0000] [1] [INFO] Using worker: gevent\u001b[0m\n",
      "\u001b[35m[2022-02-07 07:15:55 +0000] [21] [INFO] Booting worker with pid: 21\u001b[0m\n",
      "\u001b[35m[2022-02-07 07:15:55 +0000] [22] [INFO] Booting worker with pid: 22\u001b[0m\n",
      "\u001b[35m[2022-02-07 07:15:55 +0000] [23] [INFO] Booting worker with pid: 23\u001b[0m\n",
      "\u001b[35m[2022-02-07 07:15:55 +0000] [24] [INFO] Booting worker with pid: 24\u001b[0m\n",
      "\u001b[35m/opt/amazon/lib/python3.7/site-packages/gunicorn/workers/ggevent.py:65: MonkeyPatchWarning: Monkey-patching ssl after ssl has already been imported may lead to errors, including RecursionError on Python 3.6. It may also silently lead to incorrect behaviour on Python 3.7. Please monkey-patch earlier. See https://github.com/gevent/gevent/issues/1016. Modules that had direct imports (NOT patched): ['urllib3.util.ssl_ (/opt/amazon/lib/python3.7/site-packages/urllib3/util/ssl_.py)', 'urllib3.util (/opt/amazon/lib/python3.7/site-packages/urllib3/util/__init__.py)']. \n",
      "  monkey.patch_all(subprocess=True)\u001b[0m\n",
      "\u001b[35m/opt/amazon/lib/python3.7/site-packages/gunicorn/workers/ggevent.py:65: MonkeyPatchWarning: Monkey-patching ssl after ssl has already been imported may lead to errors, including RecursionError on Python 3.6. It may also silently lead to incorrect behaviour on Python 3.7. Please monkey-patch earlier. See https://github.com/gevent/gevent/issues/1016. Modules that had direct imports (NOT patched): ['urllib3.util.ssl_ (/opt/amazon/lib/python3.7/site-packages/urllib3/util/ssl_.py)', 'urllib3.util (/opt/amazon/lib/python3.7/site-packages/urllib3/util/__init__.py)']. \n",
      "  monkey.patch_all(subprocess=True)\u001b[0m\n",
      "\u001b[35m[2022-02-07:07:15:55:INFO] Model loaded successfully for worker : 21\u001b[0m\n",
      "\u001b[35m[2022-02-07:07:15:55:INFO] Model loaded successfully for worker : 22\u001b[0m\n",
      "\u001b[35m/opt/amazon/lib/python3.7/site-packages/gunicorn/workers/ggevent.py:65: MonkeyPatchWarning: Monkey-patching ssl after ssl has already been imported may lead to errors, including RecursionError on Python 3.6. It may also silently lead to incorrect behaviour on Python 3.7. Please monkey-patch earlier. See https://github.com/gevent/gevent/issues/1016. Modules that had direct imports (NOT patched): ['urllib3.util.ssl_ (/opt/amazon/lib/python3.7/site-packages/urllib3/util/ssl_.py)', 'urllib3.util (/opt/amazon/lib/python3.7/site-packages/urllib3/util/__init__.py)']. \n",
      "  monkey.patch_all(subprocess=True)\u001b[0m\n",
      "\u001b[35m[2022-02-07:07:15:55:INFO] Model loaded successfully for worker : 23\u001b[0m\n",
      "\u001b[35m/opt/amazon/lib/python3.7/site-packages/gunicorn/workers/ggevent.py:65: MonkeyPatchWarning: Monkey-patching ssl after ssl has already been imported may lead to errors, including RecursionError on Python 3.6. It may also silently lead to incorrect behaviour on Python 3.7. Please monkey-patch earlier. See https://github.com/gevent/gevent/issues/1016. Modules that had direct imports (NOT patched): ['urllib3.util.ssl_ (/opt/amazon/lib/python3.7/site-packages/urllib3/util/ssl_.py)', 'urllib3.util (/opt/amazon/lib/python3.7/site-packages/urllib3/util/__init__.py)']. \n",
      "  monkey.patch_all(subprocess=True)\u001b[0m\n",
      "\u001b[35m[2022-02-07:07:15:55:INFO] Model loaded successfully for worker : 24\u001b[0m\n",
      "\u001b[34m[2022-02-07:07:16:02:INFO] Sniff delimiter as ','\u001b[0m\n",
      "\u001b[34m[2022-02-07:07:16:02:INFO] Determined delimiter of CSV input is ','\u001b[0m\n",
      "\u001b[34m[2022-02-07:07:16:02:INFO] Sniff delimiter as ','\u001b[0m\n",
      "\u001b[34m[2022-02-07:07:16:02:INFO] Determined delimiter of CSV input is ','\u001b[0m\n",
      "\u001b[34m[2022-02-07:07:16:02:INFO] Sniff delimiter as ','\u001b[0m\n",
      "\u001b[34m[2022-02-07:07:16:02:INFO] Determined delimiter of CSV input is ','\u001b[0m\n",
      "\u001b[35m[2022-02-07:07:16:02:INFO] Sniff delimiter as ','\u001b[0m\n",
      "\u001b[35m[2022-02-07:07:16:02:INFO] Determined delimiter of CSV input is ','\u001b[0m\n",
      "\u001b[35m[2022-02-07:07:16:02:INFO] Sniff delimiter as ','\u001b[0m\n",
      "\u001b[35m[2022-02-07:07:16:02:INFO] Determined delimiter of CSV input is ','\u001b[0m\n",
      "\u001b[35m[2022-02-07:07:16:02:INFO] Sniff delimiter as ','\u001b[0m\n",
      "\u001b[35m[2022-02-07:07:16:02:INFO] Determined delimiter of CSV input is ','\u001b[0m\n",
      "\u001b[32m2022-02-07T07:15:59.491:[sagemaker logs]: MaxConcurrentTransforms=4, MaxPayloadInMB=6, BatchStrategy=MULTI_RECORD\u001b[0m\n",
      "\u001b[34m[2022-02-07:07:16:02:INFO] Sniff delimiter as ','\u001b[0m\n",
      "\u001b[34m[2022-02-07:07:16:02:INFO] Determined delimiter of CSV input is ','\u001b[0m\n",
      "\u001b[35m[2022-02-07:07:16:02:INFO] Sniff delimiter as ','\u001b[0m\n",
      "\u001b[35m[2022-02-07:07:16:02:INFO] Determined delimiter of CSV input is ','\u001b[0m\n",
      "\u001b[34m[2022-02-07:07:16:06:INFO] Sniff delimiter as ','\u001b[0m\n",
      "\u001b[34m[2022-02-07:07:16:06:INFO] Determined delimiter of CSV input is ','\u001b[0m\n",
      "\u001b[34m[2022-02-07:07:16:06:INFO] Sniff delimiter as ','\u001b[0m\n",
      "\u001b[34m[2022-02-07:07:16:06:INFO] Determined delimiter of CSV input is ','\u001b[0m\n",
      "\u001b[34m[2022-02-07:07:16:06:INFO] Sniff delimiter as ','\u001b[0m\n",
      "\u001b[34m[2022-02-07:07:16:06:INFO] Determined delimiter of CSV input is ','\u001b[0m\n",
      "\u001b[35m[2022-02-07:07:16:06:INFO] Sniff delimiter as ','\u001b[0m\n",
      "\u001b[35m[2022-02-07:07:16:06:INFO] Determined delimiter of CSV input is ','\u001b[0m\n",
      "\u001b[35m[2022-02-07:07:16:06:INFO] Sniff delimiter as ','\u001b[0m\n",
      "\u001b[35m[2022-02-07:07:16:06:INFO] Determined delimiter of CSV input is ','\u001b[0m\n",
      "\u001b[35m[2022-02-07:07:16:06:INFO] Sniff delimiter as ','\u001b[0m\n",
      "\u001b[35m[2022-02-07:07:16:06:INFO] Determined delimiter of CSV input is ','\u001b[0m\n"
     ]
    },
    {
     "name": "stdout",
     "output_type": "stream",
     "text": [
      "\u001b[34m[2022-02-07:07:16:10:INFO] Sniff delimiter as ','\u001b[0m\n",
      "\u001b[34m[2022-02-07:07:16:10:INFO] Determined delimiter of CSV input is ','\u001b[0m\n",
      "\u001b[35m[2022-02-07:07:16:10:INFO] Sniff delimiter as ','\u001b[0m\n",
      "\u001b[35m[2022-02-07:07:16:10:INFO] Determined delimiter of CSV input is ','\u001b[0m\n",
      "\u001b[34m[2022-02-07:07:16:10:INFO] Sniff delimiter as ','\u001b[0m\n",
      "\u001b[34m[2022-02-07:07:16:10:INFO] Determined delimiter of CSV input is ','\u001b[0m\n",
      "\u001b[35m[2022-02-07:07:16:10:INFO] Sniff delimiter as ','\u001b[0m\n",
      "\u001b[35m[2022-02-07:07:16:10:INFO] Determined delimiter of CSV input is ','\u001b[0m\n",
      "\u001b[34m[2022-02-07:07:16:12:INFO] Sniff delimiter as ','\u001b[0m\n",
      "\u001b[34m[2022-02-07:07:16:12:INFO] Determined delimiter of CSV input is ','\u001b[0m\n",
      "\u001b[35m[2022-02-07:07:16:12:INFO] Sniff delimiter as ','\u001b[0m\n",
      "\u001b[35m[2022-02-07:07:16:12:INFO] Determined delimiter of CSV input is ','\u001b[0m\n",
      "\u001b[34m[2022-02-07:07:16:14:INFO] Sniff delimiter as ','\u001b[0m\n",
      "\u001b[34m[2022-02-07:07:16:14:INFO] Determined delimiter of CSV input is ','\u001b[0m\n",
      "\u001b[34m[2022-02-07:07:16:14:INFO] Sniff delimiter as ','\u001b[0m\n",
      "\u001b[34m[2022-02-07:07:16:14:INFO] Determined delimiter of CSV input is ','\u001b[0m\n",
      "\u001b[34m[2022-02-07:07:16:14:INFO] Sniff delimiter as ','\u001b[0m\n",
      "\u001b[34m[2022-02-07:07:16:14:INFO] Determined delimiter of CSV input is ','\u001b[0m\n",
      "\u001b[35m[2022-02-07:07:16:14:INFO] Sniff delimiter as ','\u001b[0m\n",
      "\u001b[35m[2022-02-07:07:16:14:INFO] Determined delimiter of CSV input is ','\u001b[0m\n",
      "\u001b[35m[2022-02-07:07:16:14:INFO] Sniff delimiter as ','\u001b[0m\n",
      "\u001b[35m[2022-02-07:07:16:14:INFO] Determined delimiter of CSV input is ','\u001b[0m\n",
      "\u001b[35m[2022-02-07:07:16:14:INFO] Sniff delimiter as ','\u001b[0m\n",
      "\u001b[35m[2022-02-07:07:16:14:INFO] Determined delimiter of CSV input is ','\u001b[0m\n",
      "\u001b[34m[2022-02-07:07:16:16:INFO] Sniff delimiter as ','\u001b[0m\n",
      "\u001b[34m[2022-02-07:07:16:16:INFO] Determined delimiter of CSV input is ','\u001b[0m\n",
      "\u001b[35m[2022-02-07:07:16:16:INFO] Sniff delimiter as ','\u001b[0m\n",
      "\u001b[35m[2022-02-07:07:16:16:INFO] Determined delimiter of CSV input is ','\u001b[0m\n",
      "\u001b[34m[2022-02-07:07:16:18:INFO] Sniff delimiter as ','\u001b[0m\n",
      "\u001b[34m[2022-02-07:07:16:18:INFO] Determined delimiter of CSV input is ','\u001b[0m\n",
      "\u001b[34m[2022-02-07:07:16:18:INFO] Sniff delimiter as ','\u001b[0m\n",
      "\u001b[34m[2022-02-07:07:16:18:INFO] Determined delimiter of CSV input is ','\u001b[0m\n",
      "\u001b[35m[2022-02-07:07:16:18:INFO] Sniff delimiter as ','\u001b[0m\n",
      "\u001b[35m[2022-02-07:07:16:18:INFO] Determined delimiter of CSV input is ','\u001b[0m\n",
      "\u001b[35m[2022-02-07:07:16:18:INFO] Sniff delimiter as ','\u001b[0m\n",
      "\u001b[35m[2022-02-07:07:16:18:INFO] Determined delimiter of CSV input is ','\u001b[0m\n",
      "\u001b[34m[2022-02-07:07:16:20:INFO] Sniff delimiter as ','\u001b[0m\n",
      "\u001b[34m[2022-02-07:07:16:20:INFO] Determined delimiter of CSV input is ','\u001b[0m\n",
      "\u001b[35m[2022-02-07:07:16:20:INFO] Sniff delimiter as ','\u001b[0m\n",
      "\u001b[35m[2022-02-07:07:16:20:INFO] Determined delimiter of CSV input is ','\u001b[0m\n",
      "\u001b[34m[2022-02-07:07:16:21:INFO] Sniff delimiter as ','\u001b[0m\n",
      "\u001b[34m[2022-02-07:07:16:21:INFO] Determined delimiter of CSV input is ','\u001b[0m\n",
      "\u001b[34m[2022-02-07:07:16:22:INFO] Sniff delimiter as ','\u001b[0m\n",
      "\u001b[34m[2022-02-07:07:16:22:INFO] Determined delimiter of CSV input is ','\u001b[0m\n",
      "\u001b[35m[2022-02-07:07:16:21:INFO] Sniff delimiter as ','\u001b[0m\n",
      "\u001b[35m[2022-02-07:07:16:21:INFO] Determined delimiter of CSV input is ','\u001b[0m\n",
      "\u001b[35m[2022-02-07:07:16:22:INFO] Sniff delimiter as ','\u001b[0m\n",
      "\u001b[35m[2022-02-07:07:16:22:INFO] Determined delimiter of CSV input is ','\u001b[0m\n",
      "\u001b[34m[2022-02-07:07:16:22:INFO] Sniff delimiter as ','\u001b[0m\n",
      "\u001b[34m[2022-02-07:07:16:22:INFO] Determined delimiter of CSV input is ','\u001b[0m\n",
      "\u001b[35m[2022-02-07:07:16:22:INFO] Sniff delimiter as ','\u001b[0m\n",
      "\u001b[35m[2022-02-07:07:16:22:INFO] Determined delimiter of CSV input is ','\u001b[0m\n",
      "\u001b[34m[2022-02-07:07:16:24:INFO] Sniff delimiter as ','\u001b[0m\n",
      "\u001b[34m[2022-02-07:07:16:24:INFO] Determined delimiter of CSV input is ','\u001b[0m\n",
      "\u001b[35m[2022-02-07:07:16:24:INFO] Sniff delimiter as ','\u001b[0m\n",
      "\u001b[35m[2022-02-07:07:16:24:INFO] Determined delimiter of CSV input is ','\u001b[0m\n",
      "\u001b[34m[2022-02-07:07:16:25:INFO] Sniff delimiter as ','\u001b[0m\n",
      "\u001b[34m[2022-02-07:07:16:25:INFO] Determined delimiter of CSV input is ','\u001b[0m\n",
      "\u001b[35m[2022-02-07:07:16:25:INFO] Sniff delimiter as ','\u001b[0m\n",
      "\u001b[35m[2022-02-07:07:16:25:INFO] Determined delimiter of CSV input is ','\u001b[0m\n",
      "\u001b[34m[2022-02-07:07:16:25:INFO] Sniff delimiter as ','\u001b[0m\n",
      "\u001b[34m[2022-02-07:07:16:25:INFO] Determined delimiter of CSV input is ','\u001b[0m\n",
      "\u001b[34m[2022-02-07:07:16:25:INFO] Sniff delimiter as ','\u001b[0m\n",
      "\u001b[34m[2022-02-07:07:16:25:INFO] Determined delimiter of CSV input is ','\u001b[0m\n",
      "\u001b[35m[2022-02-07:07:16:25:INFO] Sniff delimiter as ','\u001b[0m\n",
      "\u001b[35m[2022-02-07:07:16:25:INFO] Determined delimiter of CSV input is ','\u001b[0m\n",
      "\u001b[35m[2022-02-07:07:16:25:INFO] Sniff delimiter as ','\u001b[0m\n",
      "\u001b[35m[2022-02-07:07:16:25:INFO] Determined delimiter of CSV input is ','\u001b[0m\n",
      "\u001b[34m[2022-02-07:07:16:27:INFO] Sniff delimiter as ','\u001b[0m\n",
      "\u001b[34m[2022-02-07:07:16:27:INFO] Determined delimiter of CSV input is ','\u001b[0m\n",
      "\u001b[35m[2022-02-07:07:16:27:INFO] Sniff delimiter as ','\u001b[0m\n",
      "\u001b[35m[2022-02-07:07:16:27:INFO] Determined delimiter of CSV input is ','\u001b[0m\n",
      "\u001b[34m[2022-02-07:07:16:29:INFO] Sniff delimiter as ','\u001b[0m\n",
      "\u001b[34m[2022-02-07:07:16:29:INFO] Determined delimiter of CSV input is ','\u001b[0m\n",
      "\u001b[34m[2022-02-07:07:16:29:INFO] Sniff delimiter as ','\u001b[0m\n",
      "\u001b[34m[2022-02-07:07:16:29:INFO] Determined delimiter of CSV input is ','\u001b[0m\n",
      "\u001b[35m[2022-02-07:07:16:29:INFO] Sniff delimiter as ','\u001b[0m\n",
      "\u001b[35m[2022-02-07:07:16:29:INFO] Determined delimiter of CSV input is ','\u001b[0m\n",
      "\u001b[35m[2022-02-07:07:16:29:INFO] Sniff delimiter as ','\u001b[0m\n",
      "\u001b[35m[2022-02-07:07:16:29:INFO] Determined delimiter of CSV input is ','\u001b[0m\n",
      "\u001b[34m[2022-02-07:07:16:31:INFO] Sniff delimiter as ','\u001b[0m\n",
      "\u001b[34m[2022-02-07:07:16:31:INFO] Determined delimiter of CSV input is ','\u001b[0m\n",
      "\u001b[35m[2022-02-07:07:16:31:INFO] Sniff delimiter as ','\u001b[0m\n",
      "\u001b[35m[2022-02-07:07:16:31:INFO] Determined delimiter of CSV input is ','\u001b[0m\n",
      "\u001b[34m[2022-02-07:07:16:33:INFO] Sniff delimiter as ','\u001b[0m\n",
      "\u001b[34m[2022-02-07:07:16:33:INFO] Determined delimiter of CSV input is ','\u001b[0m\n",
      "\u001b[34m[2022-02-07:07:16:33:INFO] Sniff delimiter as ','\u001b[0m\n",
      "\u001b[35m[2022-02-07:07:16:33:INFO] Sniff delimiter as ','\u001b[0m\n",
      "\u001b[35m[2022-02-07:07:16:33:INFO] Determined delimiter of CSV input is ','\u001b[0m\n",
      "\u001b[35m[2022-02-07:07:16:33:INFO] Sniff delimiter as ','\u001b[0m\n",
      "\u001b[34m[2022-02-07:07:16:33:INFO] Determined delimiter of CSV input is ','\u001b[0m\n",
      "\u001b[34m[2022-02-07:07:16:33:INFO] Sniff delimiter as ','\u001b[0m\n",
      "\u001b[34m[2022-02-07:07:16:33:INFO] Determined delimiter of CSV input is ','\u001b[0m\n",
      "\u001b[35m[2022-02-07:07:16:33:INFO] Determined delimiter of CSV input is ','\u001b[0m\n",
      "\u001b[35m[2022-02-07:07:16:33:INFO] Sniff delimiter as ','\u001b[0m\n",
      "\u001b[35m[2022-02-07:07:16:33:INFO] Determined delimiter of CSV input is ','\u001b[0m\n",
      "\u001b[34m[2022-02-07:07:16:35:INFO] Sniff delimiter as ','\u001b[0m\n",
      "\u001b[34m[2022-02-07:07:16:35:INFO] Determined delimiter of CSV input is ','\u001b[0m\n",
      "\u001b[35m[2022-02-07:07:16:35:INFO] Sniff delimiter as ','\u001b[0m\n",
      "\u001b[35m[2022-02-07:07:16:35:INFO] Determined delimiter of CSV input is ','\u001b[0m\n",
      "\u001b[34m[2022-02-07:07:16:37:INFO] Sniff delimiter as ','\u001b[0m\n",
      "\u001b[34m[2022-02-07:07:16:37:INFO] Determined delimiter of CSV input is ','\u001b[0m\n",
      "\u001b[34m[2022-02-07:07:16:37:INFO] Sniff delimiter as ','\u001b[0m\n",
      "\u001b[34m[2022-02-07:07:16:37:INFO] Determined delimiter of CSV input is ','\u001b[0m\n",
      "\u001b[34m[2022-02-07:07:16:37:INFO] Sniff delimiter as ','\u001b[0m\n",
      "\u001b[34m[2022-02-07:07:16:37:INFO] Determined delimiter of CSV input is ','\u001b[0m\n",
      "\u001b[35m[2022-02-07:07:16:37:INFO] Sniff delimiter as ','\u001b[0m\n",
      "\u001b[35m[2022-02-07:07:16:37:INFO] Determined delimiter of CSV input is ','\u001b[0m\n",
      "\u001b[35m[2022-02-07:07:16:37:INFO] Sniff delimiter as ','\u001b[0m\n",
      "\u001b[35m[2022-02-07:07:16:37:INFO] Determined delimiter of CSV input is ','\u001b[0m\n",
      "\u001b[35m[2022-02-07:07:16:37:INFO] Sniff delimiter as ','\u001b[0m\n",
      "\u001b[35m[2022-02-07:07:16:37:INFO] Determined delimiter of CSV input is ','\u001b[0m\n",
      "\n"
     ]
    }
   ],
   "source": [
    "xgb_transformer.wait()"
   ]
  },
  {
   "cell_type": "markdown",
   "metadata": {},
   "source": [
    "Now the transform job has executed and the result, the estimated sentiment of each review, has been saved on S3. Since we would rather work on this file locally we can perform a bit of notebook magic to copy the file to the `data_dir`."
   ]
  },
  {
   "cell_type": "code",
   "execution_count": 31,
   "metadata": {},
   "outputs": [
    {
     "name": "stdout",
     "output_type": "stream",
     "text": [
      "Completed 256.0 KiB/473.3 KiB (2.7 MiB/s) with 1 file(s) remaining\r",
      "Completed 473.3 KiB/473.3 KiB (4.9 MiB/s) with 1 file(s) remaining\r",
      "download: s3://sagemaker-us-east-1-801008216402/xgboost-2022-02-07-07-09-58-725/test.csv.out to ../data/sentiment_update/test.csv.out\r\n"
     ]
    }
   ],
   "source": [
    "!aws s3 cp --recursive $xgb_transformer.output_path $data_dir"
   ]
  },
  {
   "cell_type": "markdown",
   "metadata": {},
   "source": [
    "The last step is now to read in the output from our model, convert the output to something a little more usable, in this case we want the sentiment to be either `1` (positive) or `0` (negative), and then compare to the ground truth labels."
   ]
  },
  {
   "cell_type": "code",
   "execution_count": 32,
   "metadata": {},
   "outputs": [],
   "source": [
    "predictions = pd.read_csv(os.path.join(data_dir, 'test.csv.out'), header=None)\n",
    "predictions = [round(num) for num in predictions.squeeze().values]"
   ]
  },
  {
   "cell_type": "code",
   "execution_count": 33,
   "metadata": {},
   "outputs": [
    {
     "data": {
      "text/plain": [
       "0.8578"
      ]
     },
     "execution_count": 33,
     "metadata": {},
     "output_type": "execute_result"
    }
   ],
   "source": [
    "from sklearn.metrics import accuracy_score\n",
    "accuracy_score(test_y, predictions)"
   ]
  },
  {
   "cell_type": "markdown",
   "metadata": {},
   "source": [
    "## Step 5: Looking at New Data\n",
    "\n",
    "So now we have an XGBoost sentiment analysis model that we believe is working pretty well. As a result, we deployed it and we are using it in some sort of app.\n",
    "\n",
    "However, as we allow users to use our app we periodically record submitted movie reviews so that we can perform some quality control on our deployed model. Once we've accumulated enough reviews we go through them by hand and evaluate whether they are positive or negative (there are many ways you might do this in practice aside from by hand). The reason for doing this is so that we can check to see how well our model is doing."
   ]
  },
  {
   "cell_type": "code",
   "execution_count": 34,
   "metadata": {},
   "outputs": [],
   "source": [
    "import new_data\n",
    "\n",
    "new_X, new_Y = new_data.get_new_data()"
   ]
  },
  {
   "cell_type": "markdown",
   "metadata": {},
   "source": [
    "**NOTE:** Part of the fun in this notebook is trying to figure out what exactly is happening with the new data, so try not to cheat by looking in the `new_data` module. Also, the `new_data` module assumes that the cache created earlier in Step 3 is still stored in `../cache/sentiment_analysis`."
   ]
  },
  {
   "cell_type": "markdown",
   "metadata": {},
   "source": [
    "### (TODO) Testing the current model\n",
    "\n",
    "Now that we've loaded the new data, let's check to see how our current XGBoost model performs on it.\n",
    "\n",
    "First, note that the data that has been loaded has already been pre-processed so that each entry in `new_X` is a list of words that have been processed using `nltk`. However, we have not yet constructed the bag of words encoding, which we will do now.\n",
    "\n",
    "First, we use the vocabulary that we constructed earlier using the original training data to construct a `CountVectorizer` which we will use to transform our new data into its bag of words encoding.\n",
    "\n",
    "**TODO:** Create the CountVectorizer object using the vocabulary created earlier and use it to transform the new data."
   ]
  },
  {
   "cell_type": "code",
   "execution_count": 35,
   "metadata": {},
   "outputs": [],
   "source": [
    "# TODO: Create the CountVectorizer using the previously constructed vocabulary\n",
    "# vectorizer = None\n",
    "\n",
    "# Solution:\n",
    "vectorizer = CountVectorizer(vocabulary=vocabulary,\n",
    "                preprocessor=lambda x: x, tokenizer=lambda x: x)\n",
    "\n",
    "# TODO: Transform our new data set and store the transformed data in the variable new_XV\n",
    "# new_XV = None\n",
    "\n",
    "# Solution\n",
    "new_XV = vectorizer.transform(new_X).toarray()"
   ]
  },
  {
   "cell_type": "markdown",
   "metadata": {},
   "source": [
    "As a quick sanity check, we make sure that the length of each of our bag of words encoded reviews is correct. In particular, it must be the same size as the vocabulary which in our case is `5000`."
   ]
  },
  {
   "cell_type": "code",
   "execution_count": 36,
   "metadata": {},
   "outputs": [
    {
     "data": {
      "text/plain": [
       "5000"
      ]
     },
     "execution_count": 36,
     "metadata": {},
     "output_type": "execute_result"
    }
   ],
   "source": [
    "len(new_XV[100])"
   ]
  },
  {
   "cell_type": "markdown",
   "metadata": {},
   "source": [
    "Now that we've performed the data processing that is required by our model we can save it locally and then upload it to S3 so that we can construct a batch transform job in order to see how well our model is working.\n",
    "\n",
    "First, we save the data locally.\n",
    "\n",
    "**TODO:** Save the new data (after it has been transformed using the original vocabulary) to the local notebook instance."
   ]
  },
  {
   "cell_type": "code",
   "execution_count": 37,
   "metadata": {},
   "outputs": [],
   "source": [
    "# TODO: Save the data contained in new_XV locally in the data_dir with the file name new_data.csv\n",
    "\n",
    "# Solution:\n",
    "pd.DataFrame(new_XV).to_csv(os.path.join(data_dir, 'new_data.csv'), header=False, index=False)"
   ]
  },
  {
   "cell_type": "markdown",
   "metadata": {},
   "source": [
    "Next, we upload the data to S3.\n",
    "\n",
    "**TODO:** Upload the csv file created above to S3."
   ]
  },
  {
   "cell_type": "code",
   "execution_count": 38,
   "metadata": {},
   "outputs": [],
   "source": [
    "# TODO: Upload the new_data.csv file contained in the data_dir folder to S3 and save the resulting\n",
    "#       URI as new_data_location\n",
    "\n",
    "# new_data_location = None\n",
    "\n",
    "# Solution:\n",
    "new_data_location = session.upload_data(os.path.join(data_dir, 'new_data.csv'), key_prefix=prefix)"
   ]
  },
  {
   "cell_type": "markdown",
   "metadata": {},
   "source": [
    "Then, once the new data has been uploaded to S3, we create and run the batch transform job to get our model's predictions about the sentiment of the new movie reviews.\n",
    "\n",
    "**TODO:** Using the `xgb_transformer` object that was created earlier (at the end of Step 4 to test the XGBoost model), transform the data located at `new_data_location`."
   ]
  },
  {
   "cell_type": "code",
   "execution_count": 39,
   "metadata": {},
   "outputs": [
    {
     "name": "stdout",
     "output_type": "stream",
     "text": [
      "..................................\u001b[34mArguments: serve\u001b[0m\n",
      "\u001b[34m[2022-02-07 07:23:19 +0000] [1] [INFO] Starting gunicorn 19.9.0\u001b[0m\n",
      "\u001b[34m[2022-02-07 07:23:19 +0000] [1] [INFO] Listening at: http://0.0.0.0:8080 (1)\u001b[0m\n",
      "\u001b[34m[2022-02-07 07:23:19 +0000] [1] [INFO] Using worker: gevent\u001b[0m\n",
      "\u001b[34m[2022-02-07 07:23:19 +0000] [21] [INFO] Booting worker with pid: 21\u001b[0m\n",
      "\u001b[34m[2022-02-07 07:23:19 +0000] [22] [INFO] Booting worker with pid: 22\u001b[0m\n",
      "\u001b[34m[2022-02-07 07:23:19 +0000] [23] [INFO] Booting worker with pid: 23\u001b[0m\n",
      "\u001b[35mArguments: serve\u001b[0m\n",
      "\u001b[35m[2022-02-07 07:23:19 +0000] [1] [INFO] Starting gunicorn 19.9.0\u001b[0m\n",
      "\u001b[35m[2022-02-07 07:23:19 +0000] [1] [INFO] Listening at: http://0.0.0.0:8080 (1)\u001b[0m\n",
      "\u001b[35m[2022-02-07 07:23:19 +0000] [1] [INFO] Using worker: gevent\u001b[0m\n",
      "\u001b[35m[2022-02-07 07:23:19 +0000] [21] [INFO] Booting worker with pid: 21\u001b[0m\n",
      "\u001b[35m[2022-02-07 07:23:19 +0000] [22] [INFO] Booting worker with pid: 22\u001b[0m\n",
      "\u001b[35m[2022-02-07 07:23:19 +0000] [23] [INFO] Booting worker with pid: 23\u001b[0m\n",
      "\u001b[34m/opt/amazon/lib/python3.7/site-packages/gunicorn/workers/ggevent.py:65: MonkeyPatchWarning: Monkey-patching ssl after ssl has already been imported may lead to errors, including RecursionError on Python 3.6. It may also silently lead to incorrect behaviour on Python 3.7. Please monkey-patch earlier. See https://github.com/gevent/gevent/issues/1016. Modules that had direct imports (NOT patched): ['urllib3.util (/opt/amazon/lib/python3.7/site-packages/urllib3/util/__init__.py)', 'urllib3.util.ssl_ (/opt/amazon/lib/python3.7/site-packages/urllib3/util/ssl_.py)']. \n",
      "  monkey.patch_all(subprocess=True)\u001b[0m\n",
      "\u001b[34m/opt/amazon/lib/python3.7/site-packages/gunicorn/workers/ggevent.py:65: MonkeyPatchWarning: Monkey-patching ssl after ssl has already been imported may lead to errors, including RecursionError on Python 3.6. It may also silently lead to incorrect behaviour on Python 3.7. Please monkey-patch earlier. See https://github.com/gevent/gevent/issues/1016. Modules that had direct imports (NOT patched): ['urllib3.util (/opt/amazon/lib/python3.7/site-packages/urllib3/util/__init__.py)', 'urllib3.util.ssl_ (/opt/amazon/lib/python3.7/site-packages/urllib3/util/ssl_.py)']. \n",
      "  monkey.patch_all(subprocess=True)\u001b[0m\n",
      "\u001b[34m[2022-02-07:07:23:19:INFO] Model loaded successfully for worker : 23\u001b[0m\n",
      "\u001b[34m[2022-02-07:07:23:19:INFO] Model loaded successfully for worker : 21\u001b[0m\n",
      "\u001b[34m/opt/amazon/lib/python3.7/site-packages/gunicorn/workers/ggevent.py:65: MonkeyPatchWarning: Monkey-patching ssl after ssl has already been imported may lead to errors, including RecursionError on Python 3.6. It may also silently lead to incorrect behaviour on Python 3.7. Please monkey-patch earlier. See https://github.com/gevent/gevent/issues/1016. Modules that had direct imports (NOT patched): ['urllib3.util (/opt/amazon/lib/python3.7/site-packages/urllib3/util/__init__.py)', 'urllib3.util.ssl_ (/opt/amazon/lib/python3.7/site-packages/urllib3/util/ssl_.py)']. \n",
      "  monkey.patch_all(subprocess=True)\u001b[0m\n",
      "\u001b[34m[2022-02-07:07:23:19:INFO] Model loaded successfully for worker : 22\u001b[0m\n",
      "\u001b[34m[2022-02-07 07:23:19 +0000] [24] [INFO] Booting worker with pid: 24\u001b[0m\n",
      "\u001b[34m/opt/amazon/lib/python3.7/site-packages/gunicorn/workers/ggevent.py:65: MonkeyPatchWarning: Monkey-patching ssl after ssl has already been imported may lead to errors, including RecursionError on Python 3.6. It may also silently lead to incorrect behaviour on Python 3.7. Please monkey-patch earlier. See https://github.com/gevent/gevent/issues/1016. Modules that had direct imports (NOT patched): ['urllib3.util (/opt/amazon/lib/python3.7/site-packages/urllib3/util/__init__.py)', 'urllib3.util.ssl_ (/opt/amazon/lib/python3.7/site-packages/urllib3/util/ssl_.py)']. \n",
      "  monkey.patch_all(subprocess=True)\u001b[0m\n",
      "\u001b[34m[2022-02-07:07:23:19:INFO] Model loaded successfully for worker : 24\u001b[0m\n",
      "\u001b[35m/opt/amazon/lib/python3.7/site-packages/gunicorn/workers/ggevent.py:65: MonkeyPatchWarning: Monkey-patching ssl after ssl has already been imported may lead to errors, including RecursionError on Python 3.6. It may also silently lead to incorrect behaviour on Python 3.7. Please monkey-patch earlier. See https://github.com/gevent/gevent/issues/1016. Modules that had direct imports (NOT patched): ['urllib3.util (/opt/amazon/lib/python3.7/site-packages/urllib3/util/__init__.py)', 'urllib3.util.ssl_ (/opt/amazon/lib/python3.7/site-packages/urllib3/util/ssl_.py)']. \n",
      "  monkey.patch_all(subprocess=True)\u001b[0m\n",
      "\u001b[35m/opt/amazon/lib/python3.7/site-packages/gunicorn/workers/ggevent.py:65: MonkeyPatchWarning: Monkey-patching ssl after ssl has already been imported may lead to errors, including RecursionError on Python 3.6. It may also silently lead to incorrect behaviour on Python 3.7. Please monkey-patch earlier. See https://github.com/gevent/gevent/issues/1016. Modules that had direct imports (NOT patched): ['urllib3.util (/opt/amazon/lib/python3.7/site-packages/urllib3/util/__init__.py)', 'urllib3.util.ssl_ (/opt/amazon/lib/python3.7/site-packages/urllib3/util/ssl_.py)']. \n",
      "  monkey.patch_all(subprocess=True)\u001b[0m\n",
      "\u001b[35m[2022-02-07:07:23:19:INFO] Model loaded successfully for worker : 23\u001b[0m\n",
      "\u001b[35m[2022-02-07:07:23:19:INFO] Model loaded successfully for worker : 21\u001b[0m\n",
      "\u001b[35m/opt/amazon/lib/python3.7/site-packages/gunicorn/workers/ggevent.py:65: MonkeyPatchWarning: Monkey-patching ssl after ssl has already been imported may lead to errors, including RecursionError on Python 3.6. It may also silently lead to incorrect behaviour on Python 3.7. Please monkey-patch earlier. See https://github.com/gevent/gevent/issues/1016. Modules that had direct imports (NOT patched): ['urllib3.util (/opt/amazon/lib/python3.7/site-packages/urllib3/util/__init__.py)', 'urllib3.util.ssl_ (/opt/amazon/lib/python3.7/site-packages/urllib3/util/ssl_.py)']. \n",
      "  monkey.patch_all(subprocess=True)\u001b[0m\n",
      "\u001b[35m[2022-02-07:07:23:19:INFO] Model loaded successfully for worker : 22\u001b[0m\n",
      "\u001b[35m[2022-02-07 07:23:19 +0000] [24] [INFO] Booting worker with pid: 24\u001b[0m\n",
      "\u001b[35m/opt/amazon/lib/python3.7/site-packages/gunicorn/workers/ggevent.py:65: MonkeyPatchWarning: Monkey-patching ssl after ssl has already been imported may lead to errors, including RecursionError on Python 3.6. It may also silently lead to incorrect behaviour on Python 3.7. Please monkey-patch earlier. See https://github.com/gevent/gevent/issues/1016. Modules that had direct imports (NOT patched): ['urllib3.util (/opt/amazon/lib/python3.7/site-packages/urllib3/util/__init__.py)', 'urllib3.util.ssl_ (/opt/amazon/lib/python3.7/site-packages/urllib3/util/ssl_.py)']. \n",
      "  monkey.patch_all(subprocess=True)\u001b[0m\n",
      "\u001b[35m[2022-02-07:07:23:19:INFO] Model loaded successfully for worker : 24\u001b[0m\n",
      "\u001b[32m2022-02-07T07:23:23.182:[sagemaker logs]: MaxConcurrentTransforms=4, MaxPayloadInMB=6, BatchStrategy=MULTI_RECORD\u001b[0m\n",
      "\u001b[34m[2022-02-07:07:23:26:INFO] Sniff delimiter as ','\u001b[0m\n",
      "\u001b[34m[2022-02-07:07:23:26:INFO] Determined delimiter of CSV input is ','\u001b[0m\n",
      "\u001b[35m[2022-02-07:07:23:26:INFO] Sniff delimiter as ','\u001b[0m\n",
      "\u001b[35m[2022-02-07:07:23:26:INFO] Determined delimiter of CSV input is ','\u001b[0m\n",
      "\u001b[34m[2022-02-07:07:23:26:INFO] Sniff delimiter as ','\u001b[0m\n",
      "\u001b[34m[2022-02-07:07:23:26:INFO] Determined delimiter of CSV input is ','\u001b[0m\n",
      "\u001b[34m[2022-02-07:07:23:26:INFO] Sniff delimiter as ','\u001b[0m\n",
      "\u001b[34m[2022-02-07:07:23:26:INFO] Determined delimiter of CSV input is ','\u001b[0m\n",
      "\u001b[34m[2022-02-07:07:23:27:INFO] Sniff delimiter as ','\u001b[0m\n",
      "\u001b[34m[2022-02-07:07:23:27:INFO] Determined delimiter of CSV input is ','\u001b[0m\n",
      "\u001b[35m[2022-02-07:07:23:26:INFO] Sniff delimiter as ','\u001b[0m\n",
      "\u001b[35m[2022-02-07:07:23:26:INFO] Determined delimiter of CSV input is ','\u001b[0m\n",
      "\u001b[35m[2022-02-07:07:23:26:INFO] Sniff delimiter as ','\u001b[0m\n",
      "\u001b[35m[2022-02-07:07:23:26:INFO] Determined delimiter of CSV input is ','\u001b[0m\n",
      "\u001b[35m[2022-02-07:07:23:27:INFO] Sniff delimiter as ','\u001b[0m\n",
      "\u001b[35m[2022-02-07:07:23:27:INFO] Determined delimiter of CSV input is ','\u001b[0m\n",
      "\u001b[34m[2022-02-07:07:23:30:INFO] Sniff delimiter as ','\u001b[0m\n",
      "\u001b[34m[2022-02-07:07:23:30:INFO] Determined delimiter of CSV input is ','\u001b[0m\n",
      "\u001b[34m[2022-02-07:07:23:30:INFO] Sniff delimiter as ','\u001b[0m\n",
      "\u001b[34m[2022-02-07:07:23:30:INFO] Determined delimiter of CSV input is ','\u001b[0m\n",
      "\u001b[35m[2022-02-07:07:23:30:INFO] Sniff delimiter as ','\u001b[0m\n",
      "\u001b[35m[2022-02-07:07:23:30:INFO] Determined delimiter of CSV input is ','\u001b[0m\n",
      "\u001b[35m[2022-02-07:07:23:30:INFO] Sniff delimiter as ','\u001b[0m\n",
      "\u001b[35m[2022-02-07:07:23:30:INFO] Determined delimiter of CSV input is ','\u001b[0m\n"
     ]
    },
    {
     "name": "stdout",
     "output_type": "stream",
     "text": [
      "\u001b[34m[2022-02-07:07:23:34:INFO] Sniff delimiter as ','\u001b[0m\n",
      "\u001b[34m[2022-02-07:07:23:34:INFO] Determined delimiter of CSV input is ','\u001b[0m\n",
      "\u001b[34m[2022-02-07:07:23:34:INFO] Sniff delimiter as ','\u001b[0m\n",
      "\u001b[34m[2022-02-07:07:23:34:INFO] Determined delimiter of CSV input is ','\u001b[0m\n",
      "\u001b[34m[2022-02-07:07:23:34:INFO] Sniff delimiter as ','\u001b[0m\n",
      "\u001b[34m[2022-02-07:07:23:34:INFO] Determined delimiter of CSV input is ','\u001b[0m\n",
      "\u001b[35m[2022-02-07:07:23:34:INFO] Sniff delimiter as ','\u001b[0m\n",
      "\u001b[35m[2022-02-07:07:23:34:INFO] Determined delimiter of CSV input is ','\u001b[0m\n",
      "\u001b[35m[2022-02-07:07:23:34:INFO] Sniff delimiter as ','\u001b[0m\n",
      "\u001b[35m[2022-02-07:07:23:34:INFO] Determined delimiter of CSV input is ','\u001b[0m\n",
      "\u001b[35m[2022-02-07:07:23:34:INFO] Sniff delimiter as ','\u001b[0m\n",
      "\u001b[35m[2022-02-07:07:23:34:INFO] Determined delimiter of CSV input is ','\u001b[0m\n",
      "\u001b[34m[2022-02-07:07:23:34:INFO] Sniff delimiter as ','\u001b[0m\n",
      "\u001b[34m[2022-02-07:07:23:34:INFO] Determined delimiter of CSV input is ','\u001b[0m\n",
      "\u001b[35m[2022-02-07:07:23:34:INFO] Sniff delimiter as ','\u001b[0m\n",
      "\u001b[35m[2022-02-07:07:23:34:INFO] Determined delimiter of CSV input is ','\u001b[0m\n",
      "\u001b[34m[2022-02-07:07:23:38:INFO] Sniff delimiter as ','\u001b[0m\n",
      "\u001b[34m[2022-02-07:07:23:38:INFO] Determined delimiter of CSV input is ','\u001b[0m\n",
      "\u001b[34m[2022-02-07:07:23:38:INFO] Sniff delimiter as ','\u001b[0m\n",
      "\u001b[34m[2022-02-07:07:23:38:INFO] Determined delimiter of CSV input is ','\u001b[0m\n",
      "\u001b[35m[2022-02-07:07:23:38:INFO] Sniff delimiter as ','\u001b[0m\n",
      "\u001b[35m[2022-02-07:07:23:38:INFO] Determined delimiter of CSV input is ','\u001b[0m\n",
      "\u001b[35m[2022-02-07:07:23:38:INFO] Sniff delimiter as ','\u001b[0m\n",
      "\u001b[35m[2022-02-07:07:23:38:INFO] Determined delimiter of CSV input is ','\u001b[0m\n",
      "\u001b[34m[2022-02-07:07:23:38:INFO] Sniff delimiter as ','\u001b[0m\n",
      "\u001b[34m[2022-02-07:07:23:38:INFO] Determined delimiter of CSV input is ','\u001b[0m\n",
      "\u001b[35m[2022-02-07:07:23:38:INFO] Sniff delimiter as ','\u001b[0m\n",
      "\u001b[35m[2022-02-07:07:23:38:INFO] Determined delimiter of CSV input is ','\u001b[0m\n",
      "\u001b[34m[2022-02-07:07:23:42:INFO] Sniff delimiter as ','\u001b[0m\n",
      "\u001b[34m[2022-02-07:07:23:42:INFO] Determined delimiter of CSV input is ','\u001b[0m\n",
      "\u001b[34m[2022-02-07:07:23:42:INFO] Sniff delimiter as ','\u001b[0m\n",
      "\u001b[34m[2022-02-07:07:23:42:INFO] Determined delimiter of CSV input is ','\u001b[0m\n",
      "\u001b[34m[2022-02-07:07:23:42:INFO] Sniff delimiter as ','\u001b[0m\n",
      "\u001b[34m[2022-02-07:07:23:42:INFO] Determined delimiter of CSV input is ','\u001b[0m\n",
      "\u001b[34m[2022-02-07:07:23:42:INFO] Sniff delimiter as ','\u001b[0m\n",
      "\u001b[34m[2022-02-07:07:23:42:INFO] Determined delimiter of CSV input is ','\u001b[0m\n",
      "\u001b[35m[2022-02-07:07:23:42:INFO] Sniff delimiter as ','\u001b[0m\n",
      "\u001b[35m[2022-02-07:07:23:42:INFO] Determined delimiter of CSV input is ','\u001b[0m\n",
      "\u001b[35m[2022-02-07:07:23:42:INFO] Sniff delimiter as ','\u001b[0m\n",
      "\u001b[35m[2022-02-07:07:23:42:INFO] Determined delimiter of CSV input is ','\u001b[0m\n",
      "\u001b[35m[2022-02-07:07:23:42:INFO] Sniff delimiter as ','\u001b[0m\n",
      "\u001b[35m[2022-02-07:07:23:42:INFO] Determined delimiter of CSV input is ','\u001b[0m\n",
      "\u001b[35m[2022-02-07:07:23:42:INFO] Sniff delimiter as ','\u001b[0m\n",
      "\u001b[35m[2022-02-07:07:23:42:INFO] Determined delimiter of CSV input is ','\u001b[0m\n",
      "\u001b[34m[2022-02-07:07:23:45:INFO] Sniff delimiter as ','\u001b[0m\n",
      "\u001b[34m[2022-02-07:07:23:45:INFO] Determined delimiter of CSV input is ','\u001b[0m\n",
      "\u001b[34m[2022-02-07:07:23:46:INFO] Sniff delimiter as ','\u001b[0m\n",
      "\u001b[34m[2022-02-07:07:23:46:INFO] Determined delimiter of CSV input is ','\u001b[0m\n",
      "\u001b[34m[2022-02-07:07:23:46:INFO] Sniff delimiter as ','\u001b[0m\n",
      "\u001b[34m[2022-02-07:07:23:46:INFO] Determined delimiter of CSV input is ','\u001b[0m\n",
      "\u001b[34m[2022-02-07:07:23:46:INFO] Sniff delimiter as ','\u001b[0m\n",
      "\u001b[34m[2022-02-07:07:23:46:INFO] Determined delimiter of CSV input is ','\u001b[0m\n",
      "\u001b[35m[2022-02-07:07:23:45:INFO] Sniff delimiter as ','\u001b[0m\n",
      "\u001b[35m[2022-02-07:07:23:45:INFO] Determined delimiter of CSV input is ','\u001b[0m\n",
      "\u001b[35m[2022-02-07:07:23:46:INFO] Sniff delimiter as ','\u001b[0m\n",
      "\u001b[35m[2022-02-07:07:23:46:INFO] Determined delimiter of CSV input is ','\u001b[0m\n",
      "\u001b[35m[2022-02-07:07:23:46:INFO] Sniff delimiter as ','\u001b[0m\n",
      "\u001b[35m[2022-02-07:07:23:46:INFO] Determined delimiter of CSV input is ','\u001b[0m\n",
      "\u001b[35m[2022-02-07:07:23:46:INFO] Sniff delimiter as ','\u001b[0m\n",
      "\u001b[35m[2022-02-07:07:23:46:INFO] Determined delimiter of CSV input is ','\u001b[0m\n",
      "\u001b[34m[2022-02-07:07:23:49:INFO] Sniff delimiter as ','\u001b[0m\n",
      "\u001b[34m[2022-02-07:07:23:49:INFO] Determined delimiter of CSV input is ','\u001b[0m\n",
      "\u001b[35m[2022-02-07:07:23:49:INFO] Sniff delimiter as ','\u001b[0m\n",
      "\u001b[35m[2022-02-07:07:23:49:INFO] Determined delimiter of CSV input is ','\u001b[0m\n",
      "\u001b[34m[2022-02-07:07:23:49:INFO] Sniff delimiter as ','\u001b[0m\n",
      "\u001b[34m[2022-02-07:07:23:49:INFO] Determined delimiter of CSV input is ','\u001b[0m\n",
      "\u001b[34m[2022-02-07:07:23:50:INFO] Sniff delimiter as ','\u001b[0m\n",
      "\u001b[34m[2022-02-07:07:23:50:INFO] Determined delimiter of CSV input is ','\u001b[0m\n",
      "\u001b[34m[2022-02-07:07:23:50:INFO] Sniff delimiter as ','\u001b[0m\n",
      "\u001b[34m[2022-02-07:07:23:50:INFO] Determined delimiter of CSV input is ','\u001b[0m\n",
      "\u001b[35m[2022-02-07:07:23:49:INFO] Sniff delimiter as ','\u001b[0m\n",
      "\u001b[35m[2022-02-07:07:23:49:INFO] Determined delimiter of CSV input is ','\u001b[0m\n",
      "\u001b[35m[2022-02-07:07:23:50:INFO] Sniff delimiter as ','\u001b[0m\n",
      "\u001b[35m[2022-02-07:07:23:50:INFO] Determined delimiter of CSV input is ','\u001b[0m\n",
      "\u001b[35m[2022-02-07:07:23:50:INFO] Sniff delimiter as ','\u001b[0m\n",
      "\u001b[35m[2022-02-07:07:23:50:INFO] Determined delimiter of CSV input is ','\u001b[0m\n",
      "\u001b[34m[2022-02-07:07:23:54:INFO] Sniff delimiter as ','\u001b[0m\n",
      "\u001b[34m[2022-02-07:07:23:54:INFO] Determined delimiter of CSV input is ','\u001b[0m\n",
      "\u001b[35m[2022-02-07:07:23:54:INFO] Sniff delimiter as ','\u001b[0m\n",
      "\u001b[35m[2022-02-07:07:23:54:INFO] Determined delimiter of CSV input is ','\u001b[0m\n",
      "\u001b[34m[2022-02-07:07:23:57:INFO] Sniff delimiter as ','\u001b[0m\n",
      "\u001b[34m[2022-02-07:07:23:57:INFO] Determined delimiter of CSV input is ','\u001b[0m\n",
      "\u001b[34m[2022-02-07:07:23:57:INFO] Sniff delimiter as ','\u001b[0m\n",
      "\u001b[34m[2022-02-07:07:23:57:INFO] Determined delimiter of CSV input is ','\u001b[0m\n",
      "\u001b[35m[2022-02-07:07:23:57:INFO] Sniff delimiter as ','\u001b[0m\n",
      "\u001b[35m[2022-02-07:07:23:57:INFO] Determined delimiter of CSV input is ','\u001b[0m\n",
      "\u001b[35m[2022-02-07:07:23:57:INFO] Sniff delimiter as ','\u001b[0m\n",
      "\u001b[35m[2022-02-07:07:23:57:INFO] Determined delimiter of CSV input is ','\u001b[0m\n",
      "\u001b[34m[2022-02-07:07:23:57:INFO] Sniff delimiter as ','\u001b[0m\n",
      "\u001b[34m[2022-02-07:07:23:57:INFO] Determined delimiter of CSV input is ','\u001b[0m\n",
      "\u001b[34m[2022-02-07:07:23:58:INFO] Sniff delimiter as ','\u001b[0m\n",
      "\u001b[35m[2022-02-07:07:23:57:INFO] Sniff delimiter as ','\u001b[0m\n",
      "\u001b[35m[2022-02-07:07:23:57:INFO] Determined delimiter of CSV input is ','\u001b[0m\n",
      "\u001b[35m[2022-02-07:07:23:58:INFO] Sniff delimiter as ','\u001b[0m\n",
      "\u001b[34m[2022-02-07:07:23:58:INFO] Determined delimiter of CSV input is ','\u001b[0m\n",
      "\u001b[35m[2022-02-07:07:23:58:INFO] Determined delimiter of CSV input is ','\u001b[0m\n",
      "\u001b[34m[2022-02-07:07:24:00:INFO] Sniff delimiter as ','\u001b[0m\n",
      "\u001b[34m[2022-02-07:07:24:00:INFO] Determined delimiter of CSV input is ','\u001b[0m\n",
      "\u001b[34m[2022-02-07:07:24:01:INFO] Sniff delimiter as ','\u001b[0m\n",
      "\u001b[34m[2022-02-07:07:24:01:INFO] Determined delimiter of CSV input is ','\u001b[0m\n",
      "\u001b[34m[2022-02-07:07:24:01:INFO] Sniff delimiter as ','\u001b[0m\n",
      "\u001b[34m[2022-02-07:07:24:01:INFO] Determined delimiter of CSV input is ','\u001b[0m\n",
      "\u001b[35m[2022-02-07:07:24:00:INFO] Sniff delimiter as ','\u001b[0m\n",
      "\u001b[35m[2022-02-07:07:24:00:INFO] Determined delimiter of CSV input is ','\u001b[0m\n",
      "\u001b[35m[2022-02-07:07:24:01:INFO] Sniff delimiter as ','\u001b[0m\n",
      "\u001b[35m[2022-02-07:07:24:01:INFO] Determined delimiter of CSV input is ','\u001b[0m\n",
      "\u001b[35m[2022-02-07:07:24:01:INFO] Sniff delimiter as ','\u001b[0m\n",
      "\u001b[35m[2022-02-07:07:24:01:INFO] Determined delimiter of CSV input is ','\u001b[0m\n",
      "\u001b[34m[2022-02-07:07:24:01:INFO] Sniff delimiter as ','\u001b[0m\n",
      "\u001b[34m[2022-02-07:07:24:01:INFO] Determined delimiter of CSV input is ','\u001b[0m\n",
      "\u001b[35m[2022-02-07:07:24:01:INFO] Sniff delimiter as ','\u001b[0m\n",
      "\u001b[35m[2022-02-07:07:24:01:INFO] Determined delimiter of CSV input is ','\u001b[0m\n",
      "\n"
     ]
    }
   ],
   "source": [
    "# TODO: Using xgb_transformer, transform the new_data_location data. You may wish to **wait** until\n",
    "#       the batch transform job has finished.\n",
    "\n",
    "# Solution:\n",
    "xgb_transformer.transform(new_data_location, content_type='text/csv', split_type='Line')\n",
    "xgb_transformer.wait()"
   ]
  },
  {
   "cell_type": "markdown",
   "metadata": {},
   "source": [
    "As usual, we copy the results of the batch transform job to our local instance."
   ]
  },
  {
   "cell_type": "code",
   "execution_count": 40,
   "metadata": {},
   "outputs": [
    {
     "name": "stdout",
     "output_type": "stream",
     "text": [
      "Completed 256.0 KiB/473.1 KiB (2.8 MiB/s) with 1 file(s) remaining\r",
      "Completed 473.1 KiB/473.1 KiB (4.9 MiB/s) with 1 file(s) remaining\r",
      "download: s3://sagemaker-us-east-1-801008216402/xgboost-2022-02-07-07-17-50-128/new_data.csv.out to ../data/sentiment_update/new_data.csv.out\r\n"
     ]
    }
   ],
   "source": [
    "!aws s3 cp --recursive $xgb_transformer.output_path $data_dir"
   ]
  },
  {
   "cell_type": "markdown",
   "metadata": {},
   "source": [
    "Read in the results of the batch transform job."
   ]
  },
  {
   "cell_type": "code",
   "execution_count": 41,
   "metadata": {},
   "outputs": [],
   "source": [
    "predictions = pd.read_csv(os.path.join(data_dir, 'new_data.csv.out'), header=None)\n",
    "predictions = [round(num) for num in predictions.squeeze().values]"
   ]
  },
  {
   "cell_type": "markdown",
   "metadata": {},
   "source": [
    "And check the accuracy of our current model."
   ]
  },
  {
   "cell_type": "code",
   "execution_count": 42,
   "metadata": {},
   "outputs": [
    {
     "data": {
      "text/plain": [
       "0.72964"
      ]
     },
     "execution_count": 42,
     "metadata": {},
     "output_type": "execute_result"
    }
   ],
   "source": [
    "accuracy_score(new_Y, predictions)"
   ]
  },
  {
   "cell_type": "markdown",
   "metadata": {},
   "source": [
    "So it would appear that *something* has changed since our model is no longer (as) effective at determining the sentiment of a user provided review.\n",
    "\n",
    "In a real life scenario you would check a number of different things to see what exactly is going on. In our case, we are only going to check one and that is whether some aspect of the underlying distribution has changed. In other words, we want to see if the words that appear in our new collection of reviews matches the words that appear in the original training set. Of course, we want to narrow our scope a little bit so we will only look at the `5000` most frequently appearing words in each data set, or in other words, the vocabulary generated by each data set.\n",
    "\n",
    "Before doing that, however, let's take a look at some of the incorrectly classified reviews in the new data set.\n",
    "\n",
    "To start, we will deploy the original XGBoost model. We will then use the deployed model to infer the sentiment of some of the new reviews. This will also serve as a nice excuse to deploy our model so that we can mimic a real life scenario where we have a model that has been deployed and is being used in production.\n",
    "\n",
    "**TODO:** Deploy the XGBoost model."
   ]
  },
  {
   "cell_type": "code",
   "execution_count": 43,
   "metadata": {},
   "outputs": [
    {
     "name": "stderr",
     "output_type": "stream",
     "text": [
      "Parameter image will be renamed to image_uri in SageMaker Python SDK v2.\n",
      "Using already existing model: xgboost-2022-02-07-07-02-08-668\n"
     ]
    },
    {
     "name": "stdout",
     "output_type": "stream",
     "text": [
      "----------!"
     ]
    }
   ],
   "source": [
    "# TODO: Deploy the model that was created earlier. Recall that the object name is 'xgb'.\n",
    "# xgb_predictor = None\n",
    "\n",
    "# Solution:\n",
    "xgb_predictor = xgb.deploy(initial_instance_count = 1, instance_type = 'ml.m4.xlarge')"
   ]
  },
  {
   "cell_type": "markdown",
   "metadata": {},
   "source": [
    "### Diagnose the problem\n",
    "\n",
    "Now that we have our deployed \"production\" model, we can send some of our new data to it and filter out some of the incorrectly classified reviews."
   ]
  },
  {
   "cell_type": "code",
   "execution_count": 44,
   "metadata": {},
   "outputs": [],
   "source": [
    "from sagemaker.predictor import csv_serializer\n",
    "\n",
    "# We need to tell the endpoint what format the data we are sending is in so that SageMaker can perform the serialization.\n",
    "xgb_predictor.content_type = 'text/csv'\n",
    "xgb_predictor.serializer = csv_serializer"
   ]
  },
  {
   "cell_type": "markdown",
   "metadata": {},
   "source": [
    "It will be useful to look at a few different examples of incorrectly classified reviews so we will start by creating a *generator* which we will use to iterate through some of the new reviews and find ones that are incorrect.\n",
    "\n",
    "**NOTE:** Understanding what Python generators are isn't really required for this module. The reason we use them here is so that we don't have to iterate through all of the new reviews, searching for incorrectly classified samples."
   ]
  },
  {
   "cell_type": "code",
   "execution_count": 45,
   "metadata": {},
   "outputs": [],
   "source": [
    "def get_sample(in_X, in_XV, in_Y):\n",
    "    for idx, smp in enumerate(in_X):\n",
    "        res = round(float(xgb_predictor.predict(in_XV[idx])))\n",
    "        if res != in_Y[idx]:\n",
    "            yield smp, in_Y[idx]"
   ]
  },
  {
   "cell_type": "code",
   "execution_count": 46,
   "metadata": {},
   "outputs": [],
   "source": [
    "gn = get_sample(new_X, new_XV, new_Y)"
   ]
  },
  {
   "cell_type": "markdown",
   "metadata": {},
   "source": [
    "At this point, `gn` is the *generator* which generates samples from the new data set which are not classified correctly. To get the *next* sample we simply call the `next` method on our generator."
   ]
  },
  {
   "cell_type": "code",
   "execution_count": 47,
   "metadata": {},
   "outputs": [
    {
     "name": "stdout",
     "output_type": "stream",
     "text": [
      "(['robert', 'altman', 'downbeat', 'new', 'fangl', 'western', 'edmund', 'naughton', 'book', 'mccabe', 'overlook', 'time', 'releas', 'past', 'year', 'garner', 'sterl', 'critic', 'follow', 'asid', 'complet', 'convinc', 'boom', 'town', 'scenario', 'charact', 'merit', 'much', 'interest', 'pictur', 'look', 'intent', 'brackish', 'unapp', 'beard', 'warren', 'beatti', 'play', 'turn', 'centuri', 'entrepreneur', 'settl', 'struggl', 'commun', 'outskirt', 'nowher', 'help', 'organ', 'first', 'brothel', 'profit', 'start', 'come', 'beatti', 'natur', 'menac', 'citi', 'tough', 'want', 'part', 'action', 'altman', 'creat', 'solemn', 'wintri', 'atmospher', 'movi', 'give', 'audienc', 'certain', 'sens', 'time', 'place', 'action', 'sorri', 'littl', 'town', 'limit', 'stori', 'made', 'vignett', 'altman', 'pace', 'deliber', 'slow', 'hardli', 'statement', 'made', 'opposit', 'fact', 'languid', 'actor', 'stare', 'without', 'much', 'mind', 'self', 'defeat', 'pictur', 'yet', 'altman', 'quirki', 'way', 'wear', 'defeat', 'proudli'], 0)\n"
     ]
    }
   ],
   "source": [
    "print(next(gn))"
   ]
  },
  {
   "cell_type": "markdown",
   "metadata": {},
   "source": [
    "After looking at a few examples, maybe we decide to look at the most frequently appearing `5000` words in each data set, the original training data set and the new data set. The reason for looking at this might be that we expect the frequency of use of different words to have changed, maybe there is some new slang that has been introduced or some other artifact of popular culture that has changed the way that people write movie reviews.\n",
    "\n",
    "To do this, we start by fitting a `CountVectorizer` to the new data."
   ]
  },
  {
   "cell_type": "code",
   "execution_count": 48,
   "metadata": {},
   "outputs": [
    {
     "name": "stderr",
     "output_type": "stream",
     "text": [
      "/home/ec2-user/anaconda3/envs/pytorch_p36/lib/python3.6/site-packages/sklearn/feature_extraction/text.py:489: UserWarning: The parameter 'token_pattern' will not be used since 'tokenizer' is not None'\n",
      "  warnings.warn(\"The parameter 'token_pattern' will not be used\"\n"
     ]
    },
    {
     "data": {
      "text/plain": [
       "CountVectorizer(max_features=5000,\n",
       "                preprocessor=<function <lambda> at 0x7f327c007048>,\n",
       "                tokenizer=<function <lambda> at 0x7f327c0070d0>)"
      ]
     },
     "execution_count": 48,
     "metadata": {},
     "output_type": "execute_result"
    }
   ],
   "source": [
    "new_vectorizer = CountVectorizer(max_features=5000,\n",
    "                preprocessor=lambda x: x, tokenizer=lambda x: x)\n",
    "new_vectorizer.fit(new_X)"
   ]
  },
  {
   "cell_type": "markdown",
   "metadata": {},
   "source": [
    "Now that we have this new `CountVectorizor` object, we can check to see if the corresponding vocabulary has changed between the two data sets."
   ]
  },
  {
   "cell_type": "code",
   "execution_count": 49,
   "metadata": {},
   "outputs": [],
   "source": [
    "original_vocabulary = set(vocabulary.keys())\n",
    "new_vocabulary = set(new_vectorizer.vocabulary_.keys())"
   ]
  },
  {
   "cell_type": "markdown",
   "metadata": {},
   "source": [
    "We can look at the words that were in the original vocabulary but not in the new vocabulary."
   ]
  },
  {
   "cell_type": "code",
   "execution_count": 50,
   "metadata": {},
   "outputs": [
    {
     "name": "stdout",
     "output_type": "stream",
     "text": [
      "{'ghetto', 'spill', 'victorian', '21st', 'reincarn', 'playboy', 'weari'}\n"
     ]
    }
   ],
   "source": [
    "print(original_vocabulary - new_vocabulary)"
   ]
  },
  {
   "cell_type": "markdown",
   "metadata": {},
   "source": [
    "And similarly, we can look at the words that are in the new vocabulary but which were not in the original vocabulary."
   ]
  },
  {
   "cell_type": "code",
   "execution_count": 51,
   "metadata": {},
   "outputs": [
    {
     "name": "stdout",
     "output_type": "stream",
     "text": [
      "{'dubiou', 'optimist', 'sophi', 'masterson', 'omin', 'banana', 'orchestr'}\n"
     ]
    }
   ],
   "source": [
    "print(new_vocabulary - original_vocabulary)"
   ]
  },
  {
   "cell_type": "markdown",
   "metadata": {},
   "source": [
    "These words themselves don't tell us much, however if one of these words occured with a large frequency, that might tell us something. In particular, we wouldn't really expect any of the words above to appear with too much frequency.\n",
    "\n",
    "**Question** What exactly is going on here. Not only what (if any) words appear with a larger than expected frequency but also, what does this mean? What has changed about the world that our original model no longer takes into account?\n",
    "\n",
    "**NOTE:** This is meant to be a very open ended question. To investigate you may need more cells than the one provided below. Also, there isn't really a *correct* answer, this is meant to be an opportunity to explore the data."
   ]
  },
  {
   "cell_type": "code",
   "execution_count": null,
   "metadata": {},
   "outputs": [],
   "source": []
  },
  {
   "cell_type": "markdown",
   "metadata": {},
   "source": [
    "### (TODO) Build a new model\n",
    "\n",
    "Supposing that we believe something has changed about the underlying distribution of the words that our reviews are made up of, we need to create a new model. This way our new model will take into account whatever it is that has changed.\n",
    "\n",
    "To begin with, we will use the new vocabulary to create a bag of words encoding of the new data. We will then use this data to train a new XGBoost model.\n",
    "\n",
    "**NOTE:** Because we believe that the underlying distribution of words has changed it should follow that the original vocabulary that we used to construct a bag of words encoding of the reviews is no longer valid. This means that we need to be careful with our data. If we send an bag of words encoded review using the *original* vocabulary we should not expect any sort of meaningful results.\n",
    "\n",
    "In particular, this means that if we had deployed our XGBoost model like we did in the Web App notebook then we would need to implement this vocabulary change in the Lambda function as well."
   ]
  },
  {
   "cell_type": "code",
   "execution_count": 52,
   "metadata": {},
   "outputs": [],
   "source": [
    "new_XV = new_vectorizer.transform(new_X).toarray()"
   ]
  },
  {
   "cell_type": "markdown",
   "metadata": {},
   "source": [
    "And a quick check to make sure that the newly encoded reviews have the correct length, which should be the size of the new vocabulary which we created."
   ]
  },
  {
   "cell_type": "code",
   "execution_count": 53,
   "metadata": {},
   "outputs": [
    {
     "data": {
      "text/plain": [
       "5000"
      ]
     },
     "execution_count": 53,
     "metadata": {},
     "output_type": "execute_result"
    }
   ],
   "source": [
    "len(new_XV[0])"
   ]
  },
  {
   "cell_type": "markdown",
   "metadata": {},
   "source": [
    "Now that we have our newly encoded, newly collected data, we can split it up into a training and validation set so that we can train a new XGBoost model. As usual, we first split up the data, then save it locally and then upload it to S3."
   ]
  },
  {
   "cell_type": "code",
   "execution_count": 54,
   "metadata": {},
   "outputs": [],
   "source": [
    "import pandas as pd\n",
    "\n",
    "# Earlier we shuffled the training dataset so to make things simple we can just assign\n",
    "# the first 10 000 reviews to the validation set and use the remaining reviews for training.\n",
    "new_val_X = pd.DataFrame(new_XV[:10000])\n",
    "new_train_X = pd.DataFrame(new_XV[10000:])\n",
    "\n",
    "new_val_y = pd.DataFrame(new_Y[:10000])\n",
    "new_train_y = pd.DataFrame(new_Y[10000:])"
   ]
  },
  {
   "cell_type": "markdown",
   "metadata": {},
   "source": [
    "In order to save some memory we will effectively delete the `new_X` variable. Remember that this contained a list of reviews and each review was a list of words. Note that once this cell has been executed you will need to read the new data in again if you want to work with it."
   ]
  },
  {
   "cell_type": "code",
   "execution_count": 55,
   "metadata": {},
   "outputs": [],
   "source": [
    "new_X = None"
   ]
  },
  {
   "cell_type": "markdown",
   "metadata": {},
   "source": [
    "Next we save the new training and validation sets locally. Note that we overwrite the training and validation sets used earlier. This is mostly because the amount of space that we have available on our notebook instance is limited. Of course, you can increase this if you'd like but to do so may increase the cost of running the notebook instance."
   ]
  },
  {
   "cell_type": "code",
   "execution_count": 56,
   "metadata": {},
   "outputs": [],
   "source": [
    "pd.DataFrame(new_XV).to_csv(os.path.join(data_dir, 'new_data.csv'), header=False, index=False)\n",
    "\n",
    "pd.concat([new_val_y, new_val_X], axis=1).to_csv(os.path.join(data_dir, 'new_validation.csv'), header=False, index=False)\n",
    "pd.concat([new_train_y, new_train_X], axis=1).to_csv(os.path.join(data_dir, 'new_train.csv'), header=False, index=False)"
   ]
  },
  {
   "cell_type": "markdown",
   "metadata": {},
   "source": [
    "Now that we've saved our data to the local instance, we can safely delete the variables to save on memory."
   ]
  },
  {
   "cell_type": "code",
   "execution_count": 57,
   "metadata": {},
   "outputs": [],
   "source": [
    "new_val_y = new_val_X = new_train_y = new_train_X = new_XV = None"
   ]
  },
  {
   "cell_type": "markdown",
   "metadata": {},
   "source": [
    "Lastly, we make sure to upload the new training and validation sets to S3.\n",
    "\n",
    "**TODO:** Upload the new data as well as the new training and validation data sets to S3."
   ]
  },
  {
   "cell_type": "code",
   "execution_count": 58,
   "metadata": {},
   "outputs": [],
   "source": [
    "# TODO: Upload the new data and the new validation.csv and train.csv files in the data_dir directory to S3.\n",
    "# new_data_location = None\n",
    "# new_val_location = None\n",
    "# new_train_location = None\n",
    "\n",
    "# Solution:\n",
    "new_data_location = session.upload_data(os.path.join(data_dir, 'new_data.csv'), key_prefix=prefix)\n",
    "new_val_location = session.upload_data(os.path.join(data_dir, 'new_validation.csv'), key_prefix=prefix)\n",
    "new_train_location = session.upload_data(os.path.join(data_dir, 'new_train.csv'), key_prefix=prefix)"
   ]
  },
  {
   "cell_type": "markdown",
   "metadata": {},
   "source": [
    "Once our new training data has been uploaded to S3, we can create a new XGBoost model that will take into account the changes that have occured in our data set.\n",
    "\n",
    "**TODO:** Create a new XGBoost estimator object."
   ]
  },
  {
   "cell_type": "code",
   "execution_count": 59,
   "metadata": {},
   "outputs": [
    {
     "name": "stderr",
     "output_type": "stream",
     "text": [
      "Parameter image_name will be renamed to image_uri in SageMaker Python SDK v2.\n"
     ]
    }
   ],
   "source": [
    "# TODO: First, create a SageMaker estimator object for our model.\n",
    "# new_xgb = None\n",
    "\n",
    "# Solution:\n",
    "new_xgb = sagemaker.estimator.Estimator(container, # The location of the container we wish to use\n",
    "                                    role,                                    # What is our current IAM Role\n",
    "                                    train_instance_count=1,                  # How many compute instances\n",
    "                                    train_instance_type='ml.m4.xlarge',      # What kind of compute instances\n",
    "                                    output_path='s3://{}/{}/output'.format(session.default_bucket(), prefix),\n",
    "                                    sagemaker_session=session)\n",
    "\n",
    "# TODO: Then set the algorithm specific parameters. You may wish to use the same parameters that were\n",
    "#       used when training the original model.\n",
    "\n",
    "# Solution:\n",
    "new_xgb.set_hyperparameters(max_depth=5,\n",
    "                        eta=0.2,\n",
    "                        gamma=4,\n",
    "                        min_child_weight=6,\n",
    "                        subsample=0.8,\n",
    "                        silent=0,\n",
    "                        objective='binary:logistic',\n",
    "                        early_stopping_rounds=10,\n",
    "                        num_round=500)"
   ]
  },
  {
   "cell_type": "markdown",
   "metadata": {},
   "source": [
    "Once the model has been created, we can train it with our new data.\n",
    "\n",
    "**TODO:** Train the new XGBoost model."
   ]
  },
  {
   "cell_type": "code",
   "execution_count": 60,
   "metadata": {},
   "outputs": [
    {
     "name": "stderr",
     "output_type": "stream",
     "text": [
      "'s3_input' class will be renamed to 'TrainingInput' in SageMaker Python SDK v2.\n",
      "'s3_input' class will be renamed to 'TrainingInput' in SageMaker Python SDK v2.\n"
     ]
    }
   ],
   "source": [
    "# TODO: First, make sure that you create s3 input objects so that SageMaker knows where to\n",
    "#       find the training and validation data.\n",
    "s3_new_input_train = None\n",
    "s3_new_input_validation = None\n",
    "\n",
    "# Solution:\n",
    "s3_new_input_train = sagemaker.s3_input(s3_data=new_train_location, content_type='csv')\n",
    "s3_new_input_validation = sagemaker.s3_input(s3_data=new_val_location, content_type='csv')"
   ]
  },
  {
   "cell_type": "code",
   "execution_count": 61,
   "metadata": {},
   "outputs": [
    {
     "name": "stdout",
     "output_type": "stream",
     "text": [
      "2022-02-07 07:30:42 Starting - Starting the training job...\n",
      "2022-02-07 07:30:45 Starting - Launching requested ML instances...........................\n",
      "2022-02-07 07:35:23 Starting - Preparing the instances for training.........\n",
      "2022-02-07 07:37:03 Downloading - Downloading input data...\n",
      "2022-02-07 07:37:25 Training - Downloading the training image..\u001b[34mArguments: train\u001b[0m\n",
      "\u001b[34m[2022-02-07:07:37:52:INFO] Running standalone xgboost training.\u001b[0m\n",
      "\u001b[34m[2022-02-07:07:37:52:INFO] File size need to be processed in the node: 238.47mb. Available memory size in the node: 8349.61mb\u001b[0m\n",
      "\u001b[34m[2022-02-07:07:37:52:INFO] Determined delimiter of CSV input is ','\u001b[0m\n",
      "\u001b[34m[07:37:52] S3DistributionType set as FullyReplicated\u001b[0m\n",
      "\u001b[34m[07:37:54] 15000x5000 matrix with 75000000 entries loaded from /opt/ml/input/data/train?format=csv&label_column=0&delimiter=,\u001b[0m\n",
      "\u001b[34m[2022-02-07:07:37:54:INFO] Determined delimiter of CSV input is ','\u001b[0m\n",
      "\u001b[34m[07:37:54] S3DistributionType set as FullyReplicated\u001b[0m\n",
      "\u001b[34m[07:37:55] 10000x5000 matrix with 50000000 entries loaded from /opt/ml/input/data/validation?format=csv&label_column=0&delimiter=,\u001b[0m\n",
      "\u001b[34m[07:37:59] src/tree/updater_prune.cc:74: tree pruning end, 1 roots, 48 extra nodes, 8 pruned nodes, max_depth=5\u001b[0m\n",
      "\u001b[34m[0]#011train-error:0.312067#011validation-error:0.319\u001b[0m\n",
      "\u001b[34mMultiple eval metrics have been passed: 'validation-error' will be used for early stopping.\u001b[0m\n",
      "\u001b[34mWill train until validation-error hasn't improved in 10 rounds.\u001b[0m\n",
      "\u001b[34m[07:38:00] src/tree/updater_prune.cc:74: tree pruning end, 1 roots, 48 extra nodes, 4 pruned nodes, max_depth=5\u001b[0m\n",
      "\u001b[34m[1]#011train-error:0.2992#011validation-error:0.3055\u001b[0m\n",
      "\u001b[34m[07:38:02] src/tree/updater_prune.cc:74: tree pruning end, 1 roots, 44 extra nodes, 8 pruned nodes, max_depth=5\u001b[0m\n",
      "\u001b[34m[2]#011train-error:0.279467#011validation-error:0.2884\u001b[0m\n",
      "\n",
      "2022-02-07 07:37:51 Training - Training image download completed. Training in progress.\u001b[34m[07:38:04] src/tree/updater_prune.cc:74: tree pruning end, 1 roots, 36 extra nodes, 8 pruned nodes, max_depth=5\u001b[0m\n",
      "\u001b[34m[3]#011train-error:0.28#011validation-error:0.2891\u001b[0m\n",
      "\u001b[34m[07:38:05] src/tree/updater_prune.cc:74: tree pruning end, 1 roots, 32 extra nodes, 8 pruned nodes, max_depth=5\u001b[0m\n",
      "\u001b[34m[4]#011train-error:0.263867#011validation-error:0.271\u001b[0m\n",
      "\u001b[34m[07:38:07] src/tree/updater_prune.cc:74: tree pruning end, 1 roots, 42 extra nodes, 6 pruned nodes, max_depth=5\u001b[0m\n",
      "\u001b[34m[5]#011train-error:0.260467#011validation-error:0.2676\u001b[0m\n",
      "\u001b[34m[07:38:08] src/tree/updater_prune.cc:74: tree pruning end, 1 roots, 34 extra nodes, 8 pruned nodes, max_depth=5\u001b[0m\n",
      "\u001b[34m[6]#011train-error:0.253867#011validation-error:0.2629\u001b[0m\n",
      "\u001b[34m[07:38:10] src/tree/updater_prune.cc:74: tree pruning end, 1 roots, 36 extra nodes, 12 pruned nodes, max_depth=5\u001b[0m\n",
      "\u001b[34m[7]#011train-error:0.250267#011validation-error:0.2604\u001b[0m\n",
      "\u001b[34m[07:38:11] src/tree/updater_prune.cc:74: tree pruning end, 1 roots, 36 extra nodes, 8 pruned nodes, max_depth=5\u001b[0m\n",
      "\u001b[34m[8]#011train-error:0.2396#011validation-error:0.2462\u001b[0m\n",
      "\u001b[34m[07:38:13] src/tree/updater_prune.cc:74: tree pruning end, 1 roots, 38 extra nodes, 4 pruned nodes, max_depth=5\u001b[0m\n",
      "\u001b[34m[9]#011train-error:0.232067#011validation-error:0.2447\u001b[0m\n",
      "\u001b[34m[07:38:14] src/tree/updater_prune.cc:74: tree pruning end, 1 roots, 34 extra nodes, 4 pruned nodes, max_depth=5\u001b[0m\n",
      "\u001b[34m[10]#011train-error:0.225333#011validation-error:0.2392\u001b[0m\n",
      "\u001b[34m[07:38:15] src/tree/updater_prune.cc:74: tree pruning end, 1 roots, 30 extra nodes, 4 pruned nodes, max_depth=5\u001b[0m\n",
      "\u001b[34m[11]#011train-error:0.219867#011validation-error:0.2339\u001b[0m\n",
      "\u001b[34m[07:38:17] src/tree/updater_prune.cc:74: tree pruning end, 1 roots, 44 extra nodes, 0 pruned nodes, max_depth=5\u001b[0m\n",
      "\u001b[34m[12]#011train-error:0.217533#011validation-error:0.2309\u001b[0m\n",
      "\u001b[34m[07:38:18] src/tree/updater_prune.cc:74: tree pruning end, 1 roots, 46 extra nodes, 6 pruned nodes, max_depth=5\u001b[0m\n",
      "\u001b[34m[13]#011train-error:0.214733#011validation-error:0.2295\u001b[0m\n",
      "\u001b[34m[07:38:19] src/tree/updater_prune.cc:74: tree pruning end, 1 roots, 38 extra nodes, 8 pruned nodes, max_depth=5\u001b[0m\n",
      "\u001b[34m[14]#011train-error:0.208133#011validation-error:0.2253\u001b[0m\n",
      "\u001b[34m[07:38:21] src/tree/updater_prune.cc:74: tree pruning end, 1 roots, 42 extra nodes, 4 pruned nodes, max_depth=5\u001b[0m\n",
      "\u001b[34m[15]#011train-error:0.205867#011validation-error:0.2225\u001b[0m\n",
      "\u001b[34m[07:38:22] src/tree/updater_prune.cc:74: tree pruning end, 1 roots, 40 extra nodes, 2 pruned nodes, max_depth=5\u001b[0m\n",
      "\u001b[34m[16]#011train-error:0.202333#011validation-error:0.2196\u001b[0m\n",
      "\u001b[34m[07:38:23] src/tree/updater_prune.cc:74: tree pruning end, 1 roots, 26 extra nodes, 10 pruned nodes, max_depth=5\u001b[0m\n",
      "\u001b[34m[17]#011train-error:0.200267#011validation-error:0.2185\u001b[0m\n",
      "\u001b[34m[07:38:25] src/tree/updater_prune.cc:74: tree pruning end, 1 roots, 26 extra nodes, 10 pruned nodes, max_depth=5\u001b[0m\n",
      "\u001b[34m[18]#011train-error:0.198867#011validation-error:0.215\u001b[0m\n",
      "\u001b[34m[07:38:26] src/tree/updater_prune.cc:74: tree pruning end, 1 roots, 22 extra nodes, 10 pruned nodes, max_depth=5\u001b[0m\n",
      "\u001b[34m[19]#011train-error:0.197133#011validation-error:0.2129\u001b[0m\n",
      "\u001b[34m[07:38:28] src/tree/updater_prune.cc:74: tree pruning end, 1 roots, 28 extra nodes, 6 pruned nodes, max_depth=5\u001b[0m\n",
      "\u001b[34m[20]#011train-error:0.192933#011validation-error:0.2091\u001b[0m\n",
      "\u001b[34m[07:38:29] src/tree/updater_prune.cc:74: tree pruning end, 1 roots, 24 extra nodes, 8 pruned nodes, max_depth=5\u001b[0m\n",
      "\u001b[34m[21]#011train-error:0.1918#011validation-error:0.2077\u001b[0m\n",
      "\u001b[34m[07:38:30] src/tree/updater_prune.cc:74: tree pruning end, 1 roots, 32 extra nodes, 14 pruned nodes, max_depth=5\u001b[0m\n",
      "\u001b[34m[22]#011train-error:0.189667#011validation-error:0.2077\u001b[0m\n",
      "\u001b[34m[07:38:32] src/tree/updater_prune.cc:74: tree pruning end, 1 roots, 40 extra nodes, 8 pruned nodes, max_depth=5\u001b[0m\n",
      "\u001b[34m[23]#011train-error:0.1854#011validation-error:0.2058\u001b[0m\n",
      "\u001b[34m[07:38:33] src/tree/updater_prune.cc:74: tree pruning end, 1 roots, 30 extra nodes, 8 pruned nodes, max_depth=5\u001b[0m\n",
      "\u001b[34m[24]#011train-error:0.184#011validation-error:0.2065\u001b[0m\n",
      "\u001b[34m[07:38:34] src/tree/updater_prune.cc:74: tree pruning end, 1 roots, 44 extra nodes, 2 pruned nodes, max_depth=5\u001b[0m\n",
      "\u001b[34m[25]#011train-error:0.180667#011validation-error:0.2041\u001b[0m\n",
      "\u001b[34m[07:38:36] src/tree/updater_prune.cc:74: tree pruning end, 1 roots, 38 extra nodes, 12 pruned nodes, max_depth=5\u001b[0m\n",
      "\u001b[34m[26]#011train-error:0.178267#011validation-error:0.2029\u001b[0m\n",
      "\u001b[34m[07:38:37] src/tree/updater_prune.cc:74: tree pruning end, 1 roots, 32 extra nodes, 8 pruned nodes, max_depth=5\u001b[0m\n",
      "\u001b[34m[27]#011train-error:0.178267#011validation-error:0.2004\u001b[0m\n",
      "\u001b[34m[07:38:39] src/tree/updater_prune.cc:74: tree pruning end, 1 roots, 32 extra nodes, 12 pruned nodes, max_depth=5\u001b[0m\n",
      "\u001b[34m[28]#011train-error:0.177333#011validation-error:0.2007\u001b[0m\n",
      "\u001b[34m[07:38:40] src/tree/updater_prune.cc:74: tree pruning end, 1 roots, 28 extra nodes, 8 pruned nodes, max_depth=5\u001b[0m\n",
      "\u001b[34m[29]#011train-error:0.175533#011validation-error:0.201\u001b[0m\n",
      "\u001b[34m[07:38:41] src/tree/updater_prune.cc:74: tree pruning end, 1 roots, 36 extra nodes, 8 pruned nodes, max_depth=5\u001b[0m\n",
      "\u001b[34m[30]#011train-error:0.1732#011validation-error:0.1998\u001b[0m\n",
      "\u001b[34m[07:38:43] src/tree/updater_prune.cc:74: tree pruning end, 1 roots, 18 extra nodes, 6 pruned nodes, max_depth=5\u001b[0m\n",
      "\u001b[34m[31]#011train-error:0.1718#011validation-error:0.1989\u001b[0m\n",
      "\u001b[34m[07:38:44] src/tree/updater_prune.cc:74: tree pruning end, 1 roots, 20 extra nodes, 10 pruned nodes, max_depth=5\u001b[0m\n",
      "\u001b[34m[32]#011train-error:0.171#011validation-error:0.1961\u001b[0m\n",
      "\u001b[34m[07:38:45] src/tree/updater_prune.cc:74: tree pruning end, 1 roots, 30 extra nodes, 8 pruned nodes, max_depth=5\u001b[0m\n",
      "\u001b[34m[33]#011train-error:0.169#011validation-error:0.1958\u001b[0m\n",
      "\u001b[34m[07:38:47] src/tree/updater_prune.cc:74: tree pruning end, 1 roots, 18 extra nodes, 8 pruned nodes, max_depth=5\u001b[0m\n",
      "\u001b[34m[34]#011train-error:0.168067#011validation-error:0.1945\u001b[0m\n",
      "\u001b[34m[07:38:48] src/tree/updater_prune.cc:74: tree pruning end, 1 roots, 18 extra nodes, 12 pruned nodes, max_depth=5\u001b[0m\n",
      "\u001b[34m[35]#011train-error:0.167267#011validation-error:0.1943\u001b[0m\n",
      "\u001b[34m[07:38:49] src/tree/updater_prune.cc:74: tree pruning end, 1 roots, 28 extra nodes, 10 pruned nodes, max_depth=5\u001b[0m\n",
      "\u001b[34m[36]#011train-error:0.165533#011validation-error:0.194\u001b[0m\n",
      "\u001b[34m[07:38:51] src/tree/updater_prune.cc:74: tree pruning end, 1 roots, 36 extra nodes, 4 pruned nodes, max_depth=5\u001b[0m\n",
      "\u001b[34m[37]#011train-error:0.164467#011validation-error:0.1915\u001b[0m\n",
      "\u001b[34m[07:38:52] src/tree/updater_prune.cc:74: tree pruning end, 1 roots, 20 extra nodes, 10 pruned nodes, max_depth=5\u001b[0m\n",
      "\u001b[34m[38]#011train-error:0.163#011validation-error:0.1908\u001b[0m\n"
     ]
    },
    {
     "name": "stdout",
     "output_type": "stream",
     "text": [
      "\u001b[34m[07:38:53] src/tree/updater_prune.cc:74: tree pruning end, 1 roots, 24 extra nodes, 10 pruned nodes, max_depth=5\u001b[0m\n",
      "\u001b[34m[39]#011train-error:0.1618#011validation-error:0.1898\u001b[0m\n",
      "\u001b[34m[07:38:55] src/tree/updater_prune.cc:74: tree pruning end, 1 roots, 26 extra nodes, 6 pruned nodes, max_depth=5\u001b[0m\n",
      "\u001b[34m[40]#011train-error:0.1606#011validation-error:0.1895\u001b[0m\n",
      "\u001b[34m[07:38:56] src/tree/updater_prune.cc:74: tree pruning end, 1 roots, 20 extra nodes, 8 pruned nodes, max_depth=5\u001b[0m\n",
      "\u001b[34m[41]#011train-error:0.158867#011validation-error:0.1886\u001b[0m\n",
      "\u001b[34m[07:38:57] src/tree/updater_prune.cc:74: tree pruning end, 1 roots, 36 extra nodes, 6 pruned nodes, max_depth=5\u001b[0m\n",
      "\u001b[34m[42]#011train-error:0.158733#011validation-error:0.1887\u001b[0m\n",
      "\u001b[34m[07:38:59] src/tree/updater_prune.cc:74: tree pruning end, 1 roots, 16 extra nodes, 8 pruned nodes, max_depth=5\u001b[0m\n",
      "\u001b[34m[43]#011train-error:0.157733#011validation-error:0.1883\u001b[0m\n",
      "\u001b[34m[07:39:00] src/tree/updater_prune.cc:74: tree pruning end, 1 roots, 18 extra nodes, 12 pruned nodes, max_depth=5\u001b[0m\n",
      "\u001b[34m[44]#011train-error:0.157533#011validation-error:0.1879\u001b[0m\n",
      "\u001b[34m[07:39:02] src/tree/updater_prune.cc:74: tree pruning end, 1 roots, 12 extra nodes, 12 pruned nodes, max_depth=5\u001b[0m\n",
      "\u001b[34m[45]#011train-error:0.156533#011validation-error:0.1882\u001b[0m\n",
      "\u001b[34m[07:39:03] src/tree/updater_prune.cc:74: tree pruning end, 1 roots, 26 extra nodes, 12 pruned nodes, max_depth=5\u001b[0m\n",
      "\u001b[34m[46]#011train-error:0.1548#011validation-error:0.187\u001b[0m\n",
      "\u001b[34m[07:39:05] src/tree/updater_prune.cc:74: tree pruning end, 1 roots, 12 extra nodes, 4 pruned nodes, max_depth=5\u001b[0m\n",
      "\u001b[34m[47]#011train-error:0.153733#011validation-error:0.1878\u001b[0m\n",
      "\u001b[34m[07:39:06] src/tree/updater_prune.cc:74: tree pruning end, 1 roots, 28 extra nodes, 8 pruned nodes, max_depth=5\u001b[0m\n",
      "\u001b[34m[48]#011train-error:0.1538#011validation-error:0.1879\u001b[0m\n",
      "\u001b[34m[07:39:08] src/tree/updater_prune.cc:74: tree pruning end, 1 roots, 32 extra nodes, 8 pruned nodes, max_depth=5\u001b[0m\n",
      "\u001b[34m[49]#011train-error:0.1522#011validation-error:0.1878\u001b[0m\n",
      "\u001b[34m[07:39:09] src/tree/updater_prune.cc:74: tree pruning end, 1 roots, 16 extra nodes, 16 pruned nodes, max_depth=5\u001b[0m\n",
      "\u001b[34m[50]#011train-error:0.151#011validation-error:0.1867\u001b[0m\n",
      "\u001b[34m[07:39:11] src/tree/updater_prune.cc:74: tree pruning end, 1 roots, 26 extra nodes, 4 pruned nodes, max_depth=5\u001b[0m\n",
      "\u001b[34m[51]#011train-error:0.150133#011validation-error:0.1868\u001b[0m\n",
      "\u001b[34m[07:39:12] src/tree/updater_prune.cc:74: tree pruning end, 1 roots, 26 extra nodes, 8 pruned nodes, max_depth=5\u001b[0m\n",
      "\u001b[34m[52]#011train-error:0.1504#011validation-error:0.187\u001b[0m\n",
      "\u001b[34m[07:39:13] src/tree/updater_prune.cc:74: tree pruning end, 1 roots, 22 extra nodes, 8 pruned nodes, max_depth=5\u001b[0m\n",
      "\u001b[34m[53]#011train-error:0.150067#011validation-error:0.186\u001b[0m\n",
      "\u001b[34m[07:39:15] src/tree/updater_prune.cc:74: tree pruning end, 1 roots, 12 extra nodes, 8 pruned nodes, max_depth=5\u001b[0m\n",
      "\u001b[34m[54]#011train-error:0.1494#011validation-error:0.1858\u001b[0m\n",
      "\u001b[34m[07:39:16] src/tree/updater_prune.cc:74: tree pruning end, 1 roots, 14 extra nodes, 6 pruned nodes, max_depth=5\u001b[0m\n",
      "\u001b[34m[55]#011train-error:0.148467#011validation-error:0.185\u001b[0m\n",
      "\u001b[34m[07:39:17] src/tree/updater_prune.cc:74: tree pruning end, 1 roots, 14 extra nodes, 10 pruned nodes, max_depth=5\u001b[0m\n",
      "\u001b[34m[56]#011train-error:0.148467#011validation-error:0.1848\u001b[0m\n",
      "\u001b[34m[07:39:19] src/tree/updater_prune.cc:74: tree pruning end, 1 roots, 16 extra nodes, 6 pruned nodes, max_depth=5\u001b[0m\n",
      "\u001b[34m[57]#011train-error:0.147667#011validation-error:0.1843\u001b[0m\n",
      "\u001b[34m[07:39:20] src/tree/updater_prune.cc:74: tree pruning end, 1 roots, 14 extra nodes, 10 pruned nodes, max_depth=5\u001b[0m\n",
      "\u001b[34m[58]#011train-error:0.147133#011validation-error:0.1843\u001b[0m\n",
      "\u001b[34m[07:39:21] src/tree/updater_prune.cc:74: tree pruning end, 1 roots, 26 extra nodes, 8 pruned nodes, max_depth=5\u001b[0m\n",
      "\u001b[34m[59]#011train-error:0.147#011validation-error:0.1838\u001b[0m\n",
      "\u001b[34m[07:39:23] src/tree/updater_prune.cc:74: tree pruning end, 1 roots, 28 extra nodes, 8 pruned nodes, max_depth=5\u001b[0m\n",
      "\u001b[34m[60]#011train-error:0.1458#011validation-error:0.1831\u001b[0m\n",
      "\u001b[34m[07:39:24] src/tree/updater_prune.cc:74: tree pruning end, 1 roots, 34 extra nodes, 14 pruned nodes, max_depth=5\u001b[0m\n",
      "\u001b[34m[61]#011train-error:0.144467#011validation-error:0.1827\u001b[0m\n",
      "\u001b[34m[07:39:25] src/tree/updater_prune.cc:74: tree pruning end, 1 roots, 28 extra nodes, 10 pruned nodes, max_depth=5\u001b[0m\n",
      "\u001b[34m[62]#011train-error:0.143933#011validation-error:0.1833\u001b[0m\n",
      "\u001b[34m[07:39:27] src/tree/updater_prune.cc:74: tree pruning end, 1 roots, 36 extra nodes, 6 pruned nodes, max_depth=5\u001b[0m\n",
      "\u001b[34m[63]#011train-error:0.141267#011validation-error:0.1825\u001b[0m\n",
      "\u001b[34m[07:39:28] src/tree/updater_prune.cc:74: tree pruning end, 1 roots, 18 extra nodes, 12 pruned nodes, max_depth=5\u001b[0m\n",
      "\u001b[34m[64]#011train-error:0.141067#011validation-error:0.1819\u001b[0m\n",
      "\u001b[34m[07:39:30] src/tree/updater_prune.cc:74: tree pruning end, 1 roots, 20 extra nodes, 12 pruned nodes, max_depth=5\u001b[0m\n",
      "\u001b[34m[65]#011train-error:0.140067#011validation-error:0.1816\u001b[0m\n",
      "\u001b[34m[07:39:31] src/tree/updater_prune.cc:74: tree pruning end, 1 roots, 16 extra nodes, 6 pruned nodes, max_depth=5\u001b[0m\n",
      "\u001b[34m[66]#011train-error:0.1388#011validation-error:0.181\u001b[0m\n",
      "\u001b[34m[07:39:32] src/tree/updater_prune.cc:74: tree pruning end, 1 roots, 20 extra nodes, 8 pruned nodes, max_depth=5\u001b[0m\n",
      "\u001b[34m[67]#011train-error:0.137533#011validation-error:0.1804\u001b[0m\n",
      "\u001b[34m[07:39:34] src/tree/updater_prune.cc:74: tree pruning end, 1 roots, 24 extra nodes, 8 pruned nodes, max_depth=5\u001b[0m\n",
      "\u001b[34m[68]#011train-error:0.136467#011validation-error:0.181\u001b[0m\n",
      "\u001b[34m[07:39:35] src/tree/updater_prune.cc:74: tree pruning end, 1 roots, 16 extra nodes, 14 pruned nodes, max_depth=5\u001b[0m\n",
      "\u001b[34m[69]#011train-error:0.136267#011validation-error:0.1813\u001b[0m\n",
      "\u001b[34m[07:39:37] src/tree/updater_prune.cc:74: tree pruning end, 1 roots, 22 extra nodes, 8 pruned nodes, max_depth=5\u001b[0m\n",
      "\u001b[34m[70]#011train-error:0.135667#011validation-error:0.1805\u001b[0m\n",
      "\u001b[34m[07:39:38] src/tree/updater_prune.cc:74: tree pruning end, 1 roots, 16 extra nodes, 10 pruned nodes, max_depth=5\u001b[0m\n",
      "\u001b[34m[71]#011train-error:0.134733#011validation-error:0.18\u001b[0m\n",
      "\u001b[34m[07:39:39] src/tree/updater_prune.cc:74: tree pruning end, 1 roots, 28 extra nodes, 6 pruned nodes, max_depth=5\u001b[0m\n",
      "\u001b[34m[72]#011train-error:0.1344#011validation-error:0.1811\u001b[0m\n",
      "\u001b[34m[07:39:41] src/tree/updater_prune.cc:74: tree pruning end, 1 roots, 20 extra nodes, 12 pruned nodes, max_depth=5\u001b[0m\n",
      "\u001b[34m[73]#011train-error:0.133467#011validation-error:0.181\u001b[0m\n",
      "\u001b[34m[07:39:42] src/tree/updater_prune.cc:74: tree pruning end, 1 roots, 14 extra nodes, 8 pruned nodes, max_depth=5\u001b[0m\n",
      "\u001b[34m[74]#011train-error:0.132467#011validation-error:0.181\u001b[0m\n",
      "\u001b[34m[07:39:43] src/tree/updater_prune.cc:74: tree pruning end, 1 roots, 26 extra nodes, 4 pruned nodes, max_depth=5\u001b[0m\n",
      "\u001b[34m[75]#011train-error:0.131667#011validation-error:0.1805\u001b[0m\n",
      "\u001b[34m[07:39:45] src/tree/updater_prune.cc:74: tree pruning end, 1 roots, 24 extra nodes, 10 pruned nodes, max_depth=5\u001b[0m\n",
      "\u001b[34m[76]#011train-error:0.1304#011validation-error:0.1786\u001b[0m\n",
      "\u001b[34m[07:39:46] src/tree/updater_prune.cc:74: tree pruning end, 1 roots, 12 extra nodes, 6 pruned nodes, max_depth=5\u001b[0m\n",
      "\u001b[34m[77]#011train-error:0.130133#011validation-error:0.1788\u001b[0m\n",
      "\u001b[34m[07:39:47] src/tree/updater_prune.cc:74: tree pruning end, 1 roots, 30 extra nodes, 10 pruned nodes, max_depth=5\u001b[0m\n",
      "\u001b[34m[78]#011train-error:0.1288#011validation-error:0.1773\u001b[0m\n",
      "\u001b[34m[07:39:49] src/tree/updater_prune.cc:74: tree pruning end, 1 roots, 14 extra nodes, 12 pruned nodes, max_depth=5\u001b[0m\n",
      "\u001b[34m[79]#011train-error:0.128133#011validation-error:0.1773\u001b[0m\n",
      "\u001b[34m[07:39:50] src/tree/updater_prune.cc:74: tree pruning end, 1 roots, 22 extra nodes, 12 pruned nodes, max_depth=5\u001b[0m\n",
      "\u001b[34m[80]#011train-error:0.127133#011validation-error:0.1781\u001b[0m\n",
      "\u001b[34m[07:39:51] src/tree/updater_prune.cc:74: tree pruning end, 1 roots, 12 extra nodes, 8 pruned nodes, max_depth=5\u001b[0m\n",
      "\u001b[34m[81]#011train-error:0.127133#011validation-error:0.1778\u001b[0m\n",
      "\u001b[34m[07:39:53] src/tree/updater_prune.cc:74: tree pruning end, 1 roots, 14 extra nodes, 12 pruned nodes, max_depth=5\u001b[0m\n",
      "\u001b[34m[82]#011train-error:0.125667#011validation-error:0.1781\u001b[0m\n",
      "\u001b[34m[07:39:54] src/tree/updater_prune.cc:74: tree pruning end, 1 roots, 18 extra nodes, 10 pruned nodes, max_depth=5\u001b[0m\n",
      "\u001b[34m[83]#011train-error:0.125467#011validation-error:0.1779\u001b[0m\n"
     ]
    },
    {
     "name": "stdout",
     "output_type": "stream",
     "text": [
      "\u001b[34m[07:39:56] src/tree/updater_prune.cc:74: tree pruning end, 1 roots, 16 extra nodes, 12 pruned nodes, max_depth=5\u001b[0m\n",
      "\u001b[34m[84]#011train-error:0.124933#011validation-error:0.1769\u001b[0m\n",
      "\u001b[34m[07:39:57] src/tree/updater_prune.cc:74: tree pruning end, 1 roots, 14 extra nodes, 4 pruned nodes, max_depth=5\u001b[0m\n",
      "\u001b[34m[85]#011train-error:0.1248#011validation-error:0.1774\u001b[0m\n",
      "\u001b[34m[07:39:58] src/tree/updater_prune.cc:74: tree pruning end, 1 roots, 24 extra nodes, 2 pruned nodes, max_depth=5\u001b[0m\n",
      "\u001b[34m[86]#011train-error:0.123867#011validation-error:0.1774\u001b[0m\n",
      "\u001b[34m[07:40:00] src/tree/updater_prune.cc:74: tree pruning end, 1 roots, 30 extra nodes, 12 pruned nodes, max_depth=5\u001b[0m\n",
      "\u001b[34m[87]#011train-error:0.123#011validation-error:0.1767\u001b[0m\n",
      "\u001b[34m[07:40:01] src/tree/updater_prune.cc:74: tree pruning end, 1 roots, 14 extra nodes, 10 pruned nodes, max_depth=5\u001b[0m\n",
      "\u001b[34m[88]#011train-error:0.122133#011validation-error:0.1764\u001b[0m\n",
      "\u001b[34m[07:40:03] src/tree/updater_prune.cc:74: tree pruning end, 1 roots, 18 extra nodes, 8 pruned nodes, max_depth=5\u001b[0m\n",
      "\u001b[34m[89]#011train-error:0.122533#011validation-error:0.1772\u001b[0m\n",
      "\u001b[34m[07:40:04] src/tree/updater_prune.cc:74: tree pruning end, 1 roots, 14 extra nodes, 6 pruned nodes, max_depth=5\u001b[0m\n",
      "\u001b[34m[90]#011train-error:0.122067#011validation-error:0.1774\u001b[0m\n",
      "\n",
      "2022-02-07 07:40:20 Uploading - Uploading generated training model\u001b[34m[07:40:06] src/tree/updater_prune.cc:74: tree pruning end, 1 roots, 20 extra nodes, 8 pruned nodes, max_depth=5\u001b[0m\n",
      "\u001b[34m[91]#011train-error:0.121533#011validation-error:0.1777\u001b[0m\n",
      "\u001b[34m[07:40:07] src/tree/updater_prune.cc:74: tree pruning end, 1 roots, 18 extra nodes, 2 pruned nodes, max_depth=5\u001b[0m\n",
      "\u001b[34m[92]#011train-error:0.121533#011validation-error:0.1772\u001b[0m\n",
      "\u001b[34m[07:40:09] src/tree/updater_prune.cc:74: tree pruning end, 1 roots, 16 extra nodes, 6 pruned nodes, max_depth=5\u001b[0m\n",
      "\u001b[34m[93]#011train-error:0.1206#011validation-error:0.1767\u001b[0m\n",
      "\u001b[34m[07:40:10] src/tree/updater_prune.cc:74: tree pruning end, 1 roots, 20 extra nodes, 4 pruned nodes, max_depth=5\u001b[0m\n",
      "\u001b[34m[94]#011train-error:0.121#011validation-error:0.1764\u001b[0m\n",
      "\u001b[34m[07:40:11] src/tree/updater_prune.cc:74: tree pruning end, 1 roots, 10 extra nodes, 4 pruned nodes, max_depth=5\u001b[0m\n",
      "\u001b[34m[95]#011train-error:0.121267#011validation-error:0.1767\u001b[0m\n",
      "\u001b[34m[07:40:13] src/tree/updater_prune.cc:74: tree pruning end, 1 roots, 10 extra nodes, 2 pruned nodes, max_depth=5\u001b[0m\n",
      "\u001b[34m[96]#011train-error:0.1214#011validation-error:0.177\u001b[0m\n",
      "\u001b[34m[07:40:14] src/tree/updater_prune.cc:74: tree pruning end, 1 roots, 14 extra nodes, 8 pruned nodes, max_depth=5\u001b[0m\n",
      "\u001b[34m[97]#011train-error:0.121067#011validation-error:0.1766\u001b[0m\n",
      "\u001b[34m[07:40:16] src/tree/updater_prune.cc:74: tree pruning end, 1 roots, 22 extra nodes, 12 pruned nodes, max_depth=5\u001b[0m\n",
      "\u001b[34m[98]#011train-error:0.120133#011validation-error:0.1774\u001b[0m\n",
      "\u001b[34mStopping. Best iteration:\u001b[0m\n",
      "\u001b[34m[88]#011train-error:0.122133#011validation-error:0.1764\u001b[0m\n",
      "\n",
      "2022-02-07 07:40:26 Completed - Training job completed\n",
      "Training seconds: 203\n",
      "Billable seconds: 203\n"
     ]
    }
   ],
   "source": [
    "# TODO: Using the new validation and training data, 'fit' your new model.\n",
    "\n",
    "# Solution:\n",
    "new_xgb.fit({'train': s3_new_input_train, 'validation': s3_new_input_validation})"
   ]
  },
  {
   "cell_type": "markdown",
   "metadata": {},
   "source": [
    "### (TODO) Check the new model\n",
    "\n",
    "So now we have a new XGBoost model that we believe more accurately represents the state of the world at this time, at least in how it relates to the sentiment analysis problem that we are working on. The next step is to double check that our model is performing reasonably.\n",
    "\n",
    "To do this, we will first test our model on the new data.\n",
    "\n",
    "**Note:** In practice this is a pretty bad idea. We already trained our model on the new data, so testing it shouldn't really tell us much. In fact, this is sort of a textbook example of leakage. We are only doing it here so that we have a numerical baseline.\n",
    "\n",
    "**Question:** How might you address the leakage problem?"
   ]
  },
  {
   "cell_type": "markdown",
   "metadata": {},
   "source": [
    "First, we create a new transformer based on our new XGBoost model.\n",
    "\n",
    "**TODO:** Create a transformer object from the newly created XGBoost model."
   ]
  },
  {
   "cell_type": "code",
   "execution_count": 62,
   "metadata": {},
   "outputs": [
    {
     "name": "stderr",
     "output_type": "stream",
     "text": [
      "Parameter image will be renamed to image_uri in SageMaker Python SDK v2.\n"
     ]
    }
   ],
   "source": [
    "# TODO: Create a transformer object from the new_xgb model\n",
    "# new_xgb_transformer = None\n",
    "\n",
    "# Solution:\n",
    "new_xgb_transformer = new_xgb.transformer(instance_count = 1, instance_type = 'ml.m4.xlarge')"
   ]
  },
  {
   "cell_type": "markdown",
   "metadata": {},
   "source": [
    "Next we test our model on the new data.\n",
    "\n",
    "**TODO:** Use the transformer object to transform the new data (stored in the `new_data_location` variable)"
   ]
  },
  {
   "cell_type": "code",
   "execution_count": 63,
   "metadata": {},
   "outputs": [
    {
     "name": "stdout",
     "output_type": "stream",
     "text": [
      ".................................\u001b[34mArguments: serve\u001b[0m\n",
      "\u001b[34m[2022-02-07 07:46:29 +0000] [1] [INFO] Starting gunicorn 19.9.0\u001b[0m\n",
      "\u001b[34m[2022-02-07 07:46:29 +0000] [1] [INFO] Listening at: http://0.0.0.0:8080 (1)\u001b[0m\n",
      "\u001b[34m[2022-02-07 07:46:29 +0000] [1] [INFO] Using worker: gevent\u001b[0m\n",
      "\u001b[34m[2022-02-07 07:46:29 +0000] [21] [INFO] Booting worker with pid: 21\u001b[0m\n",
      "\u001b[34m[2022-02-07 07:46:29 +0000] [22] [INFO] Booting worker with pid: 22\u001b[0m\n",
      "\u001b[34m[2022-02-07 07:46:29 +0000] [23] [INFO] Booting worker with pid: 23\u001b[0m\n",
      "\u001b[34m/opt/amazon/lib/python3.7/site-packages/gunicorn/workers/ggevent.py:65: MonkeyPatchWarning: Monkey-patching ssl after ssl has already been imported may lead to errors, including RecursionError on Python 3.6. It may also silently lead to incorrect behaviour on Python 3.7. Please monkey-patch earlier. See https://github.com/gevent/gevent/issues/1016. Modules that had direct imports (NOT patched): ['urllib3.util (/opt/amazon/lib/python3.7/site-packages/urllib3/util/__init__.py)', 'urllib3.util.ssl_ (/opt/amazon/lib/python3.7/site-packages/urllib3/util/ssl_.py)']. \n",
      "  monkey.patch_all(subprocess=True)\u001b[0m\n",
      "\u001b[34m[2022-02-07:07:46:29:INFO] Model loaded successfully for worker : 21\u001b[0m\n",
      "\u001b[34m/opt/amazon/lib/python3.7/site-packages/gunicorn/workers/ggevent.py:65: MonkeyPatchWarning: Monkey-patching ssl after ssl has already been imported may lead to errors, including RecursionError on Python 3.6. It may also silently lead to incorrect behaviour on Python 3.7. Please monkey-patch earlier. See https://github.com/gevent/gevent/issues/1016. Modules that had direct imports (NOT patched): ['urllib3.util (/opt/amazon/lib/python3.7/site-packages/urllib3/util/__init__.py)', 'urllib3.util.ssl_ (/opt/amazon/lib/python3.7/site-packages/urllib3/util/ssl_.py)']. \n",
      "  monkey.patch_all(subprocess=True)\u001b[0m\n",
      "\u001b[34m[2022-02-07:07:46:29:INFO] Model loaded successfully for worker : 22\u001b[0m\n",
      "\u001b[34m/opt/amazon/lib/python3.7/site-packages/gunicorn/workers/ggevent.py:65: MonkeyPatchWarning: Monkey-patching ssl after ssl has already been imported may lead to errors, including RecursionError on Python 3.6. It may also silently lead to incorrect behaviour on Python 3.7. Please monkey-patch earlier. See https://github.com/gevent/gevent/issues/1016. Modules that had direct imports (NOT patched): ['urllib3.util (/opt/amazon/lib/python3.7/site-packages/urllib3/util/__init__.py)', 'urllib3.util.ssl_ (/opt/amazon/lib/python3.7/site-packages/urllib3/util/ssl_.py)']. \n",
      "  monkey.patch_all(subprocess=True)\u001b[0m\n",
      "\u001b[34m[2022-02-07:07:46:29:INFO] Model loaded successfully for worker : 23\u001b[0m\n",
      "\u001b[34m[2022-02-07 07:46:29 +0000] [24] [INFO] Booting worker with pid: 24\u001b[0m\n",
      "\u001b[34m/opt/amazon/lib/python3.7/site-packages/gunicorn/workers/ggevent.py:65: MonkeyPatchWarning: Monkey-patching ssl after ssl has already been imported may lead to errors, including RecursionError on Python 3.6. It may also silently lead to incorrect behaviour on Python 3.7. Please monkey-patch earlier. See https://github.com/gevent/gevent/issues/1016. Modules that had direct imports (NOT patched): ['urllib3.util (/opt/amazon/lib/python3.7/site-packages/urllib3/util/__init__.py)', 'urllib3.util.ssl_ (/opt/amazon/lib/python3.7/site-packages/urllib3/util/ssl_.py)']. \n",
      "  monkey.patch_all(subprocess=True)\u001b[0m\n",
      "\u001b[34m[2022-02-07:07:46:30:INFO] Model loaded successfully for worker : 24\u001b[0m\n",
      "\u001b[32m2022-02-07T07:46:33.777:[sagemaker logs]: MaxConcurrentTransforms=4, MaxPayloadInMB=6, BatchStrategy=MULTI_RECORD\u001b[0m\n",
      "\u001b[34m[2022-02-07:07:46:37:INFO] Sniff delimiter as ','\u001b[0m\n",
      "\u001b[35m[2022-02-07:07:46:37:INFO] Sniff delimiter as ','\u001b[0m\n",
      "\u001b[34m[2022-02-07:07:46:37:INFO] Determined delimiter of CSV input is ','\u001b[0m\n",
      "\u001b[34m[2022-02-07:07:46:37:INFO] Sniff delimiter as ','\u001b[0m\n",
      "\u001b[34m[2022-02-07:07:46:37:INFO] Determined delimiter of CSV input is ','\u001b[0m\n",
      "\u001b[35m[2022-02-07:07:46:37:INFO] Determined delimiter of CSV input is ','\u001b[0m\n",
      "\u001b[35m[2022-02-07:07:46:37:INFO] Sniff delimiter as ','\u001b[0m\n",
      "\u001b[35m[2022-02-07:07:46:37:INFO] Determined delimiter of CSV input is ','\u001b[0m\n",
      "\u001b[34m[2022-02-07:07:46:37:INFO] Sniff delimiter as ','\u001b[0m\n",
      "\u001b[34m[2022-02-07:07:46:37:INFO] Determined delimiter of CSV input is ','\u001b[0m\n",
      "\u001b[34m[2022-02-07:07:46:37:INFO] Sniff delimiter as ','\u001b[0m\n",
      "\u001b[34m[2022-02-07:07:46:37:INFO] Determined delimiter of CSV input is ','\u001b[0m\n",
      "\u001b[35m[2022-02-07:07:46:37:INFO] Sniff delimiter as ','\u001b[0m\n",
      "\u001b[35m[2022-02-07:07:46:37:INFO] Determined delimiter of CSV input is ','\u001b[0m\n",
      "\u001b[35m[2022-02-07:07:46:37:INFO] Sniff delimiter as ','\u001b[0m\n",
      "\u001b[35m[2022-02-07:07:46:37:INFO] Determined delimiter of CSV input is ','\u001b[0m\n",
      "\u001b[34m[2022-02-07:07:46:41:INFO] Sniff delimiter as ','\u001b[0m\n",
      "\u001b[34m[2022-02-07:07:46:41:INFO] Determined delimiter of CSV input is ','\u001b[0m\n",
      "\u001b[34m[2022-02-07:07:46:41:INFO] Sniff delimiter as ','\u001b[0m\n",
      "\u001b[34m[2022-02-07:07:46:41:INFO] Determined delimiter of CSV input is ','\u001b[0m\n",
      "\u001b[34m[2022-02-07:07:46:41:INFO] Sniff delimiter as ','\u001b[0m\n",
      "\u001b[34m[2022-02-07:07:46:41:INFO] Determined delimiter of CSV input is ','\u001b[0m\n",
      "\u001b[35m[2022-02-07:07:46:41:INFO] Sniff delimiter as ','\u001b[0m\n",
      "\u001b[35m[2022-02-07:07:46:41:INFO] Determined delimiter of CSV input is ','\u001b[0m\n",
      "\u001b[35m[2022-02-07:07:46:41:INFO] Sniff delimiter as ','\u001b[0m\n",
      "\u001b[35m[2022-02-07:07:46:41:INFO] Determined delimiter of CSV input is ','\u001b[0m\n",
      "\u001b[35m[2022-02-07:07:46:41:INFO] Sniff delimiter as ','\u001b[0m\n",
      "\u001b[35m[2022-02-07:07:46:41:INFO] Determined delimiter of CSV input is ','\u001b[0m\n",
      "\u001b[34m[2022-02-07:07:46:41:INFO] Sniff delimiter as ','\u001b[0m\n",
      "\u001b[34m[2022-02-07:07:46:41:INFO] Determined delimiter of CSV input is ','\u001b[0m\n",
      "\u001b[35m[2022-02-07:07:46:41:INFO] Sniff delimiter as ','\u001b[0m\n",
      "\u001b[35m[2022-02-07:07:46:41:INFO] Determined delimiter of CSV input is ','\u001b[0m\n",
      "\u001b[34m[2022-02-07:07:46:44:INFO] Sniff delimiter as ','\u001b[0m\n",
      "\u001b[34m[2022-02-07:07:46:44:INFO] Determined delimiter of CSV input is ','\u001b[0m\n",
      "\u001b[34m[2022-02-07:07:46:45:INFO] Sniff delimiter as ','\u001b[0m\n",
      "\u001b[34m[2022-02-07:07:46:45:INFO] Determined delimiter of CSV input is ','\u001b[0m\n",
      "\u001b[34m[2022-02-07:07:46:45:INFO] Sniff delimiter as ','\u001b[0m\n",
      "\u001b[34m[2022-02-07:07:46:45:INFO] Determined delimiter of CSV input is ','\u001b[0m\n",
      "\u001b[34m[2022-02-07:07:46:45:INFO] Sniff delimiter as ','\u001b[0m\n",
      "\u001b[34m[2022-02-07:07:46:45:INFO] Determined delimiter of CSV input is ','\u001b[0m\n",
      "\u001b[35m[2022-02-07:07:46:44:INFO] Sniff delimiter as ','\u001b[0m\n",
      "\u001b[35m[2022-02-07:07:46:44:INFO] Determined delimiter of CSV input is ','\u001b[0m\n",
      "\u001b[35m[2022-02-07:07:46:45:INFO] Sniff delimiter as ','\u001b[0m\n",
      "\u001b[35m[2022-02-07:07:46:45:INFO] Determined delimiter of CSV input is ','\u001b[0m\n",
      "\u001b[35m[2022-02-07:07:46:45:INFO] Sniff delimiter as ','\u001b[0m\n",
      "\u001b[35m[2022-02-07:07:46:45:INFO] Determined delimiter of CSV input is ','\u001b[0m\n",
      "\u001b[35m[2022-02-07:07:46:45:INFO] Sniff delimiter as ','\u001b[0m\n",
      "\u001b[35m[2022-02-07:07:46:45:INFO] Determined delimiter of CSV input is ','\u001b[0m\n",
      "\u001b[34m[2022-02-07:07:46:52:INFO] Sniff delimiter as ','\u001b[0m\n",
      "\u001b[34m[2022-02-07:07:46:52:INFO] Determined delimiter of CSV input is ','\u001b[0m\n",
      "\u001b[34m[2022-02-07:07:46:52:INFO] Sniff delimiter as ','\u001b[0m\n",
      "\u001b[34m[2022-02-07:07:46:52:INFO] Determined delimiter of CSV input is ','\u001b[0m\n",
      "\u001b[34m[2022-02-07:07:46:52:INFO] Sniff delimiter as ','\u001b[0m\n",
      "\u001b[34m[2022-02-07:07:46:52:INFO] Determined delimiter of CSV input is ','\u001b[0m\n",
      "\u001b[34m[2022-02-07:07:46:53:INFO] Sniff delimiter as ','\u001b[0m\n",
      "\u001b[34m[2022-02-07:07:46:53:INFO] Determined delimiter of CSV input is ','\u001b[0m\n",
      "\u001b[35m[2022-02-07:07:46:52:INFO] Sniff delimiter as ','\u001b[0m\n",
      "\u001b[35m[2022-02-07:07:46:52:INFO] Determined delimiter of CSV input is ','\u001b[0m\n",
      "\u001b[35m[2022-02-07:07:46:52:INFO] Sniff delimiter as ','\u001b[0m\n",
      "\u001b[35m[2022-02-07:07:46:52:INFO] Determined delimiter of CSV input is ','\u001b[0m\n",
      "\u001b[35m[2022-02-07:07:46:52:INFO] Sniff delimiter as ','\u001b[0m\n",
      "\u001b[35m[2022-02-07:07:46:52:INFO] Determined delimiter of CSV input is ','\u001b[0m\n",
      "\u001b[35m[2022-02-07:07:46:53:INFO] Sniff delimiter as ','\u001b[0m\n",
      "\u001b[35m[2022-02-07:07:46:53:INFO] Determined delimiter of CSV input is ','\u001b[0m\n",
      "\u001b[34m[2022-02-07:07:47:00:INFO] Sniff delimiter as ','\u001b[0m\n",
      "\u001b[34m[2022-02-07:07:47:00:INFO] Determined delimiter of CSV input is ','\u001b[0m\n",
      "\u001b[34m[2022-02-07:07:47:00:INFO] Sniff delimiter as ','\u001b[0m\n",
      "\u001b[34m[2022-02-07:07:47:00:INFO] Determined delimiter of CSV input is ','\u001b[0m\n",
      "\u001b[34m[2022-02-07:07:47:00:INFO] Sniff delimiter as ','\u001b[0m\n",
      "\u001b[35m[2022-02-07:07:47:00:INFO] Sniff delimiter as ','\u001b[0m\n",
      "\u001b[35m[2022-02-07:07:47:00:INFO] Determined delimiter of CSV input is ','\u001b[0m\n",
      "\u001b[35m[2022-02-07:07:47:00:INFO] Sniff delimiter as ','\u001b[0m\n",
      "\u001b[35m[2022-02-07:07:47:00:INFO] Determined delimiter of CSV input is ','\u001b[0m\n",
      "\u001b[35m[2022-02-07:07:47:00:INFO] Sniff delimiter as ','\u001b[0m\n",
      "\u001b[34m[2022-02-07:07:47:00:INFO] Determined delimiter of CSV input is ','\u001b[0m\n",
      "\u001b[35m[2022-02-07:07:47:00:INFO] Determined delimiter of CSV input is ','\u001b[0m\n",
      "\u001b[34m[2022-02-07:07:47:00:INFO] Sniff delimiter as ','\u001b[0m\n",
      "\u001b[34m[2022-02-07:07:47:00:INFO] Determined delimiter of CSV input is ','\u001b[0m\n",
      "\u001b[35m[2022-02-07:07:47:00:INFO] Sniff delimiter as ','\u001b[0m\n",
      "\u001b[35m[2022-02-07:07:47:00:INFO] Determined delimiter of CSV input is ','\u001b[0m\n",
      "\u001b[34m[2022-02-07:07:47:03:INFO] Sniff delimiter as ','\u001b[0m\n",
      "\u001b[34m[2022-02-07:07:47:03:INFO] Determined delimiter of CSV input is ','\u001b[0m\n",
      "\u001b[34m[2022-02-07:07:47:03:INFO] Sniff delimiter as ','\u001b[0m\n",
      "\u001b[34m[2022-02-07:07:47:03:INFO] Determined delimiter of CSV input is ','\u001b[0m\n",
      "\u001b[34m[2022-02-07:07:47:04:INFO] Sniff delimiter as ','\u001b[0m\n",
      "\u001b[34m[2022-02-07:07:47:04:INFO] Determined delimiter of CSV input is ','\u001b[0m\n",
      "\u001b[35m[2022-02-07:07:47:03:INFO] Sniff delimiter as ','\u001b[0m\n",
      "\u001b[35m[2022-02-07:07:47:03:INFO] Determined delimiter of CSV input is ','\u001b[0m\n",
      "\u001b[35m[2022-02-07:07:47:03:INFO] Sniff delimiter as ','\u001b[0m\n",
      "\u001b[35m[2022-02-07:07:47:03:INFO] Determined delimiter of CSV input is ','\u001b[0m\n",
      "\u001b[35m[2022-02-07:07:47:04:INFO] Sniff delimiter as ','\u001b[0m\n",
      "\u001b[35m[2022-02-07:07:47:04:INFO] Determined delimiter of CSV input is ','\u001b[0m\n",
      "\u001b[34m[2022-02-07:07:47:04:INFO] Sniff delimiter as ','\u001b[0m\n",
      "\u001b[34m[2022-02-07:07:47:04:INFO] Determined delimiter of CSV input is ','\u001b[0m\n"
     ]
    },
    {
     "name": "stdout",
     "output_type": "stream",
     "text": [
      "\u001b[35m[2022-02-07:07:47:04:INFO] Sniff delimiter as ','\u001b[0m\n",
      "\u001b[35m[2022-02-07:07:47:04:INFO] Determined delimiter of CSV input is ','\u001b[0m\n",
      "\u001b[34m[2022-02-07:07:47:07:INFO] Sniff delimiter as ','\u001b[0m\n",
      "\u001b[35m[2022-02-07:07:47:07:INFO] Sniff delimiter as ','\u001b[0m\n",
      "\u001b[34m[2022-02-07:07:47:07:INFO] Determined delimiter of CSV input is ','\u001b[0m\n",
      "\u001b[34m[2022-02-07:07:47:08:INFO] Sniff delimiter as ','\u001b[0m\n",
      "\u001b[34m[2022-02-07:07:47:08:INFO] Determined delimiter of CSV input is ','\u001b[0m\n",
      "\u001b[34m[2022-02-07:07:47:08:INFO] Sniff delimiter as ','\u001b[0m\n",
      "\u001b[34m[2022-02-07:07:47:08:INFO] Determined delimiter of CSV input is ','\u001b[0m\n",
      "\u001b[35m[2022-02-07:07:47:07:INFO] Determined delimiter of CSV input is ','\u001b[0m\n",
      "\u001b[35m[2022-02-07:07:47:08:INFO] Sniff delimiter as ','\u001b[0m\n",
      "\u001b[35m[2022-02-07:07:47:08:INFO] Determined delimiter of CSV input is ','\u001b[0m\n",
      "\u001b[35m[2022-02-07:07:47:08:INFO] Sniff delimiter as ','\u001b[0m\n",
      "\u001b[35m[2022-02-07:07:47:08:INFO] Determined delimiter of CSV input is ','\u001b[0m\n",
      "\u001b[34m[2022-02-07:07:47:11:INFO] Sniff delimiter as ','\u001b[0m\n",
      "\u001b[34m[2022-02-07:07:47:11:INFO] Determined delimiter of CSV input is ','\u001b[0m\n",
      "\u001b[35m[2022-02-07:07:47:11:INFO] Sniff delimiter as ','\u001b[0m\n",
      "\u001b[35m[2022-02-07:07:47:11:INFO] Determined delimiter of CSV input is ','\u001b[0m\n",
      "\u001b[34m[2022-02-07:07:47:11:INFO] Sniff delimiter as ','\u001b[0m\n",
      "\u001b[34m[2022-02-07:07:47:11:INFO] Determined delimiter of CSV input is ','\u001b[0m\n",
      "\u001b[34m[2022-02-07:07:47:12:INFO] Sniff delimiter as ','\u001b[0m\n",
      "\u001b[34m[2022-02-07:07:47:12:INFO] Determined delimiter of CSV input is ','\u001b[0m\n",
      "\u001b[34m[2022-02-07:07:47:12:INFO] Sniff delimiter as ','\u001b[0m\n",
      "\u001b[35m[2022-02-07:07:47:11:INFO] Sniff delimiter as ','\u001b[0m\n",
      "\u001b[35m[2022-02-07:07:47:11:INFO] Determined delimiter of CSV input is ','\u001b[0m\n",
      "\u001b[35m[2022-02-07:07:47:12:INFO] Sniff delimiter as ','\u001b[0m\n",
      "\u001b[35m[2022-02-07:07:47:12:INFO] Determined delimiter of CSV input is ','\u001b[0m\n",
      "\u001b[35m[2022-02-07:07:47:12:INFO] Sniff delimiter as ','\u001b[0m\n",
      "\u001b[34m[2022-02-07:07:47:12:INFO] Determined delimiter of CSV input is ','\u001b[0m\n",
      "\u001b[35m[2022-02-07:07:47:12:INFO] Determined delimiter of CSV input is ','\u001b[0m\n",
      "\n"
     ]
    }
   ],
   "source": [
    "# TODO: Using new_xgb_transformer, transform the new_data_location data. You may wish to\n",
    "#       'wait' for the transform job to finish.\n",
    "\n",
    "# Solution:\n",
    "new_xgb_transformer.transform(new_data_location, content_type='text/csv', split_type='Line')\n",
    "new_xgb_transformer.wait()"
   ]
  },
  {
   "cell_type": "markdown",
   "metadata": {},
   "source": [
    "Copy the results to our local instance."
   ]
  },
  {
   "cell_type": "code",
   "execution_count": 64,
   "metadata": {},
   "outputs": [
    {
     "name": "stdout",
     "output_type": "stream",
     "text": [
      "Completed 256.0 KiB/470.1 KiB (2.6 MiB/s) with 1 file(s) remaining\r",
      "Completed 470.1 KiB/470.1 KiB (4.6 MiB/s) with 1 file(s) remaining\r",
      "download: s3://sagemaker-us-east-1-801008216402/xgboost-2022-02-07-07-41-02-744/new_data.csv.out to ../data/sentiment_update/new_data.csv.out\r\n"
     ]
    }
   ],
   "source": [
    "!aws s3 cp --recursive $new_xgb_transformer.output_path $data_dir"
   ]
  },
  {
   "cell_type": "markdown",
   "metadata": {},
   "source": [
    "And see how well the model did."
   ]
  },
  {
   "cell_type": "code",
   "execution_count": 65,
   "metadata": {},
   "outputs": [],
   "source": [
    "predictions = pd.read_csv(os.path.join(data_dir, 'new_data.csv.out'), header=None)\n",
    "predictions = [round(num) for num in predictions.squeeze().values]"
   ]
  },
  {
   "cell_type": "code",
   "execution_count": 66,
   "metadata": {},
   "outputs": [
    {
     "data": {
      "text/plain": [
       "0.85616"
      ]
     },
     "execution_count": 66,
     "metadata": {},
     "output_type": "execute_result"
    }
   ],
   "source": [
    "accuracy_score(new_Y, predictions)"
   ]
  },
  {
   "cell_type": "markdown",
   "metadata": {},
   "source": [
    "As expected, since we trained the model on this data, our model performs pretty well. So, we have reason to believe that our new XGBoost model is a \"better\" model.\n",
    "\n",
    "However, before we start changing our deployed model, we should first make sure that our new model isn't too different. In other words, if our new model performed really poorly on the original test data then this might be an indication that something else has gone wrong.\n",
    "\n",
    "To start with, since we got rid of the variable that stored the original test reviews, we will read them in again from the cache that we created in Step 3. Note that we need to make sure that we read in the original test data after it has been pre-processed with `nltk` but before it has been bag of words encoded. This is because we need to use the new vocabulary instead of the original one."
   ]
  },
  {
   "cell_type": "code",
   "execution_count": 67,
   "metadata": {},
   "outputs": [
    {
     "name": "stdout",
     "output_type": "stream",
     "text": [
      "Read preprocessed data from cache file: preprocessed_data.pkl\n"
     ]
    }
   ],
   "source": [
    "cache_data = None\n",
    "with open(os.path.join(cache_dir, \"preprocessed_data.pkl\"), \"rb\") as f:\n",
    "            cache_data = pickle.load(f)\n",
    "            print(\"Read preprocessed data from cache file:\", \"preprocessed_data.pkl\")\n",
    "            \n",
    "test_X = cache_data['words_test']\n",
    "test_Y = cache_data['labels_test']\n",
    "\n",
    "# Here we set cache_data to None so that it doesn't occupy memory\n",
    "cache_data = None"
   ]
  },
  {
   "cell_type": "markdown",
   "metadata": {},
   "source": [
    "Once we've loaded the original test reviews, we need to create a bag of words encoding of them using the new vocabulary that we created, based on the new data.\n",
    "\n",
    "**TODO:** Transform the original test data using the new vocabulary."
   ]
  },
  {
   "cell_type": "code",
   "execution_count": 68,
   "metadata": {},
   "outputs": [],
   "source": [
    "# TODO: Use the new_vectorizer object that you created earlier to transform the test_X data.\n",
    "# test_X = None\n",
    "\n",
    "# Solution:\n",
    "test_X = new_vectorizer.transform(test_X).toarray()"
   ]
  },
  {
   "cell_type": "markdown",
   "metadata": {},
   "source": [
    "Now that we have correctly encoded the original test data, we can write it to the local instance, upload it to S3 and test it."
   ]
  },
  {
   "cell_type": "code",
   "execution_count": 69,
   "metadata": {},
   "outputs": [],
   "source": [
    "pd.DataFrame(test_X).to_csv(os.path.join(data_dir, 'test.csv'), header=False, index=False)"
   ]
  },
  {
   "cell_type": "code",
   "execution_count": 70,
   "metadata": {},
   "outputs": [],
   "source": [
    "test_location = session.upload_data(os.path.join(data_dir, 'test.csv'), key_prefix=prefix)"
   ]
  },
  {
   "cell_type": "code",
   "execution_count": 71,
   "metadata": {
    "scrolled": false
   },
   "outputs": [
    {
     "name": "stdout",
     "output_type": "stream",
     "text": [
      "...................................\u001b[34mArguments: serve\u001b[0m\n",
      "\u001b[34m[2022-02-07 07:54:10 +0000] [1] [INFO] Starting gunicorn 19.9.0\u001b[0m\n",
      "\u001b[34m[2022-02-07 07:54:10 +0000] [1] [INFO] Listening at: http://0.0.0.0:8080 (1)\u001b[0m\n",
      "\u001b[34m[2022-02-07 07:54:10 +0000] [1] [INFO] Using worker: gevent\u001b[0m\n",
      "\u001b[34m[2022-02-07 07:54:10 +0000] [22] [INFO] Booting worker with pid: 22\u001b[0m\n",
      "\u001b[34m[2022-02-07 07:54:10 +0000] [23] [INFO] Booting worker with pid: 23\u001b[0m\n",
      "\u001b[34m/opt/amazon/lib/python3.7/site-packages/gunicorn/workers/ggevent.py:65: MonkeyPatchWarning: Monkey-patching ssl after ssl has already been imported may lead to errors, including RecursionError on Python 3.6. It may also silently lead to incorrect behaviour on Python 3.7. Please monkey-patch earlier. See https://github.com/gevent/gevent/issues/1016. Modules that had direct imports (NOT patched): ['urllib3.util.ssl_ (/opt/amazon/lib/python3.7/site-packages/urllib3/util/ssl_.py)', 'urllib3.util (/opt/amazon/lib/python3.7/site-packages/urllib3/util/__init__.py)']. \n",
      "  monkey.patch_all(subprocess=True)\u001b[0m\n",
      "\u001b[34m/opt/amazon/lib/python3.7/site-packages/gunicorn/workers/ggevent.py:65: MonkeyPatchWarning: Monkey-patching ssl after ssl has already been imported may lead to errors, including RecursionError on Python 3.6. It may also silently lead to incorrect behaviour on Python 3.7. Please monkey-patch earlier. See https://github.com/gevent/gevent/issues/1016. Modules that had direct imports (NOT patched): ['urllib3.util.ssl_ (/opt/amazon/lib/python3.7/site-packages/urllib3/util/ssl_.py)', 'urllib3.util (/opt/amazon/lib/python3.7/site-packages/urllib3/util/__init__.py)']. \n",
      "  monkey.patch_all(subprocess=True)\u001b[0m\n",
      "\u001b[34m[2022-02-07:07:54:10:INFO] Model loaded successfully for worker : 22\u001b[0m\n",
      "\u001b[34m[2022-02-07:07:54:10:INFO] Model loaded successfully for worker : 23\u001b[0m\n",
      "\u001b[34m[2022-02-07 07:54:10 +0000] [24] [INFO] Booting worker with pid: 24\u001b[0m\n",
      "\u001b[34m[2022-02-07 07:54:10 +0000] [25] [INFO] Booting worker with pid: 25\u001b[0m\n",
      "\u001b[34m/opt/amazon/lib/python3.7/site-packages/gunicorn/workers/ggevent.py:65: MonkeyPatchWarning: Monkey-patching ssl after ssl has already been imported may lead to errors, including RecursionError on Python 3.6. It may also silently lead to incorrect behaviour on Python 3.7. Please monkey-patch earlier. See https://github.com/gevent/gevent/issues/1016. Modules that had direct imports (NOT patched): ['urllib3.util.ssl_ (/opt/amazon/lib/python3.7/site-packages/urllib3/util/ssl_.py)', 'urllib3.util (/opt/amazon/lib/python3.7/site-packages/urllib3/util/__init__.py)']. \n",
      "  monkey.patch_all(subprocess=True)\u001b[0m\n",
      "\u001b[34m[2022-02-07:07:54:10:INFO] Model loaded successfully for worker : 24\u001b[0m\n",
      "\u001b[34m/opt/amazon/lib/python3.7/site-packages/gunicorn/workers/ggevent.py:65: MonkeyPatchWarning: Monkey-patching ssl after ssl has already been imported may lead to errors, including RecursionError on Python 3.6. It may also silently lead to incorrect behaviour on Python 3.7. Please monkey-patch earlier. See https://github.com/gevent/gevent/issues/1016. Modules that had direct imports (NOT patched): ['urllib3.util.ssl_ (/opt/amazon/lib/python3.7/site-packages/urllib3/util/ssl_.py)', 'urllib3.util (/opt/amazon/lib/python3.7/site-packages/urllib3/util/__init__.py)']. \n",
      "  monkey.patch_all(subprocess=True)\u001b[0m\n",
      "\u001b[34m[2022-02-07:07:54:10:INFO] Model loaded successfully for worker : 25\u001b[0m\n",
      "\u001b[32m2022-02-07T07:54:13.840:[sagemaker logs]: MaxConcurrentTransforms=4, MaxPayloadInMB=6, BatchStrategy=MULTI_RECORD\u001b[0m\n",
      "\u001b[34m[2022-02-07:07:54:17:INFO] Sniff delimiter as ','\u001b[0m\n",
      "\u001b[34m[2022-02-07:07:54:17:INFO] Determined delimiter of CSV input is ','\u001b[0m\n",
      "\u001b[34m[2022-02-07:07:54:17:INFO] Sniff delimiter as ','\u001b[0m\n",
      "\u001b[34m[2022-02-07:07:54:17:INFO] Determined delimiter of CSV input is ','\u001b[0m\n",
      "\u001b[34m[2022-02-07:07:54:17:INFO] Sniff delimiter as ','\u001b[0m\n",
      "\u001b[34m[2022-02-07:07:54:17:INFO] Determined delimiter of CSV input is ','\u001b[0m\n",
      "\u001b[35m[2022-02-07:07:54:17:INFO] Sniff delimiter as ','\u001b[0m\n",
      "\u001b[35m[2022-02-07:07:54:17:INFO] Determined delimiter of CSV input is ','\u001b[0m\n",
      "\u001b[35m[2022-02-07:07:54:17:INFO] Sniff delimiter as ','\u001b[0m\n",
      "\u001b[35m[2022-02-07:07:54:17:INFO] Determined delimiter of CSV input is ','\u001b[0m\n",
      "\u001b[35m[2022-02-07:07:54:17:INFO] Sniff delimiter as ','\u001b[0m\n",
      "\u001b[35m[2022-02-07:07:54:17:INFO] Determined delimiter of CSV input is ','\u001b[0m\n",
      "\u001b[34m[2022-02-07:07:54:19:INFO] Sniff delimiter as ','\u001b[0m\n",
      "\u001b[34m[2022-02-07:07:54:19:INFO] Determined delimiter of CSV input is ','\u001b[0m\n",
      "\u001b[35m[2022-02-07:07:54:19:INFO] Sniff delimiter as ','\u001b[0m\n",
      "\u001b[35m[2022-02-07:07:54:19:INFO] Determined delimiter of CSV input is ','\u001b[0m\n",
      "\u001b[34m[2022-02-07:07:54:21:INFO] Sniff delimiter as ','\u001b[0m\n",
      "\u001b[34m[2022-02-07:07:54:21:INFO] Determined delimiter of CSV input is ','\u001b[0m\n",
      "\u001b[35m[2022-02-07:07:54:21:INFO] Sniff delimiter as ','\u001b[0m\n",
      "\u001b[35m[2022-02-07:07:54:21:INFO] Determined delimiter of CSV input is ','\u001b[0m\n",
      "\u001b[34m[2022-02-07:07:54:21:INFO] Sniff delimiter as ','\u001b[0m\n",
      "\u001b[34m[2022-02-07:07:54:21:INFO] Determined delimiter of CSV input is ','\u001b[0m\n",
      "\u001b[34m[2022-02-07:07:54:21:INFO] Sniff delimiter as ','\u001b[0m\n",
      "\u001b[34m[2022-02-07:07:54:21:INFO] Determined delimiter of CSV input is ','\u001b[0m\n",
      "\u001b[35m[2022-02-07:07:54:21:INFO] Sniff delimiter as ','\u001b[0m\n",
      "\u001b[35m[2022-02-07:07:54:21:INFO] Determined delimiter of CSV input is ','\u001b[0m\n",
      "\u001b[35m[2022-02-07:07:54:21:INFO] Sniff delimiter as ','\u001b[0m\n",
      "\u001b[35m[2022-02-07:07:54:21:INFO] Determined delimiter of CSV input is ','\u001b[0m\n",
      "\u001b[34m[2022-02-07:07:54:26:INFO] Sniff delimiter as ','\u001b[0m\n",
      "\u001b[34m[2022-02-07:07:54:26:INFO] Determined delimiter of CSV input is ','\u001b[0m\n",
      "\u001b[34m[2022-02-07:07:54:26:INFO] Sniff delimiter as ','\u001b[0m\n",
      "\u001b[34m[2022-02-07:07:54:26:INFO] Determined delimiter of CSV input is ','\u001b[0m\n",
      "\u001b[34m[2022-02-07:07:54:26:INFO] Sniff delimiter as ','\u001b[0m\n",
      "\u001b[34m[2022-02-07:07:54:26:INFO] Determined delimiter of CSV input is ','\u001b[0m\n",
      "\u001b[35m[2022-02-07:07:54:26:INFO] Sniff delimiter as ','\u001b[0m\n",
      "\u001b[35m[2022-02-07:07:54:26:INFO] Determined delimiter of CSV input is ','\u001b[0m\n",
      "\u001b[35m[2022-02-07:07:54:26:INFO] Sniff delimiter as ','\u001b[0m\n",
      "\u001b[35m[2022-02-07:07:54:26:INFO] Determined delimiter of CSV input is ','\u001b[0m\n",
      "\u001b[35m[2022-02-07:07:54:26:INFO] Sniff delimiter as ','\u001b[0m\n",
      "\u001b[35m[2022-02-07:07:54:26:INFO] Determined delimiter of CSV input is ','\u001b[0m\n",
      "\u001b[34m[2022-02-07:07:54:26:INFO] Sniff delimiter as ','\u001b[0m\n",
      "\u001b[35m[2022-02-07:07:54:26:INFO] Sniff delimiter as ','\u001b[0m\n",
      "\u001b[34m[2022-02-07:07:54:26:INFO] Determined delimiter of CSV input is ','\u001b[0m\n",
      "\u001b[35m[2022-02-07:07:54:26:INFO] Determined delimiter of CSV input is ','\u001b[0m\n",
      "\u001b[34m[2022-02-07:07:54:29:INFO] Sniff delimiter as ','\u001b[0m\n",
      "\u001b[35m[2022-02-07:07:54:29:INFO] Sniff delimiter as ','\u001b[0m\n",
      "\u001b[34m[2022-02-07:07:54:29:INFO] Determined delimiter of CSV input is ','\u001b[0m\n",
      "\u001b[34m[2022-02-07:07:54:29:INFO] Sniff delimiter as ','\u001b[0m\n",
      "\u001b[34m[2022-02-07:07:54:29:INFO] Determined delimiter of CSV input is ','\u001b[0m\n",
      "\u001b[34m[2022-02-07:07:54:30:INFO] Sniff delimiter as ','\u001b[0m\n",
      "\u001b[34m[2022-02-07:07:54:30:INFO] Determined delimiter of CSV input is ','\u001b[0m\n",
      "\u001b[34m[2022-02-07:07:54:30:INFO] Sniff delimiter as ','\u001b[0m\n",
      "\u001b[34m[2022-02-07:07:54:30:INFO] Determined delimiter of CSV input is ','\u001b[0m\n",
      "\u001b[35m[2022-02-07:07:54:29:INFO] Determined delimiter of CSV input is ','\u001b[0m\n",
      "\u001b[35m[2022-02-07:07:54:29:INFO] Sniff delimiter as ','\u001b[0m\n",
      "\u001b[35m[2022-02-07:07:54:29:INFO] Determined delimiter of CSV input is ','\u001b[0m\n",
      "\u001b[35m[2022-02-07:07:54:30:INFO] Sniff delimiter as ','\u001b[0m\n",
      "\u001b[35m[2022-02-07:07:54:30:INFO] Determined delimiter of CSV input is ','\u001b[0m\n",
      "\u001b[35m[2022-02-07:07:54:30:INFO] Sniff delimiter as ','\u001b[0m\n",
      "\u001b[35m[2022-02-07:07:54:30:INFO] Determined delimiter of CSV input is ','\u001b[0m\n",
      "\u001b[34m[2022-02-07:07:54:33:INFO] Sniff delimiter as ','\u001b[0m\n",
      "\u001b[34m[2022-02-07:07:54:33:INFO] Determined delimiter of CSV input is ','\u001b[0m\n",
      "\u001b[34m[2022-02-07:07:54:33:INFO] Sniff delimiter as ','\u001b[0m\n",
      "\u001b[34m[2022-02-07:07:54:33:INFO] Determined delimiter of CSV input is ','\u001b[0m\n",
      "\u001b[34m[2022-02-07:07:54:33:INFO] Sniff delimiter as ','\u001b[0m\n",
      "\u001b[34m[2022-02-07:07:54:33:INFO] Determined delimiter of CSV input is ','\u001b[0m\n",
      "\u001b[34m[2022-02-07:07:54:34:INFO] Sniff delimiter as ','\u001b[0m\n",
      "\u001b[34m[2022-02-07:07:54:34:INFO] Determined delimiter of CSV input is ','\u001b[0m\n",
      "\u001b[35m[2022-02-07:07:54:33:INFO] Sniff delimiter as ','\u001b[0m\n",
      "\u001b[35m[2022-02-07:07:54:33:INFO] Determined delimiter of CSV input is ','\u001b[0m\n",
      "\u001b[35m[2022-02-07:07:54:33:INFO] Sniff delimiter as ','\u001b[0m\n",
      "\u001b[35m[2022-02-07:07:54:33:INFO] Determined delimiter of CSV input is ','\u001b[0m\n",
      "\u001b[35m[2022-02-07:07:54:33:INFO] Sniff delimiter as ','\u001b[0m\n",
      "\u001b[35m[2022-02-07:07:54:33:INFO] Determined delimiter of CSV input is ','\u001b[0m\n",
      "\u001b[35m[2022-02-07:07:54:34:INFO] Sniff delimiter as ','\u001b[0m\n",
      "\u001b[35m[2022-02-07:07:54:34:INFO] Determined delimiter of CSV input is ','\u001b[0m\n"
     ]
    },
    {
     "name": "stdout",
     "output_type": "stream",
     "text": [
      "\u001b[34m[2022-02-07:07:54:41:INFO] Sniff delimiter as ','\u001b[0m\n",
      "\u001b[34m[2022-02-07:07:54:41:INFO] Determined delimiter of CSV input is ','\u001b[0m\n",
      "\u001b[35m[2022-02-07:07:54:41:INFO] Sniff delimiter as ','\u001b[0m\n",
      "\u001b[35m[2022-02-07:07:54:41:INFO] Determined delimiter of CSV input is ','\u001b[0m\n",
      "\u001b[34m[2022-02-07:07:54:41:INFO] Sniff delimiter as ','\u001b[0m\n",
      "\u001b[34m[2022-02-07:07:54:41:INFO] Determined delimiter of CSV input is ','\u001b[0m\n",
      "\u001b[34m[2022-02-07:07:54:41:INFO] Sniff delimiter as ','\u001b[0m\n",
      "\u001b[34m[2022-02-07:07:54:41:INFO] Determined delimiter of CSV input is ','\u001b[0m\n",
      "\u001b[34m[2022-02-07:07:54:41:INFO] Sniff delimiter as ','\u001b[0m\n",
      "\u001b[34m[2022-02-07:07:54:41:INFO] Determined delimiter of CSV input is ','\u001b[0m\n",
      "\u001b[35m[2022-02-07:07:54:41:INFO] Sniff delimiter as ','\u001b[0m\n",
      "\u001b[35m[2022-02-07:07:54:41:INFO] Determined delimiter of CSV input is ','\u001b[0m\n",
      "\u001b[35m[2022-02-07:07:54:41:INFO] Sniff delimiter as ','\u001b[0m\n",
      "\u001b[35m[2022-02-07:07:54:41:INFO] Determined delimiter of CSV input is ','\u001b[0m\n",
      "\u001b[35m[2022-02-07:07:54:41:INFO] Sniff delimiter as ','\u001b[0m\n",
      "\u001b[35m[2022-02-07:07:54:41:INFO] Determined delimiter of CSV input is ','\u001b[0m\n",
      "\u001b[34m[2022-02-07:07:54:45:INFO] Sniff delimiter as ','\u001b[0m\n",
      "\u001b[34m[2022-02-07:07:54:45:INFO] Determined delimiter of CSV input is ','\u001b[0m\n",
      "\u001b[35m[2022-02-07:07:54:45:INFO] Sniff delimiter as ','\u001b[0m\n",
      "\u001b[35m[2022-02-07:07:54:45:INFO] Determined delimiter of CSV input is ','\u001b[0m\n",
      "\u001b[34m[2022-02-07:07:54:45:INFO] Sniff delimiter as ','\u001b[0m\n",
      "\u001b[34m[2022-02-07:07:54:45:INFO] Determined delimiter of CSV input is ','\u001b[0m\n",
      "\u001b[34m[2022-02-07:07:54:45:INFO] Sniff delimiter as ','\u001b[0m\n",
      "\u001b[35m[2022-02-07:07:54:45:INFO] Sniff delimiter as ','\u001b[0m\n",
      "\u001b[35m[2022-02-07:07:54:45:INFO] Determined delimiter of CSV input is ','\u001b[0m\n",
      "\u001b[35m[2022-02-07:07:54:45:INFO] Sniff delimiter as ','\u001b[0m\n",
      "\u001b[34m[2022-02-07:07:54:45:INFO] Determined delimiter of CSV input is ','\u001b[0m\n",
      "\u001b[34m[2022-02-07:07:54:45:INFO] Sniff delimiter as ','\u001b[0m\n",
      "\u001b[34m[2022-02-07:07:54:45:INFO] Determined delimiter of CSV input is ','\u001b[0m\n",
      "\u001b[35m[2022-02-07:07:54:45:INFO] Determined delimiter of CSV input is ','\u001b[0m\n",
      "\u001b[35m[2022-02-07:07:54:45:INFO] Sniff delimiter as ','\u001b[0m\n",
      "\u001b[35m[2022-02-07:07:54:45:INFO] Determined delimiter of CSV input is ','\u001b[0m\n",
      "\u001b[34m[2022-02-07:07:54:49:INFO] Sniff delimiter as ','\u001b[0m\n",
      "\u001b[34m[2022-02-07:07:54:49:INFO] Determined delimiter of CSV input is ','\u001b[0m\n",
      "\u001b[34m[2022-02-07:07:54:49:INFO] Sniff delimiter as ','\u001b[0m\n",
      "\u001b[34m[2022-02-07:07:54:49:INFO] Determined delimiter of CSV input is ','\u001b[0m\n",
      "\u001b[35m[2022-02-07:07:54:49:INFO] Sniff delimiter as ','\u001b[0m\n",
      "\u001b[35m[2022-02-07:07:54:49:INFO] Determined delimiter of CSV input is ','\u001b[0m\n",
      "\u001b[35m[2022-02-07:07:54:49:INFO] Sniff delimiter as ','\u001b[0m\n",
      "\u001b[35m[2022-02-07:07:54:49:INFO] Determined delimiter of CSV input is ','\u001b[0m\n",
      "\n",
      "\u001b[34m[2022-02-07:07:54:52:INFO] Sniff delimiter as ','\u001b[0m\n",
      "\u001b[34m[2022-02-07:07:54:52:INFO] Determined delimiter of CSV input is ','\u001b[0m\n",
      "\u001b[34m[2022-02-07:07:54:53:INFO] Sniff delimiter as ','\u001b[0m\n",
      "\u001b[34m[2022-02-07:07:54:53:INFO] Determined delimiter of CSV input is ','\u001b[0m\n",
      "\u001b[34m[2022-02-07:07:54:53:INFO] Sniff delimiter as ','\u001b[0m\n",
      "\u001b[34m[2022-02-07:07:54:53:INFO] Determined delimiter of CSV input is ','\u001b[0m\n",
      "\u001b[35m[2022-02-07:07:54:52:INFO] Sniff delimiter as ','\u001b[0m\n",
      "\u001b[35m[2022-02-07:07:54:52:INFO] Determined delimiter of CSV input is ','\u001b[0m\n",
      "\u001b[35m[2022-02-07:07:54:53:INFO] Sniff delimiter as ','\u001b[0m\n",
      "\u001b[35m[2022-02-07:07:54:53:INFO] Determined delimiter of CSV input is ','\u001b[0m\n",
      "\u001b[35m[2022-02-07:07:54:53:INFO] Sniff delimiter as ','\u001b[0m\n",
      "\u001b[35m[2022-02-07:07:54:53:INFO] Determined delimiter of CSV input is ','\u001b[0m\n"
     ]
    }
   ],
   "source": [
    "new_xgb_transformer.transform(test_location, content_type='text/csv', split_type='Line')\n",
    "new_xgb_transformer.wait()"
   ]
  },
  {
   "cell_type": "code",
   "execution_count": 73,
   "metadata": {},
   "outputs": [
    {
     "data": {
      "text/plain": [
       "'s3://sagemaker-us-east-1-801008216402/xgboost-2022-02-07-07-48-24-075'"
      ]
     },
     "execution_count": 73,
     "metadata": {},
     "output_type": "execute_result"
    }
   ],
   "source": [
    "new_xgb_transformer.output_path"
   ]
  },
  {
   "cell_type": "code",
   "execution_count": 72,
   "metadata": {},
   "outputs": [
    {
     "ename": "OSError",
     "evalue": "[Errno 12] Cannot allocate memory",
     "output_type": "error",
     "traceback": [
      "\u001b[0;31m---------------------------------------------------------------------------\u001b[0m",
      "\u001b[0;31mOSError\u001b[0m                                   Traceback (most recent call last)",
      "\u001b[0;32m<ipython-input-72-1dab5f3b624f>\u001b[0m in \u001b[0;36m<module>\u001b[0;34m\u001b[0m\n\u001b[0;32m----> 1\u001b[0;31m \u001b[0mget_ipython\u001b[0m\u001b[0;34m(\u001b[0m\u001b[0;34m)\u001b[0m\u001b[0;34m.\u001b[0m\u001b[0msystem\u001b[0m\u001b[0;34m(\u001b[0m\u001b[0;34m'aws s3 cp --recursive $new_xgb_transformer.output_path $data_dir'\u001b[0m\u001b[0;34m)\u001b[0m\u001b[0;34m\u001b[0m\u001b[0;34m\u001b[0m\u001b[0m\n\u001b[0m",
      "\u001b[0;32m~/anaconda3/envs/pytorch_p36/lib/python3.6/site-packages/ipykernel/zmqshell.py\u001b[0m in \u001b[0;36msystem_piped\u001b[0;34m(self, cmd)\u001b[0m\n\u001b[1;32m    648\u001b[0m                 \u001b[0mself\u001b[0m\u001b[0;34m.\u001b[0m\u001b[0muser_ns\u001b[0m\u001b[0;34m[\u001b[0m\u001b[0;34m'_exit_code'\u001b[0m\u001b[0;34m]\u001b[0m \u001b[0;34m=\u001b[0m \u001b[0msystem\u001b[0m\u001b[0;34m(\u001b[0m\u001b[0mcmd\u001b[0m\u001b[0;34m)\u001b[0m\u001b[0;34m\u001b[0m\u001b[0;34m\u001b[0m\u001b[0m\n\u001b[1;32m    649\u001b[0m         \u001b[0;32melse\u001b[0m\u001b[0;34m:\u001b[0m\u001b[0;34m\u001b[0m\u001b[0;34m\u001b[0m\u001b[0m\n\u001b[0;32m--> 650\u001b[0;31m             \u001b[0mself\u001b[0m\u001b[0;34m.\u001b[0m\u001b[0muser_ns\u001b[0m\u001b[0;34m[\u001b[0m\u001b[0;34m'_exit_code'\u001b[0m\u001b[0;34m]\u001b[0m \u001b[0;34m=\u001b[0m \u001b[0msystem\u001b[0m\u001b[0;34m(\u001b[0m\u001b[0mself\u001b[0m\u001b[0;34m.\u001b[0m\u001b[0mvar_expand\u001b[0m\u001b[0;34m(\u001b[0m\u001b[0mcmd\u001b[0m\u001b[0;34m,\u001b[0m \u001b[0mdepth\u001b[0m\u001b[0;34m=\u001b[0m\u001b[0;36m1\u001b[0m\u001b[0;34m)\u001b[0m\u001b[0;34m)\u001b[0m\u001b[0;34m\u001b[0m\u001b[0;34m\u001b[0m\u001b[0m\n\u001b[0m\u001b[1;32m    651\u001b[0m \u001b[0;34m\u001b[0m\u001b[0m\n\u001b[1;32m    652\u001b[0m     \u001b[0;31m# Ensure new system_piped implementation is used\u001b[0m\u001b[0;34m\u001b[0m\u001b[0;34m\u001b[0m\u001b[0;34m\u001b[0m\u001b[0m\n",
      "\u001b[0;32m~/anaconda3/envs/pytorch_p36/lib/python3.6/site-packages/IPython/utils/_process_posix.py\u001b[0m in \u001b[0;36msystem\u001b[0;34m(self, cmd)\u001b[0m\n\u001b[1;32m    155\u001b[0m                 \u001b[0mchild\u001b[0m \u001b[0;34m=\u001b[0m \u001b[0mpexpect\u001b[0m\u001b[0;34m.\u001b[0m\u001b[0mspawnb\u001b[0m\u001b[0;34m(\u001b[0m\u001b[0mself\u001b[0m\u001b[0;34m.\u001b[0m\u001b[0msh\u001b[0m\u001b[0;34m,\u001b[0m \u001b[0margs\u001b[0m\u001b[0;34m=\u001b[0m\u001b[0;34m[\u001b[0m\u001b[0;34m'-c'\u001b[0m\u001b[0;34m,\u001b[0m \u001b[0mcmd\u001b[0m\u001b[0;34m]\u001b[0m\u001b[0;34m)\u001b[0m \u001b[0;31m# Pexpect-U\u001b[0m\u001b[0;34m\u001b[0m\u001b[0;34m\u001b[0m\u001b[0m\n\u001b[1;32m    156\u001b[0m             \u001b[0;32melse\u001b[0m\u001b[0;34m:\u001b[0m\u001b[0;34m\u001b[0m\u001b[0;34m\u001b[0m\u001b[0m\n\u001b[0;32m--> 157\u001b[0;31m                 \u001b[0mchild\u001b[0m \u001b[0;34m=\u001b[0m \u001b[0mpexpect\u001b[0m\u001b[0;34m.\u001b[0m\u001b[0mspawn\u001b[0m\u001b[0;34m(\u001b[0m\u001b[0mself\u001b[0m\u001b[0;34m.\u001b[0m\u001b[0msh\u001b[0m\u001b[0;34m,\u001b[0m \u001b[0margs\u001b[0m\u001b[0;34m=\u001b[0m\u001b[0;34m[\u001b[0m\u001b[0;34m'-c'\u001b[0m\u001b[0;34m,\u001b[0m \u001b[0mcmd\u001b[0m\u001b[0;34m]\u001b[0m\u001b[0;34m)\u001b[0m  \u001b[0;31m# Vanilla Pexpect\u001b[0m\u001b[0;34m\u001b[0m\u001b[0;34m\u001b[0m\u001b[0m\n\u001b[0m\u001b[1;32m    158\u001b[0m             \u001b[0mflush\u001b[0m \u001b[0;34m=\u001b[0m \u001b[0msys\u001b[0m\u001b[0;34m.\u001b[0m\u001b[0mstdout\u001b[0m\u001b[0;34m.\u001b[0m\u001b[0mflush\u001b[0m\u001b[0;34m\u001b[0m\u001b[0;34m\u001b[0m\u001b[0m\n\u001b[1;32m    159\u001b[0m             \u001b[0;32mwhile\u001b[0m \u001b[0;32mTrue\u001b[0m\u001b[0;34m:\u001b[0m\u001b[0;34m\u001b[0m\u001b[0;34m\u001b[0m\u001b[0m\n",
      "\u001b[0;32m~/anaconda3/envs/pytorch_p36/lib/python3.6/site-packages/pexpect/pty_spawn.py\u001b[0m in \u001b[0;36m__init__\u001b[0;34m(self, command, args, timeout, maxread, searchwindowsize, logfile, cwd, env, ignore_sighup, echo, preexec_fn, encoding, codec_errors, dimensions, use_poll)\u001b[0m\n\u001b[1;32m    203\u001b[0m             \u001b[0mself\u001b[0m\u001b[0;34m.\u001b[0m\u001b[0mname\u001b[0m \u001b[0;34m=\u001b[0m \u001b[0;34m'<pexpect factory incomplete>'\u001b[0m\u001b[0;34m\u001b[0m\u001b[0;34m\u001b[0m\u001b[0m\n\u001b[1;32m    204\u001b[0m         \u001b[0;32melse\u001b[0m\u001b[0;34m:\u001b[0m\u001b[0;34m\u001b[0m\u001b[0;34m\u001b[0m\u001b[0m\n\u001b[0;32m--> 205\u001b[0;31m             \u001b[0mself\u001b[0m\u001b[0;34m.\u001b[0m\u001b[0m_spawn\u001b[0m\u001b[0;34m(\u001b[0m\u001b[0mcommand\u001b[0m\u001b[0;34m,\u001b[0m \u001b[0margs\u001b[0m\u001b[0;34m,\u001b[0m \u001b[0mpreexec_fn\u001b[0m\u001b[0;34m,\u001b[0m \u001b[0mdimensions\u001b[0m\u001b[0;34m)\u001b[0m\u001b[0;34m\u001b[0m\u001b[0;34m\u001b[0m\u001b[0m\n\u001b[0m\u001b[1;32m    206\u001b[0m         \u001b[0mself\u001b[0m\u001b[0;34m.\u001b[0m\u001b[0muse_poll\u001b[0m \u001b[0;34m=\u001b[0m \u001b[0muse_poll\u001b[0m\u001b[0;34m\u001b[0m\u001b[0;34m\u001b[0m\u001b[0m\n\u001b[1;32m    207\u001b[0m \u001b[0;34m\u001b[0m\u001b[0m\n",
      "\u001b[0;32m~/anaconda3/envs/pytorch_p36/lib/python3.6/site-packages/pexpect/pty_spawn.py\u001b[0m in \u001b[0;36m_spawn\u001b[0;34m(self, command, args, preexec_fn, dimensions)\u001b[0m\n\u001b[1;32m    302\u001b[0m \u001b[0;34m\u001b[0m\u001b[0m\n\u001b[1;32m    303\u001b[0m         self.ptyproc = self._spawnpty(self.args, env=self.env,\n\u001b[0;32m--> 304\u001b[0;31m                                      cwd=self.cwd, **kwargs)\n\u001b[0m\u001b[1;32m    305\u001b[0m \u001b[0;34m\u001b[0m\u001b[0m\n\u001b[1;32m    306\u001b[0m         \u001b[0mself\u001b[0m\u001b[0;34m.\u001b[0m\u001b[0mpid\u001b[0m \u001b[0;34m=\u001b[0m \u001b[0mself\u001b[0m\u001b[0;34m.\u001b[0m\u001b[0mptyproc\u001b[0m\u001b[0;34m.\u001b[0m\u001b[0mpid\u001b[0m\u001b[0;34m\u001b[0m\u001b[0;34m\u001b[0m\u001b[0m\n",
      "\u001b[0;32m~/anaconda3/envs/pytorch_p36/lib/python3.6/site-packages/pexpect/pty_spawn.py\u001b[0m in \u001b[0;36m_spawnpty\u001b[0;34m(self, args, **kwargs)\u001b[0m\n\u001b[1;32m    313\u001b[0m     \u001b[0;32mdef\u001b[0m \u001b[0m_spawnpty\u001b[0m\u001b[0;34m(\u001b[0m\u001b[0mself\u001b[0m\u001b[0;34m,\u001b[0m \u001b[0margs\u001b[0m\u001b[0;34m,\u001b[0m \u001b[0;34m**\u001b[0m\u001b[0mkwargs\u001b[0m\u001b[0;34m)\u001b[0m\u001b[0;34m:\u001b[0m\u001b[0;34m\u001b[0m\u001b[0;34m\u001b[0m\u001b[0m\n\u001b[1;32m    314\u001b[0m         \u001b[0;34m'''Spawn a pty and return an instance of PtyProcess.'''\u001b[0m\u001b[0;34m\u001b[0m\u001b[0;34m\u001b[0m\u001b[0m\n\u001b[0;32m--> 315\u001b[0;31m         \u001b[0;32mreturn\u001b[0m \u001b[0mptyprocess\u001b[0m\u001b[0;34m.\u001b[0m\u001b[0mPtyProcess\u001b[0m\u001b[0;34m.\u001b[0m\u001b[0mspawn\u001b[0m\u001b[0;34m(\u001b[0m\u001b[0margs\u001b[0m\u001b[0;34m,\u001b[0m \u001b[0;34m**\u001b[0m\u001b[0mkwargs\u001b[0m\u001b[0;34m)\u001b[0m\u001b[0;34m\u001b[0m\u001b[0;34m\u001b[0m\u001b[0m\n\u001b[0m\u001b[1;32m    316\u001b[0m \u001b[0;34m\u001b[0m\u001b[0m\n\u001b[1;32m    317\u001b[0m     \u001b[0;32mdef\u001b[0m \u001b[0mclose\u001b[0m\u001b[0;34m(\u001b[0m\u001b[0mself\u001b[0m\u001b[0;34m,\u001b[0m \u001b[0mforce\u001b[0m\u001b[0;34m=\u001b[0m\u001b[0;32mTrue\u001b[0m\u001b[0;34m)\u001b[0m\u001b[0;34m:\u001b[0m\u001b[0;34m\u001b[0m\u001b[0;34m\u001b[0m\u001b[0m\n",
      "\u001b[0;32m~/anaconda3/envs/pytorch_p36/lib/python3.6/site-packages/ptyprocess/ptyprocess.py\u001b[0m in \u001b[0;36mspawn\u001b[0;34m(cls, argv, cwd, env, echo, preexec_fn, dimensions, pass_fds)\u001b[0m\n\u001b[1;32m    228\u001b[0m \u001b[0;34m\u001b[0m\u001b[0m\n\u001b[1;32m    229\u001b[0m         \u001b[0;32mif\u001b[0m \u001b[0muse_native_pty_fork\u001b[0m\u001b[0;34m:\u001b[0m\u001b[0;34m\u001b[0m\u001b[0;34m\u001b[0m\u001b[0m\n\u001b[0;32m--> 230\u001b[0;31m             \u001b[0mpid\u001b[0m\u001b[0;34m,\u001b[0m \u001b[0mfd\u001b[0m \u001b[0;34m=\u001b[0m \u001b[0mpty\u001b[0m\u001b[0;34m.\u001b[0m\u001b[0mfork\u001b[0m\u001b[0;34m(\u001b[0m\u001b[0;34m)\u001b[0m\u001b[0;34m\u001b[0m\u001b[0;34m\u001b[0m\u001b[0m\n\u001b[0m\u001b[1;32m    231\u001b[0m         \u001b[0;32melse\u001b[0m\u001b[0;34m:\u001b[0m\u001b[0;34m\u001b[0m\u001b[0;34m\u001b[0m\u001b[0m\n\u001b[1;32m    232\u001b[0m             \u001b[0;31m# Use internal fork_pty, for Solaris\u001b[0m\u001b[0;34m\u001b[0m\u001b[0;34m\u001b[0m\u001b[0;34m\u001b[0m\u001b[0m\n",
      "\u001b[0;32m~/anaconda3/envs/pytorch_p36/lib/python3.6/pty.py\u001b[0m in \u001b[0;36mfork\u001b[0;34m()\u001b[0m\n\u001b[1;32m     95\u001b[0m \u001b[0;34m\u001b[0m\u001b[0m\n\u001b[1;32m     96\u001b[0m     \u001b[0mmaster_fd\u001b[0m\u001b[0;34m,\u001b[0m \u001b[0mslave_fd\u001b[0m \u001b[0;34m=\u001b[0m \u001b[0mopenpty\u001b[0m\u001b[0;34m(\u001b[0m\u001b[0;34m)\u001b[0m\u001b[0;34m\u001b[0m\u001b[0;34m\u001b[0m\u001b[0m\n\u001b[0;32m---> 97\u001b[0;31m     \u001b[0mpid\u001b[0m \u001b[0;34m=\u001b[0m \u001b[0mos\u001b[0m\u001b[0;34m.\u001b[0m\u001b[0mfork\u001b[0m\u001b[0;34m(\u001b[0m\u001b[0;34m)\u001b[0m\u001b[0;34m\u001b[0m\u001b[0;34m\u001b[0m\u001b[0m\n\u001b[0m\u001b[1;32m     98\u001b[0m     \u001b[0;32mif\u001b[0m \u001b[0mpid\u001b[0m \u001b[0;34m==\u001b[0m \u001b[0mCHILD\u001b[0m\u001b[0;34m:\u001b[0m\u001b[0;34m\u001b[0m\u001b[0;34m\u001b[0m\u001b[0m\n\u001b[1;32m     99\u001b[0m         \u001b[0;31m# Establish a new session.\u001b[0m\u001b[0;34m\u001b[0m\u001b[0;34m\u001b[0m\u001b[0;34m\u001b[0m\u001b[0m\n",
      "\u001b[0;31mOSError\u001b[0m: [Errno 12] Cannot allocate memory"
     ]
    }
   ],
   "source": [
    "!aws s3 cp --recursive $new_xgb_transformer.output_path $data_dir"
   ]
  },
  {
   "cell_type": "code",
   "execution_count": 75,
   "metadata": {},
   "outputs": [],
   "source": [
    "predictions = pd.read_csv(os.path.join(data_dir, 'test.csv.out'), header=None)\n",
    "predictions = [round(num) for num in predictions.squeeze().values]"
   ]
  },
  {
   "cell_type": "code",
   "execution_count": 76,
   "metadata": {},
   "outputs": [
    {
     "data": {
      "text/plain": [
       "0.83812"
      ]
     },
     "execution_count": 76,
     "metadata": {},
     "output_type": "execute_result"
    }
   ],
   "source": [
    "accuracy_score(test_Y, predictions)"
   ]
  },
  {
   "cell_type": "markdown",
   "metadata": {},
   "source": [
    "It would appear that our new XGBoost model is performing quite well on the old test data. This gives us some indication that our new model should be put into production and replace our original model."
   ]
  },
  {
   "cell_type": "markdown",
   "metadata": {},
   "source": [
    "## Step 6: (TODO) Updating the Model\n",
    "\n",
    "So we have a new model that we'd like to use instead of one that is already deployed. Furthermore, we are assuming that the model that is already deployed is being used in some sort of application. As a result, what we want to do is update the existing endpoint so that it uses our new model.\n",
    "\n",
    "Of course, to do this we need to create an endpoint configuration for our newly created model.\n",
    "\n",
    "First, note that we can access the name of the model that we created above using the `model_name` property of the transformer. The reason for this is that in order for the transformer to create a batch transform job it needs to first create the model object inside of SageMaker. Since we've sort of already done this we should take advantage of it."
   ]
  },
  {
   "cell_type": "code",
   "execution_count": 77,
   "metadata": {},
   "outputs": [
    {
     "data": {
      "text/plain": [
       "'xgboost-2022-02-07-07-30-42-304'"
      ]
     },
     "execution_count": 77,
     "metadata": {},
     "output_type": "execute_result"
    }
   ],
   "source": [
    "new_xgb_transformer.model_name"
   ]
  },
  {
   "cell_type": "markdown",
   "metadata": {},
   "source": [
    "Next, we create an endpoint configuration using the low level approach of creating the dictionary object which describes the endpoint configuration we want.\n",
    "\n",
    "**TODO:** Using the low level approach, create a new endpoint configuration. Don't forget that it needs a name and that the name needs to be unique. If you get stuck, try looking at the Boston Housing Low Level Deployment tutorial notebook."
   ]
  },
  {
   "cell_type": "code",
   "execution_count": 78,
   "metadata": {},
   "outputs": [],
   "source": [
    "from time import gmtime, strftime\n",
    "\n",
    "\n",
    "# TODO: Give our endpoint configuration a name. Remember, it needs to be unique.\n",
    "# new_xgb_endpoint_config_name = None\n",
    "\n",
    "# Solution:\n",
    "new_xgb_endpoint_config_name = \"sentiment-update-xgboost-endpoint-config-\" + strftime(\"%Y-%m-%d-%H-%M-%S\", gmtime())\n",
    "\n",
    "# TODO: Using the SageMaker Client, construct the endpoint configuration.\n",
    "# new_xgb_endpoint_config_info = None\n",
    "\n",
    "# Solution:\n",
    "new_xgb_endpoint_config_info = session.sagemaker_client.create_endpoint_config(\n",
    "                            EndpointConfigName = new_xgb_endpoint_config_name,\n",
    "                            ProductionVariants = [{\n",
    "                                \"InstanceType\": \"ml.m4.xlarge\",\n",
    "                                \"InitialVariantWeight\": 1,\n",
    "                                \"InitialInstanceCount\": 1,\n",
    "                                \"ModelName\": new_xgb_transformer.model_name,\n",
    "                                \"VariantName\": \"XGB-Model\"\n",
    "                            }])"
   ]
  },
  {
   "cell_type": "markdown",
   "metadata": {},
   "source": [
    "Once the endpoint configuration has been constructed, it is a straightforward matter to ask SageMaker to update the existing endpoint so that it uses the new endpoint configuration.\n",
    "\n",
    "Of note here is that SageMaker does this in such a way that there is no downtime. Essentially, SageMaker deploys the new model and then updates the original endpoint so that it points to the newly deployed model. After that, the original model is shut down. This way, whatever app is using our endpoint won't notice that we've changed the model that is being used.\n",
    "\n",
    "**TODO:** Use the SageMaker Client to update the endpoint that you deployed earlier."
   ]
  },
  {
   "cell_type": "code",
   "execution_count": 79,
   "metadata": {},
   "outputs": [
    {
     "data": {
      "text/plain": [
       "{'EndpointArn': 'arn:aws:sagemaker:us-east-1:801008216402:endpoint/xgboost-2022-02-07-07-02-08-668',\n",
       " 'ResponseMetadata': {'RequestId': '18a41d46-cbd8-46b9-8d4c-4eddb972adde',\n",
       "  'HTTPStatusCode': 200,\n",
       "  'HTTPHeaders': {'x-amzn-requestid': '18a41d46-cbd8-46b9-8d4c-4eddb972adde',\n",
       "   'content-type': 'application/x-amz-json-1.1',\n",
       "   'content-length': '99',\n",
       "   'date': 'Mon, 07 Feb 2022 07:57:18 GMT'},\n",
       "  'RetryAttempts': 0}}"
      ]
     },
     "execution_count": 79,
     "metadata": {},
     "output_type": "execute_result"
    }
   ],
   "source": [
    "# TODO: Update the xgb_predictor.endpoint so that it uses new_xgb_endpoint_config_name.\n",
    "\n",
    "# Solution:\n",
    "session.sagemaker_client.update_endpoint(EndpointName=xgb_predictor.endpoint, EndpointConfigName=new_xgb_endpoint_config_name)"
   ]
  },
  {
   "cell_type": "markdown",
   "metadata": {},
   "source": [
    "And, as is generally the case with SageMaker requests, this is being done in the background so if we want to wait for it to complete we need to call the appropriate method."
   ]
  },
  {
   "cell_type": "code",
   "execution_count": null,
   "metadata": {},
   "outputs": [
    {
     "name": "stdout",
     "output_type": "stream",
     "text": [
      "---------"
     ]
    }
   ],
   "source": [
    "session.wait_for_endpoint(xgb_predictor.endpoint)"
   ]
  },
  {
   "cell_type": "markdown",
   "metadata": {},
   "source": [
    "## Step 7: Delete the Endpoint\n",
    "\n",
    "Of course, since we are done with the deployed endpoint we need to make sure to shut it down, otherwise we will continue to be charged for it."
   ]
  },
  {
   "cell_type": "code",
   "execution_count": null,
   "metadata": {},
   "outputs": [],
   "source": [
    "xgb_predictor.delete_endpoint()"
   ]
  },
  {
   "cell_type": "markdown",
   "metadata": {},
   "source": [
    "## Some Additional Questions\n",
    "\n",
    "This notebook is a little different from the other notebooks in this module. In part, this is because it is meant to be a little bit closer to the type of problem you may face in a real world scenario. Of course, this problem is a very easy one with a prescribed solution, but there are many other interesting questions that we did not consider here and that you may wish to consider yourself.\n",
    "\n",
    "For example,\n",
    "- What other ways could the underlying distribution change?\n",
    "- Is it a good idea to re-train the model using only the new data?\n",
    "- What would change if the quantity of new data wasn't large. Say you only received 500 samples?\n"
   ]
  },
  {
   "cell_type": "markdown",
   "metadata": {},
   "source": [
    "## Optional: Clean up\n",
    "\n",
    "The default notebook instance on SageMaker doesn't have a lot of excess disk space available. As you continue to complete and execute notebooks you will eventually fill up this disk space, leading to errors which can be difficult to diagnose. Once you are completely finished using a notebook it is a good idea to remove the files that you created along the way. Of course, you can do this from the terminal or from the notebook hub if you would like. The cell below contains some commands to clean up the created files from within the notebook."
   ]
  },
  {
   "cell_type": "code",
   "execution_count": null,
   "metadata": {},
   "outputs": [],
   "source": [
    "# First we will remove all of the files contained in the data_dir directory\n",
    "#!rm -r $data_dir/*\n",
    "\n",
    "# And then we delete the directory itself\n",
    "#!rmdir $data_dir\n",
    "\n",
    "# Similarly we will remove the files in the cache_dir directory and the directory itself\n",
    "#!rm -r $cache_dir/*\n",
    "#!rmdir $cache_dir"
   ]
  },
  {
   "cell_type": "code",
   "execution_count": null,
   "metadata": {},
   "outputs": [],
   "source": []
  }
 ],
 "metadata": {
  "kernelspec": {
   "display_name": "conda_pytorch_p36",
   "language": "python",
   "name": "conda_pytorch_p36"
  },
  "language_info": {
   "codemirror_mode": {
    "name": "ipython",
    "version": 3
   },
   "file_extension": ".py",
   "mimetype": "text/x-python",
   "name": "python",
   "nbconvert_exporter": "python",
   "pygments_lexer": "ipython3",
   "version": "3.6.13"
  }
 },
 "nbformat": 4,
 "nbformat_minor": 2
}
