{
 "cells": [
  {
   "cell_type": "markdown",
   "metadata": {},
   "source": [
    "# Sentiment Analysis\n",
    "\n",
    "## Updating a Model in SageMaker\n",
    "\n",
    "_Deep Learning Nanodegree Program | Deployment_\n",
    "\n",
    "---\n",
    "\n",
    "In this notebook we will consider a situation in which a model that we constructed is no longer working as we intended. In particular, we will look at the XGBoost sentiment analysis model that we constructed earlier. In this case, however, we have some new data that our model doesn't seem to perform very well on. As a result, we will re-train our model and update an existing endpoint so that it uses our new model.\n",
    "\n",
    "This notebook starts by re-creating the XGBoost sentiment analysis model that was created in earlier notebooks. This means that you will have already seen the cells up to the end of Step 4. The new content in this notebook begins at Step 5.\n",
    "\n",
    "## Instructions\n",
    "\n",
    "Some template code has already been provided for you, and you will need to implement additional functionality to successfully complete this notebook. You will not need to modify the included code beyond what is requested. Sections that begin with '**TODO**' in the header indicate that you need to complete or implement some portion within them. Instructions will be provided for each section and the specifics of the implementation are marked in the code block with a `# TODO: ...` comment. Please be sure to read the instructions carefully!\n",
    "\n",
    "In addition to implementing code, there will be questions for you to answer which relate to the task and your implementation. Each section where you will answer a question is preceded by a '**Question:**' header. Carefully read each question and provide your answer below the '**Answer:**' header by editing the Markdown cell.\n",
    "\n",
    "> **Note**: Code and Markdown cells can be executed using the **Shift+Enter** keyboard shortcut. In addition, a cell can be edited by typically clicking it (double-click for Markdown cells) or by pressing **Enter** while it is highlighted."
   ]
  },
  {
   "cell_type": "code",
   "execution_count": null,
   "metadata": {},
   "outputs": [],
   "source": [
    "# Make sure that we use SageMaker 1.x\n",
    "!pip install sagemaker==1.72.0"
   ]
  },
  {
   "cell_type": "markdown",
   "metadata": {},
   "source": [
    "## Step 1: Downloading the data\n",
    "\n",
    "The dataset we are going to use is very popular among researchers in Natural Language Processing, usually referred to as the [IMDb dataset](http://ai.stanford.edu/~amaas/data/sentiment/). It consists of movie reviews from the website [imdb.com](http://www.imdb.com/), each labeled as either '**pos**itive', if the reviewer enjoyed the film, or '**neg**ative' otherwise.\n",
    "\n",
    "> Maas, Andrew L., et al. [Learning Word Vectors for Sentiment Analysis](http://ai.stanford.edu/~amaas/data/sentiment/). In _Proceedings of the 49th Annual Meeting of the Association for Computational Linguistics: Human Language Technologies_. Association for Computational Linguistics, 2011.\n",
    "\n",
    "We begin by using some Jupyter Notebook magic to download and extract the dataset."
   ]
  },
  {
   "cell_type": "code",
   "execution_count": null,
   "metadata": {},
   "outputs": [],
   "source": [
    "%mkdir ../data\n",
    "!wget -O ../data/aclImdb_v1.tar.gz http://ai.stanford.edu/~amaas/data/sentiment/aclImdb_v1.tar.gz\n",
    "!tar -zxf ../data/aclImdb_v1.tar.gz -C ../data"
   ]
  },
  {
   "cell_type": "markdown",
   "metadata": {},
   "source": [
    "## Step 2: Preparing the data\n",
    "\n",
    "The data we have downloaded is split into various files, each of which contains a single review. It will be much easier going forward if we combine these individual files into two large files, one for training and one for testing."
   ]
  },
  {
   "cell_type": "code",
   "execution_count": 1,
   "metadata": {},
   "outputs": [],
   "source": [
    "import os\n",
    "import glob\n",
    "\n",
    "def read_imdb_data(data_dir='../data/aclImdb'):\n",
    "    data = {}\n",
    "    labels = {}\n",
    "    \n",
    "    for data_type in ['train', 'test']:\n",
    "        data[data_type] = {}\n",
    "        labels[data_type] = {}\n",
    "        \n",
    "        for sentiment in ['pos', 'neg']:\n",
    "            data[data_type][sentiment] = []\n",
    "            labels[data_type][sentiment] = []\n",
    "            \n",
    "            path = os.path.join(data_dir, data_type, sentiment, '*.txt')\n",
    "            files = glob.glob(path)\n",
    "            \n",
    "            for f in files:\n",
    "                with open(f) as review:\n",
    "                    data[data_type][sentiment].append(review.read())\n",
    "                    # Here we represent a positive review by '1' and a negative review by '0'\n",
    "                    labels[data_type][sentiment].append(1 if sentiment == 'pos' else 0)\n",
    "                    \n",
    "            assert len(data[data_type][sentiment]) == len(labels[data_type][sentiment]), \\\n",
    "                    \"{}/{} data size does not match labels size\".format(data_type, sentiment)\n",
    "                \n",
    "    return data, labels"
   ]
  },
  {
   "cell_type": "code",
   "execution_count": 2,
   "metadata": {},
   "outputs": [
    {
     "name": "stdout",
     "output_type": "stream",
     "text": [
      "IMDB reviews: train = 12500 pos / 12500 neg, test = 12500 pos / 12500 neg\n"
     ]
    }
   ],
   "source": [
    "data, labels = read_imdb_data()\n",
    "print(\"IMDB reviews: train = {} pos / {} neg, test = {} pos / {} neg\".format(\n",
    "            len(data['train']['pos']), len(data['train']['neg']),\n",
    "            len(data['test']['pos']), len(data['test']['neg'])))"
   ]
  },
  {
   "cell_type": "code",
   "execution_count": 3,
   "metadata": {},
   "outputs": [],
   "source": [
    "from sklearn.utils import shuffle\n",
    "\n",
    "def prepare_imdb_data(data, labels):\n",
    "    \"\"\"Prepare training and test sets from IMDb movie reviews.\"\"\"\n",
    "    \n",
    "    #Combine positive and negative reviews and labels\n",
    "    data_train = data['train']['pos'] + data['train']['neg']\n",
    "    data_test = data['test']['pos'] + data['test']['neg']\n",
    "    labels_train = labels['train']['pos'] + labels['train']['neg']\n",
    "    labels_test = labels['test']['pos'] + labels['test']['neg']\n",
    "    \n",
    "    #Shuffle reviews and corresponding labels within training and test sets\n",
    "    data_train, labels_train = shuffle(data_train, labels_train)\n",
    "    data_test, labels_test = shuffle(data_test, labels_test)\n",
    "    \n",
    "    # Return a unified training data, test data, training labels, test labets\n",
    "    return data_train, data_test, labels_train, labels_test"
   ]
  },
  {
   "cell_type": "code",
   "execution_count": 4,
   "metadata": {},
   "outputs": [
    {
     "name": "stdout",
     "output_type": "stream",
     "text": [
      "IMDb reviews (combined): train = 25000, test = 25000\n"
     ]
    }
   ],
   "source": [
    "train_X, test_X, train_y, test_y = prepare_imdb_data(data, labels)\n",
    "print(\"IMDb reviews (combined): train = {}, test = {}\".format(len(train_X), len(test_X)))"
   ]
  },
  {
   "cell_type": "code",
   "execution_count": null,
   "metadata": {},
   "outputs": [],
   "source": [
    "train_X[100]"
   ]
  },
  {
   "cell_type": "markdown",
   "metadata": {},
   "source": [
    "## Step 3: Processing the data\n",
    "\n",
    "Now that we have our training and testing datasets merged and ready to use, we need to start processing the raw data into something that will be useable by our machine learning algorithm. To begin with, we remove any html formatting that may appear in the reviews and perform some standard natural language processing in order to homogenize the data."
   ]
  },
  {
   "cell_type": "code",
   "execution_count": 5,
   "metadata": {},
   "outputs": [
    {
     "name": "stderr",
     "output_type": "stream",
     "text": [
      "[nltk_data] Downloading package stopwords to\n",
      "[nltk_data]     /home/ec2-user/nltk_data...\n",
      "[nltk_data]   Package stopwords is already up-to-date!\n"
     ]
    }
   ],
   "source": [
    "import nltk\n",
    "nltk.download(\"stopwords\")\n",
    "from nltk.corpus import stopwords\n",
    "from nltk.stem.porter import *\n",
    "stemmer = PorterStemmer()"
   ]
  },
  {
   "cell_type": "code",
   "execution_count": 6,
   "metadata": {},
   "outputs": [],
   "source": [
    "import re\n",
    "from bs4 import BeautifulSoup\n",
    "\n",
    "def review_to_words(review):\n",
    "    text = BeautifulSoup(review, \"html.parser\").get_text() # Remove HTML tags\n",
    "    text = re.sub(r\"[^a-zA-Z0-9]\", \" \", text.lower()) # Convert to lower case\n",
    "    words = text.split() # Split string into words\n",
    "    words = [w for w in words if w not in stopwords.words(\"english\")] # Remove stopwords\n",
    "    words = [PorterStemmer().stem(w) for w in words] # stem\n",
    "    \n",
    "    return words"
   ]
  },
  {
   "cell_type": "code",
   "execution_count": null,
   "metadata": {
    "scrolled": true
   },
   "outputs": [],
   "source": [
    "review_to_words(train_X[100])"
   ]
  },
  {
   "cell_type": "code",
   "execution_count": 7,
   "metadata": {},
   "outputs": [],
   "source": [
    "import pickle\n",
    "\n",
    "cache_dir = os.path.join(\"../cache\", \"sentiment_analysis\")  # where to store cache files\n",
    "os.makedirs(cache_dir, exist_ok=True)  # ensure cache directory exists\n"
   ]
  },
  {
   "cell_type": "code",
   "execution_count": 8,
   "metadata": {},
   "outputs": [],
   "source": [
    "\n",
    "def preprocess_data(data_train, data_test, labels_train, labels_test,\n",
    "                    cache_dir=cache_dir, cache_file=\"preprocessed_data.pkl\"):\n",
    "    \"\"\"Convert each review to words; read from cache if available.\"\"\"\n",
    "\n",
    "    # If cache_file is not None, try to read from it first\n",
    "    cache_data = None\n",
    "    if cache_file is not None:\n",
    "        try:\n",
    "            with open(os.path.join(cache_dir, cache_file), \"rb\") as f:\n",
    "                cache_data = pickle.load(f)\n",
    "            print(\"Read preprocessed data from cache file:\", cache_file)\n",
    "        except:\n",
    "            pass  # unable to read from cache, but that's okay\n",
    "    \n",
    "    # If cache is missing, then do the heavy lifting\n",
    "    if cache_data is None:\n",
    "        # Preprocess training and test data to obtain words for each review\n",
    "        #words_train = list(map(review_to_words, data_train))\n",
    "        #words_test = list(map(review_to_words, data_test))\n",
    "        words_train = [review_to_words(review) for review in data_train]\n",
    "        words_test = [review_to_words(review) for review in data_test]\n",
    "        \n",
    "        # Write to cache file for future runs\n",
    "        if cache_file is not None:\n",
    "            cache_data = dict(words_train=words_train, words_test=words_test,\n",
    "                              labels_train=labels_train, labels_test=labels_test)\n",
    "            with open(os.path.join(cache_dir, cache_file), \"wb\") as f:\n",
    "                pickle.dump(cache_data, f)\n",
    "            print(\"Wrote preprocessed data to cache file:\", cache_file)\n",
    "    else:\n",
    "        # Unpack data loaded from cache file\n",
    "        words_train, words_test, labels_train, labels_test = (cache_data['words_train'],\n",
    "                cache_data['words_test'], cache_data['labels_train'], cache_data['labels_test'])\n",
    "    \n",
    "    return words_train, words_test, labels_train, labels_test"
   ]
  },
  {
   "cell_type": "code",
   "execution_count": 9,
   "metadata": {},
   "outputs": [
    {
     "name": "stdout",
     "output_type": "stream",
     "text": [
      "Read preprocessed data from cache file: preprocessed_data.pkl\n"
     ]
    }
   ],
   "source": [
    "# Preprocess data\n",
    "train_X, test_X, train_y, test_y = preprocess_data(train_X, test_X, train_y, test_y)"
   ]
  },
  {
   "cell_type": "markdown",
   "metadata": {},
   "source": [
    "### Extract Bag-of-Words features\n",
    "\n",
    "For the model we will be implementing, rather than using the reviews directly, we are going to transform each review into a Bag-of-Words feature representation. Keep in mind that 'in the wild' we will only have access to the training set so our transformer can only use the training set to construct a representation."
   ]
  },
  {
   "cell_type": "code",
   "execution_count": 10,
   "metadata": {},
   "outputs": [],
   "source": [
    "import numpy as np\n",
    "from sklearn.feature_extraction.text import CountVectorizer\n",
    "import joblib\n",
    "# joblib is an enhanced version of pickle that is more efficient for storing NumPy arrays\n"
   ]
  },
  {
   "cell_type": "code",
   "execution_count": 11,
   "metadata": {},
   "outputs": [],
   "source": [
    "\n",
    "def extract_BoW_features(words_train, words_test, vocabulary_size=5000,\n",
    "                         cache_dir=cache_dir, cache_file=\"bow_features.pkl\"):\n",
    "    \"\"\"Extract Bag-of-Words for a given set of documents, already preprocessed into words.\"\"\"\n",
    "    \n",
    "    # If cache_file is not None, try to read from it first\n",
    "    cache_data = None\n",
    "    if cache_file is not None:\n",
    "        try:\n",
    "            with open(os.path.join(cache_dir, cache_file), \"rb\") as f:\n",
    "                cache_data = joblib.load(f)\n",
    "            print(\"Read features from cache file:\", cache_file)\n",
    "        except:\n",
    "            pass  # unable to read from cache, but that's okay\n",
    "    \n",
    "    # If cache is missing, then do the heavy lifting\n",
    "    if cache_data is None:\n",
    "        # Fit a vectorizer to training documents and use it to transform them\n",
    "        # NOTE: Training documents have already been preprocessed and tokenized into words;\n",
    "        #       pass in dummy functions to skip those steps, e.g. preprocessor=lambda x: x\n",
    "        vectorizer = CountVectorizer(max_features=vocabulary_size,\n",
    "                preprocessor=lambda x: x, tokenizer=lambda x: x)  # already preprocessed\n",
    "        features_train = vectorizer.fit_transform(words_train).toarray()\n",
    "\n",
    "        # Apply the same vectorizer to transform the test documents (ignore unknown words)\n",
    "        features_test = vectorizer.transform(words_test).toarray()\n",
    "        \n",
    "        # NOTE: Remember to convert the features using .toarray() for a compact representation\n",
    "        \n",
    "        # Write to cache file for future runs (store vocabulary as well)\n",
    "        if cache_file is not None:\n",
    "            vocabulary = vectorizer.vocabulary_\n",
    "            cache_data = dict(features_train=features_train, features_test=features_test,\n",
    "                             vocabulary=vocabulary)\n",
    "            with open(os.path.join(cache_dir, cache_file), \"wb\") as f:\n",
    "                joblib.dump(cache_data, f)\n",
    "            print(\"Wrote features to cache file:\", cache_file)\n",
    "    else:\n",
    "        # Unpack data loaded from cache file\n",
    "        features_train, features_test, vocabulary = (cache_data['features_train'],\n",
    "                cache_data['features_test'], cache_data['vocabulary'])\n",
    "    \n",
    "    # Return both the extracted features as well as the vocabulary\n",
    "    return features_train, features_test, vocabulary"
   ]
  },
  {
   "cell_type": "code",
   "execution_count": 12,
   "metadata": {},
   "outputs": [
    {
     "name": "stdout",
     "output_type": "stream",
     "text": [
      "Read features from cache file: bow_features.pkl\n"
     ]
    }
   ],
   "source": [
    "# Extract Bag of Words features for both training and test datasets\n",
    "train_X, test_X, vocabulary = extract_BoW_features(train_X, test_X)"
   ]
  },
  {
   "cell_type": "code",
   "execution_count": null,
   "metadata": {},
   "outputs": [],
   "source": [
    "len(train_X[100])"
   ]
  },
  {
   "cell_type": "markdown",
   "metadata": {},
   "source": [
    "## Step 4: Classification using XGBoost\n",
    "\n",
    "Now that we have created the feature representation of our training (and testing) data, it is time to start setting up and using the XGBoost classifier provided by SageMaker.\n",
    "\n",
    "### Writing the dataset\n",
    "\n",
    "The XGBoost classifier that we will be using requires the dataset to be written to a file and stored using Amazon S3. To do this, we will start by splitting the training dataset into two parts, the data we will train the model with and a validation set. Then, we will write those datasets to a file and upload the files to S3. In addition, we will write the test set input to a file and upload the file to S3. This is so that we can use SageMakers Batch Transform functionality to test our model once we've fit it."
   ]
  },
  {
   "cell_type": "code",
   "execution_count": 13,
   "metadata": {},
   "outputs": [],
   "source": [
    "import pandas as pd"
   ]
  },
  {
   "cell_type": "code",
   "execution_count": 14,
   "metadata": {},
   "outputs": [],
   "source": [
    "\n",
    "\n",
    "# Earlier we shuffled the training dataset so to make things simple we can just assign\n",
    "# the first 10 000 reviews to the validation set and use the remaining reviews for training.\n",
    "val_X = pd.DataFrame(train_X[:10000])\n",
    "train_X = pd.DataFrame(train_X[10000:])\n",
    "\n",
    "val_y = pd.DataFrame(train_y[:10000])\n",
    "train_y = pd.DataFrame(train_y[10000:])"
   ]
  },
  {
   "cell_type": "markdown",
   "metadata": {},
   "source": [
    "The documentation for the XGBoost algorithm in SageMaker requires that the saved datasets should contain no headers or index and that for the training and validation data, the label should occur first for each sample.\n",
    "\n",
    "For more information about this and other algorithms, the SageMaker developer documentation can be found on __[Amazon's website.](https://docs.aws.amazon.com/sagemaker/latest/dg/)__"
   ]
  },
  {
   "cell_type": "code",
   "execution_count": 15,
   "metadata": {},
   "outputs": [],
   "source": [
    "import os"
   ]
  },
  {
   "cell_type": "code",
   "execution_count": 16,
   "metadata": {},
   "outputs": [],
   "source": [
    "# First we make sure that the local directory in which we'd like to store the training and validation csv files exists.\n",
    "data_dir = '../data/sentiment_update'\n",
    "if not os.path.exists(data_dir):\n",
    "    os.makedirs(data_dir)"
   ]
  },
  {
   "cell_type": "code",
   "execution_count": 17,
   "metadata": {},
   "outputs": [],
   "source": [
    "pd.DataFrame(test_X).to_csv(os.path.join(data_dir, 'test.csv'), header=False, index=False)\n",
    "\n",
    "pd.concat([val_y, val_X], axis=1).to_csv(os.path.join(data_dir, 'validation.csv'), header=False, index=False)\n",
    "pd.concat([train_y, train_X], axis=1).to_csv(os.path.join(data_dir, 'train.csv'), header=False, index=False)"
   ]
  },
  {
   "cell_type": "code",
   "execution_count": 18,
   "metadata": {},
   "outputs": [],
   "source": [
    "# To save a bit of memory we can set text_X, train_X, val_X, train_y and val_y to None.\n",
    "\n",
    "test_X = train_X = val_X = train_y = val_y = None"
   ]
  },
  {
   "cell_type": "code",
   "execution_count": 19,
   "metadata": {},
   "outputs": [],
   "source": [
    "data = None"
   ]
  },
  {
   "cell_type": "code",
   "execution_count": 20,
   "metadata": {},
   "outputs": [],
   "source": [
    "labels = None"
   ]
  },
  {
   "cell_type": "markdown",
   "metadata": {},
   "source": [
    "### Uploading Training / Validation files to S3\n",
    "\n",
    "Amazon's S3 service allows us to store files that can be access by both the built-in training models such as the XGBoost model we will be using as well as custom models such as the one we will see a little later.\n",
    "\n",
    "For this, and most other tasks we will be doing using SageMaker, there are two methods we could use. The first is to use the low level functionality of SageMaker which requires knowing each of the objects involved in the SageMaker environment. The second is to use the high level functionality in which certain choices have been made on the user's behalf. The low level approach benefits from allowing the user a great deal of flexibility while the high level approach makes development much quicker. For our purposes we will opt to use the high level approach although using the low-level approach is certainly an option.\n",
    "\n",
    "Recall the method `upload_data()` which is a member of object representing our current SageMaker session. What this method does is upload the data to the default bucket (which is created if it does not exist) into the path described by the key_prefix variable. To see this for yourself, once you have uploaded the data files, go to the S3 console and look to see where the files have been uploaded.\n",
    "\n",
    "For additional resources, see the __[SageMaker API documentation](http://sagemaker.readthedocs.io/en/latest/)__ and in addition the __[SageMaker Developer Guide.](https://docs.aws.amazon.com/sagemaker/latest/dg/)__"
   ]
  },
  {
   "cell_type": "code",
   "execution_count": 19,
   "metadata": {},
   "outputs": [],
   "source": [
    "import sagemaker\n",
    "\n",
    "session = sagemaker.Session() # Store the current SageMaker session\n",
    "\n",
    "# S3 prefix (which folder will we use)\n",
    "prefix = 'sentiment-update'\n"
   ]
  },
  {
   "cell_type": "code",
   "execution_count": 20,
   "metadata": {},
   "outputs": [],
   "source": [
    "\n",
    "test_location = session.upload_data(os.path.join(data_dir, 'test.csv'), key_prefix=prefix)\n",
    "val_location = session.upload_data(os.path.join(data_dir, 'validation.csv'), key_prefix=prefix)\n",
    "train_location = session.upload_data(os.path.join(data_dir, 'train.csv'), key_prefix=prefix)"
   ]
  },
  {
   "cell_type": "code",
   "execution_count": 23,
   "metadata": {},
   "outputs": [
    {
     "data": {
      "text/plain": [
       "'s3://sagemaker-us-east-1-801008216402/sentiment-update/test.csv'"
      ]
     },
     "execution_count": 23,
     "metadata": {},
     "output_type": "execute_result"
    }
   ],
   "source": [
    "test_location"
   ]
  },
  {
   "cell_type": "code",
   "execution_count": 24,
   "metadata": {},
   "outputs": [
    {
     "data": {
      "text/plain": [
       "'s3://sagemaker-us-east-1-801008216402/sentiment-update/validation.csv'"
      ]
     },
     "execution_count": 24,
     "metadata": {},
     "output_type": "execute_result"
    }
   ],
   "source": [
    "val_location"
   ]
  },
  {
   "cell_type": "code",
   "execution_count": 25,
   "metadata": {},
   "outputs": [
    {
     "data": {
      "text/plain": [
       "'s3://sagemaker-us-east-1-801008216402/sentiment-update/train.csv'"
      ]
     },
     "execution_count": 25,
     "metadata": {},
     "output_type": "execute_result"
    }
   ],
   "source": [
    "train_location"
   ]
  },
  {
   "cell_type": "markdown",
   "metadata": {},
   "source": [
    "### Creating the XGBoost model\n",
    "\n",
    "Now that the data has been uploaded it is time to create the XGBoost model. To begin with, we need to do some setup. At this point it is worth discussing what a model is in SageMaker. It is easiest to think of a model of comprising three different objects in the SageMaker ecosystem, which interact with one another.\n",
    "\n",
    "- Model Artifacts\n",
    "- Training Code (Container)\n",
    "- Inference Code (Container)\n",
    "\n",
    "The Model Artifacts are what you might think of as the actual model itself. For example, if you were building a neural network, the model artifacts would be the weights of the various layers. In our case, for an XGBoost model, the artifacts are the actual trees that are created during training.\n",
    "\n",
    "The other two objects, the training code and the inference code are then used the manipulate the training artifacts. More precisely, the training code uses the training data that is provided and creates the model artifacts, while the inference code uses the model artifacts to make predictions on new data.\n",
    "\n",
    "The way that SageMaker runs the training and inference code is by making use of Docker containers. For now, think of a container as being a way of packaging code up so that dependencies aren't an issue."
   ]
  },
  {
   "cell_type": "code",
   "execution_count": 21,
   "metadata": {},
   "outputs": [],
   "source": [
    "from sagemaker import get_execution_role\n",
    "\n",
    "# Our current execution role is require when creating the model as the training\n",
    "# and inference code will need to access the model artifacts.\n",
    "role = get_execution_role()"
   ]
  },
  {
   "cell_type": "code",
   "execution_count": 22,
   "metadata": {},
   "outputs": [
    {
     "name": "stderr",
     "output_type": "stream",
     "text": [
      "'get_image_uri' method will be deprecated in favor of 'ImageURIProvider' class in SageMaker Python SDK v2.\n",
      "There is a more up to date SageMaker XGBoost image. To use the newer image, please set 'repo_version'='1.0-1'. For example:\n",
      "\tget_image_uri(region, 'xgboost', '1.0-1').\n"
     ]
    }
   ],
   "source": [
    "# We need to retrieve the location of the container which is provided by Amazon for using XGBoost.\n",
    "# As a matter of convenience, the training and inference code both use the same container.\n",
    "from sagemaker.amazon.amazon_estimator import get_image_uri\n",
    "\n",
    "container = get_image_uri(session.boto_region_name, 'xgboost')"
   ]
  },
  {
   "cell_type": "code",
   "execution_count": 23,
   "metadata": {},
   "outputs": [
    {
     "name": "stderr",
     "output_type": "stream",
     "text": [
      "Parameter image_name will be renamed to image_uri in SageMaker Python SDK v2.\n"
     ]
    }
   ],
   "source": [
    "# First we create a SageMaker estimator object for our model.\n",
    "xgb = sagemaker.estimator.Estimator(container, # The location of the container we wish to use\n",
    "                                    role,                                    # What is our current IAM Role\n",
    "                                    train_instance_count=1,                  # How many compute instances\n",
    "                                    train_instance_type='ml.m4.xlarge',      # What kind of compute instances\n",
    "                                    output_path='s3://{}/{}/output'.format(session.default_bucket(), prefix),\n",
    "                                    sagemaker_session=session)\n",
    "\n",
    "# And then set the algorithm specific parameters.\n",
    "xgb.set_hyperparameters(max_depth=5,\n",
    "                        eta=0.2,\n",
    "                        gamma=4,\n",
    "                        min_child_weight=6,\n",
    "                        subsample=0.8,\n",
    "                        silent=0,\n",
    "                        objective='binary:logistic',\n",
    "                        early_stopping_rounds=10,\n",
    "                        num_round=500)"
   ]
  },
  {
   "cell_type": "markdown",
   "metadata": {},
   "source": [
    "### Fit the XGBoost model\n",
    "\n",
    "Now that our model has been set up we simply need to attach the training and validation datasets and then ask SageMaker to set up the computation."
   ]
  },
  {
   "cell_type": "code",
   "execution_count": 24,
   "metadata": {},
   "outputs": [
    {
     "name": "stderr",
     "output_type": "stream",
     "text": [
      "'s3_input' class will be renamed to 'TrainingInput' in SageMaker Python SDK v2.\n",
      "'s3_input' class will be renamed to 'TrainingInput' in SageMaker Python SDK v2.\n"
     ]
    }
   ],
   "source": [
    "s3_input_train = sagemaker.s3_input(s3_data=train_location, content_type='csv')\n",
    "s3_input_validation = sagemaker.s3_input(s3_data=val_location, content_type='csv')"
   ]
  },
  {
   "cell_type": "code",
   "execution_count": 25,
   "metadata": {},
   "outputs": [
    {
     "name": "stdout",
     "output_type": "stream",
     "text": [
      "2022-02-07 08:08:27 Starting - Starting the training job...........................\n",
      "2022-02-07 08:12:39 Starting - Launched instance was unhealthy, replacing it!...\n",
      "2022-02-07 08:13:03 Starting - Preparing the instances for training......\n",
      "2022-02-07 08:14:10 Downloading - Downloading input data...\n",
      "2022-02-07 08:14:36 Training - Downloading the training image...\n",
      "2022-02-07 08:15:16 Training - Training image download completed. Training in progress.\u001b[34mArguments: train\u001b[0m\n",
      "\u001b[34m[2022-02-07:08:15:19:INFO] Running standalone xgboost training.\u001b[0m\n",
      "\u001b[34m[2022-02-07:08:15:19:INFO] File size need to be processed in the node: 238.47mb. Available memory size in the node: 8510.67mb\u001b[0m\n",
      "\u001b[34m[2022-02-07:08:15:19:INFO] Determined delimiter of CSV input is ','\u001b[0m\n",
      "\u001b[34m[08:15:19] S3DistributionType set as FullyReplicated\u001b[0m\n",
      "\u001b[34m[08:15:22] 15000x5000 matrix with 75000000 entries loaded from /opt/ml/input/data/train?format=csv&label_column=0&delimiter=,\u001b[0m\n",
      "\u001b[34m[2022-02-07:08:15:22:INFO] Determined delimiter of CSV input is ','\u001b[0m\n",
      "\u001b[34m[08:15:22] S3DistributionType set as FullyReplicated\u001b[0m\n",
      "\u001b[34m[08:15:23] 10000x5000 matrix with 50000000 entries loaded from /opt/ml/input/data/validation?format=csv&label_column=0&delimiter=,\u001b[0m\n",
      "\u001b[34m[08:15:27] src/tree/updater_prune.cc:74: tree pruning end, 1 roots, 42 extra nodes, 0 pruned nodes, max_depth=5\u001b[0m\n",
      "\u001b[34m[0]#011train-error:0.296667#011validation-error:0.3032\u001b[0m\n",
      "\u001b[34mMultiple eval metrics have been passed: 'validation-error' will be used for early stopping.\u001b[0m\n",
      "\u001b[34mWill train until validation-error hasn't improved in 10 rounds.\u001b[0m\n",
      "\u001b[34m[08:15:30] src/tree/updater_prune.cc:74: tree pruning end, 1 roots, 48 extra nodes, 4 pruned nodes, max_depth=5\u001b[0m\n",
      "\u001b[34m[1]#011train-error:0.281#011validation-error:0.2858\u001b[0m\n",
      "\u001b[34m[08:15:32] src/tree/updater_prune.cc:74: tree pruning end, 1 roots, 36 extra nodes, 6 pruned nodes, max_depth=5\u001b[0m\n",
      "\u001b[34m[2]#011train-error:0.277867#011validation-error:0.2831\u001b[0m\n",
      "\u001b[34m[08:15:34] src/tree/updater_prune.cc:74: tree pruning end, 1 roots, 30 extra nodes, 4 pruned nodes, max_depth=5\u001b[0m\n",
      "\u001b[34m[3]#011train-error:0.275933#011validation-error:0.2823\u001b[0m\n",
      "\u001b[34m[08:15:36] src/tree/updater_prune.cc:74: tree pruning end, 1 roots, 34 extra nodes, 8 pruned nodes, max_depth=5\u001b[0m\n",
      "\u001b[34m[4]#011train-error:0.269333#011validation-error:0.2795\u001b[0m\n",
      "\u001b[34m[08:15:38] src/tree/updater_prune.cc:74: tree pruning end, 1 roots, 34 extra nodes, 0 pruned nodes, max_depth=5\u001b[0m\n",
      "\u001b[34m[5]#011train-error:0.257667#011validation-error:0.2668\u001b[0m\n",
      "\u001b[34m[08:15:40] src/tree/updater_prune.cc:74: tree pruning end, 1 roots, 30 extra nodes, 4 pruned nodes, max_depth=5\u001b[0m\n",
      "\u001b[34m[6]#011train-error:0.2462#011validation-error:0.2608\u001b[0m\n",
      "\u001b[34m[08:15:42] src/tree/updater_prune.cc:74: tree pruning end, 1 roots, 34 extra nodes, 2 pruned nodes, max_depth=5\u001b[0m\n",
      "\u001b[34m[7]#011train-error:0.2394#011validation-error:0.2539\u001b[0m\n",
      "\u001b[34m[08:15:44] src/tree/updater_prune.cc:74: tree pruning end, 1 roots, 36 extra nodes, 2 pruned nodes, max_depth=5\u001b[0m\n",
      "\u001b[34m[8]#011train-error:0.2304#011validation-error:0.2469\u001b[0m\n",
      "\u001b[34m[08:15:46] src/tree/updater_prune.cc:74: tree pruning end, 1 roots, 28 extra nodes, 10 pruned nodes, max_depth=5\u001b[0m\n",
      "\u001b[34m[9]#011train-error:0.2244#011validation-error:0.24\u001b[0m\n",
      "\u001b[34m[08:15:48] src/tree/updater_prune.cc:74: tree pruning end, 1 roots, 24 extra nodes, 10 pruned nodes, max_depth=5\u001b[0m\n",
      "\u001b[34m[10]#011train-error:0.220933#011validation-error:0.2371\u001b[0m\n",
      "\u001b[34m[08:15:49] src/tree/updater_prune.cc:74: tree pruning end, 1 roots, 30 extra nodes, 8 pruned nodes, max_depth=5\u001b[0m\n",
      "\u001b[34m[11]#011train-error:0.214667#011validation-error:0.2323\u001b[0m\n",
      "\u001b[34m[08:15:51] src/tree/updater_prune.cc:74: tree pruning end, 1 roots, 32 extra nodes, 6 pruned nodes, max_depth=5\u001b[0m\n",
      "\u001b[34m[12]#011train-error:0.2086#011validation-error:0.2247\u001b[0m\n",
      "\u001b[34m[08:15:54] src/tree/updater_prune.cc:74: tree pruning end, 1 roots, 34 extra nodes, 6 pruned nodes, max_depth=5\u001b[0m\n",
      "\u001b[34m[13]#011train-error:0.206267#011validation-error:0.2256\u001b[0m\n",
      "\u001b[34m[08:15:55] src/tree/updater_prune.cc:74: tree pruning end, 1 roots, 32 extra nodes, 8 pruned nodes, max_depth=5\u001b[0m\n",
      "\u001b[34m[14]#011train-error:0.204933#011validation-error:0.2242\u001b[0m\n",
      "\u001b[34m[08:15:57] src/tree/updater_prune.cc:74: tree pruning end, 1 roots, 20 extra nodes, 14 pruned nodes, max_depth=5\u001b[0m\n",
      "\u001b[34m[15]#011train-error:0.201333#011validation-error:0.2205\u001b[0m\n",
      "\u001b[34m[08:16:00] src/tree/updater_prune.cc:74: tree pruning end, 1 roots, 44 extra nodes, 8 pruned nodes, max_depth=5\u001b[0m\n",
      "\u001b[34m[16]#011train-error:0.1964#011validation-error:0.2165\u001b[0m\n",
      "\u001b[34m[08:16:01] src/tree/updater_prune.cc:74: tree pruning end, 1 roots, 32 extra nodes, 4 pruned nodes, max_depth=5\u001b[0m\n",
      "\u001b[34m[17]#011train-error:0.1954#011validation-error:0.2139\u001b[0m\n",
      "\u001b[34m[08:16:03] src/tree/updater_prune.cc:74: tree pruning end, 1 roots, 38 extra nodes, 4 pruned nodes, max_depth=5\u001b[0m\n",
      "\u001b[34m[18]#011train-error:0.1922#011validation-error:0.2119\u001b[0m\n",
      "\u001b[34m[08:16:06] src/tree/updater_prune.cc:74: tree pruning end, 1 roots, 26 extra nodes, 6 pruned nodes, max_depth=5\u001b[0m\n",
      "\u001b[34m[19]#011train-error:0.189667#011validation-error:0.2082\u001b[0m\n",
      "\u001b[34m[08:16:07] src/tree/updater_prune.cc:74: tree pruning end, 1 roots, 28 extra nodes, 10 pruned nodes, max_depth=5\u001b[0m\n",
      "\u001b[34m[20]#011train-error:0.185267#011validation-error:0.2058\u001b[0m\n",
      "\u001b[34m[08:16:10] src/tree/updater_prune.cc:74: tree pruning end, 1 roots, 36 extra nodes, 8 pruned nodes, max_depth=5\u001b[0m\n",
      "\u001b[34m[21]#011train-error:0.183#011validation-error:0.2022\u001b[0m\n",
      "\u001b[34m[08:16:12] src/tree/updater_prune.cc:74: tree pruning end, 1 roots, 20 extra nodes, 12 pruned nodes, max_depth=5\u001b[0m\n",
      "\u001b[34m[22]#011train-error:0.1816#011validation-error:0.2008\u001b[0m\n",
      "\u001b[34m[08:16:14] src/tree/updater_prune.cc:74: tree pruning end, 1 roots, 34 extra nodes, 8 pruned nodes, max_depth=5\u001b[0m\n",
      "\u001b[34m[23]#011train-error:0.1772#011validation-error:0.1998\u001b[0m\n",
      "\u001b[34m[08:16:16] src/tree/updater_prune.cc:74: tree pruning end, 1 roots, 30 extra nodes, 6 pruned nodes, max_depth=5\u001b[0m\n",
      "\u001b[34m[24]#011train-error:0.1748#011validation-error:0.1996\u001b[0m\n",
      "\u001b[34m[08:16:18] src/tree/updater_prune.cc:74: tree pruning end, 1 roots, 22 extra nodes, 6 pruned nodes, max_depth=5\u001b[0m\n",
      "\u001b[34m[25]#011train-error:0.1726#011validation-error:0.1981\u001b[0m\n",
      "\u001b[34m[08:16:20] src/tree/updater_prune.cc:74: tree pruning end, 1 roots, 24 extra nodes, 4 pruned nodes, max_depth=5\u001b[0m\n",
      "\u001b[34m[26]#011train-error:0.170533#011validation-error:0.1965\u001b[0m\n",
      "\u001b[34m[08:16:22] src/tree/updater_prune.cc:74: tree pruning end, 1 roots, 16 extra nodes, 14 pruned nodes, max_depth=5\u001b[0m\n",
      "\u001b[34m[27]#011train-error:0.1682#011validation-error:0.1947\u001b[0m\n",
      "\u001b[34m[08:16:24] src/tree/updater_prune.cc:74: tree pruning end, 1 roots, 26 extra nodes, 6 pruned nodes, max_depth=5\u001b[0m\n",
      "\u001b[34m[28]#011train-error:0.166533#011validation-error:0.1934\u001b[0m\n",
      "\u001b[34m[08:16:25] src/tree/updater_prune.cc:74: tree pruning end, 1 roots, 38 extra nodes, 4 pruned nodes, max_depth=5\u001b[0m\n",
      "\u001b[34m[29]#011train-error:0.164333#011validation-error:0.1914\u001b[0m\n",
      "\u001b[34m[08:16:27] src/tree/updater_prune.cc:74: tree pruning end, 1 roots, 30 extra nodes, 12 pruned nodes, max_depth=5\u001b[0m\n",
      "\u001b[34m[30]#011train-error:0.162133#011validation-error:0.1902\u001b[0m\n",
      "\u001b[34m[08:16:29] src/tree/updater_prune.cc:74: tree pruning end, 1 roots, 28 extra nodes, 6 pruned nodes, max_depth=5\u001b[0m\n",
      "\u001b[34m[31]#011train-error:0.161667#011validation-error:0.1888\u001b[0m\n",
      "\u001b[34m[08:16:31] src/tree/updater_prune.cc:74: tree pruning end, 1 roots, 34 extra nodes, 10 pruned nodes, max_depth=5\u001b[0m\n",
      "\u001b[34m[32]#011train-error:0.159533#011validation-error:0.1877\u001b[0m\n",
      "\u001b[34m[08:16:33] src/tree/updater_prune.cc:74: tree pruning end, 1 roots, 34 extra nodes, 14 pruned nodes, max_depth=5\u001b[0m\n",
      "\u001b[34m[33]#011train-error:0.1582#011validation-error:0.187\u001b[0m\n",
      "\u001b[34m[08:16:35] src/tree/updater_prune.cc:74: tree pruning end, 1 roots, 24 extra nodes, 16 pruned nodes, max_depth=5\u001b[0m\n",
      "\u001b[34m[34]#011train-error:0.1566#011validation-error:0.187\u001b[0m\n",
      "\u001b[34m[08:16:37] src/tree/updater_prune.cc:74: tree pruning end, 1 roots, 32 extra nodes, 12 pruned nodes, max_depth=5\u001b[0m\n",
      "\u001b[34m[35]#011train-error:0.1544#011validation-error:0.1856\u001b[0m\n",
      "\u001b[34m[08:16:38] src/tree/updater_prune.cc:74: tree pruning end, 1 roots, 18 extra nodes, 12 pruned nodes, max_depth=5\u001b[0m\n",
      "\u001b[34m[36]#011train-error:0.153467#011validation-error:0.1844\u001b[0m\n"
     ]
    },
    {
     "name": "stdout",
     "output_type": "stream",
     "text": [
      "\u001b[34m[08:16:40] src/tree/updater_prune.cc:74: tree pruning end, 1 roots, 22 extra nodes, 6 pruned nodes, max_depth=5\u001b[0m\n",
      "\u001b[34m[37]#011train-error:0.152867#011validation-error:0.1818\u001b[0m\n",
      "\u001b[34m[08:16:42] src/tree/updater_prune.cc:74: tree pruning end, 1 roots, 16 extra nodes, 6 pruned nodes, max_depth=5\u001b[0m\n",
      "\u001b[34m[38]#011train-error:0.152133#011validation-error:0.1824\u001b[0m\n",
      "\u001b[34m[08:16:44] src/tree/updater_prune.cc:74: tree pruning end, 1 roots, 10 extra nodes, 14 pruned nodes, max_depth=5\u001b[0m\n",
      "\u001b[34m[39]#011train-error:0.152#011validation-error:0.1821\u001b[0m\n",
      "\u001b[34m[08:16:46] src/tree/updater_prune.cc:74: tree pruning end, 1 roots, 24 extra nodes, 6 pruned nodes, max_depth=5\u001b[0m\n",
      "\u001b[34m[40]#011train-error:0.149333#011validation-error:0.1799\u001b[0m\n",
      "\u001b[34m[08:16:48] src/tree/updater_prune.cc:74: tree pruning end, 1 roots, 26 extra nodes, 4 pruned nodes, max_depth=5\u001b[0m\n",
      "\u001b[34m[41]#011train-error:0.1486#011validation-error:0.1785\u001b[0m\n",
      "\u001b[34m[08:16:50] src/tree/updater_prune.cc:74: tree pruning end, 1 roots, 20 extra nodes, 6 pruned nodes, max_depth=5\u001b[0m\n",
      "\u001b[34m[42]#011train-error:0.1468#011validation-error:0.1785\u001b[0m\n",
      "\u001b[34m[08:16:52] src/tree/updater_prune.cc:74: tree pruning end, 1 roots, 18 extra nodes, 18 pruned nodes, max_depth=5\u001b[0m\n",
      "\u001b[34m[43]#011train-error:0.145733#011validation-error:0.1773\u001b[0m\n",
      "\u001b[34m[08:16:54] src/tree/updater_prune.cc:74: tree pruning end, 1 roots, 28 extra nodes, 8 pruned nodes, max_depth=5\u001b[0m\n",
      "\u001b[34m[44]#011train-error:0.142933#011validation-error:0.1768\u001b[0m\n",
      "\u001b[34m[08:16:56] src/tree/updater_prune.cc:74: tree pruning end, 1 roots, 30 extra nodes, 10 pruned nodes, max_depth=5\u001b[0m\n",
      "\u001b[34m[45]#011train-error:0.142067#011validation-error:0.1758\u001b[0m\n",
      "\u001b[34m[08:16:59] src/tree/updater_prune.cc:74: tree pruning end, 1 roots, 18 extra nodes, 18 pruned nodes, max_depth=5\u001b[0m\n",
      "\u001b[34m[46]#011train-error:0.1416#011validation-error:0.1739\u001b[0m\n",
      "\u001b[34m[08:17:01] src/tree/updater_prune.cc:74: tree pruning end, 1 roots, 20 extra nodes, 16 pruned nodes, max_depth=5\u001b[0m\n",
      "\u001b[34m[47]#011train-error:0.139533#011validation-error:0.1741\u001b[0m\n",
      "\u001b[34m[08:17:03] src/tree/updater_prune.cc:74: tree pruning end, 1 roots, 30 extra nodes, 4 pruned nodes, max_depth=5\u001b[0m\n",
      "\u001b[34m[48]#011train-error:0.1382#011validation-error:0.1736\u001b[0m\n",
      "\u001b[34m[08:17:05] src/tree/updater_prune.cc:74: tree pruning end, 1 roots, 12 extra nodes, 8 pruned nodes, max_depth=5\u001b[0m\n",
      "\u001b[34m[49]#011train-error:0.137267#011validation-error:0.1726\u001b[0m\n",
      "\u001b[34m[08:17:07] src/tree/updater_prune.cc:74: tree pruning end, 1 roots, 20 extra nodes, 10 pruned nodes, max_depth=5\u001b[0m\n",
      "\u001b[34m[50]#011train-error:0.1368#011validation-error:0.1712\u001b[0m\n",
      "\u001b[34m[08:17:09] src/tree/updater_prune.cc:74: tree pruning end, 1 roots, 22 extra nodes, 12 pruned nodes, max_depth=5\u001b[0m\n",
      "\u001b[34m[51]#011train-error:0.1354#011validation-error:0.1706\u001b[0m\n",
      "\u001b[34m[08:17:11] src/tree/updater_prune.cc:74: tree pruning end, 1 roots, 22 extra nodes, 14 pruned nodes, max_depth=5\u001b[0m\n",
      "\u001b[34m[52]#011train-error:0.1356#011validation-error:0.1704\u001b[0m\n",
      "\u001b[34m[08:17:13] src/tree/updater_prune.cc:74: tree pruning end, 1 roots, 18 extra nodes, 16 pruned nodes, max_depth=5\u001b[0m\n",
      "\u001b[34m[53]#011train-error:0.135333#011validation-error:0.1697\u001b[0m\n",
      "\u001b[34m[08:17:15] src/tree/updater_prune.cc:74: tree pruning end, 1 roots, 22 extra nodes, 8 pruned nodes, max_depth=5\u001b[0m\n",
      "\u001b[34m[54]#011train-error:0.135333#011validation-error:0.1695\u001b[0m\n",
      "\u001b[34m[08:17:16] src/tree/updater_prune.cc:74: tree pruning end, 1 roots, 16 extra nodes, 10 pruned nodes, max_depth=5\u001b[0m\n",
      "\u001b[34m[55]#011train-error:0.134267#011validation-error:0.1689\u001b[0m\n",
      "\u001b[34m[08:17:18] src/tree/updater_prune.cc:74: tree pruning end, 1 roots, 16 extra nodes, 14 pruned nodes, max_depth=5\u001b[0m\n",
      "\u001b[34m[56]#011train-error:0.1322#011validation-error:0.168\u001b[0m\n",
      "\u001b[34m[08:17:20] src/tree/updater_prune.cc:74: tree pruning end, 1 roots, 18 extra nodes, 6 pruned nodes, max_depth=5\u001b[0m\n",
      "\u001b[34m[57]#011train-error:0.1316#011validation-error:0.1679\u001b[0m\n",
      "\u001b[34m[08:17:22] src/tree/updater_prune.cc:74: tree pruning end, 1 roots, 18 extra nodes, 10 pruned nodes, max_depth=5\u001b[0m\n",
      "\u001b[34m[58]#011train-error:0.1312#011validation-error:0.1678\u001b[0m\n",
      "\u001b[34m[08:17:24] src/tree/updater_prune.cc:74: tree pruning end, 1 roots, 12 extra nodes, 12 pruned nodes, max_depth=5\u001b[0m\n",
      "\u001b[34m[59]#011train-error:0.130333#011validation-error:0.1684\u001b[0m\n",
      "\u001b[34m[08:17:26] src/tree/updater_prune.cc:74: tree pruning end, 1 roots, 14 extra nodes, 18 pruned nodes, max_depth=5\u001b[0m\n",
      "\u001b[34m[60]#011train-error:0.1298#011validation-error:0.167\u001b[0m\n",
      "\u001b[34m[08:17:28] src/tree/updater_prune.cc:74: tree pruning end, 1 roots, 28 extra nodes, 8 pruned nodes, max_depth=5\u001b[0m\n",
      "\u001b[34m[61]#011train-error:0.1298#011validation-error:0.1668\u001b[0m\n",
      "\u001b[34m[08:17:30] src/tree/updater_prune.cc:74: tree pruning end, 1 roots, 18 extra nodes, 10 pruned nodes, max_depth=5\u001b[0m\n",
      "\u001b[34m[62]#011train-error:0.129133#011validation-error:0.1669\u001b[0m\n",
      "\u001b[34m[08:17:32] src/tree/updater_prune.cc:74: tree pruning end, 1 roots, 28 extra nodes, 12 pruned nodes, max_depth=5\u001b[0m\n",
      "\u001b[34m[63]#011train-error:0.127067#011validation-error:0.1666\u001b[0m\n",
      "\u001b[34m[08:17:33] src/tree/updater_prune.cc:74: tree pruning end, 1 roots, 28 extra nodes, 18 pruned nodes, max_depth=5\u001b[0m\n",
      "\u001b[34m[64]#011train-error:0.126333#011validation-error:0.1653\u001b[0m\n",
      "\u001b[34m[08:17:35] src/tree/updater_prune.cc:74: tree pruning end, 1 roots, 10 extra nodes, 18 pruned nodes, max_depth=5\u001b[0m\n",
      "\u001b[34m[65]#011train-error:0.126467#011validation-error:0.1647\u001b[0m\n",
      "\u001b[34m[08:17:37] src/tree/updater_prune.cc:74: tree pruning end, 1 roots, 18 extra nodes, 6 pruned nodes, max_depth=5\u001b[0m\n",
      "\u001b[34m[66]#011train-error:0.125667#011validation-error:0.1648\u001b[0m\n",
      "\u001b[34m[08:17:39] src/tree/updater_prune.cc:74: tree pruning end, 1 roots, 20 extra nodes, 10 pruned nodes, max_depth=5\u001b[0m\n",
      "\u001b[34m[67]#011train-error:0.124533#011validation-error:0.1643\u001b[0m\n",
      "\u001b[34m[08:17:41] src/tree/updater_prune.cc:74: tree pruning end, 1 roots, 26 extra nodes, 10 pruned nodes, max_depth=5\u001b[0m\n",
      "\u001b[34m[68]#011train-error:0.123267#011validation-error:0.1647\u001b[0m\n",
      "\u001b[34m[08:17:43] src/tree/updater_prune.cc:74: tree pruning end, 1 roots, 18 extra nodes, 18 pruned nodes, max_depth=5\u001b[0m\n",
      "\u001b[34m[69]#011train-error:0.123267#011validation-error:0.1646\u001b[0m\n",
      "\u001b[34m[08:17:45] src/tree/updater_prune.cc:74: tree pruning end, 1 roots, 12 extra nodes, 8 pruned nodes, max_depth=5\u001b[0m\n",
      "\u001b[34m[70]#011train-error:0.122667#011validation-error:0.1647\u001b[0m\n",
      "\u001b[34m[08:17:47] src/tree/updater_prune.cc:74: tree pruning end, 1 roots, 14 extra nodes, 16 pruned nodes, max_depth=5\u001b[0m\n",
      "\u001b[34m[71]#011train-error:0.122733#011validation-error:0.1637\u001b[0m\n",
      "\u001b[34m[08:17:49] src/tree/updater_prune.cc:74: tree pruning end, 1 roots, 18 extra nodes, 10 pruned nodes, max_depth=5\u001b[0m\n",
      "\u001b[34m[72]#011train-error:0.122#011validation-error:0.1631\u001b[0m\n",
      "\u001b[34m[08:17:51] src/tree/updater_prune.cc:74: tree pruning end, 1 roots, 16 extra nodes, 6 pruned nodes, max_depth=5\u001b[0m\n",
      "\u001b[34m[73]#011train-error:0.121533#011validation-error:0.1621\u001b[0m\n",
      "\u001b[34m[08:17:53] src/tree/updater_prune.cc:74: tree pruning end, 1 roots, 22 extra nodes, 12 pruned nodes, max_depth=5\u001b[0m\n",
      "\u001b[34m[74]#011train-error:0.1208#011validation-error:0.1616\u001b[0m\n",
      "\u001b[34m[08:17:55] src/tree/updater_prune.cc:74: tree pruning end, 1 roots, 20 extra nodes, 10 pruned nodes, max_depth=5\u001b[0m\n",
      "\u001b[34m[75]#011train-error:0.119667#011validation-error:0.1603\u001b[0m\n",
      "\u001b[34m[08:17:56] src/tree/updater_prune.cc:74: tree pruning end, 1 roots, 10 extra nodes, 6 pruned nodes, max_depth=5\u001b[0m\n",
      "\u001b[34m[76]#011train-error:0.119333#011validation-error:0.1604\u001b[0m\n",
      "\u001b[34m[08:17:58] src/tree/updater_prune.cc:74: tree pruning end, 1 roots, 26 extra nodes, 6 pruned nodes, max_depth=5\u001b[0m\n",
      "\u001b[34m[77]#011train-error:0.118667#011validation-error:0.1606\u001b[0m\n",
      "\u001b[34m[08:18:00] src/tree/updater_prune.cc:74: tree pruning end, 1 roots, 22 extra nodes, 6 pruned nodes, max_depth=5\u001b[0m\n",
      "\u001b[34m[78]#011train-error:0.1188#011validation-error:0.1588\u001b[0m\n",
      "\u001b[34m[08:18:02] src/tree/updater_prune.cc:74: tree pruning end, 1 roots, 10 extra nodes, 8 pruned nodes, max_depth=5\u001b[0m\n",
      "\u001b[34m[79]#011train-error:0.118067#011validation-error:0.1589\u001b[0m\n",
      "\u001b[34m[08:18:04] src/tree/updater_prune.cc:74: tree pruning end, 1 roots, 28 extra nodes, 10 pruned nodes, max_depth=5\u001b[0m\n",
      "\u001b[34m[80]#011train-error:0.1172#011validation-error:0.159\u001b[0m\n",
      "\u001b[34m[08:18:06] src/tree/updater_prune.cc:74: tree pruning end, 1 roots, 18 extra nodes, 8 pruned nodes, max_depth=5\u001b[0m\n",
      "\u001b[34m[81]#011train-error:0.116533#011validation-error:0.1585\u001b[0m\n",
      "\u001b[34m[08:18:08] src/tree/updater_prune.cc:74: tree pruning end, 1 roots, 18 extra nodes, 18 pruned nodes, max_depth=5\u001b[0m\n",
      "\u001b[34m[82]#011train-error:0.1154#011validation-error:0.1577\u001b[0m\n",
      "\u001b[34m[08:18:10] src/tree/updater_prune.cc:74: tree pruning end, 1 roots, 12 extra nodes, 8 pruned nodes, max_depth=5\u001b[0m\n"
     ]
    },
    {
     "name": "stdout",
     "output_type": "stream",
     "text": [
      "\u001b[34m[83]#011train-error:0.114333#011validation-error:0.1565\u001b[0m\n",
      "\u001b[34m[08:18:12] src/tree/updater_prune.cc:74: tree pruning end, 1 roots, 22 extra nodes, 10 pruned nodes, max_depth=5\u001b[0m\n",
      "\u001b[34m[84]#011train-error:0.114333#011validation-error:0.1566\u001b[0m\n",
      "\u001b[34m[08:18:14] src/tree/updater_prune.cc:74: tree pruning end, 1 roots, 20 extra nodes, 4 pruned nodes, max_depth=5\u001b[0m\n",
      "\u001b[34m[85]#011train-error:0.113267#011validation-error:0.1561\u001b[0m\n",
      "\u001b[34m[08:18:16] src/tree/updater_prune.cc:74: tree pruning end, 1 roots, 10 extra nodes, 4 pruned nodes, max_depth=5\u001b[0m\n",
      "\u001b[34m[86]#011train-error:0.112867#011validation-error:0.1561\u001b[0m\n",
      "\u001b[34m[08:18:18] src/tree/updater_prune.cc:74: tree pruning end, 1 roots, 12 extra nodes, 0 pruned nodes, max_depth=5\u001b[0m\n",
      "\u001b[34m[87]#011train-error:0.1122#011validation-error:0.1554\u001b[0m\n",
      "\u001b[34m[08:18:20] src/tree/updater_prune.cc:74: tree pruning end, 1 roots, 14 extra nodes, 16 pruned nodes, max_depth=5\u001b[0m\n",
      "\u001b[34m[88]#011train-error:0.111933#011validation-error:0.1554\u001b[0m\n",
      "\u001b[34m[08:18:22] src/tree/updater_prune.cc:74: tree pruning end, 1 roots, 24 extra nodes, 2 pruned nodes, max_depth=5\u001b[0m\n",
      "\u001b[34m[89]#011train-error:0.110533#011validation-error:0.1553\u001b[0m\n",
      "\u001b[34m[08:18:24] src/tree/updater_prune.cc:74: tree pruning end, 1 roots, 18 extra nodes, 6 pruned nodes, max_depth=5\u001b[0m\n",
      "\u001b[34m[90]#011train-error:0.1098#011validation-error:0.1553\u001b[0m\n",
      "\u001b[34m[08:18:26] src/tree/updater_prune.cc:74: tree pruning end, 1 roots, 16 extra nodes, 12 pruned nodes, max_depth=5\u001b[0m\n",
      "\u001b[34m[91]#011train-error:0.109467#011validation-error:0.1551\u001b[0m\n",
      "\u001b[34m[08:18:29] src/tree/updater_prune.cc:74: tree pruning end, 1 roots, 12 extra nodes, 12 pruned nodes, max_depth=5\u001b[0m\n",
      "\u001b[34m[92]#011train-error:0.109067#011validation-error:0.155\u001b[0m\n",
      "\u001b[34m[08:18:31] src/tree/updater_prune.cc:74: tree pruning end, 1 roots, 18 extra nodes, 14 pruned nodes, max_depth=5\u001b[0m\n",
      "\u001b[34m[93]#011train-error:0.1088#011validation-error:0.1547\u001b[0m\n",
      "\u001b[34m[08:18:33] src/tree/updater_prune.cc:74: tree pruning end, 1 roots, 20 extra nodes, 4 pruned nodes, max_depth=5\u001b[0m\n",
      "\u001b[34m[94]#011train-error:0.108333#011validation-error:0.1534\u001b[0m\n",
      "\u001b[34m[08:18:35] src/tree/updater_prune.cc:74: tree pruning end, 1 roots, 14 extra nodes, 10 pruned nodes, max_depth=5\u001b[0m\n",
      "\u001b[34m[95]#011train-error:0.108133#011validation-error:0.1544\u001b[0m\n",
      "\u001b[34m[08:18:36] src/tree/updater_prune.cc:74: tree pruning end, 1 roots, 16 extra nodes, 14 pruned nodes, max_depth=5\u001b[0m\n",
      "\u001b[34m[96]#011train-error:0.107933#011validation-error:0.1547\u001b[0m\n",
      "\u001b[34m[08:18:38] src/tree/updater_prune.cc:74: tree pruning end, 1 roots, 12 extra nodes, 6 pruned nodes, max_depth=5\u001b[0m\n",
      "\u001b[34m[97]#011train-error:0.1078#011validation-error:0.1546\u001b[0m\n",
      "\u001b[34m[08:18:41] src/tree/updater_prune.cc:74: tree pruning end, 1 roots, 18 extra nodes, 2 pruned nodes, max_depth=5\u001b[0m\n",
      "\u001b[34m[98]#011train-error:0.108133#011validation-error:0.1546\u001b[0m\n",
      "\u001b[34m[08:18:43] src/tree/updater_prune.cc:74: tree pruning end, 1 roots, 12 extra nodes, 4 pruned nodes, max_depth=5\u001b[0m\n",
      "\u001b[34m[99]#011train-error:0.108067#011validation-error:0.1542\u001b[0m\n",
      "\u001b[34m[08:18:45] src/tree/updater_prune.cc:74: tree pruning end, 1 roots, 18 extra nodes, 10 pruned nodes, max_depth=5\u001b[0m\n",
      "\u001b[34m[100]#011train-error:0.1078#011validation-error:0.1538\u001b[0m\n",
      "\u001b[34m[08:18:47] src/tree/updater_prune.cc:74: tree pruning end, 1 roots, 12 extra nodes, 2 pruned nodes, max_depth=5\u001b[0m\n",
      "\u001b[34m[101]#011train-error:0.107067#011validation-error:0.1533\u001b[0m\n",
      "\u001b[34m[08:18:49] src/tree/updater_prune.cc:74: tree pruning end, 1 roots, 18 extra nodes, 16 pruned nodes, max_depth=5\u001b[0m\n",
      "\u001b[34m[102]#011train-error:0.106733#011validation-error:0.1528\u001b[0m\n",
      "\u001b[34m[08:18:50] src/tree/updater_prune.cc:74: tree pruning end, 1 roots, 10 extra nodes, 6 pruned nodes, max_depth=5\u001b[0m\n",
      "\u001b[34m[103]#011train-error:0.106133#011validation-error:0.1526\u001b[0m\n",
      "\u001b[34m[08:18:52] src/tree/updater_prune.cc:74: tree pruning end, 1 roots, 24 extra nodes, 8 pruned nodes, max_depth=5\u001b[0m\n",
      "\u001b[34m[104]#011train-error:0.106133#011validation-error:0.1522\u001b[0m\n",
      "\u001b[34m[08:18:55] src/tree/updater_prune.cc:74: tree pruning end, 1 roots, 10 extra nodes, 6 pruned nodes, max_depth=5\u001b[0m\n",
      "\u001b[34m[105]#011train-error:0.105267#011validation-error:0.1517\u001b[0m\n",
      "\u001b[34m[08:18:57] src/tree/updater_prune.cc:74: tree pruning end, 1 roots, 16 extra nodes, 16 pruned nodes, max_depth=5\u001b[0m\n",
      "\u001b[34m[106]#011train-error:0.105#011validation-error:0.151\u001b[0m\n",
      "\u001b[34m[08:18:59] src/tree/updater_prune.cc:74: tree pruning end, 1 roots, 22 extra nodes, 10 pruned nodes, max_depth=5\u001b[0m\n",
      "\u001b[34m[107]#011train-error:0.104933#011validation-error:0.1515\u001b[0m\n",
      "\u001b[34m[08:19:01] src/tree/updater_prune.cc:74: tree pruning end, 1 roots, 14 extra nodes, 8 pruned nodes, max_depth=5\u001b[0m\n",
      "\u001b[34m[108]#011train-error:0.104267#011validation-error:0.1514\u001b[0m\n",
      "\u001b[34m[08:19:03] src/tree/updater_prune.cc:74: tree pruning end, 1 roots, 16 extra nodes, 10 pruned nodes, max_depth=5\u001b[0m\n",
      "\u001b[34m[109]#011train-error:0.104067#011validation-error:0.1514\u001b[0m\n",
      "\u001b[34m[08:19:05] src/tree/updater_prune.cc:74: tree pruning end, 1 roots, 14 extra nodes, 14 pruned nodes, max_depth=5\u001b[0m\n",
      "\u001b[34m[110]#011train-error:0.103667#011validation-error:0.1514\u001b[0m\n",
      "\u001b[34m[08:19:07] src/tree/updater_prune.cc:74: tree pruning end, 1 roots, 12 extra nodes, 10 pruned nodes, max_depth=5\u001b[0m\n",
      "\u001b[34m[111]#011train-error:0.1032#011validation-error:0.1521\u001b[0m\n",
      "\u001b[34m[08:19:09] src/tree/updater_prune.cc:74: tree pruning end, 1 roots, 14 extra nodes, 12 pruned nodes, max_depth=5\u001b[0m\n",
      "\u001b[34m[112]#011train-error:0.103467#011validation-error:0.1518\u001b[0m\n",
      "\u001b[34m[08:19:11] src/tree/updater_prune.cc:74: tree pruning end, 1 roots, 18 extra nodes, 16 pruned nodes, max_depth=5\u001b[0m\n",
      "\u001b[34m[113]#011train-error:0.102933#011validation-error:0.1505\u001b[0m\n",
      "\u001b[34m[08:19:13] src/tree/updater_prune.cc:74: tree pruning end, 1 roots, 16 extra nodes, 0 pruned nodes, max_depth=5\u001b[0m\n",
      "\u001b[34m[114]#011train-error:0.1028#011validation-error:0.1507\u001b[0m\n",
      "\u001b[34m[08:19:15] src/tree/updater_prune.cc:74: tree pruning end, 1 roots, 12 extra nodes, 16 pruned nodes, max_depth=5\u001b[0m\n",
      "\u001b[34m[115]#011train-error:0.102733#011validation-error:0.1508\u001b[0m\n",
      "\u001b[34m[08:19:17] src/tree/updater_prune.cc:74: tree pruning end, 1 roots, 12 extra nodes, 12 pruned nodes, max_depth=5\u001b[0m\n",
      "\u001b[34m[116]#011train-error:0.102733#011validation-error:0.151\u001b[0m\n",
      "\u001b[34m[08:19:19] src/tree/updater_prune.cc:74: tree pruning end, 1 roots, 16 extra nodes, 8 pruned nodes, max_depth=5\u001b[0m\n",
      "\u001b[34m[117]#011train-error:0.1018#011validation-error:0.1513\u001b[0m\n",
      "\u001b[34m[08:19:21] src/tree/updater_prune.cc:74: tree pruning end, 1 roots, 10 extra nodes, 6 pruned nodes, max_depth=5\u001b[0m\n",
      "\u001b[34m[118]#011train-error:0.1018#011validation-error:0.1501\u001b[0m\n",
      "\u001b[34m[08:19:23] src/tree/updater_prune.cc:74: tree pruning end, 1 roots, 18 extra nodes, 16 pruned nodes, max_depth=5\u001b[0m\n",
      "\u001b[34m[119]#011train-error:0.101667#011validation-error:0.1494\u001b[0m\n",
      "\u001b[34m[08:19:25] src/tree/updater_prune.cc:74: tree pruning end, 1 roots, 18 extra nodes, 12 pruned nodes, max_depth=5\u001b[0m\n",
      "\u001b[34m[120]#011train-error:0.101067#011validation-error:0.1491\u001b[0m\n",
      "\u001b[34m[08:19:27] src/tree/updater_prune.cc:74: tree pruning end, 1 roots, 24 extra nodes, 8 pruned nodes, max_depth=5\u001b[0m\n",
      "\u001b[34m[121]#011train-error:0.1002#011validation-error:0.15\u001b[0m\n",
      "\u001b[34m[08:19:29] src/tree/updater_prune.cc:74: tree pruning end, 1 roots, 18 extra nodes, 10 pruned nodes, max_depth=5\u001b[0m\n",
      "\u001b[34m[122]#011train-error:0.100133#011validation-error:0.1493\u001b[0m\n",
      "\u001b[34m[08:19:30] src/tree/updater_prune.cc:74: tree pruning end, 1 roots, 20 extra nodes, 16 pruned nodes, max_depth=5\u001b[0m\n",
      "\u001b[34m[123]#011train-error:0.099867#011validation-error:0.1484\u001b[0m\n",
      "\u001b[34m[08:19:32] src/tree/updater_prune.cc:74: tree pruning end, 1 roots, 12 extra nodes, 2 pruned nodes, max_depth=5\u001b[0m\n",
      "\u001b[34m[124]#011train-error:0.099067#011validation-error:0.1493\u001b[0m\n",
      "\u001b[34m[08:19:35] src/tree/updater_prune.cc:74: tree pruning end, 1 roots, 10 extra nodes, 8 pruned nodes, max_depth=5\u001b[0m\n",
      "\u001b[34m[125]#011train-error:0.098667#011validation-error:0.1489\u001b[0m\n",
      "\u001b[34m[08:19:36] src/tree/updater_prune.cc:74: tree pruning end, 1 roots, 14 extra nodes, 4 pruned nodes, max_depth=5\u001b[0m\n",
      "\u001b[34m[126]#011train-error:0.0988#011validation-error:0.148\u001b[0m\n",
      "\u001b[34m[08:19:38] src/tree/updater_prune.cc:74: tree pruning end, 1 roots, 10 extra nodes, 12 pruned nodes, max_depth=5\u001b[0m\n",
      "\u001b[34m[127]#011train-error:0.0988#011validation-error:0.1479\u001b[0m\n",
      "\u001b[34m[08:19:40] src/tree/updater_prune.cc:74: tree pruning end, 1 roots, 20 extra nodes, 10 pruned nodes, max_depth=5\u001b[0m\n",
      "\u001b[34m[128]#011train-error:0.098467#011validation-error:0.1477\u001b[0m\n",
      "\u001b[34m[08:19:42] src/tree/updater_prune.cc:74: tree pruning end, 1 roots, 20 extra nodes, 10 pruned nodes, max_depth=5\u001b[0m\n",
      "\u001b[34m[129]#011train-error:0.098333#011validation-error:0.1482\u001b[0m\n",
      "\u001b[34m[08:19:44] src/tree/updater_prune.cc:74: tree pruning end, 1 roots, 14 extra nodes, 8 pruned nodes, max_depth=5\u001b[0m\n",
      "\u001b[34m[130]#011train-error:0.0978#011validation-error:0.1478\u001b[0m\n"
     ]
    },
    {
     "name": "stdout",
     "output_type": "stream",
     "text": [
      "\u001b[34m[08:19:46] src/tree/updater_prune.cc:74: tree pruning end, 1 roots, 20 extra nodes, 4 pruned nodes, max_depth=5\u001b[0m\n",
      "\u001b[34m[131]#011train-error:0.097467#011validation-error:0.1471\u001b[0m\n",
      "\u001b[34m[08:19:49] src/tree/updater_prune.cc:74: tree pruning end, 1 roots, 16 extra nodes, 10 pruned nodes, max_depth=5\u001b[0m\n",
      "\u001b[34m[132]#011train-error:0.097133#011validation-error:0.1467\u001b[0m\n",
      "\u001b[34m[08:19:51] src/tree/updater_prune.cc:74: tree pruning end, 1 roots, 14 extra nodes, 6 pruned nodes, max_depth=5\u001b[0m\n",
      "\u001b[34m[133]#011train-error:0.097133#011validation-error:0.147\u001b[0m\n",
      "\u001b[34m[08:19:53] src/tree/updater_prune.cc:74: tree pruning end, 1 roots, 20 extra nodes, 2 pruned nodes, max_depth=5\u001b[0m\n",
      "\u001b[34m[134]#011train-error:0.096333#011validation-error:0.1477\u001b[0m\n",
      "\u001b[34m[08:19:55] src/tree/updater_prune.cc:74: tree pruning end, 1 roots, 16 extra nodes, 8 pruned nodes, max_depth=5\u001b[0m\n",
      "\u001b[34m[135]#011train-error:0.096133#011validation-error:0.1484\u001b[0m\n",
      "\u001b[34m[08:19:57] src/tree/updater_prune.cc:74: tree pruning end, 1 roots, 14 extra nodes, 10 pruned nodes, max_depth=5\u001b[0m\n",
      "\u001b[34m[136]#011train-error:0.0956#011validation-error:0.1474\u001b[0m\n",
      "\u001b[34m[08:19:59] src/tree/updater_prune.cc:74: tree pruning end, 1 roots, 12 extra nodes, 14 pruned nodes, max_depth=5\u001b[0m\n",
      "\u001b[34m[137]#011train-error:0.0954#011validation-error:0.1477\u001b[0m\n",
      "\u001b[34m[08:20:01] src/tree/updater_prune.cc:74: tree pruning end, 1 roots, 10 extra nodes, 4 pruned nodes, max_depth=5\u001b[0m\n",
      "\u001b[34m[138]#011train-error:0.095267#011validation-error:0.1476\u001b[0m\n",
      "\u001b[34m[08:20:02] src/tree/updater_prune.cc:74: tree pruning end, 1 roots, 10 extra nodes, 10 pruned nodes, max_depth=5\u001b[0m\n",
      "\u001b[34m[139]#011train-error:0.095467#011validation-error:0.1468\u001b[0m\n",
      "\u001b[34m[08:20:04] src/tree/updater_prune.cc:74: tree pruning end, 1 roots, 16 extra nodes, 12 pruned nodes, max_depth=5\u001b[0m\n",
      "\u001b[34m[140]#011train-error:0.0954#011validation-error:0.1471\u001b[0m\n",
      "\u001b[34m[08:20:07] src/tree/updater_prune.cc:74: tree pruning end, 1 roots, 16 extra nodes, 10 pruned nodes, max_depth=5\u001b[0m\n",
      "\u001b[34m[141]#011train-error:0.094933#011validation-error:0.147\u001b[0m\n",
      "\u001b[34m[08:20:09] src/tree/updater_prune.cc:74: tree pruning end, 1 roots, 12 extra nodes, 6 pruned nodes, max_depth=5\u001b[0m\n",
      "\u001b[34m[142]#011train-error:0.0944#011validation-error:0.1475\u001b[0m\n",
      "\u001b[34mStopping. Best iteration:\u001b[0m\n",
      "\u001b[34m[132]#011train-error:0.097133#011validation-error:0.1467\u001b[0m\n",
      "\n",
      "2022-02-07 08:20:19 Uploading - Uploading generated training model\n",
      "2022-02-07 08:20:19 Completed - Training job completed\n",
      "Training seconds: 369\n",
      "Billable seconds: 369\n"
     ]
    }
   ],
   "source": [
    "xgb.fit({'train': s3_input_train, 'validation': s3_input_validation})"
   ]
  },
  {
   "cell_type": "markdown",
   "metadata": {},
   "source": [
    "### Testing the model\n",
    "\n",
    "Now that we've fit our XGBoost model, it's time to see how well it performs. To do this we will use SageMakers Batch Transform functionality. Batch Transform is a convenient way to perform inference on a large dataset in a way that is not realtime. That is, we don't necessarily need to use our model's results immediately and instead we can peform inference on a large number of samples. An example of this in industry might be peforming an end of month report. This method of inference can also be useful to us as it means to can perform inference on our entire test set. \n",
    "\n",
    "To perform a Batch Transformation we need to first create a transformer objects from our trained estimator object."
   ]
  },
  {
   "cell_type": "code",
   "execution_count": 26,
   "metadata": {},
   "outputs": [
    {
     "name": "stderr",
     "output_type": "stream",
     "text": [
      "Parameter image will be renamed to image_uri in SageMaker Python SDK v2.\n"
     ]
    }
   ],
   "source": [
    "xgb_transformer = xgb.transformer(instance_count = 1, instance_type = 'ml.m4.xlarge')"
   ]
  },
  {
   "cell_type": "markdown",
   "metadata": {},
   "source": [
    "Next we actually perform the transform job. When doing so we need to make sure to specify the type of data we are sending so that it is serialized correctly in the background. In our case we are providing our model with csv data so we specify `text/csv`. Also, if the test data that we have provided is too large to process all at once then we need to specify how the data file should be split up. Since each line is a single entry in our data set we tell SageMaker that it can split the input on each line."
   ]
  },
  {
   "cell_type": "code",
   "execution_count": 27,
   "metadata": {},
   "outputs": [],
   "source": [
    "xgb_transformer.transform(test_location, content_type='text/csv', split_type='Line')"
   ]
  },
  {
   "cell_type": "markdown",
   "metadata": {},
   "source": [
    "Currently the transform job is running but it is doing so in the background. Since we wish to wait until the transform job is done and we would like a bit of feedback we can run the `wait()` method."
   ]
  },
  {
   "cell_type": "code",
   "execution_count": 28,
   "metadata": {},
   "outputs": [
    {
     "name": "stdout",
     "output_type": "stream",
     "text": [
      ".....................................\u001b[34mArguments: serve\u001b[0m\n",
      "\u001b[34m[2022-02-07 08:28:59 +0000] [1] [INFO] Starting gunicorn 19.9.0\u001b[0m\n",
      "\u001b[34m[2022-02-07 08:28:59 +0000] [1] [INFO] Listening at: http://0.0.0.0:8080 (1)\u001b[0m\n",
      "\u001b[34m[2022-02-07 08:28:59 +0000] [1] [INFO] Using worker: gevent\u001b[0m\n",
      "\u001b[34m[2022-02-07 08:28:59 +0000] [22] [INFO] Booting worker with pid: 22\u001b[0m\n",
      "\u001b[34m[2022-02-07 08:28:59 +0000] [23] [INFO] Booting worker with pid: 23\u001b[0m\n",
      "\u001b[34m[2022-02-07 08:28:59 +0000] [24] [INFO] Booting worker with pid: 24\u001b[0m\n",
      "\u001b[34m[2022-02-07 08:28:59 +0000] [25] [INFO] Booting worker with pid: 25\u001b[0m\n",
      "\u001b[34m/opt/amazon/lib/python3.7/site-packages/gunicorn/workers/ggevent.py:65: MonkeyPatchWarning: Monkey-patching ssl after ssl has already been imported may lead to errors, including RecursionError on Python 3.6. It may also silently lead to incorrect behaviour on Python 3.7. Please monkey-patch earlier. See https://github.com/gevent/gevent/issues/1016. Modules that had direct imports (NOT patched): ['urllib3.util.ssl_ (/opt/amazon/lib/python3.7/site-packages/urllib3/util/ssl_.py)', 'urllib3.util (/opt/amazon/lib/python3.7/site-packages/urllib3/util/__init__.py)']. \n",
      "  monkey.patch_all(subprocess=True)\u001b[0m\n",
      "\u001b[34m/opt/amazon/lib/python3.7/site-packages/gunicorn/workers/ggevent.py:65: MonkeyPatchWarning: Monkey-patching ssl after ssl has already been imported may lead to errors, including RecursionError on Python 3.6. It may also silently lead to incorrect behaviour on Python 3.7. Please monkey-patch earlier. See https://github.com/gevent/gevent/issues/1016. Modules that had direct imports (NOT patched): ['urllib3.util.ssl_ (/opt/amazon/lib/python3.7/site-packages/urllib3/util/ssl_.py)', 'urllib3.util (/opt/amazon/lib/python3.7/site-packages/urllib3/util/__init__.py)']. \n",
      "  monkey.patch_all(subprocess=True)\u001b[0m\n",
      "\u001b[34m[2022-02-07:08:28:59:INFO] Model loaded successfully for worker : 22\u001b[0m\n",
      "\u001b[34m/opt/amazon/lib/python3.7/site-packages/gunicorn/workers/ggevent.py:65: MonkeyPatchWarning: Monkey-patching ssl after ssl has already been imported may lead to errors, including RecursionError on Python 3.6. It may also silently lead to incorrect behaviour on Python 3.7. Please monkey-patch earlier. See https://github.com/gevent/gevent/issues/1016. Modules that had direct imports (NOT patched): ['urllib3.util.ssl_ (/opt/amazon/lib/python3.7/site-packages/urllib3/util/ssl_.py)', 'urllib3.util (/opt/amazon/lib/python3.7/site-packages/urllib3/util/__init__.py)']. \n",
      "  monkey.patch_all(subprocess=True)\u001b[0m\n",
      "\u001b[34m[2022-02-07:08:28:59:INFO] Model loaded successfully for worker : 24\u001b[0m\n",
      "\u001b[34m[2022-02-07:08:28:59:INFO] Model loaded successfully for worker : 23\u001b[0m\n",
      "\u001b[34m/opt/amazon/lib/python3.7/site-packages/gunicorn/workers/ggevent.py:65: MonkeyPatchWarning: Monkey-patching ssl after ssl has already been imported may lead to errors, including RecursionError on Python 3.6. It may also silently lead to incorrect behaviour on Python 3.7. Please monkey-patch earlier. See https://github.com/gevent/gevent/issues/1016. Modules that had direct imports (NOT patched): ['urllib3.util.ssl_ (/opt/amazon/lib/python3.7/site-packages/urllib3/util/ssl_.py)', 'urllib3.util (/opt/amazon/lib/python3.7/site-packages/urllib3/util/__init__.py)']. \n",
      "  monkey.patch_all(subprocess=True)\u001b[0m\n",
      "\u001b[34m[2022-02-07:08:29:00:INFO] Model loaded successfully for worker : 25\u001b[0m\n",
      "\u001b[34m[2022-02-07:08:29:06:INFO] Sniff delimiter as ','\u001b[0m\n",
      "\u001b[34m[2022-02-07:08:29:06:INFO] Determined delimiter of CSV input is ','\u001b[0m\n",
      "\u001b[34m[2022-02-07:08:29:06:INFO] Sniff delimiter as ','\u001b[0m\n",
      "\u001b[34m[2022-02-07:08:29:06:INFO] Determined delimiter of CSV input is ','\u001b[0m\n",
      "\u001b[35m[2022-02-07:08:29:06:INFO] Sniff delimiter as ','\u001b[0m\n",
      "\u001b[35m[2022-02-07:08:29:06:INFO] Determined delimiter of CSV input is ','\u001b[0m\n",
      "\u001b[35m[2022-02-07:08:29:06:INFO] Sniff delimiter as ','\u001b[0m\n",
      "\u001b[35m[2022-02-07:08:29:06:INFO] Determined delimiter of CSV input is ','\u001b[0m\n",
      "\u001b[32m2022-02-07T08:29:03.884:[sagemaker logs]: MaxConcurrentTransforms=4, MaxPayloadInMB=6, BatchStrategy=MULTI_RECORD\u001b[0m\n",
      "\u001b[34m[2022-02-07:08:29:07:INFO] Sniff delimiter as ','\u001b[0m\n",
      "\u001b[34m[2022-02-07:08:29:07:INFO] Determined delimiter of CSV input is ','\u001b[0m\n",
      "\u001b[34m[2022-02-07:08:29:07:INFO] Sniff delimiter as ','\u001b[0m\n",
      "\u001b[34m[2022-02-07:08:29:07:INFO] Determined delimiter of CSV input is ','\u001b[0m\n",
      "\u001b[35m[2022-02-07:08:29:07:INFO] Sniff delimiter as ','\u001b[0m\n",
      "\u001b[35m[2022-02-07:08:29:07:INFO] Determined delimiter of CSV input is ','\u001b[0m\n",
      "\u001b[35m[2022-02-07:08:29:07:INFO] Sniff delimiter as ','\u001b[0m\n",
      "\u001b[35m[2022-02-07:08:29:07:INFO] Determined delimiter of CSV input is ','\u001b[0m\n",
      "\u001b[34m[2022-02-07:08:29:10:INFO] Sniff delimiter as ','\u001b[0m\n",
      "\u001b[34m[2022-02-07:08:29:10:INFO] Determined delimiter of CSV input is ','\u001b[0m\n",
      "\u001b[34m[2022-02-07:08:29:10:INFO] Sniff delimiter as ','\u001b[0m\n",
      "\u001b[34m[2022-02-07:08:29:10:INFO] Determined delimiter of CSV input is ','\u001b[0m\n",
      "\u001b[35m[2022-02-07:08:29:10:INFO] Sniff delimiter as ','\u001b[0m\n",
      "\u001b[35m[2022-02-07:08:29:10:INFO] Determined delimiter of CSV input is ','\u001b[0m\n",
      "\u001b[35m[2022-02-07:08:29:10:INFO] Sniff delimiter as ','\u001b[0m\n",
      "\u001b[35m[2022-02-07:08:29:10:INFO] Determined delimiter of CSV input is ','\u001b[0m\n",
      "\u001b[34m[2022-02-07:08:29:10:INFO] Sniff delimiter as ','\u001b[0m\n",
      "\u001b[34m[2022-02-07:08:29:10:INFO] Determined delimiter of CSV input is ','\u001b[0m\n",
      "\u001b[34m[2022-02-07:08:29:11:INFO] Sniff delimiter as ','\u001b[0m\n",
      "\u001b[35m[2022-02-07:08:29:10:INFO] Sniff delimiter as ','\u001b[0m\n",
      "\u001b[35m[2022-02-07:08:29:10:INFO] Determined delimiter of CSV input is ','\u001b[0m\n",
      "\u001b[35m[2022-02-07:08:29:11:INFO] Sniff delimiter as ','\u001b[0m\n",
      "\u001b[34m[2022-02-07:08:29:11:INFO] Determined delimiter of CSV input is ','\u001b[0m\n",
      "\u001b[35m[2022-02-07:08:29:11:INFO] Determined delimiter of CSV input is ','\u001b[0m\n",
      "\u001b[34m[2022-02-07:08:29:14:INFO] Sniff delimiter as ','\u001b[0m\n",
      "\u001b[35m[2022-02-07:08:29:14:INFO] Sniff delimiter as ','\u001b[0m\n",
      "\u001b[34m[2022-02-07:08:29:14:INFO] Determined delimiter of CSV input is ','\u001b[0m\n",
      "\u001b[34m[2022-02-07:08:29:14:INFO] Sniff delimiter as ','\u001b[0m\n",
      "\u001b[34m[2022-02-07:08:29:14:INFO] Determined delimiter of CSV input is ','\u001b[0m\n",
      "\u001b[34m[2022-02-07:08:29:14:INFO] Sniff delimiter as ','\u001b[0m\n",
      "\u001b[34m[2022-02-07:08:29:14:INFO] Determined delimiter of CSV input is ','\u001b[0m\n",
      "\u001b[35m[2022-02-07:08:29:14:INFO] Determined delimiter of CSV input is ','\u001b[0m\n",
      "\u001b[35m[2022-02-07:08:29:14:INFO] Sniff delimiter as ','\u001b[0m\n",
      "\u001b[35m[2022-02-07:08:29:14:INFO] Determined delimiter of CSV input is ','\u001b[0m\n",
      "\u001b[35m[2022-02-07:08:29:14:INFO] Sniff delimiter as ','\u001b[0m\n",
      "\u001b[35m[2022-02-07:08:29:14:INFO] Determined delimiter of CSV input is ','\u001b[0m\n",
      "\u001b[34m[2022-02-07:08:29:15:INFO] Sniff delimiter as ','\u001b[0m\n",
      "\u001b[34m[2022-02-07:08:29:15:INFO] Determined delimiter of CSV input is ','\u001b[0m\n",
      "\u001b[35m[2022-02-07:08:29:15:INFO] Sniff delimiter as ','\u001b[0m\n",
      "\u001b[35m[2022-02-07:08:29:15:INFO] Determined delimiter of CSV input is ','\u001b[0m\n",
      "\u001b[34m[2022-02-07:08:29:18:INFO] Sniff delimiter as ','\u001b[0m\n",
      "\u001b[34m[2022-02-07:08:29:18:INFO] Determined delimiter of CSV input is ','\u001b[0m\n",
      "\u001b[34m[2022-02-07:08:29:18:INFO] Sniff delimiter as ','\u001b[0m\n",
      "\u001b[34m[2022-02-07:08:29:18:INFO] Determined delimiter of CSV input is ','\u001b[0m\n",
      "\u001b[35m[2022-02-07:08:29:18:INFO] Sniff delimiter as ','\u001b[0m\n",
      "\u001b[35m[2022-02-07:08:29:18:INFO] Determined delimiter of CSV input is ','\u001b[0m\n",
      "\u001b[35m[2022-02-07:08:29:18:INFO] Sniff delimiter as ','\u001b[0m\n",
      "\u001b[35m[2022-02-07:08:29:18:INFO] Determined delimiter of CSV input is ','\u001b[0m\n",
      "\u001b[34m[2022-02-07:08:29:18:INFO] Sniff delimiter as ','\u001b[0m\n",
      "\u001b[34m[2022-02-07:08:29:18:INFO] Determined delimiter of CSV input is ','\u001b[0m\n",
      "\u001b[35m[2022-02-07:08:29:18:INFO] Sniff delimiter as ','\u001b[0m\n",
      "\u001b[35m[2022-02-07:08:29:18:INFO] Determined delimiter of CSV input is ','\u001b[0m\n",
      "\u001b[34m[2022-02-07:08:29:22:INFO] Sniff delimiter as ','\u001b[0m\n",
      "\u001b[34m[2022-02-07:08:29:22:INFO] Determined delimiter of CSV input is ','\u001b[0m\n",
      "\u001b[34m[2022-02-07:08:29:22:INFO] Sniff delimiter as ','\u001b[0m\n",
      "\u001b[34m[2022-02-07:08:29:22:INFO] Determined delimiter of CSV input is ','\u001b[0m\n",
      "\u001b[34m[2022-02-07:08:29:22:INFO] Sniff delimiter as ','\u001b[0m\n",
      "\u001b[34m[2022-02-07:08:29:22:INFO] Determined delimiter of CSV input is ','\u001b[0m\n",
      "\u001b[34m[2022-02-07:08:29:22:INFO] Sniff delimiter as ','\u001b[0m\n",
      "\u001b[34m[2022-02-07:08:29:22:INFO] Determined delimiter of CSV input is ','\u001b[0m\n",
      "\u001b[35m[2022-02-07:08:29:22:INFO] Sniff delimiter as ','\u001b[0m\n",
      "\u001b[35m[2022-02-07:08:29:22:INFO] Determined delimiter of CSV input is ','\u001b[0m\n",
      "\u001b[35m[2022-02-07:08:29:22:INFO] Sniff delimiter as ','\u001b[0m\n",
      "\u001b[35m[2022-02-07:08:29:22:INFO] Determined delimiter of CSV input is ','\u001b[0m\n",
      "\u001b[35m[2022-02-07:08:29:22:INFO] Sniff delimiter as ','\u001b[0m\n",
      "\u001b[35m[2022-02-07:08:29:22:INFO] Determined delimiter of CSV input is ','\u001b[0m\n",
      "\u001b[35m[2022-02-07:08:29:22:INFO] Sniff delimiter as ','\u001b[0m\n",
      "\u001b[35m[2022-02-07:08:29:22:INFO] Determined delimiter of CSV input is ','\u001b[0m\n"
     ]
    },
    {
     "name": "stdout",
     "output_type": "stream",
     "text": [
      "\u001b[34m[2022-02-07:08:29:29:INFO] Sniff delimiter as ','\u001b[0m\n",
      "\u001b[34m[2022-02-07:08:29:29:INFO] Determined delimiter of CSV input is ','\u001b[0m\n",
      "\u001b[35m[2022-02-07:08:29:29:INFO] Sniff delimiter as ','\u001b[0m\n",
      "\u001b[35m[2022-02-07:08:29:29:INFO] Determined delimiter of CSV input is ','\u001b[0m\n",
      "\u001b[34m[2022-02-07:08:29:30:INFO] Sniff delimiter as ','\u001b[0m\n",
      "\u001b[34m[2022-02-07:08:29:30:INFO] Determined delimiter of CSV input is ','\u001b[0m\n",
      "\u001b[35m[2022-02-07:08:29:30:INFO] Sniff delimiter as ','\u001b[0m\n",
      "\u001b[35m[2022-02-07:08:29:30:INFO] Determined delimiter of CSV input is ','\u001b[0m\n",
      "\u001b[34m[2022-02-07:08:29:30:INFO] Sniff delimiter as ','\u001b[0m\n",
      "\u001b[34m[2022-02-07:08:29:30:INFO] Determined delimiter of CSV input is ','\u001b[0m\n",
      "\u001b[34m[2022-02-07:08:29:30:INFO] Sniff delimiter as ','\u001b[0m\n",
      "\u001b[34m[2022-02-07:08:29:30:INFO] Determined delimiter of CSV input is ','\u001b[0m\n",
      "\u001b[35m[2022-02-07:08:29:30:INFO] Sniff delimiter as ','\u001b[0m\n",
      "\u001b[35m[2022-02-07:08:29:30:INFO] Determined delimiter of CSV input is ','\u001b[0m\n",
      "\u001b[35m[2022-02-07:08:29:30:INFO] Sniff delimiter as ','\u001b[0m\n",
      "\u001b[35m[2022-02-07:08:29:30:INFO] Determined delimiter of CSV input is ','\u001b[0m\n",
      "\u001b[34m[2022-02-07:08:29:33:INFO] Sniff delimiter as ','\u001b[0m\n",
      "\u001b[34m[2022-02-07:08:29:33:INFO] Determined delimiter of CSV input is ','\u001b[0m\n",
      "\u001b[34m[2022-02-07:08:29:33:INFO] Sniff delimiter as ','\u001b[0m\n",
      "\u001b[34m[2022-02-07:08:29:33:INFO] Determined delimiter of CSV input is ','\u001b[0m\n",
      "\u001b[35m[2022-02-07:08:29:33:INFO] Sniff delimiter as ','\u001b[0m\n",
      "\u001b[35m[2022-02-07:08:29:33:INFO] Determined delimiter of CSV input is ','\u001b[0m\n",
      "\u001b[35m[2022-02-07:08:29:33:INFO] Sniff delimiter as ','\u001b[0m\n",
      "\u001b[35m[2022-02-07:08:29:33:INFO] Determined delimiter of CSV input is ','\u001b[0m\n",
      "\u001b[34m[2022-02-07:08:29:34:INFO] Sniff delimiter as ','\u001b[0m\n",
      "\u001b[34m[2022-02-07:08:29:34:INFO] Determined delimiter of CSV input is ','\u001b[0m\n",
      "\u001b[34m[2022-02-07:08:29:34:INFO] Sniff delimiter as ','\u001b[0m\n",
      "\u001b[35m[2022-02-07:08:29:34:INFO] Sniff delimiter as ','\u001b[0m\n",
      "\u001b[35m[2022-02-07:08:29:34:INFO] Determined delimiter of CSV input is ','\u001b[0m\n",
      "\u001b[35m[2022-02-07:08:29:34:INFO] Sniff delimiter as ','\u001b[0m\n",
      "\u001b[34m[2022-02-07:08:29:34:INFO] Determined delimiter of CSV input is ','\u001b[0m\n",
      "\u001b[35m[2022-02-07:08:29:34:INFO] Determined delimiter of CSV input is ','\u001b[0m\n",
      "\u001b[34m[2022-02-07:08:29:37:INFO] Sniff delimiter as ','\u001b[0m\n",
      "\u001b[34m[2022-02-07:08:29:37:INFO] Determined delimiter of CSV input is ','\u001b[0m\n",
      "\u001b[34m[2022-02-07:08:29:37:INFO] Sniff delimiter as ','\u001b[0m\n",
      "\u001b[34m[2022-02-07:08:29:37:INFO] Determined delimiter of CSV input is ','\u001b[0m\n",
      "\u001b[34m[2022-02-07:08:29:37:INFO] Sniff delimiter as ','\u001b[0m\n",
      "\u001b[34m[2022-02-07:08:29:37:INFO] Determined delimiter of CSV input is ','\u001b[0m\n",
      "\u001b[35m[2022-02-07:08:29:37:INFO] Sniff delimiter as ','\u001b[0m\n",
      "\u001b[35m[2022-02-07:08:29:37:INFO] Determined delimiter of CSV input is ','\u001b[0m\n",
      "\u001b[35m[2022-02-07:08:29:37:INFO] Sniff delimiter as ','\u001b[0m\n",
      "\u001b[35m[2022-02-07:08:29:37:INFO] Determined delimiter of CSV input is ','\u001b[0m\n",
      "\u001b[35m[2022-02-07:08:29:37:INFO] Sniff delimiter as ','\u001b[0m\n",
      "\u001b[35m[2022-02-07:08:29:37:INFO] Determined delimiter of CSV input is ','\u001b[0m\n",
      "\u001b[34m[2022-02-07:08:29:41:INFO] Sniff delimiter as ','\u001b[0m\n",
      "\u001b[34m[2022-02-07:08:29:41:INFO] Determined delimiter of CSV input is ','\u001b[0m\n",
      "\u001b[35m[2022-02-07:08:29:41:INFO] Sniff delimiter as ','\u001b[0m\n",
      "\u001b[35m[2022-02-07:08:29:41:INFO] Determined delimiter of CSV input is ','\u001b[0m\n",
      "\u001b[34m[2022-02-07:08:29:41:INFO] Sniff delimiter as ','\u001b[0m\n",
      "\u001b[34m[2022-02-07:08:29:41:INFO] Determined delimiter of CSV input is ','\u001b[0m\n",
      "\u001b[35m[2022-02-07:08:29:41:INFO] Sniff delimiter as ','\u001b[0m\n",
      "\u001b[35m[2022-02-07:08:29:41:INFO] Determined delimiter of CSV input is ','\u001b[0m\n",
      "\n"
     ]
    }
   ],
   "source": [
    "xgb_transformer.wait()"
   ]
  },
  {
   "cell_type": "markdown",
   "metadata": {},
   "source": [
    "Now the transform job has executed and the result, the estimated sentiment of each review, has been saved on S3. Since we would rather work on this file locally we can perform a bit of notebook magic to copy the file to the `data_dir`."
   ]
  },
  {
   "cell_type": "code",
   "execution_count": 29,
   "metadata": {},
   "outputs": [
    {
     "name": "stdout",
     "output_type": "stream",
     "text": [
      "Completed 256.0 KiB/473.3 KiB (2.3 MiB/s) with 1 file(s) remaining\r",
      "Completed 473.3 KiB/473.3 KiB (4.1 MiB/s) with 1 file(s) remaining\r",
      "download: s3://sagemaker-us-east-1-801008216402/xgboost-2022-02-07-08-22-55-311/test.csv.out to ../data/sentiment_update/test.csv.out\r\n"
     ]
    }
   ],
   "source": [
    "!aws s3 cp --recursive $xgb_transformer.output_path $data_dir"
   ]
  },
  {
   "cell_type": "markdown",
   "metadata": {},
   "source": [
    "The last step is now to read in the output from our model, convert the output to something a little more usable, in this case we want the sentiment to be either `1` (positive) or `0` (negative), and then compare to the ground truth labels."
   ]
  },
  {
   "cell_type": "code",
   "execution_count": 30,
   "metadata": {},
   "outputs": [],
   "source": [
    "predictions = pd.read_csv(os.path.join(data_dir, 'test.csv.out'), header=None)\n",
    "predictions = [round(num) for num in predictions.squeeze().values]"
   ]
  },
  {
   "cell_type": "code",
   "execution_count": 31,
   "metadata": {},
   "outputs": [
    {
     "data": {
      "text/plain": [
       "0.8578"
      ]
     },
     "execution_count": 31,
     "metadata": {},
     "output_type": "execute_result"
    }
   ],
   "source": [
    "from sklearn.metrics import accuracy_score\n",
    "accuracy_score(test_y, predictions)"
   ]
  },
  {
   "cell_type": "markdown",
   "metadata": {},
   "source": [
    "## Step 5: Looking at New Data\n",
    "\n",
    "So now we have an XGBoost sentiment analysis model that we believe is working pretty well. As a result, we deployed it and we are using it in some sort of app.\n",
    "\n",
    "However, as we allow users to use our app we periodically record submitted movie reviews so that we can perform some quality control on our deployed model. Once we've accumulated enough reviews we go through them by hand and evaluate whether they are positive or negative (there are many ways you might do this in practice aside from by hand). The reason for doing this is so that we can check to see how well our model is doing."
   ]
  },
  {
   "cell_type": "code",
   "execution_count": 32,
   "metadata": {},
   "outputs": [],
   "source": [
    "import new_data\n",
    "\n",
    "new_X, new_Y = new_data.get_new_data()"
   ]
  },
  {
   "cell_type": "code",
   "execution_count": null,
   "metadata": {},
   "outputs": [],
   "source": [
    "len(new_X)"
   ]
  },
  {
   "cell_type": "code",
   "execution_count": null,
   "metadata": {
    "scrolled": true
   },
   "outputs": [],
   "source": [
    "new_X[4]"
   ]
  },
  {
   "cell_type": "code",
   "execution_count": null,
   "metadata": {},
   "outputs": [],
   "source": [
    "len(new_Y)"
   ]
  },
  {
   "cell_type": "markdown",
   "metadata": {},
   "source": [
    "**NOTE:** Part of the fun in this notebook is trying to figure out what exactly is happening with the new data, so try not to cheat by looking in the `new_data` module. Also, the `new_data` module assumes that the cache created earlier in Step 3 is still stored in `../cache/sentiment_analysis`."
   ]
  },
  {
   "cell_type": "markdown",
   "metadata": {},
   "source": [
    "### (TODO) Testing the current model\n",
    "\n",
    "Now that we've loaded the new data, let's check to see how our current XGBoost model performs on it.\n",
    "\n",
    "First, note that the data that has been loaded has already been pre-processed so that each entry in `new_X` is a list of words that have been processed using `nltk`. However, we have not yet constructed the bag of words encoding, which we will do now.\n",
    "\n",
    "First, we use the vocabulary that we constructed earlier using the original training data to construct a `CountVectorizer` which we will use to transform our new data into its bag of words encoding.\n",
    "\n",
    "**TODO:** Create the CountVectorizer object using the vocabulary created earlier and use it to transform the new data."
   ]
  },
  {
   "cell_type": "code",
   "execution_count": 38,
   "metadata": {},
   "outputs": [
    {
     "data": {
      "text/plain": [
       "{'movi': 2972,\n",
       " 'still': 4255,\n",
       " 'chill': 843,\n",
       " 'bone': 575,\n",
       " 'think': 4485,\n",
       " 'bad': 410,\n",
       " 'low': 2711,\n",
       " 'budget': 663,\n",
       " 'badli': 412,\n",
       " 'act': 136,\n",
       " 'etc': 1585,\n",
       " 'although': 225,\n",
       " 'certainli': 791,\n",
       " 'thing': 4484,\n",
       " 'problem': 3471,\n",
       " 'seem': 3924,\n",
       " 'intent': 2375,\n",
       " 'tri': 4601,\n",
       " 'annoy': 267,\n",
       " 'viewer': 4780,\n",
       " 'great': 2019,\n",
       " 'success': 4328,\n",
       " 'want': 4830,\n",
       " 'know': 2545,\n",
       " 'suppos': 4362,\n",
       " 'horror': 2213,\n",
       " 'mean': 2822,\n",
       " 'defin': 1232,\n",
       " 'horrifi': 2212,\n",
       " 'way': 4851,\n",
       " 'could': 1075,\n",
       " 'see': 3920,\n",
       " 'first': 1764,\n",
       " 'segment': 3927,\n",
       " 'fail': 1671,\n",
       " 'hell': 2138,\n",
       " 'second': 3910,\n",
       " 'third': 4486,\n",
       " 'like': 2654,\n",
       " 'watch': 4844,\n",
       " 'artsi': 327,\n",
       " 'student': 4303,\n",
       " 'film': 1750,\n",
       " 'amazingli': 234,\n",
       " 'enough': 1549,\n",
       " 'make': 2757,\n",
       " 'least': 2608,\n",
       " 'pain': 3217,\n",
       " 'atroc': 358,\n",
       " 'bottom': 592,\n",
       " '100': 5,\n",
       " 'get': 1944,\n",
       " 'vote': 4807,\n",
       " '1': 3,\n",
       " '10': 4,\n",
       " 'peopl': 3283,\n",
       " 'gave': 1923,\n",
       " 'good': 1989,\n",
       " 'review': 3730,\n",
       " 'well': 4872,\n",
       " 'lie': 2645,\n",
       " 'sadist': 3834,\n",
       " 'attempt': 362,\n",
       " 'trick': 4606,\n",
       " 'trust': 4623,\n",
       " 'imposs': 2293,\n",
       " 'benefit': 492,\n",
       " 'amaz': 233,\n",
       " 'life': 2646,\n",
       " 'extend': 1652,\n",
       " 'effect': 1480,\n",
       " 'feel': 1721,\n",
       " 'year': 4981,\n",
       " 'half': 2072,\n",
       " 'hour': 2221,\n",
       " 'pass': 3253,\n",
       " 'prepar': 3432,\n",
       " 'laugh': 2586,\n",
       " 'throughout': 4502,\n",
       " 'mysteri': 2998,\n",
       " 'scienc': 3883,\n",
       " 'theater': 4475,\n",
       " 'experi': 1636,\n",
       " 'bore': 583,\n",
       " 'appear': 293,\n",
       " 'produc': 3476,\n",
       " 'mani': 2766,\n",
       " 'biker': 514,\n",
       " 'enthusiast': 1558,\n",
       " 'friend': 1868,\n",
       " 'casual': 764,\n",
       " 'decid': 1215,\n",
       " 'frequent': 1864,\n",
       " 'unwatch': 4712,\n",
       " 'lot': 2702,\n",
       " 'footag': 1814,\n",
       " 'ride': 3747,\n",
       " 'dirt': 1322,\n",
       " 'road': 3764,\n",
       " 'music': 2990,\n",
       " 'play': 3352,\n",
       " 'repeatedli': 3684,\n",
       " 'unfortun': 4682,\n",
       " 'bare': 431,\n",
       " 'probabl': 3470,\n",
       " 'would': 4957,\n",
       " 'perhap': 3291,\n",
       " 'commit': 963,\n",
       " 'day': 1195,\n",
       " 'cours': 1085,\n",
       " 'terror': 4467,\n",
       " 'small': 4101,\n",
       " 'town': 4565,\n",
       " 'fight': 1744,\n",
       " 'murder': 2985,\n",
       " 'cop': 1058,\n",
       " 'goofi': 1991,\n",
       " 'mechan': 2830,\n",
       " 'one': 3155,\n",
       " 'alway': 229,\n",
       " 'wear': 4860,\n",
       " 'footbal': 1815,\n",
       " 'weak': 4854,\n",
       " 'distinguish': 1353,\n",
       " 'outlaw': 3188,\n",
       " 'script': 3900,\n",
       " 'noth': 3098,\n",
       " 'offer': 3139,\n",
       " 'scene': 3876,\n",
       " 'featur': 1718,\n",
       " 'assault': 340,\n",
       " 'woman': 4934,\n",
       " 'yell': 4983,\n",
       " 'ladi': 2566,\n",
       " 'face': 1664,\n",
       " 'come': 952,\n",
       " 'back': 405,\n",
       " 'minut': 2900,\n",
       " 'later': 2582,\n",
       " 'declar': 1217,\n",
       " 'writer': 4967,\n",
       " 'someth': 4134,\n",
       " 'creativ': 1106,\n",
       " 'say': 3866,\n",
       " 'end': 1531,\n",
       " 'guy': 2062,\n",
       " 'kill': 2527,\n",
       " 'also': 222,\n",
       " 'learn': 2607,\n",
       " 'wed': 4866,\n",
       " 'middl': 2872,\n",
       " 'age': 174,\n",
       " 'joe': 2462,\n",
       " 'young': 4989,\n",
       " 'cancel': 716,\n",
       " 'go': 1975,\n",
       " 'away': 393,\n",
       " 'colleg': 942,\n",
       " 'differ': 1304,\n",
       " 'bride': 626,\n",
       " 'base': 437,\n",
       " 'book': 579,\n",
       " 'gabriel': 1903,\n",
       " 'might': 2874,\n",
       " 'brilliant': 633,\n",
       " 'literatur': 2674,\n",
       " 'cinema': 871,\n",
       " 'adapt': 144,\n",
       " 'realli': 3612,\n",
       " 'suck': 4329,\n",
       " 'sleep': 4086,\n",
       " 'rather': 3592,\n",
       " 'enjoy': 1545,\n",
       " 'cinematograph': 873,\n",
       " 'delic': 1239,\n",
       " 'stori': 4271,\n",
       " 'old': 3148,\n",
       " 'coupl': 1083,\n",
       " 'whose': 4898,\n",
       " 'son': 4138,\n",
       " 'die': 1303,\n",
       " 'live': 2677,\n",
       " 'heavili': 2130,\n",
       " 'domin': 1374,\n",
       " 'poverti': 3410,\n",
       " 'main': 2752,\n",
       " 'charact': 808,\n",
       " 'hope': 2202,\n",
       " 'bring': 635,\n",
       " 'money': 2937,\n",
       " 'mood': 2948,\n",
       " 'spill': 4183,\n",
       " 'word': 4942,\n",
       " 'useless': 4724,\n",
       " 'pretenti': 3445,\n",
       " 'piec': 3328,\n",
       " 'sit': 4062,\n",
       " '90': 94,\n",
       " 'front': 1874,\n",
       " 'screen': 3896,\n",
       " 'spoiler': 4197,\n",
       " 'bound': 595,\n",
       " 'incred': 2315,\n",
       " 'journey': 2478,\n",
       " 'import': 2290,\n",
       " 'rememb': 3673,\n",
       " 'home': 2188,\n",
       " '4': 79,\n",
       " 'novel': 3103,\n",
       " 'reason': 3615,\n",
       " 'possibl': 3402,\n",
       " 'write': 4966,\n",
       " 'clone': 912,\n",
       " 'basic': 442,\n",
       " 'two': 4640,\n",
       " 'dog': 1369,\n",
       " 'cat': 765,\n",
       " 'happili': 2092,\n",
       " 'famili': 1684,\n",
       " 'new': 3051,\n",
       " 'husband': 2247,\n",
       " 'mother': 2962,\n",
       " 'three': 4497,\n",
       " 'children': 842,\n",
       " 'job': 2460,\n",
       " 'citi': 878,\n",
       " 'move': 2970,\n",
       " 'inner': 2348,\n",
       " 'san': 3850,\n",
       " 'francisco': 1849,\n",
       " 'anim': 262,\n",
       " 'sent': 3944,\n",
       " 'month': 2945,\n",
       " 'bond': 573,\n",
       " 'especi': 1577,\n",
       " 'strong': 4294,\n",
       " 'shadow': 3972,\n",
       " 'golden': 1985,\n",
       " 'retriev': 3722,\n",
       " 'sassi': 3857,\n",
       " 'though': 4491,\n",
       " 'happi': 2091,\n",
       " 'lucki': 2720,\n",
       " 'american': 240,\n",
       " 'known': 2547,\n",
       " 'chanc': 802,\n",
       " 'littl': 2675,\n",
       " 'less': 2632,\n",
       " 'concern': 994,\n",
       " 'somewhat': 4136,\n",
       " 'cynic': 1159,\n",
       " 'due': 1430,\n",
       " 'part': 3245,\n",
       " 'voic': 4802,\n",
       " 'explain': 1640,\n",
       " 'abandon': 97,\n",
       " 'pick': 3324,\n",
       " 'bought': 593,\n",
       " 'growth': 2046,\n",
       " 'provid': 3510,\n",
       " 'much': 2977,\n",
       " 'storytel': 4274,\n",
       " 'pet': 3303,\n",
       " 'escap': 1576,\n",
       " 'head': 2115,\n",
       " 'wide': 4900,\n",
       " 'danger': 1178,\n",
       " 'wilder': 4908,\n",
       " 'fantast': 1691,\n",
       " 'set': 3961,\n",
       " 'driven': 1415,\n",
       " 'instinct': 2364,\n",
       " 'direct': 1318,\n",
       " 'meet': 2835,\n",
       " 'sever': 3966,\n",
       " 'peril': 3292,\n",
       " 'along': 218,\n",
       " 'host': 2216,\n",
       " 'suddenli': 4332,\n",
       " 'disappear': 1326,\n",
       " 'funni': 1891,\n",
       " 'moment': 2935,\n",
       " 'dialogu': 1295,\n",
       " 'hilari': 2162,\n",
       " 'line': 2661,\n",
       " 'memor': 2844,\n",
       " 'quot': 3555,\n",
       " 'touch': 4559,\n",
       " 'grow': 2044,\n",
       " 'sad': 3833,\n",
       " 'arrog': 320,\n",
       " 'cross': 1125,\n",
       " 'river': 3762,\n",
       " 'without': 4929,\n",
       " 'wet': 4879,\n",
       " 'caus': 773,\n",
       " 'fall': 1680,\n",
       " 'wash': 4841,\n",
       " 'leav': 2610,\n",
       " 'loss': 2700,\n",
       " 'felt': 1726,\n",
       " 'deepli': 1226,\n",
       " 'somehow': 4132,\n",
       " 'inclus': 2306,\n",
       " 'save': 3864,\n",
       " 'girl': 1957,\n",
       " 'lost': 2701,\n",
       " 'add': 145,\n",
       " 'take': 4410,\n",
       " 'unnecessari': 4699,\n",
       " 'stake': 4218,\n",
       " 'higher': 2156,\n",
       " 'pit': 3337,\n",
       " 'hurt': 2246,\n",
       " 'leg': 2615,\n",
       " 'find': 1756,\n",
       " 'hard': 2094,\n",
       " 'give': 1959,\n",
       " 'exhaust': 1627,\n",
       " 'follow': 1806,\n",
       " 'climb': 907,\n",
       " 'persuad': 3300,\n",
       " 'tell': 4449,\n",
       " 'push': 3537,\n",
       " 'far': 1692,\n",
       " 'throw': 4503,\n",
       " 'easili': 1459,\n",
       " 'brilliantli': 634,\n",
       " 'done': 1377,\n",
       " 'conclud': 996,\n",
       " 'ambigu': 236,\n",
       " 'carri': 752,\n",
       " 'final': 1753,\n",
       " 'return': 3723,\n",
       " 'nowher': 3105,\n",
       " 'seen': 3926,\n",
       " 'slowli': 4098,\n",
       " 'reunit': 3725,\n",
       " 'conclus': 997,\n",
       " 'speak': 4167,\n",
       " 'develop': 1289,\n",
       " 'fellow': 1725,\n",
       " 'realis': 3607,\n",
       " 'long': 2692,\n",
       " 'fine': 1757,\n",
       " 'demonstr': 1250,\n",
       " 'grown': 2045,\n",
       " 'hang': 2087,\n",
       " 'cri': 1115,\n",
       " 'anyway': 285,\n",
       " 'read': 3603,\n",
       " 'pretend': 3443,\n",
       " 'love': 2709,\n",
       " 'talk': 4414,\n",
       " 'older': 3149,\n",
       " 'understand': 4670,\n",
       " 'plot': 3362,\n",
       " 'better': 502,\n",
       " 'found': 1839,\n",
       " 'masterpiec': 2802,\n",
       " 'suggest': 4338,\n",
       " 'pleas': 3355,\n",
       " 'avoid': 386,\n",
       " 'sequel': 3950,\n",
       " 'ii': 2266,\n",
       " 'franci': 1848,\n",
       " 'ford': 1818,\n",
       " 'brain': 607,\n",
       " 'time': 4519,\n",
       " 'made': 2742,\n",
       " 'absolut': 109,\n",
       " 'wonder': 4936,\n",
       " 'director': 1320,\n",
       " 'godfath': 1978,\n",
       " 'convers': 1047,\n",
       " 'turner': 4631,\n",
       " 'star': 4229,\n",
       " 'vehicl': 4755,\n",
       " 'travel': 4592,\n",
       " 'adolesc': 153,\n",
       " 'adult': 156,\n",
       " 'taught': 4428,\n",
       " 'anyon': 283,\n",
       " 'even': 1597,\n",
       " 'style': 4311,\n",
       " 'given': 1960,\n",
       " 'expect': 1633,\n",
       " 'els': 1506,\n",
       " 'grade': 2003,\n",
       " 'c': 694,\n",
       " 'look': 2694,\n",
       " 'wise': 4924,\n",
       " 'flee': 1783,\n",
       " '1993': 47,\n",
       " 'adventur': 159,\n",
       " 'remak': 3671,\n",
       " 'got': 1996,\n",
       " 'michael': 2868,\n",
       " 'j': 2417,\n",
       " 'fox': 1842,\n",
       " 'perfect': 3288,\n",
       " 'man': 2763,\n",
       " 'youth': 4992,\n",
       " 'energi': 1537,\n",
       " 'role': 3780,\n",
       " 'salli': 3844,\n",
       " 'field': 1740,\n",
       " 'work': 4944,\n",
       " 'veteran': 4766,\n",
       " 'actor': 139,\n",
       " 'last': 2580,\n",
       " 'visibl': 4794,\n",
       " 'kim': 2529,\n",
       " 'laura': 2590,\n",
       " 'robert': 3770,\n",
       " 'hay': 2113,\n",
       " 'bob': 564,\n",
       " 'peter': 3305,\n",
       " 'lauren': 2592,\n",
       " 'kevin': 2519,\n",
       " 'jami': 2427,\n",
       " 'jean': 2439,\n",
       " 'smart': 4103,\n",
       " 'portray': 3397,\n",
       " 'kate': 2505,\n",
       " 'quit': 3554,\n",
       " 'surviv': 4374,\n",
       " 'taken': 4411,\n",
       " 'bear': 458,\n",
       " 'exit': 1630,\n",
       " 'big': 510,\n",
       " 'hungri': 2243,\n",
       " 'fun': 1886,\n",
       " 'whole': 4894,\n",
       " 'critic': 1121,\n",
       " 'idea': 2257,\n",
       " 'drama': 1399,\n",
       " 'bit': 524,\n",
       " 'rest': 3711,\n",
       " 'clean': 893,\n",
       " 'entertain': 1555,\n",
       " 'forget': 1822,\n",
       " 'julia': 2487,\n",
       " 'pretti': 3446,\n",
       " 'emma': 1516,\n",
       " 'beauti': 465,\n",
       " 'nanci': 3007,\n",
       " 'drew': 1408,\n",
       " 'believ': 482,\n",
       " 'may': 2814,\n",
       " 'upon': 4716,\n",
       " 'blend': 544,\n",
       " 'support': 4361,\n",
       " 'pat': 3259,\n",
       " 'barri': 435,\n",
       " 'rachel': 3559,\n",
       " 'leigh': 2621,\n",
       " 'cook': 1054,\n",
       " 'chri': 857,\n",
       " 'credit': 1110,\n",
       " 'surpris': 4370,\n",
       " 'disney': 1345,\n",
       " 'releas': 3660,\n",
       " 'contain': 1029,\n",
       " 'sex': 3967,\n",
       " 'violenc': 4787,\n",
       " 'curs': 1149,\n",
       " 'rare': 3589,\n",
       " 'judg': 2482,\n",
       " 'self': 3930,\n",
       " 'wait': 4815,\n",
       " 'mari': 2779,\n",
       " 'smooth': 4109,\n",
       " 'dan': 1172,\n",
       " 'anyth': 284,\n",
       " 'singl': 4055,\n",
       " 'togeth': 4532,\n",
       " 'someon': 4133,\n",
       " 'mayb': 2815,\n",
       " 'intellig': 2372,\n",
       " 'ever': 1600,\n",
       " 'said': 3839,\n",
       " 'often': 3142,\n",
       " 'stare': 4230,\n",
       " 'admir': 150,\n",
       " 'deal': 1201,\n",
       " 'agre': 180,\n",
       " 'anywher': 286,\n",
       " 'risk': 3756,\n",
       " 'blame': 536,\n",
       " 'frighten': 1872,\n",
       " 'burn': 678,\n",
       " 'focu': 1801,\n",
       " 'career': 738,\n",
       " 'valid': 4738,\n",
       " 'interpret': 2382,\n",
       " 'excus': 1624,\n",
       " 'need': 3030,\n",
       " 'right': 3751,\n",
       " 'wish': 4925,\n",
       " 'happen': 2090,\n",
       " 'break': 616,\n",
       " 'easi': 1457,\n",
       " 'sound': 4149,\n",
       " 'familiar': 1685,\n",
       " 'thought': 4492,\n",
       " 'ye': 4979,\n",
       " 'real': 3606,\n",
       " 'comedi': 954,\n",
       " 'must': 2993,\n",
       " 'reach': 3600,\n",
       " 'insid': 2353,\n",
       " 'manag': 2764,\n",
       " 'warm': 4834,\n",
       " 'heart': 2123,\n",
       " 'titl': 4528,\n",
       " 'steve': 4250,\n",
       " 'carel': 739,\n",
       " 'advic': 161,\n",
       " 'insight': 2354,\n",
       " 'balanc': 419,\n",
       " 'fulfil': 1882,\n",
       " 'moral': 2952,\n",
       " 'uplift': 4715,\n",
       " 'four': 1840,\n",
       " 'open': 3158,\n",
       " 'wake': 4817,\n",
       " 'wife': 4905,\n",
       " 'tragedi': 4574,\n",
       " 'left': 2614,\n",
       " 'rais': 3568,\n",
       " 'daughter': 1189,\n",
       " 'alon': 217,\n",
       " 'focus': 1802,\n",
       " 'becam': 466,\n",
       " 'function': 1887,\n",
       " 'remov': 3677,\n",
       " 'power': 3412,\n",
       " 'longer': 2693,\n",
       " 'close': 913,\n",
       " 'never': 3049,\n",
       " 'tackl': 4405,\n",
       " 'shop': 4007,\n",
       " 'quiet': 3550,\n",
       " 'morn': 2957,\n",
       " 'interact': 2376,\n",
       " 'comfort': 956,\n",
       " 'catch': 766,\n",
       " 'guard': 2050,\n",
       " 'alreadi': 220,\n",
       " 'involv': 2397,\n",
       " 'brother': 650,\n",
       " 'mitch': 2916,\n",
       " 'dane': 1177,\n",
       " 'entir': 1559,\n",
       " 'parent': 3239,\n",
       " 'countri': 1080,\n",
       " 'visit': 4796,\n",
       " 'spend': 4176,\n",
       " 'weekend': 4868,\n",
       " 'yearn': 4982,\n",
       " 'fleet': 1784,\n",
       " 'took': 4547,\n",
       " 'awaken': 390,\n",
       " 'member': 2843,\n",
       " 'jack': 2418,\n",
       " 'helm': 2140,\n",
       " 'drift': 1410,\n",
       " 'purpos': 3534,\n",
       " 'kid': 2523,\n",
       " 'aunt': 374,\n",
       " 'uncl': 4657,\n",
       " 'use': 4723,\n",
       " 'distract': 1355,\n",
       " 'ultim': 4648,\n",
       " 'complet': 978,\n",
       " 'luckili': 2721,\n",
       " 'heavi': 2129,\n",
       " 'pleasur': 3358,\n",
       " 'everi': 1601,\n",
       " 'pictur': 3326,\n",
       " 'despit': 1278,\n",
       " 'occasion': 3129,\n",
       " 'evan': 1594,\n",
       " 'size': 4068,\n",
       " 'charismat': 814,\n",
       " 'charm': 819,\n",
       " 'obvious': 3127,\n",
       " 'sharp': 3984,\n",
       " 'awkward': 397,\n",
       " 'scare': 3870,\n",
       " 'comedian': 955,\n",
       " 'reli': 3663,\n",
       " 'sole': 4125,\n",
       " 'comed': 953,\n",
       " 'establish': 1580,\n",
       " 'persona': 3298,\n",
       " 'importantli': 2291,\n",
       " 'relat': 3657,\n",
       " 'whether': 4888,\n",
       " 'flop': 1794,\n",
       " 'room': 3792,\n",
       " 'subject': 4315,\n",
       " 'reunion': 3724,\n",
       " 'around': 316,\n",
       " 'kitchen': 2536,\n",
       " 'unabl': 4652,\n",
       " 'stan': 4223,\n",
       " 'crowd': 1127,\n",
       " 'becom': 467,\n",
       " 'slight': 4091,\n",
       " 'shortcom': 4009,\n",
       " 'recommend': 3625,\n",
       " 'unless': 4697,\n",
       " 'deriv': 1265,\n",
       " 'lone': 2690,\n",
       " 'appreci': 297,\n",
       " 'remind': 3674,\n",
       " 'lesli': 2631,\n",
       " 'sand': 3851,\n",
       " 'stilt': 4257,\n",
       " 'poor': 3386,\n",
       " 'choic': 847,\n",
       " 'bett': 501,\n",
       " 'davi': 1191,\n",
       " 'gari': 1918,\n",
       " 'eve': 1595,\n",
       " 'scheme': 3879,\n",
       " 'best': 498,\n",
       " 'other': 3179,\n",
       " 'begin': 474,\n",
       " 'stop': 4269,\n",
       " 'hous': 2222,\n",
       " 'peak': 3276,\n",
       " 'sadli': 3835,\n",
       " 'elev': 1498,\n",
       " 'ridicul': 3749,\n",
       " 'materi': 2805,\n",
       " 'restrain': 3714,\n",
       " 'outrag': 3190,\n",
       " 'thank': 4473,\n",
       " 'pull': 3523,\n",
       " 'product': 3477,\n",
       " 'cast': 762,\n",
       " 'strictli': 4288,\n",
       " 'rate': 3591,\n",
       " '2': 55,\n",
       " 'compar': 969,\n",
       " 'stupid': 4310,\n",
       " 'revolv': 3735,\n",
       " 'toronto': 4555,\n",
       " 'intern': 2380,\n",
       " 'festiv': 1733,\n",
       " 'audienc': 370,\n",
       " 'night': 3066,\n",
       " 'fill': 1748,\n",
       " '2000': 57,\n",
       " 'walk': 4818,\n",
       " 'eeri': 1479,\n",
       " 'silenc': 4035,\n",
       " 'sheer': 3988,\n",
       " 'nonsens': 3085,\n",
       " 'jason': 2434,\n",
       " 'within': 4928,\n",
       " 'andr': 254,\n",
       " '3000': 75,\n",
       " 'soprano': 4143,\n",
       " 'fame': 1683,\n",
       " 'sens': 3938,\n",
       " 'shoot': 4005,\n",
       " 'ray': 3597,\n",
       " 'embarrass': 1512,\n",
       " 'bikini': 515,\n",
       " 'brief': 629,\n",
       " 'nake': 3005,\n",
       " 'butt': 689,\n",
       " 'teeth': 4447,\n",
       " 'art': 322,\n",
       " 'wanna': 4828,\n",
       " 'pretens': 3444,\n",
       " 'bodi': 566,\n",
       " 'show': 4016,\n",
       " 'sure': 4365,\n",
       " 'reaction': 3602,\n",
       " '5': 83,\n",
       " 'everyon': 1604,\n",
       " 'averag': 385,\n",
       " 'ritchi': 3758,\n",
       " 'went': 4875,\n",
       " 'sight': 4031,\n",
       " 'wors': 4950,\n",
       " 'madonna': 2743,\n",
       " 'program': 3485,\n",
       " 'oldest': 3150,\n",
       " 'offend': 3137,\n",
       " 'farmer': 1696,\n",
       " 'joke': 2469,\n",
       " 'predict': 3425,\n",
       " 'lame': 2569,\n",
       " 'perform': 3290,\n",
       " 'hammi': 2081,\n",
       " 'sinc': 4051,\n",
       " 'kind': 2530,\n",
       " 'dimension': 1313,\n",
       " 'stereotyp': 4249,\n",
       " 'exactli': 1614,\n",
       " 'ask': 334,\n",
       " 'demand': 1246,\n",
       " 'present': 3436,\n",
       " 'controversi': 1044,\n",
       " '22': 68,\n",
       " 'royal': 3810,\n",
       " 'canadian': 715,\n",
       " 'air': 185,\n",
       " 'farc': 1693,\n",
       " 'rick': 3744,\n",
       " 'report': 3689,\n",
       " 'view': 4779,\n",
       " 'de': 1197,\n",
       " 'aka': 188,\n",
       " 'fourth': 1841,\n",
       " 'slightli': 4093,\n",
       " 'unsettl': 4709,\n",
       " 'fascin': 1699,\n",
       " 'tight': 4515,\n",
       " 'intens': 2374,\n",
       " 'psycholog': 3518,\n",
       " 'thriller': 4500,\n",
       " 'paul': 3268,\n",
       " 'verhoeven': 4762,\n",
       " 'free': 1859,\n",
       " 'ticket': 4511,\n",
       " 'hollywood': 2184,\n",
       " 'flesh': 1785,\n",
       " 'blood': 552,\n",
       " 'user': 4725,\n",
       " 'comment': 960,\n",
       " 'site': 4064,\n",
       " 'notic': 3099,\n",
       " 'mention': 2849,\n",
       " 'alfr': 204,\n",
       " 'hitchcock': 2172,\n",
       " 'inde': 2316,\n",
       " 'earli': 1451,\n",
       " 'flavor': 1780,\n",
       " 'david': 1192,\n",
       " 'lynch': 2734,\n",
       " 'surreal': 4372,\n",
       " 'link': 2665,\n",
       " 'visual': 4798,\n",
       " 'roman': 3783,\n",
       " 'polanski': 3376,\n",
       " '1983': 38,\n",
       " 'figur': 1746,\n",
       " 'origin': 3173,\n",
       " 'gerard': 1939,\n",
       " 'fiction': 1738,\n",
       " 'name': 3006,\n",
       " 'torment': 4553,\n",
       " 'anybodi': 281,\n",
       " 'fact': 1667,\n",
       " 'r': 3556,\n",
       " 'french': 1863,\n",
       " 'dream': 1404,\n",
       " 'sequenc': 3951,\n",
       " 'awak': 389,\n",
       " 'coincid': 933,\n",
       " 'e': 1447,\n",
       " 'lead': 2602,\n",
       " 'sometim': 4135,\n",
       " 'guilti': 2055,\n",
       " 'subtl': 4323,\n",
       " 'aspect': 336,\n",
       " 'clearli': 895,\n",
       " 'progress': 3487,\n",
       " 'actual': 141,\n",
       " 'prove': 3509,\n",
       " 'excel': 1618,\n",
       " 'actress': 140,\n",
       " 'full': 1883,\n",
       " 'frontal': 1875,\n",
       " 'male': 2760,\n",
       " 'femal': 1727,\n",
       " 'nuditi': 3109,\n",
       " 'explicit': 1642,\n",
       " 'shot': 4012,\n",
       " 'anoth': 268,\n",
       " 'symbol': 4395,\n",
       " 'biblic': 509,\n",
       " 'refer': 3640,\n",
       " 'imag': 2274,\n",
       " 'supposedli': 4363,\n",
       " 'thoroughli': 4490,\n",
       " 'hate': 2109,\n",
       " 'conserv': 1018,\n",
       " 'cathol': 770,\n",
       " 'movement': 2971,\n",
       " 'european': 1592,\n",
       " 'either': 1488,\n",
       " 'worthi': 4954,\n",
       " 'recent': 3619,\n",
       " 'told': 4536,\n",
       " 'grave': 2016,\n",
       " 'posit': 3400,\n",
       " 'divin': 1362,\n",
       " 'virgin': 4789,\n",
       " 'resolv': 3704,\n",
       " 'issu': 2412,\n",
       " 'genr': 1934,\n",
       " 'religi': 3666,\n",
       " 'theme': 4478,\n",
       " 'surprisingli': 4371,\n",
       " 'whatsoev': 4884,\n",
       " 'scratch': 3894,\n",
       " 'point': 3370,\n",
       " 'bother': 590,\n",
       " 'level': 2638,\n",
       " 'protagonist': 3505,\n",
       " 'hand': 2083,\n",
       " 'impli': 2288,\n",
       " 'rambl': 3572,\n",
       " 'rave': 3595,\n",
       " 'question': 3547,\n",
       " 'receiv': 3618,\n",
       " 'distort': 1354,\n",
       " 'vision': 4795,\n",
       " 'omen': 3154,\n",
       " 'fool': 1811,\n",
       " 'christin': 861,\n",
       " 'particular': 3249,\n",
       " 'exquisit': 1651,\n",
       " 'behold': 479,\n",
       " 'compel': 972,\n",
       " 'convinc': 1051,\n",
       " 'adequ': 149,\n",
       " 'solid': 4126,\n",
       " 'dutch': 1439,\n",
       " 'version': 4763,\n",
       " 'dub': 1425,\n",
       " 'english': 1542,\n",
       " 'flick': 1787,\n",
       " 'richard': 3742,\n",
       " 'gere': 1940,\n",
       " 'olivi': 3152,\n",
       " 'cheat': 824,\n",
       " 'lane': 2574,\n",
       " 'chang': 803,\n",
       " 'indian': 2320,\n",
       " 'mass': 2798,\n",
       " 'trace': 4567,\n",
       " 'cheap': 823,\n",
       " 'soft': 4122,\n",
       " 'porn': 3392,\n",
       " 'bollywood': 571,\n",
       " 'lover': 2710,\n",
       " 'skin': 4072,\n",
       " 'dare': 1182,\n",
       " 'serial': 3954,\n",
       " 'killer': 2528,\n",
       " 'futur': 1897,\n",
       " 'plan': 3345,\n",
       " 'censor': 782,\n",
       " 'bomb': 572,\n",
       " 'box': 599,\n",
       " 'offic': 3140,\n",
       " 'recognit': 3623,\n",
       " 'care': 737,\n",
       " 'oscar': 3177,\n",
       " 'nomin': 3081,\n",
       " 'extra': 1656,\n",
       " 'western': 4878,\n",
       " 'rocki': 3777,\n",
       " 'wild': 4907,\n",
       " 'tough': 4560,\n",
       " 'rock': 3775,\n",
       " 'forth': 1832,\n",
       " 'rage': 3566,\n",
       " 'psycho': 3517,\n",
       " 'laid': 2567,\n",
       " 'type': 4642,\n",
       " 'hole': 2179,\n",
       " 'excit': 1622,\n",
       " 'worth': 4953,\n",
       " 'dumb': 1434,\n",
       " 'heston': 2150,\n",
       " 'empti': 1525,\n",
       " '45': 81,\n",
       " 'case': 756,\n",
       " 'collect': 940,\n",
       " 'start': 4233,\n",
       " 'fire': 1761,\n",
       " 'gather': 1922,\n",
       " 'pack': 3212,\n",
       " 'b': 399,\n",
       " 'dri': 1409,\n",
       " 'drop': 1418,\n",
       " 'match': 2803,\n",
       " 'let': 2636,\n",
       " 'er': 1570,\n",
       " 'rip': 3754,\n",
       " 'goe': 1980,\n",
       " 'drug': 1421,\n",
       " 'dealer': 1202,\n",
       " 'henri': 2144,\n",
       " 'normal': 3088,\n",
       " 'villain': 4785,\n",
       " 'machin': 2738,\n",
       " 'lack': 2563,\n",
       " 'usual': 4727,\n",
       " 'charisma': 813,\n",
       " 'place': 3342,\n",
       " 'pari': 3240,\n",
       " 'beat': 461,\n",
       " 'punch': 3526,\n",
       " 'ambit': 237,\n",
       " 'creat': 1104,\n",
       " 'equival': 1569,\n",
       " 'dirti': 1323,\n",
       " 'harri': 2102,\n",
       " '50': 84,\n",
       " 'stunt': 4309,\n",
       " 'apart': 287,\n",
       " 'le': 2601,\n",
       " 'margin': 2778,\n",
       " 'violent': 4788,\n",
       " 'episod': 1565,\n",
       " 'trite': 4614,\n",
       " 'shallow': 3977,\n",
       " 'forgett': 1823,\n",
       " 'simpl': 4043,\n",
       " 'gate': 1921,\n",
       " 'dimens': 1312,\n",
       " 'witch': 4927,\n",
       " 'group': 2043,\n",
       " 'includ': 2305,\n",
       " 'troubl': 4618,\n",
       " 'ex': 1612,\n",
       " 'girlfriend': 1958,\n",
       " 'partner': 3252,\n",
       " 'lesbian': 2630,\n",
       " 'demon': 1249,\n",
       " 'none': 3083,\n",
       " 'child': 839,\n",
       " 'evil': 1608,\n",
       " 'train': 4578,\n",
       " 'outfit': 3186,\n",
       " 'terribl': 4463,\n",
       " 'wrestler': 4964,\n",
       " 'suspicion': 4381,\n",
       " 'duke': 1432,\n",
       " 'fan': 1687,\n",
       " 'tv': 4633,\n",
       " 'seri': 3953,\n",
       " 'dvd': 1442,\n",
       " 'gener': 1930,\n",
       " 'jump': 2489,\n",
       " 'chase': 820,\n",
       " 'sum': 4343,\n",
       " 'jessica': 2449,\n",
       " 'simpson': 4047,\n",
       " 'pathet': 3261,\n",
       " 'honestli': 2195,\n",
       " 'daisi': 1165,\n",
       " 'reveal': 3726,\n",
       " 'simpli': 4044,\n",
       " 'aw': 387,\n",
       " 'roll': 3781,\n",
       " 'wast': 4843,\n",
       " 'true': 4620,\n",
       " 'disappoint': 1327,\n",
       " 'highlight': 2159,\n",
       " 'otherwis': 3180,\n",
       " 'confus': 1007,\n",
       " 'pile': 3331,\n",
       " 'dreck': 1406,\n",
       " '12': 7,\n",
       " 'run': 3820,\n",
       " 'lust': 2732,\n",
       " 'reflect': 3641,\n",
       " 'obviou': 3126,\n",
       " 'subtleti': 4324,\n",
       " 'plagu': 3343,\n",
       " 'connect': 1009,\n",
       " 'motorcycl': 2965,\n",
       " 'jacket': 2419,\n",
       " 'monster': 2942,\n",
       " 'cover': 1088,\n",
       " 'street': 4283,\n",
       " 'sun': 4347,\n",
       " 'glass': 1965,\n",
       " 'cool': 1056,\n",
       " 'dude': 1428,\n",
       " 'readi': 3605,\n",
       " 'rider': 3748,\n",
       " 'muppet': 2984,\n",
       " '1987': 42,\n",
       " 'stick': 4253,\n",
       " 'crack': 1092,\n",
       " 'puppet': 3529,\n",
       " 'treatment': 4596,\n",
       " ...}"
      ]
     },
     "execution_count": 38,
     "metadata": {},
     "output_type": "execute_result"
    }
   ],
   "source": [
    "vocabulary"
   ]
  },
  {
   "cell_type": "code",
   "execution_count": 33,
   "metadata": {},
   "outputs": [],
   "source": [
    "# TODO: Create the CountVectorizer using the previously constructed vocabulary\n",
    "vectorizer = CountVectorizer(vocabulary=vocabulary,preprocessor=lambda x: x, tokenizer=lambda x: x)\n",
    "\n",
    "# TODO: Transform our new data set and store the transformed data in the variable new_XV\n",
    "new_XV = vectorizer.fit_transform(new_X).toarray()"
   ]
  },
  {
   "cell_type": "code",
   "execution_count": null,
   "metadata": {},
   "outputs": [],
   "source": [
    "vectorizer"
   ]
  },
  {
   "cell_type": "markdown",
   "metadata": {},
   "source": [
    "As a quick sanity check, we make sure that the length of each of our bag of words encoded reviews is correct. In particular, it must be the same size as the vocabulary which in our case is `5000`."
   ]
  },
  {
   "cell_type": "code",
   "execution_count": null,
   "metadata": {},
   "outputs": [],
   "source": [
    "len(new_XV[100])"
   ]
  },
  {
   "cell_type": "markdown",
   "metadata": {},
   "source": [
    "Now that we've performed the data processing that is required by our model we can save it locally and then upload it to S3 so that we can construct a batch transform job in order to see how well our model is working.\n",
    "\n",
    "First, we save the data locally.\n",
    "\n",
    "**TODO:** Save the new data (after it has been transformed using the original vocabulary) to the local notebook instance."
   ]
  },
  {
   "cell_type": "code",
   "execution_count": 34,
   "metadata": {},
   "outputs": [],
   "source": [
    "# TODO: Save the data contained in new_XV locally in the data_dir with the file name new_data.csv\n",
    "pd.DataFrame(new_XV).to_csv(os.path.join(data_dir, 'new_data.csv'), header=False, index=False)"
   ]
  },
  {
   "cell_type": "markdown",
   "metadata": {},
   "source": [
    "Next, we upload the data to S3.\n",
    "\n",
    "**TODO:** Upload the csv file created above to S3."
   ]
  },
  {
   "cell_type": "code",
   "execution_count": null,
   "metadata": {},
   "outputs": [],
   "source": [
    "prefix"
   ]
  },
  {
   "cell_type": "code",
   "execution_count": 35,
   "metadata": {},
   "outputs": [],
   "source": [
    "# TODO: Upload the new_data.csv file contained in the data_dir folder to S3 and save the resulting\n",
    "#       URI as new_data_location\n",
    "\n",
    "new_data_location = session.upload_data(os.path.join(data_dir, 'new_data.csv'), key_prefix=prefix)"
   ]
  },
  {
   "cell_type": "code",
   "execution_count": 42,
   "metadata": {},
   "outputs": [
    {
     "data": {
      "text/plain": [
       "'s3://sagemaker-us-east-1-801008216402/sentiment-update/new_data.csv'"
      ]
     },
     "execution_count": 42,
     "metadata": {},
     "output_type": "execute_result"
    }
   ],
   "source": [
    "new_data_location"
   ]
  },
  {
   "cell_type": "markdown",
   "metadata": {},
   "source": [
    "Then, once the new data has been uploaded to S3, we create and run the batch transform job to get our model's predictions about the sentiment of the new movie reviews.\n",
    "\n",
    "**TODO:** Using the `xgb_transformer` object that was created earlier (at the end of Step 4 to test the XGBoost model), transform the data located at `new_data_location`."
   ]
  },
  {
   "cell_type": "code",
   "execution_count": 36,
   "metadata": {},
   "outputs": [],
   "source": [
    "# TODO: Using xgb_transformer, transform the new_data_location data. You may wish to **wait** until\n",
    "#       the batch transform job has finished.\n",
    "xgb_transformer.transform(new_data_location, content_type='text/csv', split_type='Line')"
   ]
  },
  {
   "cell_type": "code",
   "execution_count": 37,
   "metadata": {},
   "outputs": [
    {
     "name": "stdout",
     "output_type": "stream",
     "text": [
      "................................\u001b[34mArguments: serve\u001b[0m\n",
      "\u001b[34m[2022-02-07 08:36:37 +0000] [1] [INFO] Starting gunicorn 19.9.0\u001b[0m\n",
      "\u001b[34m[2022-02-07 08:36:37 +0000] [1] [INFO] Listening at: http://0.0.0.0:8080 (1)\u001b[0m\n",
      "\u001b[34m[2022-02-07 08:36:37 +0000] [1] [INFO] Using worker: gevent\u001b[0m\n",
      "\u001b[34m[2022-02-07 08:36:37 +0000] [21] [INFO] Booting worker with pid: 21\u001b[0m\n",
      "\u001b[34m[2022-02-07 08:36:37 +0000] [22] [INFO] Booting worker with pid: 22\u001b[0m\n",
      "\u001b[34m[2022-02-07 08:36:37 +0000] [23] [INFO] Booting worker with pid: 23\u001b[0m\n",
      "\u001b[34m[2022-02-07 08:36:37 +0000] [24] [INFO] Booting worker with pid: 24\u001b[0m\n",
      "\u001b[34m/opt/amazon/lib/python3.7/site-packages/gunicorn/workers/ggevent.py:65: MonkeyPatchWarning: Monkey-patching ssl after ssl has already been imported may lead to errors, including RecursionError on Python 3.6. It may also silently lead to incorrect behaviour on Python 3.7. Please monkey-patch earlier. See https://github.com/gevent/gevent/issues/1016. Modules that had direct imports (NOT patched): ['urllib3.util.ssl_ (/opt/amazon/lib/python3.7/site-packages/urllib3/util/ssl_.py)', 'urllib3.util (/opt/amazon/lib/python3.7/site-packages/urllib3/util/__init__.py)']. \n",
      "  monkey.patch_all(subprocess=True)\u001b[0m\n",
      "\u001b[35mArguments: serve\u001b[0m\n",
      "\u001b[35m[2022-02-07 08:36:37 +0000] [1] [INFO] Starting gunicorn 19.9.0\u001b[0m\n",
      "\u001b[35m[2022-02-07 08:36:37 +0000] [1] [INFO] Listening at: http://0.0.0.0:8080 (1)\u001b[0m\n",
      "\u001b[35m[2022-02-07 08:36:37 +0000] [1] [INFO] Using worker: gevent\u001b[0m\n",
      "\u001b[35m[2022-02-07 08:36:37 +0000] [21] [INFO] Booting worker with pid: 21\u001b[0m\n",
      "\u001b[35m[2022-02-07 08:36:37 +0000] [22] [INFO] Booting worker with pid: 22\u001b[0m\n",
      "\u001b[35m[2022-02-07 08:36:37 +0000] [23] [INFO] Booting worker with pid: 23\u001b[0m\n",
      "\u001b[35m[2022-02-07 08:36:37 +0000] [24] [INFO] Booting worker with pid: 24\u001b[0m\n",
      "\u001b[35m/opt/amazon/lib/python3.7/site-packages/gunicorn/workers/ggevent.py:65: MonkeyPatchWarning: Monkey-patching ssl after ssl has already been imported may lead to errors, including RecursionError on Python 3.6. It may also silently lead to incorrect behaviour on Python 3.7. Please monkey-patch earlier. See https://github.com/gevent/gevent/issues/1016. Modules that had direct imports (NOT patched): ['urllib3.util.ssl_ (/opt/amazon/lib/python3.7/site-packages/urllib3/util/ssl_.py)', 'urllib3.util (/opt/amazon/lib/python3.7/site-packages/urllib3/util/__init__.py)']. \n",
      "  monkey.patch_all(subprocess=True)\u001b[0m\n",
      "\u001b[34m[2022-02-07:08:36:37:INFO] Model loaded successfully for worker : 21\u001b[0m\n",
      "\u001b[34m/opt/amazon/lib/python3.7/site-packages/gunicorn/workers/ggevent.py:65: MonkeyPatchWarning: Monkey-patching ssl after ssl has already been imported may lead to errors, including RecursionError on Python 3.6. It may also silently lead to incorrect behaviour on Python 3.7. Please monkey-patch earlier. See https://github.com/gevent/gevent/issues/1016. Modules that had direct imports (NOT patched): ['urllib3.util.ssl_ (/opt/amazon/lib/python3.7/site-packages/urllib3/util/ssl_.py)', 'urllib3.util (/opt/amazon/lib/python3.7/site-packages/urllib3/util/__init__.py)']. \n",
      "  monkey.patch_all(subprocess=True)\u001b[0m\n",
      "\u001b[34m[2022-02-07:08:36:37:INFO] Model loaded successfully for worker : 22\u001b[0m\n",
      "\u001b[34m/opt/amazon/lib/python3.7/site-packages/gunicorn/workers/ggevent.py:65: MonkeyPatchWarning: Monkey-patching ssl after ssl has already been imported may lead to errors, including RecursionError on Python 3.6. It may also silently lead to incorrect behaviour on Python 3.7. Please monkey-patch earlier. See https://github.com/gevent/gevent/issues/1016. Modules that had direct imports (NOT patched): ['urllib3.util.ssl_ (/opt/amazon/lib/python3.7/site-packages/urllib3/util/ssl_.py)', 'urllib3.util (/opt/amazon/lib/python3.7/site-packages/urllib3/util/__init__.py)']. \n",
      "  monkey.patch_all(subprocess=True)\u001b[0m\n",
      "\u001b[34m[2022-02-07:08:36:37:INFO] Model loaded successfully for worker : 23\u001b[0m\n",
      "\u001b[34m/opt/amazon/lib/python3.7/site-packages/gunicorn/workers/ggevent.py:65: MonkeyPatchWarning: Monkey-patching ssl after ssl has already been imported may lead to errors, including RecursionError on Python 3.6. It may also silently lead to incorrect behaviour on Python 3.7. Please monkey-patch earlier. See https://github.com/gevent/gevent/issues/1016. Modules that had direct imports (NOT patched): ['urllib3.util.ssl_ (/opt/amazon/lib/python3.7/site-packages/urllib3/util/ssl_.py)', 'urllib3.util (/opt/amazon/lib/python3.7/site-packages/urllib3/util/__init__.py)']. \n",
      "  monkey.patch_all(subprocess=True)\u001b[0m\n",
      "\u001b[34m[2022-02-07:08:36:37:INFO] Model loaded successfully for worker : 24\u001b[0m\n",
      "\u001b[35m[2022-02-07:08:36:37:INFO] Model loaded successfully for worker : 21\u001b[0m\n",
      "\u001b[35m/opt/amazon/lib/python3.7/site-packages/gunicorn/workers/ggevent.py:65: MonkeyPatchWarning: Monkey-patching ssl after ssl has already been imported may lead to errors, including RecursionError on Python 3.6. It may also silently lead to incorrect behaviour on Python 3.7. Please monkey-patch earlier. See https://github.com/gevent/gevent/issues/1016. Modules that had direct imports (NOT patched): ['urllib3.util.ssl_ (/opt/amazon/lib/python3.7/site-packages/urllib3/util/ssl_.py)', 'urllib3.util (/opt/amazon/lib/python3.7/site-packages/urllib3/util/__init__.py)']. \n",
      "  monkey.patch_all(subprocess=True)\u001b[0m\n",
      "\u001b[35m[2022-02-07:08:36:37:INFO] Model loaded successfully for worker : 22\u001b[0m\n",
      "\u001b[35m/opt/amazon/lib/python3.7/site-packages/gunicorn/workers/ggevent.py:65: MonkeyPatchWarning: Monkey-patching ssl after ssl has already been imported may lead to errors, including RecursionError on Python 3.6. It may also silently lead to incorrect behaviour on Python 3.7. Please monkey-patch earlier. See https://github.com/gevent/gevent/issues/1016. Modules that had direct imports (NOT patched): ['urllib3.util.ssl_ (/opt/amazon/lib/python3.7/site-packages/urllib3/util/ssl_.py)', 'urllib3.util (/opt/amazon/lib/python3.7/site-packages/urllib3/util/__init__.py)']. \n",
      "  monkey.patch_all(subprocess=True)\u001b[0m\n",
      "\u001b[35m[2022-02-07:08:36:37:INFO] Model loaded successfully for worker : 23\u001b[0m\n",
      "\u001b[35m/opt/amazon/lib/python3.7/site-packages/gunicorn/workers/ggevent.py:65: MonkeyPatchWarning: Monkey-patching ssl after ssl has already been imported may lead to errors, including RecursionError on Python 3.6. It may also silently lead to incorrect behaviour on Python 3.7. Please monkey-patch earlier. See https://github.com/gevent/gevent/issues/1016. Modules that had direct imports (NOT patched): ['urllib3.util.ssl_ (/opt/amazon/lib/python3.7/site-packages/urllib3/util/ssl_.py)', 'urllib3.util (/opt/amazon/lib/python3.7/site-packages/urllib3/util/__init__.py)']. \n",
      "  monkey.patch_all(subprocess=True)\u001b[0m\n",
      "\u001b[35m[2022-02-07:08:36:37:INFO] Model loaded successfully for worker : 24\u001b[0m\n",
      "\u001b[32m2022-02-07T08:36:41.241:[sagemaker logs]: MaxConcurrentTransforms=4, MaxPayloadInMB=6, BatchStrategy=MULTI_RECORD\u001b[0m\n",
      "\u001b[34m[2022-02-07:08:36:44:INFO] Sniff delimiter as ','\u001b[0m\n",
      "\u001b[34m[2022-02-07:08:36:44:INFO] Determined delimiter of CSV input is ','\u001b[0m\n",
      "\u001b[34m[2022-02-07:08:36:44:INFO] Sniff delimiter as ','\u001b[0m\n",
      "\u001b[34m[2022-02-07:08:36:44:INFO] Determined delimiter of CSV input is ','\u001b[0m\n",
      "\u001b[34m[2022-02-07:08:36:44:INFO] Sniff delimiter as ','\u001b[0m\n",
      "\u001b[34m[2022-02-07:08:36:44:INFO] Determined delimiter of CSV input is ','\u001b[0m\n",
      "\u001b[34m[2022-02-07:08:36:44:INFO] Sniff delimiter as ','\u001b[0m\n",
      "\u001b[34m[2022-02-07:08:36:44:INFO] Determined delimiter of CSV input is ','\u001b[0m\n",
      "\u001b[35m[2022-02-07:08:36:44:INFO] Sniff delimiter as ','\u001b[0m\n",
      "\u001b[35m[2022-02-07:08:36:44:INFO] Determined delimiter of CSV input is ','\u001b[0m\n",
      "\u001b[35m[2022-02-07:08:36:44:INFO] Sniff delimiter as ','\u001b[0m\n",
      "\u001b[35m[2022-02-07:08:36:44:INFO] Determined delimiter of CSV input is ','\u001b[0m\n",
      "\u001b[35m[2022-02-07:08:36:44:INFO] Sniff delimiter as ','\u001b[0m\n",
      "\u001b[35m[2022-02-07:08:36:44:INFO] Determined delimiter of CSV input is ','\u001b[0m\n",
      "\u001b[35m[2022-02-07:08:36:44:INFO] Sniff delimiter as ','\u001b[0m\n",
      "\u001b[35m[2022-02-07:08:36:44:INFO] Determined delimiter of CSV input is ','\u001b[0m\n",
      "\u001b[34m[2022-02-07:08:36:47:INFO] Sniff delimiter as ','\u001b[0m\n",
      "\u001b[34m[2022-02-07:08:36:47:INFO] Determined delimiter of CSV input is ','\u001b[0m\n",
      "\u001b[35m[2022-02-07:08:36:47:INFO] Sniff delimiter as ','\u001b[0m\n",
      "\u001b[35m[2022-02-07:08:36:47:INFO] Determined delimiter of CSV input is ','\u001b[0m\n",
      "\u001b[34m[2022-02-07:08:36:48:INFO] Sniff delimiter as ','\u001b[0m\n",
      "\u001b[34m[2022-02-07:08:36:48:INFO] Determined delimiter of CSV input is ','\u001b[0m\n",
      "\u001b[34m[2022-02-07:08:36:48:INFO] Sniff delimiter as ','\u001b[0m\n",
      "\u001b[34m[2022-02-07:08:36:48:INFO] Determined delimiter of CSV input is ','\u001b[0m\n",
      "\u001b[34m[2022-02-07:08:36:48:INFO] Sniff delimiter as ','\u001b[0m\n",
      "\u001b[34m[2022-02-07:08:36:48:INFO] Determined delimiter of CSV input is ','\u001b[0m\n",
      "\u001b[35m[2022-02-07:08:36:48:INFO] Sniff delimiter as ','\u001b[0m\n",
      "\u001b[35m[2022-02-07:08:36:48:INFO] Determined delimiter of CSV input is ','\u001b[0m\n",
      "\u001b[35m[2022-02-07:08:36:48:INFO] Sniff delimiter as ','\u001b[0m\n",
      "\u001b[35m[2022-02-07:08:36:48:INFO] Determined delimiter of CSV input is ','\u001b[0m\n",
      "\u001b[35m[2022-02-07:08:36:48:INFO] Sniff delimiter as ','\u001b[0m\n",
      "\u001b[35m[2022-02-07:08:36:48:INFO] Determined delimiter of CSV input is ','\u001b[0m\n"
     ]
    },
    {
     "name": "stdout",
     "output_type": "stream",
     "text": [
      "\u001b[34m[2022-02-07:08:36:52:INFO] Sniff delimiter as ','\u001b[0m\n",
      "\u001b[35m[2022-02-07:08:36:52:INFO] Sniff delimiter as ','\u001b[0m\n",
      "\u001b[34m[2022-02-07:08:36:52:INFO] Determined delimiter of CSV input is ','\u001b[0m\n",
      "\u001b[35m[2022-02-07:08:36:52:INFO] Determined delimiter of CSV input is ','\u001b[0m\n",
      "\u001b[34m[2022-02-07:08:36:55:INFO] Sniff delimiter as ','\u001b[0m\n",
      "\u001b[34m[2022-02-07:08:36:55:INFO] Determined delimiter of CSV input is ','\u001b[0m\n",
      "\u001b[35m[2022-02-07:08:36:55:INFO] Sniff delimiter as ','\u001b[0m\n",
      "\u001b[35m[2022-02-07:08:36:55:INFO] Determined delimiter of CSV input is ','\u001b[0m\n",
      "\u001b[34m[2022-02-07:08:36:55:INFO] Sniff delimiter as ','\u001b[0m\n",
      "\u001b[34m[2022-02-07:08:36:55:INFO] Determined delimiter of CSV input is ','\u001b[0m\n",
      "\u001b[34m[2022-02-07:08:36:55:INFO] Sniff delimiter as ','\u001b[0m\n",
      "\u001b[34m[2022-02-07:08:36:55:INFO] Determined delimiter of CSV input is ','\u001b[0m\n",
      "\u001b[34m[2022-02-07:08:36:56:INFO] Sniff delimiter as ','\u001b[0m\n",
      "\u001b[34m[2022-02-07:08:36:56:INFO] Determined delimiter of CSV input is ','\u001b[0m\n",
      "\u001b[35m[2022-02-07:08:36:55:INFO] Sniff delimiter as ','\u001b[0m\n",
      "\u001b[35m[2022-02-07:08:36:55:INFO] Determined delimiter of CSV input is ','\u001b[0m\n",
      "\u001b[35m[2022-02-07:08:36:55:INFO] Sniff delimiter as ','\u001b[0m\n",
      "\u001b[35m[2022-02-07:08:36:55:INFO] Determined delimiter of CSV input is ','\u001b[0m\n",
      "\u001b[35m[2022-02-07:08:36:56:INFO] Sniff delimiter as ','\u001b[0m\n",
      "\u001b[35m[2022-02-07:08:36:56:INFO] Determined delimiter of CSV input is ','\u001b[0m\n",
      "\u001b[34m[2022-02-07:08:36:59:INFO] Sniff delimiter as ','\u001b[0m\n",
      "\u001b[34m[2022-02-07:08:36:59:INFO] Determined delimiter of CSV input is ','\u001b[0m\n",
      "\u001b[35m[2022-02-07:08:36:59:INFO] Sniff delimiter as ','\u001b[0m\n",
      "\u001b[35m[2022-02-07:08:36:59:INFO] Determined delimiter of CSV input is ','\u001b[0m\n",
      "\u001b[34m[2022-02-07:08:37:03:INFO] Sniff delimiter as ','\u001b[0m\n",
      "\u001b[34m[2022-02-07:08:37:03:INFO] Determined delimiter of CSV input is ','\u001b[0m\n",
      "\u001b[35m[2022-02-07:08:37:03:INFO] Sniff delimiter as ','\u001b[0m\n",
      "\u001b[35m[2022-02-07:08:37:03:INFO] Determined delimiter of CSV input is ','\u001b[0m\n",
      "\u001b[34m[2022-02-07:08:37:03:INFO] Sniff delimiter as ','\u001b[0m\n",
      "\u001b[34m[2022-02-07:08:37:03:INFO] Determined delimiter of CSV input is ','\u001b[0m\n",
      "\u001b[34m[2022-02-07:08:37:03:INFO] Sniff delimiter as ','\u001b[0m\n",
      "\u001b[34m[2022-02-07:08:37:03:INFO] Determined delimiter of CSV input is ','\u001b[0m\n",
      "\u001b[35m[2022-02-07:08:37:03:INFO] Sniff delimiter as ','\u001b[0m\n",
      "\u001b[35m[2022-02-07:08:37:03:INFO] Determined delimiter of CSV input is ','\u001b[0m\n",
      "\u001b[35m[2022-02-07:08:37:03:INFO] Sniff delimiter as ','\u001b[0m\n",
      "\u001b[35m[2022-02-07:08:37:03:INFO] Determined delimiter of CSV input is ','\u001b[0m\n",
      "\u001b[34m[2022-02-07:08:37:03:INFO] Sniff delimiter as ','\u001b[0m\n",
      "\u001b[34m[2022-02-07:08:37:03:INFO] Determined delimiter of CSV input is ','\u001b[0m\n",
      "\u001b[35m[2022-02-07:08:37:03:INFO] Sniff delimiter as ','\u001b[0m\n",
      "\u001b[35m[2022-02-07:08:37:03:INFO] Determined delimiter of CSV input is ','\u001b[0m\n",
      "\u001b[34m[2022-02-07:08:37:06:INFO] Sniff delimiter as ','\u001b[0m\n",
      "\u001b[35m[2022-02-07:08:37:06:INFO] Sniff delimiter as ','\u001b[0m\n",
      "\u001b[34m[2022-02-07:08:37:06:INFO] Determined delimiter of CSV input is ','\u001b[0m\n",
      "\u001b[34m[2022-02-07:08:37:07:INFO] Sniff delimiter as ','\u001b[0m\n",
      "\u001b[34m[2022-02-07:08:37:07:INFO] Determined delimiter of CSV input is ','\u001b[0m\n",
      "\u001b[34m[2022-02-07:08:37:07:INFO] Sniff delimiter as ','\u001b[0m\n",
      "\u001b[34m[2022-02-07:08:37:07:INFO] Determined delimiter of CSV input is ','\u001b[0m\n",
      "\u001b[34m[2022-02-07:08:37:07:INFO] Sniff delimiter as ','\u001b[0m\n",
      "\u001b[34m[2022-02-07:08:37:07:INFO] Determined delimiter of CSV input is ','\u001b[0m\n",
      "\u001b[35m[2022-02-07:08:37:06:INFO] Determined delimiter of CSV input is ','\u001b[0m\n",
      "\u001b[35m[2022-02-07:08:37:07:INFO] Sniff delimiter as ','\u001b[0m\n",
      "\u001b[35m[2022-02-07:08:37:07:INFO] Determined delimiter of CSV input is ','\u001b[0m\n",
      "\u001b[35m[2022-02-07:08:37:07:INFO] Sniff delimiter as ','\u001b[0m\n",
      "\u001b[35m[2022-02-07:08:37:07:INFO] Determined delimiter of CSV input is ','\u001b[0m\n",
      "\u001b[35m[2022-02-07:08:37:07:INFO] Sniff delimiter as ','\u001b[0m\n",
      "\u001b[35m[2022-02-07:08:37:07:INFO] Determined delimiter of CSV input is ','\u001b[0m\n",
      "\u001b[34m[2022-02-07:08:37:10:INFO] Sniff delimiter as ','\u001b[0m\n",
      "\u001b[34m[2022-02-07:08:37:10:INFO] Determined delimiter of CSV input is ','\u001b[0m\n",
      "\u001b[34m[2022-02-07:08:37:11:INFO] Sniff delimiter as ','\u001b[0m\n",
      "\u001b[34m[2022-02-07:08:37:11:INFO] Determined delimiter of CSV input is ','\u001b[0m\n",
      "\u001b[34m[2022-02-07:08:37:11:INFO] Sniff delimiter as ','\u001b[0m\n",
      "\u001b[34m[2022-02-07:08:37:11:INFO] Determined delimiter of CSV input is ','\u001b[0m\n",
      "\u001b[35m[2022-02-07:08:37:10:INFO] Sniff delimiter as ','\u001b[0m\n",
      "\u001b[35m[2022-02-07:08:37:10:INFO] Determined delimiter of CSV input is ','\u001b[0m\n",
      "\u001b[35m[2022-02-07:08:37:11:INFO] Sniff delimiter as ','\u001b[0m\n",
      "\u001b[35m[2022-02-07:08:37:11:INFO] Determined delimiter of CSV input is ','\u001b[0m\n",
      "\u001b[35m[2022-02-07:08:37:11:INFO] Sniff delimiter as ','\u001b[0m\n",
      "\u001b[35m[2022-02-07:08:37:11:INFO] Determined delimiter of CSV input is ','\u001b[0m\n",
      "\u001b[34m[2022-02-07:08:37:11:INFO] Sniff delimiter as ','\u001b[0m\n",
      "\u001b[34m[2022-02-07:08:37:11:INFO] Determined delimiter of CSV input is ','\u001b[0m\n",
      "\u001b[35m[2022-02-07:08:37:11:INFO] Sniff delimiter as ','\u001b[0m\n",
      "\u001b[35m[2022-02-07:08:37:11:INFO] Determined delimiter of CSV input is ','\u001b[0m\n",
      "\u001b[34m[2022-02-07:08:37:14:INFO] Sniff delimiter as ','\u001b[0m\n",
      "\u001b[34m[2022-02-07:08:37:14:INFO] Determined delimiter of CSV input is ','\u001b[0m\n",
      "\u001b[35m[2022-02-07:08:37:14:INFO] Sniff delimiter as ','\u001b[0m\n",
      "\u001b[35m[2022-02-07:08:37:14:INFO] Determined delimiter of CSV input is ','\u001b[0m\n",
      "\u001b[34m[2022-02-07:08:37:15:INFO] Sniff delimiter as ','\u001b[0m\n",
      "\u001b[34m[2022-02-07:08:37:15:INFO] Determined delimiter of CSV input is ','\u001b[0m\n",
      "\u001b[34m[2022-02-07:08:37:15:INFO] Sniff delimiter as ','\u001b[0m\n",
      "\u001b[34m[2022-02-07:08:37:15:INFO] Determined delimiter of CSV input is ','\u001b[0m\n",
      "\u001b[34m[2022-02-07:08:37:15:INFO] Sniff delimiter as ','\u001b[0m\n",
      "\u001b[34m[2022-02-07:08:37:15:INFO] Determined delimiter of CSV input is ','\u001b[0m\n",
      "\u001b[35m[2022-02-07:08:37:15:INFO] Sniff delimiter as ','\u001b[0m\n",
      "\u001b[35m[2022-02-07:08:37:15:INFO] Determined delimiter of CSV input is ','\u001b[0m\n",
      "\u001b[35m[2022-02-07:08:37:15:INFO] Sniff delimiter as ','\u001b[0m\n",
      "\u001b[35m[2022-02-07:08:37:15:INFO] Determined delimiter of CSV input is ','\u001b[0m\n",
      "\u001b[35m[2022-02-07:08:37:15:INFO] Sniff delimiter as ','\u001b[0m\n",
      "\u001b[35m[2022-02-07:08:37:15:INFO] Determined delimiter of CSV input is ','\u001b[0m\n",
      "\u001b[34m[2022-02-07:08:37:19:INFO] Sniff delimiter as ','\u001b[0m\n",
      "\u001b[34m[2022-02-07:08:37:19:INFO] Determined delimiter of CSV input is ','\u001b[0m\n",
      "\u001b[35m[2022-02-07:08:37:19:INFO] Sniff delimiter as ','\u001b[0m\n",
      "\u001b[35m[2022-02-07:08:37:19:INFO] Determined delimiter of CSV input is ','\u001b[0m\n",
      "\u001b[34m[2022-02-07:08:37:19:INFO] Sniff delimiter as ','\u001b[0m\n",
      "\u001b[34m[2022-02-07:08:37:19:INFO] Determined delimiter of CSV input is ','\u001b[0m\n",
      "\u001b[35m[2022-02-07:08:37:19:INFO] Sniff delimiter as ','\u001b[0m\n",
      "\u001b[35m[2022-02-07:08:37:19:INFO] Determined delimiter of CSV input is ','\u001b[0m\n",
      "\n"
     ]
    }
   ],
   "source": [
    "xgb_transformer.wait()"
   ]
  },
  {
   "cell_type": "markdown",
   "metadata": {},
   "source": [
    "As usual, we copy the results of the batch transform job to our local instance."
   ]
  },
  {
   "cell_type": "code",
   "execution_count": 38,
   "metadata": {},
   "outputs": [
    {
     "name": "stdout",
     "output_type": "stream",
     "text": [
      "download: s3://sagemaker-us-east-1-801008216402/xgboost-2022-02-07-08-31-29-110/new_data.csv.out to ../data/sentiment_update/new_data.csv.out\n"
     ]
    }
   ],
   "source": [
    "!aws s3 cp --recursive $xgb_transformer.output_path $data_dir"
   ]
  },
  {
   "cell_type": "markdown",
   "metadata": {},
   "source": [
    "Read in the results of the batch transform job."
   ]
  },
  {
   "cell_type": "code",
   "execution_count": 39,
   "metadata": {},
   "outputs": [],
   "source": [
    "predictions = pd.read_csv(os.path.join(data_dir, 'new_data.csv.out'), header=None)\n",
    "predictions = [round(num) for num in predictions.squeeze().values]"
   ]
  },
  {
   "cell_type": "markdown",
   "metadata": {},
   "source": [
    "And check the accuracy of our current model."
   ]
  },
  {
   "cell_type": "code",
   "execution_count": 40,
   "metadata": {},
   "outputs": [
    {
     "data": {
      "text/plain": [
       "0.73504"
      ]
     },
     "execution_count": 40,
     "metadata": {},
     "output_type": "execute_result"
    }
   ],
   "source": [
    "accuracy_score(new_Y, predictions)"
   ]
  },
  {
   "cell_type": "markdown",
   "metadata": {},
   "source": [
    "So it would appear that *something* has changed since our model is no longer (as) effective at determining the sentiment of a user provided review.\n",
    "\n",
    "In a real life scenario you would check a number of different things to see what exactly is going on. In our case, we are only going to check one and that is whether some aspect of the underlying distribution has changed. In other words, we want to see if the words that appear in our new collection of reviews matches the words that appear in the original training set. Of course, we want to narrow our scope a little bit so we will only look at the `5000` most frequently appearing words in each data set, or in other words, the vocabulary generated by each data set.\n",
    "\n",
    "Before doing that, however, let's take a look at some of the incorrectly classified reviews in the new data set.\n",
    "\n",
    "To start, we will deploy the original XGBoost model. We will then use the deployed model to infer the sentiment of some of the new reviews. This will also serve as a nice excuse to deploy our model so that we can mimic a real life scenario where we have a model that has been deployed and is being used in production.\n",
    "\n",
    "**TODO:** Deploy the XGBoost model."
   ]
  },
  {
   "cell_type": "code",
   "execution_count": 41,
   "metadata": {},
   "outputs": [
    {
     "name": "stderr",
     "output_type": "stream",
     "text": [
      "Parameter image will be renamed to image_uri in SageMaker Python SDK v2.\n",
      "Using already existing model: xgboost-2022-02-07-08-08-27-527\n"
     ]
    },
    {
     "name": "stdout",
     "output_type": "stream",
     "text": [
      "---------!"
     ]
    }
   ],
   "source": [
    "# TODO: Deploy the model that was created earlier. Recall that the object name is 'xgb'.\n",
    "xgb_predictor = xgb.deploy(initial_instance_count=1, instance_type='ml.m4.xlarge')"
   ]
  },
  {
   "cell_type": "markdown",
   "metadata": {},
   "source": [
    "### Diagnose the problem\n",
    "\n",
    "Now that we have our deployed \"production\" model, we can send some of our new data to it and filter out some of the incorrectly classified reviews."
   ]
  },
  {
   "cell_type": "code",
   "execution_count": 42,
   "metadata": {},
   "outputs": [],
   "source": [
    "from sagemaker.predictor import csv_serializer\n",
    "\n",
    "# We need to tell the endpoint what format the data we are sending is in so that SageMaker can perform the serialization.\n",
    "xgb_predictor.content_type = 'text/csv'\n",
    "xgb_predictor.serializer = csv_serializer"
   ]
  },
  {
   "cell_type": "markdown",
   "metadata": {},
   "source": [
    "It will be useful to look at a few different examples of incorrectly classified reviews so we will start by creating a *generator* which we will use to iterate through some of the new reviews and find ones that are incorrect.\n",
    "\n",
    "**NOTE:** Understanding what Python generators are isn't really required for this module. The reason we use them here is so that we don't have to iterate through all of the new reviews, searching for incorrectly classified samples."
   ]
  },
  {
   "cell_type": "code",
   "execution_count": 43,
   "metadata": {},
   "outputs": [],
   "source": [
    "def get_sample(in_X, in_XV, in_Y):\n",
    "    for idx, smp in enumerate(in_X):\n",
    "        res = round(float(xgb_predictor.predict(in_XV[idx])))\n",
    "        if res != in_Y[idx]:\n",
    "            yield smp, in_Y[idx]"
   ]
  },
  {
   "cell_type": "code",
   "execution_count": 44,
   "metadata": {},
   "outputs": [],
   "source": [
    "gn = get_sample(new_X, new_XV, new_Y)"
   ]
  },
  {
   "cell_type": "markdown",
   "metadata": {},
   "source": [
    "At this point, `gn` is the *generator* which generates samples from the new data set which are not classified correctly. To get the *next* sample we simply call the `next` method on our generator."
   ]
  },
  {
   "cell_type": "code",
   "execution_count": 45,
   "metadata": {},
   "outputs": [
    {
     "name": "stdout",
     "output_type": "stream",
     "text": [
      "(['got', 'video', 'use', 'watch', 'last', 'night', 'act', 'start', 'extrem', 'bad', 'hey', 'hey', 'twister', 'got', 'good', 'soon', 'ward', 'tornado', 'look', 'extrem', 'fake', 'mani', 'cgi', 'effect', 'dodgi', 'scene', 'hous', 'crack', 'apart', 'content', 'insid', 'blown', 'around', 'suck', 'extrem', 'well', 'done', 'par', 'movi', 'like', 'twister', 'scene', 'devast', 'also', 'extrem', 'well', 'done', 'stori', 'well', 'written', 'refresh', 'see', 'movi', 'like', 'stray', 'away', 'old', 'disast', 'formula', 'movi', 'genr', 'seem', 'stuck', '30', 'year', 'movi', 'weird', 'mix', 'fx', 'act', 'qualiti', 'merit', 'book', 'banana'], 0)\n"
     ]
    }
   ],
   "source": [
    "print(next(gn))"
   ]
  },
  {
   "cell_type": "markdown",
   "metadata": {},
   "source": [
    "After looking at a few examples, maybe we decide to look at the most frequently appearing `5000` words in each data set, the original training data set and the new data set. The reason for looking at this might be that we expect the frequency of use of different words to have changed, maybe there is some new slang that has been introduced or some other artifact of popular culture that has changed the way that people write movie reviews.\n",
    "\n",
    "To do this, we start by fitting a `CountVectorizer` to the new data."
   ]
  },
  {
   "cell_type": "code",
   "execution_count": 46,
   "metadata": {},
   "outputs": [
    {
     "name": "stderr",
     "output_type": "stream",
     "text": [
      "/home/ec2-user/anaconda3/envs/pytorch_p36/lib/python3.6/site-packages/sklearn/feature_extraction/text.py:489: UserWarning: The parameter 'token_pattern' will not be used since 'tokenizer' is not None'\n",
      "  warnings.warn(\"The parameter 'token_pattern' will not be used\"\n"
     ]
    },
    {
     "data": {
      "text/plain": [
       "CountVectorizer(max_features=5000,\n",
       "                preprocessor=<function <lambda> at 0x7f4d80f0b7b8>,\n",
       "                tokenizer=<function <lambda> at 0x7f4d80f0b510>)"
      ]
     },
     "execution_count": 46,
     "metadata": {},
     "output_type": "execute_result"
    }
   ],
   "source": [
    "new_vectorizer = CountVectorizer(max_features=5000,\n",
    "                preprocessor=lambda x: x, tokenizer=lambda x: x)\n",
    "new_vectorizer.fit(new_X)"
   ]
  },
  {
   "cell_type": "markdown",
   "metadata": {},
   "source": [
    "Now that we have this new `CountVectorizor` object, we can check to see if the corresponding vocabulary has changed between the two data sets."
   ]
  },
  {
   "cell_type": "code",
   "execution_count": 47,
   "metadata": {},
   "outputs": [],
   "source": [
    "original_vocabulary = set(vocabulary.keys())\n",
    "new_vocabulary = set(new_vectorizer.vocabulary_.keys())"
   ]
  },
  {
   "cell_type": "markdown",
   "metadata": {},
   "source": [
    "We can look at the words that were in the original vocabulary but not in the new vocabulary."
   ]
  },
  {
   "cell_type": "code",
   "execution_count": 48,
   "metadata": {},
   "outputs": [
    {
     "name": "stdout",
     "output_type": "stream",
     "text": [
      "{'weari', 'victorian', 'reincarn', 'playboy', 'ghetto', '21st', 'spill'}\n"
     ]
    }
   ],
   "source": [
    "print(original_vocabulary - new_vocabulary)"
   ]
  },
  {
   "cell_type": "markdown",
   "metadata": {},
   "source": [
    "And similarly, we can look at the words that are in the new vocabulary but which were not in the original vocabulary."
   ]
  },
  {
   "cell_type": "code",
   "execution_count": 49,
   "metadata": {},
   "outputs": [
    {
     "name": "stdout",
     "output_type": "stream",
     "text": [
      "{'orchestr', 'optimist', 'omin', 'dubiou', 'banana', 'sophi', 'masterson'}\n"
     ]
    }
   ],
   "source": [
    "print(new_vocabulary - original_vocabulary)"
   ]
  },
  {
   "cell_type": "markdown",
   "metadata": {},
   "source": [
    "These words themselves don't tell us much, however if one of these words occured with a large frequency, that might tell us something. In particular, we wouldn't really expect any of the words above to appear with too much frequency.\n",
    "\n",
    "**Question** What exactly is going on here. Not only what (if any) words appear with a larger than expected frequency but also, what does this mean? What has changed about the world that our original model no longer takes into account?\n",
    "\n",
    "**NOTE:** This is meant to be a very open ended question. To investigate you may need more cells than the one provided below. Also, there isn't really a *correct* answer, this is meant to be an opportunity to explore the data."
   ]
  },
  {
   "cell_type": "code",
   "execution_count": 57,
   "metadata": {},
   "outputs": [
    {
     "data": {
      "text/plain": [
       "sophi         107\n",
       "dubiou         90\n",
       "orchestr      143\n",
       "masterson     811\n",
       "omin           89\n",
       "banana         95\n",
       "optimist     1159\n",
       "dtype: int64"
      ]
     },
     "execution_count": 57,
     "metadata": {},
     "output_type": "execute_result"
    }
   ],
   "source": [
    "pd.DataFrame(data=new_XV,columns = new_vectorizer.get_feature_names()).sum(axis=0)[new_vocabulary - original_vocabulary]"
   ]
  },
  {
   "cell_type": "markdown",
   "metadata": {},
   "source": [
    "### (TODO) Build a new model\n",
    "\n",
    "Supposing that we believe something has changed about the underlying distribution of the words that our reviews are made up of, we need to create a new model. This way our new model will take into account whatever it is that has changed.\n",
    "\n",
    "To begin with, we will use the new vocabulary to create a bag of words encoding of the new data. We will then use this data to train a new XGBoost model.\n",
    "\n",
    "**NOTE:** Because we believe that the underlying distribution of words has changed it should follow that the original vocabulary that we used to construct a bag of words encoding of the reviews is no longer valid. This means that we need to be careful with our data. If we send an bag of words encoded review using the *original* vocabulary we should not expect any sort of meaningful results.\n",
    "\n",
    "In particular, this means that if we had deployed our XGBoost model like we did in the Web App notebook then we would need to implement this vocabulary change in the Lambda function as well."
   ]
  },
  {
   "cell_type": "code",
   "execution_count": 50,
   "metadata": {},
   "outputs": [],
   "source": [
    "new_XV = new_vectorizer.transform(new_X).toarray()"
   ]
  },
  {
   "cell_type": "markdown",
   "metadata": {},
   "source": [
    "And a quick check to make sure that the newly encoded reviews have the correct length, which should be the size of the new vocabulary which we created."
   ]
  },
  {
   "cell_type": "code",
   "execution_count": 59,
   "metadata": {},
   "outputs": [
    {
     "data": {
      "text/plain": [
       "5000"
      ]
     },
     "execution_count": 59,
     "metadata": {},
     "output_type": "execute_result"
    }
   ],
   "source": [
    "len(new_XV[0])"
   ]
  },
  {
   "cell_type": "markdown",
   "metadata": {},
   "source": [
    "Now that we have our newly encoded, newly collected data, we can split it up into a training and validation set so that we can train a new XGBoost model. As usual, we first split up the data, then save it locally and then upload it to S3."
   ]
  },
  {
   "cell_type": "code",
   "execution_count": 51,
   "metadata": {},
   "outputs": [],
   "source": [
    "import pandas as pd\n",
    "\n",
    "# Earlier we shuffled the training dataset so to make things simple we can just assign\n",
    "# the first 10 000 reviews to the validation set and use the remaining reviews for training.\n",
    "new_val_X = pd.DataFrame(new_XV[:10000])\n",
    "new_train_X = pd.DataFrame(new_XV[10000:])\n",
    "\n",
    "new_val_y = pd.DataFrame(new_Y[:10000])\n",
    "new_train_y = pd.DataFrame(new_Y[10000:])"
   ]
  },
  {
   "cell_type": "markdown",
   "metadata": {},
   "source": [
    "In order to save some memory we will effectively delete the `new_X` variable. Remember that this contained a list of reviews and each review was a list of words. Note that once this cell has been executed you will need to read the new data in again if you want to work with it."
   ]
  },
  {
   "cell_type": "code",
   "execution_count": 52,
   "metadata": {},
   "outputs": [],
   "source": [
    "new_X = None"
   ]
  },
  {
   "cell_type": "markdown",
   "metadata": {},
   "source": [
    "Next we save the new training and validation sets locally. Note that we overwrite the training and validation sets used earlier. This is mostly because the amount of space that we have available on our notebook instance is limited. Of course, you can increase this if you'd like but to do so may increase the cost of running the notebook instance."
   ]
  },
  {
   "cell_type": "code",
   "execution_count": 53,
   "metadata": {},
   "outputs": [],
   "source": [
    "pd.DataFrame(new_XV).to_csv(os.path.join(data_dir, 'new_data.csv'), header=False, index=False)\n"
   ]
  },
  {
   "cell_type": "code",
   "execution_count": 54,
   "metadata": {},
   "outputs": [],
   "source": [
    "pd.concat([new_val_y, new_val_X], axis=1).to_csv(os.path.join(data_dir, 'new_validation.csv'), header=False, index=False)\n"
   ]
  },
  {
   "cell_type": "code",
   "execution_count": 55,
   "metadata": {},
   "outputs": [],
   "source": [
    "pd.concat([new_train_y, new_train_X], axis=1).to_csv(os.path.join(data_dir, 'new_train.csv'), header=False, index=False)"
   ]
  },
  {
   "cell_type": "markdown",
   "metadata": {},
   "source": [
    "Now that we've saved our data to the local instance, we can safely delete the variables to save on memory."
   ]
  },
  {
   "cell_type": "code",
   "execution_count": 56,
   "metadata": {},
   "outputs": [],
   "source": [
    "new_val_y = new_val_X = new_train_y = new_train_X = new_XV = None"
   ]
  },
  {
   "cell_type": "markdown",
   "metadata": {},
   "source": [
    "Lastly, we make sure to upload the new training and validation sets to S3.\n",
    "\n",
    "**TODO:** Upload the new data as well as the new training and validation data sets to S3."
   ]
  },
  {
   "cell_type": "code",
   "execution_count": 57,
   "metadata": {},
   "outputs": [],
   "source": [
    "# TODO: Upload the new data and the new validation.csv and train.csv files in the data_dir directory to S3.\n",
    "new_data_location = session.upload_data(os.path.join(data_dir, 'new_data.csv'), key_prefix=prefix)\n"
   ]
  },
  {
   "cell_type": "code",
   "execution_count": 58,
   "metadata": {},
   "outputs": [],
   "source": [
    "new_val_location = session.upload_data(os.path.join(data_dir, 'new_validation.csv'), key_prefix=prefix)\n"
   ]
  },
  {
   "cell_type": "code",
   "execution_count": 59,
   "metadata": {},
   "outputs": [],
   "source": [
    "new_train_location = session.upload_data(os.path.join(data_dir, 'new_train.csv'), key_prefix=prefix)"
   ]
  },
  {
   "cell_type": "markdown",
   "metadata": {},
   "source": [
    "Once our new training data has been uploaded to S3, we can create a new XGBoost model that will take into account the changes that have occured in our data set.\n",
    "\n",
    "**TODO:** Create a new XGBoost estimator object."
   ]
  },
  {
   "cell_type": "code",
   "execution_count": 60,
   "metadata": {},
   "outputs": [
    {
     "name": "stderr",
     "output_type": "stream",
     "text": [
      "Parameter image_name will be renamed to image_uri in SageMaker Python SDK v2.\n"
     ]
    }
   ],
   "source": [
    "# TODO: First, create a SageMaker estimator object for our model.\n",
    "new_xgb = sagemaker.estimator.Estimator(container, # The location of the container we wish to use\n",
    "                                    role,                                    # What is our current IAM Role\n",
    "                                    train_instance_count=1,                  # How many compute instances\n",
    "                                    train_instance_type='ml.m4.xlarge',      # What kind of compute instances\n",
    "                                    output_path='s3://{}/{}/output'.format(session.default_bucket(), prefix),\n",
    "                                    sagemaker_session=session)\n",
    "\n",
    "# TODO: Then set the algorithm specific parameters. You may wish to use the same parameters that were\n",
    "#       used when training the original model.\n",
    "new_xgb.set_hyperparameters(max_depth=5,\n",
    "                        eta=0.2,\n",
    "                        gamma=4,\n",
    "                        min_child_weight=6,\n",
    "                        subsample=0.8,\n",
    "                        silent=0,\n",
    "                        objective='binary:logistic',\n",
    "                        early_stopping_rounds=10,\n",
    "                        num_round=500)"
   ]
  },
  {
   "cell_type": "code",
   "execution_count": 70,
   "metadata": {},
   "outputs": [
    {
     "data": {
      "text/plain": [
       "'s3://sagemaker-us-east-1-801008216402/sentiment-update/output'"
      ]
     },
     "execution_count": 70,
     "metadata": {},
     "output_type": "execute_result"
    }
   ],
   "source": [
    "new_xgb.output_path"
   ]
  },
  {
   "cell_type": "markdown",
   "metadata": {},
   "source": [
    "Once the model has been created, we can train it with our new data.\n",
    "\n",
    "**TODO:** Train the new XGBoost model."
   ]
  },
  {
   "cell_type": "code",
   "execution_count": 61,
   "metadata": {
    "scrolled": true
   },
   "outputs": [
    {
     "name": "stderr",
     "output_type": "stream",
     "text": [
      "'s3_input' class will be renamed to 'TrainingInput' in SageMaker Python SDK v2.\n",
      "'s3_input' class will be renamed to 'TrainingInput' in SageMaker Python SDK v2.\n"
     ]
    }
   ],
   "source": [
    "# TODO: First, make sure that you create s3 input objects so that SageMaker knows where to\n",
    "#       find the training and validation data.\n",
    "s3_new_input_train = sagemaker.s3_input(s3_data=new_train_location, content_type='csv')\n",
    "s3_new_input_validation = sagemaker.s3_input(s3_data=new_val_location, content_type='csv')"
   ]
  },
  {
   "cell_type": "code",
   "execution_count": null,
   "metadata": {
    "scrolled": true
   },
   "outputs": [
    {
     "name": "stdout",
     "output_type": "stream",
     "text": [
      "2022-02-07 08:48:44 Starting - Starting the training job...\n",
      "2022-02-07 08:48:45 Starting - Launching requested ML instances......\n",
      "2022-02-07 08:50:06 Starting - Preparing the instances for training..."
     ]
    }
   ],
   "source": [
    "# TODO: Using the new validation and training data, 'fit' your new model.\n",
    "new_xgb.fit({'train': s3_new_input_train, 'validation': s3_new_input_validation})"
   ]
  },
  {
   "cell_type": "markdown",
   "metadata": {},
   "source": [
    "### (TODO) Check the new model\n",
    "\n",
    "So now we have a new XGBoost model that we believe more accurately represents the state of the world at this time, at least in how it relates to the sentiment analysis problem that we are working on. The next step is to double check that our model is performing reasonably.\n",
    "\n",
    "To do this, we will first test our model on the new data.\n",
    "\n",
    "**Note:** In practice this is a pretty bad idea. We already trained our model on the new data, so testing it shouldn't really tell us much. In fact, this is sort of a textbook example of leakage. We are only doing it here so that we have a numerical baseline.\n",
    "\n",
    "**Question:** How might you address the leakage problem?"
   ]
  },
  {
   "cell_type": "markdown",
   "metadata": {},
   "source": [
    "First, we create a new transformer based on our new XGBoost model.\n",
    "\n",
    "**TODO:** Create a transformer object from the newly created XGBoost model."
   ]
  },
  {
   "cell_type": "code",
   "execution_count": 63,
   "metadata": {},
   "outputs": [
    {
     "name": "stderr",
     "output_type": "stream",
     "text": [
      "Parameter image will be renamed to image_uri in SageMaker Python SDK v2.\n"
     ]
    }
   ],
   "source": [
    "# TODO: Create a transformer object from the new_xgb model\n",
    "new_xgb_transformer = new_xgb.transformer(instance_count = 1, instance_type = 'ml.m4.xlarge')"
   ]
  },
  {
   "cell_type": "markdown",
   "metadata": {},
   "source": [
    "Next we test our model on the new data.\n",
    "\n",
    "**TODO:** Use the transformer object to transform the new data (stored in the `new_data_location` variable)"
   ]
  },
  {
   "cell_type": "code",
   "execution_count": 64,
   "metadata": {},
   "outputs": [],
   "source": [
    "# TODO: Using new_xgb_transformer, transform the new_data_location data. You may wish to\n",
    "#       'wait' for the transform job to finish.\n",
    "new_xgb_transformer.transform(new_data_location, content_type='text/csv', split_type='Line')"
   ]
  },
  {
   "cell_type": "code",
   "execution_count": 65,
   "metadata": {
    "scrolled": true
   },
   "outputs": [
    {
     "name": "stdout",
     "output_type": "stream",
     "text": [
      ".................................\u001b[34mArguments: serve\u001b[0m\n",
      "\u001b[34m[2022-02-07 09:18:38 +0000] [1] [INFO] Starting gunicorn 19.9.0\u001b[0m\n",
      "\u001b[34m[2022-02-07 09:18:38 +0000] [1] [INFO] Listening at: http://0.0.0.0:8080 (1)\u001b[0m\n",
      "\u001b[34m[2022-02-07 09:18:38 +0000] [1] [INFO] Using worker: gevent\u001b[0m\n",
      "\u001b[34m[2022-02-07 09:18:38 +0000] [21] [INFO] Booting worker with pid: 21\u001b[0m\n",
      "\u001b[34m[2022-02-07 09:18:38 +0000] [22] [INFO] Booting worker with pid: 22\u001b[0m\n",
      "\u001b[34m[2022-02-07 09:18:38 +0000] [23] [INFO] Booting worker with pid: 23\u001b[0m\n",
      "\u001b[34m[2022-02-07 09:18:38 +0000] [24] [INFO] Booting worker with pid: 24\u001b[0m\n",
      "\u001b[34m/opt/amazon/lib/python3.7/site-packages/gunicorn/workers/ggevent.py:65: MonkeyPatchWarning: Monkey-patching ssl after ssl has already been imported may lead to errors, including RecursionError on Python 3.6. It may also silently lead to incorrect behaviour on Python 3.7. Please monkey-patch earlier. See https://github.com/gevent/gevent/issues/1016. Modules that had direct imports (NOT patched): ['urllib3.util (/opt/amazon/lib/python3.7/site-packages/urllib3/util/__init__.py)', 'urllib3.util.ssl_ (/opt/amazon/lib/python3.7/site-packages/urllib3/util/ssl_.py)']. \n",
      "  monkey.patch_all(subprocess=True)\u001b[0m\n",
      "\u001b[34m[2022-02-07:09:18:38:INFO] Model loaded successfully for worker : 21\u001b[0m\n",
      "\u001b[34m/opt/amazon/lib/python3.7/site-packages/gunicorn/workers/ggevent.py:65: MonkeyPatchWarning: Monkey-patching ssl after ssl has already been imported may lead to errors, including RecursionError on Python 3.6. It may also silently lead to incorrect behaviour on Python 3.7. Please monkey-patch earlier. See https://github.com/gevent/gevent/issues/1016. Modules that had direct imports (NOT patched): ['urllib3.util (/opt/amazon/lib/python3.7/site-packages/urllib3/util/__init__.py)', 'urllib3.util.ssl_ (/opt/amazon/lib/python3.7/site-packages/urllib3/util/ssl_.py)']. \n",
      "  monkey.patch_all(subprocess=True)\u001b[0m\n",
      "\u001b[34m[2022-02-07:09:18:38:INFO] Model loaded successfully for worker : 22\u001b[0m\n",
      "\u001b[34m/opt/amazon/lib/python3.7/site-packages/gunicorn/workers/ggevent.py:65: MonkeyPatchWarning: Monkey-patching ssl after ssl has already been imported may lead to errors, including RecursionError on Python 3.6. It may also silently lead to incorrect behaviour on Python 3.7. Please monkey-patch earlier. See https://github.com/gevent/gevent/issues/1016. Modules that had direct imports (NOT patched): ['urllib3.util (/opt/amazon/lib/python3.7/site-packages/urllib3/util/__init__.py)', 'urllib3.util.ssl_ (/opt/amazon/lib/python3.7/site-packages/urllib3/util/ssl_.py)']. \n",
      "  monkey.patch_all(subprocess=True)\u001b[0m\n",
      "\u001b[34m[2022-02-07:09:18:38:INFO] Model loaded successfully for worker : 23\u001b[0m\n",
      "\u001b[34m/opt/amazon/lib/python3.7/site-packages/gunicorn/workers/ggevent.py:65: MonkeyPatchWarning: Monkey-patching ssl after ssl has already been imported may lead to errors, including RecursionError on Python 3.6. It may also silently lead to incorrect behaviour on Python 3.7. Please monkey-patch earlier. See https://github.com/gevent/gevent/issues/1016. Modules that had direct imports (NOT patched): ['urllib3.util (/opt/amazon/lib/python3.7/site-packages/urllib3/util/__init__.py)', 'urllib3.util.ssl_ (/opt/amazon/lib/python3.7/site-packages/urllib3/util/ssl_.py)']. \n",
      "  monkey.patch_all(subprocess=True)\u001b[0m\n",
      "\u001b[34m[2022-02-07:09:18:38:INFO] Model loaded successfully for worker : 24\u001b[0m\n",
      "\u001b[34m[2022-02-07:09:18:45:INFO] Sniff delimiter as ','\u001b[0m\n",
      "\u001b[34m[2022-02-07:09:18:45:INFO] Determined delimiter of CSV input is ','\u001b[0m\n",
      "\u001b[34m[2022-02-07:09:18:46:INFO] Sniff delimiter as ','\u001b[0m\n",
      "\u001b[34m[2022-02-07:09:18:46:INFO] Determined delimiter of CSV input is ','\u001b[0m\n",
      "\u001b[34m[2022-02-07:09:18:46:INFO] Sniff delimiter as ','\u001b[0m\n",
      "\u001b[34m[2022-02-07:09:18:46:INFO] Determined delimiter of CSV input is ','\u001b[0m\n",
      "\u001b[35m[2022-02-07:09:18:45:INFO] Sniff delimiter as ','\u001b[0m\n",
      "\u001b[35m[2022-02-07:09:18:45:INFO] Determined delimiter of CSV input is ','\u001b[0m\n",
      "\u001b[35m[2022-02-07:09:18:46:INFO] Sniff delimiter as ','\u001b[0m\n",
      "\u001b[35m[2022-02-07:09:18:46:INFO] Determined delimiter of CSV input is ','\u001b[0m\n",
      "\u001b[35m[2022-02-07:09:18:46:INFO] Sniff delimiter as ','\u001b[0m\n",
      "\u001b[35m[2022-02-07:09:18:46:INFO] Determined delimiter of CSV input is ','\u001b[0m\n",
      "\u001b[32m2022-02-07T09:18:42.613:[sagemaker logs]: MaxConcurrentTransforms=4, MaxPayloadInMB=6, BatchStrategy=MULTI_RECORD\u001b[0m\n",
      "\u001b[34m[2022-02-07:09:18:48:INFO] Sniff delimiter as ','\u001b[0m\n",
      "\u001b[34m[2022-02-07:09:18:48:INFO] Determined delimiter of CSV input is ','\u001b[0m\n",
      "\u001b[35m[2022-02-07:09:18:48:INFO] Sniff delimiter as ','\u001b[0m\n",
      "\u001b[35m[2022-02-07:09:18:48:INFO] Determined delimiter of CSV input is ','\u001b[0m\n",
      "\u001b[34m[2022-02-07:09:18:49:INFO] Sniff delimiter as ','\u001b[0m\n",
      "\u001b[34m[2022-02-07:09:18:49:INFO] Determined delimiter of CSV input is ','\u001b[0m\n",
      "\u001b[34m[2022-02-07:09:18:49:INFO] Sniff delimiter as ','\u001b[0m\n",
      "\u001b[34m[2022-02-07:09:18:49:INFO] Determined delimiter of CSV input is ','\u001b[0m\n",
      "\u001b[34m[2022-02-07:09:18:50:INFO] Sniff delimiter as ','\u001b[0m\n",
      "\u001b[34m[2022-02-07:09:18:50:INFO] Determined delimiter of CSV input is ','\u001b[0m\n",
      "\u001b[35m[2022-02-07:09:18:49:INFO] Sniff delimiter as ','\u001b[0m\n",
      "\u001b[35m[2022-02-07:09:18:49:INFO] Determined delimiter of CSV input is ','\u001b[0m\n",
      "\u001b[35m[2022-02-07:09:18:49:INFO] Sniff delimiter as ','\u001b[0m\n",
      "\u001b[35m[2022-02-07:09:18:49:INFO] Determined delimiter of CSV input is ','\u001b[0m\n",
      "\u001b[35m[2022-02-07:09:18:50:INFO] Sniff delimiter as ','\u001b[0m\n",
      "\u001b[35m[2022-02-07:09:18:50:INFO] Determined delimiter of CSV input is ','\u001b[0m\n",
      "\u001b[34m[2022-02-07:09:18:52:INFO] Sniff delimiter as ','\u001b[0m\n",
      "\u001b[35m[2022-02-07:09:18:52:INFO] Sniff delimiter as ','\u001b[0m\n",
      "\u001b[34m[2022-02-07:09:18:52:INFO] Determined delimiter of CSV input is ','\u001b[0m\n",
      "\u001b[34m[2022-02-07:09:18:53:INFO] Sniff delimiter as ','\u001b[0m\n",
      "\u001b[34m[2022-02-07:09:18:53:INFO] Determined delimiter of CSV input is ','\u001b[0m\n",
      "\u001b[34m[2022-02-07:09:18:53:INFO] Sniff delimiter as ','\u001b[0m\n",
      "\u001b[34m[2022-02-07:09:18:53:INFO] Determined delimiter of CSV input is ','\u001b[0m\n",
      "\u001b[35m[2022-02-07:09:18:52:INFO] Determined delimiter of CSV input is ','\u001b[0m\n",
      "\u001b[35m[2022-02-07:09:18:53:INFO] Sniff delimiter as ','\u001b[0m\n",
      "\u001b[35m[2022-02-07:09:18:53:INFO] Determined delimiter of CSV input is ','\u001b[0m\n",
      "\u001b[35m[2022-02-07:09:18:53:INFO] Sniff delimiter as ','\u001b[0m\n",
      "\u001b[35m[2022-02-07:09:18:53:INFO] Determined delimiter of CSV input is ','\u001b[0m\n",
      "\u001b[34m[2022-02-07:09:18:54:INFO] Sniff delimiter as ','\u001b[0m\n",
      "\u001b[34m[2022-02-07:09:18:54:INFO] Determined delimiter of CSV input is ','\u001b[0m\n",
      "\u001b[35m[2022-02-07:09:18:54:INFO] Sniff delimiter as ','\u001b[0m\n",
      "\u001b[35m[2022-02-07:09:18:54:INFO] Determined delimiter of CSV input is ','\u001b[0m\n",
      "\u001b[34m[2022-02-07:09:18:56:INFO] Sniff delimiter as ','\u001b[0m\n",
      "\u001b[34m[2022-02-07:09:18:56:INFO] Determined delimiter of CSV input is ','\u001b[0m\n",
      "\u001b[35m[2022-02-07:09:18:56:INFO] Sniff delimiter as ','\u001b[0m\n",
      "\u001b[35m[2022-02-07:09:18:56:INFO] Determined delimiter of CSV input is ','\u001b[0m\n",
      "\u001b[34m[2022-02-07:09:18:56:INFO] Sniff delimiter as ','\u001b[0m\n",
      "\u001b[34m[2022-02-07:09:18:56:INFO] Determined delimiter of CSV input is ','\u001b[0m\n",
      "\u001b[34m[2022-02-07:09:18:56:INFO] Sniff delimiter as ','\u001b[0m\n",
      "\u001b[34m[2022-02-07:09:18:56:INFO] Determined delimiter of CSV input is ','\u001b[0m\n",
      "\u001b[35m[2022-02-07:09:18:56:INFO] Sniff delimiter as ','\u001b[0m\n",
      "\u001b[35m[2022-02-07:09:18:56:INFO] Determined delimiter of CSV input is ','\u001b[0m\n",
      "\u001b[35m[2022-02-07:09:18:56:INFO] Sniff delimiter as ','\u001b[0m\n",
      "\u001b[35m[2022-02-07:09:18:56:INFO] Determined delimiter of CSV input is ','\u001b[0m\n",
      "\u001b[34m[2022-02-07:09:19:01:INFO] Sniff delimiter as ','\u001b[0m\n",
      "\u001b[34m[2022-02-07:09:19:01:INFO] Determined delimiter of CSV input is ','\u001b[0m\n",
      "\u001b[34m[2022-02-07:09:19:01:INFO] Sniff delimiter as ','\u001b[0m\n",
      "\u001b[34m[2022-02-07:09:19:01:INFO] Determined delimiter of CSV input is ','\u001b[0m\n",
      "\u001b[35m[2022-02-07:09:19:01:INFO] Sniff delimiter as ','\u001b[0m\n",
      "\u001b[35m[2022-02-07:09:19:01:INFO] Determined delimiter of CSV input is ','\u001b[0m\n",
      "\u001b[35m[2022-02-07:09:19:01:INFO] Sniff delimiter as ','\u001b[0m\n",
      "\u001b[35m[2022-02-07:09:19:01:INFO] Determined delimiter of CSV input is ','\u001b[0m\n",
      "\u001b[34m[2022-02-07:09:19:03:INFO] Sniff delimiter as ','\u001b[0m\n",
      "\u001b[34m[2022-02-07:09:19:03:INFO] Determined delimiter of CSV input is ','\u001b[0m\n",
      "\u001b[34m[2022-02-07:09:19:03:INFO] Sniff delimiter as ','\u001b[0m\n",
      "\u001b[34m[2022-02-07:09:19:03:INFO] Determined delimiter of CSV input is ','\u001b[0m\n",
      "\u001b[35m[2022-02-07:09:19:03:INFO] Sniff delimiter as ','\u001b[0m\n",
      "\u001b[35m[2022-02-07:09:19:03:INFO] Determined delimiter of CSV input is ','\u001b[0m\n",
      "\u001b[35m[2022-02-07:09:19:03:INFO] Sniff delimiter as ','\u001b[0m\n",
      "\u001b[35m[2022-02-07:09:19:03:INFO] Determined delimiter of CSV input is ','\u001b[0m\n",
      "\u001b[34m[2022-02-07:09:19:05:INFO] Sniff delimiter as ','\u001b[0m\n",
      "\u001b[34m[2022-02-07:09:19:05:INFO] Determined delimiter of CSV input is ','\u001b[0m\n",
      "\u001b[34m[2022-02-07:09:19:05:INFO] Sniff delimiter as ','\u001b[0m\n",
      "\u001b[34m[2022-02-07:09:19:05:INFO] Determined delimiter of CSV input is ','\u001b[0m\n",
      "\u001b[35m[2022-02-07:09:19:05:INFO] Sniff delimiter as ','\u001b[0m\n",
      "\u001b[35m[2022-02-07:09:19:05:INFO] Determined delimiter of CSV input is ','\u001b[0m\n",
      "\u001b[35m[2022-02-07:09:19:05:INFO] Sniff delimiter as ','\u001b[0m\n",
      "\u001b[35m[2022-02-07:09:19:05:INFO] Determined delimiter of CSV input is ','\u001b[0m\n",
      "\u001b[34m[2022-02-07:09:19:07:INFO] Sniff delimiter as ','\u001b[0m\n",
      "\u001b[34m[2022-02-07:09:19:07:INFO] Determined delimiter of CSV input is ','\u001b[0m\n",
      "\u001b[34m[2022-02-07:09:19:07:INFO] Sniff delimiter as ','\u001b[0m\n",
      "\u001b[34m[2022-02-07:09:19:07:INFO] Determined delimiter of CSV input is ','\u001b[0m\n",
      "\u001b[35m[2022-02-07:09:19:07:INFO] Sniff delimiter as ','\u001b[0m\n",
      "\u001b[35m[2022-02-07:09:19:07:INFO] Determined delimiter of CSV input is ','\u001b[0m\n",
      "\u001b[35m[2022-02-07:09:19:07:INFO] Sniff delimiter as ','\u001b[0m\n",
      "\u001b[35m[2022-02-07:09:19:07:INFO] Determined delimiter of CSV input is ','\u001b[0m\n",
      "\u001b[34m[2022-02-07:09:19:08:INFO] Sniff delimiter as ','\u001b[0m\n",
      "\u001b[34m[2022-02-07:09:19:08:INFO] Determined delimiter of CSV input is ','\u001b[0m\n",
      "\u001b[34m[2022-02-07:09:19:09:INFO] Sniff delimiter as ','\u001b[0m\n",
      "\u001b[34m[2022-02-07:09:19:09:INFO] Determined delimiter of CSV input is ','\u001b[0m\n",
      "\u001b[35m[2022-02-07:09:19:08:INFO] Sniff delimiter as ','\u001b[0m\n",
      "\u001b[35m[2022-02-07:09:19:08:INFO] Determined delimiter of CSV input is ','\u001b[0m\n",
      "\u001b[35m[2022-02-07:09:19:09:INFO] Sniff delimiter as ','\u001b[0m\n",
      "\u001b[35m[2022-02-07:09:19:09:INFO] Determined delimiter of CSV input is ','\u001b[0m\n"
     ]
    },
    {
     "name": "stdout",
     "output_type": "stream",
     "text": [
      "\u001b[34m[2022-02-07:09:19:12:INFO] Sniff delimiter as ','\u001b[0m\n",
      "\u001b[34m[2022-02-07:09:19:12:INFO] Determined delimiter of CSV input is ','\u001b[0m\n",
      "\u001b[34m[2022-02-07:09:19:12:INFO] Sniff delimiter as ','\u001b[0m\n",
      "\u001b[34m[2022-02-07:09:19:12:INFO] Determined delimiter of CSV input is ','\u001b[0m\n",
      "\u001b[35m[2022-02-07:09:19:12:INFO] Sniff delimiter as ','\u001b[0m\n",
      "\u001b[35m[2022-02-07:09:19:12:INFO] Determined delimiter of CSV input is ','\u001b[0m\n",
      "\u001b[35m[2022-02-07:09:19:12:INFO] Sniff delimiter as ','\u001b[0m\n",
      "\u001b[35m[2022-02-07:09:19:12:INFO] Determined delimiter of CSV input is ','\u001b[0m\n",
      "\u001b[34m[2022-02-07:09:19:14:INFO] Sniff delimiter as ','\u001b[0m\n",
      "\u001b[34m[2022-02-07:09:19:14:INFO] Determined delimiter of CSV input is ','\u001b[0m\n",
      "\u001b[35m[2022-02-07:09:19:14:INFO] Sniff delimiter as ','\u001b[0m\n",
      "\u001b[35m[2022-02-07:09:19:14:INFO] Determined delimiter of CSV input is ','\u001b[0m\n",
      "\u001b[34m[2022-02-07:09:19:14:INFO] Sniff delimiter as ','\u001b[0m\n",
      "\u001b[34m[2022-02-07:09:19:14:INFO] Determined delimiter of CSV input is ','\u001b[0m\n",
      "\u001b[34m[2022-02-07:09:19:14:INFO] Sniff delimiter as ','\u001b[0m\n",
      "\u001b[34m[2022-02-07:09:19:14:INFO] Determined delimiter of CSV input is ','\u001b[0m\n",
      "\u001b[35m[2022-02-07:09:19:14:INFO] Sniff delimiter as ','\u001b[0m\n",
      "\u001b[35m[2022-02-07:09:19:14:INFO] Determined delimiter of CSV input is ','\u001b[0m\n",
      "\u001b[35m[2022-02-07:09:19:14:INFO] Sniff delimiter as ','\u001b[0m\n",
      "\u001b[35m[2022-02-07:09:19:14:INFO] Determined delimiter of CSV input is ','\u001b[0m\n",
      "\u001b[34m[2022-02-07:09:19:19:INFO] Sniff delimiter as ','\u001b[0m\n",
      "\u001b[34m[2022-02-07:09:19:19:INFO] Determined delimiter of CSV input is ','\u001b[0m\n",
      "\u001b[34m[2022-02-07:09:19:19:INFO] Sniff delimiter as ','\u001b[0m\n",
      "\u001b[34m[2022-02-07:09:19:19:INFO] Determined delimiter of CSV input is ','\u001b[0m\n",
      "\u001b[35m[2022-02-07:09:19:19:INFO] Sniff delimiter as ','\u001b[0m\n",
      "\u001b[35m[2022-02-07:09:19:19:INFO] Determined delimiter of CSV input is ','\u001b[0m\n",
      "\u001b[35m[2022-02-07:09:19:19:INFO] Sniff delimiter as ','\u001b[0m\n",
      "\u001b[35m[2022-02-07:09:19:19:INFO] Determined delimiter of CSV input is ','\u001b[0m\n",
      "\u001b[34m[2022-02-07:09:19:21:INFO] Sniff delimiter as ','\u001b[0m\n",
      "\u001b[34m[2022-02-07:09:19:21:INFO] Determined delimiter of CSV input is ','\u001b[0m\n",
      "\u001b[34m[2022-02-07:09:19:21:INFO] Sniff delimiter as ','\u001b[0m\n",
      "\u001b[34m[2022-02-07:09:19:21:INFO] Determined delimiter of CSV input is ','\u001b[0m\n",
      "\u001b[35m[2022-02-07:09:19:21:INFO] Sniff delimiter as ','\u001b[0m\n",
      "\u001b[35m[2022-02-07:09:19:21:INFO] Determined delimiter of CSV input is ','\u001b[0m\n",
      "\u001b[35m[2022-02-07:09:19:21:INFO] Sniff delimiter as ','\u001b[0m\n",
      "\u001b[35m[2022-02-07:09:19:21:INFO] Determined delimiter of CSV input is ','\u001b[0m\n",
      "\u001b[34m[2022-02-07:09:19:23:INFO] Sniff delimiter as ','\u001b[0m\n",
      "\u001b[34m[2022-02-07:09:19:23:INFO] Determined delimiter of CSV input is ','\u001b[0m\n",
      "\u001b[35m[2022-02-07:09:19:23:INFO] Sniff delimiter as ','\u001b[0m\n",
      "\u001b[35m[2022-02-07:09:19:23:INFO] Determined delimiter of CSV input is ','\u001b[0m\n",
      "\n"
     ]
    }
   ],
   "source": [
    "new_xgb_transformer.wait()"
   ]
  },
  {
   "cell_type": "code",
   "execution_count": null,
   "metadata": {},
   "outputs": [],
   "source": [
    "new_xgb_transformer.output_path"
   ]
  },
  {
   "cell_type": "markdown",
   "metadata": {},
   "source": [
    "Copy the results to our local instance."
   ]
  },
  {
   "cell_type": "code",
   "execution_count": 66,
   "metadata": {},
   "outputs": [
    {
     "name": "stdout",
     "output_type": "stream",
     "text": [
      "download: s3://sagemaker-us-east-1-801008216402/xgboost-2022-02-07-09-13-13-675/new_data.csv.out to ../data/sentiment_update/new_data.csv.out\n"
     ]
    }
   ],
   "source": [
    "!aws s3 cp --recursive $new_xgb_transformer.output_path $data_dir"
   ]
  },
  {
   "cell_type": "markdown",
   "metadata": {},
   "source": [
    "And see how well the model did."
   ]
  },
  {
   "cell_type": "code",
   "execution_count": 67,
   "metadata": {},
   "outputs": [],
   "source": [
    "predictions = pd.read_csv(os.path.join(data_dir, 'new_data.csv.out'), header=None)\n",
    "predictions = [round(num) for num in predictions.squeeze().values]"
   ]
  },
  {
   "cell_type": "code",
   "execution_count": 68,
   "metadata": {},
   "outputs": [
    {
     "data": {
      "text/plain": [
       "0.84676"
      ]
     },
     "execution_count": 68,
     "metadata": {},
     "output_type": "execute_result"
    }
   ],
   "source": [
    "accuracy_score(new_Y, predictions)"
   ]
  },
  {
   "cell_type": "markdown",
   "metadata": {},
   "source": [
    "As expected, since we trained the model on this data, our model performs pretty well. So, we have reason to believe that our new XGBoost model is a \"better\" model.\n",
    "\n",
    "However, before we start changing our deployed model, we should first make sure that our new model isn't too different. In other words, if our new model performed really poorly on the original test data then this might be an indication that something else has gone wrong.\n",
    "\n",
    "To start with, since we got rid of the variable that stored the original test reviews, we will read them in again from the cache that we created in Step 3. Note that we need to make sure that we read in the original test data after it has been pre-processed with `nltk` but before it has been bag of words encoded. This is because we need to use the new vocabulary instead of the original one."
   ]
  },
  {
   "cell_type": "code",
   "execution_count": 69,
   "metadata": {},
   "outputs": [
    {
     "name": "stdout",
     "output_type": "stream",
     "text": [
      "Read preprocessed data from cache file: preprocessed_data.pkl\n"
     ]
    }
   ],
   "source": [
    "cache_data = None\n",
    "with open(os.path.join(cache_dir, \"preprocessed_data.pkl\"), \"rb\") as f:\n",
    "            cache_data = pickle.load(f)\n",
    "            print(\"Read preprocessed data from cache file:\", \"preprocessed_data.pkl\")\n",
    "            \n",
    "test_X = cache_data['words_test']\n",
    "test_Y = cache_data['labels_test']\n",
    "\n",
    "# Here we set cache_data to None so that it doesn't occupy memory\n",
    "cache_data = None"
   ]
  },
  {
   "cell_type": "markdown",
   "metadata": {},
   "source": [
    "Once we've loaded the original test reviews, we need to create a bag of words encoding of them using the new vocabulary that we created, based on the new data.\n",
    "\n",
    "**TODO:** Transform the original test data using the new vocabulary."
   ]
  },
  {
   "cell_type": "code",
   "execution_count": 70,
   "metadata": {},
   "outputs": [],
   "source": [
    "# TODO: Use the new_vectorizer object that you created earlier to transform the test_X data.\n",
    "test_X = new_vectorizer.transform(test_X).toarray()"
   ]
  },
  {
   "cell_type": "markdown",
   "metadata": {},
   "source": [
    "Now that we have correctly encoded the original test data, we can write it to the local instance, upload it to S3 and test it."
   ]
  },
  {
   "cell_type": "code",
   "execution_count": 71,
   "metadata": {},
   "outputs": [],
   "source": [
    "pd.DataFrame(test_X).to_csv(os.path.join(data_dir, 'test.csv'), header=False, index=False)"
   ]
  },
  {
   "cell_type": "code",
   "execution_count": 72,
   "metadata": {},
   "outputs": [],
   "source": [
    "test_location = session.upload_data(os.path.join(data_dir, 'test.csv'), key_prefix=prefix)"
   ]
  },
  {
   "cell_type": "code",
   "execution_count": 73,
   "metadata": {
    "scrolled": true
   },
   "outputs": [
    {
     "name": "stdout",
     "output_type": "stream",
     "text": [
      ".................................\u001b[34mArguments: serve\u001b[0m\n",
      "\u001b[34m[2022-02-07 09:27:50 +0000] [1] [INFO] Starting gunicorn 19.9.0\u001b[0m\n",
      "\u001b[34m[2022-02-07 09:27:50 +0000] [1] [INFO] Listening at: http://0.0.0.0:8080 (1)\u001b[0m\n",
      "\u001b[34m[2022-02-07 09:27:50 +0000] [1] [INFO] Using worker: gevent\u001b[0m\n",
      "\u001b[34m[2022-02-07 09:27:50 +0000] [21] [INFO] Booting worker with pid: 21\u001b[0m\n",
      "\u001b[34m/opt/amazon/lib/python3.7/site-packages/gunicorn/workers/ggevent.py:65: MonkeyPatchWarning: Monkey-patching ssl after ssl has already been imported may lead to errors, including RecursionError on Python 3.6. It may also silently lead to incorrect behaviour on Python 3.7. Please monkey-patch earlier. See https://github.com/gevent/gevent/issues/1016. Modules that had direct imports (NOT patched): ['urllib3.util (/opt/amazon/lib/python3.7/site-packages/urllib3/util/__init__.py)', 'urllib3.util.ssl_ (/opt/amazon/lib/python3.7/site-packages/urllib3/util/ssl_.py)']. \n",
      "  monkey.patch_all(subprocess=True)\u001b[0m\n",
      "\u001b[34m[2022-02-07:09:27:50:INFO] Model loaded successfully for worker : 21\u001b[0m\n",
      "\u001b[34m[2022-02-07 09:27:50 +0000] [22] [INFO] Booting worker with pid: 22\u001b[0m\n",
      "\u001b[34m/opt/amazon/lib/python3.7/site-packages/gunicorn/workers/ggevent.py:65: MonkeyPatchWarning: Monkey-patching ssl after ssl has already been imported may lead to errors, including RecursionError on Python 3.6. It may also silently lead to incorrect behaviour on Python 3.7. Please monkey-patch earlier. See https://github.com/gevent/gevent/issues/1016. Modules that had direct imports (NOT patched): ['urllib3.util (/opt/amazon/lib/python3.7/site-packages/urllib3/util/__init__.py)', 'urllib3.util.ssl_ (/opt/amazon/lib/python3.7/site-packages/urllib3/util/ssl_.py)']. \n",
      "  monkey.patch_all(subprocess=True)\u001b[0m\n",
      "\u001b[34m[2022-02-07:09:27:50:INFO] Model loaded successfully for worker : 22\u001b[0m\n",
      "\u001b[34m[2022-02-07 09:27:50 +0000] [23] [INFO] Booting worker with pid: 23\u001b[0m\n",
      "\u001b[34m[2022-02-07 09:27:50 +0000] [24] [INFO] Booting worker with pid: 24\u001b[0m\n",
      "\u001b[34m/opt/amazon/lib/python3.7/site-packages/gunicorn/workers/ggevent.py:65: MonkeyPatchWarning: Monkey-patching ssl after ssl has already been imported may lead to errors, including RecursionError on Python 3.6. It may also silently lead to incorrect behaviour on Python 3.7. Please monkey-patch earlier. See https://github.com/gevent/gevent/issues/1016. Modules that had direct imports (NOT patched): ['urllib3.util (/opt/amazon/lib/python3.7/site-packages/urllib3/util/__init__.py)', 'urllib3.util.ssl_ (/opt/amazon/lib/python3.7/site-packages/urllib3/util/ssl_.py)']. \n",
      "  monkey.patch_all(subprocess=True)\u001b[0m\n",
      "\u001b[34m[2022-02-07:09:27:50:INFO] Model loaded successfully for worker : 23\u001b[0m\n",
      "\u001b[34m/opt/amazon/lib/python3.7/site-packages/gunicorn/workers/ggevent.py:65: MonkeyPatchWarning: Monkey-patching ssl after ssl has already been imported may lead to errors, including RecursionError on Python 3.6. It may also silently lead to incorrect behaviour on Python 3.7. Please monkey-patch earlier. See https://github.com/gevent/gevent/issues/1016. Modules that had direct imports (NOT patched): ['urllib3.util (/opt/amazon/lib/python3.7/site-packages/urllib3/util/__init__.py)', 'urllib3.util.ssl_ (/opt/amazon/lib/python3.7/site-packages/urllib3/util/ssl_.py)']. \n",
      "  monkey.patch_all(subprocess=True)\u001b[0m\n",
      "\u001b[34m[2022-02-07:09:27:50:INFO] Model loaded successfully for worker : 24\u001b[0m\n",
      "\u001b[34m[2022-02-07:09:27:58:INFO] Sniff delimiter as ','\u001b[0m\n",
      "\u001b[34m[2022-02-07:09:27:58:INFO] Determined delimiter of CSV input is ','\u001b[0m\n",
      "\u001b[35m[2022-02-07:09:27:58:INFO] Sniff delimiter as ','\u001b[0m\n",
      "\u001b[35m[2022-02-07:09:27:58:INFO] Determined delimiter of CSV input is ','\u001b[0m\n",
      "\u001b[32m2022-02-07T09:27:54.111:[sagemaker logs]: MaxConcurrentTransforms=4, MaxPayloadInMB=6, BatchStrategy=MULTI_RECORD\u001b[0m\n",
      "\u001b[34m[2022-02-07:09:27:58:INFO] Sniff delimiter as ','\u001b[0m\n",
      "\u001b[34m[2022-02-07:09:27:58:INFO] Determined delimiter of CSV input is ','\u001b[0m\n",
      "\u001b[35m[2022-02-07:09:27:58:INFO] Sniff delimiter as ','\u001b[0m\n",
      "\u001b[35m[2022-02-07:09:27:58:INFO] Determined delimiter of CSV input is ','\u001b[0m\n",
      "\u001b[34m[2022-02-07:09:27:58:INFO] Sniff delimiter as ','\u001b[0m\n",
      "\u001b[34m[2022-02-07:09:27:58:INFO] Determined delimiter of CSV input is ','\u001b[0m\n",
      "\u001b[34m[2022-02-07:09:27:58:INFO] Sniff delimiter as ','\u001b[0m\n",
      "\u001b[34m[2022-02-07:09:27:58:INFO] Determined delimiter of CSV input is ','\u001b[0m\n",
      "\u001b[35m[2022-02-07:09:27:58:INFO] Sniff delimiter as ','\u001b[0m\n",
      "\u001b[35m[2022-02-07:09:27:58:INFO] Determined delimiter of CSV input is ','\u001b[0m\n",
      "\u001b[35m[2022-02-07:09:27:58:INFO] Sniff delimiter as ','\u001b[0m\n",
      "\u001b[35m[2022-02-07:09:27:58:INFO] Determined delimiter of CSV input is ','\u001b[0m\n",
      "\u001b[34m[2022-02-07:09:28:02:INFO] Sniff delimiter as ','\u001b[0m\n",
      "\u001b[34m[2022-02-07:09:28:02:INFO] Determined delimiter of CSV input is ','\u001b[0m\n",
      "\u001b[34m[2022-02-07:09:28:02:INFO] Sniff delimiter as ','\u001b[0m\n",
      "\u001b[34m[2022-02-07:09:28:02:INFO] Determined delimiter of CSV input is ','\u001b[0m\n",
      "\u001b[34m[2022-02-07:09:28:02:INFO] Sniff delimiter as ','\u001b[0m\n",
      "\u001b[34m[2022-02-07:09:28:02:INFO] Determined delimiter of CSV input is ','\u001b[0m\n",
      "\u001b[35m[2022-02-07:09:28:02:INFO] Sniff delimiter as ','\u001b[0m\n",
      "\u001b[35m[2022-02-07:09:28:02:INFO] Determined delimiter of CSV input is ','\u001b[0m\n",
      "\u001b[35m[2022-02-07:09:28:02:INFO] Sniff delimiter as ','\u001b[0m\n",
      "\u001b[35m[2022-02-07:09:28:02:INFO] Determined delimiter of CSV input is ','\u001b[0m\n",
      "\u001b[35m[2022-02-07:09:28:02:INFO] Sniff delimiter as ','\u001b[0m\n",
      "\u001b[35m[2022-02-07:09:28:02:INFO] Determined delimiter of CSV input is ','\u001b[0m\n",
      "\u001b[34m[2022-02-07:09:28:02:INFO] Sniff delimiter as ','\u001b[0m\n",
      "\u001b[34m[2022-02-07:09:28:02:INFO] Determined delimiter of CSV input is ','\u001b[0m\n",
      "\u001b[35m[2022-02-07:09:28:02:INFO] Sniff delimiter as ','\u001b[0m\n",
      "\u001b[35m[2022-02-07:09:28:02:INFO] Determined delimiter of CSV input is ','\u001b[0m\n",
      "\u001b[34m[2022-02-07:09:28:06:INFO] Sniff delimiter as ','\u001b[0m\n",
      "\u001b[34m[2022-02-07:09:28:06:INFO] Determined delimiter of CSV input is ','\u001b[0m\n",
      "\u001b[34m[2022-02-07:09:28:06:INFO] Sniff delimiter as ','\u001b[0m\n",
      "\u001b[34m[2022-02-07:09:28:06:INFO] Determined delimiter of CSV input is ','\u001b[0m\n",
      "\u001b[34m[2022-02-07:09:28:06:INFO] Sniff delimiter as ','\u001b[0m\n",
      "\u001b[34m[2022-02-07:09:28:06:INFO] Determined delimiter of CSV input is ','\u001b[0m\n",
      "\u001b[35m[2022-02-07:09:28:06:INFO] Sniff delimiter as ','\u001b[0m\n",
      "\u001b[35m[2022-02-07:09:28:06:INFO] Determined delimiter of CSV input is ','\u001b[0m\n",
      "\u001b[35m[2022-02-07:09:28:06:INFO] Sniff delimiter as ','\u001b[0m\n",
      "\u001b[35m[2022-02-07:09:28:06:INFO] Determined delimiter of CSV input is ','\u001b[0m\n",
      "\u001b[35m[2022-02-07:09:28:06:INFO] Sniff delimiter as ','\u001b[0m\n",
      "\u001b[35m[2022-02-07:09:28:06:INFO] Determined delimiter of CSV input is ','\u001b[0m\n",
      "\u001b[34m[2022-02-07:09:28:06:INFO] Sniff delimiter as ','\u001b[0m\n",
      "\u001b[34m[2022-02-07:09:28:06:INFO] Determined delimiter of CSV input is ','\u001b[0m\n",
      "\u001b[35m[2022-02-07:09:28:06:INFO] Sniff delimiter as ','\u001b[0m\n",
      "\u001b[35m[2022-02-07:09:28:06:INFO] Determined delimiter of CSV input is ','\u001b[0m\n",
      "\u001b[34m[2022-02-07:09:28:10:INFO] Sniff delimiter as ','\u001b[0m\n",
      "\u001b[34m[2022-02-07:09:28:10:INFO] Determined delimiter of CSV input is ','\u001b[0m\n",
      "\u001b[34m[2022-02-07:09:28:10:INFO] Sniff delimiter as ','\u001b[0m\n",
      "\u001b[34m[2022-02-07:09:28:10:INFO] Determined delimiter of CSV input is ','\u001b[0m\n",
      "\u001b[34m[2022-02-07:09:28:10:INFO] Sniff delimiter as ','\u001b[0m\n",
      "\u001b[34m[2022-02-07:09:28:10:INFO] Determined delimiter of CSV input is ','\u001b[0m\n",
      "\u001b[35m[2022-02-07:09:28:10:INFO] Sniff delimiter as ','\u001b[0m\n",
      "\u001b[35m[2022-02-07:09:28:10:INFO] Determined delimiter of CSV input is ','\u001b[0m\n",
      "\u001b[35m[2022-02-07:09:28:10:INFO] Sniff delimiter as ','\u001b[0m\n",
      "\u001b[35m[2022-02-07:09:28:10:INFO] Determined delimiter of CSV input is ','\u001b[0m\n",
      "\u001b[35m[2022-02-07:09:28:10:INFO] Sniff delimiter as ','\u001b[0m\n",
      "\u001b[35m[2022-02-07:09:28:10:INFO] Determined delimiter of CSV input is ','\u001b[0m\n",
      "\u001b[34m[2022-02-07:09:28:13:INFO] Sniff delimiter as ','\u001b[0m\n",
      "\u001b[34m[2022-02-07:09:28:13:INFO] Determined delimiter of CSV input is ','\u001b[0m\n",
      "\u001b[34m[2022-02-07:09:28:13:INFO] Sniff delimiter as ','\u001b[0m\n",
      "\u001b[34m[2022-02-07:09:28:13:INFO] Determined delimiter of CSV input is ','\u001b[0m\n",
      "\u001b[34m[2022-02-07:09:28:13:INFO] Sniff delimiter as ','\u001b[0m\n",
      "\u001b[34m[2022-02-07:09:28:13:INFO] Determined delimiter of CSV input is ','\u001b[0m\n",
      "\u001b[34m[2022-02-07:09:28:14:INFO] Sniff delimiter as ','\u001b[0m\n",
      "\u001b[34m[2022-02-07:09:28:14:INFO] Determined delimiter of CSV input is ','\u001b[0m\n",
      "\u001b[35m[2022-02-07:09:28:13:INFO] Sniff delimiter as ','\u001b[0m\n",
      "\u001b[35m[2022-02-07:09:28:13:INFO] Determined delimiter of CSV input is ','\u001b[0m\n",
      "\u001b[35m[2022-02-07:09:28:13:INFO] Sniff delimiter as ','\u001b[0m\n",
      "\u001b[35m[2022-02-07:09:28:13:INFO] Determined delimiter of CSV input is ','\u001b[0m\n",
      "\u001b[35m[2022-02-07:09:28:13:INFO] Sniff delimiter as ','\u001b[0m\n",
      "\u001b[35m[2022-02-07:09:28:13:INFO] Determined delimiter of CSV input is ','\u001b[0m\n",
      "\u001b[35m[2022-02-07:09:28:14:INFO] Sniff delimiter as ','\u001b[0m\n",
      "\u001b[35m[2022-02-07:09:28:14:INFO] Determined delimiter of CSV input is ','\u001b[0m\n",
      "\u001b[34m[2022-02-07:09:28:17:INFO] Sniff delimiter as ','\u001b[0m\n",
      "\u001b[34m[2022-02-07:09:28:17:INFO] Determined delimiter of CSV input is ','\u001b[0m\n",
      "\u001b[35m[2022-02-07:09:28:17:INFO] Sniff delimiter as ','\u001b[0m\n",
      "\u001b[35m[2022-02-07:09:28:17:INFO] Determined delimiter of CSV input is ','\u001b[0m\n",
      "\u001b[34m[2022-02-07:09:28:17:INFO] Sniff delimiter as ','\u001b[0m\n",
      "\u001b[34m[2022-02-07:09:28:17:INFO] Determined delimiter of CSV input is ','\u001b[0m\n",
      "\u001b[34m[2022-02-07:09:28:17:INFO] Sniff delimiter as ','\u001b[0m\n",
      "\u001b[34m[2022-02-07:09:28:17:INFO] Determined delimiter of CSV input is ','\u001b[0m\n",
      "\u001b[34m[2022-02-07:09:28:18:INFO] Sniff delimiter as ','\u001b[0m\n",
      "\u001b[34m[2022-02-07:09:28:18:INFO] Determined delimiter of CSV input is ','\u001b[0m\n",
      "\u001b[35m[2022-02-07:09:28:17:INFO] Sniff delimiter as ','\u001b[0m\n",
      "\u001b[35m[2022-02-07:09:28:17:INFO] Determined delimiter of CSV input is ','\u001b[0m\n",
      "\u001b[35m[2022-02-07:09:28:17:INFO] Sniff delimiter as ','\u001b[0m\n",
      "\u001b[35m[2022-02-07:09:28:17:INFO] Determined delimiter of CSV input is ','\u001b[0m\n",
      "\u001b[35m[2022-02-07:09:28:18:INFO] Sniff delimiter as ','\u001b[0m\n",
      "\u001b[35m[2022-02-07:09:28:18:INFO] Determined delimiter of CSV input is ','\u001b[0m\n",
      "\u001b[34m[2022-02-07:09:28:21:INFO] Sniff delimiter as ','\u001b[0m\n",
      "\u001b[34m[2022-02-07:09:28:21:INFO] Determined delimiter of CSV input is ','\u001b[0m\n",
      "\u001b[34m[2022-02-07:09:28:21:INFO] Sniff delimiter as ','\u001b[0m\n",
      "\u001b[34m[2022-02-07:09:28:21:INFO] Determined delimiter of CSV input is ','\u001b[0m\n",
      "\u001b[35m[2022-02-07:09:28:21:INFO] Sniff delimiter as ','\u001b[0m\n",
      "\u001b[35m[2022-02-07:09:28:21:INFO] Determined delimiter of CSV input is ','\u001b[0m\n",
      "\u001b[35m[2022-02-07:09:28:21:INFO] Sniff delimiter as ','\u001b[0m\n",
      "\u001b[35m[2022-02-07:09:28:21:INFO] Determined delimiter of CSV input is ','\u001b[0m\n"
     ]
    },
    {
     "name": "stdout",
     "output_type": "stream",
     "text": [
      "\u001b[34m[2022-02-07:09:28:25:INFO] Sniff delimiter as ','\u001b[0m\n",
      "\u001b[35m[2022-02-07:09:28:25:INFO] Sniff delimiter as ','\u001b[0m\n",
      "\u001b[34m[2022-02-07:09:28:25:INFO] Determined delimiter of CSV input is ','\u001b[0m\n",
      "\u001b[34m[2022-02-07:09:28:25:INFO] Sniff delimiter as ','\u001b[0m\n",
      "\u001b[34m[2022-02-07:09:28:25:INFO] Determined delimiter of CSV input is ','\u001b[0m\n",
      "\u001b[34m[2022-02-07:09:28:25:INFO] Sniff delimiter as ','\u001b[0m\n",
      "\u001b[34m[2022-02-07:09:28:25:INFO] Determined delimiter of CSV input is ','\u001b[0m\n",
      "\u001b[34m[2022-02-07:09:28:25:INFO] Sniff delimiter as ','\u001b[0m\n",
      "\u001b[34m[2022-02-07:09:28:25:INFO] Determined delimiter of CSV input is ','\u001b[0m\n",
      "\u001b[35m[2022-02-07:09:28:25:INFO] Determined delimiter of CSV input is ','\u001b[0m\n",
      "\u001b[35m[2022-02-07:09:28:25:INFO] Sniff delimiter as ','\u001b[0m\n",
      "\u001b[35m[2022-02-07:09:28:25:INFO] Determined delimiter of CSV input is ','\u001b[0m\n",
      "\u001b[35m[2022-02-07:09:28:25:INFO] Sniff delimiter as ','\u001b[0m\n",
      "\u001b[35m[2022-02-07:09:28:25:INFO] Determined delimiter of CSV input is ','\u001b[0m\n",
      "\u001b[35m[2022-02-07:09:28:25:INFO] Sniff delimiter as ','\u001b[0m\n",
      "\u001b[35m[2022-02-07:09:28:25:INFO] Determined delimiter of CSV input is ','\u001b[0m\n",
      "\u001b[34m[2022-02-07:09:28:29:INFO] Determined delimiter of CSV input is ','\u001b[0m\n",
      "\u001b[35m[2022-02-07:09:28:29:INFO] Determined delimiter of CSV input is ','\u001b[0m\n",
      "\u001b[34m[2022-02-07:09:28:32:INFO] Sniff delimiter as ','\u001b[0m\n",
      "\u001b[34m[2022-02-07:09:28:32:INFO] Determined delimiter of CSV input is ','\u001b[0m\n",
      "\u001b[34m[2022-02-07:09:28:32:INFO] Sniff delimiter as ','\u001b[0m\n",
      "\u001b[34m[2022-02-07:09:28:32:INFO] Determined delimiter of CSV input is ','\u001b[0m\n",
      "\u001b[34m[2022-02-07:09:28:32:INFO] Sniff delimiter as ','\u001b[0m\n",
      "\u001b[34m[2022-02-07:09:28:32:INFO] Determined delimiter of CSV input is ','\u001b[0m\n",
      "\u001b[35m[2022-02-07:09:28:32:INFO] Sniff delimiter as ','\u001b[0m\n",
      "\u001b[35m[2022-02-07:09:28:32:INFO] Determined delimiter of CSV input is ','\u001b[0m\n",
      "\u001b[35m[2022-02-07:09:28:32:INFO] Sniff delimiter as ','\u001b[0m\n",
      "\u001b[35m[2022-02-07:09:28:32:INFO] Determined delimiter of CSV input is ','\u001b[0m\n",
      "\u001b[35m[2022-02-07:09:28:32:INFO] Sniff delimiter as ','\u001b[0m\n",
      "\u001b[35m[2022-02-07:09:28:32:INFO] Determined delimiter of CSV input is ','\u001b[0m\n",
      "\u001b[34m[2022-02-07:09:28:33:INFO] Sniff delimiter as ','\u001b[0m\n",
      "\u001b[34m[2022-02-07:09:28:33:INFO] Determined delimiter of CSV input is ','\u001b[0m\n",
      "\u001b[35m[2022-02-07:09:28:33:INFO] Sniff delimiter as ','\u001b[0m\n",
      "\u001b[35m[2022-02-07:09:28:33:INFO] Determined delimiter of CSV input is ','\u001b[0m\n",
      "\n"
     ]
    }
   ],
   "source": [
    "new_xgb_transformer.transform(test_location, content_type='text/csv', split_type='Line')\n",
    "new_xgb_transformer.wait()"
   ]
  },
  {
   "cell_type": "code",
   "execution_count": 74,
   "metadata": {},
   "outputs": [
    {
     "data": {
      "text/plain": [
       "'s3://sagemaker-us-east-1-801008216402/xgboost-2022-02-07-09-22-28-552'"
      ]
     },
     "execution_count": 74,
     "metadata": {},
     "output_type": "execute_result"
    }
   ],
   "source": [
    "new_xgb_transformer.output_path"
   ]
  },
  {
   "cell_type": "code",
   "execution_count": 101,
   "metadata": {},
   "outputs": [
    {
     "data": {
      "text/plain": [
       "'xgboost-2022-02-07-04-55-32-464'"
      ]
     },
     "execution_count": 101,
     "metadata": {},
     "output_type": "execute_result"
    }
   ],
   "source": [
    "xgb_predictor.endpoint"
   ]
  },
  {
   "cell_type": "code",
   "execution_count": 75,
   "metadata": {
    "scrolled": true
   },
   "outputs": [
    {
     "ename": "OSError",
     "evalue": "[Errno 12] Cannot allocate memory",
     "output_type": "error",
     "traceback": [
      "\u001b[0;31m---------------------------------------------------------------------------\u001b[0m",
      "\u001b[0;31mOSError\u001b[0m                                   Traceback (most recent call last)",
      "\u001b[0;32m<ipython-input-75-1dab5f3b624f>\u001b[0m in \u001b[0;36m<module>\u001b[0;34m\u001b[0m\n\u001b[0;32m----> 1\u001b[0;31m \u001b[0mget_ipython\u001b[0m\u001b[0;34m(\u001b[0m\u001b[0;34m)\u001b[0m\u001b[0;34m.\u001b[0m\u001b[0msystem\u001b[0m\u001b[0;34m(\u001b[0m\u001b[0;34m'aws s3 cp --recursive $new_xgb_transformer.output_path $data_dir'\u001b[0m\u001b[0;34m)\u001b[0m\u001b[0;34m\u001b[0m\u001b[0;34m\u001b[0m\u001b[0m\n\u001b[0m",
      "\u001b[0;32m~/anaconda3/envs/pytorch_p36/lib/python3.6/site-packages/ipykernel/zmqshell.py\u001b[0m in \u001b[0;36msystem_piped\u001b[0;34m(self, cmd)\u001b[0m\n\u001b[1;32m    648\u001b[0m                 \u001b[0mself\u001b[0m\u001b[0;34m.\u001b[0m\u001b[0muser_ns\u001b[0m\u001b[0;34m[\u001b[0m\u001b[0;34m'_exit_code'\u001b[0m\u001b[0;34m]\u001b[0m \u001b[0;34m=\u001b[0m \u001b[0msystem\u001b[0m\u001b[0;34m(\u001b[0m\u001b[0mcmd\u001b[0m\u001b[0;34m)\u001b[0m\u001b[0;34m\u001b[0m\u001b[0;34m\u001b[0m\u001b[0m\n\u001b[1;32m    649\u001b[0m         \u001b[0;32melse\u001b[0m\u001b[0;34m:\u001b[0m\u001b[0;34m\u001b[0m\u001b[0;34m\u001b[0m\u001b[0m\n\u001b[0;32m--> 650\u001b[0;31m             \u001b[0mself\u001b[0m\u001b[0;34m.\u001b[0m\u001b[0muser_ns\u001b[0m\u001b[0;34m[\u001b[0m\u001b[0;34m'_exit_code'\u001b[0m\u001b[0;34m]\u001b[0m \u001b[0;34m=\u001b[0m \u001b[0msystem\u001b[0m\u001b[0;34m(\u001b[0m\u001b[0mself\u001b[0m\u001b[0;34m.\u001b[0m\u001b[0mvar_expand\u001b[0m\u001b[0;34m(\u001b[0m\u001b[0mcmd\u001b[0m\u001b[0;34m,\u001b[0m \u001b[0mdepth\u001b[0m\u001b[0;34m=\u001b[0m\u001b[0;36m1\u001b[0m\u001b[0;34m)\u001b[0m\u001b[0;34m)\u001b[0m\u001b[0;34m\u001b[0m\u001b[0;34m\u001b[0m\u001b[0m\n\u001b[0m\u001b[1;32m    651\u001b[0m \u001b[0;34m\u001b[0m\u001b[0m\n\u001b[1;32m    652\u001b[0m     \u001b[0;31m# Ensure new system_piped implementation is used\u001b[0m\u001b[0;34m\u001b[0m\u001b[0;34m\u001b[0m\u001b[0;34m\u001b[0m\u001b[0m\n",
      "\u001b[0;32m~/anaconda3/envs/pytorch_p36/lib/python3.6/site-packages/IPython/utils/_process_posix.py\u001b[0m in \u001b[0;36msystem\u001b[0;34m(self, cmd)\u001b[0m\n\u001b[1;32m    155\u001b[0m                 \u001b[0mchild\u001b[0m \u001b[0;34m=\u001b[0m \u001b[0mpexpect\u001b[0m\u001b[0;34m.\u001b[0m\u001b[0mspawnb\u001b[0m\u001b[0;34m(\u001b[0m\u001b[0mself\u001b[0m\u001b[0;34m.\u001b[0m\u001b[0msh\u001b[0m\u001b[0;34m,\u001b[0m \u001b[0margs\u001b[0m\u001b[0;34m=\u001b[0m\u001b[0;34m[\u001b[0m\u001b[0;34m'-c'\u001b[0m\u001b[0;34m,\u001b[0m \u001b[0mcmd\u001b[0m\u001b[0;34m]\u001b[0m\u001b[0;34m)\u001b[0m \u001b[0;31m# Pexpect-U\u001b[0m\u001b[0;34m\u001b[0m\u001b[0;34m\u001b[0m\u001b[0m\n\u001b[1;32m    156\u001b[0m             \u001b[0;32melse\u001b[0m\u001b[0;34m:\u001b[0m\u001b[0;34m\u001b[0m\u001b[0;34m\u001b[0m\u001b[0m\n\u001b[0;32m--> 157\u001b[0;31m                 \u001b[0mchild\u001b[0m \u001b[0;34m=\u001b[0m \u001b[0mpexpect\u001b[0m\u001b[0;34m.\u001b[0m\u001b[0mspawn\u001b[0m\u001b[0;34m(\u001b[0m\u001b[0mself\u001b[0m\u001b[0;34m.\u001b[0m\u001b[0msh\u001b[0m\u001b[0;34m,\u001b[0m \u001b[0margs\u001b[0m\u001b[0;34m=\u001b[0m\u001b[0;34m[\u001b[0m\u001b[0;34m'-c'\u001b[0m\u001b[0;34m,\u001b[0m \u001b[0mcmd\u001b[0m\u001b[0;34m]\u001b[0m\u001b[0;34m)\u001b[0m  \u001b[0;31m# Vanilla Pexpect\u001b[0m\u001b[0;34m\u001b[0m\u001b[0;34m\u001b[0m\u001b[0m\n\u001b[0m\u001b[1;32m    158\u001b[0m             \u001b[0mflush\u001b[0m \u001b[0;34m=\u001b[0m \u001b[0msys\u001b[0m\u001b[0;34m.\u001b[0m\u001b[0mstdout\u001b[0m\u001b[0;34m.\u001b[0m\u001b[0mflush\u001b[0m\u001b[0;34m\u001b[0m\u001b[0;34m\u001b[0m\u001b[0m\n\u001b[1;32m    159\u001b[0m             \u001b[0;32mwhile\u001b[0m \u001b[0;32mTrue\u001b[0m\u001b[0;34m:\u001b[0m\u001b[0;34m\u001b[0m\u001b[0;34m\u001b[0m\u001b[0m\n",
      "\u001b[0;32m~/anaconda3/envs/pytorch_p36/lib/python3.6/site-packages/pexpect/pty_spawn.py\u001b[0m in \u001b[0;36m__init__\u001b[0;34m(self, command, args, timeout, maxread, searchwindowsize, logfile, cwd, env, ignore_sighup, echo, preexec_fn, encoding, codec_errors, dimensions, use_poll)\u001b[0m\n\u001b[1;32m    203\u001b[0m             \u001b[0mself\u001b[0m\u001b[0;34m.\u001b[0m\u001b[0mname\u001b[0m \u001b[0;34m=\u001b[0m \u001b[0;34m'<pexpect factory incomplete>'\u001b[0m\u001b[0;34m\u001b[0m\u001b[0;34m\u001b[0m\u001b[0m\n\u001b[1;32m    204\u001b[0m         \u001b[0;32melse\u001b[0m\u001b[0;34m:\u001b[0m\u001b[0;34m\u001b[0m\u001b[0;34m\u001b[0m\u001b[0m\n\u001b[0;32m--> 205\u001b[0;31m             \u001b[0mself\u001b[0m\u001b[0;34m.\u001b[0m\u001b[0m_spawn\u001b[0m\u001b[0;34m(\u001b[0m\u001b[0mcommand\u001b[0m\u001b[0;34m,\u001b[0m \u001b[0margs\u001b[0m\u001b[0;34m,\u001b[0m \u001b[0mpreexec_fn\u001b[0m\u001b[0;34m,\u001b[0m \u001b[0mdimensions\u001b[0m\u001b[0;34m)\u001b[0m\u001b[0;34m\u001b[0m\u001b[0;34m\u001b[0m\u001b[0m\n\u001b[0m\u001b[1;32m    206\u001b[0m         \u001b[0mself\u001b[0m\u001b[0;34m.\u001b[0m\u001b[0muse_poll\u001b[0m \u001b[0;34m=\u001b[0m \u001b[0muse_poll\u001b[0m\u001b[0;34m\u001b[0m\u001b[0;34m\u001b[0m\u001b[0m\n\u001b[1;32m    207\u001b[0m \u001b[0;34m\u001b[0m\u001b[0m\n",
      "\u001b[0;32m~/anaconda3/envs/pytorch_p36/lib/python3.6/site-packages/pexpect/pty_spawn.py\u001b[0m in \u001b[0;36m_spawn\u001b[0;34m(self, command, args, preexec_fn, dimensions)\u001b[0m\n\u001b[1;32m    302\u001b[0m \u001b[0;34m\u001b[0m\u001b[0m\n\u001b[1;32m    303\u001b[0m         self.ptyproc = self._spawnpty(self.args, env=self.env,\n\u001b[0;32m--> 304\u001b[0;31m                                      cwd=self.cwd, **kwargs)\n\u001b[0m\u001b[1;32m    305\u001b[0m \u001b[0;34m\u001b[0m\u001b[0m\n\u001b[1;32m    306\u001b[0m         \u001b[0mself\u001b[0m\u001b[0;34m.\u001b[0m\u001b[0mpid\u001b[0m \u001b[0;34m=\u001b[0m \u001b[0mself\u001b[0m\u001b[0;34m.\u001b[0m\u001b[0mptyproc\u001b[0m\u001b[0;34m.\u001b[0m\u001b[0mpid\u001b[0m\u001b[0;34m\u001b[0m\u001b[0;34m\u001b[0m\u001b[0m\n",
      "\u001b[0;32m~/anaconda3/envs/pytorch_p36/lib/python3.6/site-packages/pexpect/pty_spawn.py\u001b[0m in \u001b[0;36m_spawnpty\u001b[0;34m(self, args, **kwargs)\u001b[0m\n\u001b[1;32m    313\u001b[0m     \u001b[0;32mdef\u001b[0m \u001b[0m_spawnpty\u001b[0m\u001b[0;34m(\u001b[0m\u001b[0mself\u001b[0m\u001b[0;34m,\u001b[0m \u001b[0margs\u001b[0m\u001b[0;34m,\u001b[0m \u001b[0;34m**\u001b[0m\u001b[0mkwargs\u001b[0m\u001b[0;34m)\u001b[0m\u001b[0;34m:\u001b[0m\u001b[0;34m\u001b[0m\u001b[0;34m\u001b[0m\u001b[0m\n\u001b[1;32m    314\u001b[0m         \u001b[0;34m'''Spawn a pty and return an instance of PtyProcess.'''\u001b[0m\u001b[0;34m\u001b[0m\u001b[0;34m\u001b[0m\u001b[0m\n\u001b[0;32m--> 315\u001b[0;31m         \u001b[0;32mreturn\u001b[0m \u001b[0mptyprocess\u001b[0m\u001b[0;34m.\u001b[0m\u001b[0mPtyProcess\u001b[0m\u001b[0;34m.\u001b[0m\u001b[0mspawn\u001b[0m\u001b[0;34m(\u001b[0m\u001b[0margs\u001b[0m\u001b[0;34m,\u001b[0m \u001b[0;34m**\u001b[0m\u001b[0mkwargs\u001b[0m\u001b[0;34m)\u001b[0m\u001b[0;34m\u001b[0m\u001b[0;34m\u001b[0m\u001b[0m\n\u001b[0m\u001b[1;32m    316\u001b[0m \u001b[0;34m\u001b[0m\u001b[0m\n\u001b[1;32m    317\u001b[0m     \u001b[0;32mdef\u001b[0m \u001b[0mclose\u001b[0m\u001b[0;34m(\u001b[0m\u001b[0mself\u001b[0m\u001b[0;34m,\u001b[0m \u001b[0mforce\u001b[0m\u001b[0;34m=\u001b[0m\u001b[0;32mTrue\u001b[0m\u001b[0;34m)\u001b[0m\u001b[0;34m:\u001b[0m\u001b[0;34m\u001b[0m\u001b[0;34m\u001b[0m\u001b[0m\n",
      "\u001b[0;32m~/anaconda3/envs/pytorch_p36/lib/python3.6/site-packages/ptyprocess/ptyprocess.py\u001b[0m in \u001b[0;36mspawn\u001b[0;34m(cls, argv, cwd, env, echo, preexec_fn, dimensions, pass_fds)\u001b[0m\n\u001b[1;32m    228\u001b[0m \u001b[0;34m\u001b[0m\u001b[0m\n\u001b[1;32m    229\u001b[0m         \u001b[0;32mif\u001b[0m \u001b[0muse_native_pty_fork\u001b[0m\u001b[0;34m:\u001b[0m\u001b[0;34m\u001b[0m\u001b[0;34m\u001b[0m\u001b[0m\n\u001b[0;32m--> 230\u001b[0;31m             \u001b[0mpid\u001b[0m\u001b[0;34m,\u001b[0m \u001b[0mfd\u001b[0m \u001b[0;34m=\u001b[0m \u001b[0mpty\u001b[0m\u001b[0;34m.\u001b[0m\u001b[0mfork\u001b[0m\u001b[0;34m(\u001b[0m\u001b[0;34m)\u001b[0m\u001b[0;34m\u001b[0m\u001b[0;34m\u001b[0m\u001b[0m\n\u001b[0m\u001b[1;32m    231\u001b[0m         \u001b[0;32melse\u001b[0m\u001b[0;34m:\u001b[0m\u001b[0;34m\u001b[0m\u001b[0;34m\u001b[0m\u001b[0m\n\u001b[1;32m    232\u001b[0m             \u001b[0;31m# Use internal fork_pty, for Solaris\u001b[0m\u001b[0;34m\u001b[0m\u001b[0;34m\u001b[0m\u001b[0;34m\u001b[0m\u001b[0m\n",
      "\u001b[0;32m~/anaconda3/envs/pytorch_p36/lib/python3.6/pty.py\u001b[0m in \u001b[0;36mfork\u001b[0;34m()\u001b[0m\n\u001b[1;32m     95\u001b[0m \u001b[0;34m\u001b[0m\u001b[0m\n\u001b[1;32m     96\u001b[0m     \u001b[0mmaster_fd\u001b[0m\u001b[0;34m,\u001b[0m \u001b[0mslave_fd\u001b[0m \u001b[0;34m=\u001b[0m \u001b[0mopenpty\u001b[0m\u001b[0;34m(\u001b[0m\u001b[0;34m)\u001b[0m\u001b[0;34m\u001b[0m\u001b[0;34m\u001b[0m\u001b[0m\n\u001b[0;32m---> 97\u001b[0;31m     \u001b[0mpid\u001b[0m \u001b[0;34m=\u001b[0m \u001b[0mos\u001b[0m\u001b[0;34m.\u001b[0m\u001b[0mfork\u001b[0m\u001b[0;34m(\u001b[0m\u001b[0;34m)\u001b[0m\u001b[0;34m\u001b[0m\u001b[0;34m\u001b[0m\u001b[0m\n\u001b[0m\u001b[1;32m     98\u001b[0m     \u001b[0;32mif\u001b[0m \u001b[0mpid\u001b[0m \u001b[0;34m==\u001b[0m \u001b[0mCHILD\u001b[0m\u001b[0;34m:\u001b[0m\u001b[0;34m\u001b[0m\u001b[0;34m\u001b[0m\u001b[0m\n\u001b[1;32m     99\u001b[0m         \u001b[0;31m# Establish a new session.\u001b[0m\u001b[0;34m\u001b[0m\u001b[0;34m\u001b[0m\u001b[0;34m\u001b[0m\u001b[0m\n",
      "\u001b[0;31mOSError\u001b[0m: [Errno 12] Cannot allocate memory"
     ]
    }
   ],
   "source": [
    "!aws s3 cp --recursive $new_xgb_transformer.output_path $data_dir"
   ]
  },
  {
   "cell_type": "code",
   "execution_count": null,
   "metadata": {},
   "outputs": [],
   "source": [
    "data_dir = '../data/sentiment_update'"
   ]
  },
  {
   "cell_type": "code",
   "execution_count": 76,
   "metadata": {},
   "outputs": [],
   "source": [
    "predictions = pd.read_csv(os.path.join(data_dir, 'test.csv.out'), header=None)\n",
    "predictions = [round(num) for num in predictions.squeeze().values]"
   ]
  },
  {
   "cell_type": "code",
   "execution_count": 77,
   "metadata": {},
   "outputs": [
    {
     "data": {
      "text/plain": [
       "0.83552"
      ]
     },
     "execution_count": 77,
     "metadata": {},
     "output_type": "execute_result"
    }
   ],
   "source": [
    "accuracy_score(test_Y, predictions)"
   ]
  },
  {
   "cell_type": "markdown",
   "metadata": {},
   "source": [
    "It would appear that our new XGBoost model is performing quite well on the old test data. This gives us some indication that our new model should be put into production and replace our original model."
   ]
  },
  {
   "cell_type": "markdown",
   "metadata": {},
   "source": [
    "## Step 6: (TODO) Updating the Model\n",
    "\n",
    "So we have a new model that we'd like to use instead of one that is already deployed. Furthermore, we are assuming that the model that is already deployed is being used in some sort of application. As a result, what we want to do is update the existing endpoint so that it uses our new model.\n",
    "\n",
    "Of course, to do this we need to create an endpoint configuration for our newly created model.\n",
    "\n",
    "First, note that we can access the name of the model that we created above using the `model_name` property of the transformer. The reason for this is that in order for the transformer to create a batch transform job it needs to first create the model object inside of SageMaker. Since we've sort of already done this we should take advantage of it."
   ]
  },
  {
   "cell_type": "code",
   "execution_count": null,
   "metadata": {},
   "outputs": [],
   "source": [
    "new_xgb_transformer.model_name"
   ]
  },
  {
   "cell_type": "markdown",
   "metadata": {},
   "source": [
    "Next, we create an endpoint configuration using the low level approach of creating the dictionary object which describes the endpoint configuration we want.\n",
    "\n",
    "**TODO:** Using the low level approach, create a new endpoint configuration. Don't forget that it needs a name and that the name needs to be unique. If you get stuck, try looking at the Boston Housing Low Level Deployment tutorial notebook."
   ]
  },
  {
   "cell_type": "code",
   "execution_count": 78,
   "metadata": {},
   "outputs": [],
   "source": [
    "from time import gmtime, strftime\n",
    "\n",
    "\n",
    "# TODO: Give our endpoint configuration a name. Remember, it needs to be unique.\n",
    "new_xgb_endpoint_config_name = 'new-xgb-endpoint-' + strftime(\"%Y-%m-%d-%H-%M-%S\", gmtime())\n",
    "\n",
    "# TODO: Using the SageMaker Client, construct the endpoint configuration.\n",
    "new_xgb_endpoint_config_info = session.sagemaker_client.create_endpoint_config(\n",
    "                            EndpointConfigName = new_xgb_endpoint_config_name,\n",
    "                            ProductionVariants = [\n",
    "                                { # First we include the linear model\n",
    "                                    \"InstanceType\": \"ml.m4.xlarge\",\n",
    "                                    \"InitialVariantWeight\": 1,\n",
    "                                    \"InitialInstanceCount\": 1,\n",
    "                                    \"ModelName\": new_xgb_transformer.model_name,\n",
    "                                    \"VariantName\": \"XGB-Model\"\n",
    "                                }])"
   ]
  },
  {
   "cell_type": "markdown",
   "metadata": {},
   "source": [
    "Once the endpoint configuration has been constructed, it is a straightforward matter to ask SageMaker to update the existing endpoint so that it uses the new endpoint configuration.\n",
    "\n",
    "Of note here is that SageMaker does this in such a way that there is no downtime. Essentially, SageMaker deploys the new model and then updates the original endpoint so that it points to the newly deployed model. After that, the original model is shut down. This way, whatever app is using our endpoint won't notice that we've changed the model that is being used.\n",
    "\n",
    "**TODO:** Use the SageMaker Client to update the endpoint that you deployed earlier."
   ]
  },
  {
   "cell_type": "code",
   "execution_count": 79,
   "metadata": {
    "scrolled": true
   },
   "outputs": [],
   "source": [
    "# TODO: Update the xgb_predictor.endpoint so that it uses new_xgb_endpoint_config_name.\n",
    "\n",
    "# update_endpoint\n",
    "\n",
    "new_endpoint_info = session.sagemaker_client.update_endpoint(\n",
    "                    EndpointName = xgb_predictor.endpoint,\n",
    "                    EndpointConfigName = new_xgb_endpoint_config_name)"
   ]
  },
  {
   "cell_type": "code",
   "execution_count": 92,
   "metadata": {},
   "outputs": [
    {
     "data": {
      "text/plain": [
       "'xgboost-2022-02-07-04-55-32-464'"
      ]
     },
     "execution_count": 92,
     "metadata": {},
     "output_type": "execute_result"
    }
   ],
   "source": [
    "xgb_predictor.endpoint"
   ]
  },
  {
   "cell_type": "markdown",
   "metadata": {},
   "source": [
    "And, as is generally the case with SageMaker requests, this is being done in the background so if we want to wait for it to complete we need to call the appropriate method."
   ]
  },
  {
   "cell_type": "code",
   "execution_count": 80,
   "metadata": {},
   "outputs": [
    {
     "name": "stdout",
     "output_type": "stream",
     "text": [
      "---------!"
     ]
    }
   ],
   "source": [
    "new_endpoint_dec = session.wait_for_endpoint(xgb_predictor.endpoint)"
   ]
  },
  {
   "cell_type": "markdown",
   "metadata": {},
   "source": [
    "## Step 7: Delete the Endpoint\n",
    "\n",
    "Of course, since we are done with the deployed endpoint we need to make sure to shut it down, otherwise we will continue to be charged for it."
   ]
  },
  {
   "cell_type": "code",
   "execution_count": 81,
   "metadata": {},
   "outputs": [],
   "source": [
    "xgb_predictor.delete_endpoint()"
   ]
  },
  {
   "cell_type": "markdown",
   "metadata": {},
   "source": [
    "## Some Additional Questions\n",
    "\n",
    "This notebook is a little different from the other notebooks in this module. In part, this is because it is meant to be a little bit closer to the type of problem you may face in a real world scenario. Of course, this problem is a very easy one with a prescribed solution, but there are many other interesting questions that we did not consider here and that you may wish to consider yourself.\n",
    "\n",
    "For example,\n",
    "- What other ways could the underlying distribution change?\n",
    "- Is it a good idea to re-train the model using only the new data?\n",
    "- What would change if the quantity of new data wasn't large. Say you only received 500 samples?\n"
   ]
  },
  {
   "cell_type": "markdown",
   "metadata": {},
   "source": [
    "## Optional: Clean up\n",
    "\n",
    "The default notebook instance on SageMaker doesn't have a lot of excess disk space available. As you continue to complete and execute notebooks you will eventually fill up this disk space, leading to errors which can be difficult to diagnose. Once you are completely finished using a notebook it is a good idea to remove the files that you created along the way. Of course, you can do this from the terminal or from the notebook hub if you would like. The cell below contains some commands to clean up the created files from within the notebook."
   ]
  },
  {
   "cell_type": "code",
   "execution_count": 82,
   "metadata": {},
   "outputs": [
    {
     "ename": "OSError",
     "evalue": "[Errno 12] Cannot allocate memory",
     "output_type": "error",
     "traceback": [
      "\u001b[0;31m---------------------------------------------------------------------------\u001b[0m",
      "\u001b[0;31mOSError\u001b[0m                                   Traceback (most recent call last)",
      "\u001b[0;32m<ipython-input-82-597d172d14f0>\u001b[0m in \u001b[0;36m<module>\u001b[0;34m\u001b[0m\n\u001b[1;32m      1\u001b[0m \u001b[0;31m# First we will remove all of the files contained in the data_dir directory\u001b[0m\u001b[0;34m\u001b[0m\u001b[0;34m\u001b[0m\u001b[0;34m\u001b[0m\u001b[0m\n\u001b[0;32m----> 2\u001b[0;31m \u001b[0mget_ipython\u001b[0m\u001b[0;34m(\u001b[0m\u001b[0;34m)\u001b[0m\u001b[0;34m.\u001b[0m\u001b[0msystem\u001b[0m\u001b[0;34m(\u001b[0m\u001b[0;34m'rm -r $data_dir/*'\u001b[0m\u001b[0;34m)\u001b[0m\u001b[0;34m\u001b[0m\u001b[0;34m\u001b[0m\u001b[0m\n\u001b[0m\u001b[1;32m      3\u001b[0m \u001b[0;34m\u001b[0m\u001b[0m\n\u001b[1;32m      4\u001b[0m \u001b[0;31m# And then we delete the directory itself\u001b[0m\u001b[0;34m\u001b[0m\u001b[0;34m\u001b[0m\u001b[0;34m\u001b[0m\u001b[0m\n\u001b[1;32m      5\u001b[0m \u001b[0mget_ipython\u001b[0m\u001b[0;34m(\u001b[0m\u001b[0;34m)\u001b[0m\u001b[0;34m.\u001b[0m\u001b[0msystem\u001b[0m\u001b[0;34m(\u001b[0m\u001b[0;34m'rmdir $data_dir'\u001b[0m\u001b[0;34m)\u001b[0m\u001b[0;34m\u001b[0m\u001b[0;34m\u001b[0m\u001b[0m\n",
      "\u001b[0;32m~/anaconda3/envs/pytorch_p36/lib/python3.6/site-packages/ipykernel/zmqshell.py\u001b[0m in \u001b[0;36msystem_piped\u001b[0;34m(self, cmd)\u001b[0m\n\u001b[1;32m    648\u001b[0m                 \u001b[0mself\u001b[0m\u001b[0;34m.\u001b[0m\u001b[0muser_ns\u001b[0m\u001b[0;34m[\u001b[0m\u001b[0;34m'_exit_code'\u001b[0m\u001b[0;34m]\u001b[0m \u001b[0;34m=\u001b[0m \u001b[0msystem\u001b[0m\u001b[0;34m(\u001b[0m\u001b[0mcmd\u001b[0m\u001b[0;34m)\u001b[0m\u001b[0;34m\u001b[0m\u001b[0;34m\u001b[0m\u001b[0m\n\u001b[1;32m    649\u001b[0m         \u001b[0;32melse\u001b[0m\u001b[0;34m:\u001b[0m\u001b[0;34m\u001b[0m\u001b[0;34m\u001b[0m\u001b[0m\n\u001b[0;32m--> 650\u001b[0;31m             \u001b[0mself\u001b[0m\u001b[0;34m.\u001b[0m\u001b[0muser_ns\u001b[0m\u001b[0;34m[\u001b[0m\u001b[0;34m'_exit_code'\u001b[0m\u001b[0;34m]\u001b[0m \u001b[0;34m=\u001b[0m \u001b[0msystem\u001b[0m\u001b[0;34m(\u001b[0m\u001b[0mself\u001b[0m\u001b[0;34m.\u001b[0m\u001b[0mvar_expand\u001b[0m\u001b[0;34m(\u001b[0m\u001b[0mcmd\u001b[0m\u001b[0;34m,\u001b[0m \u001b[0mdepth\u001b[0m\u001b[0;34m=\u001b[0m\u001b[0;36m1\u001b[0m\u001b[0;34m)\u001b[0m\u001b[0;34m)\u001b[0m\u001b[0;34m\u001b[0m\u001b[0;34m\u001b[0m\u001b[0m\n\u001b[0m\u001b[1;32m    651\u001b[0m \u001b[0;34m\u001b[0m\u001b[0m\n\u001b[1;32m    652\u001b[0m     \u001b[0;31m# Ensure new system_piped implementation is used\u001b[0m\u001b[0;34m\u001b[0m\u001b[0;34m\u001b[0m\u001b[0;34m\u001b[0m\u001b[0m\n",
      "\u001b[0;32m~/anaconda3/envs/pytorch_p36/lib/python3.6/site-packages/IPython/utils/_process_posix.py\u001b[0m in \u001b[0;36msystem\u001b[0;34m(self, cmd)\u001b[0m\n\u001b[1;32m    155\u001b[0m                 \u001b[0mchild\u001b[0m \u001b[0;34m=\u001b[0m \u001b[0mpexpect\u001b[0m\u001b[0;34m.\u001b[0m\u001b[0mspawnb\u001b[0m\u001b[0;34m(\u001b[0m\u001b[0mself\u001b[0m\u001b[0;34m.\u001b[0m\u001b[0msh\u001b[0m\u001b[0;34m,\u001b[0m \u001b[0margs\u001b[0m\u001b[0;34m=\u001b[0m\u001b[0;34m[\u001b[0m\u001b[0;34m'-c'\u001b[0m\u001b[0;34m,\u001b[0m \u001b[0mcmd\u001b[0m\u001b[0;34m]\u001b[0m\u001b[0;34m)\u001b[0m \u001b[0;31m# Pexpect-U\u001b[0m\u001b[0;34m\u001b[0m\u001b[0;34m\u001b[0m\u001b[0m\n\u001b[1;32m    156\u001b[0m             \u001b[0;32melse\u001b[0m\u001b[0;34m:\u001b[0m\u001b[0;34m\u001b[0m\u001b[0;34m\u001b[0m\u001b[0m\n\u001b[0;32m--> 157\u001b[0;31m                 \u001b[0mchild\u001b[0m \u001b[0;34m=\u001b[0m \u001b[0mpexpect\u001b[0m\u001b[0;34m.\u001b[0m\u001b[0mspawn\u001b[0m\u001b[0;34m(\u001b[0m\u001b[0mself\u001b[0m\u001b[0;34m.\u001b[0m\u001b[0msh\u001b[0m\u001b[0;34m,\u001b[0m \u001b[0margs\u001b[0m\u001b[0;34m=\u001b[0m\u001b[0;34m[\u001b[0m\u001b[0;34m'-c'\u001b[0m\u001b[0;34m,\u001b[0m \u001b[0mcmd\u001b[0m\u001b[0;34m]\u001b[0m\u001b[0;34m)\u001b[0m  \u001b[0;31m# Vanilla Pexpect\u001b[0m\u001b[0;34m\u001b[0m\u001b[0;34m\u001b[0m\u001b[0m\n\u001b[0m\u001b[1;32m    158\u001b[0m             \u001b[0mflush\u001b[0m \u001b[0;34m=\u001b[0m \u001b[0msys\u001b[0m\u001b[0;34m.\u001b[0m\u001b[0mstdout\u001b[0m\u001b[0;34m.\u001b[0m\u001b[0mflush\u001b[0m\u001b[0;34m\u001b[0m\u001b[0;34m\u001b[0m\u001b[0m\n\u001b[1;32m    159\u001b[0m             \u001b[0;32mwhile\u001b[0m \u001b[0;32mTrue\u001b[0m\u001b[0;34m:\u001b[0m\u001b[0;34m\u001b[0m\u001b[0;34m\u001b[0m\u001b[0m\n",
      "\u001b[0;32m~/anaconda3/envs/pytorch_p36/lib/python3.6/site-packages/pexpect/pty_spawn.py\u001b[0m in \u001b[0;36m__init__\u001b[0;34m(self, command, args, timeout, maxread, searchwindowsize, logfile, cwd, env, ignore_sighup, echo, preexec_fn, encoding, codec_errors, dimensions, use_poll)\u001b[0m\n\u001b[1;32m    203\u001b[0m             \u001b[0mself\u001b[0m\u001b[0;34m.\u001b[0m\u001b[0mname\u001b[0m \u001b[0;34m=\u001b[0m \u001b[0;34m'<pexpect factory incomplete>'\u001b[0m\u001b[0;34m\u001b[0m\u001b[0;34m\u001b[0m\u001b[0m\n\u001b[1;32m    204\u001b[0m         \u001b[0;32melse\u001b[0m\u001b[0;34m:\u001b[0m\u001b[0;34m\u001b[0m\u001b[0;34m\u001b[0m\u001b[0m\n\u001b[0;32m--> 205\u001b[0;31m             \u001b[0mself\u001b[0m\u001b[0;34m.\u001b[0m\u001b[0m_spawn\u001b[0m\u001b[0;34m(\u001b[0m\u001b[0mcommand\u001b[0m\u001b[0;34m,\u001b[0m \u001b[0margs\u001b[0m\u001b[0;34m,\u001b[0m \u001b[0mpreexec_fn\u001b[0m\u001b[0;34m,\u001b[0m \u001b[0mdimensions\u001b[0m\u001b[0;34m)\u001b[0m\u001b[0;34m\u001b[0m\u001b[0;34m\u001b[0m\u001b[0m\n\u001b[0m\u001b[1;32m    206\u001b[0m         \u001b[0mself\u001b[0m\u001b[0;34m.\u001b[0m\u001b[0muse_poll\u001b[0m \u001b[0;34m=\u001b[0m \u001b[0muse_poll\u001b[0m\u001b[0;34m\u001b[0m\u001b[0;34m\u001b[0m\u001b[0m\n\u001b[1;32m    207\u001b[0m \u001b[0;34m\u001b[0m\u001b[0m\n",
      "\u001b[0;32m~/anaconda3/envs/pytorch_p36/lib/python3.6/site-packages/pexpect/pty_spawn.py\u001b[0m in \u001b[0;36m_spawn\u001b[0;34m(self, command, args, preexec_fn, dimensions)\u001b[0m\n\u001b[1;32m    302\u001b[0m \u001b[0;34m\u001b[0m\u001b[0m\n\u001b[1;32m    303\u001b[0m         self.ptyproc = self._spawnpty(self.args, env=self.env,\n\u001b[0;32m--> 304\u001b[0;31m                                      cwd=self.cwd, **kwargs)\n\u001b[0m\u001b[1;32m    305\u001b[0m \u001b[0;34m\u001b[0m\u001b[0m\n\u001b[1;32m    306\u001b[0m         \u001b[0mself\u001b[0m\u001b[0;34m.\u001b[0m\u001b[0mpid\u001b[0m \u001b[0;34m=\u001b[0m \u001b[0mself\u001b[0m\u001b[0;34m.\u001b[0m\u001b[0mptyproc\u001b[0m\u001b[0;34m.\u001b[0m\u001b[0mpid\u001b[0m\u001b[0;34m\u001b[0m\u001b[0;34m\u001b[0m\u001b[0m\n",
      "\u001b[0;32m~/anaconda3/envs/pytorch_p36/lib/python3.6/site-packages/pexpect/pty_spawn.py\u001b[0m in \u001b[0;36m_spawnpty\u001b[0;34m(self, args, **kwargs)\u001b[0m\n\u001b[1;32m    313\u001b[0m     \u001b[0;32mdef\u001b[0m \u001b[0m_spawnpty\u001b[0m\u001b[0;34m(\u001b[0m\u001b[0mself\u001b[0m\u001b[0;34m,\u001b[0m \u001b[0margs\u001b[0m\u001b[0;34m,\u001b[0m \u001b[0;34m**\u001b[0m\u001b[0mkwargs\u001b[0m\u001b[0;34m)\u001b[0m\u001b[0;34m:\u001b[0m\u001b[0;34m\u001b[0m\u001b[0;34m\u001b[0m\u001b[0m\n\u001b[1;32m    314\u001b[0m         \u001b[0;34m'''Spawn a pty and return an instance of PtyProcess.'''\u001b[0m\u001b[0;34m\u001b[0m\u001b[0;34m\u001b[0m\u001b[0m\n\u001b[0;32m--> 315\u001b[0;31m         \u001b[0;32mreturn\u001b[0m \u001b[0mptyprocess\u001b[0m\u001b[0;34m.\u001b[0m\u001b[0mPtyProcess\u001b[0m\u001b[0;34m.\u001b[0m\u001b[0mspawn\u001b[0m\u001b[0;34m(\u001b[0m\u001b[0margs\u001b[0m\u001b[0;34m,\u001b[0m \u001b[0;34m**\u001b[0m\u001b[0mkwargs\u001b[0m\u001b[0;34m)\u001b[0m\u001b[0;34m\u001b[0m\u001b[0;34m\u001b[0m\u001b[0m\n\u001b[0m\u001b[1;32m    316\u001b[0m \u001b[0;34m\u001b[0m\u001b[0m\n\u001b[1;32m    317\u001b[0m     \u001b[0;32mdef\u001b[0m \u001b[0mclose\u001b[0m\u001b[0;34m(\u001b[0m\u001b[0mself\u001b[0m\u001b[0;34m,\u001b[0m \u001b[0mforce\u001b[0m\u001b[0;34m=\u001b[0m\u001b[0;32mTrue\u001b[0m\u001b[0;34m)\u001b[0m\u001b[0;34m:\u001b[0m\u001b[0;34m\u001b[0m\u001b[0;34m\u001b[0m\u001b[0m\n",
      "\u001b[0;32m~/anaconda3/envs/pytorch_p36/lib/python3.6/site-packages/ptyprocess/ptyprocess.py\u001b[0m in \u001b[0;36mspawn\u001b[0;34m(cls, argv, cwd, env, echo, preexec_fn, dimensions, pass_fds)\u001b[0m\n\u001b[1;32m    228\u001b[0m \u001b[0;34m\u001b[0m\u001b[0m\n\u001b[1;32m    229\u001b[0m         \u001b[0;32mif\u001b[0m \u001b[0muse_native_pty_fork\u001b[0m\u001b[0;34m:\u001b[0m\u001b[0;34m\u001b[0m\u001b[0;34m\u001b[0m\u001b[0m\n\u001b[0;32m--> 230\u001b[0;31m             \u001b[0mpid\u001b[0m\u001b[0;34m,\u001b[0m \u001b[0mfd\u001b[0m \u001b[0;34m=\u001b[0m \u001b[0mpty\u001b[0m\u001b[0;34m.\u001b[0m\u001b[0mfork\u001b[0m\u001b[0;34m(\u001b[0m\u001b[0;34m)\u001b[0m\u001b[0;34m\u001b[0m\u001b[0;34m\u001b[0m\u001b[0m\n\u001b[0m\u001b[1;32m    231\u001b[0m         \u001b[0;32melse\u001b[0m\u001b[0;34m:\u001b[0m\u001b[0;34m\u001b[0m\u001b[0;34m\u001b[0m\u001b[0m\n\u001b[1;32m    232\u001b[0m             \u001b[0;31m# Use internal fork_pty, for Solaris\u001b[0m\u001b[0;34m\u001b[0m\u001b[0;34m\u001b[0m\u001b[0;34m\u001b[0m\u001b[0m\n",
      "\u001b[0;32m~/anaconda3/envs/pytorch_p36/lib/python3.6/pty.py\u001b[0m in \u001b[0;36mfork\u001b[0;34m()\u001b[0m\n\u001b[1;32m     95\u001b[0m \u001b[0;34m\u001b[0m\u001b[0m\n\u001b[1;32m     96\u001b[0m     \u001b[0mmaster_fd\u001b[0m\u001b[0;34m,\u001b[0m \u001b[0mslave_fd\u001b[0m \u001b[0;34m=\u001b[0m \u001b[0mopenpty\u001b[0m\u001b[0;34m(\u001b[0m\u001b[0;34m)\u001b[0m\u001b[0;34m\u001b[0m\u001b[0;34m\u001b[0m\u001b[0m\n\u001b[0;32m---> 97\u001b[0;31m     \u001b[0mpid\u001b[0m \u001b[0;34m=\u001b[0m \u001b[0mos\u001b[0m\u001b[0;34m.\u001b[0m\u001b[0mfork\u001b[0m\u001b[0;34m(\u001b[0m\u001b[0;34m)\u001b[0m\u001b[0;34m\u001b[0m\u001b[0;34m\u001b[0m\u001b[0m\n\u001b[0m\u001b[1;32m     98\u001b[0m     \u001b[0;32mif\u001b[0m \u001b[0mpid\u001b[0m \u001b[0;34m==\u001b[0m \u001b[0mCHILD\u001b[0m\u001b[0;34m:\u001b[0m\u001b[0;34m\u001b[0m\u001b[0;34m\u001b[0m\u001b[0m\n\u001b[1;32m     99\u001b[0m         \u001b[0;31m# Establish a new session.\u001b[0m\u001b[0;34m\u001b[0m\u001b[0;34m\u001b[0m\u001b[0;34m\u001b[0m\u001b[0m\n",
      "\u001b[0;31mOSError\u001b[0m: [Errno 12] Cannot allocate memory"
     ]
    }
   ],
   "source": [
    "# First we will remove all of the files contained in the data_dir directory\n",
    "!rm -r $data_dir/*\n",
    "\n",
    "# And then we delete the directory itself\n",
    "!rmdir $data_dir\n",
    "\n",
    "# Similarly we will remove the files in the cache_dir directory and the directory itself\n",
    "!rm -r $cache_dir/*\n",
    "!rmdir $cache_dir"
   ]
  },
  {
   "cell_type": "code",
   "execution_count": null,
   "metadata": {},
   "outputs": [],
   "source": []
  }
 ],
 "metadata": {
  "kernelspec": {
   "display_name": "conda_pytorch_p36",
   "language": "python",
   "name": "conda_pytorch_p36"
  },
  "language_info": {
   "codemirror_mode": {
    "name": "ipython",
    "version": 3
   },
   "file_extension": ".py",
   "mimetype": "text/x-python",
   "name": "python",
   "nbconvert_exporter": "python",
   "pygments_lexer": "ipython3",
   "version": "3.6.13"
  }
 },
 "nbformat": 4,
 "nbformat_minor": 2
}
