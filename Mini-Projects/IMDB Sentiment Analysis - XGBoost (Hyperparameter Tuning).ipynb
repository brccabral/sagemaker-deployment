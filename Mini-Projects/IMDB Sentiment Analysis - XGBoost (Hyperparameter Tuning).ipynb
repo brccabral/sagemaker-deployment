{
 "cells": [
  {
   "cell_type": "markdown",
   "metadata": {},
   "source": [
    "# Sentiment Analysis\n",
    "\n",
    "## Using XGBoost in SageMaker\n",
    "\n",
    "_Deep Learning Nanodegree Program | Deployment_\n",
    "\n",
    "---\n",
    "\n",
    "In this example of using Amazon's SageMaker service we will construct a random tree model to predict the sentiment of a movie review. You may have seen a version of this example in a pervious lesson although it would have been done using the sklearn package. Instead, we will be using the XGBoost package as it is provided to us by Amazon.\n",
    "\n",
    "## Instructions\n",
    "\n",
    "Some template code has already been provided for you, and you will need to implement additional functionality to successfully complete this notebook. You will not need to modify the included code beyond what is requested. Sections that begin with '**TODO**' in the header indicate that you need to complete or implement some portion within them. Instructions will be provided for each section and the specifics of the implementation are marked in the code block with a `# TODO: ...` comment. Please be sure to read the instructions carefully!\n",
    "\n",
    "In addition to implementing code, there will be questions for you to answer which relate to the task and your implementation. Each section where you will answer a question is preceded by a '**Question:**' header. Carefully read each question and provide your answer below the '**Answer:**' header by editing the Markdown cell.\n",
    "\n",
    "> **Note**: Code and Markdown cells can be executed using the **Shift+Enter** keyboard shortcut. In addition, a cell can be edited by typically clicking it (double-click for Markdown cells) or by pressing **Enter** while it is highlighted."
   ]
  },
  {
   "cell_type": "code",
   "execution_count": null,
   "metadata": {},
   "outputs": [],
   "source": [
    "# Make sure that we use SageMaker 1.x\n",
    "!pip install sagemaker==1.72.0"
   ]
  },
  {
   "cell_type": "markdown",
   "metadata": {},
   "source": [
    "## Step 1: Downloading the data\n",
    "\n",
    "The dataset we are going to use is very popular among researchers in Natural Language Processing, usually referred to as the [IMDb dataset](http://ai.stanford.edu/~amaas/data/sentiment/). It consists of movie reviews from the website [imdb.com](http://www.imdb.com/), each labeled as either '**pos**itive', if the reviewer enjoyed the film, or '**neg**ative' otherwise.\n",
    "\n",
    "> Maas, Andrew L., et al. [Learning Word Vectors for Sentiment Analysis](http://ai.stanford.edu/~amaas/data/sentiment/). In _Proceedings of the 49th Annual Meeting of the Association for Computational Linguistics: Human Language Technologies_. Association for Computational Linguistics, 2011.\n",
    "\n",
    "We begin by using some Jupyter Notebook magic to download and extract the dataset."
   ]
  },
  {
   "cell_type": "code",
   "execution_count": null,
   "metadata": {},
   "outputs": [],
   "source": [
    "%mkdir ../data\n",
    "!wget -O ../data/aclImdb_v1.tar.gz http://ai.stanford.edu/~amaas/data/sentiment/aclImdb_v1.tar.gz\n",
    "!tar -zxf ../data/aclImdb_v1.tar.gz -C ../data"
   ]
  },
  {
   "cell_type": "markdown",
   "metadata": {},
   "source": [
    "## Step 2: Preparing the data\n",
    "\n",
    "The data we have downloaded is split into various files, each of which contains a single review. It will be much easier going forward if we combine these individual files into two large files, one for training and one for testing."
   ]
  },
  {
   "cell_type": "code",
   "execution_count": null,
   "metadata": {},
   "outputs": [],
   "source": [
    "import os\n",
    "import glob\n",
    "from sklearn.utils import shuffle\n",
    "import pickle\n",
    "import numpy as np\n",
    "from sklearn.feature_extraction.text import CountVectorizer\n",
    "import joblib\n",
    "# joblib is an enhanced version of pickle that is more efficient for storing NumPy arrays\n"
   ]
  },
  {
   "cell_type": "code",
   "execution_count": 1,
   "metadata": {},
   "outputs": [],
   "source": [
    "import os\n",
    "import glob\n",
    "\n",
    "def read_imdb_data(data_dir='../data/aclImdb'):\n",
    "    data = {}\n",
    "    labels = {}\n",
    "    \n",
    "    for data_type in ['train', 'test']:\n",
    "        data[data_type] = {}\n",
    "        labels[data_type] = {}\n",
    "        \n",
    "        for sentiment in ['pos', 'neg']:\n",
    "            data[data_type][sentiment] = []\n",
    "            labels[data_type][sentiment] = []\n",
    "            \n",
    "            path = os.path.join(data_dir, data_type, sentiment, '*.txt')\n",
    "            files = glob.glob(path)\n",
    "            \n",
    "            for f in files:\n",
    "                with open(f) as review:\n",
    "                    data[data_type][sentiment].append(review.read())\n",
    "                    # Here we represent a positive review by '1' and a negative review by '0'\n",
    "                    labels[data_type][sentiment].append(1 if sentiment == 'pos' else 0)\n",
    "                    \n",
    "            assert len(data[data_type][sentiment]) == len(labels[data_type][sentiment]), \\\n",
    "                    \"{}/{} data size does not match labels size\".format(data_type, sentiment)\n",
    "                \n",
    "    return data, labels"
   ]
  },
  {
   "cell_type": "code",
   "execution_count": 2,
   "metadata": {},
   "outputs": [
    {
     "name": "stdout",
     "output_type": "stream",
     "text": [
      "IMDB reviews: train = 12500 pos / 12500 neg, test = 12500 pos / 12500 neg\n"
     ]
    }
   ],
   "source": [
    "data, labels = read_imdb_data()\n",
    "print(\"IMDB reviews: train = {} pos / {} neg, test = {} pos / {} neg\".format(\n",
    "            len(data['train']['pos']), len(data['train']['neg']),\n",
    "            len(data['test']['pos']), len(data['test']['neg'])))"
   ]
  },
  {
   "cell_type": "code",
   "execution_count": null,
   "metadata": {},
   "outputs": [],
   "source": [
    "from sklearn.utils import shuffle\n",
    "\n",
    "def prepare_imdb_data(data, labels):\n",
    "    \"\"\"Prepare training and test sets from IMDb movie reviews.\"\"\"\n",
    "    \n",
    "    #Combine positive and negative reviews and labels\n",
    "    data_train = data['train']['pos'] + data['train']['neg']\n",
    "    data_test = data['test']['pos'] + data['test']['neg']\n",
    "    labels_train = labels['train']['pos'] + labels['train']['neg']\n",
    "    labels_test = labels['test']['pos'] + labels['test']['neg']\n",
    "    \n",
    "    #Shuffle reviews and corresponding labels within training and test sets\n",
    "    data_train, labels_train = shuffle(data_train, labels_train)\n",
    "    data_test, labels_test = shuffle(data_test, labels_test)\n",
    "    \n",
    "    # Return a unified training data, test data, training labels, test labets\n",
    "    return data_train, data_test, labels_train, labels_test"
   ]
  },
  {
   "cell_type": "code",
   "execution_count": null,
   "metadata": {},
   "outputs": [],
   "source": [
    "train_X, test_X, train_y, test_y = prepare_imdb_data(data, labels)\n",
    "print(\"IMDb reviews (combined): train = {}, test = {}\".format(len(train_X), len(test_X)))"
   ]
  },
  {
   "cell_type": "code",
   "execution_count": null,
   "metadata": {},
   "outputs": [],
   "source": [
    "train_X[100]"
   ]
  },
  {
   "cell_type": "markdown",
   "metadata": {},
   "source": [
    "## Step 3: Processing the data\n",
    "\n",
    "Now that we have our training and testing datasets merged and ready to use, we need to start processing the raw data into something that will be useable by our machine learning algorithm. To begin with, we remove any html formatting that may appear in the reviews and perform some standard natural language processing in order to homogenize the data."
   ]
  },
  {
   "cell_type": "code",
   "execution_count": null,
   "metadata": {},
   "outputs": [],
   "source": [
    "import nltk\n",
    "nltk.download(\"stopwords\")\n",
    "from nltk.corpus import stopwords\n",
    "from nltk.stem.porter import *\n",
    "stemmer = PorterStemmer()"
   ]
  },
  {
   "cell_type": "code",
   "execution_count": null,
   "metadata": {},
   "outputs": [],
   "source": [
    "import re\n",
    "from bs4 import BeautifulSoup\n",
    "\n",
    "def review_to_words(review, i):\n",
    "    print(i, end = \"\\r\")\n",
    "    text = BeautifulSoup(review, \"html.parser\").get_text() # Remove HTML tags\n",
    "    text = re.sub(r\"[^a-zA-Z0-9]\", \" \", text.lower()) # Convert to lower case\n",
    "    words = text.split() # Split string into words\n",
    "    words = [w for w in words if w not in stopwords.words(\"english\")] # Remove stopwords\n",
    "    words = [PorterStemmer().stem(w) for w in words] # stem\n",
    "    \n",
    "    return words"
   ]
  },
  {
   "cell_type": "code",
   "execution_count": 3,
   "metadata": {},
   "outputs": [],
   "source": [
    "import pickle\n",
    "import numpy as np\n",
    "from sklearn.feature_extraction.text import CountVectorizer\n",
    "import joblib\n",
    "# joblib is an enhanced version of pickle that is more efficient for storing NumPy arrays\n",
    "\n",
    "cache_dir = os.path.join(\"../cache\", \"sentiment_analysis\")  # where to store cache files\n",
    "os.makedirs(cache_dir, exist_ok=True)  # ensure cache directory exists\n",
    "\n",
    "def preprocess_data(data_train, data_test, labels_train, labels_test,\n",
    "                    cache_dir=cache_dir, cache_file=\"preprocessed_data.pkl\"):\n",
    "    \"\"\"Convert each review to words; read from cache if available.\"\"\"\n",
    "\n",
    "    # If cache_file is not None, try to read from it first\n",
    "    cache_data = None\n",
    "    if cache_file is not None:\n",
    "        try:\n",
    "            with open(os.path.join(cache_dir, cache_file), \"rb\") as f:\n",
    "                cache_data = pickle.load(f)\n",
    "            print(\"Read preprocessed data from cache file:\", cache_file)\n",
    "        except:\n",
    "            pass  # unable to read from cache, but that's okay\n",
    "    \n",
    "    # If cache is missing, then do the heavy lifting\n",
    "    if cache_data is None:\n",
    "        # Preprocess training and test data to obtain words for each review\n",
    "        #words_train = list(map(review_to_words, data_train))\n",
    "        #words_test = list(map(review_to_words, data_test))\n",
    "        words_train = [review_to_words(review, i) for i, review in enumerate(data_train)]\n",
    "        words_test = [review_to_words(review, i) for i, review in enumerate(data_test)]\n",
    "        \n",
    "        # Write to cache file for future runs\n",
    "        if cache_file is not None:\n",
    "            cache_data = dict(words_train=words_train, words_test=words_test,\n",
    "                              labels_train=labels_train, labels_test=labels_test)\n",
    "            with open(os.path.join(cache_dir, cache_file), \"wb\") as f:\n",
    "                pickle.dump(cache_data, f)\n",
    "            print(\"Wrote preprocessed data to cache file:\", cache_file)\n",
    "    else:\n",
    "        # Unpack data loaded from cache file\n",
    "        words_train, words_test, labels_train, labels_test = (cache_data['words_train'],\n",
    "                cache_data['words_test'], cache_data['labels_train'], cache_data['labels_test'])\n",
    "    \n",
    "    return words_train, words_test, labels_train, labels_test"
   ]
  },
  {
   "cell_type": "code",
   "execution_count": 28,
   "metadata": {},
   "outputs": [
    {
     "name": "stdout",
     "output_type": "stream",
     "text": [
      "Read preprocessed data from cache file: preprocessed_data.pkl\n"
     ]
    }
   ],
   "source": [
    "# when using cached file\n",
    "train_X = test_X = train_y = test_y = None\n",
    "\n",
    "# Preprocess data\n",
    "train_X, test_X, train_y, test_y = preprocess_data(train_X, test_X, train_y, test_y)\n"
   ]
  },
  {
   "cell_type": "markdown",
   "metadata": {},
   "source": [
    "### Extract Bag-of-Words features\n",
    "\n",
    "For the model we will be implementing, rather than using the reviews directly, we are going to transform each review into a Bag-of-Words feature representation. Keep in mind that 'in the wild' we will only have access to the training set so our transformer can only use the training set to construct a representation."
   ]
  },
  {
   "cell_type": "code",
   "execution_count": 6,
   "metadata": {},
   "outputs": [],
   "source": [
    "import pickle\n",
    "import numpy as np\n",
    "from sklearn.feature_extraction.text import CountVectorizer\n",
    "import joblib\n",
    "# joblib is an enhanced version of pickle that is more efficient for storing NumPy arrays\n",
    "\n",
    "def extract_BoW_features(words_train, words_test, vocabulary_size=5000,\n",
    "                         cache_dir=cache_dir, cache_file=\"bow_features.pkl\"):\n",
    "    \"\"\"Extract Bag-of-Words for a given set of documents, already preprocessed into words.\"\"\"\n",
    "    \n",
    "    # If cache_file is not None, try to read from it first\n",
    "    cache_data = None\n",
    "    if cache_file is not None:\n",
    "        try:\n",
    "            with open(os.path.join(cache_dir, cache_file), \"rb\") as f:\n",
    "                cache_data = joblib.load(f)\n",
    "            print(\"Read features from cache file:\", cache_file)\n",
    "        except:\n",
    "            pass  # unable to read from cache, but that's okay\n",
    "    \n",
    "    # If cache is missing, then do the heavy lifting\n",
    "    if cache_data is None:\n",
    "        print('do CountVectorizer')\n",
    "        # Fit a vectorizer to training documents and use it to transform them\n",
    "        # NOTE: Training documents have already been preprocessed and tokenized into words;\n",
    "        #       pass in dummy functions to skip those steps, e.g. preprocessor=lambda x: x\n",
    "        vectorizer = CountVectorizer(max_features=vocabulary_size,\n",
    "                preprocessor=lambda x: x, tokenizer=lambda x: x)  # already preprocessed\n",
    "        features_train = vectorizer.fit_transform(words_train).toarray()\n",
    "\n",
    "        # Apply the same vectorizer to transform the test documents (ignore unknown words)\n",
    "        features_test = vectorizer.transform(words_test).toarray()\n",
    "        \n",
    "        vocabulary = vectorizer.vocabulary_\n",
    "        \n",
    "        # NOTE: Remember to convert the features using .toarray() for a compact representation\n",
    "        \n",
    "        # Write to cache file for future runs (store vocabulary as well)\n",
    "        if cache_file is not None:\n",
    "            print('save to file '+cache_file)\n",
    "            cache_data = dict(features_train=features_train, features_test=features_test,\n",
    "                             vocabulary=vocabulary)\n",
    "            with open(os.path.join(cache_dir, cache_file), \"wb\") as f:\n",
    "                joblib.dump(cache_data, f)\n",
    "            print(\"Wrote features to cache file:\", cache_file)\n",
    "        else:\n",
    "            print('do not save')\n",
    "    else:\n",
    "        print('using cache')\n",
    "        # Unpack data loaded from cache file\n",
    "        features_train, features_test, vocabulary = (cache_data['features_train'],\n",
    "                cache_data['features_test'], cache_data['vocabulary'])\n",
    "    \n",
    "    # Return both the extracted features as well as the vocabulary\n",
    "    return features_train, features_test, vocabulary"
   ]
  },
  {
   "cell_type": "code",
   "execution_count": 7,
   "metadata": {},
   "outputs": [
    {
     "name": "stdout",
     "output_type": "stream",
     "text": [
      "do CountVectorizer\n",
      "do not save\n"
     ]
    }
   ],
   "source": [
    "# Extract Bag of Words features for both training and test datasets\n",
    "#train_X, test_X, vocabulary = extract_BoW_features(train_X, test_X)\n",
    "# avoid writing big file\n",
    "train_X, test_X, vocabulary = extract_BoW_features(train_X, test_X, cache_file=None)"
   ]
  },
  {
   "cell_type": "code",
   "execution_count": null,
   "metadata": {},
   "outputs": [],
   "source": [
    "train_X.shape"
   ]
  },
  {
   "cell_type": "code",
   "execution_count": null,
   "metadata": {},
   "outputs": [],
   "source": [
    "test_X.shape"
   ]
  },
  {
   "cell_type": "markdown",
   "metadata": {},
   "source": [
    "## Step 4: Classification using XGBoost\n",
    "\n",
    "Now that we have created the feature representation of our training (and testing) data, it is time to start setting up and using the XGBoost classifier provided by SageMaker.\n",
    "\n",
    "### Writing the dataset\n",
    "\n",
    "The XGBoost classifier that we will be using requires the dataset to be written to a file and stored using Amazon S3. To do this, we will start by splitting the training dataset into two parts, the data we will train the model with and a validation set. Then, we will write those datasets to a file and upload the files to S3. In addition, we will write the test set input to a file and upload the file to S3. This is so that we can use SageMakers Batch Transform functionality to test our model once we've fit it."
   ]
  },
  {
   "cell_type": "code",
   "execution_count": 8,
   "metadata": {},
   "outputs": [],
   "source": [
    "import pandas as pd\n",
    "\n",
    "val_X = pd.DataFrame(train_X[:10000])\n",
    "train_X = pd.DataFrame(train_X[10000:])\n",
    "\n",
    "val_y = pd.DataFrame(train_y[:10000])\n",
    "train_y = pd.DataFrame(train_y[10000:])\n",
    "\n",
    "test_y = pd.DataFrame(test_y)\n",
    "test_X = pd.DataFrame(test_X)"
   ]
  },
  {
   "cell_type": "code",
   "execution_count": null,
   "metadata": {},
   "outputs": [],
   "source": [
    "val_X.shape"
   ]
  },
  {
   "cell_type": "code",
   "execution_count": null,
   "metadata": {},
   "outputs": [],
   "source": [
    "val_y.shape"
   ]
  },
  {
   "cell_type": "code",
   "execution_count": null,
   "metadata": {},
   "outputs": [],
   "source": [
    "train_X.shape"
   ]
  },
  {
   "cell_type": "code",
   "execution_count": null,
   "metadata": {},
   "outputs": [],
   "source": [
    "train_y.shape"
   ]
  },
  {
   "cell_type": "code",
   "execution_count": null,
   "metadata": {},
   "outputs": [],
   "source": [
    "test_X.shape"
   ]
  },
  {
   "cell_type": "code",
   "execution_count": null,
   "metadata": {},
   "outputs": [],
   "source": [
    "test_y.shape"
   ]
  },
  {
   "cell_type": "markdown",
   "metadata": {},
   "source": [
    "The documentation for the XGBoost algorithm in SageMaker requires that the saved datasets should contain no headers or index and that for the training and validation data, the label should occur first for each sample.\n",
    "\n",
    "For more information about this and other algorithms, the SageMaker developer documentation can be found on __[Amazon's website.](https://docs.aws.amazon.com/sagemaker/latest/dg/)__"
   ]
  },
  {
   "cell_type": "code",
   "execution_count": 9,
   "metadata": {},
   "outputs": [],
   "source": [
    "# First we make sure that the local directory in which we'd like to store the training and validation csv files exists.\n",
    "data_dir = '../data/xgboost'\n",
    "if not os.path.exists(data_dir):\n",
    "    os.makedirs(data_dir)"
   ]
  },
  {
   "cell_type": "code",
   "execution_count": 10,
   "metadata": {
    "scrolled": true
   },
   "outputs": [],
   "source": [
    "# First, save the test data to test.csv in the data_dir directory. Note that we do not save the associated ground truth\n",
    "# labels, instead we will use them later to compare with our model output.\n",
    "\n",
    "pd.concat([test_X], axis=1).to_csv(os.path.join(data_dir, 'test.csv'), header=False, index=False)\n"
   ]
  },
  {
   "cell_type": "code",
   "execution_count": 11,
   "metadata": {},
   "outputs": [],
   "source": [
    "test_y = test_X = None"
   ]
  },
  {
   "cell_type": "code",
   "execution_count": 12,
   "metadata": {},
   "outputs": [],
   "source": [
    "pd.concat([val_y, val_X], axis=1).to_csv(os.path.join(data_dir, 'validation.csv'), header=False, index=False)\n"
   ]
  },
  {
   "cell_type": "code",
   "execution_count": 13,
   "metadata": {},
   "outputs": [],
   "source": [
    "val_y = val_X = None"
   ]
  },
  {
   "cell_type": "code",
   "execution_count": 14,
   "metadata": {},
   "outputs": [],
   "source": [
    "pd.concat([train_y, train_X], axis=1).to_csv(os.path.join(data_dir, 'train.csv'), header=False, index=False)\n"
   ]
  },
  {
   "cell_type": "code",
   "execution_count": 15,
   "metadata": {},
   "outputs": [],
   "source": [
    "train_y = train_X = None"
   ]
  },
  {
   "cell_type": "code",
   "execution_count": null,
   "metadata": {},
   "outputs": [],
   "source": [
    "# To save a bit of memory we can set text_X, train_X, val_X, train_y and val_y to None.\n",
    "\n",
    "train_X = val_X = train_y = val_y = None"
   ]
  },
  {
   "cell_type": "markdown",
   "metadata": {},
   "source": [
    "### Uploading Training / Validation files to S3\n",
    "\n",
    "Amazon's S3 service allows us to store files that can be access by both the built-in training models such as the XGBoost model we will be using as well as custom models such as the one we will see a little later.\n",
    "\n",
    "For this, and most other tasks we will be doing using SageMaker, there are two methods we could use. The first is to use the low level functionality of SageMaker which requires knowing each of the objects involved in the SageMaker environment. The second is to use the high level functionality in which certain choices have been made on the user's behalf. The low level approach benefits from allowing the user a great deal of flexibility while the high level approach makes development much quicker. For our purposes we will opt to use the high level approach although using the low-level approach is certainly an option.\n",
    "\n",
    "Recall the method `upload_data()` which is a member of object representing our current SageMaker session. What this method does is upload the data to the default bucket (which is created if it does not exist) into the path described by the key_prefix variable. To see this for yourself, once you have uploaded the data files, go to the S3 console and look to see where the files have been uploaded.\n",
    "\n",
    "For additional resources, see the __[SageMaker API documentation](http://sagemaker.readthedocs.io/en/latest/)__ and in addition the __[SageMaker Developer Guide.](https://docs.aws.amazon.com/sagemaker/latest/dg/)__"
   ]
  },
  {
   "cell_type": "code",
   "execution_count": 16,
   "metadata": {},
   "outputs": [],
   "source": [
    "import sagemaker\n",
    "\n",
    "session = sagemaker.Session() # Store the current SageMaker session\n",
    "\n",
    "# S3 prefix (which folder will we use)\n",
    "prefix = 'sentiment-xgboost'\n"
   ]
  },
  {
   "cell_type": "code",
   "execution_count": 17,
   "metadata": {},
   "outputs": [],
   "source": [
    "\n",
    "test_location = session.upload_data(os.path.join(data_dir, 'test.csv'), key_prefix=prefix)\n",
    "val_location = session.upload_data(os.path.join(data_dir, 'validation.csv'), key_prefix=prefix)\n",
    "train_location = session.upload_data(os.path.join(data_dir, 'train.csv'), key_prefix=prefix)"
   ]
  },
  {
   "cell_type": "code",
   "execution_count": null,
   "metadata": {},
   "outputs": [],
   "source": [
    "test_location"
   ]
  },
  {
   "cell_type": "code",
   "execution_count": null,
   "metadata": {},
   "outputs": [],
   "source": [
    "val_location"
   ]
  },
  {
   "cell_type": "code",
   "execution_count": null,
   "metadata": {},
   "outputs": [],
   "source": [
    "train_location"
   ]
  },
  {
   "cell_type": "markdown",
   "metadata": {},
   "source": [
    "### (TODO) Creating a hypertuned XGBoost model\n",
    "\n",
    "Now that the data has been uploaded it is time to create the XGBoost model. As in the Boston Housing notebook, the first step is to create an estimator object which will be used as the *base* of your hyperparameter tuning job."
   ]
  },
  {
   "cell_type": "code",
   "execution_count": 18,
   "metadata": {},
   "outputs": [],
   "source": [
    "from sagemaker import get_execution_role\n",
    "\n",
    "# Our current execution role is require when creating the model as the training\n",
    "# and inference code will need to access the model artifacts.\n",
    "role = get_execution_role()"
   ]
  },
  {
   "cell_type": "code",
   "execution_count": 19,
   "metadata": {},
   "outputs": [
    {
     "name": "stderr",
     "output_type": "stream",
     "text": [
      "'get_image_uri' method will be deprecated in favor of 'ImageURIProvider' class in SageMaker Python SDK v2.\n",
      "There is a more up to date SageMaker XGBoost image. To use the newer image, please set 'repo_version'='1.0-1'. For example:\n",
      "\tget_image_uri(region, 'xgboost', '1.0-1').\n"
     ]
    }
   ],
   "source": [
    "# We need to retrieve the location of the container which is provided by Amazon for using XGBoost.\n",
    "# As a matter of convenience, the training and inference code both use the same container.\n",
    "from sagemaker.amazon.amazon_estimator import get_image_uri\n",
    "\n",
    "container = get_image_uri(session.boto_region_name, 'xgboost')"
   ]
  },
  {
   "cell_type": "code",
   "execution_count": null,
   "metadata": {},
   "outputs": [],
   "source": [
    "# TODO: Create a SageMaker estimator using the container location determined in the previous cell.\n",
    "#       It is recommended that you use a single training instance of type ml.m4.xlarge. It is also\n",
    "#       recommended that you use 's3://{}/{}/output'.format(session.default_bucket(), prefix) as the\n",
    "#       output path.\n",
    "\n",
    "xgb = sagemaker.estimator.Estimator(container, # The name of the training container\n",
    "                                    role,      # The IAM role to use (our current role in this case)\n",
    "                                    train_instance_count=1, # The number of instances to use for training\n",
    "                                    train_instance_type='ml.m4.xlarge', # The type of instance ot use for training\n",
    "                                    output_path='s3://{}/{}/output'.format(session.default_bucket(), prefix),\n",
    "                                                                        # Where to save the output (the model artifacts)\n",
    "                                    sagemaker_session=session) # The current SageMaker session\n",
    "\n",
    "# TODO: Set the XGBoost hyperparameters in the xgb object. Don't forget that in this case we have a binary\n",
    "#       label so we should be using the 'binary:logistic' objective.\n",
    "xgb.set_hyperparameters(max_depth=5,\n",
    "                        eta=0.2,\n",
    "                        gamma=4,\n",
    "                        min_child_weight=6,\n",
    "                        subsample=0.8,\n",
    "                        objective='binary:logistic',\n",
    "                        early_stopping_rounds=10,\n",
    "                        num_round=200)\n"
   ]
  },
  {
   "cell_type": "markdown",
   "metadata": {},
   "source": [
    "### (TODO) Create the hyperparameter tuner\n",
    "\n",
    "Now that the base estimator has been set up we need to construct a hyperparameter tuner object which we will use to request SageMaker construct a hyperparameter tuning job.\n",
    "\n",
    "**Note:** Training a single sentiment analysis XGBoost model takes longer than training a Boston Housing XGBoost model so if you don't want the hyperparameter tuning job to take too long, make sure to not set the total number of models (jobs) too high."
   ]
  },
  {
   "cell_type": "code",
   "execution_count": null,
   "metadata": {},
   "outputs": [],
   "source": [
    "# First, make sure to import the relevant objects used to construct the tuner\n",
    "from sagemaker.tuner import IntegerParameter, ContinuousParameter, HyperparameterTuner\n",
    "\n",
    "# TODO: Create the hyperparameter tuner object\n",
    "\n",
    "xgb_hyperparameter_tuner = HyperparameterTuner(estimator = xgb, # The estimator object to use as the basis for the training jobs.\n",
    "                                               objective_metric_name = 'validation:rmse', # The metric used to compare trained models.\n",
    "                                               objective_type = 'Minimize', # Whether we wish to minimize or maximize the metric.\n",
    "                                               max_jobs = 3, # The total number of models to train\n",
    "                                               max_parallel_jobs = 3, # The number of models to train in parallel\n",
    "                                               hyperparameter_ranges = {\n",
    "                                                    'max_depth': IntegerParameter(3, 12),\n",
    "                                                    'eta'      : ContinuousParameter(0.05, 0.5),\n",
    "                                                    'min_child_weight': IntegerParameter(2, 8),\n",
    "                                                    'subsample': ContinuousParameter(0.5, 0.9),\n",
    "                                                    'gamma': ContinuousParameter(0, 10),\n",
    "                                               })\n",
    "\n"
   ]
  },
  {
   "cell_type": "markdown",
   "metadata": {},
   "source": [
    "### Fit the hyperparameter tuner\n",
    "\n",
    "Now that the hyperparameter tuner object has been constructed, it is time to fit the various models and find the best performing model."
   ]
  },
  {
   "cell_type": "code",
   "execution_count": 20,
   "metadata": {},
   "outputs": [
    {
     "name": "stderr",
     "output_type": "stream",
     "text": [
      "'s3_input' class will be renamed to 'TrainingInput' in SageMaker Python SDK v2.\n",
      "'s3_input' class will be renamed to 'TrainingInput' in SageMaker Python SDK v2.\n"
     ]
    }
   ],
   "source": [
    "s3_input_train = sagemaker.s3_input(s3_data=train_location, content_type='csv')\n",
    "s3_input_validation = sagemaker.s3_input(s3_data=val_location, content_type='csv')"
   ]
  },
  {
   "cell_type": "code",
   "execution_count": null,
   "metadata": {},
   "outputs": [],
   "source": [
    "xgb_hyperparameter_tuner.fit({'train': s3_input_train, 'validation': s3_input_validation})"
   ]
  },
  {
   "cell_type": "markdown",
   "metadata": {},
   "source": [
    "Remember that the tuning job is constructed and run in the background so if we want to see the progress of our training job we need to call the `wait()` method."
   ]
  },
  {
   "cell_type": "code",
   "execution_count": null,
   "metadata": {},
   "outputs": [],
   "source": [
    "xgb_hyperparameter_tuner.wait()"
   ]
  },
  {
   "cell_type": "markdown",
   "metadata": {},
   "source": [
    "### (TODO) Testing the model\n",
    "\n",
    "Now that we've run our hyperparameter tuning job, it's time to see how well the best performing model actually performs. To do this we will use SageMaker's Batch Transform functionality. Batch Transform is a convenient way to perform inference on a large dataset in a way that is not realtime. That is, we don't necessarily need to use our model's results immediately and instead we can peform inference on a large number of samples. An example of this in industry might be peforming an end of month report. This method of inference can also be useful to us as it means to can perform inference on our entire test set. \n",
    "\n",
    "Remember that in order to create a transformer object to perform the batch transform job, we need a trained estimator object. We can do that using the `attach()` method, creating an estimator object which is attached to the best trained job."
   ]
  },
  {
   "cell_type": "code",
   "execution_count": 21,
   "metadata": {},
   "outputs": [
    {
     "name": "stderr",
     "output_type": "stream",
     "text": [
      "Parameter image_name will be renamed to image_uri in SageMaker Python SDK v2.\n"
     ]
    },
    {
     "name": "stdout",
     "output_type": "stream",
     "text": [
      "2022-01-31 22:34:28 Starting - Preparing the instances for training\n",
      "2022-01-31 22:34:28 Downloading - Downloading input data\n",
      "2022-01-31 22:34:28 Training - Training image download completed. Training in progress.\n",
      "2022-01-31 22:34:28 Uploading - Uploading generated training model\n",
      "2022-01-31 22:34:28 Completed - Training job completed\u001b[34mArguments: train\u001b[0m\n",
      "\u001b[34m[2022-01-31:22:23:24:INFO] Running standalone xgboost training.\u001b[0m\n",
      "\u001b[34m[2022-01-31:22:23:24:INFO] Setting up HPO optimized metric to be : rmse\u001b[0m\n",
      "\u001b[34m[2022-01-31:22:23:24:INFO] File size need to be processed in the node: 238.47mb. Available memory size in the node: 8363.69mb\u001b[0m\n",
      "\u001b[34m[2022-01-31:22:23:24:INFO] Determined delimiter of CSV input is ','\u001b[0m\n",
      "\u001b[34m[22:23:24] S3DistributionType set as FullyReplicated\u001b[0m\n",
      "\u001b[34m[22:23:26] 15000x5000 matrix with 75000000 entries loaded from /opt/ml/input/data/train?format=csv&label_column=0&delimiter=,\u001b[0m\n",
      "\u001b[34m[2022-01-31:22:23:26:INFO] Determined delimiter of CSV input is ','\u001b[0m\n",
      "\u001b[34m[22:23:26] S3DistributionType set as FullyReplicated\u001b[0m\n",
      "\u001b[34m[22:23:27] 10000x5000 matrix with 50000000 entries loaded from /opt/ml/input/data/validation?format=csv&label_column=0&delimiter=,\u001b[0m\n",
      "\u001b[34m[22:23:33] src/tree/updater_prune.cc:74: tree pruning end, 1 roots, 160 extra nodes, 32 pruned nodes, max_depth=12\u001b[0m\n",
      "\u001b[34m[0]#011train-rmse:0.475637#011validation-rmse:0.477356\u001b[0m\n",
      "\u001b[34mMultiple eval metrics have been passed: 'validation-rmse' will be used for early stopping.\u001b[0m\n",
      "\u001b[34mWill train until validation-rmse hasn't improved in 10 rounds.\u001b[0m\n",
      "\u001b[34m[22:23:37] src/tree/updater_prune.cc:74: tree pruning end, 1 roots, 120 extra nodes, 38 pruned nodes, max_depth=12\u001b[0m\n",
      "\u001b[34m[1]#011train-rmse:0.457225#011validation-rmse:0.460428\u001b[0m\n",
      "\u001b[34m[22:23:40] src/tree/updater_prune.cc:74: tree pruning end, 1 roots, 148 extra nodes, 54 pruned nodes, max_depth=12\u001b[0m\n",
      "\u001b[34m[2]#011train-rmse:0.442196#011validation-rmse:0.447136\u001b[0m\n",
      "\u001b[34m[22:23:43] src/tree/updater_prune.cc:74: tree pruning end, 1 roots, 146 extra nodes, 48 pruned nodes, max_depth=12\u001b[0m\n",
      "\u001b[34m[3]#011train-rmse:0.430129#011validation-rmse:0.437044\u001b[0m\n",
      "\u001b[34m[22:23:47] src/tree/updater_prune.cc:74: tree pruning end, 1 roots, 148 extra nodes, 40 pruned nodes, max_depth=12\u001b[0m\n",
      "\u001b[34m[4]#011train-rmse:0.419285#011validation-rmse:0.428063\u001b[0m\n",
      "\u001b[34m[22:23:50] src/tree/updater_prune.cc:74: tree pruning end, 1 roots, 116 extra nodes, 42 pruned nodes, max_depth=12\u001b[0m\n",
      "\u001b[34m[5]#011train-rmse:0.410474#011validation-rmse:0.420745\u001b[0m\n",
      "\u001b[34m[22:23:53] src/tree/updater_prune.cc:74: tree pruning end, 1 roots, 148 extra nodes, 44 pruned nodes, max_depth=12\u001b[0m\n",
      "\u001b[34m[6]#011train-rmse:0.40266#011validation-rmse:0.415017\u001b[0m\n",
      "\u001b[34m[22:23:57] src/tree/updater_prune.cc:74: tree pruning end, 1 roots, 118 extra nodes, 54 pruned nodes, max_depth=12\u001b[0m\n",
      "\u001b[34m[7]#011train-rmse:0.395535#011validation-rmse:0.409077\u001b[0m\n",
      "\u001b[34m[22:24:00] src/tree/updater_prune.cc:74: tree pruning end, 1 roots, 108 extra nodes, 34 pruned nodes, max_depth=12\u001b[0m\n",
      "\u001b[34m[8]#011train-rmse:0.389381#011validation-rmse:0.404214\u001b[0m\n",
      "\u001b[34m[22:24:04] src/tree/updater_prune.cc:74: tree pruning end, 1 roots, 118 extra nodes, 50 pruned nodes, max_depth=12\u001b[0m\n",
      "\u001b[34m[9]#011train-rmse:0.38296#011validation-rmse:0.399531\u001b[0m\n",
      "\u001b[34m[22:24:07] src/tree/updater_prune.cc:74: tree pruning end, 1 roots, 74 extra nodes, 40 pruned nodes, max_depth=12\u001b[0m\n",
      "\u001b[34m[10]#011train-rmse:0.378183#011validation-rmse:0.395708\u001b[0m\n",
      "\u001b[34m[22:24:10] src/tree/updater_prune.cc:74: tree pruning end, 1 roots, 122 extra nodes, 42 pruned nodes, max_depth=12\u001b[0m\n",
      "\u001b[34m[11]#011train-rmse:0.372864#011validation-rmse:0.391853\u001b[0m\n",
      "\u001b[34m[22:24:14] src/tree/updater_prune.cc:74: tree pruning end, 1 roots, 100 extra nodes, 24 pruned nodes, max_depth=12\u001b[0m\n",
      "\u001b[34m[12]#011train-rmse:0.368163#011validation-rmse:0.388026\u001b[0m\n",
      "\u001b[34m[22:24:17] src/tree/updater_prune.cc:74: tree pruning end, 1 roots, 102 extra nodes, 34 pruned nodes, max_depth=12\u001b[0m\n",
      "\u001b[34m[13]#011train-rmse:0.363245#011validation-rmse:0.384273\u001b[0m\n",
      "\u001b[34m[22:24:20] src/tree/updater_prune.cc:74: tree pruning end, 1 roots, 90 extra nodes, 48 pruned nodes, max_depth=12\u001b[0m\n",
      "\u001b[34m[14]#011train-rmse:0.359456#011validation-rmse:0.381364\u001b[0m\n",
      "\u001b[34m[22:24:23] src/tree/updater_prune.cc:74: tree pruning end, 1 roots, 90 extra nodes, 30 pruned nodes, max_depth=12\u001b[0m\n",
      "\u001b[34m[15]#011train-rmse:0.355777#011validation-rmse:0.378676\u001b[0m\n",
      "\u001b[34m[22:24:26] src/tree/updater_prune.cc:74: tree pruning end, 1 roots, 108 extra nodes, 46 pruned nodes, max_depth=12\u001b[0m\n",
      "\u001b[34m[16]#011train-rmse:0.351969#011validation-rmse:0.376378\u001b[0m\n",
      "\u001b[34m[22:24:30] src/tree/updater_prune.cc:74: tree pruning end, 1 roots, 120 extra nodes, 66 pruned nodes, max_depth=12\u001b[0m\n",
      "\u001b[34m[17]#011train-rmse:0.348156#011validation-rmse:0.374552\u001b[0m\n",
      "\u001b[34m[22:24:33] src/tree/updater_prune.cc:74: tree pruning end, 1 roots, 90 extra nodes, 28 pruned nodes, max_depth=12\u001b[0m\n",
      "\u001b[34m[18]#011train-rmse:0.344663#011validation-rmse:0.371771\u001b[0m\n",
      "\u001b[34m[22:24:36] src/tree/updater_prune.cc:74: tree pruning end, 1 roots, 106 extra nodes, 30 pruned nodes, max_depth=12\u001b[0m\n",
      "\u001b[34m[19]#011train-rmse:0.341031#011validation-rmse:0.369402\u001b[0m\n",
      "\u001b[34m[22:24:39] src/tree/updater_prune.cc:74: tree pruning end, 1 roots, 44 extra nodes, 26 pruned nodes, max_depth=12\u001b[0m\n",
      "\u001b[34m[20]#011train-rmse:0.338683#011validation-rmse:0.367483\u001b[0m\n",
      "\u001b[34m[22:24:42] src/tree/updater_prune.cc:74: tree pruning end, 1 roots, 82 extra nodes, 32 pruned nodes, max_depth=12\u001b[0m\n",
      "\u001b[34m[21]#011train-rmse:0.33597#011validation-rmse:0.365543\u001b[0m\n",
      "\u001b[34m[22:24:46] src/tree/updater_prune.cc:74: tree pruning end, 1 roots, 64 extra nodes, 38 pruned nodes, max_depth=12\u001b[0m\n",
      "\u001b[34m[22]#011train-rmse:0.333278#011validation-rmse:0.363583\u001b[0m\n",
      "\u001b[34m[22:24:49] src/tree/updater_prune.cc:74: tree pruning end, 1 roots, 90 extra nodes, 30 pruned nodes, max_depth=12\u001b[0m\n",
      "\u001b[34m[23]#011train-rmse:0.330616#011validation-rmse:0.362228\u001b[0m\n",
      "\u001b[34m[22:24:52] src/tree/updater_prune.cc:74: tree pruning end, 1 roots, 114 extra nodes, 52 pruned nodes, max_depth=12\u001b[0m\n",
      "\u001b[34m[24]#011train-rmse:0.327633#011validation-rmse:0.360834\u001b[0m\n",
      "\u001b[34m[22:24:55] src/tree/updater_prune.cc:74: tree pruning end, 1 roots, 86 extra nodes, 38 pruned nodes, max_depth=12\u001b[0m\n",
      "\u001b[34m[25]#011train-rmse:0.325138#011validation-rmse:0.359277\u001b[0m\n",
      "\u001b[34m[22:24:58] src/tree/updater_prune.cc:74: tree pruning end, 1 roots, 68 extra nodes, 32 pruned nodes, max_depth=12\u001b[0m\n",
      "\u001b[34m[26]#011train-rmse:0.323018#011validation-rmse:0.357459\u001b[0m\n",
      "\u001b[34m[22:25:02] src/tree/updater_prune.cc:74: tree pruning end, 1 roots, 114 extra nodes, 44 pruned nodes, max_depth=12\u001b[0m\n",
      "\u001b[34m[27]#011train-rmse:0.320121#011validation-rmse:0.35618\u001b[0m\n",
      "\u001b[34m[22:25:05] src/tree/updater_prune.cc:74: tree pruning end, 1 roots, 66 extra nodes, 36 pruned nodes, max_depth=12\u001b[0m\n",
      "\u001b[34m[28]#011train-rmse:0.318154#011validation-rmse:0.355101\u001b[0m\n",
      "\u001b[34m[22:25:09] src/tree/updater_prune.cc:74: tree pruning end, 1 roots, 56 extra nodes, 32 pruned nodes, max_depth=12\u001b[0m\n",
      "\u001b[34m[29]#011train-rmse:0.316202#011validation-rmse:0.354073\u001b[0m\n",
      "\u001b[34m[22:25:12] src/tree/updater_prune.cc:74: tree pruning end, 1 roots, 112 extra nodes, 30 pruned nodes, max_depth=12\u001b[0m\n",
      "\u001b[34m[30]#011train-rmse:0.313397#011validation-rmse:0.352603\u001b[0m\n",
      "\u001b[34m[22:25:16] src/tree/updater_prune.cc:74: tree pruning end, 1 roots, 88 extra nodes, 28 pruned nodes, max_depth=12\u001b[0m\n",
      "\u001b[34m[31]#011train-rmse:0.311218#011validation-rmse:0.351423\u001b[0m\n",
      "\u001b[34m[22:25:19] src/tree/updater_prune.cc:74: tree pruning end, 1 roots, 64 extra nodes, 36 pruned nodes, max_depth=12\u001b[0m\n",
      "\u001b[34m[32]#011train-rmse:0.309367#011validation-rmse:0.350214\u001b[0m\n",
      "\u001b[34m[22:25:22] src/tree/updater_prune.cc:74: tree pruning end, 1 roots, 70 extra nodes, 40 pruned nodes, max_depth=12\u001b[0m\n",
      "\u001b[34m[33]#011train-rmse:0.307454#011validation-rmse:0.349235\u001b[0m\n",
      "\u001b[34m[22:25:25] src/tree/updater_prune.cc:74: tree pruning end, 1 roots, 90 extra nodes, 40 pruned nodes, max_depth=12\u001b[0m\n",
      "\u001b[34m[34]#011train-rmse:0.305129#011validation-rmse:0.348178\u001b[0m\n",
      "\u001b[34m[22:25:28] src/tree/updater_prune.cc:74: tree pruning end, 1 roots, 76 extra nodes, 34 pruned nodes, max_depth=12\u001b[0m\n",
      "\u001b[34m[35]#011train-rmse:0.303326#011validation-rmse:0.347021\u001b[0m\n",
      "\u001b[34m[22:25:32] src/tree/updater_prune.cc:74: tree pruning end, 1 roots, 54 extra nodes, 30 pruned nodes, max_depth=12\u001b[0m\n",
      "\u001b[34m[36]#011train-rmse:0.301656#011validation-rmse:0.346117\u001b[0m\n",
      "\u001b[34m[22:25:35] src/tree/updater_prune.cc:74: tree pruning end, 1 roots, 70 extra nodes, 20 pruned nodes, max_depth=12\u001b[0m\n",
      "\u001b[34m[37]#011train-rmse:0.2999#011validation-rmse:0.345213\u001b[0m\n",
      "\u001b[34m[22:25:38] src/tree/updater_prune.cc:74: tree pruning end, 1 roots, 56 extra nodes, 38 pruned nodes, max_depth=12\u001b[0m\n",
      "\u001b[34m[38]#011train-rmse:0.298288#011validation-rmse:0.344406\u001b[0m\n",
      "\u001b[34m[22:25:41] src/tree/updater_prune.cc:74: tree pruning end, 1 roots, 62 extra nodes, 28 pruned nodes, max_depth=12\u001b[0m\n",
      "\u001b[34m[39]#011train-rmse:0.296893#011validation-rmse:0.343535\u001b[0m\n",
      "\u001b[34m[22:25:45] src/tree/updater_prune.cc:74: tree pruning end, 1 roots, 66 extra nodes, 26 pruned nodes, max_depth=12\u001b[0m\n",
      "\u001b[34m[40]#011train-rmse:0.295345#011validation-rmse:0.34283\u001b[0m\n",
      "\u001b[34m[22:25:48] src/tree/updater_prune.cc:74: tree pruning end, 1 roots, 80 extra nodes, 38 pruned nodes, max_depth=12\u001b[0m\n",
      "\u001b[34m[41]#011train-rmse:0.293507#011validation-rmse:0.342333\u001b[0m\n",
      "\u001b[34m[22:25:51] src/tree/updater_prune.cc:74: tree pruning end, 1 roots, 70 extra nodes, 48 pruned nodes, max_depth=12\u001b[0m\n",
      "\u001b[34m[42]#011train-rmse:0.29198#011validation-rmse:0.341665\u001b[0m\n",
      "\u001b[34m[22:25:54] src/tree/updater_prune.cc:74: tree pruning end, 1 roots, 54 extra nodes, 22 pruned nodes, max_depth=12\u001b[0m\n",
      "\u001b[34m[43]#011train-rmse:0.290546#011validation-rmse:0.340896\u001b[0m\n",
      "\u001b[34m[22:25:57] src/tree/updater_prune.cc:74: tree pruning end, 1 roots, 96 extra nodes, 34 pruned nodes, max_depth=12\u001b[0m\n",
      "\u001b[34m[44]#011train-rmse:0.288497#011validation-rmse:0.340083\u001b[0m\n",
      "\u001b[34m[22:26:01] src/tree/updater_prune.cc:74: tree pruning end, 1 roots, 56 extra nodes, 22 pruned nodes, max_depth=12\u001b[0m\n",
      "\u001b[34m[45]#011train-rmse:0.286999#011validation-rmse:0.339201\u001b[0m\n",
      "\u001b[34m[22:26:04] src/tree/updater_prune.cc:74: tree pruning end, 1 roots, 40 extra nodes, 26 pruned nodes, max_depth=12\u001b[0m\n",
      "\u001b[34m[46]#011train-rmse:0.285934#011validation-rmse:0.338474\u001b[0m\n",
      "\u001b[34m[22:26:08] src/tree/updater_prune.cc:74: tree pruning end, 1 roots, 54 extra nodes, 48 pruned nodes, max_depth=12\u001b[0m\n",
      "\u001b[34m[47]#011train-rmse:0.284634#011validation-rmse:0.33763\u001b[0m\n",
      "\u001b[34m[22:26:11] src/tree/updater_prune.cc:74: tree pruning end, 1 roots, 34 extra nodes, 14 pruned nodes, max_depth=12\u001b[0m\n",
      "\u001b[34m[48]#011train-rmse:0.283768#011validation-rmse:0.337044\u001b[0m\n",
      "\u001b[34m[22:26:14] src/tree/updater_prune.cc:74: tree pruning end, 1 roots, 42 extra nodes, 38 pruned nodes, max_depth=12\u001b[0m\n",
      "\u001b[34m[49]#011train-rmse:0.282765#011validation-rmse:0.33643\u001b[0m\n",
      "\u001b[34m[22:26:17] src/tree/updater_prune.cc:74: tree pruning end, 1 roots, 64 extra nodes, 10 pruned nodes, max_depth=12\u001b[0m\n",
      "\u001b[34m[50]#011train-rmse:0.281494#011validation-rmse:0.335738\u001b[0m\n",
      "\u001b[34m[22:26:20] src/tree/updater_prune.cc:74: tree pruning end, 1 roots, 76 extra nodes, 50 pruned nodes, max_depth=12\u001b[0m\n",
      "\u001b[34m[51]#011train-rmse:0.279838#011validation-rmse:0.335273\u001b[0m\n",
      "\u001b[34m[22:26:24] src/tree/updater_prune.cc:74: tree pruning end, 1 roots, 64 extra nodes, 10 pruned nodes, max_depth=12\u001b[0m\n",
      "\u001b[34m[52]#011train-rmse:0.278441#011validation-rmse:0.33461\u001b[0m\n",
      "\u001b[34m[22:26:27] src/tree/updater_prune.cc:74: tree pruning end, 1 roots, 38 extra nodes, 26 pruned nodes, max_depth=12\u001b[0m\n",
      "\u001b[34m[53]#011train-rmse:0.277494#011validation-rmse:0.334024\u001b[0m\n",
      "\u001b[34m[22:26:30] src/tree/updater_prune.cc:74: tree pruning end, 1 roots, 42 extra nodes, 32 pruned nodes, max_depth=12\u001b[0m\n",
      "\u001b[34m[54]#011train-rmse:0.276516#011validation-rmse:0.33318\u001b[0m\n",
      "\u001b[34m[22:26:33] src/tree/updater_prune.cc:74: tree pruning end, 1 roots, 68 extra nodes, 32 pruned nodes, max_depth=12\u001b[0m\n",
      "\u001b[34m[55]#011train-rmse:0.274949#011validation-rmse:0.332623\u001b[0m\n",
      "\u001b[34m[22:26:36] src/tree/updater_prune.cc:74: tree pruning end, 1 roots, 36 extra nodes, 24 pruned nodes, max_depth=12\u001b[0m\n",
      "\u001b[34m[56]#011train-rmse:0.273983#011validation-rmse:0.332193\u001b[0m\n",
      "\u001b[34m[22:26:40] src/tree/updater_prune.cc:74: tree pruning end, 1 roots, 72 extra nodes, 28 pruned nodes, max_depth=12\u001b[0m\n",
      "\u001b[34m[57]#011train-rmse:0.272413#011validation-rmse:0.331725\u001b[0m\n",
      "\u001b[34m[22:26:43] src/tree/updater_prune.cc:74: tree pruning end, 1 roots, 52 extra nodes, 36 pruned nodes, max_depth=12\u001b[0m\n",
      "\u001b[34m[58]#011train-rmse:0.271483#011validation-rmse:0.331304\u001b[0m\n",
      "\u001b[34m[22:26:46] src/tree/updater_prune.cc:74: tree pruning end, 1 roots, 42 extra nodes, 20 pruned nodes, max_depth=12\u001b[0m\n",
      "\u001b[34m[59]#011train-rmse:0.270684#011validation-rmse:0.33094\u001b[0m\n",
      "\u001b[34m[22:26:49] src/tree/updater_prune.cc:74: tree pruning end, 1 roots, 38 extra nodes, 20 pruned nodes, max_depth=12\u001b[0m\n",
      "\u001b[34m[60]#011train-rmse:0.269779#011validation-rmse:0.330377\u001b[0m\n",
      "\u001b[34m[22:26:52] src/tree/updater_prune.cc:74: tree pruning end, 1 roots, 54 extra nodes, 14 pruned nodes, max_depth=12\u001b[0m\n",
      "\u001b[34m[61]#011train-rmse:0.268814#011validation-rmse:0.330001\u001b[0m\n",
      "\u001b[34m[22:26:56] src/tree/updater_prune.cc:74: tree pruning end, 1 roots, 56 extra nodes, 34 pruned nodes, max_depth=12\u001b[0m\n",
      "\u001b[34m[62]#011train-rmse:0.267741#011validation-rmse:0.329568\u001b[0m\n",
      "\u001b[34m[22:26:59] src/tree/updater_prune.cc:74: tree pruning end, 1 roots, 76 extra nodes, 62 pruned nodes, max_depth=12\u001b[0m\n",
      "\u001b[34m[63]#011train-rmse:0.266388#011validation-rmse:0.329167\u001b[0m\n",
      "\u001b[34m[22:27:02] src/tree/updater_prune.cc:74: tree pruning end, 1 roots, 44 extra nodes, 36 pruned nodes, max_depth=12\u001b[0m\n",
      "\u001b[34m[64]#011train-rmse:0.265374#011validation-rmse:0.32881\u001b[0m\n",
      "\u001b[34m[22:27:06] src/tree/updater_prune.cc:74: tree pruning end, 1 roots, 60 extra nodes, 32 pruned nodes, max_depth=12\u001b[0m\n",
      "\u001b[34m[65]#011train-rmse:0.264279#011validation-rmse:0.328525\u001b[0m\n",
      "\u001b[34m[22:27:09] src/tree/updater_prune.cc:74: tree pruning end, 1 roots, 34 extra nodes, 20 pruned nodes, max_depth=12\u001b[0m\n",
      "\u001b[34m[66]#011train-rmse:0.263569#011validation-rmse:0.328199\u001b[0m\n",
      "\u001b[34m[22:27:12] src/tree/updater_prune.cc:74: tree pruning end, 1 roots, 48 extra nodes, 16 pruned nodes, max_depth=12\u001b[0m\n",
      "\u001b[34m[67]#011train-rmse:0.262635#011validation-rmse:0.327685\u001b[0m\n",
      "\u001b[34m[22:27:16] src/tree/updater_prune.cc:74: tree pruning end, 1 roots, 42 extra nodes, 28 pruned nodes, max_depth=12\u001b[0m\n",
      "\u001b[34m[68]#011train-rmse:0.261765#011validation-rmse:0.327109\u001b[0m\n",
      "\u001b[34m[22:27:19] src/tree/updater_prune.cc:74: tree pruning end, 1 roots, 46 extra nodes, 30 pruned nodes, max_depth=12\u001b[0m\n",
      "\u001b[34m[69]#011train-rmse:0.260982#011validation-rmse:0.326767\u001b[0m\n",
      "\u001b[34m[22:27:22] src/tree/updater_prune.cc:74: tree pruning end, 1 roots, 30 extra nodes, 14 pruned nodes, max_depth=12\u001b[0m\n",
      "\u001b[34m[70]#011train-rmse:0.260334#011validation-rmse:0.326305\u001b[0m\n",
      "\u001b[34m[22:27:25] src/tree/updater_prune.cc:74: tree pruning end, 1 roots, 46 extra nodes, 30 pruned nodes, max_depth=12\u001b[0m\n",
      "\u001b[34m[71]#011train-rmse:0.259431#011validation-rmse:0.325932\u001b[0m\n",
      "\u001b[34m[22:27:28] src/tree/updater_prune.cc:74: tree pruning end, 1 roots, 40 extra nodes, 18 pruned nodes, max_depth=12\u001b[0m\n",
      "\u001b[34m[72]#011train-rmse:0.258643#011validation-rmse:0.325532\u001b[0m\n",
      "\u001b[34m[22:27:31] src/tree/updater_prune.cc:74: tree pruning end, 1 roots, 48 extra nodes, 34 pruned nodes, max_depth=12\u001b[0m\n",
      "\u001b[34m[73]#011train-rmse:0.25781#011validation-rmse:0.325171\u001b[0m\n",
      "\u001b[34m[22:27:34] src/tree/updater_prune.cc:74: tree pruning end, 1 roots, 56 extra nodes, 44 pruned nodes, max_depth=12\u001b[0m\n",
      "\u001b[34m[74]#011train-rmse:0.256932#011validation-rmse:0.324784\u001b[0m\n",
      "\u001b[34m[22:27:38] src/tree/updater_prune.cc:74: tree pruning end, 1 roots, 28 extra nodes, 18 pruned nodes, max_depth=12\u001b[0m\n",
      "\u001b[34m[75]#011train-rmse:0.256352#011validation-rmse:0.324479\u001b[0m\n",
      "\u001b[34m[22:27:41] src/tree/updater_prune.cc:74: tree pruning end, 1 roots, 36 extra nodes, 22 pruned nodes, max_depth=12\u001b[0m\n",
      "\u001b[34m[76]#011train-rmse:0.255728#011validation-rmse:0.324064\u001b[0m\n",
      "\u001b[34m[22:27:44] src/tree/updater_prune.cc:74: tree pruning end, 1 roots, 62 extra nodes, 38 pruned nodes, max_depth=12\u001b[0m\n",
      "\u001b[34m[77]#011train-rmse:0.254638#011validation-rmse:0.323784\u001b[0m\n",
      "\u001b[34m[22:27:47] src/tree/updater_prune.cc:74: tree pruning end, 1 roots, 38 extra nodes, 28 pruned nodes, max_depth=12\u001b[0m\n",
      "\u001b[34m[78]#011train-rmse:0.253967#011validation-rmse:0.323434\u001b[0m\n",
      "\u001b[34m[22:27:50] src/tree/updater_prune.cc:74: tree pruning end, 1 roots, 48 extra nodes, 20 pruned nodes, max_depth=12\u001b[0m\n",
      "\u001b[34m[79]#011train-rmse:0.253181#011validation-rmse:0.323022\u001b[0m\n",
      "\u001b[34m[22:27:53] src/tree/updater_prune.cc:74: tree pruning end, 1 roots, 46 extra nodes, 40 pruned nodes, max_depth=12\u001b[0m\n",
      "\u001b[34m[80]#011train-rmse:0.252396#011validation-rmse:0.322594\u001b[0m\n",
      "\u001b[34m[22:27:57] src/tree/updater_prune.cc:74: tree pruning end, 1 roots, 32 extra nodes, 24 pruned nodes, max_depth=12\u001b[0m\n",
      "\u001b[34m[81]#011train-rmse:0.251874#011validation-rmse:0.322303\u001b[0m\n",
      "\u001b[34m[22:28:00] src/tree/updater_prune.cc:74: tree pruning end, 1 roots, 46 extra nodes, 46 pruned nodes, max_depth=12\u001b[0m\n",
      "\u001b[34m[82]#011train-rmse:0.251118#011validation-rmse:0.322029\u001b[0m\n",
      "\u001b[34m[22:28:03] src/tree/updater_prune.cc:74: tree pruning end, 1 roots, 62 extra nodes, 36 pruned nodes, max_depth=12\u001b[0m\n",
      "\u001b[34m[83]#011train-rmse:0.250022#011validation-rmse:0.321955\u001b[0m\n",
      "\u001b[34m[22:28:07] src/tree/updater_prune.cc:74: tree pruning end, 1 roots, 40 extra nodes, 10 pruned nodes, max_depth=12\u001b[0m\n",
      "\u001b[34m[84]#011train-rmse:0.249325#011validation-rmse:0.32157\u001b[0m\n",
      "\u001b[34m[22:28:10] src/tree/updater_prune.cc:74: tree pruning end, 1 roots, 62 extra nodes, 30 pruned nodes, max_depth=12\u001b[0m\n",
      "\u001b[34m[85]#011train-rmse:0.248349#011validation-rmse:0.321205\u001b[0m\n",
      "\u001b[34m[22:28:13] src/tree/updater_prune.cc:74: tree pruning end, 1 roots, 62 extra nodes, 26 pruned nodes, max_depth=12\u001b[0m\n",
      "\u001b[34m[86]#011train-rmse:0.247287#011validation-rmse:0.321015\u001b[0m\n",
      "\u001b[34m[22:28:17] src/tree/updater_prune.cc:74: tree pruning end, 1 roots, 68 extra nodes, 32 pruned nodes, max_depth=12\u001b[0m\n",
      "\u001b[34m[87]#011train-rmse:0.246128#011validation-rmse:0.320654\u001b[0m\n",
      "\u001b[34m[22:28:20] src/tree/updater_prune.cc:74: tree pruning end, 1 roots, 40 extra nodes, 38 pruned nodes, max_depth=12\u001b[0m\n",
      "\u001b[34m[88]#011train-rmse:0.245404#011validation-rmse:0.320271\u001b[0m\n",
      "\u001b[34m[22:28:23] src/tree/updater_prune.cc:74: tree pruning end, 1 roots, 40 extra nodes, 20 pruned nodes, max_depth=12\u001b[0m\n",
      "\u001b[34m[89]#011train-rmse:0.244729#011validation-rmse:0.31993\u001b[0m\n",
      "\u001b[34m[22:28:26] src/tree/updater_prune.cc:74: tree pruning end, 1 roots, 28 extra nodes, 16 pruned nodes, max_depth=12\u001b[0m\n",
      "\u001b[34m[90]#011train-rmse:0.244267#011validation-rmse:0.319588\u001b[0m\n",
      "\u001b[34m[22:28:29] src/tree/updater_prune.cc:74: tree pruning end, 1 roots, 48 extra nodes, 30 pruned nodes, max_depth=12\u001b[0m\n",
      "\u001b[34m[91]#011train-rmse:0.243432#011validation-rmse:0.319346\u001b[0m\n",
      "\u001b[34m[22:28:32] src/tree/updater_prune.cc:74: tree pruning end, 1 roots, 30 extra nodes, 20 pruned nodes, max_depth=12\u001b[0m\n",
      "\u001b[34m[92]#011train-rmse:0.242905#011validation-rmse:0.319154\u001b[0m\n",
      "\u001b[34m[22:28:35] src/tree/updater_prune.cc:74: tree pruning end, 1 roots, 46 extra nodes, 16 pruned nodes, max_depth=12\u001b[0m\n",
      "\u001b[34m[93]#011train-rmse:0.242099#011validation-rmse:0.318838\u001b[0m\n",
      "\u001b[34m[22:28:39] src/tree/updater_prune.cc:74: tree pruning end, 1 roots, 32 extra nodes, 14 pruned nodes, max_depth=12\u001b[0m\n",
      "\u001b[34m[94]#011train-rmse:0.24158#011validation-rmse:0.318698\u001b[0m\n",
      "\u001b[34m[22:28:42] src/tree/updater_prune.cc:74: tree pruning end, 1 roots, 48 extra nodes, 34 pruned nodes, max_depth=12\u001b[0m\n",
      "\u001b[34m[95]#011train-rmse:0.240664#011validation-rmse:0.318242\u001b[0m\n",
      "\u001b[34m[22:28:45] src/tree/updater_prune.cc:74: tree pruning end, 1 roots, 48 extra nodes, 14 pruned nodes, max_depth=12\u001b[0m\n",
      "\u001b[34m[96]#011train-rmse:0.239883#011validation-rmse:0.317807\u001b[0m\n",
      "\u001b[34m[22:28:48] src/tree/updater_prune.cc:74: tree pruning end, 1 roots, 46 extra nodes, 14 pruned nodes, max_depth=12\u001b[0m\n",
      "\u001b[34m[97]#011train-rmse:0.239135#011validation-rmse:0.317571\u001b[0m\n",
      "\u001b[34m[22:28:51] src/tree/updater_prune.cc:74: tree pruning end, 1 roots, 30 extra nodes, 26 pruned nodes, max_depth=12\u001b[0m\n",
      "\u001b[34m[98]#011train-rmse:0.238675#011validation-rmse:0.317355\u001b[0m\n",
      "\u001b[34m[22:28:55] src/tree/updater_prune.cc:74: tree pruning end, 1 roots, 26 extra nodes, 26 pruned nodes, max_depth=12\u001b[0m\n",
      "\u001b[34m[99]#011train-rmse:0.238264#011validation-rmse:0.317174\u001b[0m\n",
      "\u001b[34m[22:28:58] src/tree/updater_prune.cc:74: tree pruning end, 1 roots, 30 extra nodes, 14 pruned nodes, max_depth=12\u001b[0m\n",
      "\u001b[34m[100]#011train-rmse:0.237849#011validation-rmse:0.317026\u001b[0m\n",
      "\u001b[34m[22:29:01] src/tree/updater_prune.cc:74: tree pruning end, 1 roots, 38 extra nodes, 10 pruned nodes, max_depth=12\u001b[0m\n",
      "\u001b[34m[101]#011train-rmse:0.237272#011validation-rmse:0.316814\u001b[0m\n",
      "\u001b[34m[22:29:05] src/tree/updater_prune.cc:74: tree pruning end, 1 roots, 66 extra nodes, 44 pruned nodes, max_depth=12\u001b[0m\n",
      "\u001b[34m[102]#011train-rmse:0.236242#011validation-rmse:0.316445\u001b[0m\n",
      "\u001b[34m[22:29:08] src/tree/updater_prune.cc:74: tree pruning end, 1 roots, 30 extra nodes, 32 pruned nodes, max_depth=12\u001b[0m\n",
      "\u001b[34m[103]#011train-rmse:0.235887#011validation-rmse:0.316336\u001b[0m\n",
      "\u001b[34m[22:29:11] src/tree/updater_prune.cc:74: tree pruning end, 1 roots, 50 extra nodes, 40 pruned nodes, max_depth=12\u001b[0m\n",
      "\u001b[34m[104]#011train-rmse:0.23513#011validation-rmse:0.316238\u001b[0m\n",
      "\u001b[34m[22:29:15] src/tree/updater_prune.cc:74: tree pruning end, 1 roots, 32 extra nodes, 24 pruned nodes, max_depth=12\u001b[0m\n",
      "\u001b[34m[105]#011train-rmse:0.234622#011validation-rmse:0.316019\u001b[0m\n",
      "\u001b[34m[22:29:18] src/tree/updater_prune.cc:74: tree pruning end, 1 roots, 34 extra nodes, 8 pruned nodes, max_depth=12\u001b[0m\n",
      "\u001b[34m[106]#011train-rmse:0.234035#011validation-rmse:0.315701\u001b[0m\n",
      "\u001b[34m[22:29:21] src/tree/updater_prune.cc:74: tree pruning end, 1 roots, 30 extra nodes, 34 pruned nodes, max_depth=12\u001b[0m\n",
      "\u001b[34m[107]#011train-rmse:0.233653#011validation-rmse:0.315508\u001b[0m\n",
      "\u001b[34m[22:29:24] src/tree/updater_prune.cc:74: tree pruning end, 1 roots, 56 extra nodes, 24 pruned nodes, max_depth=12\u001b[0m\n",
      "\u001b[34m[108]#011train-rmse:0.232816#011validation-rmse:0.315411\u001b[0m\n",
      "\u001b[34m[22:29:27] src/tree/updater_prune.cc:74: tree pruning end, 1 roots, 34 extra nodes, 28 pruned nodes, max_depth=12\u001b[0m\n",
      "\u001b[34m[109]#011train-rmse:0.232379#011validation-rmse:0.315307\u001b[0m\n",
      "\u001b[34m[22:29:31] src/tree/updater_prune.cc:74: tree pruning end, 1 roots, 40 extra nodes, 14 pruned nodes, max_depth=12\u001b[0m\n",
      "\u001b[34m[110]#011train-rmse:0.231796#011validation-rmse:0.315229\u001b[0m\n",
      "\u001b[34m[22:29:34] src/tree/updater_prune.cc:74: tree pruning end, 1 roots, 50 extra nodes, 22 pruned nodes, max_depth=12\u001b[0m\n",
      "\u001b[34m[111]#011train-rmse:0.230971#011validation-rmse:0.314996\u001b[0m\n",
      "\u001b[34m[22:29:37] src/tree/updater_prune.cc:74: tree pruning end, 1 roots, 34 extra nodes, 14 pruned nodes, max_depth=12\u001b[0m\n",
      "\u001b[34m[112]#011train-rmse:0.230526#011validation-rmse:0.314625\u001b[0m\n",
      "\u001b[34m[22:29:40] src/tree/updater_prune.cc:74: tree pruning end, 1 roots, 48 extra nodes, 32 pruned nodes, max_depth=12\u001b[0m\n",
      "\u001b[34m[113]#011train-rmse:0.229802#011validation-rmse:0.314453\u001b[0m\n",
      "\u001b[34m[22:29:44] src/tree/updater_prune.cc:74: tree pruning end, 1 roots, 46 extra nodes, 48 pruned nodes, max_depth=12\u001b[0m\n",
      "\u001b[34m[114]#011train-rmse:0.229032#011validation-rmse:0.314352\u001b[0m\n",
      "\u001b[34m[22:29:47] src/tree/updater_prune.cc:74: tree pruning end, 1 roots, 62 extra nodes, 44 pruned nodes, max_depth=12\u001b[0m\n",
      "\u001b[34m[115]#011train-rmse:0.228173#011validation-rmse:0.314228\u001b[0m\n",
      "\u001b[34m[22:29:50] src/tree/updater_prune.cc:74: tree pruning end, 1 roots, 38 extra nodes, 20 pruned nodes, max_depth=12\u001b[0m\n",
      "\u001b[34m[116]#011train-rmse:0.227648#011validation-rmse:0.314131\u001b[0m\n",
      "\u001b[34m[22:29:53] src/tree/updater_prune.cc:74: tree pruning end, 1 roots, 36 extra nodes, 48 pruned nodes, max_depth=12\u001b[0m\n",
      "\u001b[34m[117]#011train-rmse:0.227131#011validation-rmse:0.314068\u001b[0m\n",
      "\u001b[34m[22:29:56] src/tree/updater_prune.cc:74: tree pruning end, 1 roots, 28 extra nodes, 28 pruned nodes, max_depth=12\u001b[0m\n",
      "\u001b[34m[118]#011train-rmse:0.226792#011validation-rmse:0.313751\u001b[0m\n",
      "\u001b[34m[22:29:59] src/tree/updater_prune.cc:74: tree pruning end, 1 roots, 60 extra nodes, 22 pruned nodes, max_depth=12\u001b[0m\n",
      "\u001b[34m[119]#011train-rmse:0.22599#011validation-rmse:0.313701\u001b[0m\n",
      "\u001b[34m[22:30:03] src/tree/updater_prune.cc:74: tree pruning end, 1 roots, 62 extra nodes, 40 pruned nodes, max_depth=12\u001b[0m\n",
      "\u001b[34m[120]#011train-rmse:0.224981#011validation-rmse:0.313799\u001b[0m\n",
      "\u001b[34m[22:30:06] src/tree/updater_prune.cc:74: tree pruning end, 1 roots, 28 extra nodes, 14 pruned nodes, max_depth=12\u001b[0m\n",
      "\u001b[34m[121]#011train-rmse:0.224565#011validation-rmse:0.313691\u001b[0m\n",
      "\u001b[34m[22:30:10] src/tree/updater_prune.cc:74: tree pruning end, 1 roots, 28 extra nodes, 18 pruned nodes, max_depth=12\u001b[0m\n",
      "\u001b[34m[122]#011train-rmse:0.224279#011validation-rmse:0.313496\u001b[0m\n",
      "\u001b[34m[22:30:13] src/tree/updater_prune.cc:74: tree pruning end, 1 roots, 26 extra nodes, 26 pruned nodes, max_depth=12\u001b[0m\n",
      "\u001b[34m[123]#011train-rmse:0.223926#011validation-rmse:0.313514\u001b[0m\n",
      "\u001b[34m[22:30:16] src/tree/updater_prune.cc:74: tree pruning end, 1 roots, 30 extra nodes, 30 pruned nodes, max_depth=12\u001b[0m\n",
      "\u001b[34m[124]#011train-rmse:0.223576#011validation-rmse:0.313445\u001b[0m\n",
      "\u001b[34m[22:30:19] src/tree/updater_prune.cc:74: tree pruning end, 1 roots, 34 extra nodes, 24 pruned nodes, max_depth=12\u001b[0m\n",
      "\u001b[34m[125]#011train-rmse:0.223102#011validation-rmse:0.313211\u001b[0m\n",
      "\u001b[34m[22:30:22] src/tree/updater_prune.cc:74: tree pruning end, 1 roots, 32 extra nodes, 12 pruned nodes, max_depth=12\u001b[0m\n",
      "\u001b[34m[126]#011train-rmse:0.222714#011validation-rmse:0.313007\u001b[0m\n",
      "\u001b[34m[22:30:26] src/tree/updater_prune.cc:74: tree pruning end, 1 roots, 34 extra nodes, 32 pruned nodes, max_depth=12\u001b[0m\n",
      "\u001b[34m[127]#011train-rmse:0.222237#011validation-rmse:0.31282\u001b[0m\n",
      "\u001b[34m[22:30:29] src/tree/updater_prune.cc:74: tree pruning end, 1 roots, 30 extra nodes, 8 pruned nodes, max_depth=12\u001b[0m\n",
      "\u001b[34m[128]#011train-rmse:0.221854#011validation-rmse:0.312653\u001b[0m\n",
      "\u001b[34m[22:30:32] src/tree/updater_prune.cc:74: tree pruning end, 1 roots, 38 extra nodes, 26 pruned nodes, max_depth=12\u001b[0m\n",
      "\u001b[34m[129]#011train-rmse:0.221508#011validation-rmse:0.312451\u001b[0m\n",
      "\u001b[34m[22:30:35] src/tree/updater_prune.cc:74: tree pruning end, 1 roots, 24 extra nodes, 18 pruned nodes, max_depth=12\u001b[0m\n",
      "\u001b[34m[130]#011train-rmse:0.221216#011validation-rmse:0.312312\u001b[0m\n",
      "\u001b[34m[22:30:38] src/tree/updater_prune.cc:74: tree pruning end, 1 roots, 28 extra nodes, 10 pruned nodes, max_depth=12\u001b[0m\n",
      "\u001b[34m[131]#011train-rmse:0.220869#011validation-rmse:0.312196\u001b[0m\n",
      "\u001b[34m[22:30:41] src/tree/updater_prune.cc:74: tree pruning end, 1 roots, 28 extra nodes, 28 pruned nodes, max_depth=12\u001b[0m\n",
      "\u001b[34m[132]#011train-rmse:0.220435#011validation-rmse:0.31201\u001b[0m\n",
      "\u001b[34m[22:30:45] src/tree/updater_prune.cc:74: tree pruning end, 1 roots, 28 extra nodes, 10 pruned nodes, max_depth=12\u001b[0m\n",
      "\u001b[34m[133]#011train-rmse:0.220063#011validation-rmse:0.311881\u001b[0m\n",
      "\u001b[34m[22:30:48] src/tree/updater_prune.cc:74: tree pruning end, 1 roots, 32 extra nodes, 20 pruned nodes, max_depth=12\u001b[0m\n",
      "\u001b[34m[134]#011train-rmse:0.219574#011validation-rmse:0.311656\u001b[0m\n",
      "\u001b[34m[22:30:51] src/tree/updater_prune.cc:74: tree pruning end, 1 roots, 58 extra nodes, 26 pruned nodes, max_depth=12\u001b[0m\n",
      "\u001b[34m[135]#011train-rmse:0.218797#011validation-rmse:0.311547\u001b[0m\n",
      "\u001b[34m[22:30:54] src/tree/updater_prune.cc:74: tree pruning end, 1 roots, 36 extra nodes, 34 pruned nodes, max_depth=12\u001b[0m\n",
      "\u001b[34m[136]#011train-rmse:0.218365#011validation-rmse:0.31152\u001b[0m\n",
      "\u001b[34m[22:30:57] src/tree/updater_prune.cc:74: tree pruning end, 1 roots, 34 extra nodes, 26 pruned nodes, max_depth=12\u001b[0m\n",
      "\u001b[34m[137]#011train-rmse:0.217864#011validation-rmse:0.311456\u001b[0m\n",
      "\u001b[34m[22:31:01] src/tree/updater_prune.cc:74: tree pruning end, 1 roots, 28 extra nodes, 30 pruned nodes, max_depth=12\u001b[0m\n",
      "\u001b[34m[138]#011train-rmse:0.217543#011validation-rmse:0.311376\u001b[0m\n",
      "\u001b[34m[22:31:05] src/tree/updater_prune.cc:74: tree pruning end, 1 roots, 40 extra nodes, 32 pruned nodes, max_depth=12\u001b[0m\n",
      "\u001b[34m[139]#011train-rmse:0.216989#011validation-rmse:0.311213\u001b[0m\n",
      "\u001b[34m[22:31:08] src/tree/updater_prune.cc:74: tree pruning end, 1 roots, 24 extra nodes, 14 pruned nodes, max_depth=12\u001b[0m\n",
      "\u001b[34m[140]#011train-rmse:0.216715#011validation-rmse:0.3112\u001b[0m\n",
      "\u001b[34m[22:31:11] src/tree/updater_prune.cc:74: tree pruning end, 1 roots, 36 extra nodes, 22 pruned nodes, max_depth=12\u001b[0m\n",
      "\u001b[34m[141]#011train-rmse:0.21623#011validation-rmse:0.311115\u001b[0m\n",
      "\u001b[34m[22:31:14] src/tree/updater_prune.cc:74: tree pruning end, 1 roots, 24 extra nodes, 4 pruned nodes, max_depth=12\u001b[0m\n",
      "\u001b[34m[142]#011train-rmse:0.215987#011validation-rmse:0.311085\u001b[0m\n",
      "\u001b[34m[22:31:17] src/tree/updater_prune.cc:74: tree pruning end, 1 roots, 36 extra nodes, 6 pruned nodes, max_depth=12\u001b[0m\n",
      "\u001b[34m[143]#011train-rmse:0.215569#011validation-rmse:0.311001\u001b[0m\n",
      "\u001b[34m[22:31:21] src/tree/updater_prune.cc:74: tree pruning end, 1 roots, 26 extra nodes, 32 pruned nodes, max_depth=12\u001b[0m\n",
      "\u001b[34m[144]#011train-rmse:0.215346#011validation-rmse:0.311077\u001b[0m\n",
      "\u001b[34m[22:31:24] src/tree/updater_prune.cc:74: tree pruning end, 1 roots, 26 extra nodes, 14 pruned nodes, max_depth=12\u001b[0m\n",
      "\u001b[34m[145]#011train-rmse:0.215091#011validation-rmse:0.310923\u001b[0m\n",
      "\u001b[34m[22:31:27] src/tree/updater_prune.cc:74: tree pruning end, 1 roots, 40 extra nodes, 42 pruned nodes, max_depth=12\u001b[0m\n",
      "\u001b[34m[146]#011train-rmse:0.214539#011validation-rmse:0.310708\u001b[0m\n",
      "\u001b[34m[22:31:30] src/tree/updater_prune.cc:74: tree pruning end, 1 roots, 28 extra nodes, 16 pruned nodes, max_depth=12\u001b[0m\n",
      "\u001b[34m[147]#011train-rmse:0.214303#011validation-rmse:0.310604\u001b[0m\n",
      "\u001b[34m[22:31:34] src/tree/updater_prune.cc:74: tree pruning end, 1 roots, 28 extra nodes, 20 pruned nodes, max_depth=12\u001b[0m\n",
      "\u001b[34m[148]#011train-rmse:0.213947#011validation-rmse:0.310622\u001b[0m\n",
      "\u001b[34m[22:31:37] src/tree/updater_prune.cc:74: tree pruning end, 1 roots, 62 extra nodes, 56 pruned nodes, max_depth=12\u001b[0m\n",
      "\u001b[34m[149]#011train-rmse:0.213151#011validation-rmse:0.310575\u001b[0m\n",
      "\u001b[34m[22:31:40] src/tree/updater_prune.cc:74: tree pruning end, 1 roots, 30 extra nodes, 18 pruned nodes, max_depth=12\u001b[0m\n",
      "\u001b[34m[150]#011train-rmse:0.21288#011validation-rmse:0.310488\u001b[0m\n",
      "\u001b[34m[22:31:43] src/tree/updater_prune.cc:74: tree pruning end, 1 roots, 46 extra nodes, 22 pruned nodes, max_depth=12\u001b[0m\n",
      "\u001b[34m[151]#011train-rmse:0.212215#011validation-rmse:0.310274\u001b[0m\n",
      "\u001b[34m[22:31:47] src/tree/updater_prune.cc:74: tree pruning end, 1 roots, 34 extra nodes, 34 pruned nodes, max_depth=12\u001b[0m\n",
      "\u001b[34m[152]#011train-rmse:0.211872#011validation-rmse:0.310269\u001b[0m\n",
      "\u001b[34m[22:31:50] src/tree/updater_prune.cc:74: tree pruning end, 1 roots, 32 extra nodes, 18 pruned nodes, max_depth=12\u001b[0m\n",
      "\u001b[34m[153]#011train-rmse:0.211483#011validation-rmse:0.310096\u001b[0m\n",
      "\u001b[34m[22:31:53] src/tree/updater_prune.cc:74: tree pruning end, 1 roots, 40 extra nodes, 32 pruned nodes, max_depth=12\u001b[0m\n",
      "\u001b[34m[154]#011train-rmse:0.211055#011validation-rmse:0.30999\u001b[0m\n",
      "\u001b[34m[22:31:56] src/tree/updater_prune.cc:74: tree pruning end, 1 roots, 28 extra nodes, 10 pruned nodes, max_depth=12\u001b[0m\n",
      "\u001b[34m[155]#011train-rmse:0.210759#011validation-rmse:0.309897\u001b[0m\n",
      "\u001b[34m[22:31:59] src/tree/updater_prune.cc:74: tree pruning end, 1 roots, 34 extra nodes, 24 pruned nodes, max_depth=12\u001b[0m\n",
      "\u001b[34m[156]#011train-rmse:0.210371#011validation-rmse:0.309944\u001b[0m\n",
      "\u001b[34m[22:32:03] src/tree/updater_prune.cc:74: tree pruning end, 1 roots, 28 extra nodes, 22 pruned nodes, max_depth=12\u001b[0m\n",
      "\u001b[34m[157]#011train-rmse:0.210071#011validation-rmse:0.309773\u001b[0m\n",
      "\u001b[34m[22:32:07] src/tree/updater_prune.cc:74: tree pruning end, 1 roots, 42 extra nodes, 46 pruned nodes, max_depth=12\u001b[0m\n",
      "\u001b[34m[158]#011train-rmse:0.209509#011validation-rmse:0.309679\u001b[0m\n",
      "\u001b[34m[22:32:10] src/tree/updater_prune.cc:74: tree pruning end, 1 roots, 30 extra nodes, 16 pruned nodes, max_depth=12\u001b[0m\n",
      "\u001b[34m[159]#011train-rmse:0.209178#011validation-rmse:0.309528\u001b[0m\n",
      "\u001b[34m[22:32:13] src/tree/updater_prune.cc:74: tree pruning end, 1 roots, 30 extra nodes, 28 pruned nodes, max_depth=12\u001b[0m\n",
      "\u001b[34m[160]#011train-rmse:0.208847#011validation-rmse:0.309407\u001b[0m\n",
      "\u001b[34m[22:32:17] src/tree/updater_prune.cc:74: tree pruning end, 1 roots, 24 extra nodes, 32 pruned nodes, max_depth=12\u001b[0m\n",
      "\u001b[34m[161]#011train-rmse:0.208631#011validation-rmse:0.309322\u001b[0m\n",
      "\u001b[34m[22:32:20] src/tree/updater_prune.cc:74: tree pruning end, 1 roots, 24 extra nodes, 14 pruned nodes, max_depth=12\u001b[0m\n",
      "\u001b[34m[162]#011train-rmse:0.208378#011validation-rmse:0.309192\u001b[0m\n",
      "\u001b[34m[22:32:23] src/tree/updater_prune.cc:74: tree pruning end, 1 roots, 32 extra nodes, 16 pruned nodes, max_depth=12\u001b[0m\n",
      "\u001b[34m[163]#011train-rmse:0.20801#011validation-rmse:0.309143\u001b[0m\n",
      "\u001b[34m[22:32:26] src/tree/updater_prune.cc:74: tree pruning end, 1 roots, 26 extra nodes, 24 pruned nodes, max_depth=12\u001b[0m\n",
      "\u001b[34m[164]#011train-rmse:0.207689#011validation-rmse:0.309044\u001b[0m\n",
      "\u001b[34m[22:32:29] src/tree/updater_prune.cc:74: tree pruning end, 1 roots, 30 extra nodes, 20 pruned nodes, max_depth=12\u001b[0m\n",
      "\u001b[34m[165]#011train-rmse:0.207354#011validation-rmse:0.308953\u001b[0m\n",
      "\u001b[34m[22:32:32] src/tree/updater_prune.cc:74: tree pruning end, 1 roots, 24 extra nodes, 20 pruned nodes, max_depth=12\u001b[0m\n",
      "\u001b[34m[166]#011train-rmse:0.207118#011validation-rmse:0.308875\u001b[0m\n",
      "\u001b[34m[22:32:35] src/tree/updater_prune.cc:74: tree pruning end, 1 roots, 38 extra nodes, 22 pruned nodes, max_depth=12\u001b[0m\n",
      "\u001b[34m[167]#011train-rmse:0.20659#011validation-rmse:0.308856\u001b[0m\n",
      "\u001b[34m[22:32:39] src/tree/updater_prune.cc:74: tree pruning end, 1 roots, 36 extra nodes, 28 pruned nodes, max_depth=12\u001b[0m\n",
      "\u001b[34m[168]#011train-rmse:0.206176#011validation-rmse:0.308686\u001b[0m\n",
      "\u001b[34m[22:32:42] src/tree/updater_prune.cc:74: tree pruning end, 1 roots, 38 extra nodes, 26 pruned nodes, max_depth=12\u001b[0m\n",
      "\u001b[34m[169]#011train-rmse:0.205724#011validation-rmse:0.308598\u001b[0m\n",
      "\u001b[34m[22:32:45] src/tree/updater_prune.cc:74: tree pruning end, 1 roots, 60 extra nodes, 40 pruned nodes, max_depth=12\u001b[0m\n",
      "\u001b[34m[170]#011train-rmse:0.204921#011validation-rmse:0.308595\u001b[0m\n",
      "\u001b[34m[22:32:48] src/tree/updater_prune.cc:74: tree pruning end, 1 roots, 38 extra nodes, 26 pruned nodes, max_depth=12\u001b[0m\n",
      "\u001b[34m[171]#011train-rmse:0.204375#011validation-rmse:0.30849\u001b[0m\n",
      "\u001b[34m[22:32:52] src/tree/updater_prune.cc:74: tree pruning end, 1 roots, 36 extra nodes, 6 pruned nodes, max_depth=12\u001b[0m\n",
      "\u001b[34m[172]#011train-rmse:0.203979#011validation-rmse:0.30837\u001b[0m\n",
      "\u001b[34m[22:32:55] src/tree/updater_prune.cc:74: tree pruning end, 1 roots, 34 extra nodes, 18 pruned nodes, max_depth=12\u001b[0m\n",
      "\u001b[34m[173]#011train-rmse:0.203616#011validation-rmse:0.308393\u001b[0m\n",
      "\u001b[34m[22:32:58] src/tree/updater_prune.cc:74: tree pruning end, 1 roots, 32 extra nodes, 4 pruned nodes, max_depth=12\u001b[0m\n",
      "\u001b[34m[174]#011train-rmse:0.203318#011validation-rmse:0.308359\u001b[0m\n",
      "\u001b[34m[22:33:01] src/tree/updater_prune.cc:74: tree pruning end, 1 roots, 24 extra nodes, 26 pruned nodes, max_depth=12\u001b[0m\n",
      "\u001b[34m[175]#011train-rmse:0.203118#011validation-rmse:0.308286\u001b[0m\n",
      "\u001b[34m[22:33:05] src/tree/updater_prune.cc:74: tree pruning end, 1 roots, 32 extra nodes, 24 pruned nodes, max_depth=12\u001b[0m\n",
      "\u001b[34m[176]#011train-rmse:0.202863#011validation-rmse:0.308247\u001b[0m\n",
      "\u001b[34m[22:33:08] src/tree/updater_prune.cc:74: tree pruning end, 1 roots, 36 extra nodes, 26 pruned nodes, max_depth=12\u001b[0m\n",
      "\u001b[34m[177]#011train-rmse:0.202511#011validation-rmse:0.308213\u001b[0m\n",
      "\u001b[34m[22:33:11] src/tree/updater_prune.cc:74: tree pruning end, 1 roots, 30 extra nodes, 22 pruned nodes, max_depth=12\u001b[0m\n",
      "\u001b[34m[178]#011train-rmse:0.202225#011validation-rmse:0.308222\u001b[0m\n",
      "\u001b[34m[22:33:15] src/tree/updater_prune.cc:74: tree pruning end, 1 roots, 34 extra nodes, 42 pruned nodes, max_depth=12\u001b[0m\n",
      "\u001b[34m[179]#011train-rmse:0.201828#011validation-rmse:0.308159\u001b[0m\n",
      "\u001b[34m[22:33:18] src/tree/updater_prune.cc:74: tree pruning end, 1 roots, 34 extra nodes, 26 pruned nodes, max_depth=12\u001b[0m\n",
      "\u001b[34m[180]#011train-rmse:0.201465#011validation-rmse:0.30817\u001b[0m\n",
      "\u001b[34m[22:33:21] src/tree/updater_prune.cc:74: tree pruning end, 1 roots, 36 extra nodes, 40 pruned nodes, max_depth=12\u001b[0m\n",
      "\u001b[34m[181]#011train-rmse:0.201025#011validation-rmse:0.308085\u001b[0m\n",
      "\u001b[34m[22:33:24] src/tree/updater_prune.cc:74: tree pruning end, 1 roots, 46 extra nodes, 46 pruned nodes, max_depth=12\u001b[0m\n",
      "\u001b[34m[182]#011train-rmse:0.200528#011validation-rmse:0.308054\u001b[0m\n",
      "\u001b[34m[22:33:27] src/tree/updater_prune.cc:74: tree pruning end, 1 roots, 44 extra nodes, 36 pruned nodes, max_depth=12\u001b[0m\n",
      "\u001b[34m[183]#011train-rmse:0.199912#011validation-rmse:0.308135\u001b[0m\n",
      "\u001b[34m[22:33:31] src/tree/updater_prune.cc:74: tree pruning end, 1 roots, 38 extra nodes, 22 pruned nodes, max_depth=12\u001b[0m\n",
      "\u001b[34m[184]#011train-rmse:0.199418#011validation-rmse:0.308099\u001b[0m\n",
      "\u001b[34m[22:33:34] src/tree/updater_prune.cc:74: tree pruning end, 1 roots, 24 extra nodes, 8 pruned nodes, max_depth=12\u001b[0m\n",
      "\u001b[34m[185]#011train-rmse:0.199236#011validation-rmse:0.307966\u001b[0m\n",
      "\u001b[34m[22:33:37] src/tree/updater_prune.cc:74: tree pruning end, 1 roots, 24 extra nodes, 20 pruned nodes, max_depth=12\u001b[0m\n",
      "\u001b[34m[186]#011train-rmse:0.199058#011validation-rmse:0.307779\u001b[0m\n",
      "\u001b[34m[22:33:40] src/tree/updater_prune.cc:74: tree pruning end, 1 roots, 28 extra nodes, 40 pruned nodes, max_depth=12\u001b[0m\n",
      "\u001b[34m[187]#011train-rmse:0.198745#011validation-rmse:0.307873\u001b[0m\n",
      "\u001b[34m[22:33:43] src/tree/updater_prune.cc:74: tree pruning end, 1 roots, 28 extra nodes, 26 pruned nodes, max_depth=12\u001b[0m\n",
      "\u001b[34m[188]#011train-rmse:0.198527#011validation-rmse:0.307783\u001b[0m\n",
      "\u001b[34m[22:33:47] src/tree/updater_prune.cc:74: tree pruning end, 1 roots, 26 extra nodes, 18 pruned nodes, max_depth=12\u001b[0m\n",
      "\u001b[34m[189]#011train-rmse:0.198263#011validation-rmse:0.307745\u001b[0m\n",
      "\u001b[34m[22:33:50] src/tree/updater_prune.cc:74: tree pruning end, 1 roots, 24 extra nodes, 16 pruned nodes, max_depth=12\u001b[0m\n",
      "\u001b[34m[190]#011train-rmse:0.198047#011validation-rmse:0.307629\u001b[0m\n",
      "\u001b[34m[22:33:53] src/tree/updater_prune.cc:74: tree pruning end, 1 roots, 42 extra nodes, 30 pruned nodes, max_depth=12\u001b[0m\n",
      "\u001b[34m[191]#011train-rmse:0.197593#011validation-rmse:0.307586\u001b[0m\n",
      "\u001b[34m[22:33:56] src/tree/updater_prune.cc:74: tree pruning end, 1 roots, 32 extra nodes, 22 pruned nodes, max_depth=11\u001b[0m\n",
      "\u001b[34m[192]#011train-rmse:0.197261#011validation-rmse:0.307492\u001b[0m\n",
      "\u001b[34m[22:33:59] src/tree/updater_prune.cc:74: tree pruning end, 1 roots, 28 extra nodes, 18 pruned nodes, max_depth=12\u001b[0m\n",
      "\u001b[34m[193]#011train-rmse:0.196984#011validation-rmse:0.307478\u001b[0m\n",
      "\u001b[34m[22:34:03] src/tree/updater_prune.cc:74: tree pruning end, 1 roots, 24 extra nodes, 14 pruned nodes, max_depth=11\u001b[0m\n",
      "\u001b[34m[194]#011train-rmse:0.196783#011validation-rmse:0.307391\u001b[0m\n",
      "\u001b[34m[22:34:07] src/tree/updater_prune.cc:74: tree pruning end, 1 roots, 28 extra nodes, 28 pruned nodes, max_depth=12\u001b[0m\n",
      "\u001b[34m[195]#011train-rmse:0.196556#011validation-rmse:0.307384\u001b[0m\n",
      "\u001b[34m[22:34:10] src/tree/updater_prune.cc:74: tree pruning end, 1 roots, 2 extra nodes, 24 pruned nodes, max_depth=1\u001b[0m\n",
      "\u001b[34m[196]#011train-rmse:0.196532#011validation-rmse:0.307365\u001b[0m\n",
      "\u001b[34m[22:34:13] src/tree/updater_prune.cc:74: tree pruning end, 1 roots, 24 extra nodes, 8 pruned nodes, max_depth=12\u001b[0m\n",
      "\u001b[34m[197]#011train-rmse:0.196327#011validation-rmse:0.307247\u001b[0m\n",
      "\u001b[34m[22:34:16] src/tree/updater_prune.cc:74: tree pruning end, 1 roots, 28 extra nodes, 24 pruned nodes, max_depth=12\u001b[0m\n",
      "\u001b[34m[198]#011train-rmse:0.196102#011validation-rmse:0.30718\u001b[0m\n",
      "\u001b[34m[22:34:19] src/tree/updater_prune.cc:74: tree pruning end, 1 roots, 28 extra nodes, 20 pruned nodes, max_depth=11\u001b[0m\n",
      "\u001b[34m[199]#011train-rmse:0.195797#011validation-rmse:0.307147\u001b[0m\n",
      "Training seconds: 705\n",
      "Billable seconds: 705\n"
     ]
    }
   ],
   "source": [
    "# TODO: Create a new estimator object attached to the best training job found during hyperparameter tuning\n",
    "\n",
    "#xgb_attached = sagemaker.estimator.Estimator.attach(xgb_hyperparameter_tuner.best_training_job())\n",
    "xgb_attached = sagemaker.estimator.Estimator.attach('xgboost-220131-2138-013-fdbc7a2a')\n"
   ]
  },
  {
   "cell_type": "markdown",
   "metadata": {},
   "source": [
    "Now that we have an estimator object attached to the correct training job, we can proceed as we normally would and create a transformer object."
   ]
  },
  {
   "cell_type": "code",
   "execution_count": 22,
   "metadata": {
    "scrolled": true
   },
   "outputs": [
    {
     "name": "stderr",
     "output_type": "stream",
     "text": [
      "Parameter image will be renamed to image_uri in SageMaker Python SDK v2.\n",
      "Using already existing model: xgboost-220131-2138-013-fdbc7a2a\n"
     ]
    }
   ],
   "source": [
    "# TODO: Create a transformer object from the attached estimator. Using an instance count of 1 and an instance type of ml.m4.xlarge\n",
    "#       should be more than enough.\n",
    "\n",
    "xgb_transformer = xgb_attached.transformer(instance_count = 1, instance_type = 'ml.m4.xlarge')\n"
   ]
  },
  {
   "cell_type": "code",
   "execution_count": null,
   "metadata": {},
   "outputs": [],
   "source": [
    "test_location"
   ]
  },
  {
   "cell_type": "markdown",
   "metadata": {},
   "source": [
    "Next we actually perform the transform job. When doing so we need to make sure to specify the type of data we are sending so that it is serialized correctly in the background. In our case we are providing our model with csv data so we specify `text/csv`. Also, if the test data that we have provided is too large to process all at once then we need to specify how the data file should be split up. Since each line is a single entry in our data set we tell SageMaker that it can split the input on each line."
   ]
  },
  {
   "cell_type": "code",
   "execution_count": 23,
   "metadata": {},
   "outputs": [],
   "source": [
    "# TODO: Start the transform job. Make sure to specify the content type and the split type of the test data.\n",
    "xgb_transformer.transform(test_location, content_type='text/csv', split_type='Line')"
   ]
  },
  {
   "cell_type": "markdown",
   "metadata": {},
   "source": [
    "Currently the transform job is running but it is doing so in the background. Since we wish to wait until the transform job is done and we would like a bit of feedback we can run the `wait()` method."
   ]
  },
  {
   "cell_type": "code",
   "execution_count": 24,
   "metadata": {},
   "outputs": [
    {
     "name": "stdout",
     "output_type": "stream",
     "text": [
      "................................\u001b[34mArguments: serve\u001b[0m\n",
      "\u001b[34m[2022-02-01 02:29:08 +0000] [1] [INFO] Starting gunicorn 19.9.0\u001b[0m\n",
      "\u001b[34m[2022-02-01 02:29:08 +0000] [1] [INFO] Listening at: http://0.0.0.0:8080 (1)\u001b[0m\n",
      "\u001b[34m[2022-02-01 02:29:08 +0000] [1] [INFO] Using worker: gevent\u001b[0m\n",
      "\u001b[34m[2022-02-01 02:29:08 +0000] [21] [INFO] Booting worker with pid: 21\u001b[0m\n",
      "\u001b[34m/opt/amazon/lib/python3.7/site-packages/gunicorn/workers/ggevent.py:65: MonkeyPatchWarning: Monkey-patching ssl after ssl has already been imported may lead to errors, including RecursionError on Python 3.6. It may also silently lead to incorrect behaviour on Python 3.7. Please monkey-patch earlier. See https://github.com/gevent/gevent/issues/1016. Modules that had direct imports (NOT patched): ['urllib3.util.ssl_ (/opt/amazon/lib/python3.7/site-packages/urllib3/util/ssl_.py)', 'urllib3.util (/opt/amazon/lib/python3.7/site-packages/urllib3/util/__init__.py)']. \n",
      "  monkey.patch_all(subprocess=True)\u001b[0m\n",
      "\u001b[34m[2022-02-01:02:29:08:INFO] Model loaded successfully for worker : 21\u001b[0m\n",
      "\u001b[34m[2022-02-01 02:29:08 +0000] [22] [INFO] Booting worker with pid: 22\u001b[0m\n",
      "\u001b[34m[2022-02-01 02:29:08 +0000] [23] [INFO] Booting worker with pid: 23\u001b[0m\n",
      "\u001b[34m[2022-02-01 02:29:08 +0000] [24] [INFO] Booting worker with pid: 24\u001b[0m\n",
      "\u001b[34m/opt/amazon/lib/python3.7/site-packages/gunicorn/workers/ggevent.py:65: MonkeyPatchWarning: Monkey-patching ssl after ssl has already been imported may lead to errors, including RecursionError on Python 3.6. It may also silently lead to incorrect behaviour on Python 3.7. Please monkey-patch earlier. See https://github.com/gevent/gevent/issues/1016. Modules that had direct imports (NOT patched): ['urllib3.util.ssl_ (/opt/amazon/lib/python3.7/site-packages/urllib3/util/ssl_.py)', 'urllib3.util (/opt/amazon/lib/python3.7/site-packages/urllib3/util/__init__.py)']. \n",
      "  monkey.patch_all(subprocess=True)\u001b[0m\n",
      "\u001b[34m[2022-02-01:02:29:08:INFO] Model loaded successfully for worker : 22\u001b[0m\n",
      "\u001b[34m/opt/amazon/lib/python3.7/site-packages/gunicorn/workers/ggevent.py:65: MonkeyPatchWarning: Monkey-patching ssl after ssl has already been imported may lead to errors, including RecursionError on Python 3.6. It may also silently lead to incorrect behaviour on Python 3.7. Please monkey-patch earlier. See https://github.com/gevent/gevent/issues/1016. Modules that had direct imports (NOT patched): ['urllib3.util.ssl_ (/opt/amazon/lib/python3.7/site-packages/urllib3/util/ssl_.py)', 'urllib3.util (/opt/amazon/lib/python3.7/site-packages/urllib3/util/__init__.py)']. \n",
      "  monkey.patch_all(subprocess=True)\u001b[0m\n",
      "\u001b[34m[2022-02-01:02:29:08:INFO] Model loaded successfully for worker : 23\u001b[0m\n",
      "\u001b[34m/opt/amazon/lib/python3.7/site-packages/gunicorn/workers/ggevent.py:65: MonkeyPatchWarning: Monkey-patching ssl after ssl has already been imported may lead to errors, including RecursionError on Python 3.6. It may also silently lead to incorrect behaviour on Python 3.7. Please monkey-patch earlier. See https://github.com/gevent/gevent/issues/1016. Modules that had direct imports (NOT patched): ['urllib3.util.ssl_ (/opt/amazon/lib/python3.7/site-packages/urllib3/util/ssl_.py)', 'urllib3.util (/opt/amazon/lib/python3.7/site-packages/urllib3/util/__init__.py)']. \n",
      "  monkey.patch_all(subprocess=True)\u001b[0m\n",
      "\u001b[34m[2022-02-01:02:29:08:INFO] Model loaded successfully for worker : 24\u001b[0m\n",
      "\u001b[34m[2022-02-01:02:29:14:INFO] Sniff delimiter as ','\u001b[0m\n",
      "\u001b[34m[2022-02-01:02:29:14:INFO] Determined delimiter of CSV input is ','\u001b[0m\n",
      "\u001b[34m[2022-02-01:02:29:14:INFO] Sniff delimiter as ','\u001b[0m\n",
      "\u001b[34m[2022-02-01:02:29:14:INFO] Determined delimiter of CSV input is ','\u001b[0m\n",
      "\u001b[35m[2022-02-01:02:29:14:INFO] Sniff delimiter as ','\u001b[0m\n",
      "\u001b[35m[2022-02-01:02:29:14:INFO] Determined delimiter of CSV input is ','\u001b[0m\n",
      "\u001b[35m[2022-02-01:02:29:14:INFO] Sniff delimiter as ','\u001b[0m\n",
      "\u001b[35m[2022-02-01:02:29:14:INFO] Determined delimiter of CSV input is ','\u001b[0m\n",
      "\u001b[32m2022-02-01T02:29:12.447:[sagemaker logs]: MaxConcurrentTransforms=4, MaxPayloadInMB=6, BatchStrategy=MULTI_RECORD\u001b[0m\n",
      "\u001b[34m[2022-02-01:02:29:15:INFO] Sniff delimiter as ','\u001b[0m\n",
      "\u001b[34m[2022-02-01:02:29:15:INFO] Determined delimiter of CSV input is ','\u001b[0m\n",
      "\u001b[34m[2022-02-01:02:29:15:INFO] Sniff delimiter as ','\u001b[0m\n",
      "\u001b[34m[2022-02-01:02:29:15:INFO] Determined delimiter of CSV input is ','\u001b[0m\n",
      "\u001b[35m[2022-02-01:02:29:15:INFO] Sniff delimiter as ','\u001b[0m\n",
      "\u001b[35m[2022-02-01:02:29:15:INFO] Determined delimiter of CSV input is ','\u001b[0m\n",
      "\u001b[35m[2022-02-01:02:29:15:INFO] Sniff delimiter as ','\u001b[0m\n",
      "\u001b[35m[2022-02-01:02:29:15:INFO] Determined delimiter of CSV input is ','\u001b[0m\n",
      "\u001b[34m[2022-02-01:02:29:18:INFO] Sniff delimiter as ','\u001b[0m\n",
      "\u001b[34m[2022-02-01:02:29:18:INFO] Determined delimiter of CSV input is ','\u001b[0m\n",
      "\u001b[34m[2022-02-01:02:29:18:INFO] Sniff delimiter as ','\u001b[0m\n",
      "\u001b[34m[2022-02-01:02:29:18:INFO] Determined delimiter of CSV input is ','\u001b[0m\n",
      "\u001b[34m[2022-02-01:02:29:19:INFO] Sniff delimiter as ','\u001b[0m\n",
      "\u001b[34m[2022-02-01:02:29:19:INFO] Determined delimiter of CSV input is ','\u001b[0m\n",
      "\u001b[35m[2022-02-01:02:29:18:INFO] Sniff delimiter as ','\u001b[0m\n",
      "\u001b[35m[2022-02-01:02:29:18:INFO] Determined delimiter of CSV input is ','\u001b[0m\n",
      "\u001b[35m[2022-02-01:02:29:18:INFO] Sniff delimiter as ','\u001b[0m\n",
      "\u001b[35m[2022-02-01:02:29:18:INFO] Determined delimiter of CSV input is ','\u001b[0m\n",
      "\u001b[35m[2022-02-01:02:29:19:INFO] Sniff delimiter as ','\u001b[0m\n",
      "\u001b[35m[2022-02-01:02:29:19:INFO] Determined delimiter of CSV input is ','\u001b[0m\n",
      "\u001b[34m[2022-02-01:02:29:19:INFO] Sniff delimiter as ','\u001b[0m\n",
      "\u001b[34m[2022-02-01:02:29:19:INFO] Determined delimiter of CSV input is ','\u001b[0m\n",
      "\u001b[35m[2022-02-01:02:29:19:INFO] Sniff delimiter as ','\u001b[0m\n",
      "\u001b[35m[2022-02-01:02:29:19:INFO] Determined delimiter of CSV input is ','\u001b[0m\n",
      "\u001b[34m[2022-02-01:02:29:22:INFO] Sniff delimiter as ','\u001b[0m\n",
      "\u001b[34m[2022-02-01:02:29:22:INFO] Determined delimiter of CSV input is ','\u001b[0m\n",
      "\u001b[34m[2022-02-01:02:29:22:INFO] Sniff delimiter as ','\u001b[0m\n",
      "\u001b[34m[2022-02-01:02:29:22:INFO] Determined delimiter of CSV input is ','\u001b[0m\n",
      "\u001b[34m[2022-02-01:02:29:23:INFO] Sniff delimiter as ','\u001b[0m\n",
      "\u001b[34m[2022-02-01:02:29:23:INFO] Determined delimiter of CSV input is ','\u001b[0m\n",
      "\u001b[35m[2022-02-01:02:29:22:INFO] Sniff delimiter as ','\u001b[0m\n",
      "\u001b[35m[2022-02-01:02:29:22:INFO] Determined delimiter of CSV input is ','\u001b[0m\n",
      "\u001b[35m[2022-02-01:02:29:22:INFO] Sniff delimiter as ','\u001b[0m\n",
      "\u001b[35m[2022-02-01:02:29:22:INFO] Determined delimiter of CSV input is ','\u001b[0m\n",
      "\u001b[35m[2022-02-01:02:29:23:INFO] Sniff delimiter as ','\u001b[0m\n",
      "\u001b[35m[2022-02-01:02:29:23:INFO] Determined delimiter of CSV input is ','\u001b[0m\n",
      "\u001b[34m[2022-02-01:02:29:23:INFO] Sniff delimiter as ','\u001b[0m\n",
      "\u001b[34m[2022-02-01:02:29:23:INFO] Determined delimiter of CSV input is ','\u001b[0m\n",
      "\u001b[35m[2022-02-01:02:29:23:INFO] Sniff delimiter as ','\u001b[0m\n",
      "\u001b[35m[2022-02-01:02:29:23:INFO] Determined delimiter of CSV input is ','\u001b[0m\n",
      "\u001b[34m[2022-02-01:02:29:26:INFO] Sniff delimiter as ','\u001b[0m\n",
      "\u001b[34m[2022-02-01:02:29:26:INFO] Determined delimiter of CSV input is ','\u001b[0m\n",
      "\u001b[34m[2022-02-01:02:29:27:INFO] Sniff delimiter as ','\u001b[0m\n",
      "\u001b[34m[2022-02-01:02:29:27:INFO] Determined delimiter of CSV input is ','\u001b[0m\n",
      "\u001b[35m[2022-02-01:02:29:26:INFO] Sniff delimiter as ','\u001b[0m\n",
      "\u001b[35m[2022-02-01:02:29:26:INFO] Determined delimiter of CSV input is ','\u001b[0m\n",
      "\u001b[35m[2022-02-01:02:29:27:INFO] Sniff delimiter as ','\u001b[0m\n",
      "\u001b[35m[2022-02-01:02:29:27:INFO] Determined delimiter of CSV input is ','\u001b[0m\n",
      "\u001b[34m[2022-02-01:02:29:27:INFO] Sniff delimiter as ','\u001b[0m\n",
      "\u001b[34m[2022-02-01:02:29:27:INFO] Determined delimiter of CSV input is ','\u001b[0m\n",
      "\u001b[35m[2022-02-01:02:29:27:INFO] Sniff delimiter as ','\u001b[0m\n",
      "\u001b[35m[2022-02-01:02:29:27:INFO] Determined delimiter of CSV input is ','\u001b[0m\n",
      "\u001b[34m[2022-02-01:02:29:30:INFO] Sniff delimiter as ','\u001b[0m\n",
      "\u001b[34m[2022-02-01:02:29:30:INFO] Determined delimiter of CSV input is ','\u001b[0m\n",
      "\u001b[35m[2022-02-01:02:29:30:INFO] Sniff delimiter as ','\u001b[0m\n",
      "\u001b[35m[2022-02-01:02:29:30:INFO] Determined delimiter of CSV input is ','\u001b[0m\n",
      "\u001b[34m[2022-02-01:02:29:30:INFO] Sniff delimiter as ','\u001b[0m\n",
      "\u001b[34m[2022-02-01:02:29:30:INFO] Determined delimiter of CSV input is ','\u001b[0m\n",
      "\u001b[34m[2022-02-01:02:29:30:INFO] Sniff delimiter as ','\u001b[0m\n",
      "\u001b[34m[2022-02-01:02:29:30:INFO] Determined delimiter of CSV input is ','\u001b[0m\n",
      "\u001b[34m[2022-02-01:02:29:31:INFO] Sniff delimiter as ','\u001b[0m\n",
      "\u001b[34m[2022-02-01:02:29:31:INFO] Determined delimiter of CSV input is ','\u001b[0m\n",
      "\u001b[35m[2022-02-01:02:29:30:INFO] Sniff delimiter as ','\u001b[0m\n",
      "\u001b[35m[2022-02-01:02:29:30:INFO] Determined delimiter of CSV input is ','\u001b[0m\n",
      "\u001b[35m[2022-02-01:02:29:30:INFO] Sniff delimiter as ','\u001b[0m\n",
      "\u001b[35m[2022-02-01:02:29:30:INFO] Determined delimiter of CSV input is ','\u001b[0m\n",
      "\u001b[35m[2022-02-01:02:29:31:INFO] Sniff delimiter as ','\u001b[0m\n",
      "\u001b[35m[2022-02-01:02:29:31:INFO] Determined delimiter of CSV input is ','\u001b[0m\n",
      "\u001b[34m[2022-02-01:02:29:33:INFO] Sniff delimiter as ','\u001b[0m\n",
      "\u001b[34m[2022-02-01:02:29:33:INFO] Determined delimiter of CSV input is ','\u001b[0m\n",
      "\u001b[35m[2022-02-01:02:29:33:INFO] Sniff delimiter as ','\u001b[0m\n",
      "\u001b[35m[2022-02-01:02:29:33:INFO] Determined delimiter of CSV input is ','\u001b[0m\n",
      "\u001b[34m[2022-02-01:02:29:34:INFO] Sniff delimiter as ','\u001b[0m\n",
      "\u001b[35m[2022-02-01:02:29:34:INFO] Sniff delimiter as ','\u001b[0m\n",
      "\u001b[34m[2022-02-01:02:29:34:INFO] Determined delimiter of CSV input is ','\u001b[0m\n",
      "\u001b[34m[2022-02-01:02:29:34:INFO] Sniff delimiter as ','\u001b[0m\n",
      "\u001b[34m[2022-02-01:02:29:34:INFO] Determined delimiter of CSV input is ','\u001b[0m\n",
      "\u001b[34m[2022-02-01:02:29:35:INFO] Sniff delimiter as ','\u001b[0m\n",
      "\u001b[34m[2022-02-01:02:29:35:INFO] Determined delimiter of CSV input is ','\u001b[0m\n",
      "\u001b[35m[2022-02-01:02:29:34:INFO] Determined delimiter of CSV input is ','\u001b[0m\n",
      "\u001b[35m[2022-02-01:02:29:34:INFO] Sniff delimiter as ','\u001b[0m\n",
      "\u001b[35m[2022-02-01:02:29:34:INFO] Determined delimiter of CSV input is ','\u001b[0m\n",
      "\u001b[35m[2022-02-01:02:29:35:INFO] Sniff delimiter as ','\u001b[0m\n",
      "\u001b[35m[2022-02-01:02:29:35:INFO] Determined delimiter of CSV input is ','\u001b[0m\n"
     ]
    },
    {
     "name": "stdout",
     "output_type": "stream",
     "text": [
      "\u001b[34m[2022-02-01:02:29:38:INFO] Determined delimiter of CSV input is ','\u001b[0m\n",
      "\u001b[35m[2022-02-01:02:29:38:INFO] Determined delimiter of CSV input is ','\u001b[0m\n",
      "\u001b[34m[2022-02-01:02:29:39:INFO] Sniff delimiter as ','\u001b[0m\n",
      "\u001b[34m[2022-02-01:02:29:39:INFO] Determined delimiter of CSV input is ','\u001b[0m\n",
      "\u001b[35m[2022-02-01:02:29:39:INFO] Sniff delimiter as ','\u001b[0m\n",
      "\u001b[35m[2022-02-01:02:29:39:INFO] Determined delimiter of CSV input is ','\u001b[0m\n",
      "\u001b[34m[2022-02-01:02:29:41:INFO] Sniff delimiter as ','\u001b[0m\n",
      "\u001b[34m[2022-02-01:02:29:41:INFO] Determined delimiter of CSV input is ','\u001b[0m\n",
      "\u001b[34m[2022-02-01:02:29:42:INFO] Sniff delimiter as ','\u001b[0m\n",
      "\u001b[34m[2022-02-01:02:29:42:INFO] Determined delimiter of CSV input is ','\u001b[0m\n",
      "\u001b[34m[2022-02-01:02:29:42:INFO] Sniff delimiter as ','\u001b[0m\n",
      "\u001b[34m[2022-02-01:02:29:42:INFO] Determined delimiter of CSV input is ','\u001b[0m\n",
      "\u001b[35m[2022-02-01:02:29:41:INFO] Sniff delimiter as ','\u001b[0m\n",
      "\u001b[35m[2022-02-01:02:29:41:INFO] Determined delimiter of CSV input is ','\u001b[0m\n",
      "\u001b[35m[2022-02-01:02:29:42:INFO] Sniff delimiter as ','\u001b[0m\n",
      "\u001b[35m[2022-02-01:02:29:42:INFO] Determined delimiter of CSV input is ','\u001b[0m\n",
      "\u001b[35m[2022-02-01:02:29:42:INFO] Sniff delimiter as ','\u001b[0m\n",
      "\u001b[35m[2022-02-01:02:29:42:INFO] Determined delimiter of CSV input is ','\u001b[0m\n",
      "\u001b[34m[2022-02-01:02:29:43:INFO] Sniff delimiter as ','\u001b[0m\n",
      "\u001b[34m[2022-02-01:02:29:43:INFO] Determined delimiter of CSV input is ','\u001b[0m\n",
      "\u001b[35m[2022-02-01:02:29:43:INFO] Sniff delimiter as ','\u001b[0m\n",
      "\u001b[35m[2022-02-01:02:29:43:INFO] Determined delimiter of CSV input is ','\u001b[0m\n",
      "\u001b[34m[2022-02-01:02:29:45:INFO] Sniff delimiter as ','\u001b[0m\n",
      "\u001b[34m[2022-02-01:02:29:45:INFO] Determined delimiter of CSV input is ','\u001b[0m\n",
      "\u001b[34m[2022-02-01:02:29:46:INFO] Sniff delimiter as ','\u001b[0m\n",
      "\u001b[34m[2022-02-01:02:29:46:INFO] Determined delimiter of CSV input is ','\u001b[0m\n",
      "\u001b[34m[2022-02-01:02:29:46:INFO] Sniff delimiter as ','\u001b[0m\n",
      "\u001b[34m[2022-02-01:02:29:46:INFO] Determined delimiter of CSV input is ','\u001b[0m\n",
      "\u001b[35m[2022-02-01:02:29:45:INFO] Sniff delimiter as ','\u001b[0m\n",
      "\u001b[35m[2022-02-01:02:29:45:INFO] Determined delimiter of CSV input is ','\u001b[0m\n",
      "\u001b[35m[2022-02-01:02:29:46:INFO] Sniff delimiter as ','\u001b[0m\n",
      "\u001b[35m[2022-02-01:02:29:46:INFO] Determined delimiter of CSV input is ','\u001b[0m\n",
      "\u001b[35m[2022-02-01:02:29:46:INFO] Sniff delimiter as ','\u001b[0m\n",
      "\u001b[35m[2022-02-01:02:29:46:INFO] Determined delimiter of CSV input is ','\u001b[0m\n",
      "\u001b[34m[2022-02-01:02:29:47:INFO] Sniff delimiter as ','\u001b[0m\n",
      "\u001b[34m[2022-02-01:02:29:47:INFO] Determined delimiter of CSV input is ','\u001b[0m\n",
      "\u001b[35m[2022-02-01:02:29:47:INFO] Sniff delimiter as ','\u001b[0m\n",
      "\u001b[35m[2022-02-01:02:29:47:INFO] Determined delimiter of CSV input is ','\u001b[0m\n",
      "\n",
      "\u001b[34m[2022-02-01:02:29:49:INFO] Sniff delimiter as ','\u001b[0m\n",
      "\u001b[34m[2022-02-01:02:29:49:INFO] Determined delimiter of CSV input is ','\u001b[0m\n",
      "\u001b[35m[2022-02-01:02:29:49:INFO] Sniff delimiter as ','\u001b[0m\n",
      "\u001b[35m[2022-02-01:02:29:49:INFO] Determined delimiter of CSV input is ','\u001b[0m\n",
      "\u001b[34m[2022-02-01:02:29:49:INFO] Sniff delimiter as ','\u001b[0m\n",
      "\u001b[34m[2022-02-01:02:29:49:INFO] Determined delimiter of CSV input is ','\u001b[0m\n",
      "\u001b[35m[2022-02-01:02:29:49:INFO] Sniff delimiter as ','\u001b[0m\n",
      "\u001b[35m[2022-02-01:02:29:49:INFO] Determined delimiter of CSV input is ','\u001b[0m\n",
      "\u001b[34m[2022-02-01:02:29:50:INFO] Sniff delimiter as ','\u001b[0m\n",
      "\u001b[34m[2022-02-01:02:29:50:INFO] Determined delimiter of CSV input is ','\u001b[0m\n",
      "\u001b[35m[2022-02-01:02:29:50:INFO] Sniff delimiter as ','\u001b[0m\n",
      "\u001b[35m[2022-02-01:02:29:50:INFO] Determined delimiter of CSV input is ','\u001b[0m\n"
     ]
    }
   ],
   "source": [
    "xgb_transformer.wait()"
   ]
  },
  {
   "cell_type": "markdown",
   "metadata": {},
   "source": [
    "Now the transform job has executed and the result, the estimated sentiment of each review, has been saved on S3. Since we would rather work on this file locally we can perform a bit of notebook magic to copy the file to the `data_dir`."
   ]
  },
  {
   "cell_type": "code",
   "execution_count": 25,
   "metadata": {},
   "outputs": [
    {
     "name": "stdout",
     "output_type": "stream",
     "text": [
      "Completed 256.0 KiB/476.3 KiB (2.6 MiB/s) with 1 file(s) remaining\r",
      "Completed 476.3 KiB/476.3 KiB (4.6 MiB/s) with 1 file(s) remaining\r",
      "download: s3://sagemaker-us-east-1-801008216402/xgboost-220131-2138-013-fdbc7a2a-2022-02-01-02-23-50-498/test.csv.out to ../data/xgboost/test.csv.out\r\n"
     ]
    }
   ],
   "source": [
    "!aws s3 cp --recursive $xgb_transformer.output_path $data_dir"
   ]
  },
  {
   "cell_type": "markdown",
   "metadata": {},
   "source": [
    "The last step is now to read in the output from our model, convert the output to something a little more usable, in this case we want the sentiment to be either `1` (positive) or `0` (negative), and then compare to the ground truth labels."
   ]
  },
  {
   "cell_type": "code",
   "execution_count": 26,
   "metadata": {},
   "outputs": [],
   "source": [
    "predictions = pd.read_csv(os.path.join(data_dir, 'test.csv.out'), header=None)\n",
    "predictions = [round(num) for num in predictions.squeeze().values]"
   ]
  },
  {
   "cell_type": "code",
   "execution_count": 29,
   "metadata": {},
   "outputs": [
    {
     "data": {
      "text/plain": [
       "0.86884"
      ]
     },
     "execution_count": 29,
     "metadata": {},
     "output_type": "execute_result"
    }
   ],
   "source": [
    "from sklearn.metrics import accuracy_score\n",
    "accuracy_score(test_y, predictions)"
   ]
  },
  {
   "cell_type": "markdown",
   "metadata": {},
   "source": [
    "## Optional: Clean up\n",
    "\n",
    "The default notebook instance on SageMaker doesn't have a lot of excess disk space available. As you continue to complete and execute notebooks you will eventually fill up this disk space, leading to errors which can be difficult to diagnose. Once you are completely finished using a notebook it is a good idea to remove the files that you created along the way. Of course, you can do this from the terminal or from the notebook hub if you would like. The cell below contains some commands to clean up the created files from within the notebook."
   ]
  },
  {
   "cell_type": "code",
   "execution_count": null,
   "metadata": {},
   "outputs": [],
   "source": [
    "# First we will remove all of the files contained in the data_dir directory\n",
    "!rm $data_dir/*\n",
    "\n",
    "# And then we delete the directory itself\n",
    "!rmdir $data_dir\n",
    "\n",
    "# Similarly we will remove the files in the cache_dir directory and the directory itself\n",
    "!rm $cache_dir/*\n",
    "!rmdir $cache_dir"
   ]
  },
  {
   "cell_type": "code",
   "execution_count": null,
   "metadata": {},
   "outputs": [],
   "source": []
  }
 ],
 "metadata": {
  "kernelspec": {
   "display_name": "conda_python3",
   "language": "python",
   "name": "conda_python3"
  },
  "language_info": {
   "codemirror_mode": {
    "name": "ipython",
    "version": 3
   },
   "file_extension": ".py",
   "mimetype": "text/x-python",
   "name": "python",
   "nbconvert_exporter": "python",
   "pygments_lexer": "ipython3",
   "version": "3.6.13"
  }
 },
 "nbformat": 4,
 "nbformat_minor": 2
}
