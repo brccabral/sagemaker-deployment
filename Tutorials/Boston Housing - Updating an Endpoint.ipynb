{
 "cells": [
  {
   "cell_type": "markdown",
   "metadata": {},
   "source": [
    "# Predicting Boston Housing Prices\n",
    "\n",
    "## Updating a model using SageMaker\n",
    "\n",
    "_Deep Learning Nanodegree Program | Deployment_\n",
    "\n",
    "---\n",
    "\n",
    "In this notebook, we will continue working with the [Boston Housing Dataset](https://www.cs.toronto.edu/~delve/data/boston/bostonDetail.html). Our goal in this notebook will be to train two different models and to use SageMaker to switch a deployed endpoint from using one model to the other. One of the benefits of using SageMaker to do this is that we can make the change without interrupting service. What this means is that we can continue sending data to the endpoint and at no point will that endpoint disappear.\n",
    "\n",
    "## General Outline\n",
    "\n",
    "Typically, when using a notebook instance with SageMaker, you will proceed through the following steps. Of course, not every step will need to be done with each project. Also, there is quite a lot of room for variation in many of the steps, as you will see throughout these lessons.\n",
    "\n",
    "1. Download or otherwise retrieve the data.\n",
    "2. Process / Prepare the data.\n",
    "3. Upload the processed data to S3.\n",
    "4. Train a chosen model.\n",
    "5. Test the trained model (typically using a batch transform job).\n",
    "6. Deploy the trained model.\n",
    "7. Use the deployed model.\n",
    "\n",
    "In this notebook we will be skipping step 5, testing the model. In addition, we will perform steps 4, 6 and 7 multiple times with different models."
   ]
  },
  {
   "cell_type": "code",
   "execution_count": 1,
   "metadata": {},
   "outputs": [
    {
     "name": "stdout",
     "output_type": "stream",
     "text": [
      "Requirement already satisfied: sagemaker==1.72.0 in /home/ec2-user/anaconda3/envs/pytorch_p36/lib/python3.6/site-packages (1.72.0)\n",
      "Requirement already satisfied: importlib-metadata>=1.4.0 in /home/ec2-user/anaconda3/envs/pytorch_p36/lib/python3.6/site-packages (from sagemaker==1.72.0) (4.5.0)\n",
      "Requirement already satisfied: boto3>=1.14.12 in /home/ec2-user/anaconda3/envs/pytorch_p36/lib/python3.6/site-packages (from sagemaker==1.72.0) (1.20.25)\n",
      "Requirement already satisfied: smdebug-rulesconfig==0.1.4 in /home/ec2-user/anaconda3/envs/pytorch_p36/lib/python3.6/site-packages (from sagemaker==1.72.0) (0.1.4)\n",
      "Requirement already satisfied: protobuf>=3.1 in /home/ec2-user/anaconda3/envs/pytorch_p36/lib/python3.6/site-packages (from sagemaker==1.72.0) (3.17.2)\n",
      "Requirement already satisfied: packaging>=20.0 in /home/ec2-user/anaconda3/envs/pytorch_p36/lib/python3.6/site-packages (from sagemaker==1.72.0) (21.3)\n",
      "Requirement already satisfied: protobuf3-to-dict>=0.1.5 in /home/ec2-user/anaconda3/envs/pytorch_p36/lib/python3.6/site-packages (from sagemaker==1.72.0) (0.1.5)\n",
      "Requirement already satisfied: scipy>=0.19.0 in /home/ec2-user/anaconda3/envs/pytorch_p36/lib/python3.6/site-packages (from sagemaker==1.72.0) (1.5.3)\n",
      "Requirement already satisfied: numpy>=1.9.0 in /home/ec2-user/anaconda3/envs/pytorch_p36/lib/python3.6/site-packages (from sagemaker==1.72.0) (1.19.5)\n",
      "Requirement already satisfied: jmespath<1.0.0,>=0.7.1 in /home/ec2-user/anaconda3/envs/pytorch_p36/lib/python3.6/site-packages (from boto3>=1.14.12->sagemaker==1.72.0) (0.10.0)\n",
      "Requirement already satisfied: s3transfer<0.6.0,>=0.5.0 in /home/ec2-user/anaconda3/envs/pytorch_p36/lib/python3.6/site-packages (from boto3>=1.14.12->sagemaker==1.72.0) (0.5.0)\n",
      "Requirement already satisfied: botocore<1.24.0,>=1.23.25 in /home/ec2-user/anaconda3/envs/pytorch_p36/lib/python3.6/site-packages (from boto3>=1.14.12->sagemaker==1.72.0) (1.23.25)\n",
      "Requirement already satisfied: typing-extensions>=3.6.4 in /home/ec2-user/anaconda3/envs/pytorch_p36/lib/python3.6/site-packages (from importlib-metadata>=1.4.0->sagemaker==1.72.0) (3.10.0.0)\n",
      "Requirement already satisfied: zipp>=0.5 in /home/ec2-user/anaconda3/envs/pytorch_p36/lib/python3.6/site-packages (from importlib-metadata>=1.4.0->sagemaker==1.72.0) (3.4.1)\n",
      "Requirement already satisfied: pyparsing!=3.0.5,>=2.0.2 in /home/ec2-user/anaconda3/envs/pytorch_p36/lib/python3.6/site-packages (from packaging>=20.0->sagemaker==1.72.0) (2.4.7)\n",
      "Requirement already satisfied: six>=1.9 in /home/ec2-user/anaconda3/envs/pytorch_p36/lib/python3.6/site-packages (from protobuf>=3.1->sagemaker==1.72.0) (1.16.0)\n",
      "Requirement already satisfied: python-dateutil<3.0.0,>=2.1 in /home/ec2-user/anaconda3/envs/pytorch_p36/lib/python3.6/site-packages (from botocore<1.24.0,>=1.23.25->boto3>=1.14.12->sagemaker==1.72.0) (2.8.1)\n",
      "Requirement already satisfied: urllib3<1.27,>=1.25.4 in /home/ec2-user/anaconda3/envs/pytorch_p36/lib/python3.6/site-packages (from botocore<1.24.0,>=1.23.25->boto3>=1.14.12->sagemaker==1.72.0) (1.26.5)\n"
     ]
    }
   ],
   "source": [
    "# Make sure that we use SageMaker 1.x\n",
    "!pip install sagemaker==1.72.0"
   ]
  },
  {
   "cell_type": "markdown",
   "metadata": {},
   "source": [
    "## Step 0: Setting up the notebook\n",
    "\n",
    "We begin by setting up all of the necessary bits required to run our notebook. To start that means loading all of the Python modules we will need."
   ]
  },
  {
   "cell_type": "code",
   "execution_count": 2,
   "metadata": {},
   "outputs": [],
   "source": [
    "%matplotlib inline\n",
    "\n",
    "import os\n",
    "\n",
    "import numpy as np\n",
    "import pandas as pd\n",
    "\n",
    "from pprint import pprint\n",
    "import matplotlib.pyplot as plt\n",
    "from time import gmtime, strftime\n",
    "\n",
    "from sklearn.datasets import load_boston\n",
    "import sklearn.model_selection"
   ]
  },
  {
   "cell_type": "markdown",
   "metadata": {},
   "source": [
    "In addition to the modules above, we need to import the various bits of SageMaker that we will be using. "
   ]
  },
  {
   "cell_type": "code",
   "execution_count": 3,
   "metadata": {},
   "outputs": [],
   "source": [
    "import sagemaker\n",
    "from sagemaker import get_execution_role\n",
    "from sagemaker.amazon.amazon_estimator import get_image_uri\n",
    "from sagemaker.predictor import csv_serializer\n",
    "\n",
    "# This is an object that represents the SageMaker session that we are currently operating in. This\n",
    "# object contains some useful information that we will need to access later such as our region.\n",
    "session = sagemaker.Session()\n",
    "\n",
    "# This is an object that represents the IAM role that we are currently assigned. When we construct\n",
    "# and launch the training job later we will need to tell it what IAM role it should have. Since our\n",
    "# use case is relatively simple we will simply assign the training job the role we currently have.\n",
    "role = get_execution_role()"
   ]
  },
  {
   "cell_type": "markdown",
   "metadata": {},
   "source": [
    "## Step 1: Downloading the data\n",
    "\n",
    "Fortunately, this dataset can be retrieved using sklearn and so this step is relatively straightforward."
   ]
  },
  {
   "cell_type": "code",
   "execution_count": 4,
   "metadata": {},
   "outputs": [],
   "source": [
    "boston = load_boston()"
   ]
  },
  {
   "cell_type": "markdown",
   "metadata": {},
   "source": [
    "## Step 2: Preparing and splitting the data\n",
    "\n",
    "Given that this is clean tabular data, we don't need to do any processing. However, we do need to split the rows in the dataset up into train, test and validation sets."
   ]
  },
  {
   "cell_type": "code",
   "execution_count": 5,
   "metadata": {},
   "outputs": [],
   "source": [
    "# First we package up the input data and the target variable (the median value) as pandas dataframes. This\n",
    "# will make saving the data to a file a little easier later on.\n",
    "\n",
    "X_bos_pd = pd.DataFrame(boston.data, columns=boston.feature_names)\n",
    "Y_bos_pd = pd.DataFrame(boston.target)\n",
    "\n",
    "# We split the dataset into 2/3 training and 1/3 testing sets.\n",
    "X_train, X_test, Y_train, Y_test = sklearn.model_selection.train_test_split(X_bos_pd, Y_bos_pd, test_size=0.33)\n",
    "\n",
    "# Then we split the training set further into 2/3 training and 1/3 validation sets.\n",
    "X_train, X_val, Y_train, Y_val = sklearn.model_selection.train_test_split(X_train, Y_train, test_size=0.33)"
   ]
  },
  {
   "cell_type": "markdown",
   "metadata": {},
   "source": [
    "## Step 3: Uploading the training and validation files to S3\n",
    "\n",
    "When a training job is constructed using SageMaker, a container is executed which performs the training operation. This container is given access to data that is stored in S3. This means that we need to upload the data we want to use for training to S3. We can use the SageMaker API to do this and hide some of the details.\n",
    "\n",
    "### Save the data locally\n",
    "\n",
    "First we need to create the train and validation csv files which we will then upload to S3."
   ]
  },
  {
   "cell_type": "code",
   "execution_count": 6,
   "metadata": {},
   "outputs": [],
   "source": [
    "# This is our local data directory. We need to make sure that it exists.\n",
    "data_dir = '../data/boston'\n",
    "if not os.path.exists(data_dir):\n",
    "    os.makedirs(data_dir)"
   ]
  },
  {
   "cell_type": "code",
   "execution_count": 7,
   "metadata": {},
   "outputs": [],
   "source": [
    "# We use pandas to save our train and validation data to csv files. Note that we make sure not to include header\n",
    "# information or an index as this is required by the built in algorithms provided by Amazon. Also, it is assumed\n",
    "# that the first entry in each row is the target variable.\n",
    "\n",
    "pd.concat([Y_val, X_val], axis=1).to_csv(os.path.join(data_dir, 'validation.csv'), header=False, index=False)\n",
    "pd.concat([Y_train, X_train], axis=1).to_csv(os.path.join(data_dir, 'train.csv'), header=False, index=False)"
   ]
  },
  {
   "cell_type": "markdown",
   "metadata": {},
   "source": [
    "### Upload to S3\n",
    "\n",
    "Since we are currently running inside of a SageMaker session, we can use the object which represents this session to upload our data to the 'default' S3 bucket. Note that it is good practice to provide a custom prefix (essentially an S3 folder) to make sure that you don't accidentally interfere with data uploaded from some other notebook or project."
   ]
  },
  {
   "cell_type": "code",
   "execution_count": 8,
   "metadata": {},
   "outputs": [],
   "source": [
    "prefix = 'boston-update-endpoints'\n",
    "\n",
    "val_location = session.upload_data(os.path.join(data_dir, 'validation.csv'), key_prefix=prefix)\n",
    "train_location = session.upload_data(os.path.join(data_dir, 'train.csv'), key_prefix=prefix)"
   ]
  },
  {
   "cell_type": "markdown",
   "metadata": {},
   "source": [
    "## Step 4 (A): Train the XGBoost model\n",
    "\n",
    "Now that we have the training and validation data uploaded to S3, we can construct our XGBoost model and train it. We will be making use of the high level SageMaker API to do this which will make the resulting code a little easier to read at the cost of some flexibility.\n",
    "\n",
    "To construct an estimator, the object which we wish to train, we need to provide the location of a container which contains the training code. Since we are using a built in algorithm this container is provided by Amazon. However, the full name of the container is a bit lengthy and depends on the region that we are operating in. Fortunately, SageMaker provides a useful utility method called `get_image_uri` that constructs the image name for us.\n",
    "\n",
    "To use the `get_image_uri` method we need to provide it with our current region, which can be obtained from the session object, and the name of the algorithm we wish to use. In this notebook we will be using XGBoost however you could try another algorithm if you wish. The list of built in algorithms can be found in the list of [Common Parameters](https://docs.aws.amazon.com/sagemaker/latest/dg/sagemaker-algo-docker-registry-paths.html)."
   ]
  },
  {
   "cell_type": "code",
   "execution_count": 9,
   "metadata": {},
   "outputs": [
    {
     "name": "stderr",
     "output_type": "stream",
     "text": [
      "'get_image_uri' method will be deprecated in favor of 'ImageURIProvider' class in SageMaker Python SDK v2.\n",
      "There is a more up to date SageMaker XGBoost image. To use the newer image, please set 'repo_version'='1.0-1'. For example:\n",
      "\tget_image_uri(region, 'xgboost', '1.0-1').\n",
      "Parameter image_name will be renamed to image_uri in SageMaker Python SDK v2.\n"
     ]
    }
   ],
   "source": [
    "# As stated above, we use this utility method to construct the image name for the training container.\n",
    "xgb_container = get_image_uri(session.boto_region_name, 'xgboost')\n",
    "\n",
    "# Now that we know which container to use, we can construct the estimator object.\n",
    "xgb = sagemaker.estimator.Estimator(xgb_container, # The name of the training container\n",
    "                                    role,      # The IAM role to use (our current role in this case)\n",
    "                                    train_instance_count=1, # The number of instances to use for training\n",
    "                                    train_instance_type='ml.m4.xlarge', # The type of instance ot use for training\n",
    "                                    output_path='s3://{}/{}/output'.format(session.default_bucket(), prefix),\n",
    "                                                                        # Where to save the output (the model artifacts)\n",
    "                                    sagemaker_session=session) # The current SageMaker session"
   ]
  },
  {
   "cell_type": "markdown",
   "metadata": {},
   "source": [
    "Before asking SageMaker to begin the training job, we should probably set any model specific hyperparameters. There are quite a few that can be set when using the XGBoost algorithm, below are just a few of them. If you would like to change the hyperparameters below or modify additional ones you can find additional information on the [XGBoost hyperparameter page](https://docs.aws.amazon.com/sagemaker/latest/dg/xgboost_hyperparameters.html)"
   ]
  },
  {
   "cell_type": "code",
   "execution_count": 10,
   "metadata": {},
   "outputs": [],
   "source": [
    "xgb.set_hyperparameters(max_depth=5,\n",
    "                        eta=0.2,\n",
    "                        gamma=4,\n",
    "                        min_child_weight=6,\n",
    "                        subsample=0.8,\n",
    "                        objective='reg:linear',\n",
    "                        early_stopping_rounds=10,\n",
    "                        num_round=200)"
   ]
  },
  {
   "cell_type": "markdown",
   "metadata": {},
   "source": [
    "Now that we have our estimator object completely set up, it is time to train it. To do this we make sure that SageMaker knows our input data is in csv format and then execute the `fit` method."
   ]
  },
  {
   "cell_type": "code",
   "execution_count": 11,
   "metadata": {},
   "outputs": [
    {
     "name": "stderr",
     "output_type": "stream",
     "text": [
      "'s3_input' class will be renamed to 'TrainingInput' in SageMaker Python SDK v2.\n",
      "'s3_input' class will be renamed to 'TrainingInput' in SageMaker Python SDK v2.\n"
     ]
    },
    {
     "name": "stdout",
     "output_type": "stream",
     "text": [
      "2022-02-06 23:32:57 Starting - Starting the training job...\n",
      "2022-02-06 23:32:59 Starting - Launching requested ML instances......\n",
      "2022-02-06 23:34:06 Starting - Preparing the instances for training.........\n",
      "2022-02-06 23:35:49 Downloading - Downloading input data...\n",
      "2022-02-06 23:36:24 Training - Downloading the training image...\n",
      "2022-02-06 23:36:58 Uploading - Uploading generated training model\n",
      "2022-02-06 23:36:58 Completed - Training job completed\n",
      "\u001b[34mArguments: train\u001b[0m\n",
      "\u001b[34m[2022-02-06:23:36:46:INFO] Running standalone xgboost training.\u001b[0m\n",
      "\u001b[34m[2022-02-06:23:36:46:INFO] File size need to be processed in the node: 0.02mb. Available memory size in the node: 8394.23mb\u001b[0m\n",
      "\u001b[34m[2022-02-06:23:36:46:INFO] Determined delimiter of CSV input is ','\u001b[0m\n",
      "\u001b[34m[23:36:46] S3DistributionType set as FullyReplicated\u001b[0m\n",
      "\u001b[34m[23:36:46] 227x13 matrix with 2951 entries loaded from /opt/ml/input/data/train?format=csv&label_column=0&delimiter=,\u001b[0m\n",
      "\u001b[34m[2022-02-06:23:36:46:INFO] Determined delimiter of CSV input is ','\u001b[0m\n",
      "\u001b[34m[23:36:46] S3DistributionType set as FullyReplicated\u001b[0m\n",
      "\u001b[34m[23:36:46] 112x13 matrix with 1456 entries loaded from /opt/ml/input/data/validation?format=csv&label_column=0&delimiter=,\u001b[0m\n",
      "\u001b[34m[23:36:46] src/tree/updater_prune.cc:74: tree pruning end, 1 roots, 8 extra nodes, 0 pruned nodes, max_depth=3\u001b[0m\n",
      "\u001b[34m[0]#011train-rmse:19.3507#011validation-rmse:20.6773\u001b[0m\n",
      "\u001b[34mMultiple eval metrics have been passed: 'validation-rmse' will be used for early stopping.\u001b[0m\n",
      "\u001b[34mWill train until validation-rmse hasn't improved in 10 rounds.\u001b[0m\n",
      "\u001b[34m[23:36:46] src/tree/updater_prune.cc:74: tree pruning end, 1 roots, 8 extra nodes, 2 pruned nodes, max_depth=3\u001b[0m\n",
      "\u001b[34m[1]#011train-rmse:15.7694#011validation-rmse:16.913\u001b[0m\n",
      "\u001b[34m[23:36:46] src/tree/updater_prune.cc:74: tree pruning end, 1 roots, 10 extra nodes, 2 pruned nodes, max_depth=3\u001b[0m\n",
      "\u001b[34m[2]#011train-rmse:12.9526#011validation-rmse:13.9966\u001b[0m\n",
      "\u001b[34m[23:36:46] src/tree/updater_prune.cc:74: tree pruning end, 1 roots, 14 extra nodes, 0 pruned nodes, max_depth=4\u001b[0m\n",
      "\u001b[34m[3]#011train-rmse:10.7448#011validation-rmse:11.7929\u001b[0m\n",
      "\u001b[34m[23:36:46] src/tree/updater_prune.cc:74: tree pruning end, 1 roots, 20 extra nodes, 0 pruned nodes, max_depth=5\u001b[0m\n",
      "\u001b[34m[4]#011train-rmse:8.91949#011validation-rmse:10.0121\u001b[0m\n",
      "\u001b[34m[23:36:46] src/tree/updater_prune.cc:74: tree pruning end, 1 roots, 22 extra nodes, 0 pruned nodes, max_depth=5\u001b[0m\n",
      "\u001b[34m[5]#011train-rmse:7.42758#011validation-rmse:8.63081\u001b[0m\n",
      "\u001b[34m[23:36:46] src/tree/updater_prune.cc:74: tree pruning end, 1 roots, 12 extra nodes, 4 pruned nodes, max_depth=4\u001b[0m\n",
      "\u001b[34m[6]#011train-rmse:6.29856#011validation-rmse:7.55641\u001b[0m\n",
      "\u001b[34m[23:36:46] src/tree/updater_prune.cc:74: tree pruning end, 1 roots, 22 extra nodes, 2 pruned nodes, max_depth=5\u001b[0m\n",
      "\u001b[34m[7]#011train-rmse:5.38208#011validation-rmse:6.85456\u001b[0m\n",
      "\u001b[34m[23:36:46] src/tree/updater_prune.cc:74: tree pruning end, 1 roots, 24 extra nodes, 2 pruned nodes, max_depth=5\u001b[0m\n",
      "\u001b[34m[8]#011train-rmse:4.67782#011validation-rmse:6.28002\u001b[0m\n",
      "\u001b[34m[23:36:46] src/tree/updater_prune.cc:74: tree pruning end, 1 roots, 14 extra nodes, 0 pruned nodes, max_depth=5\u001b[0m\n",
      "\u001b[34m[9]#011train-rmse:4.07451#011validation-rmse:5.82118\u001b[0m\n",
      "\u001b[34m[23:36:46] src/tree/updater_prune.cc:74: tree pruning end, 1 roots, 28 extra nodes, 2 pruned nodes, max_depth=5\u001b[0m\n",
      "\u001b[34m[10]#011train-rmse:3.58264#011validation-rmse:5.46658\u001b[0m\n",
      "\u001b[34m[23:36:46] src/tree/updater_prune.cc:74: tree pruning end, 1 roots, 20 extra nodes, 0 pruned nodes, max_depth=5\u001b[0m\n",
      "\u001b[34m[11]#011train-rmse:3.21619#011validation-rmse:5.26673\u001b[0m\n",
      "\u001b[34m[23:36:46] src/tree/updater_prune.cc:74: tree pruning end, 1 roots, 22 extra nodes, 0 pruned nodes, max_depth=5\u001b[0m\n",
      "\u001b[34m[12]#011train-rmse:2.92453#011validation-rmse:5.1411\u001b[0m\n",
      "\u001b[34m[23:36:46] src/tree/updater_prune.cc:74: tree pruning end, 1 roots, 14 extra nodes, 0 pruned nodes, max_depth=5\u001b[0m\n",
      "\u001b[34m[13]#011train-rmse:2.71798#011validation-rmse:4.95056\u001b[0m\n",
      "\u001b[34m[23:36:46] src/tree/updater_prune.cc:74: tree pruning end, 1 roots, 12 extra nodes, 0 pruned nodes, max_depth=5\u001b[0m\n",
      "\u001b[34m[14]#011train-rmse:2.5592#011validation-rmse:4.81066\u001b[0m\n",
      "\u001b[34m[23:36:46] src/tree/updater_prune.cc:74: tree pruning end, 1 roots, 26 extra nodes, 0 pruned nodes, max_depth=5\u001b[0m\n",
      "\u001b[34m[15]#011train-rmse:2.40194#011validation-rmse:4.7745\u001b[0m\n",
      "\u001b[34m[23:36:46] src/tree/updater_prune.cc:74: tree pruning end, 1 roots, 18 extra nodes, 0 pruned nodes, max_depth=5\u001b[0m\n",
      "\u001b[34m[16]#011train-rmse:2.30148#011validation-rmse:4.72739\u001b[0m\n",
      "\u001b[34m[23:36:46] src/tree/updater_prune.cc:74: tree pruning end, 1 roots, 22 extra nodes, 2 pruned nodes, max_depth=5\u001b[0m\n",
      "\u001b[34m[17]#011train-rmse:2.19418#011validation-rmse:4.60803\u001b[0m\n",
      "\u001b[34m[23:36:46] src/tree/updater_prune.cc:74: tree pruning end, 1 roots, 20 extra nodes, 0 pruned nodes, max_depth=5\u001b[0m\n",
      "\u001b[34m[18]#011train-rmse:2.11076#011validation-rmse:4.57607\u001b[0m\n",
      "\u001b[34m[23:36:46] src/tree/updater_prune.cc:74: tree pruning end, 1 roots, 22 extra nodes, 0 pruned nodes, max_depth=5\u001b[0m\n",
      "\u001b[34m[19]#011train-rmse:1.9987#011validation-rmse:4.55724\u001b[0m\n",
      "\u001b[34m[23:36:46] src/tree/updater_prune.cc:74: tree pruning end, 1 roots, 16 extra nodes, 0 pruned nodes, max_depth=5\u001b[0m\n",
      "\u001b[34m[20]#011train-rmse:1.93859#011validation-rmse:4.52139\u001b[0m\n",
      "\u001b[34m[23:36:46] src/tree/updater_prune.cc:74: tree pruning end, 1 roots, 20 extra nodes, 4 pruned nodes, max_depth=5\u001b[0m\n",
      "\u001b[34m[21]#011train-rmse:1.85709#011validation-rmse:4.47676\u001b[0m\n",
      "\u001b[34m[23:36:46] src/tree/updater_prune.cc:74: tree pruning end, 1 roots, 12 extra nodes, 0 pruned nodes, max_depth=5\u001b[0m\n",
      "\u001b[34m[22]#011train-rmse:1.80529#011validation-rmse:4.4368\u001b[0m\n",
      "\u001b[34m[23:36:46] src/tree/updater_prune.cc:74: tree pruning end, 1 roots, 12 extra nodes, 2 pruned nodes, max_depth=5\u001b[0m\n",
      "\u001b[34m[23]#011train-rmse:1.77774#011validation-rmse:4.45726\u001b[0m\n",
      "\u001b[34m[23:36:46] src/tree/updater_prune.cc:74: tree pruning end, 1 roots, 14 extra nodes, 0 pruned nodes, max_depth=5\u001b[0m\n",
      "\u001b[34m[24]#011train-rmse:1.72503#011validation-rmse:4.44888\u001b[0m\n",
      "\u001b[34m[23:36:46] src/tree/updater_prune.cc:74: tree pruning end, 1 roots, 22 extra nodes, 2 pruned nodes, max_depth=5\u001b[0m\n",
      "\u001b[34m[25]#011train-rmse:1.65956#011validation-rmse:4.48179\u001b[0m\n",
      "\u001b[34m[23:36:46] src/tree/updater_prune.cc:74: tree pruning end, 1 roots, 16 extra nodes, 0 pruned nodes, max_depth=5\u001b[0m\n",
      "\u001b[34m[26]#011train-rmse:1.62489#011validation-rmse:4.47127\u001b[0m\n",
      "\u001b[34m[23:36:46] src/tree/updater_prune.cc:74: tree pruning end, 1 roots, 14 extra nodes, 0 pruned nodes, max_depth=5\u001b[0m\n",
      "\u001b[34m[27]#011train-rmse:1.58636#011validation-rmse:4.44121\u001b[0m\n",
      "\u001b[34m[23:36:46] src/tree/updater_prune.cc:74: tree pruning end, 1 roots, 26 extra nodes, 2 pruned nodes, max_depth=5\u001b[0m\n",
      "\u001b[34m[28]#011train-rmse:1.51804#011validation-rmse:4.39751\u001b[0m\n",
      "\u001b[34m[23:36:46] src/tree/updater_prune.cc:74: tree pruning end, 1 roots, 12 extra nodes, 0 pruned nodes, max_depth=5\u001b[0m\n",
      "\u001b[34m[29]#011train-rmse:1.49735#011validation-rmse:4.38824\u001b[0m\n",
      "\u001b[34m[23:36:46] src/tree/updater_prune.cc:74: tree pruning end, 1 roots, 16 extra nodes, 0 pruned nodes, max_depth=5\u001b[0m\n",
      "\u001b[34m[30]#011train-rmse:1.45665#011validation-rmse:4.35088\u001b[0m\n",
      "\u001b[34m[23:36:46] src/tree/updater_prune.cc:74: tree pruning end, 1 roots, 12 extra nodes, 8 pruned nodes, max_depth=5\u001b[0m\n",
      "\u001b[34m[31]#011train-rmse:1.43046#011validation-rmse:4.3666\u001b[0m\n",
      "\u001b[34m[23:36:46] src/tree/updater_prune.cc:74: tree pruning end, 1 roots, 16 extra nodes, 4 pruned nodes, max_depth=5\u001b[0m\n",
      "\u001b[34m[32]#011train-rmse:1.40635#011validation-rmse:4.38881\u001b[0m\n",
      "\u001b[34m[23:36:46] src/tree/updater_prune.cc:74: tree pruning end, 1 roots, 16 extra nodes, 4 pruned nodes, max_depth=5\u001b[0m\n",
      "\u001b[34m[33]#011train-rmse:1.38135#011validation-rmse:4.40436\u001b[0m\n",
      "\u001b[34m[23:36:46] src/tree/updater_prune.cc:74: tree pruning end, 1 roots, 16 extra nodes, 2 pruned nodes, max_depth=5\u001b[0m\n",
      "\u001b[34m[34]#011train-rmse:1.34882#011validation-rmse:4.38268\u001b[0m\n",
      "\u001b[34m[23:36:46] src/tree/updater_prune.cc:74: tree pruning end, 1 roots, 12 extra nodes, 6 pruned nodes, max_depth=5\u001b[0m\n",
      "\u001b[34m[35]#011train-rmse:1.33799#011validation-rmse:4.37097\u001b[0m\n",
      "\u001b[34m[23:36:46] src/tree/updater_prune.cc:74: tree pruning end, 1 roots, 18 extra nodes, 0 pruned nodes, max_depth=5\u001b[0m\n",
      "\u001b[34m[36]#011train-rmse:1.30601#011validation-rmse:4.33398\u001b[0m\n",
      "\u001b[34m[23:36:46] src/tree/updater_prune.cc:74: tree pruning end, 1 roots, 12 extra nodes, 0 pruned nodes, max_depth=5\u001b[0m\n",
      "\u001b[34m[37]#011train-rmse:1.28644#011validation-rmse:4.3252\u001b[0m\n",
      "\u001b[34m[23:36:46] src/tree/updater_prune.cc:74: tree pruning end, 1 roots, 16 extra nodes, 2 pruned nodes, max_depth=5\u001b[0m\n",
      "\u001b[34m[38]#011train-rmse:1.2481#011validation-rmse:4.33848\u001b[0m\n",
      "\u001b[34m[23:36:46] src/tree/updater_prune.cc:74: tree pruning end, 1 roots, 16 extra nodes, 12 pruned nodes, max_depth=5\u001b[0m\n",
      "\u001b[34m[39]#011train-rmse:1.20892#011validation-rmse:4.35901\u001b[0m\n",
      "\u001b[34m[23:36:46] src/tree/updater_prune.cc:74: tree pruning end, 1 roots, 14 extra nodes, 2 pruned nodes, max_depth=5\u001b[0m\n",
      "\u001b[34m[40]#011train-rmse:1.19035#011validation-rmse:4.33793\u001b[0m\n",
      "\u001b[34m[23:36:46] src/tree/updater_prune.cc:74: tree pruning end, 1 roots, 16 extra nodes, 18 pruned nodes, max_depth=4\u001b[0m\n",
      "\u001b[34m[41]#011train-rmse:1.16942#011validation-rmse:4.34246\u001b[0m\n",
      "\u001b[34m[23:36:46] src/tree/updater_prune.cc:74: tree pruning end, 1 roots, 14 extra nodes, 22 pruned nodes, max_depth=4\u001b[0m\n",
      "\u001b[34m[42]#011train-rmse:1.14362#011validation-rmse:4.33657\u001b[0m\n",
      "\u001b[34m[23:36:46] src/tree/updater_prune.cc:74: tree pruning end, 1 roots, 18 extra nodes, 6 pruned nodes, max_depth=5\u001b[0m\n",
      "\u001b[34m[43]#011train-rmse:1.11521#011validation-rmse:4.30222\u001b[0m\n",
      "\u001b[34m[23:36:46] src/tree/updater_prune.cc:74: tree pruning end, 1 roots, 10 extra nodes, 10 pruned nodes, max_depth=4\u001b[0m\n",
      "\u001b[34m[44]#011train-rmse:1.09993#011validation-rmse:4.30838\u001b[0m\n",
      "\u001b[34m[23:36:46] src/tree/updater_prune.cc:74: tree pruning end, 1 roots, 8 extra nodes, 8 pruned nodes, max_depth=4\u001b[0m\n",
      "\u001b[34m[45]#011train-rmse:1.08724#011validation-rmse:4.32505\u001b[0m\n",
      "\u001b[34m[23:36:46] src/tree/updater_prune.cc:74: tree pruning end, 1 roots, 10 extra nodes, 12 pruned nodes, max_depth=5\u001b[0m\n",
      "\u001b[34m[46]#011train-rmse:1.07628#011validation-rmse:4.33452\u001b[0m\n",
      "\u001b[34m[23:36:46] src/tree/updater_prune.cc:74: tree pruning end, 1 roots, 10 extra nodes, 8 pruned nodes, max_depth=4\u001b[0m\n",
      "\u001b[34m[47]#011train-rmse:1.06384#011validation-rmse:4.32525\u001b[0m\n",
      "\u001b[34m[23:36:46] src/tree/updater_prune.cc:74: tree pruning end, 1 roots, 12 extra nodes, 6 pruned nodes, max_depth=5\u001b[0m\n",
      "\u001b[34m[48]#011train-rmse:1.04607#011validation-rmse:4.31249\u001b[0m\n",
      "\u001b[34m[23:36:46] src/tree/updater_prune.cc:74: tree pruning end, 1 roots, 18 extra nodes, 0 pruned nodes, max_depth=5\u001b[0m\n",
      "\u001b[34m[49]#011train-rmse:1.01374#011validation-rmse:4.29611\u001b[0m\n",
      "\u001b[34m[23:36:46] src/tree/updater_prune.cc:74: tree pruning end, 1 roots, 16 extra nodes, 2 pruned nodes, max_depth=5\u001b[0m\n",
      "\u001b[34m[50]#011train-rmse:0.993011#011validation-rmse:4.27057\u001b[0m\n",
      "\u001b[34m[23:36:46] src/tree/updater_prune.cc:74: tree pruning end, 1 roots, 6 extra nodes, 12 pruned nodes, max_depth=3\u001b[0m\n",
      "\u001b[34m[51]#011train-rmse:0.991033#011validation-rmse:4.28569\u001b[0m\n",
      "\u001b[34m[23:36:46] src/tree/updater_prune.cc:74: tree pruning end, 1 roots, 6 extra nodes, 16 pruned nodes, max_depth=2\u001b[0m\n",
      "\u001b[34m[52]#011train-rmse:0.980708#011validation-rmse:4.27379\u001b[0m\n",
      "\u001b[34m[23:36:46] src/tree/updater_prune.cc:74: tree pruning end, 1 roots, 6 extra nodes, 12 pruned nodes, max_depth=3\u001b[0m\n",
      "\u001b[34m[53]#011train-rmse:0.975476#011validation-rmse:4.27174\u001b[0m\n",
      "\u001b[34m[23:36:46] src/tree/updater_prune.cc:74: tree pruning end, 1 roots, 6 extra nodes, 16 pruned nodes, max_depth=3\u001b[0m\n",
      "\u001b[34m[54]#011train-rmse:0.971737#011validation-rmse:4.2716\u001b[0m\n",
      "\u001b[34m[23:36:46] src/tree/updater_prune.cc:74: tree pruning end, 1 roots, 12 extra nodes, 18 pruned nodes, max_depth=4\u001b[0m\n",
      "\u001b[34m[55]#011train-rmse:0.95742#011validation-rmse:4.26757\u001b[0m\n",
      "\u001b[34m[23:36:46] src/tree/updater_prune.cc:74: tree pruning end, 1 roots, 12 extra nodes, 12 pruned nodes, max_depth=4\u001b[0m\n",
      "\u001b[34m[56]#011train-rmse:0.941027#011validation-rmse:4.25375\u001b[0m\n",
      "\u001b[34m[23:36:46] src/tree/updater_prune.cc:74: tree pruning end, 1 roots, 0 extra nodes, 10 pruned nodes, max_depth=0\u001b[0m\n",
      "\u001b[34m[57]#011train-rmse:0.941024#011validation-rmse:4.25372\u001b[0m\n",
      "\u001b[34m[23:36:46] src/tree/updater_prune.cc:74: tree pruning end, 1 roots, 10 extra nodes, 12 pruned nodes, max_depth=4\u001b[0m\n",
      "\u001b[34m[58]#011train-rmse:0.928592#011validation-rmse:4.25429\u001b[0m\n",
      "\u001b[34m[23:36:46] src/tree/updater_prune.cc:74: tree pruning end, 1 roots, 6 extra nodes, 14 pruned nodes, max_depth=3\u001b[0m\n",
      "\u001b[34m[59]#011train-rmse:0.922079#011validation-rmse:4.24164\u001b[0m\n",
      "\u001b[34m[23:36:46] src/tree/updater_prune.cc:74: tree pruning end, 1 roots, 0 extra nodes, 14 pruned nodes, max_depth=0\u001b[0m\n",
      "\u001b[34m[60]#011train-rmse:0.922068#011validation-rmse:4.24152\u001b[0m\n",
      "\u001b[34m[23:36:46] src/tree/updater_prune.cc:74: tree pruning end, 1 roots, 10 extra nodes, 16 pruned nodes, max_depth=5\u001b[0m\n",
      "\u001b[34m[61]#011train-rmse:0.91041#011validation-rmse:4.24387\u001b[0m\n",
      "\u001b[34m[23:36:46] src/tree/updater_prune.cc:74: tree pruning end, 1 roots, 8 extra nodes, 28 pruned nodes, max_depth=3\u001b[0m\n",
      "\u001b[34m[62]#011train-rmse:0.901248#011validation-rmse:4.24354\u001b[0m\n",
      "\u001b[34m[23:36:46] src/tree/updater_prune.cc:74: tree pruning end, 1 roots, 0 extra nodes, 16 pruned nodes, max_depth=0\u001b[0m\n",
      "\u001b[34m[63]#011train-rmse:0.901272#011validation-rmse:4.24376\u001b[0m\n",
      "\u001b[34m[23:36:46] src/tree/updater_prune.cc:74: tree pruning end, 1 roots, 0 extra nodes, 16 pruned nodes, max_depth=0\u001b[0m\n",
      "\u001b[34m[64]#011train-rmse:0.901241#011validation-rmse:4.24348\u001b[0m\n",
      "\u001b[34m[23:36:46] src/tree/updater_prune.cc:74: tree pruning end, 1 roots, 0 extra nodes, 10 pruned nodes, max_depth=0\u001b[0m\n",
      "\u001b[34m[65]#011train-rmse:0.901231#011validation-rmse:4.24335\u001b[0m\n",
      "\u001b[34m[23:36:46] src/tree/updater_prune.cc:74: tree pruning end, 1 roots, 12 extra nodes, 16 pruned nodes, max_depth=4\u001b[0m\n",
      "\u001b[34m[66]#011train-rmse:0.886848#011validation-rmse:4.24277\u001b[0m\n",
      "\u001b[34m[23:36:46] src/tree/updater_prune.cc:74: tree pruning end, 1 roots, 10 extra nodes, 12 pruned nodes, max_depth=4\u001b[0m\n",
      "\u001b[34m[67]#011train-rmse:0.879555#011validation-rmse:4.24028\u001b[0m\n",
      "\u001b[34m[23:36:46] src/tree/updater_prune.cc:74: tree pruning end, 1 roots, 4 extra nodes, 10 pruned nodes, max_depth=2\u001b[0m\n",
      "\u001b[34m[68]#011train-rmse:0.87331#011validation-rmse:4.24378\u001b[0m\n",
      "\u001b[34m[23:36:46] src/tree/updater_prune.cc:74: tree pruning end, 1 roots, 6 extra nodes, 16 pruned nodes, max_depth=3\u001b[0m\n",
      "\u001b[34m[69]#011train-rmse:0.864369#011validation-rmse:4.24689\u001b[0m\n",
      "\u001b[34m[23:36:46] src/tree/updater_prune.cc:74: tree pruning end, 1 roots, 0 extra nodes, 22 pruned nodes, max_depth=0\u001b[0m\n",
      "\u001b[34m[70]#011train-rmse:0.864376#011validation-rmse:4.24704\u001b[0m\n",
      "\u001b[34m[23:36:46] src/tree/updater_prune.cc:74: tree pruning end, 1 roots, 0 extra nodes, 24 pruned nodes, max_depth=0\u001b[0m\n",
      "\u001b[34m[71]#011train-rmse:0.864389#011validation-rmse:4.24726\u001b[0m\n",
      "\u001b[34m[23:36:46] src/tree/updater_prune.cc:74: tree pruning end, 1 roots, 0 extra nodes, 14 pruned nodes, max_depth=0\u001b[0m\n",
      "\u001b[34m[72]#011train-rmse:0.864364#011validation-rmse:4.24663\u001b[0m\n",
      "\u001b[34m[23:36:46] src/tree/updater_prune.cc:74: tree pruning end, 1 roots, 10 extra nodes, 16 pruned nodes, max_depth=5\u001b[0m\n",
      "\u001b[34m[73]#011train-rmse:0.851467#011validation-rmse:4.25577\u001b[0m\n",
      "\u001b[34m[23:36:46] src/tree/updater_prune.cc:74: tree pruning end, 1 roots, 0 extra nodes, 10 pruned nodes, max_depth=0\u001b[0m\n",
      "\u001b[34m[74]#011train-rmse:0.851467#011validation-rmse:4.25591\u001b[0m\n",
      "\u001b[34m[23:36:46] src/tree/updater_prune.cc:74: tree pruning end, 1 roots, 2 extra nodes, 10 pruned nodes, max_depth=1\u001b[0m\n",
      "\u001b[34m[75]#011train-rmse:0.852425#011validation-rmse:4.25559\u001b[0m\n",
      "\u001b[34m[23:36:46] src/tree/updater_prune.cc:74: tree pruning end, 1 roots, 6 extra nodes, 14 pruned nodes, max_depth=3\u001b[0m\n",
      "\u001b[34m[76]#011train-rmse:0.844431#011validation-rmse:4.25893\u001b[0m\n",
      "\u001b[34m[23:36:46] src/tree/updater_prune.cc:74: tree pruning end, 1 roots, 0 extra nodes, 16 pruned nodes, max_depth=0\u001b[0m\n",
      "\u001b[34m[77]#011train-rmse:0.844421#011validation-rmse:4.25901\u001b[0m\n",
      "\u001b[34mStopping. Best iteration:\u001b[0m\n",
      "\u001b[34m[67]#011train-rmse:0.879555#011validation-rmse:4.24028\u001b[0m\n"
     ]
    },
    {
     "name": "stdout",
     "output_type": "stream",
     "text": [
      "Training seconds: 69\n",
      "Billable seconds: 69\n"
     ]
    }
   ],
   "source": [
    "# This is a wrapper around the location of our train and validation data, to make sure that SageMaker\n",
    "# knows our data is in csv format.\n",
    "s3_input_train = sagemaker.s3_input(s3_data=train_location, content_type='text/csv')\n",
    "s3_input_validation = sagemaker.s3_input(s3_data=val_location, content_type='text/csv')\n",
    "\n",
    "xgb.fit({'train': s3_input_train, 'validation': s3_input_validation})"
   ]
  },
  {
   "cell_type": "markdown",
   "metadata": {},
   "source": [
    "## Step 5: Test the trained model\n",
    "\n",
    "We will be skipping this step for now.\n",
    "\n",
    "\n",
    "## Step 6 (A): Deploy the trained model\n",
    "\n",
    "Even though we used the high level approach to construct and train the XGBoost model, we will be using the lower level approach to deploy it. One of the reasons for this is so that we have additional control over how the endpoint is constructed. This will be a little more clear later on when construct more advanced endpoints.\n",
    "\n",
    "### Build the model\n",
    "\n",
    "Of course, before we can deploy the model, we need to first create it. The `fit` method that we used earlier created some model artifacts and we can use these to construct a model object."
   ]
  },
  {
   "cell_type": "code",
   "execution_count": 12,
   "metadata": {},
   "outputs": [],
   "source": [
    "# Remember that a model needs to have a unique name\n",
    "xgb_model_name = \"boston-update-xgboost-model\" + strftime(\"%Y-%m-%d-%H-%M-%S\", gmtime())\n",
    "\n",
    "# We also need to tell SageMaker which container should be used for inference and where it should\n",
    "# retrieve the model artifacts from. In our case, the xgboost container that we used for training\n",
    "# can also be used for inference and the model artifacts come from the previous call to fit.\n",
    "xgb_primary_container = {\n",
    "    \"Image\": xgb_container,\n",
    "    \"ModelDataUrl\": xgb.model_data\n",
    "}\n",
    "\n",
    "# And lastly we construct the SageMaker model\n",
    "xgb_model_info = session.sagemaker_client.create_model(\n",
    "                                ModelName = xgb_model_name,\n",
    "                                ExecutionRoleArn = role,\n",
    "                                PrimaryContainer = xgb_primary_container)"
   ]
  },
  {
   "cell_type": "markdown",
   "metadata": {},
   "source": [
    "### Create the endpoint configuration\n",
    "\n",
    "Once we have a model we can start putting together the endpoint. Recall that to do this we need to first create an endpoint configuration, essentially the blueprint that SageMaker will use to build the endpoint itself."
   ]
  },
  {
   "cell_type": "code",
   "execution_count": 13,
   "metadata": {},
   "outputs": [],
   "source": [
    "# As before, we need to give our endpoint configuration a name which should be unique\n",
    "xgb_endpoint_config_name = \"boston-update-xgboost-endpoint-config-\" + strftime(\"%Y-%m-%d-%H-%M-%S\", gmtime())\n",
    "\n",
    "# And then we ask SageMaker to construct the endpoint configuration\n",
    "xgb_endpoint_config_info = session.sagemaker_client.create_endpoint_config(\n",
    "                            EndpointConfigName = xgb_endpoint_config_name,\n",
    "                            ProductionVariants = [{\n",
    "                                \"InstanceType\": \"ml.m4.xlarge\",\n",
    "                                \"InitialVariantWeight\": 1,\n",
    "                                \"InitialInstanceCount\": 1,\n",
    "                                \"ModelName\": xgb_model_name,\n",
    "                                \"VariantName\": \"XGB-Model\"\n",
    "                            }])"
   ]
  },
  {
   "cell_type": "markdown",
   "metadata": {},
   "source": [
    "### Deploy the endpoint\n",
    "\n",
    "Now that the endpoint configuration has been created, we can ask SageMaker to build our endpoint.\n",
    "\n",
    "**Note:** This is a friendly (repeated) reminder that you are about to deploy an endpoint. Make sure that you shut it down once you've finished with it!"
   ]
  },
  {
   "cell_type": "code",
   "execution_count": 14,
   "metadata": {},
   "outputs": [],
   "source": [
    "# Again, we need a unique name for our endpoint\n",
    "endpoint_name = \"boston-update-endpoint-\" + strftime(\"%Y-%m-%d-%H-%M-%S\", gmtime())\n",
    "\n",
    "# And then we can deploy our endpoint\n",
    "endpoint_info = session.sagemaker_client.create_endpoint(\n",
    "                    EndpointName = endpoint_name,\n",
    "                    EndpointConfigName = xgb_endpoint_config_name)"
   ]
  },
  {
   "cell_type": "code",
   "execution_count": 15,
   "metadata": {},
   "outputs": [
    {
     "name": "stdout",
     "output_type": "stream",
     "text": [
      "--------!"
     ]
    }
   ],
   "source": [
    "endpoint_dec = session.wait_for_endpoint(endpoint_name)"
   ]
  },
  {
   "cell_type": "markdown",
   "metadata": {},
   "source": [
    "## Step 7 (A): Use the model\n",
    "\n",
    "Now that our model is trained and deployed we can send some test data to it and evaluate the results."
   ]
  },
  {
   "cell_type": "code",
   "execution_count": 16,
   "metadata": {},
   "outputs": [],
   "source": [
    "response = session.sagemaker_runtime_client.invoke_endpoint(\n",
    "                                                EndpointName = endpoint_name,\n",
    "                                                ContentType = 'text/csv',\n",
    "                                                Body = ','.join(map(str, X_test.values[0])))"
   ]
  },
  {
   "cell_type": "code",
   "execution_count": 17,
   "metadata": {},
   "outputs": [
    {
     "name": "stdout",
     "output_type": "stream",
     "text": [
      "{'Body': <botocore.response.StreamingBody object at 0x7f5eeff4c6a0>,\n",
      " 'ContentType': 'text/csv; charset=utf-8',\n",
      " 'InvokedProductionVariant': 'XGB-Model',\n",
      " 'ResponseMetadata': {'HTTPHeaders': {'content-length': '16',\n",
      "                                      'content-type': 'text/csv; charset=utf-8',\n",
      "                                      'date': 'Mon, 07 Feb 2022 00:00:29 GMT',\n",
      "                                      'x-amzn-invoked-production-variant': 'XGB-Model',\n",
      "                                      'x-amzn-requestid': '7d959899-22ee-4127-90a0-56f7605965ba'},\n",
      "                      'HTTPStatusCode': 200,\n",
      "                      'RequestId': '7d959899-22ee-4127-90a0-56f7605965ba',\n",
      "                      'RetryAttempts': 0}}\n"
     ]
    }
   ],
   "source": [
    "pprint(response)"
   ]
  },
  {
   "cell_type": "code",
   "execution_count": 18,
   "metadata": {},
   "outputs": [],
   "source": [
    "result = response['Body'].read().decode(\"utf-8\")"
   ]
  },
  {
   "cell_type": "code",
   "execution_count": 19,
   "metadata": {},
   "outputs": [
    {
     "name": "stdout",
     "output_type": "stream",
     "text": [
      "'21.5830135345459'\n"
     ]
    }
   ],
   "source": [
    "pprint(result)"
   ]
  },
  {
   "cell_type": "code",
   "execution_count": 20,
   "metadata": {},
   "outputs": [
    {
     "data": {
      "text/plain": [
       "array([21.2])"
      ]
     },
     "execution_count": 20,
     "metadata": {},
     "output_type": "execute_result"
    }
   ],
   "source": [
    "Y_test.values[0]"
   ]
  },
  {
   "cell_type": "markdown",
   "metadata": {},
   "source": [
    "## Shut down the endpoint\n",
    "\n",
    "Now that we know that the XGBoost endpoint works, we can shut it down. We will make use of it again later."
   ]
  },
  {
   "cell_type": "code",
   "execution_count": 46,
   "metadata": {},
   "outputs": [
    {
     "data": {
      "text/plain": [
       "'boston-update-endpoint-2022-02-07-00-13-04'"
      ]
     },
     "execution_count": 46,
     "metadata": {},
     "output_type": "execute_result"
    }
   ],
   "source": [
    "endpoint_name"
   ]
  },
  {
   "cell_type": "code",
   "execution_count": null,
   "metadata": {},
   "outputs": [],
   "source": [
    "session.sagemaker_client.delete_endpoint(EndpointName = endpoint_name)"
   ]
  },
  {
   "cell_type": "markdown",
   "metadata": {},
   "source": [
    "## Step 4 (B): Train the Linear model\n",
    "\n",
    "Suppose we are working in an environment where the XGBoost model that we trained earlier is becoming too costly. Perhaps the number of calls to our endpoint has increased and the length of time it takes to perform inference with the XGBoost model is becoming problematic.\n",
    "\n",
    "A possible solution might be to train a simpler model to see if it performs nearly as well. In our case, we will construct a linear model. The process of doing this is the same as for creating the XGBoost model that we created earlier, although there are different hyperparameters that we need to set."
   ]
  },
  {
   "cell_type": "code",
   "execution_count": 21,
   "metadata": {},
   "outputs": [
    {
     "name": "stderr",
     "output_type": "stream",
     "text": [
      "'get_image_uri' method will be deprecated in favor of 'ImageURIProvider' class in SageMaker Python SDK v2.\n",
      "Parameter image_name will be renamed to image_uri in SageMaker Python SDK v2.\n"
     ]
    }
   ],
   "source": [
    "# Similar to the XGBoost model, we will use the utility method to construct the image name for the training container.\n",
    "linear_container = get_image_uri(session.boto_region_name, 'linear-learner')\n",
    "\n",
    "# Now that we know which container to use, we can construct the estimator object.\n",
    "linear = sagemaker.estimator.Estimator(linear_container, # The name of the training container\n",
    "                                        role,      # The IAM role to use (our current role in this case)\n",
    "                                        train_instance_count=1, # The number of instances to use for training\n",
    "                                        train_instance_type='ml.m4.xlarge', # The type of instance ot use for training\n",
    "                                        output_path='s3://{}/{}/output'.format(session.default_bucket(), prefix),\n",
    "                                                                            # Where to save the output (the model artifacts)\n",
    "                                        sagemaker_session=session) # The current SageMaker session"
   ]
  },
  {
   "cell_type": "markdown",
   "metadata": {},
   "source": [
    "Before asking SageMaker to train our model, we need to set some hyperparameters. In this case we will be using a linear model so the number of hyperparameters we need to set is much fewer. For more details see the [Linear model hyperparameter page](https://docs.aws.amazon.com/sagemaker/latest/dg/ll_hyperparameters.html)"
   ]
  },
  {
   "cell_type": "code",
   "execution_count": 22,
   "metadata": {},
   "outputs": [],
   "source": [
    "linear.set_hyperparameters(feature_dim=13, # Our data has 13 feature columns\n",
    "                           predictor_type='regressor', # We wish to create a regression model\n",
    "                           mini_batch_size=200) # Here we set how many samples to look at in each iteration"
   ]
  },
  {
   "cell_type": "markdown",
   "metadata": {},
   "source": [
    "Now that the hyperparameters have been set, we can ask SageMaker to fit the linear model to our data."
   ]
  },
  {
   "cell_type": "code",
   "execution_count": 23,
   "metadata": {},
   "outputs": [
    {
     "name": "stdout",
     "output_type": "stream",
     "text": [
      "2022-02-07 00:00:51 Starting - Starting the training job...\n",
      "2022-02-07 00:00:54 Starting - Launching requested ML instances......\n",
      "2022-02-07 00:02:09 Starting - Preparing the instances for training............\n",
      "2022-02-07 00:04:00 Downloading - Downloading input data.........\n",
      "2022-02-07 00:05:31 Training - Downloading the training image..\u001b[34mDocker entrypoint called with argument(s): train\u001b[0m\n",
      "\u001b[34mRunning default environment configuration script\u001b[0m\n",
      "\u001b[34m[02/07/2022 00:06:05 INFO 139888956827456] Reading default configuration from /opt/amazon/lib/python3.7/site-packages/algorithm/resources/default-input.json: {'mini_batch_size': '1000', 'epochs': '15', 'feature_dim': 'auto', 'use_bias': 'true', 'binary_classifier_model_selection_criteria': 'accuracy', 'f_beta': '1.0', 'target_recall': '0.8', 'target_precision': '0.8', 'num_models': 'auto', 'num_calibration_samples': '10000000', 'init_method': 'uniform', 'init_scale': '0.07', 'init_sigma': '0.01', 'init_bias': '0.0', 'optimizer': 'auto', 'loss': 'auto', 'margin': '1.0', 'quantile': '0.5', 'loss_insensitivity': '0.01', 'huber_delta': '1.0', 'num_classes': '1', 'accuracy_top_k': '3', 'wd': 'auto', 'l1': 'auto', 'momentum': 'auto', 'learning_rate': 'auto', 'beta_1': 'auto', 'beta_2': 'auto', 'bias_lr_mult': 'auto', 'bias_wd_mult': 'auto', 'use_lr_scheduler': 'true', 'lr_scheduler_step': 'auto', 'lr_scheduler_factor': 'auto', 'lr_scheduler_minimum_lr': 'auto', 'positive_example_weight_mult': '1.0', 'balance_multiclass_weights': 'false', 'normalize_data': 'true', 'normalize_label': 'auto', 'unbias_data': 'auto', 'unbias_label': 'auto', 'num_point_for_scaler': '10000', '_kvstore': 'auto', '_num_gpus': 'auto', '_num_kv_servers': 'auto', '_log_level': 'info', '_tuning_objective_metric': '', 'early_stopping_patience': '3', 'early_stopping_tolerance': '0.001', '_enable_profiler': 'false'}\u001b[0m\n",
      "\u001b[34m[02/07/2022 00:06:05 INFO 139888956827456] Merging with provided configuration from /opt/ml/input/config/hyperparameters.json: {'feature_dim': '13', 'predictor_type': 'regressor', 'mini_batch_size': '200'}\u001b[0m\n",
      "\u001b[34m[02/07/2022 00:06:05 INFO 139888956827456] Final configuration: {'mini_batch_size': '200', 'epochs': '15', 'feature_dim': '13', 'use_bias': 'true', 'binary_classifier_model_selection_criteria': 'accuracy', 'f_beta': '1.0', 'target_recall': '0.8', 'target_precision': '0.8', 'num_models': 'auto', 'num_calibration_samples': '10000000', 'init_method': 'uniform', 'init_scale': '0.07', 'init_sigma': '0.01', 'init_bias': '0.0', 'optimizer': 'auto', 'loss': 'auto', 'margin': '1.0', 'quantile': '0.5', 'loss_insensitivity': '0.01', 'huber_delta': '1.0', 'num_classes': '1', 'accuracy_top_k': '3', 'wd': 'auto', 'l1': 'auto', 'momentum': 'auto', 'learning_rate': 'auto', 'beta_1': 'auto', 'beta_2': 'auto', 'bias_lr_mult': 'auto', 'bias_wd_mult': 'auto', 'use_lr_scheduler': 'true', 'lr_scheduler_step': 'auto', 'lr_scheduler_factor': 'auto', 'lr_scheduler_minimum_lr': 'auto', 'positive_example_weight_mult': '1.0', 'balance_multiclass_weights': 'false', 'normalize_data': 'true', 'normalize_label': 'auto', 'unbias_data': 'auto', 'unbias_label': 'auto', 'num_point_for_scaler': '10000', '_kvstore': 'auto', '_num_gpus': 'auto', '_num_kv_servers': 'auto', '_log_level': 'info', '_tuning_objective_metric': '', 'early_stopping_patience': '3', 'early_stopping_tolerance': '0.001', '_enable_profiler': 'false', 'predictor_type': 'regressor'}\u001b[0m\n",
      "\u001b[34m[02/07/2022 00:06:05 WARNING 139888956827456] Loggers have already been setup.\u001b[0m\n",
      "\u001b[34mProcess 1 is a worker.\u001b[0m\n",
      "\u001b[34m[02/07/2022 00:06:05 INFO 139888956827456] Using default worker.\u001b[0m\n",
      "\u001b[34m[02/07/2022 00:06:05 INFO 139888956827456] Checkpoint loading and saving are disabled.\u001b[0m\n",
      "\u001b[34m[02/07/2022 00:06:05 INFO 139888956827456] Create Store: local\u001b[0m\n",
      "\u001b[34m[02/07/2022 00:06:05 INFO 139888956827456] Scaler algorithm parameters\n",
      " <algorithm.scaler.ScalerAlgorithmStable object at 0x7f3a199dae90>\u001b[0m\n",
      "\u001b[34m[02/07/2022 00:06:05 INFO 139888956827456] Scaling model computed with parameters:\n",
      " {'stdev_label': \u001b[0m\n",
      "\u001b[34m[9.376631]\u001b[0m\n",
      "\u001b[34m<NDArray 1 @cpu(0)>, 'stdev_weight': \u001b[0m\n",
      "\u001b[34m[5.4292636e+00 2.1336817e+01 6.8207626e+00 2.6339135e-01 1.1414287e-01\n",
      " 7.2747391e-01 2.7415989e+01 2.1937411e+00 8.6802635e+00 1.6753386e+02\n",
      " 2.1504791e+00 8.0177094e+01 7.1038141e+00]\u001b[0m\n",
      "\u001b[34m<NDArray 13 @cpu(0)>, 'mean_label': \u001b[0m\n",
      "\u001b[34m[22.6935]\u001b[0m\n",
      "\u001b[34m<NDArray 1 @cpu(0)>, 'mean_weight': \u001b[0m\n",
      "\u001b[34m[2.9113274e+00 9.8024998e+00 1.1071950e+01 7.4999996e-02 5.5927950e-01\n",
      " 6.2729602e+00 6.9834999e+01 3.7706380e+00 9.5550003e+00 4.0516000e+02\n",
      " 1.8429001e+01 3.6376920e+02 1.2673900e+01]\u001b[0m\n",
      "\u001b[34m<NDArray 13 @cpu(0)>}\u001b[0m\n",
      "\u001b[34m[02/07/2022 00:06:05 INFO 139888956827456] nvidia-smi: took 0.032 seconds to run.\u001b[0m\n",
      "\u001b[34m[02/07/2022 00:06:05 INFO 139888956827456] nvidia-smi identified 0 GPUs.\u001b[0m\n",
      "\u001b[34m[02/07/2022 00:06:05 INFO 139888956827456] Number of GPUs being used: 0\u001b[0m\n",
      "\u001b[34m#metrics {\"StartTime\": 1644192365.4446943, \"EndTime\": 1644192365.4447365, \"Dimensions\": {\"Algorithm\": \"Linear Learner\", \"Host\": \"algo-1\", \"Operation\": \"training\", \"Meta\": \"init_train_data_iter\"}, \"Metrics\": {\"Total Records Seen\": {\"sum\": 427.0, \"count\": 1, \"min\": 427, \"max\": 427}, \"Total Batches Seen\": {\"sum\": 3.0, \"count\": 1, \"min\": 3, \"max\": 3}, \"Max Records Seen Between Resets\": {\"sum\": 227.0, \"count\": 1, \"min\": 227, \"max\": 227}, \"Max Batches Seen Between Resets\": {\"sum\": 2.0, \"count\": 1, \"min\": 2, \"max\": 2}, \"Reset Count\": {\"sum\": 2.0, \"count\": 1, \"min\": 2, \"max\": 2}, \"Number of Records Since Last Reset\": {\"sum\": 0.0, \"count\": 1, \"min\": 0, \"max\": 0}, \"Number of Batches Since Last Reset\": {\"sum\": 0.0, \"count\": 1, \"min\": 0, \"max\": 0}}}\u001b[0m\n",
      "\u001b[34m#metrics {\"StartTime\": 1644192365.5013092, \"EndTime\": 1644192365.5013683, \"Dimensions\": {\"Algorithm\": \"Linear Learner\", \"Host\": \"algo-1\", \"Operation\": \"training\", \"epoch\": 0, \"model\": 0}, \"Metrics\": {\"train_mse_objective\": {\"sum\": 0.9793856811523437, \"count\": 1, \"min\": 0.9793856811523437, \"max\": 0.9793856811523437}}}\u001b[0m\n",
      "\u001b[34m#metrics {\"StartTime\": 1644192365.501444, \"EndTime\": 1644192365.501458, \"Dimensions\": {\"Algorithm\": \"Linear Learner\", \"Host\": \"algo-1\", \"Operation\": \"training\", \"epoch\": 0, \"model\": 1}, \"Metrics\": {\"train_mse_objective\": {\"sum\": 0.8851230621337891, \"count\": 1, \"min\": 0.8851230621337891, \"max\": 0.8851230621337891}}}\u001b[0m\n",
      "\u001b[34m#metrics {\"StartTime\": 1644192365.5015042, \"EndTime\": 1644192365.5015197, \"Dimensions\": {\"Algorithm\": \"Linear Learner\", \"Host\": \"algo-1\", \"Operation\": \"training\", \"epoch\": 0, \"model\": 2}, \"Metrics\": {\"train_mse_objective\": {\"sum\": 1.3294503784179688, \"count\": 1, \"min\": 1.3294503784179688, \"max\": 1.3294503784179688}}}\u001b[0m\n",
      "\u001b[34m#metrics {\"StartTime\": 1644192365.5015798, \"EndTime\": 1644192365.5015957, \"Dimensions\": {\"Algorithm\": \"Linear Learner\", \"Host\": \"algo-1\", \"Operation\": \"training\", \"epoch\": 0, \"model\": 3}, \"Metrics\": {\"train_mse_objective\": {\"sum\": 0.8938090515136718, \"count\": 1, \"min\": 0.8938090515136718, \"max\": 0.8938090515136718}}}\u001b[0m\n",
      "\u001b[34m#metrics {\"StartTime\": 1644192365.5016575, \"EndTime\": 1644192365.5016754, \"Dimensions\": {\"Algorithm\": \"Linear Learner\", \"Host\": \"algo-1\", \"Operation\": \"training\", \"epoch\": 0, \"model\": 4}, \"Metrics\": {\"train_mse_objective\": {\"sum\": 0.8832135772705079, \"count\": 1, \"min\": 0.8832135772705079, \"max\": 0.8832135772705079}}}\u001b[0m\n",
      "\u001b[34m#metrics {\"StartTime\": 1644192365.5017297, \"EndTime\": 1644192365.5017462, \"Dimensions\": {\"Algorithm\": \"Linear Learner\", \"Host\": \"algo-1\", \"Operation\": \"training\", \"epoch\": 0, \"model\": 5}, \"Metrics\": {\"train_mse_objective\": {\"sum\": 1.0271665954589844, \"count\": 1, \"min\": 1.0271665954589844, \"max\": 1.0271665954589844}}}\u001b[0m\n",
      "\u001b[34m#metrics {\"StartTime\": 1644192365.5018132, \"EndTime\": 1644192365.5018308, \"Dimensions\": {\"Algorithm\": \"Linear Learner\", \"Host\": \"algo-1\", \"Operation\": \"training\", \"epoch\": 0, \"model\": 6}, \"Metrics\": {\"train_mse_objective\": {\"sum\": 1.1540252685546875, \"count\": 1, \"min\": 1.1540252685546875, \"max\": 1.1540252685546875}}}\u001b[0m\n",
      "\u001b[34m#metrics {\"StartTime\": 1644192365.501886, \"EndTime\": 1644192365.5019023, \"Dimensions\": {\"Algorithm\": \"Linear Learner\", \"Host\": \"algo-1\", \"Operation\": \"training\", \"epoch\": 0, \"model\": 7}, \"Metrics\": {\"train_mse_objective\": {\"sum\": 1.113350601196289, \"count\": 1, \"min\": 1.113350601196289, \"max\": 1.113350601196289}}}\u001b[0m\n",
      "\u001b[34m#metrics {\"StartTime\": 1644192365.5019543, \"EndTime\": 1644192365.5019698, \"Dimensions\": {\"Algorithm\": \"Linear Learner\", \"Host\": \"algo-1\", \"Operation\": \"training\", \"epoch\": 0, \"model\": 8}, \"Metrics\": {\"train_mse_objective\": {\"sum\": 0.9524244689941406, \"count\": 1, \"min\": 0.9524244689941406, \"max\": 0.9524244689941406}}}\u001b[0m\n",
      "\u001b[34m#metrics {\"StartTime\": 1644192365.5020254, \"EndTime\": 1644192365.502042, \"Dimensions\": {\"Algorithm\": \"Linear Learner\", \"Host\": \"algo-1\", \"Operation\": \"training\", \"epoch\": 0, \"model\": 9}, \"Metrics\": {\"train_mse_objective\": {\"sum\": 1.39522216796875, \"count\": 1, \"min\": 1.39522216796875, \"max\": 1.39522216796875}}}\u001b[0m\n",
      "\u001b[34m#metrics {\"StartTime\": 1644192365.5021048, \"EndTime\": 1644192365.502123, \"Dimensions\": {\"Algorithm\": \"Linear Learner\", \"Host\": \"algo-1\", \"Operation\": \"training\", \"epoch\": 0, \"model\": 10}, \"Metrics\": {\"train_mse_objective\": {\"sum\": 0.8918255615234375, \"count\": 1, \"min\": 0.8918255615234375, \"max\": 0.8918255615234375}}}\u001b[0m\n",
      "\u001b[34m#metrics {\"StartTime\": 1644192365.5021772, \"EndTime\": 1644192365.502194, \"Dimensions\": {\"Algorithm\": \"Linear Learner\", \"Host\": \"algo-1\", \"Operation\": \"training\", \"epoch\": 0, \"model\": 11}, \"Metrics\": {\"train_mse_objective\": {\"sum\": 1.1190122985839843, \"count\": 1, \"min\": 1.1190122985839843, \"max\": 1.1190122985839843}}}\u001b[0m\n",
      "\u001b[34m#metrics {\"StartTime\": 1644192365.5022473, \"EndTime\": 1644192365.5022633, \"Dimensions\": {\"Algorithm\": \"Linear Learner\", \"Host\": \"algo-1\", \"Operation\": \"training\", \"epoch\": 0, \"model\": 12}, \"Metrics\": {\"train_mse_objective\": {\"sum\": 1.0397816467285157, \"count\": 1, \"min\": 1.0397816467285157, \"max\": 1.0397816467285157}}}\u001b[0m\n",
      "\u001b[34m#metrics {\"StartTime\": 1644192365.5023222, \"EndTime\": 1644192365.502335, \"Dimensions\": {\"Algorithm\": \"Linear Learner\", \"Host\": \"algo-1\", \"Operation\": \"training\", \"epoch\": 0, \"model\": 13}, \"Metrics\": {\"train_mse_objective\": {\"sum\": 1.0464596557617187, \"count\": 1, \"min\": 1.0464596557617187, \"max\": 1.0464596557617187}}}\u001b[0m\n",
      "\u001b[34m#metrics {\"StartTime\": 1644192365.5023646, \"EndTime\": 1644192365.5023723, \"Dimensions\": {\"Algorithm\": \"Linear Learner\", \"Host\": \"algo-1\", \"Operation\": \"training\", \"epoch\": 0, \"model\": 14}, \"Metrics\": {\"train_mse_objective\": {\"sum\": 0.8952642059326172, \"count\": 1, \"min\": 0.8952642059326172, \"max\": 0.8952642059326172}}}\u001b[0m\n",
      "\u001b[34m#metrics {\"StartTime\": 1644192365.5024157, \"EndTime\": 1644192365.5024307, \"Dimensions\": {\"Algorithm\": \"Linear Learner\", \"Host\": \"algo-1\", \"Operation\": \"training\", \"epoch\": 0, \"model\": 15}, \"Metrics\": {\"train_mse_objective\": {\"sum\": 1.0320618438720703, \"count\": 1, \"min\": 1.0320618438720703, \"max\": 1.0320618438720703}}}\u001b[0m\n",
      "\u001b[34m#metrics {\"StartTime\": 1644192365.5024707, \"EndTime\": 1644192365.5024812, \"Dimensions\": {\"Algorithm\": \"Linear Learner\", \"Host\": \"algo-1\", \"Operation\": \"training\", \"epoch\": 0, \"model\": 16}, \"Metrics\": {\"train_mse_objective\": {\"sum\": 1.0249274444580079, \"count\": 1, \"min\": 1.0249274444580079, \"max\": 1.0249274444580079}}}\u001b[0m\n",
      "\u001b[34m#metrics {\"StartTime\": 1644192365.5025296, \"EndTime\": 1644192365.5025444, \"Dimensions\": {\"Algorithm\": \"Linear Learner\", \"Host\": \"algo-1\", \"Operation\": \"training\", \"epoch\": 0, \"model\": 17}, \"Metrics\": {\"train_mse_objective\": {\"sum\": 0.8818160247802734, \"count\": 1, \"min\": 0.8818160247802734, \"max\": 0.8818160247802734}}}\u001b[0m\n",
      "\u001b[34m#metrics {\"StartTime\": 1644192365.5025954, \"EndTime\": 1644192365.5026114, \"Dimensions\": {\"Algorithm\": \"Linear Learner\", \"Host\": \"algo-1\", \"Operation\": \"training\", \"epoch\": 0, \"model\": 18}, \"Metrics\": {\"train_mse_objective\": {\"sum\": 1.2199585723876953, \"count\": 1, \"min\": 1.2199585723876953, \"max\": 1.2199585723876953}}}\u001b[0m\n",
      "\u001b[34m#metrics {\"StartTime\": 1644192365.502664, \"EndTime\": 1644192365.50268, \"Dimensions\": {\"Algorithm\": \"Linear Learner\", \"Host\": \"algo-1\", \"Operation\": \"training\", \"epoch\": 0, \"model\": 19}, \"Metrics\": {\"train_mse_objective\": {\"sum\": 1.0424874877929688, \"count\": 1, \"min\": 1.0424874877929688, \"max\": 1.0424874877929688}}}\u001b[0m\n",
      "\u001b[34m#metrics {\"StartTime\": 1644192365.5027294, \"EndTime\": 1644192365.502745, \"Dimensions\": {\"Algorithm\": \"Linear Learner\", \"Host\": \"algo-1\", \"Operation\": \"training\", \"epoch\": 0, \"model\": 20}, \"Metrics\": {\"train_mse_objective\": {\"sum\": 0.813667984008789, \"count\": 1, \"min\": 0.813667984008789, \"max\": 0.813667984008789}}}\u001b[0m\n",
      "\u001b[34m#metrics {\"StartTime\": 1644192365.5027976, \"EndTime\": 1644192365.502813, \"Dimensions\": {\"Algorithm\": \"Linear Learner\", \"Host\": \"algo-1\", \"Operation\": \"training\", \"epoch\": 0, \"model\": 21}, \"Metrics\": {\"train_mse_objective\": {\"sum\": 1.1419694519042969, \"count\": 1, \"min\": 1.1419694519042969, \"max\": 1.1419694519042969}}}\u001b[0m\n",
      "\u001b[34m#metrics {\"StartTime\": 1644192365.502866, \"EndTime\": 1644192365.5028813, \"Dimensions\": {\"Algorithm\": \"Linear Learner\", \"Host\": \"algo-1\", \"Operation\": \"training\", \"epoch\": 0, \"model\": 22}, \"Metrics\": {\"train_mse_objective\": {\"sum\": 0.7827291107177734, \"count\": 1, \"min\": 0.7827291107177734, \"max\": 0.7827291107177734}}}\u001b[0m\n",
      "\u001b[34m#metrics {\"StartTime\": 1644192365.5029333, \"EndTime\": 1644192365.5029502, \"Dimensions\": {\"Algorithm\": \"Linear Learner\", \"Host\": \"algo-1\", \"Operation\": \"training\", \"epoch\": 0, \"model\": 23}, \"Metrics\": {\"train_mse_objective\": {\"sum\": 0.8585139465332031, \"count\": 1, \"min\": 0.8585139465332031, \"max\": 0.8585139465332031}}}\u001b[0m\n",
      "\u001b[34m#metrics {\"StartTime\": 1644192365.5030067, \"EndTime\": 1644192365.5030525, \"Dimensions\": {\"Algorithm\": \"Linear Learner\", \"Host\": \"algo-1\", \"Operation\": \"training\", \"epoch\": 0, \"model\": 24}, \"Metrics\": {\"train_mse_objective\": {\"sum\": 0.9622310638427735, \"count\": 1, \"min\": 0.9622310638427735, \"max\": 0.9622310638427735}}}\u001b[0m\n",
      "\u001b[34m#metrics {\"StartTime\": 1644192365.5031083, \"EndTime\": 1644192365.5031238, \"Dimensions\": {\"Algorithm\": \"Linear Learner\", \"Host\": \"algo-1\", \"Operation\": \"training\", \"epoch\": 0, \"model\": 25}, \"Metrics\": {\"train_mse_objective\": {\"sum\": 0.9694758605957031, \"count\": 1, \"min\": 0.9694758605957031, \"max\": 0.9694758605957031}}}\u001b[0m\n",
      "\u001b[34m#metrics {\"StartTime\": 1644192365.5031571, \"EndTime\": 1644192365.5031655, \"Dimensions\": {\"Algorithm\": \"Linear Learner\", \"Host\": \"algo-1\", \"Operation\": \"training\", \"epoch\": 0, \"model\": 26}, \"Metrics\": {\"train_mse_objective\": {\"sum\": 1.2380226135253907, \"count\": 1, \"min\": 1.2380226135253907, \"max\": 1.2380226135253907}}}\u001b[0m\n",
      "\u001b[34m#metrics {\"StartTime\": 1644192365.5031931, \"EndTime\": 1644192365.503207, \"Dimensions\": {\"Algorithm\": \"Linear Learner\", \"Host\": \"algo-1\", \"Operation\": \"training\", \"epoch\": 0, \"model\": 27}, \"Metrics\": {\"train_mse_objective\": {\"sum\": 1.1213540649414062, \"count\": 1, \"min\": 1.1213540649414062, \"max\": 1.1213540649414062}}}\u001b[0m\n",
      "\u001b[34m#metrics {\"StartTime\": 1644192365.503269, \"EndTime\": 1644192365.5032854, \"Dimensions\": {\"Algorithm\": \"Linear Learner\", \"Host\": \"algo-1\", \"Operation\": \"training\", \"epoch\": 0, \"model\": 28}, \"Metrics\": {\"train_mse_objective\": {\"sum\": 1.038152313232422, \"count\": 1, \"min\": 1.038152313232422, \"max\": 1.038152313232422}}}\u001b[0m\n",
      "\u001b[34m#metrics {\"StartTime\": 1644192365.5033412, \"EndTime\": 1644192365.5033572, \"Dimensions\": {\"Algorithm\": \"Linear Learner\", \"Host\": \"algo-1\", \"Operation\": \"training\", \"epoch\": 0, \"model\": 29}, \"Metrics\": {\"train_mse_objective\": {\"sum\": 0.9594416809082031, \"count\": 1, \"min\": 0.9594416809082031, \"max\": 0.9594416809082031}}}\u001b[0m\n",
      "\u001b[34m#metrics {\"StartTime\": 1644192365.5034256, \"EndTime\": 1644192365.5034425, \"Dimensions\": {\"Algorithm\": \"Linear Learner\", \"Host\": \"algo-1\", \"Operation\": \"training\", \"epoch\": 0, \"model\": 30}, \"Metrics\": {\"train_mse_objective\": {\"sum\": 1.1571019744873048, \"count\": 1, \"min\": 1.1571019744873048, \"max\": 1.1571019744873048}}}\u001b[0m\n",
      "\u001b[34m#metrics {\"StartTime\": 1644192365.5034993, \"EndTime\": 1644192365.5035155, \"Dimensions\": {\"Algorithm\": \"Linear Learner\", \"Host\": \"algo-1\", \"Operation\": \"training\", \"epoch\": 0, \"model\": 31}, \"Metrics\": {\"train_mse_objective\": {\"sum\": 1.1373506164550782, \"count\": 1, \"min\": 1.1373506164550782, \"max\": 1.1373506164550782}}}\u001b[0m\n",
      "\u001b[34m[02/07/2022 00:06:05 INFO 139888956827456] #quality_metric: host=algo-1, epoch=0, train mse_objective <loss>=0.9793856811523437\u001b[0m\n",
      "\u001b[34m#metrics {\"StartTime\": 1644192365.5654898, \"EndTime\": 1644192365.565561, \"Dimensions\": {\"Algorithm\": \"Linear Learner\", \"Host\": \"algo-1\", \"Operation\": \"training\", \"epoch\": 0, \"model\": 0}, \"Metrics\": {\"validation_mse_objective\": {\"sum\": 98.47936139787946, \"count\": 1, \"min\": 98.47936139787946, \"max\": 98.47936139787946}}}\u001b[0m\n",
      "\u001b[34m#metrics {\"StartTime\": 1644192365.5656533, \"EndTime\": 1644192365.5656693, \"Dimensions\": {\"Algorithm\": \"Linear Learner\", \"Host\": \"algo-1\", \"Operation\": \"training\", \"epoch\": 0, \"model\": 1}, \"Metrics\": {\"validation_mse_objective\": {\"sum\": 93.55248151506696, \"count\": 1, \"min\": 93.55248151506696, \"max\": 93.55248151506696}}}\u001b[0m\n",
      "\u001b[34m#metrics {\"StartTime\": 1644192365.565721, \"EndTime\": 1644192365.5657365, \"Dimensions\": {\"Algorithm\": \"Linear Learner\", \"Host\": \"algo-1\", \"Operation\": \"training\", \"epoch\": 0, \"model\": 2}, \"Metrics\": {\"validation_mse_objective\": {\"sum\": 141.69544328962053, \"count\": 1, \"min\": 141.69544328962053, \"max\": 141.69544328962053}}}\u001b[0m\n",
      "\u001b[34m#metrics {\"StartTime\": 1644192365.5658011, \"EndTime\": 1644192365.5658174, \"Dimensions\": {\"Algorithm\": \"Linear Learner\", \"Host\": \"algo-1\", \"Operation\": \"training\", \"epoch\": 0, \"model\": 3}, \"Metrics\": {\"validation_mse_objective\": {\"sum\": 85.318115234375, \"count\": 1, \"min\": 85.318115234375, \"max\": 85.318115234375}}}\u001b[0m\n",
      "\u001b[34m#metrics {\"StartTime\": 1644192365.5658708, \"EndTime\": 1644192365.5658872, \"Dimensions\": {\"Algorithm\": \"Linear Learner\", \"Host\": \"algo-1\", \"Operation\": \"training\", \"epoch\": 0, \"model\": 4}, \"Metrics\": {\"validation_mse_objective\": {\"sum\": 95.10444859095982, \"count\": 1, \"min\": 95.10444859095982, \"max\": 95.10444859095982}}}\u001b[0m\n",
      "\u001b[34m#metrics {\"StartTime\": 1644192365.5659413, \"EndTime\": 1644192365.565957, \"Dimensions\": {\"Algorithm\": \"Linear Learner\", \"Host\": \"algo-1\", \"Operation\": \"training\", \"epoch\": 0, \"model\": 5}, \"Metrics\": {\"validation_mse_objective\": {\"sum\": 66.78769356863839, \"count\": 1, \"min\": 66.78769356863839, \"max\": 66.78769356863839}}}\u001b[0m\n",
      "\u001b[34m#metrics {\"StartTime\": 1644192365.5660243, \"EndTime\": 1644192365.5660412, \"Dimensions\": {\"Algorithm\": \"Linear Learner\", \"Host\": \"algo-1\", \"Operation\": \"training\", \"epoch\": 0, \"model\": 6}, \"Metrics\": {\"validation_mse_objective\": {\"sum\": 86.93892124720982, \"count\": 1, \"min\": 86.93892124720982, \"max\": 86.93892124720982}}}\u001b[0m\n",
      "\u001b[34m#metrics {\"StartTime\": 1644192365.5660942, \"EndTime\": 1644192365.56611, \"Dimensions\": {\"Algorithm\": \"Linear Learner\", \"Host\": \"algo-1\", \"Operation\": \"training\", \"epoch\": 0, \"model\": 7}, \"Metrics\": {\"validation_mse_objective\": {\"sum\": 76.03519112723214, \"count\": 1, \"min\": 76.03519112723214, \"max\": 76.03519112723214}}}\u001b[0m\n",
      "\u001b[34m#metrics {\"StartTime\": 1644192365.5661683, \"EndTime\": 1644192365.5661845, \"Dimensions\": {\"Algorithm\": \"Linear Learner\", \"Host\": \"algo-1\", \"Operation\": \"training\", \"epoch\": 0, \"model\": 8}, \"Metrics\": {\"validation_mse_objective\": {\"sum\": 97.2132568359375, \"count\": 1, \"min\": 97.2132568359375, \"max\": 97.2132568359375}}}\u001b[0m\n",
      "\u001b[34m#metrics {\"StartTime\": 1644192365.566289, \"EndTime\": 1644192365.5663114, \"Dimensions\": {\"Algorithm\": \"Linear Learner\", \"Host\": \"algo-1\", \"Operation\": \"training\", \"epoch\": 0, \"model\": 9}, \"Metrics\": {\"validation_mse_objective\": {\"sum\": 153.39345005580358, \"count\": 1, \"min\": 153.39345005580358, \"max\": 153.39345005580358}}}\u001b[0m\n",
      "\u001b[34m#metrics {\"StartTime\": 1644192365.5663772, \"EndTime\": 1644192365.5663872, \"Dimensions\": {\"Algorithm\": \"Linear Learner\", \"Host\": \"algo-1\", \"Operation\": \"training\", \"epoch\": 0, \"model\": 10}, \"Metrics\": {\"validation_mse_objective\": {\"sum\": 88.85688127790179, \"count\": 1, \"min\": 88.85688127790179, \"max\": 88.85688127790179}}}\u001b[0m\n",
      "\u001b[34m#metrics {\"StartTime\": 1644192365.5664318, \"EndTime\": 1644192365.5664468, \"Dimensions\": {\"Algorithm\": \"Linear Learner\", \"Host\": \"algo-1\", \"Operation\": \"training\", \"epoch\": 0, \"model\": 11}, \"Metrics\": {\"validation_mse_objective\": {\"sum\": 125.61586216517857, \"count\": 1, \"min\": 125.61586216517857, \"max\": 125.61586216517857}}}\u001b[0m\n",
      "\u001b[34m#metrics {\"StartTime\": 1644192365.5665016, \"EndTime\": 1644192365.5665188, \"Dimensions\": {\"Algorithm\": \"Linear Learner\", \"Host\": \"algo-1\", \"Operation\": \"training\", \"epoch\": 0, \"model\": 12}, \"Metrics\": {\"validation_mse_objective\": {\"sum\": 78.96360560825893, \"count\": 1, \"min\": 78.96360560825893, \"max\": 78.96360560825893}}}\u001b[0m\n",
      "\u001b[34m#metrics {\"StartTime\": 1644192365.5665712, \"EndTime\": 1644192365.5665877, \"Dimensions\": {\"Algorithm\": \"Linear Learner\", \"Host\": \"algo-1\", \"Operation\": \"training\", \"epoch\": 0, \"model\": 13}, \"Metrics\": {\"validation_mse_objective\": {\"sum\": 88.74537876674107, \"count\": 1, \"min\": 88.74537876674107, \"max\": 88.74537876674107}}}\u001b[0m\n",
      "\u001b[34m#metrics {\"StartTime\": 1644192365.5666313, \"EndTime\": 1644192365.566646, \"Dimensions\": {\"Algorithm\": \"Linear Learner\", \"Host\": \"algo-1\", \"Operation\": \"training\", \"epoch\": 0, \"model\": 14}, \"Metrics\": {\"validation_mse_objective\": {\"sum\": 103.46468680245536, \"count\": 1, \"min\": 103.46468680245536, \"max\": 103.46468680245536}}}\u001b[0m\n",
      "\u001b[34m#metrics {\"StartTime\": 1644192365.5666897, \"EndTime\": 1644192365.5667043, \"Dimensions\": {\"Algorithm\": \"Linear Learner\", \"Host\": \"algo-1\", \"Operation\": \"training\", \"epoch\": 0, \"model\": 15}, \"Metrics\": {\"validation_mse_objective\": {\"sum\": 66.25725882393974, \"count\": 1, \"min\": 66.25725882393974, \"max\": 66.25725882393974}}}\u001b[0m\n",
      "\u001b[34m#metrics {\"StartTime\": 1644192365.5667653, \"EndTime\": 1644192365.5667763, \"Dimensions\": {\"Algorithm\": \"Linear Learner\", \"Host\": \"algo-1\", \"Operation\": \"training\", \"epoch\": 0, \"model\": 16}, \"Metrics\": {\"validation_mse_objective\": {\"sum\": 107.81425258091518, \"count\": 1, \"min\": 107.81425258091518, \"max\": 107.81425258091518}}}\u001b[0m\n",
      "\u001b[34m#metrics {\"StartTime\": 1644192365.5668232, \"EndTime\": 1644192365.5668387, \"Dimensions\": {\"Algorithm\": \"Linear Learner\", \"Host\": \"algo-1\", \"Operation\": \"training\", \"epoch\": 0, \"model\": 17}, \"Metrics\": {\"validation_mse_objective\": {\"sum\": 98.88380650111607, \"count\": 1, \"min\": 98.88380650111607, \"max\": 98.88380650111607}}}\u001b[0m\n",
      "\u001b[34m#metrics {\"StartTime\": 1644192365.5668879, \"EndTime\": 1644192365.566903, \"Dimensions\": {\"Algorithm\": \"Linear Learner\", \"Host\": \"algo-1\", \"Operation\": \"training\", \"epoch\": 0, \"model\": 18}, \"Metrics\": {\"validation_mse_objective\": {\"sum\": 128.3078874860491, \"count\": 1, \"min\": 128.3078874860491, \"max\": 128.3078874860491}}}\u001b[0m\n",
      "\u001b[34m#metrics {\"StartTime\": 1644192365.5670397, \"EndTime\": 1644192365.56706, \"Dimensions\": {\"Algorithm\": \"Linear Learner\", \"Host\": \"algo-1\", \"Operation\": \"training\", \"epoch\": 0, \"model\": 19}, \"Metrics\": {\"validation_mse_objective\": {\"sum\": 105.26163155691964, \"count\": 1, \"min\": 105.26163155691964, \"max\": 105.26163155691964}}}\u001b[0m\n",
      "\u001b[34m#metrics {\"StartTime\": 1644192365.567116, \"EndTime\": 1644192365.5671308, \"Dimensions\": {\"Algorithm\": \"Linear Learner\", \"Host\": \"algo-1\", \"Operation\": \"training\", \"epoch\": 0, \"model\": 20}, \"Metrics\": {\"validation_mse_objective\": {\"sum\": 76.92129952566964, \"count\": 1, \"min\": 76.92129952566964, \"max\": 76.92129952566964}}}\u001b[0m\n",
      "\u001b[34m#metrics {\"StartTime\": 1644192365.5671906, \"EndTime\": 1644192365.5672064, \"Dimensions\": {\"Algorithm\": \"Linear Learner\", \"Host\": \"algo-1\", \"Operation\": \"training\", \"epoch\": 0, \"model\": 21}, \"Metrics\": {\"validation_mse_objective\": {\"sum\": 70.14866420200893, \"count\": 1, \"min\": 70.14866420200893, \"max\": 70.14866420200893}}}\u001b[0m\n",
      "\u001b[34m#metrics {\"StartTime\": 1644192365.567261, \"EndTime\": 1644192365.5672755, \"Dimensions\": {\"Algorithm\": \"Linear Learner\", \"Host\": \"algo-1\", \"Operation\": \"training\", \"epoch\": 0, \"model\": 22}, \"Metrics\": {\"validation_mse_objective\": {\"sum\": 80.12689208984375, \"count\": 1, \"min\": 80.12689208984375, \"max\": 80.12689208984375}}}\u001b[0m\n",
      "\u001b[34m#metrics {\"StartTime\": 1644192365.5673292, \"EndTime\": 1644192365.5673447, \"Dimensions\": {\"Algorithm\": \"Linear Learner\", \"Host\": \"algo-1\", \"Operation\": \"training\", \"epoch\": 0, \"model\": 23}, \"Metrics\": {\"validation_mse_objective\": {\"sum\": 88.64370291573661, \"count\": 1, \"min\": 88.64370291573661, \"max\": 88.64370291573661}}}\u001b[0m\n",
      "\u001b[34m#metrics {\"StartTime\": 1644192365.5674005, \"EndTime\": 1644192365.5674174, \"Dimensions\": {\"Algorithm\": \"Linear Learner\", \"Host\": \"algo-1\", \"Operation\": \"training\", \"epoch\": 0, \"model\": 24}, \"Metrics\": {\"validation_mse_objective\": {\"sum\": 101.98018101283482, \"count\": 1, \"min\": 101.98018101283482, \"max\": 101.98018101283482}}}\u001b[0m\n",
      "\u001b[34m#metrics {\"StartTime\": 1644192365.5674756, \"EndTime\": 1644192365.5674922, \"Dimensions\": {\"Algorithm\": \"Linear Learner\", \"Host\": \"algo-1\", \"Operation\": \"training\", \"epoch\": 0, \"model\": 25}, \"Metrics\": {\"validation_mse_objective\": {\"sum\": 101.08428955078125, \"count\": 1, \"min\": 101.08428955078125, \"max\": 101.08428955078125}}}\u001b[0m\n",
      "\u001b[34m#metrics {\"StartTime\": 1644192365.567556, \"EndTime\": 1644192365.567573, \"Dimensions\": {\"Algorithm\": \"Linear Learner\", \"Host\": \"algo-1\", \"Operation\": \"training\", \"epoch\": 0, \"model\": 26}, \"Metrics\": {\"validation_mse_objective\": {\"sum\": 126.13033621651786, \"count\": 1, \"min\": 126.13033621651786, \"max\": 126.13033621651786}}}\u001b[0m\n",
      "\u001b[34m#metrics {\"StartTime\": 1644192365.5676222, \"EndTime\": 1644192365.5676377, \"Dimensions\": {\"Algorithm\": \"Linear Learner\", \"Host\": \"algo-1\", \"Operation\": \"training\", \"epoch\": 0, \"model\": 27}, \"Metrics\": {\"validation_mse_objective\": {\"sum\": 120.62394496372768, \"count\": 1, \"min\": 120.62394496372768, \"max\": 120.62394496372768}}}\u001b[0m\n",
      "\u001b[34m#metrics {\"StartTime\": 1644192365.567699, \"EndTime\": 1644192365.5677156, \"Dimensions\": {\"Algorithm\": \"Linear Learner\", \"Host\": \"algo-1\", \"Operation\": \"training\", \"epoch\": 0, \"model\": 28}, \"Metrics\": {\"validation_mse_objective\": {\"sum\": 110.60891287667411, \"count\": 1, \"min\": 110.60891287667411, \"max\": 110.60891287667411}}}\u001b[0m\n",
      "\u001b[34m#metrics {\"StartTime\": 1644192365.567766, \"EndTime\": 1644192365.5677817, \"Dimensions\": {\"Algorithm\": \"Linear Learner\", \"Host\": \"algo-1\", \"Operation\": \"training\", \"epoch\": 0, \"model\": 29}, \"Metrics\": {\"validation_mse_objective\": {\"sum\": 141.24231828962053, \"count\": 1, \"min\": 141.24231828962053, \"max\": 141.24231828962053}}}\u001b[0m\n",
      "\u001b[34m#metrics {\"StartTime\": 1644192365.5678375, \"EndTime\": 1644192365.5678544, \"Dimensions\": {\"Algorithm\": \"Linear Learner\", \"Host\": \"algo-1\", \"Operation\": \"training\", \"epoch\": 0, \"model\": 30}, \"Metrics\": {\"validation_mse_objective\": {\"sum\": 97.56072998046875, \"count\": 1, \"min\": 97.56072998046875, \"max\": 97.56072998046875}}}\u001b[0m\n",
      "\u001b[34m#metrics {\"StartTime\": 1644192365.567914, \"EndTime\": 1644192365.5679293, \"Dimensions\": {\"Algorithm\": \"Linear Learner\", \"Host\": \"algo-1\", \"Operation\": \"training\", \"epoch\": 0, \"model\": 31}, \"Metrics\": {\"validation_mse_objective\": {\"sum\": 92.08828299386161, \"count\": 1, \"min\": 92.08828299386161, \"max\": 92.08828299386161}}}\u001b[0m\n",
      "\u001b[34m[02/07/2022 00:06:05 INFO 139888956827456] #quality_metric: host=algo-1, epoch=0, validation mse_objective <loss>=98.47936139787946\u001b[0m\n",
      "\u001b[34m[02/07/2022 00:06:05 INFO 139888956827456] #early_stopping_criteria_metric: host=algo-1, epoch=0, criteria=mse_objective, value=66.25725882393974\u001b[0m\n",
      "\u001b[34m[02/07/2022 00:06:05 INFO 139888956827456] Epoch 0: Loss improved. Updating best model\u001b[0m\n",
      "\u001b[34m[02/07/2022 00:06:05 INFO 139888956827456] Saving model for epoch: 0\u001b[0m\n",
      "\u001b[34m[02/07/2022 00:06:05 INFO 139888956827456] Saved checkpoint to \"/tmp/tmpprsx13kv/mx-mod-0000.params\"\u001b[0m\n",
      "\u001b[34m[02/07/2022 00:06:05 INFO 139888956827456] #progress_metric: host=algo-1, completed 6.666666666666667 % of epochs\u001b[0m\n",
      "\u001b[34m#metrics {\"StartTime\": 1644192365.4450705, \"EndTime\": 1644192365.5779505, \"Dimensions\": {\"Algorithm\": \"Linear Learner\", \"Host\": \"algo-1\", \"Operation\": \"training\", \"epoch\": 0, \"Meta\": \"training_data_iter\"}, \"Metrics\": {\"Total Records Seen\": {\"sum\": 654.0, \"count\": 1, \"min\": 654, \"max\": 654}, \"Total Batches Seen\": {\"sum\": 5.0, \"count\": 1, \"min\": 5, \"max\": 5}, \"Max Records Seen Between Resets\": {\"sum\": 227.0, \"count\": 1, \"min\": 227, \"max\": 227}, \"Max Batches Seen Between Resets\": {\"sum\": 2.0, \"count\": 1, \"min\": 2, \"max\": 2}, \"Reset Count\": {\"sum\": 3.0, \"count\": 1, \"min\": 3, \"max\": 3}, \"Number of Records Since Last Reset\": {\"sum\": 227.0, \"count\": 1, \"min\": 227, \"max\": 227}, \"Number of Batches Since Last Reset\": {\"sum\": 2.0, \"count\": 1, \"min\": 2, \"max\": 2}}}\u001b[0m\n",
      "\u001b[34m[02/07/2022 00:06:05 INFO 139888956827456] #throughput_metric: host=algo-1, train throughput=1706.7070494136542 records/second\u001b[0m\n",
      "\u001b[34m#metrics {\"StartTime\": 1644192365.6070042, \"EndTime\": 1644192365.60712, \"Dimensions\": {\"Algorithm\": \"Linear Learner\", \"Host\": \"algo-1\", \"Operation\": \"training\", \"epoch\": 1, \"model\": 0}, \"Metrics\": {\"train_mse_objective\": {\"sum\": 0.9300084686279297, \"count\": 1, \"min\": 0.9300084686279297, \"max\": 0.9300084686279297}}}\u001b[0m\n",
      "\u001b[34m#metrics {\"StartTime\": 1644192365.6072052, \"EndTime\": 1644192365.6072252, \"Dimensions\": {\"Algorithm\": \"Linear Learner\", \"Host\": \"algo-1\", \"Operation\": \"training\", \"epoch\": 1, \"model\": 1}, \"Metrics\": {\"train_mse_objective\": {\"sum\": 0.8434805297851562, \"count\": 1, \"min\": 0.8434805297851562, \"max\": 0.8434805297851562}}}\u001b[0m\n",
      "\u001b[34m#metrics {\"StartTime\": 1644192365.6072834, \"EndTime\": 1644192365.6073005, \"Dimensions\": {\"Algorithm\": \"Linear Learner\", \"Host\": \"algo-1\", \"Operation\": \"training\", \"epoch\": 1, \"model\": 2}, \"Metrics\": {\"train_mse_objective\": {\"sum\": 1.2612612915039063, \"count\": 1, \"min\": 1.2612612915039063, \"max\": 1.2612612915039063}}}\u001b[0m\n",
      "\u001b[34m#metrics {\"StartTime\": 1644192365.6073515, \"EndTime\": 1644192365.6073668, \"Dimensions\": {\"Algorithm\": \"Linear Learner\", \"Host\": \"algo-1\", \"Operation\": \"training\", \"epoch\": 1, \"model\": 3}, \"Metrics\": {\"train_mse_objective\": {\"sum\": 0.8517835998535156, \"count\": 1, \"min\": 0.8517835998535156, \"max\": 0.8517835998535156}}}\u001b[0m\n",
      "\u001b[34m#metrics {\"StartTime\": 1644192365.6074195, \"EndTime\": 1644192365.6074371, \"Dimensions\": {\"Algorithm\": \"Linear Learner\", \"Host\": \"algo-1\", \"Operation\": \"training\", \"epoch\": 1, \"model\": 4}, \"Metrics\": {\"train_mse_objective\": {\"sum\": 0.7932374572753906, \"count\": 1, \"min\": 0.7932374572753906, \"max\": 0.7932374572753906}}}\u001b[0m\n",
      "\u001b[34m#metrics {\"StartTime\": 1644192365.6074884, \"EndTime\": 1644192365.6075037, \"Dimensions\": {\"Algorithm\": \"Linear Learner\", \"Host\": \"algo-1\", \"Operation\": \"training\", \"epoch\": 1, \"model\": 5}, \"Metrics\": {\"train_mse_objective\": {\"sum\": 0.5386795425415039, \"count\": 1, \"min\": 0.5386795425415039, \"max\": 0.5386795425415039}}}\u001b[0m\n",
      "\u001b[34m#metrics {\"StartTime\": 1644192365.6075554, \"EndTime\": 1644192365.6075702, \"Dimensions\": {\"Algorithm\": \"Linear Learner\", \"Host\": \"algo-1\", \"Operation\": \"training\", \"epoch\": 1, \"model\": 6}, \"Metrics\": {\"train_mse_objective\": {\"sum\": 0.7183722686767579, \"count\": 1, \"min\": 0.7183722686767579, \"max\": 0.7183722686767579}}}\u001b[0m\n",
      "\u001b[34m#metrics {\"StartTime\": 1644192365.6076226, \"EndTime\": 1644192365.6076398, \"Dimensions\": {\"Algorithm\": \"Linear Learner\", \"Host\": \"algo-1\", \"Operation\": \"training\", \"epoch\": 1, \"model\": 7}, \"Metrics\": {\"train_mse_objective\": {\"sum\": 0.6726306915283203, \"count\": 1, \"min\": 0.6726306915283203, \"max\": 0.6726306915283203}}}\u001b[0m\n",
      "\u001b[34m#metrics {\"StartTime\": 1644192365.607692, \"EndTime\": 1644192365.6077085, \"Dimensions\": {\"Algorithm\": \"Linear Learner\", \"Host\": \"algo-1\", \"Operation\": \"training\", \"epoch\": 1, \"model\": 8}, \"Metrics\": {\"train_mse_objective\": {\"sum\": 0.910687484741211, \"count\": 1, \"min\": 0.910687484741211, \"max\": 0.910687484741211}}}\u001b[0m\n",
      "\u001b[34m#metrics {\"StartTime\": 1644192365.607761, \"EndTime\": 1644192365.6077769, \"Dimensions\": {\"Algorithm\": \"Linear Learner\", \"Host\": \"algo-1\", \"Operation\": \"training\", \"epoch\": 1, \"model\": 9}, \"Metrics\": {\"train_mse_objective\": {\"sum\": 1.3239479064941406, \"count\": 1, \"min\": 1.3239479064941406, \"max\": 1.3239479064941406}}}\u001b[0m\n",
      "\u001b[34m#metrics {\"StartTime\": 1644192365.607842, \"EndTime\": 1644192365.6078591, \"Dimensions\": {\"Algorithm\": \"Linear Learner\", \"Host\": \"algo-1\", \"Operation\": \"training\", \"epoch\": 1, \"model\": 10}, \"Metrics\": {\"train_mse_objective\": {\"sum\": 0.8533724212646484, \"count\": 1, \"min\": 0.8533724212646484, \"max\": 0.8533724212646484}}}\u001b[0m\n",
      "\u001b[34m#metrics {\"StartTime\": 1644192365.6079142, \"EndTime\": 1644192365.6079302, \"Dimensions\": {\"Algorithm\": \"Linear Learner\", \"Host\": \"algo-1\", \"Operation\": \"training\", \"epoch\": 1, \"model\": 11}, \"Metrics\": {\"train_mse_objective\": {\"sum\": 1.0651488494873047, \"count\": 1, \"min\": 1.0651488494873047, \"max\": 1.0651488494873047}}}\u001b[0m\n",
      "\u001b[34m#metrics {\"StartTime\": 1644192365.6079812, \"EndTime\": 1644192365.6079967, \"Dimensions\": {\"Algorithm\": \"Linear Learner\", \"Host\": \"algo-1\", \"Operation\": \"training\", \"epoch\": 1, \"model\": 12}, \"Metrics\": {\"train_mse_objective\": {\"sum\": 0.7165784454345703, \"count\": 1, \"min\": 0.7165784454345703, \"max\": 0.7165784454345703}}}\u001b[0m\n",
      "\u001b[34m#metrics {\"StartTime\": 1644192365.6080482, \"EndTime\": 1644192365.6080632, \"Dimensions\": {\"Algorithm\": \"Linear Learner\", \"Host\": \"algo-1\", \"Operation\": \"training\", \"epoch\": 1, \"model\": 13}, \"Metrics\": {\"train_mse_objective\": {\"sum\": 0.7685588836669922, \"count\": 1, \"min\": 0.7685588836669922, \"max\": 0.7685588836669922}}}\u001b[0m\n",
      "\u001b[34m#metrics {\"StartTime\": 1644192365.6081154, \"EndTime\": 1644192365.6081321, \"Dimensions\": {\"Algorithm\": \"Linear Learner\", \"Host\": \"algo-1\", \"Operation\": \"training\", \"epoch\": 1, \"model\": 14}, \"Metrics\": {\"train_mse_objective\": {\"sum\": 0.8262242126464844, \"count\": 1, \"min\": 0.8262242126464844, \"max\": 0.8262242126464844}}}\u001b[0m\n",
      "\u001b[34m#metrics {\"StartTime\": 1644192365.608197, \"EndTime\": 1644192365.6082149, \"Dimensions\": {\"Algorithm\": \"Linear Learner\", \"Host\": \"algo-1\", \"Operation\": \"training\", \"epoch\": 1, \"model\": 15}, \"Metrics\": {\"train_mse_objective\": {\"sum\": 0.5926069641113281, \"count\": 1, \"min\": 0.5926069641113281, \"max\": 0.5926069641113281}}}\u001b[0m\n",
      "\u001b[34m#metrics {\"StartTime\": 1644192365.6082659, \"EndTime\": 1644192365.6082826, \"Dimensions\": {\"Algorithm\": \"Linear Learner\", \"Host\": \"algo-1\", \"Operation\": \"training\", \"epoch\": 1, \"model\": 16}, \"Metrics\": {\"train_mse_objective\": {\"sum\": 0.9736859130859375, \"count\": 1, \"min\": 0.9736859130859375, \"max\": 0.9736859130859375}}}\u001b[0m\n",
      "\u001b[34m#metrics {\"StartTime\": 1644192365.6083276, \"EndTime\": 1644192365.6083431, \"Dimensions\": {\"Algorithm\": \"Linear Learner\", \"Host\": \"algo-1\", \"Operation\": \"training\", \"epoch\": 1, \"model\": 17}, \"Metrics\": {\"train_mse_objective\": {\"sum\": 0.8440711975097657, \"count\": 1, \"min\": 0.8440711975097657, \"max\": 0.8440711975097657}}}\u001b[0m\n",
      "\u001b[34m#metrics {\"StartTime\": 1644192365.608396, \"EndTime\": 1644192365.608411, \"Dimensions\": {\"Algorithm\": \"Linear Learner\", \"Host\": \"algo-1\", \"Operation\": \"training\", \"epoch\": 1, \"model\": 18}, \"Metrics\": {\"train_mse_objective\": {\"sum\": 1.1642515563964844, \"count\": 1, \"min\": 1.1642515563964844, \"max\": 1.1642515563964844}}}\u001b[0m\n",
      "\u001b[34m#metrics {\"StartTime\": 1644192365.6084642, \"EndTime\": 1644192365.60848, \"Dimensions\": {\"Algorithm\": \"Linear Learner\", \"Host\": \"algo-1\", \"Operation\": \"training\", \"epoch\": 1, \"model\": 19}, \"Metrics\": {\"train_mse_objective\": {\"sum\": 0.9929886627197265, \"count\": 1, \"min\": 0.9929886627197265, \"max\": 0.9929886627197265}}}\u001b[0m\n",
      "\u001b[34m#metrics {\"StartTime\": 1644192365.6085322, \"EndTime\": 1644192365.6085477, \"Dimensions\": {\"Algorithm\": \"Linear Learner\", \"Host\": \"algo-1\", \"Operation\": \"training\", \"epoch\": 1, \"model\": 20}, \"Metrics\": {\"train_mse_objective\": {\"sum\": 0.6467779541015625, \"count\": 1, \"min\": 0.6467779541015625, \"max\": 0.6467779541015625}}}\u001b[0m\n",
      "\u001b[34m#metrics {\"StartTime\": 1644192365.6086, \"EndTime\": 1644192365.6086144, \"Dimensions\": {\"Algorithm\": \"Linear Learner\", \"Host\": \"algo-1\", \"Operation\": \"training\", \"epoch\": 1, \"model\": 21}, \"Metrics\": {\"train_mse_objective\": {\"sum\": 0.6373293304443359, \"count\": 1, \"min\": 0.6373293304443359, \"max\": 0.6373293304443359}}}\u001b[0m\n",
      "\u001b[34m#metrics {\"StartTime\": 1644192365.6086662, \"EndTime\": 1644192365.6086829, \"Dimensions\": {\"Algorithm\": \"Linear Learner\", \"Host\": \"algo-1\", \"Operation\": \"training\", \"epoch\": 1, \"model\": 22}, \"Metrics\": {\"train_mse_objective\": {\"sum\": 0.6774464416503906, \"count\": 1, \"min\": 0.6774464416503906, \"max\": 0.6774464416503906}}}\u001b[0m\n",
      "\u001b[34m#metrics {\"StartTime\": 1644192365.6087334, \"EndTime\": 1644192365.6087494, \"Dimensions\": {\"Algorithm\": \"Linear Learner\", \"Host\": \"algo-1\", \"Operation\": \"training\", \"epoch\": 1, \"model\": 23}, \"Metrics\": {\"train_mse_objective\": {\"sum\": 0.6859156036376953, \"count\": 1, \"min\": 0.6859156036376953, \"max\": 0.6859156036376953}}}\u001b[0m\n",
      "\u001b[34m#metrics {\"StartTime\": 1644192365.6088023, \"EndTime\": 1644192365.608817, \"Dimensions\": {\"Algorithm\": \"Linear Learner\", \"Host\": \"algo-1\", \"Operation\": \"training\", \"epoch\": 1, \"model\": 24}, \"Metrics\": {\"train_mse_objective\": {\"sum\": 0.9679003143310547, \"count\": 1, \"min\": 0.9679003143310547, \"max\": 0.9679003143310547}}}\u001b[0m\n",
      "\u001b[34m#metrics {\"StartTime\": 1644192365.6088803, \"EndTime\": 1644192365.6088986, \"Dimensions\": {\"Algorithm\": \"Linear Learner\", \"Host\": \"algo-1\", \"Operation\": \"training\", \"epoch\": 1, \"model\": 25}, \"Metrics\": {\"train_mse_objective\": {\"sum\": 0.9766224670410156, \"count\": 1, \"min\": 0.9766224670410156, \"max\": 0.9766224670410156}}}\u001b[0m\n",
      "\u001b[34m#metrics {\"StartTime\": 1644192365.6089575, \"EndTime\": 1644192365.6089737, \"Dimensions\": {\"Algorithm\": \"Linear Learner\", \"Host\": \"algo-1\", \"Operation\": \"training\", \"epoch\": 1, \"model\": 26}, \"Metrics\": {\"train_mse_objective\": {\"sum\": 1.1955286407470702, \"count\": 1, \"min\": 1.1955286407470702, \"max\": 1.1955286407470702}}}\u001b[0m\n",
      "\u001b[34m#metrics {\"StartTime\": 1644192365.6090176, \"EndTime\": 1644192365.6090324, \"Dimensions\": {\"Algorithm\": \"Linear Learner\", \"Host\": \"algo-1\", \"Operation\": \"training\", \"epoch\": 1, \"model\": 27}, \"Metrics\": {\"train_mse_objective\": {\"sum\": 1.1077408599853515, \"count\": 1, \"min\": 1.1077408599853515, \"max\": 1.1077408599853515}}}\u001b[0m\n",
      "\u001b[34m#metrics {\"StartTime\": 1644192365.609085, \"EndTime\": 1644192365.609102, \"Dimensions\": {\"Algorithm\": \"Linear Learner\", \"Host\": \"algo-1\", \"Operation\": \"training\", \"epoch\": 1, \"model\": 28}, \"Metrics\": {\"train_mse_objective\": {\"sum\": 0.984039306640625, \"count\": 1, \"min\": 0.984039306640625, \"max\": 0.984039306640625}}}\u001b[0m\n",
      "\u001b[34m#metrics {\"StartTime\": 1644192365.6091547, \"EndTime\": 1644192365.6091707, \"Dimensions\": {\"Algorithm\": \"Linear Learner\", \"Host\": \"algo-1\", \"Operation\": \"training\", \"epoch\": 1, \"model\": 29}, \"Metrics\": {\"train_mse_objective\": {\"sum\": 1.2205453491210938, \"count\": 1, \"min\": 1.2205453491210938, \"max\": 1.2205453491210938}}}\u001b[0m\n",
      "\u001b[34m#metrics {\"StartTime\": 1644192365.609223, \"EndTime\": 1644192365.6092405, \"Dimensions\": {\"Algorithm\": \"Linear Learner\", \"Host\": \"algo-1\", \"Operation\": \"training\", \"epoch\": 1, \"model\": 30}, \"Metrics\": {\"train_mse_objective\": {\"sum\": 0.8430625152587891, \"count\": 1, \"min\": 0.8430625152587891, \"max\": 0.8430625152587891}}}\u001b[0m\n",
      "\u001b[34m#metrics {\"StartTime\": 1644192365.609292, \"EndTime\": 1644192365.6093078, \"Dimensions\": {\"Algorithm\": \"Linear Learner\", \"Host\": \"algo-1\", \"Operation\": \"training\", \"epoch\": 1, \"model\": 31}, \"Metrics\": {\"train_mse_objective\": {\"sum\": 0.9070304107666015, \"count\": 1, \"min\": 0.9070304107666015, \"max\": 0.9070304107666015}}}\u001b[0m\n",
      "\u001b[34m[02/07/2022 00:06:05 INFO 139888956827456] #quality_metric: host=algo-1, epoch=1, train mse_objective <loss>=0.9300084686279297\u001b[0m\n",
      "\u001b[34m#metrics {\"StartTime\": 1644192365.658621, \"EndTime\": 1644192365.6586783, \"Dimensions\": {\"Algorithm\": \"Linear Learner\", \"Host\": \"algo-1\", \"Operation\": \"training\", \"epoch\": 1, \"model\": 0}, \"Metrics\": {\"validation_mse_objective\": {\"sum\": 92.73822893415179, \"count\": 1, \"min\": 92.73822893415179, \"max\": 92.73822893415179}}}\u001b[0m\n",
      "\u001b[34m#metrics {\"StartTime\": 1644192365.6587641, \"EndTime\": 1644192365.6587842, \"Dimensions\": {\"Algorithm\": \"Linear Learner\", \"Host\": \"algo-1\", \"Operation\": \"training\", \"epoch\": 1, \"model\": 1}, \"Metrics\": {\"validation_mse_objective\": {\"sum\": 88.78828648158482, \"count\": 1, \"min\": 88.78828648158482, \"max\": 88.78828648158482}}}\u001b[0m\n",
      "\u001b[34m#metrics {\"StartTime\": 1644192365.6588395, \"EndTime\": 1644192365.6588566, \"Dimensions\": {\"Algorithm\": \"Linear Learner\", \"Host\": \"algo-1\", \"Operation\": \"training\", \"epoch\": 1, \"model\": 2}, \"Metrics\": {\"validation_mse_objective\": {\"sum\": 133.4186052594866, \"count\": 1, \"min\": 133.4186052594866, \"max\": 133.4186052594866}}}\u001b[0m\n",
      "\u001b[34m#metrics {\"StartTime\": 1644192365.6589189, \"EndTime\": 1644192365.6589377, \"Dimensions\": {\"Algorithm\": \"Linear Learner\", \"Host\": \"algo-1\", \"Operation\": \"training\", \"epoch\": 1, \"model\": 3}, \"Metrics\": {\"validation_mse_objective\": {\"sum\": 81.26504080636161, \"count\": 1, \"min\": 81.26504080636161, \"max\": 81.26504080636161}}}\u001b[0m\n",
      "\u001b[34m#metrics {\"StartTime\": 1644192365.6589882, \"EndTime\": 1644192365.659005, \"Dimensions\": {\"Algorithm\": \"Linear Learner\", \"Host\": \"algo-1\", \"Operation\": \"training\", \"epoch\": 1, \"model\": 4}, \"Metrics\": {\"validation_mse_objective\": {\"sum\": 94.39179338727679, \"count\": 1, \"min\": 94.39179338727679, \"max\": 94.39179338727679}}}\u001b[0m\n",
      "\u001b[34m#metrics {\"StartTime\": 1644192365.6590838, \"EndTime\": 1644192365.659101, \"Dimensions\": {\"Algorithm\": \"Linear Learner\", \"Host\": \"algo-1\", \"Operation\": \"training\", \"epoch\": 1, \"model\": 5}, \"Metrics\": {\"validation_mse_objective\": {\"sum\": 112.59819684709821, \"count\": 1, \"min\": 112.59819684709821, \"max\": 112.59819684709821}}}\u001b[0m\n",
      "\u001b[34m#metrics {\"StartTime\": 1644192365.6591678, \"EndTime\": 1644192365.659185, \"Dimensions\": {\"Algorithm\": \"Linear Learner\", \"Host\": \"algo-1\", \"Operation\": \"training\", \"epoch\": 1, \"model\": 6}, \"Metrics\": {\"validation_mse_objective\": {\"sum\": 113.16134207589286, \"count\": 1, \"min\": 113.16134207589286, \"max\": 113.16134207589286}}}\u001b[0m\n",
      "\u001b[34m#metrics {\"StartTime\": 1644192365.6592386, \"EndTime\": 1644192365.6592543, \"Dimensions\": {\"Algorithm\": \"Linear Learner\", \"Host\": \"algo-1\", \"Operation\": \"training\", \"epoch\": 1, \"model\": 7}, \"Metrics\": {\"validation_mse_objective\": {\"sum\": 108.38792201450893, \"count\": 1, \"min\": 108.38792201450893, \"max\": 108.38792201450893}}}\u001b[0m\n",
      "\u001b[34m#metrics {\"StartTime\": 1644192365.6593091, \"EndTime\": 1644192365.6593258, \"Dimensions\": {\"Algorithm\": \"Linear Learner\", \"Host\": \"algo-1\", \"Operation\": \"training\", \"epoch\": 1, \"model\": 8}, \"Metrics\": {\"validation_mse_objective\": {\"sum\": 92.35182407924107, \"count\": 1, \"min\": 92.35182407924107, \"max\": 92.35182407924107}}}\u001b[0m\n",
      "\u001b[34m#metrics {\"StartTime\": 1644192365.6593726, \"EndTime\": 1644192365.6593869, \"Dimensions\": {\"Algorithm\": \"Linear Learner\", \"Host\": \"algo-1\", \"Operation\": \"training\", \"epoch\": 1, \"model\": 9}, \"Metrics\": {\"validation_mse_objective\": {\"sum\": 144.49639020647322, \"count\": 1, \"min\": 144.49639020647322, \"max\": 144.49639020647322}}}\u001b[0m\n",
      "\u001b[34m#metrics {\"StartTime\": 1644192365.6594355, \"EndTime\": 1644192365.6594522, \"Dimensions\": {\"Algorithm\": \"Linear Learner\", \"Host\": \"algo-1\", \"Operation\": \"training\", \"epoch\": 1, \"model\": 10}, \"Metrics\": {\"validation_mse_objective\": {\"sum\": 84.79271589006696, \"count\": 1, \"min\": 84.79271589006696, \"max\": 84.79271589006696}}}\u001b[0m\n",
      "\u001b[34m#metrics {\"StartTime\": 1644192365.659501, \"EndTime\": 1644192365.6595168, \"Dimensions\": {\"Algorithm\": \"Linear Learner\", \"Host\": \"algo-1\", \"Operation\": \"training\", \"epoch\": 1, \"model\": 11}, \"Metrics\": {\"validation_mse_objective\": {\"sum\": 119.12517438616071, \"count\": 1, \"min\": 119.12517438616071, \"max\": 119.12517438616071}}}\u001b[0m\n",
      "\u001b[34m#metrics {\"StartTime\": 1644192365.6595814, \"EndTime\": 1644192365.659598, \"Dimensions\": {\"Algorithm\": \"Linear Learner\", \"Host\": \"algo-1\", \"Operation\": \"training\", \"epoch\": 1, \"model\": 12}, \"Metrics\": {\"validation_mse_objective\": {\"sum\": 108.67781284877232, \"count\": 1, \"min\": 108.67781284877232, \"max\": 108.67781284877232}}}\u001b[0m\n",
      "\u001b[34m#metrics {\"StartTime\": 1644192365.6596541, \"EndTime\": 1644192365.6596718, \"Dimensions\": {\"Algorithm\": \"Linear Learner\", \"Host\": \"algo-1\", \"Operation\": \"training\", \"epoch\": 1, \"model\": 13}, \"Metrics\": {\"validation_mse_objective\": {\"sum\": 106.92143903459821, \"count\": 1, \"min\": 106.92143903459821, \"max\": 106.92143903459821}}}\u001b[0m\n",
      "\u001b[34m#metrics {\"StartTime\": 1644192365.6597338, \"EndTime\": 1644192365.6597548, \"Dimensions\": {\"Algorithm\": \"Linear Learner\", \"Host\": \"algo-1\", \"Operation\": \"training\", \"epoch\": 1, \"model\": 14}, \"Metrics\": {\"validation_mse_objective\": {\"sum\": 92.65766252790179, \"count\": 1, \"min\": 92.65766252790179, \"max\": 92.65766252790179}}}\u001b[0m\n",
      "\u001b[34m#metrics {\"StartTime\": 1644192365.65981, \"EndTime\": 1644192365.6598256, \"Dimensions\": {\"Algorithm\": \"Linear Learner\", \"Host\": \"algo-1\", \"Operation\": \"training\", \"epoch\": 1, \"model\": 15}, \"Metrics\": {\"validation_mse_objective\": {\"sum\": 113.95413643973214, \"count\": 1, \"min\": 113.95413643973214, \"max\": 113.95413643973214}}}\u001b[0m\n",
      "\u001b[34m#metrics {\"StartTime\": 1644192365.659882, \"EndTime\": 1644192365.6598992, \"Dimensions\": {\"Algorithm\": \"Linear Learner\", \"Host\": \"algo-1\", \"Operation\": \"training\", \"epoch\": 1, \"model\": 16}, \"Metrics\": {\"validation_mse_objective\": {\"sum\": 101.53524344308036, \"count\": 1, \"min\": 101.53524344308036, \"max\": 101.53524344308036}}}\u001b[0m\n",
      "\u001b[34m#metrics {\"StartTime\": 1644192365.6599655, \"EndTime\": 1644192365.6599836, \"Dimensions\": {\"Algorithm\": \"Linear Learner\", \"Host\": \"algo-1\", \"Operation\": \"training\", \"epoch\": 1, \"model\": 17}, \"Metrics\": {\"validation_mse_objective\": {\"sum\": 94.24601527622768, \"count\": 1, \"min\": 94.24601527622768, \"max\": 94.24601527622768}}}\u001b[0m\n",
      "\u001b[34m#metrics {\"StartTime\": 1644192365.6600416, \"EndTime\": 1644192365.660058, \"Dimensions\": {\"Algorithm\": \"Linear Learner\", \"Host\": \"algo-1\", \"Operation\": \"training\", \"epoch\": 1, \"model\": 18}, \"Metrics\": {\"validation_mse_objective\": {\"sum\": 121.36869594029018, \"count\": 1, \"min\": 121.36869594029018, \"max\": 121.36869594029018}}}\u001b[0m\n",
      "\u001b[34m#metrics {\"StartTime\": 1644192365.6601114, \"EndTime\": 1644192365.6601293, \"Dimensions\": {\"Algorithm\": \"Linear Learner\", \"Host\": \"algo-1\", \"Operation\": \"training\", \"epoch\": 1, \"model\": 19}, \"Metrics\": {\"validation_mse_objective\": {\"sum\": 99.49941580636161, \"count\": 1, \"min\": 99.49941580636161, \"max\": 99.49941580636161}}}\u001b[0m\n",
      "\u001b[34m#metrics {\"StartTime\": 1644192365.6601813, \"EndTime\": 1644192365.6601977, \"Dimensions\": {\"Algorithm\": \"Linear Learner\", \"Host\": \"algo-1\", \"Operation\": \"training\", \"epoch\": 1, \"model\": 20}, \"Metrics\": {\"validation_mse_objective\": {\"sum\": 77.13870675223214, \"count\": 1, \"min\": 77.13870675223214, \"max\": 77.13870675223214}}}\u001b[0m\n",
      "\u001b[34m#metrics {\"StartTime\": 1644192365.6602523, \"EndTime\": 1644192365.6602688, \"Dimensions\": {\"Algorithm\": \"Linear Learner\", \"Host\": \"algo-1\", \"Operation\": \"training\", \"epoch\": 1, \"model\": 21}, \"Metrics\": {\"validation_mse_objective\": {\"sum\": 96.75258091517857, \"count\": 1, \"min\": 96.75258091517857, \"max\": 96.75258091517857}}}\u001b[0m\n",
      "\u001b[34m#metrics {\"StartTime\": 1644192365.6603217, \"EndTime\": 1644192365.6603384, \"Dimensions\": {\"Algorithm\": \"Linear Learner\", \"Host\": \"algo-1\", \"Operation\": \"training\", \"epoch\": 1, \"model\": 22}, \"Metrics\": {\"validation_mse_objective\": {\"sum\": 87.02934919084821, \"count\": 1, \"min\": 87.02934919084821, \"max\": 87.02934919084821}}}\u001b[0m\n",
      "\u001b[34m#metrics {\"StartTime\": 1644192365.6603956, \"EndTime\": 1644192365.660413, \"Dimensions\": {\"Algorithm\": \"Linear Learner\", \"Host\": \"algo-1\", \"Operation\": \"training\", \"epoch\": 1, \"model\": 23}, \"Metrics\": {\"validation_mse_objective\": {\"sum\": 83.3775634765625, \"count\": 1, \"min\": 83.3775634765625, \"max\": 83.3775634765625}}}\u001b[0m\n",
      "\u001b[34m#metrics {\"StartTime\": 1644192365.6604753, \"EndTime\": 1644192365.6604853, \"Dimensions\": {\"Algorithm\": \"Linear Learner\", \"Host\": \"algo-1\", \"Operation\": \"training\", \"epoch\": 1, \"model\": 24}, \"Metrics\": {\"validation_mse_objective\": {\"sum\": 101.546875, \"count\": 1, \"min\": 101.546875, \"max\": 101.546875}}}\u001b[0m\n",
      "\u001b[34m#metrics {\"StartTime\": 1644192365.660535, \"EndTime\": 1644192365.6605504, \"Dimensions\": {\"Algorithm\": \"Linear Learner\", \"Host\": \"algo-1\", \"Operation\": \"training\", \"epoch\": 1, \"model\": 25}, \"Metrics\": {\"validation_mse_objective\": {\"sum\": 102.1025390625, \"count\": 1, \"min\": 102.1025390625, \"max\": 102.1025390625}}}\u001b[0m\n",
      "\u001b[34m#metrics {\"StartTime\": 1644192365.6606045, \"EndTime\": 1644192365.6606224, \"Dimensions\": {\"Algorithm\": \"Linear Learner\", \"Host\": \"algo-1\", \"Operation\": \"training\", \"epoch\": 1, \"model\": 26}, \"Metrics\": {\"validation_mse_objective\": {\"sum\": 121.17698451450893, \"count\": 1, \"min\": 121.17698451450893, \"max\": 121.17698451450893}}}\u001b[0m\n",
      "\u001b[34m#metrics {\"StartTime\": 1644192365.6606767, \"EndTime\": 1644192365.6606925, \"Dimensions\": {\"Algorithm\": \"Linear Learner\", \"Host\": \"algo-1\", \"Operation\": \"training\", \"epoch\": 1, \"model\": 27}, \"Metrics\": {\"validation_mse_objective\": {\"sum\": 119.20714460100446, \"count\": 1, \"min\": 119.20714460100446, \"max\": 119.20714460100446}}}\u001b[0m\n",
      "\u001b[34m#metrics {\"StartTime\": 1644192365.6607473, \"EndTime\": 1644192365.660763, \"Dimensions\": {\"Algorithm\": \"Linear Learner\", \"Host\": \"algo-1\", \"Operation\": \"training\", \"epoch\": 1, \"model\": 28}, \"Metrics\": {\"validation_mse_objective\": {\"sum\": 119.76775251116071, \"count\": 1, \"min\": 119.76775251116071, \"max\": 119.76775251116071}}}\u001b[0m\n",
      "\u001b[34m#metrics {\"StartTime\": 1644192365.6608245, \"EndTime\": 1644192365.6608417, \"Dimensions\": {\"Algorithm\": \"Linear Learner\", \"Host\": \"algo-1\", \"Operation\": \"training\", \"epoch\": 1, \"model\": 29}, \"Metrics\": {\"validation_mse_objective\": {\"sum\": 133.29342215401786, \"count\": 1, \"min\": 133.29342215401786, \"max\": 133.29342215401786}}}\u001b[0m\n",
      "\u001b[34m#metrics {\"StartTime\": 1644192365.660903, \"EndTime\": 1644192365.6609192, \"Dimensions\": {\"Algorithm\": \"Linear Learner\", \"Host\": \"algo-1\", \"Operation\": \"training\", \"epoch\": 1, \"model\": 30}, \"Metrics\": {\"validation_mse_objective\": {\"sum\": 114.36266217912946, \"count\": 1, \"min\": 114.36266217912946, \"max\": 114.36266217912946}}}\u001b[0m\n",
      "\u001b[34m#metrics {\"StartTime\": 1644192365.6609757, \"EndTime\": 1644192365.6609921, \"Dimensions\": {\"Algorithm\": \"Linear Learner\", \"Host\": \"algo-1\", \"Operation\": \"training\", \"epoch\": 1, \"model\": 31}, \"Metrics\": {\"validation_mse_objective\": {\"sum\": 105.36438860212054, \"count\": 1, \"min\": 105.36438860212054, \"max\": 105.36438860212054}}}\u001b[0m\n",
      "\u001b[34m[02/07/2022 00:06:05 INFO 139888956827456] #quality_metric: host=algo-1, epoch=1, validation mse_objective <loss>=92.73822893415179\u001b[0m\n",
      "\u001b[34m[02/07/2022 00:06:05 INFO 139888956827456] #early_stopping_criteria_metric: host=algo-1, epoch=1, criteria=mse_objective, value=77.13870675223214\u001b[0m\n",
      "\u001b[34m[02/07/2022 00:06:05 INFO 139888956827456] Saving model for epoch: 1\u001b[0m\n",
      "\u001b[34m[02/07/2022 00:06:05 INFO 139888956827456] Saved checkpoint to \"/tmp/tmpw8hgutcn/mx-mod-0000.params\"\u001b[0m\n",
      "\u001b[34m[02/07/2022 00:06:05 INFO 139888956827456] #progress_metric: host=algo-1, completed 13.333333333333334 % of epochs\u001b[0m\n",
      "\u001b[34m#metrics {\"StartTime\": 1644192365.5782297, \"EndTime\": 1644192365.6681383, \"Dimensions\": {\"Algorithm\": \"Linear Learner\", \"Host\": \"algo-1\", \"Operation\": \"training\", \"epoch\": 1, \"Meta\": \"training_data_iter\"}, \"Metrics\": {\"Total Records Seen\": {\"sum\": 881.0, \"count\": 1, \"min\": 881, \"max\": 881}, \"Total Batches Seen\": {\"sum\": 7.0, \"count\": 1, \"min\": 7, \"max\": 7}, \"Max Records Seen Between Resets\": {\"sum\": 227.0, \"count\": 1, \"min\": 227, \"max\": 227}, \"Max Batches Seen Between Resets\": {\"sum\": 2.0, \"count\": 1, \"min\": 2, \"max\": 2}, \"Reset Count\": {\"sum\": 4.0, \"count\": 1, \"min\": 4, \"max\": 4}, \"Number of Records Since Last Reset\": {\"sum\": 227.0, \"count\": 1, \"min\": 227, \"max\": 227}, \"Number of Batches Since Last Reset\": {\"sum\": 2.0, \"count\": 1, \"min\": 2, \"max\": 2}}}\u001b[0m\n",
      "\u001b[34m[02/07/2022 00:06:05 INFO 139888956827456] #throughput_metric: host=algo-1, train throughput=2521.035859822859 records/second\u001b[0m\n",
      "\u001b[34m#metrics {\"StartTime\": 1644192365.7012882, \"EndTime\": 1644192365.7013419, \"Dimensions\": {\"Algorithm\": \"Linear Learner\", \"Host\": \"algo-1\", \"Operation\": \"training\", \"epoch\": 2, \"model\": 0}, \"Metrics\": {\"train_mse_objective\": {\"sum\": 0.8850932312011719, \"count\": 1, \"min\": 0.8850932312011719, \"max\": 0.8850932312011719}}}\u001b[0m\n",
      "\u001b[34m#metrics {\"StartTime\": 1644192365.7014182, \"EndTime\": 1644192365.7014377, \"Dimensions\": {\"Algorithm\": \"Linear Learner\", \"Host\": \"algo-1\", \"Operation\": \"training\", \"epoch\": 2, \"model\": 1}, \"Metrics\": {\"train_mse_objective\": {\"sum\": 0.806533203125, \"count\": 1, \"min\": 0.806533203125, \"max\": 0.806533203125}}}\u001b[0m\n",
      "\u001b[34m#metrics {\"StartTime\": 1644192365.701494, \"EndTime\": 1644192365.7015116, \"Dimensions\": {\"Algorithm\": \"Linear Learner\", \"Host\": \"algo-1\", \"Operation\": \"training\", \"epoch\": 2, \"model\": 2}, \"Metrics\": {\"train_mse_objective\": {\"sum\": 1.1974296569824219, \"count\": 1, \"min\": 1.1974296569824219, \"max\": 1.1974296569824219}}}\u001b[0m\n",
      "\u001b[34m#metrics {\"StartTime\": 1644192365.7015765, \"EndTime\": 1644192365.701596, \"Dimensions\": {\"Algorithm\": \"Linear Learner\", \"Host\": \"algo-1\", \"Operation\": \"training\", \"epoch\": 2, \"model\": 3}, \"Metrics\": {\"train_mse_objective\": {\"sum\": 0.8143971252441407, \"count\": 1, \"min\": 0.8143971252441407, \"max\": 0.8143971252441407}}}\u001b[0m\n",
      "\u001b[34m#metrics {\"StartTime\": 1644192365.7016478, \"EndTime\": 1644192365.7016642, \"Dimensions\": {\"Algorithm\": \"Linear Learner\", \"Host\": \"algo-1\", \"Operation\": \"training\", \"epoch\": 2, \"model\": 4}, \"Metrics\": {\"train_mse_objective\": {\"sum\": 0.9538197326660156, \"count\": 1, \"min\": 0.9538197326660156, \"max\": 0.9538197326660156}}}\u001b[0m\n",
      "\u001b[34m#metrics {\"StartTime\": 1644192365.7017145, \"EndTime\": 1644192365.701729, \"Dimensions\": {\"Algorithm\": \"Linear Learner\", \"Host\": \"algo-1\", \"Operation\": \"training\", \"epoch\": 2, \"model\": 5}, \"Metrics\": {\"train_mse_objective\": {\"sum\": 1.0412785339355468, \"count\": 1, \"min\": 1.0412785339355468, \"max\": 1.0412785339355468}}}\u001b[0m\n",
      "\u001b[34m#metrics {\"StartTime\": 1644192365.7017782, \"EndTime\": 1644192365.7017944, \"Dimensions\": {\"Algorithm\": \"Linear Learner\", \"Host\": \"algo-1\", \"Operation\": \"training\", \"epoch\": 2, \"model\": 6}, \"Metrics\": {\"train_mse_objective\": {\"sum\": 1.0553221130371093, \"count\": 1, \"min\": 1.0553221130371093, \"max\": 1.0553221130371093}}}\u001b[0m\n",
      "\u001b[34m#metrics {\"StartTime\": 1644192365.701847, \"EndTime\": 1644192365.7018638, \"Dimensions\": {\"Algorithm\": \"Linear Learner\", \"Host\": \"algo-1\", \"Operation\": \"training\", \"epoch\": 2, \"model\": 7}, \"Metrics\": {\"train_mse_objective\": {\"sum\": 1.0453125, \"count\": 1, \"min\": 1.0453125, \"max\": 1.0453125}}}\u001b[0m\n",
      "\u001b[34m#metrics {\"StartTime\": 1644192365.7019198, \"EndTime\": 1644192365.701937, \"Dimensions\": {\"Algorithm\": \"Linear Learner\", \"Host\": \"algo-1\", \"Operation\": \"training\", \"epoch\": 2, \"model\": 8}, \"Metrics\": {\"train_mse_objective\": {\"sum\": 0.8730003356933593, \"count\": 1, \"min\": 0.8730003356933593, \"max\": 0.8730003356933593}}}\u001b[0m\n",
      "\u001b[34m#metrics {\"StartTime\": 1644192365.7019997, \"EndTime\": 1644192365.7020152, \"Dimensions\": {\"Algorithm\": \"Linear Learner\", \"Host\": \"algo-1\", \"Operation\": \"training\", \"epoch\": 2, \"model\": 9}, \"Metrics\": {\"train_mse_objective\": {\"sum\": 1.256755142211914, \"count\": 1, \"min\": 1.256755142211914, \"max\": 1.256755142211914}}}\u001b[0m\n",
      "\u001b[34m#metrics {\"StartTime\": 1644192365.7020643, \"EndTime\": 1644192365.7020805, \"Dimensions\": {\"Algorithm\": \"Linear Learner\", \"Host\": \"algo-1\", \"Operation\": \"training\", \"epoch\": 2, \"model\": 10}, \"Metrics\": {\"train_mse_objective\": {\"sum\": 0.8191167449951172, \"count\": 1, \"min\": 0.8191167449951172, \"max\": 0.8191167449951172}}}\u001b[0m\n",
      "\u001b[34m#metrics {\"StartTime\": 1644192365.7021425, \"EndTime\": 1644192365.702159, \"Dimensions\": {\"Algorithm\": \"Linear Learner\", \"Host\": \"algo-1\", \"Operation\": \"training\", \"epoch\": 2, \"model\": 11}, \"Metrics\": {\"train_mse_objective\": {\"sum\": 1.0157996368408204, \"count\": 1, \"min\": 1.0157996368408204, \"max\": 1.0157996368408204}}}\u001b[0m\n",
      "\u001b[34m#metrics {\"StartTime\": 1644192365.7022057, \"EndTime\": 1644192365.7022216, \"Dimensions\": {\"Algorithm\": \"Linear Learner\", \"Host\": \"algo-1\", \"Operation\": \"training\", \"epoch\": 2, \"model\": 12}, \"Metrics\": {\"train_mse_objective\": {\"sum\": 1.0490812683105468, \"count\": 1, \"min\": 1.0490812683105468, \"max\": 1.0490812683105468}}}\u001b[0m\n",
      "\u001b[34m#metrics {\"StartTime\": 1644192365.7022676, \"EndTime\": 1644192365.7022843, \"Dimensions\": {\"Algorithm\": \"Linear Learner\", \"Host\": \"algo-1\", \"Operation\": \"training\", \"epoch\": 2, \"model\": 13}, \"Metrics\": {\"train_mse_objective\": {\"sum\": 1.017454833984375, \"count\": 1, \"min\": 1.017454833984375, \"max\": 1.017454833984375}}}\u001b[0m\n",
      "\u001b[34m#metrics {\"StartTime\": 1644192365.7023313, \"EndTime\": 1644192365.702348, \"Dimensions\": {\"Algorithm\": \"Linear Learner\", \"Host\": \"algo-1\", \"Operation\": \"training\", \"epoch\": 2, \"model\": 14}, \"Metrics\": {\"train_mse_objective\": {\"sum\": 0.9207542419433594, \"count\": 1, \"min\": 0.9207542419433594, \"max\": 0.9207542419433594}}}\u001b[0m\n",
      "\u001b[34m#metrics {\"StartTime\": 1644192365.702394, \"EndTime\": 1644192365.7024095, \"Dimensions\": {\"Algorithm\": \"Linear Learner\", \"Host\": \"algo-1\", \"Operation\": \"training\", \"epoch\": 2, \"model\": 15}, \"Metrics\": {\"train_mse_objective\": {\"sum\": 1.0925724029541015, \"count\": 1, \"min\": 1.0925724029541015, \"max\": 1.0925724029541015}}}\u001b[0m\n",
      "\u001b[34m#metrics {\"StartTime\": 1644192365.702459, \"EndTime\": 1644192365.7024753, \"Dimensions\": {\"Algorithm\": \"Linear Learner\", \"Host\": \"algo-1\", \"Operation\": \"training\", \"epoch\": 2, \"model\": 16}, \"Metrics\": {\"train_mse_objective\": {\"sum\": 0.9264946746826171, \"count\": 1, \"min\": 0.9264946746826171, \"max\": 0.9264946746826171}}}\u001b[0m\n",
      "\u001b[34m#metrics {\"StartTime\": 1644192365.702535, \"EndTime\": 1644192365.7025497, \"Dimensions\": {\"Algorithm\": \"Linear Learner\", \"Host\": \"algo-1\", \"Operation\": \"training\", \"epoch\": 2, \"model\": 17}, \"Metrics\": {\"train_mse_objective\": {\"sum\": 0.8096585845947266, \"count\": 1, \"min\": 0.8096585845947266, \"max\": 0.8096585845947266}}}\u001b[0m\n",
      "\u001b[34m#metrics {\"StartTime\": 1644192365.7026017, \"EndTime\": 1644192365.7026188, \"Dimensions\": {\"Algorithm\": \"Linear Learner\", \"Host\": \"algo-1\", \"Operation\": \"training\", \"epoch\": 2, \"model\": 18}, \"Metrics\": {\"train_mse_objective\": {\"sum\": 1.1127810668945313, \"count\": 1, \"min\": 1.1127810668945313, \"max\": 1.1127810668945313}}}\u001b[0m\n",
      "\u001b[34m#metrics {\"StartTime\": 1644192365.7026684, \"EndTime\": 1644192365.702684, \"Dimensions\": {\"Algorithm\": \"Linear Learner\", \"Host\": \"algo-1\", \"Operation\": \"training\", \"epoch\": 2, \"model\": 19}, \"Metrics\": {\"train_mse_objective\": {\"sum\": 0.9480191802978516, \"count\": 1, \"min\": 0.9480191802978516, \"max\": 0.9480191802978516}}}\u001b[0m\n",
      "\u001b[34m#metrics {\"StartTime\": 1644192365.7027373, \"EndTime\": 1644192365.7027538, \"Dimensions\": {\"Algorithm\": \"Linear Learner\", \"Host\": \"algo-1\", \"Operation\": \"training\", \"epoch\": 2, \"model\": 20}, \"Metrics\": {\"train_mse_objective\": {\"sum\": 0.8202444458007813, \"count\": 1, \"min\": 0.8202444458007813, \"max\": 0.8202444458007813}}}\u001b[0m\n",
      "\u001b[34m#metrics {\"StartTime\": 1644192365.7028043, \"EndTime\": 1644192365.70282, \"Dimensions\": {\"Algorithm\": \"Linear Learner\", \"Host\": \"algo-1\", \"Operation\": \"training\", \"epoch\": 2, \"model\": 21}, \"Metrics\": {\"train_mse_objective\": {\"sum\": 0.9319273376464844, \"count\": 1, \"min\": 0.9319273376464844, \"max\": 0.9319273376464844}}}\u001b[0m\n",
      "\u001b[34m#metrics {\"StartTime\": 1644192365.7028754, \"EndTime\": 1644192365.7028923, \"Dimensions\": {\"Algorithm\": \"Linear Learner\", \"Host\": \"algo-1\", \"Operation\": \"training\", \"epoch\": 2, \"model\": 22}, \"Metrics\": {\"train_mse_objective\": {\"sum\": 0.8752099609375, \"count\": 1, \"min\": 0.8752099609375, \"max\": 0.8752099609375}}}\u001b[0m\n",
      "\u001b[34m#metrics {\"StartTime\": 1644192365.7029417, \"EndTime\": 1644192365.702958, \"Dimensions\": {\"Algorithm\": \"Linear Learner\", \"Host\": \"algo-1\", \"Operation\": \"training\", \"epoch\": 2, \"model\": 23}, \"Metrics\": {\"train_mse_objective\": {\"sum\": 0.8379305267333984, \"count\": 1, \"min\": 0.8379305267333984, \"max\": 0.8379305267333984}}}\u001b[0m\n",
      "\u001b[34m#metrics {\"StartTime\": 1644192365.7029912, \"EndTime\": 1644192365.703001, \"Dimensions\": {\"Algorithm\": \"Linear Learner\", \"Host\": \"algo-1\", \"Operation\": \"training\", \"epoch\": 2, \"model\": 24}, \"Metrics\": {\"train_mse_objective\": {\"sum\": 0.9635833740234375, \"count\": 1, \"min\": 0.9635833740234375, \"max\": 0.9635833740234375}}}\u001b[0m\n",
      "\u001b[34m#metrics {\"StartTime\": 1644192365.70308, \"EndTime\": 1644192365.703096, \"Dimensions\": {\"Algorithm\": \"Linear Learner\", \"Host\": \"algo-1\", \"Operation\": \"training\", \"epoch\": 2, \"model\": 25}, \"Metrics\": {\"train_mse_objective\": {\"sum\": 0.9821406555175781, \"count\": 1, \"min\": 0.9821406555175781, \"max\": 0.9821406555175781}}}\u001b[0m\n",
      "\u001b[34m#metrics {\"StartTime\": 1644192365.7031467, \"EndTime\": 1644192365.7031636, \"Dimensions\": {\"Algorithm\": \"Linear Learner\", \"Host\": \"algo-1\", \"Operation\": \"training\", \"epoch\": 2, \"model\": 26}, \"Metrics\": {\"train_mse_objective\": {\"sum\": 1.155556411743164, \"count\": 1, \"min\": 1.155556411743164, \"max\": 1.155556411743164}}}\u001b[0m\n",
      "\u001b[34m#metrics {\"StartTime\": 1644192365.703212, \"EndTime\": 1644192365.7032266, \"Dimensions\": {\"Algorithm\": \"Linear Learner\", \"Host\": \"algo-1\", \"Operation\": \"training\", \"epoch\": 2, \"model\": 27}, \"Metrics\": {\"train_mse_objective\": {\"sum\": 1.0945812225341798, \"count\": 1, \"min\": 1.0945812225341798, \"max\": 1.0945812225341798}}}\u001b[0m\n",
      "\u001b[34m#metrics {\"StartTime\": 1644192365.7032802, \"EndTime\": 1644192365.7032974, \"Dimensions\": {\"Algorithm\": \"Linear Learner\", \"Host\": \"algo-1\", \"Operation\": \"training\", \"epoch\": 2, \"model\": 28}, \"Metrics\": {\"train_mse_objective\": {\"sum\": 1.2126824188232421, \"count\": 1, \"min\": 1.2126824188232421, \"max\": 1.2126824188232421}}}\u001b[0m\n",
      "\u001b[34m#metrics {\"StartTime\": 1644192365.7033498, \"EndTime\": 1644192365.7033656, \"Dimensions\": {\"Algorithm\": \"Linear Learner\", \"Host\": \"algo-1\", \"Operation\": \"training\", \"epoch\": 2, \"model\": 29}, \"Metrics\": {\"train_mse_objective\": {\"sum\": 1.267930450439453, \"count\": 1, \"min\": 1.267930450439453, \"max\": 1.267930450439453}}}\u001b[0m\n",
      "\u001b[34m#metrics {\"StartTime\": 1644192365.7034187, \"EndTime\": 1644192365.7034345, \"Dimensions\": {\"Algorithm\": \"Linear Learner\", \"Host\": \"algo-1\", \"Operation\": \"training\", \"epoch\": 2, \"model\": 30}, \"Metrics\": {\"train_mse_objective\": {\"sum\": 1.1433465576171875, \"count\": 1, \"min\": 1.1433465576171875, \"max\": 1.1433465576171875}}}\u001b[0m\n",
      "\u001b[34m#metrics {\"StartTime\": 1644192365.7034895, \"EndTime\": 1644192365.703505, \"Dimensions\": {\"Algorithm\": \"Linear Learner\", \"Host\": \"algo-1\", \"Operation\": \"training\", \"epoch\": 2, \"model\": 31}, \"Metrics\": {\"train_mse_objective\": {\"sum\": 1.1596595001220704, \"count\": 1, \"min\": 1.1596595001220704, \"max\": 1.1596595001220704}}}\u001b[0m\n",
      "\u001b[34m[02/07/2022 00:06:05 INFO 139888956827456] #quality_metric: host=algo-1, epoch=2, train mse_objective <loss>=0.8850932312011719\u001b[0m\n",
      "\u001b[34m#metrics {\"StartTime\": 1644192365.758941, \"EndTime\": 1644192365.7589972, \"Dimensions\": {\"Algorithm\": \"Linear Learner\", \"Host\": \"algo-1\", \"Operation\": \"training\", \"epoch\": 2, \"model\": 0}, \"Metrics\": {\"validation_mse_objective\": {\"sum\": 87.99911063058036, \"count\": 1, \"min\": 87.99911063058036, \"max\": 87.99911063058036}}}\u001b[0m\n",
      "\u001b[34m#metrics {\"StartTime\": 1644192365.7590961, \"EndTime\": 1644192365.7591102, \"Dimensions\": {\"Algorithm\": \"Linear Learner\", \"Host\": \"algo-1\", \"Operation\": \"training\", \"epoch\": 2, \"model\": 1}, \"Metrics\": {\"validation_mse_objective\": {\"sum\": 84.75410679408482, \"count\": 1, \"min\": 84.75410679408482, \"max\": 84.75410679408482}}}\u001b[0m\n",
      "\u001b[34m#metrics {\"StartTime\": 1644192365.759163, \"EndTime\": 1644192365.75918, \"Dimensions\": {\"Algorithm\": \"Linear Learner\", \"Host\": \"algo-1\", \"Operation\": \"training\", \"epoch\": 2, \"model\": 2}, \"Metrics\": {\"validation_mse_objective\": {\"sum\": 126.1197509765625, \"count\": 1, \"min\": 126.1197509765625, \"max\": 126.1197509765625}}}\u001b[0m\n",
      "\u001b[34m#metrics {\"StartTime\": 1644192365.7592351, \"EndTime\": 1644192365.7592516, \"Dimensions\": {\"Algorithm\": \"Linear Learner\", \"Host\": \"algo-1\", \"Operation\": \"training\", \"epoch\": 2, \"model\": 3}, \"Metrics\": {\"validation_mse_objective\": {\"sum\": 78.19734409877232, \"count\": 1, \"min\": 78.19734409877232, \"max\": 78.19734409877232}}}\u001b[0m\n",
      "\u001b[34m#metrics {\"StartTime\": 1644192365.759308, \"EndTime\": 1644192365.759325, \"Dimensions\": {\"Algorithm\": \"Linear Learner\", \"Host\": \"algo-1\", \"Operation\": \"training\", \"epoch\": 2, \"model\": 4}, \"Metrics\": {\"validation_mse_objective\": {\"sum\": 41.170545305524556, \"count\": 1, \"min\": 41.170545305524556, \"max\": 41.170545305524556}}}\u001b[0m\n",
      "\u001b[34m#metrics {\"StartTime\": 1644192365.759377, \"EndTime\": 1644192365.759392, \"Dimensions\": {\"Algorithm\": \"Linear Learner\", \"Host\": \"algo-1\", \"Operation\": \"training\", \"epoch\": 2, \"model\": 5}, \"Metrics\": {\"validation_mse_objective\": {\"sum\": 72.00302124023438, \"count\": 1, \"min\": 72.00302124023438, \"max\": 72.00302124023438}}}\u001b[0m\n",
      "\u001b[34m#metrics {\"StartTime\": 1644192365.759445, \"EndTime\": 1644192365.7594612, \"Dimensions\": {\"Algorithm\": \"Linear Learner\", \"Host\": \"algo-1\", \"Operation\": \"training\", \"epoch\": 2, \"model\": 6}, \"Metrics\": {\"validation_mse_objective\": {\"sum\": 72.14627511160714, \"count\": 1, \"min\": 72.14627511160714, \"max\": 72.14627511160714}}}\u001b[0m\n",
      "\u001b[34m#metrics {\"StartTime\": 1644192365.759513, \"EndTime\": 1644192365.7595286, \"Dimensions\": {\"Algorithm\": \"Linear Learner\", \"Host\": \"algo-1\", \"Operation\": \"training\", \"epoch\": 2, \"model\": 7}, \"Metrics\": {\"validation_mse_objective\": {\"sum\": 66.30288260323661, \"count\": 1, \"min\": 66.30288260323661, \"max\": 66.30288260323661}}}\u001b[0m\n",
      "\u001b[34m#metrics {\"StartTime\": 1644192365.7595806, \"EndTime\": 1644192365.759598, \"Dimensions\": {\"Algorithm\": \"Linear Learner\", \"Host\": \"algo-1\", \"Operation\": \"training\", \"epoch\": 2, \"model\": 8}, \"Metrics\": {\"validation_mse_objective\": {\"sum\": 88.60000174386161, \"count\": 1, \"min\": 88.60000174386161, \"max\": 88.60000174386161}}}\u001b[0m\n",
      "\u001b[34m#metrics {\"StartTime\": 1644192365.759646, \"EndTime\": 1644192365.7596612, \"Dimensions\": {\"Algorithm\": \"Linear Learner\", \"Host\": \"algo-1\", \"Operation\": \"training\", \"epoch\": 2, \"model\": 9}, \"Metrics\": {\"validation_mse_objective\": {\"sum\": 136.63532366071428, \"count\": 1, \"min\": 136.63532366071428, \"max\": 136.63532366071428}}}\u001b[0m\n",
      "\u001b[34m#metrics {\"StartTime\": 1644192365.759713, \"EndTime\": 1644192365.7597296, \"Dimensions\": {\"Algorithm\": \"Linear Learner\", \"Host\": \"algo-1\", \"Operation\": \"training\", \"epoch\": 2, \"model\": 10}, \"Metrics\": {\"validation_mse_objective\": {\"sum\": 81.66557965959821, \"count\": 1, \"min\": 81.66557965959821, \"max\": 81.66557965959821}}}\u001b[0m\n",
      "\u001b[34m#metrics {\"StartTime\": 1644192365.7597892, \"EndTime\": 1644192365.7598064, \"Dimensions\": {\"Algorithm\": \"Linear Learner\", \"Host\": \"algo-1\", \"Operation\": \"training\", \"epoch\": 2, \"model\": 11}, \"Metrics\": {\"validation_mse_objective\": {\"sum\": 113.14583914620536, \"count\": 1, \"min\": 113.14583914620536, \"max\": 113.14583914620536}}}\u001b[0m\n",
      "\u001b[34m#metrics {\"StartTime\": 1644192365.7598562, \"EndTime\": 1644192365.7598724, \"Dimensions\": {\"Algorithm\": \"Linear Learner\", \"Host\": \"algo-1\", \"Operation\": \"training\", \"epoch\": 2, \"model\": 12}, \"Metrics\": {\"validation_mse_objective\": {\"sum\": 59.65370832170759, \"count\": 1, \"min\": 59.65370832170759, \"max\": 59.65370832170759}}}\u001b[0m\n",
      "\u001b[34m#metrics {\"StartTime\": 1644192365.7599237, \"EndTime\": 1644192365.7599401, \"Dimensions\": {\"Algorithm\": \"Linear Learner\", \"Host\": \"algo-1\", \"Operation\": \"training\", \"epoch\": 2, \"model\": 13}, \"Metrics\": {\"validation_mse_objective\": {\"sum\": 59.059112548828125, \"count\": 1, \"min\": 59.059112548828125, \"max\": 59.059112548828125}}}\u001b[0m\n",
      "\u001b[34m#metrics {\"StartTime\": 1644192365.7599921, \"EndTime\": 1644192365.7600098, \"Dimensions\": {\"Algorithm\": \"Linear Learner\", \"Host\": \"algo-1\", \"Operation\": \"training\", \"epoch\": 2, \"model\": 14}, \"Metrics\": {\"validation_mse_objective\": {\"sum\": 41.781258719308035, \"count\": 1, \"min\": 41.781258719308035, \"max\": 41.781258719308035}}}\u001b[0m\n",
      "\u001b[34m#metrics {\"StartTime\": 1644192365.76006, \"EndTime\": 1644192365.7600765, \"Dimensions\": {\"Algorithm\": \"Linear Learner\", \"Host\": \"algo-1\", \"Operation\": \"training\", \"epoch\": 2, \"model\": 15}, \"Metrics\": {\"validation_mse_objective\": {\"sum\": 67.81114414760044, \"count\": 1, \"min\": 67.81114414760044, \"max\": 67.81114414760044}}}\u001b[0m\n",
      "\u001b[34m#metrics {\"StartTime\": 1644192365.7601264, \"EndTime\": 1644192365.7601426, \"Dimensions\": {\"Algorithm\": \"Linear Learner\", \"Host\": \"algo-1\", \"Operation\": \"training\", \"epoch\": 2, \"model\": 16}, \"Metrics\": {\"validation_mse_objective\": {\"sum\": 96.72434779575893, \"count\": 1, \"min\": 96.72434779575893, \"max\": 96.72434779575893}}}\u001b[0m\n",
      "\u001b[34m#metrics {\"StartTime\": 1644192365.760193, \"EndTime\": 1644192365.7602093, \"Dimensions\": {\"Algorithm\": \"Linear Learner\", \"Host\": \"algo-1\", \"Operation\": \"training\", \"epoch\": 2, \"model\": 17}, \"Metrics\": {\"validation_mse_objective\": {\"sum\": 90.07726178850446, \"count\": 1, \"min\": 90.07726178850446, \"max\": 90.07726178850446}}}\u001b[0m\n",
      "\u001b[34m#metrics {\"StartTime\": 1644192365.760261, \"EndTime\": 1644192365.7602782, \"Dimensions\": {\"Algorithm\": \"Linear Learner\", \"Host\": \"algo-1\", \"Operation\": \"training\", \"epoch\": 2, \"model\": 18}, \"Metrics\": {\"validation_mse_objective\": {\"sum\": 115.71383231026786, \"count\": 1, \"min\": 115.71383231026786, \"max\": 115.71383231026786}}}\u001b[0m\n",
      "\u001b[34m#metrics {\"StartTime\": 1644192365.7603312, \"EndTime\": 1644192365.7603474, \"Dimensions\": {\"Algorithm\": \"Linear Learner\", \"Host\": \"algo-1\", \"Operation\": \"training\", \"epoch\": 2, \"model\": 19}, \"Metrics\": {\"validation_mse_objective\": {\"sum\": 95.01926095145089, \"count\": 1, \"min\": 95.01926095145089, \"max\": 95.01926095145089}}}\u001b[0m\n",
      "\u001b[34m#metrics {\"StartTime\": 1644192365.760399, \"EndTime\": 1644192365.7604163, \"Dimensions\": {\"Algorithm\": \"Linear Learner\", \"Host\": \"algo-1\", \"Operation\": \"training\", \"epoch\": 2, \"model\": 20}, \"Metrics\": {\"validation_mse_objective\": {\"sum\": 41.182102748325896, \"count\": 1, \"min\": 41.182102748325896, \"max\": 41.182102748325896}}}\u001b[0m\n",
      "\u001b[34m#metrics {\"StartTime\": 1644192365.7604675, \"EndTime\": 1644192365.7604847, \"Dimensions\": {\"Algorithm\": \"Linear Learner\", \"Host\": \"algo-1\", \"Operation\": \"training\", \"epoch\": 2, \"model\": 21}, \"Metrics\": {\"validation_mse_objective\": {\"sum\": 61.855660574776785, \"count\": 1, \"min\": 61.855660574776785, \"max\": 61.855660574776785}}}\u001b[0m\n",
      "\u001b[34m#metrics {\"StartTime\": 1644192365.7605379, \"EndTime\": 1644192365.760556, \"Dimensions\": {\"Algorithm\": \"Linear Learner\", \"Host\": \"algo-1\", \"Operation\": \"training\", \"epoch\": 2, \"model\": 22}, \"Metrics\": {\"validation_mse_objective\": {\"sum\": 42.68890816824777, \"count\": 1, \"min\": 42.68890816824777, \"max\": 42.68890816824777}}}\u001b[0m\n",
      "\u001b[34m#metrics {\"StartTime\": 1644192365.7606049, \"EndTime\": 1644192365.760621, \"Dimensions\": {\"Algorithm\": \"Linear Learner\", \"Host\": \"algo-1\", \"Operation\": \"training\", \"epoch\": 2, \"model\": 23}, \"Metrics\": {\"validation_mse_objective\": {\"sum\": 38.978685651506694, \"count\": 1, \"min\": 38.978685651506694, \"max\": 38.978685651506694}}}\u001b[0m\n",
      "\u001b[34m#metrics {\"StartTime\": 1644192365.7606754, \"EndTime\": 1644192365.7606914, \"Dimensions\": {\"Algorithm\": \"Linear Learner\", \"Host\": \"algo-1\", \"Operation\": \"training\", \"epoch\": 2, \"model\": 24}, \"Metrics\": {\"validation_mse_objective\": {\"sum\": 101.89099993024554, \"count\": 1, \"min\": 101.89099993024554, \"max\": 101.89099993024554}}}\u001b[0m\n",
      "\u001b[34m#metrics {\"StartTime\": 1644192365.7607424, \"EndTime\": 1644192365.7607589, \"Dimensions\": {\"Algorithm\": \"Linear Learner\", \"Host\": \"algo-1\", \"Operation\": \"training\", \"epoch\": 2, \"model\": 25}, \"Metrics\": {\"validation_mse_objective\": {\"sum\": 103.24680001395089, \"count\": 1, \"min\": 103.24680001395089, \"max\": 103.24680001395089}}}\u001b[0m\n",
      "\u001b[34m#metrics {\"StartTime\": 1644192365.7608123, \"EndTime\": 1644192365.7608292, \"Dimensions\": {\"Algorithm\": \"Linear Learner\", \"Host\": \"algo-1\", \"Operation\": \"training\", \"epoch\": 2, \"model\": 26}, \"Metrics\": {\"validation_mse_objective\": {\"sum\": 117.12825230189732, \"count\": 1, \"min\": 117.12825230189732, \"max\": 117.12825230189732}}}\u001b[0m\n",
      "\u001b[34m#metrics {\"StartTime\": 1644192365.7608795, \"EndTime\": 1644192365.7608964, \"Dimensions\": {\"Algorithm\": \"Linear Learner\", \"Host\": \"algo-1\", \"Operation\": \"training\", \"epoch\": 2, \"model\": 27}, \"Metrics\": {\"validation_mse_objective\": {\"sum\": 118.22644914899554, \"count\": 1, \"min\": 118.22644914899554, \"max\": 118.22644914899554}}}\u001b[0m\n",
      "\u001b[34m#metrics {\"StartTime\": 1644192365.7609491, \"EndTime\": 1644192365.7609653, \"Dimensions\": {\"Algorithm\": \"Linear Learner\", \"Host\": \"algo-1\", \"Operation\": \"training\", \"epoch\": 2, \"model\": 28}, \"Metrics\": {\"validation_mse_objective\": {\"sum\": 105.25458635602679, \"count\": 1, \"min\": 105.25458635602679, \"max\": 105.25458635602679}}}\u001b[0m\n",
      "\u001b[34m#metrics {\"StartTime\": 1644192365.761015, \"EndTime\": 1644192365.761031, \"Dimensions\": {\"Algorithm\": \"Linear Learner\", \"Host\": \"algo-1\", \"Operation\": \"training\", \"epoch\": 2, \"model\": 29}, \"Metrics\": {\"validation_mse_objective\": {\"sum\": 98.66264997209821, \"count\": 1, \"min\": 98.66264997209821, \"max\": 98.66264997209821}}}\u001b[0m\n",
      "\u001b[34m#metrics {\"StartTime\": 1644192365.761082, \"EndTime\": 1644192365.761099, \"Dimensions\": {\"Algorithm\": \"Linear Learner\", \"Host\": \"algo-1\", \"Operation\": \"training\", \"epoch\": 2, \"model\": 30}, \"Metrics\": {\"validation_mse_objective\": {\"sum\": 99.22350202287946, \"count\": 1, \"min\": 99.22350202287946, \"max\": 99.22350202287946}}}\u001b[0m\n",
      "\u001b[34m#metrics {\"StartTime\": 1644192365.7611492, \"EndTime\": 1644192365.7611651, \"Dimensions\": {\"Algorithm\": \"Linear Learner\", \"Host\": \"algo-1\", \"Operation\": \"training\", \"epoch\": 2, \"model\": 31}, \"Metrics\": {\"validation_mse_objective\": {\"sum\": 102.36151123046875, \"count\": 1, \"min\": 102.36151123046875, \"max\": 102.36151123046875}}}\u001b[0m\n",
      "\u001b[34m[02/07/2022 00:06:05 INFO 139888956827456] #quality_metric: host=algo-1, epoch=2, validation mse_objective <loss>=87.99911063058036\u001b[0m\n",
      "\u001b[34m[02/07/2022 00:06:05 INFO 139888956827456] #early_stopping_criteria_metric: host=algo-1, epoch=2, criteria=mse_objective, value=38.978685651506694\u001b[0m\n",
      "\u001b[34m[02/07/2022 00:06:05 INFO 139888956827456] Epoch 2: Loss improved. Updating best model\u001b[0m\n",
      "\u001b[34m[02/07/2022 00:06:05 INFO 139888956827456] Saving model for epoch: 2\u001b[0m\n",
      "\u001b[34m[02/07/2022 00:06:05 INFO 139888956827456] Saved checkpoint to \"/tmp/tmperbq_iqf/mx-mod-0000.params\"\u001b[0m\n",
      "\u001b[34m[02/07/2022 00:06:05 INFO 139888956827456] #progress_metric: host=algo-1, completed 20.0 % of epochs\u001b[0m\n",
      "\u001b[34m#metrics {\"StartTime\": 1644192365.6684372, \"EndTime\": 1644192365.7706015, \"Dimensions\": {\"Algorithm\": \"Linear Learner\", \"Host\": \"algo-1\", \"Operation\": \"training\", \"epoch\": 2, \"Meta\": \"training_data_iter\"}, \"Metrics\": {\"Total Records Seen\": {\"sum\": 1108.0, \"count\": 1, \"min\": 1108, \"max\": 1108}, \"Total Batches Seen\": {\"sum\": 9.0, \"count\": 1, \"min\": 9, \"max\": 9}, \"Max Records Seen Between Resets\": {\"sum\": 227.0, \"count\": 1, \"min\": 227, \"max\": 227}, \"Max Batches Seen Between Resets\": {\"sum\": 2.0, \"count\": 1, \"min\": 2, \"max\": 2}, \"Reset Count\": {\"sum\": 5.0, \"count\": 1, \"min\": 5, \"max\": 5}, \"Number of Records Since Last Reset\": {\"sum\": 227.0, \"count\": 1, \"min\": 227, \"max\": 227}, \"Number of Batches Since Last Reset\": {\"sum\": 2.0, \"count\": 1, \"min\": 2, \"max\": 2}}}\u001b[0m\n",
      "\u001b[34m[02/07/2022 00:06:05 INFO 139888956827456] #throughput_metric: host=algo-1, train throughput=2216.1092288713544 records/second\u001b[0m\n",
      "\u001b[34m#metrics {\"StartTime\": 1644192365.8171372, \"EndTime\": 1644192365.8172288, \"Dimensions\": {\"Algorithm\": \"Linear Learner\", \"Host\": \"algo-1\", \"Operation\": \"training\", \"epoch\": 3, \"model\": 0}, \"Metrics\": {\"train_mse_objective\": {\"sum\": 0.8417509460449218, \"count\": 1, \"min\": 0.8417509460449218, \"max\": 0.8417509460449218}}}\u001b[0m\n",
      "\u001b[34m#metrics {\"StartTime\": 1644192365.8173327, \"EndTime\": 1644192365.817416, \"Dimensions\": {\"Algorithm\": \"Linear Learner\", \"Host\": \"algo-1\", \"Operation\": \"training\", \"epoch\": 3, \"model\": 1}, \"Metrics\": {\"train_mse_objective\": {\"sum\": 0.7707562255859375, \"count\": 1, \"min\": 0.7707562255859375, \"max\": 0.7707562255859375}}}\u001b[0m\n",
      "\u001b[34m#metrics {\"StartTime\": 1644192365.8174963, \"EndTime\": 1644192365.8175142, \"Dimensions\": {\"Algorithm\": \"Linear Learner\", \"Host\": \"algo-1\", \"Operation\": \"training\", \"epoch\": 3, \"model\": 2}, \"Metrics\": {\"train_mse_objective\": {\"sum\": 1.1353486633300782, \"count\": 1, \"min\": 1.1353486633300782, \"max\": 1.1353486633300782}}}\u001b[0m\n",
      "\u001b[34m#metrics {\"StartTime\": 1644192365.8176823, \"EndTime\": 1644192365.817703, \"Dimensions\": {\"Algorithm\": \"Linear Learner\", \"Host\": \"algo-1\", \"Operation\": \"training\", \"epoch\": 3, \"model\": 3}, \"Metrics\": {\"train_mse_objective\": {\"sum\": 0.7783462524414062, \"count\": 1, \"min\": 0.7783462524414062, \"max\": 0.7783462524414062}}}\u001b[0m\n",
      "\u001b[34m#metrics {\"StartTime\": 1644192365.8177626, \"EndTime\": 1644192365.8177776, \"Dimensions\": {\"Algorithm\": \"Linear Learner\", \"Host\": \"algo-1\", \"Operation\": \"training\", \"epoch\": 3, \"model\": 4}, \"Metrics\": {\"train_mse_objective\": {\"sum\": 0.3701320648193359, \"count\": 1, \"min\": 0.3701320648193359, \"max\": 0.3701320648193359}}}\u001b[0m\n",
      "\u001b[34m#metrics {\"StartTime\": 1644192365.8178282, \"EndTime\": 1644192365.8178427, \"Dimensions\": {\"Algorithm\": \"Linear Learner\", \"Host\": \"algo-1\", \"Operation\": \"training\", \"epoch\": 3, \"model\": 5}, \"Metrics\": {\"train_mse_objective\": {\"sum\": 0.5519988250732422, \"count\": 1, \"min\": 0.5519988250732422, \"max\": 0.5519988250732422}}}\u001b[0m\n",
      "\u001b[34m#metrics {\"StartTime\": 1644192365.8178918, \"EndTime\": 1644192365.8179064, \"Dimensions\": {\"Algorithm\": \"Linear Learner\", \"Host\": \"algo-1\", \"Operation\": \"training\", \"epoch\": 3, \"model\": 6}, \"Metrics\": {\"train_mse_objective\": {\"sum\": 0.5675323104858399, \"count\": 1, \"min\": 0.5675323104858399, \"max\": 0.5675323104858399}}}\u001b[0m\n",
      "\u001b[34m#metrics {\"StartTime\": 1644192365.8179557, \"EndTime\": 1644192365.81797, \"Dimensions\": {\"Algorithm\": \"Linear Learner\", \"Host\": \"algo-1\", \"Operation\": \"training\", \"epoch\": 3, \"model\": 7}, \"Metrics\": {\"train_mse_objective\": {\"sum\": 0.5471500778198242, \"count\": 1, \"min\": 0.5471500778198242, \"max\": 0.5471500778198242}}}\u001b[0m\n",
      "\u001b[34m#metrics {\"StartTime\": 1644192365.8180315, \"EndTime\": 1644192365.8180468, \"Dimensions\": {\"Algorithm\": \"Linear Learner\", \"Host\": \"algo-1\", \"Operation\": \"training\", \"epoch\": 3, \"model\": 8}, \"Metrics\": {\"train_mse_objective\": {\"sum\": 0.8375286102294922, \"count\": 1, \"min\": 0.8375286102294922, \"max\": 0.8375286102294922}}}\u001b[0m\n",
      "\u001b[34m#metrics {\"StartTime\": 1644192365.8180974, \"EndTime\": 1644192365.8181117, \"Dimensions\": {\"Algorithm\": \"Linear Learner\", \"Host\": \"algo-1\", \"Operation\": \"training\", \"epoch\": 3, \"model\": 9}, \"Metrics\": {\"train_mse_objective\": {\"sum\": 1.1917349243164062, \"count\": 1, \"min\": 1.1917349243164062, \"max\": 1.1917349243164062}}}\u001b[0m\n",
      "\u001b[34m#metrics {\"StartTime\": 1644192365.818171, \"EndTime\": 1644192365.8181858, \"Dimensions\": {\"Algorithm\": \"Linear Learner\", \"Host\": \"algo-1\", \"Operation\": \"training\", \"epoch\": 3, \"model\": 10}, \"Metrics\": {\"train_mse_objective\": {\"sum\": 0.7866519927978516, \"count\": 1, \"min\": 0.7866519927978516, \"max\": 0.7866519927978516}}}\u001b[0m\n",
      "\u001b[34m#metrics {\"StartTime\": 1644192365.818245, \"EndTime\": 1644192365.8182602, \"Dimensions\": {\"Algorithm\": \"Linear Learner\", \"Host\": \"algo-1\", \"Operation\": \"training\", \"epoch\": 3, \"model\": 11}, \"Metrics\": {\"train_mse_objective\": {\"sum\": 0.9679470825195312, \"count\": 1, \"min\": 0.9679470825195312, \"max\": 0.9679470825195312}}}\u001b[0m\n",
      "\u001b[34m#metrics {\"StartTime\": 1644192365.8183088, \"EndTime\": 1644192365.8183224, \"Dimensions\": {\"Algorithm\": \"Linear Learner\", \"Host\": \"algo-1\", \"Operation\": \"training\", \"epoch\": 3, \"model\": 12}, \"Metrics\": {\"train_mse_objective\": {\"sum\": 0.4730206298828125, \"count\": 1, \"min\": 0.4730206298828125, \"max\": 0.4730206298828125}}}\u001b[0m\n",
      "\u001b[34m#metrics {\"StartTime\": 1644192365.8183687, \"EndTime\": 1644192365.8183823, \"Dimensions\": {\"Algorithm\": \"Linear Learner\", \"Host\": \"algo-1\", \"Operation\": \"training\", \"epoch\": 3, \"model\": 13}, \"Metrics\": {\"train_mse_objective\": {\"sum\": 0.46002197265625, \"count\": 1, \"min\": 0.46002197265625, \"max\": 0.46002197265625}}}\u001b[0m\n",
      "\u001b[34m#metrics {\"StartTime\": 1644192365.8184302, \"EndTime\": 1644192365.8184435, \"Dimensions\": {\"Algorithm\": \"Linear Learner\", \"Host\": \"algo-1\", \"Operation\": \"training\", \"epoch\": 3, \"model\": 14}, \"Metrics\": {\"train_mse_objective\": {\"sum\": 0.3823760223388672, \"count\": 1, \"min\": 0.3823760223388672, \"max\": 0.3823760223388672}}}\u001b[0m\n",
      "\u001b[34m#metrics {\"StartTime\": 1644192365.8184905, \"EndTime\": 1644192365.8185048, \"Dimensions\": {\"Algorithm\": \"Linear Learner\", \"Host\": \"algo-1\", \"Operation\": \"training\", \"epoch\": 3, \"model\": 15}, \"Metrics\": {\"train_mse_objective\": {\"sum\": 0.5249006271362304, \"count\": 1, \"min\": 0.5249006271362304, \"max\": 0.5249006271362304}}}\u001b[0m\n",
      "\u001b[34m#metrics {\"StartTime\": 1644192365.8185513, \"EndTime\": 1644192365.8185644, \"Dimensions\": {\"Algorithm\": \"Linear Learner\", \"Host\": \"algo-1\", \"Operation\": \"training\", \"epoch\": 3, \"model\": 16}, \"Metrics\": {\"train_mse_objective\": {\"sum\": 0.8816094970703126, \"count\": 1, \"min\": 0.8816094970703126, \"max\": 0.8816094970703126}}}\u001b[0m\n",
      "\u001b[34m#metrics {\"StartTime\": 1644192365.8186119, \"EndTime\": 1644192365.818625, \"Dimensions\": {\"Algorithm\": \"Linear Learner\", \"Host\": \"algo-1\", \"Operation\": \"training\", \"epoch\": 3, \"model\": 17}, \"Metrics\": {\"train_mse_objective\": {\"sum\": 0.7762123107910156, \"count\": 1, \"min\": 0.7762123107910156, \"max\": 0.7762123107910156}}}\u001b[0m\n",
      "\u001b[34m#metrics {\"StartTime\": 1644192365.8186703, \"EndTime\": 1644192365.818683, \"Dimensions\": {\"Algorithm\": \"Linear Learner\", \"Host\": \"algo-1\", \"Operation\": \"training\", \"epoch\": 3, \"model\": 18}, \"Metrics\": {\"train_mse_objective\": {\"sum\": 1.0633402252197266, \"count\": 1, \"min\": 1.0633402252197266, \"max\": 1.0633402252197266}}}\u001b[0m\n",
      "\u001b[34m#metrics {\"StartTime\": 1644192365.8187277, \"EndTime\": 1644192365.8187401, \"Dimensions\": {\"Algorithm\": \"Linear Learner\", \"Host\": \"algo-1\", \"Operation\": \"training\", \"epoch\": 3, \"model\": 19}, \"Metrics\": {\"train_mse_objective\": {\"sum\": 0.904649658203125, \"count\": 1, \"min\": 0.904649658203125, \"max\": 0.904649658203125}}}\u001b[0m\n",
      "\u001b[34m#metrics {\"StartTime\": 1644192365.8187845, \"EndTime\": 1644192365.818797, \"Dimensions\": {\"Algorithm\": \"Linear Learner\", \"Host\": \"algo-1\", \"Operation\": \"training\", \"epoch\": 3, \"model\": 20}, \"Metrics\": {\"train_mse_objective\": {\"sum\": 0.35991161346435546, \"count\": 1, \"min\": 0.35991161346435546, \"max\": 0.35991161346435546}}}\u001b[0m\n",
      "\u001b[34m#metrics {\"StartTime\": 1644192365.8188438, \"EndTime\": 1644192365.8188567, \"Dimensions\": {\"Algorithm\": \"Linear Learner\", \"Host\": \"algo-1\", \"Operation\": \"training\", \"epoch\": 3, \"model\": 21}, \"Metrics\": {\"train_mse_objective\": {\"sum\": 0.4982318115234375, \"count\": 1, \"min\": 0.4982318115234375, \"max\": 0.4982318115234375}}}\u001b[0m\n",
      "\u001b[34m#metrics {\"StartTime\": 1644192365.8189147, \"EndTime\": 1644192365.818929, \"Dimensions\": {\"Algorithm\": \"Linear Learner\", \"Host\": \"algo-1\", \"Operation\": \"training\", \"epoch\": 3, \"model\": 22}, \"Metrics\": {\"train_mse_objective\": {\"sum\": 0.3571187973022461, \"count\": 1, \"min\": 0.3571187973022461, \"max\": 0.3571187973022461}}}\u001b[0m\n",
      "\u001b[34m#metrics {\"StartTime\": 1644192365.818975, \"EndTime\": 1644192365.8189874, \"Dimensions\": {\"Algorithm\": \"Linear Learner\", \"Host\": \"algo-1\", \"Operation\": \"training\", \"epoch\": 3, \"model\": 23}, \"Metrics\": {\"train_mse_objective\": {\"sum\": 0.36117866516113284, \"count\": 1, \"min\": 0.36117866516113284, \"max\": 0.36117866516113284}}}\u001b[0m\n",
      "\u001b[34m#metrics {\"StartTime\": 1644192365.819083, \"EndTime\": 1644192365.8191, \"Dimensions\": {\"Algorithm\": \"Linear Learner\", \"Host\": \"algo-1\", \"Operation\": \"training\", \"epoch\": 3, \"model\": 24}, \"Metrics\": {\"train_mse_objective\": {\"sum\": 0.9578987121582031, \"count\": 1, \"min\": 0.9578987121582031, \"max\": 0.9578987121582031}}}\u001b[0m\n",
      "\u001b[34m#metrics {\"StartTime\": 1644192365.8191533, \"EndTime\": 1644192365.819168, \"Dimensions\": {\"Algorithm\": \"Linear Learner\", \"Host\": \"algo-1\", \"Operation\": \"training\", \"epoch\": 3, \"model\": 25}, \"Metrics\": {\"train_mse_objective\": {\"sum\": 0.9830339813232422, \"count\": 1, \"min\": 0.9830339813232422, \"max\": 0.9830339813232422}}}\u001b[0m\n",
      "\u001b[34m#metrics {\"StartTime\": 1644192365.819215, \"EndTime\": 1644192365.819229, \"Dimensions\": {\"Algorithm\": \"Linear Learner\", \"Host\": \"algo-1\", \"Operation\": \"training\", \"epoch\": 3, \"model\": 26}, \"Metrics\": {\"train_mse_objective\": {\"sum\": 1.1149925231933593, \"count\": 1, \"min\": 1.1149925231933593, \"max\": 1.1149925231933593}}}\u001b[0m\n",
      "\u001b[34m#metrics {\"StartTime\": 1644192365.8192875, \"EndTime\": 1644192365.8193047, \"Dimensions\": {\"Algorithm\": \"Linear Learner\", \"Host\": \"algo-1\", \"Operation\": \"training\", \"epoch\": 3, \"model\": 27}, \"Metrics\": {\"train_mse_objective\": {\"sum\": 1.0788259887695313, \"count\": 1, \"min\": 1.0788259887695313, \"max\": 1.0788259887695313}}}\u001b[0m\n",
      "\u001b[34m#metrics {\"StartTime\": 1644192365.8193603, \"EndTime\": 1644192365.8193762, \"Dimensions\": {\"Algorithm\": \"Linear Learner\", \"Host\": \"algo-1\", \"Operation\": \"training\", \"epoch\": 3, \"model\": 28}, \"Metrics\": {\"train_mse_objective\": {\"sum\": 0.9522994995117188, \"count\": 1, \"min\": 0.9522994995117188, \"max\": 0.9522994995117188}}}\u001b[0m\n",
      "\u001b[34m#metrics {\"StartTime\": 1644192365.819431, \"EndTime\": 1644192365.819446, \"Dimensions\": {\"Algorithm\": \"Linear Learner\", \"Host\": \"algo-1\", \"Operation\": \"training\", \"epoch\": 3, \"model\": 29}, \"Metrics\": {\"train_mse_objective\": {\"sum\": 0.9007488250732422, \"count\": 1, \"min\": 0.9007488250732422, \"max\": 0.9007488250732422}}}\u001b[0m\n",
      "\u001b[34m#metrics {\"StartTime\": 1644192365.8194942, \"EndTime\": 1644192365.8195074, \"Dimensions\": {\"Algorithm\": \"Linear Learner\", \"Host\": \"algo-1\", \"Operation\": \"training\", \"epoch\": 3, \"model\": 30}, \"Metrics\": {\"train_mse_objective\": {\"sum\": 0.9256614685058594, \"count\": 1, \"min\": 0.9256614685058594, \"max\": 0.9256614685058594}}}\u001b[0m\n",
      "\u001b[34m#metrics {\"StartTime\": 1644192365.819555, \"EndTime\": 1644192365.8195693, \"Dimensions\": {\"Algorithm\": \"Linear Learner\", \"Host\": \"algo-1\", \"Operation\": \"training\", \"epoch\": 3, \"model\": 31}, \"Metrics\": {\"train_mse_objective\": {\"sum\": 0.9448085021972656, \"count\": 1, \"min\": 0.9448085021972656, \"max\": 0.9448085021972656}}}\u001b[0m\n",
      "\u001b[34m[02/07/2022 00:06:05 INFO 139888956827456] #quality_metric: host=algo-1, epoch=3, train mse_objective <loss>=0.8417509460449218\u001b[0m\n",
      "\u001b[34m#metrics {\"StartTime\": 1644192365.894583, \"EndTime\": 1644192365.8946733, \"Dimensions\": {\"Algorithm\": \"Linear Learner\", \"Host\": \"algo-1\", \"Operation\": \"training\", \"epoch\": 3, \"model\": 0}, \"Metrics\": {\"validation_mse_objective\": {\"sum\": 83.91934640066964, \"count\": 1, \"min\": 83.91934640066964, \"max\": 83.91934640066964}}}\u001b[0m\n",
      "\u001b[34m#metrics {\"StartTime\": 1644192365.8947864, \"EndTime\": 1644192365.894807, \"Dimensions\": {\"Algorithm\": \"Linear Learner\", \"Host\": \"algo-1\", \"Operation\": \"training\", \"epoch\": 3, \"model\": 1}, \"Metrics\": {\"validation_mse_objective\": {\"sum\": 81.31345912388393, \"count\": 1, \"min\": 81.31345912388393, \"max\": 81.31345912388393}}}\u001b[0m\n",
      "\u001b[34m#metrics {\"StartTime\": 1644192365.8948636, \"EndTime\": 1644192365.8948789, \"Dimensions\": {\"Algorithm\": \"Linear Learner\", \"Host\": \"algo-1\", \"Operation\": \"training\", \"epoch\": 3, \"model\": 2}, \"Metrics\": {\"validation_mse_objective\": {\"sum\": 119.40480259486607, \"count\": 1, \"min\": 119.40480259486607, \"max\": 119.40480259486607}}}\u001b[0m\n",
      "\u001b[34m#metrics {\"StartTime\": 1644192365.8949409, \"EndTime\": 1644192365.894957, \"Dimensions\": {\"Algorithm\": \"Linear Learner\", \"Host\": \"algo-1\", \"Operation\": \"training\", \"epoch\": 3, \"model\": 3}, \"Metrics\": {\"validation_mse_objective\": {\"sum\": 75.60747419084821, \"count\": 1, \"min\": 75.60747419084821, \"max\": 75.60747419084821}}}\u001b[0m\n",
      "\u001b[34m#metrics {\"StartTime\": 1644192365.8950098, \"EndTime\": 1644192365.8950493, \"Dimensions\": {\"Algorithm\": \"Linear Learner\", \"Host\": \"algo-1\", \"Operation\": \"training\", \"epoch\": 3, \"model\": 4}, \"Metrics\": {\"validation_mse_objective\": {\"sum\": 49.36954607282366, \"count\": 1, \"min\": 49.36954607282366, \"max\": 49.36954607282366}}}\u001b[0m\n",
      "\u001b[34m#metrics {\"StartTime\": 1644192365.8951063, \"EndTime\": 1644192365.8951333, \"Dimensions\": {\"Algorithm\": \"Linear Learner\", \"Host\": \"algo-1\", \"Operation\": \"training\", \"epoch\": 3, \"model\": 5}, \"Metrics\": {\"validation_mse_objective\": {\"sum\": 60.70375714983259, \"count\": 1, \"min\": 60.70375714983259, \"max\": 60.70375714983259}}}\u001b[0m\n",
      "\u001b[34m#metrics {\"StartTime\": 1644192365.8951862, \"EndTime\": 1644192365.8952012, \"Dimensions\": {\"Algorithm\": \"Linear Learner\", \"Host\": \"algo-1\", \"Operation\": \"training\", \"epoch\": 3, \"model\": 6}, \"Metrics\": {\"validation_mse_objective\": {\"sum\": 58.888558523995535, \"count\": 1, \"min\": 58.888558523995535, \"max\": 58.888558523995535}}}\u001b[0m\n",
      "\u001b[34m#metrics {\"StartTime\": 1644192365.895264, \"EndTime\": 1644192365.8952801, \"Dimensions\": {\"Algorithm\": \"Linear Learner\", \"Host\": \"algo-1\", \"Operation\": \"training\", \"epoch\": 3, \"model\": 7}, \"Metrics\": {\"validation_mse_objective\": {\"sum\": 54.64808872767857, \"count\": 1, \"min\": 54.64808872767857, \"max\": 54.64808872767857}}}\u001b[0m\n",
      "\u001b[34m#metrics {\"StartTime\": 1644192365.895329, \"EndTime\": 1644192365.895343, \"Dimensions\": {\"Algorithm\": \"Linear Learner\", \"Host\": \"algo-1\", \"Operation\": \"training\", \"epoch\": 3, \"model\": 8}, \"Metrics\": {\"validation_mse_objective\": {\"sum\": 85.42102922712054, \"count\": 1, \"min\": 85.42102922712054, \"max\": 85.42102922712054}}}\u001b[0m\n",
      "\u001b[34m#metrics {\"StartTime\": 1644192365.8953989, \"EndTime\": 1644192365.8954139, \"Dimensions\": {\"Algorithm\": \"Linear Learner\", \"Host\": \"algo-1\", \"Operation\": \"training\", \"epoch\": 3, \"model\": 9}, \"Metrics\": {\"validation_mse_objective\": {\"sum\": 129.35591343470983, \"count\": 1, \"min\": 129.35591343470983, \"max\": 129.35591343470983}}}\u001b[0m\n",
      "\u001b[34m#metrics {\"StartTime\": 1644192365.8954718, \"EndTime\": 1644192365.895487, \"Dimensions\": {\"Algorithm\": \"Linear Learner\", \"Host\": \"algo-1\", \"Operation\": \"training\", \"epoch\": 3, \"model\": 10}, \"Metrics\": {\"validation_mse_objective\": {\"sum\": 78.96425955636161, \"count\": 1, \"min\": 78.96425955636161, \"max\": 78.96425955636161}}}\u001b[0m\n",
      "\u001b[34m#metrics {\"StartTime\": 1644192365.8955376, \"EndTime\": 1644192365.8955522, \"Dimensions\": {\"Algorithm\": \"Linear Learner\", \"Host\": \"algo-1\", \"Operation\": \"training\", \"epoch\": 3, \"model\": 11}, \"Metrics\": {\"validation_mse_objective\": {\"sum\": 107.75998360770089, \"count\": 1, \"min\": 107.75998360770089, \"max\": 107.75998360770089}}}\u001b[0m\n",
      "\u001b[34m#metrics {\"StartTime\": 1644192365.8955994, \"EndTime\": 1644192365.8956134, \"Dimensions\": {\"Algorithm\": \"Linear Learner\", \"Host\": \"algo-1\", \"Operation\": \"training\", \"epoch\": 3, \"model\": 12}, \"Metrics\": {\"validation_mse_objective\": {\"sum\": 56.102931431361604, \"count\": 1, \"min\": 56.102931431361604, \"max\": 56.102931431361604}}}\u001b[0m\n",
      "\u001b[34m#metrics {\"StartTime\": 1644192365.8956606, \"EndTime\": 1644192365.8956747, \"Dimensions\": {\"Algorithm\": \"Linear Learner\", \"Host\": \"algo-1\", \"Operation\": \"training\", \"epoch\": 3, \"model\": 13}, \"Metrics\": {\"validation_mse_objective\": {\"sum\": 52.80467006138393, \"count\": 1, \"min\": 52.80467006138393, \"max\": 52.80467006138393}}}\u001b[0m\n",
      "\u001b[34m#metrics {\"StartTime\": 1644192365.8957314, \"EndTime\": 1644192365.8957467, \"Dimensions\": {\"Algorithm\": \"Linear Learner\", \"Host\": \"algo-1\", \"Operation\": \"training\", \"epoch\": 3, \"model\": 14}, \"Metrics\": {\"validation_mse_objective\": {\"sum\": 50.33603777204241, \"count\": 1, \"min\": 50.33603777204241, \"max\": 50.33603777204241}}}\u001b[0m\n",
      "\u001b[34m#metrics {\"StartTime\": 1644192365.8957946, \"EndTime\": 1644192365.8958082, \"Dimensions\": {\"Algorithm\": \"Linear Learner\", \"Host\": \"algo-1\", \"Operation\": \"training\", \"epoch\": 3, \"model\": 15}, \"Metrics\": {\"validation_mse_objective\": {\"sum\": 61.814976283482146, \"count\": 1, \"min\": 61.814976283482146, \"max\": 61.814976283482146}}}\u001b[0m\n",
      "\u001b[34m#metrics {\"StartTime\": 1644192365.895859, \"EndTime\": 1644192365.8958743, \"Dimensions\": {\"Algorithm\": \"Linear Learner\", \"Host\": \"algo-1\", \"Operation\": \"training\", \"epoch\": 3, \"model\": 16}, \"Metrics\": {\"validation_mse_objective\": {\"sum\": 92.52167619977679, \"count\": 1, \"min\": 92.52167619977679, \"max\": 92.52167619977679}}}\u001b[0m\n",
      "\u001b[34m#metrics {\"StartTime\": 1644192365.8959217, \"EndTime\": 1644192365.8959355, \"Dimensions\": {\"Algorithm\": \"Linear Learner\", \"Host\": \"algo-1\", \"Operation\": \"training\", \"epoch\": 3, \"model\": 17}, \"Metrics\": {\"validation_mse_objective\": {\"sum\": 86.39208112444196, \"count\": 1, \"min\": 86.39208112444196, \"max\": 86.39208112444196}}}\u001b[0m\n",
      "\u001b[34m#metrics {\"StartTime\": 1644192365.8959904, \"EndTime\": 1644192365.8960047, \"Dimensions\": {\"Algorithm\": \"Linear Learner\", \"Host\": \"algo-1\", \"Operation\": \"training\", \"epoch\": 3, \"model\": 18}, \"Metrics\": {\"validation_mse_objective\": {\"sum\": 110.65017264229911, \"count\": 1, \"min\": 110.65017264229911, \"max\": 110.65017264229911}}}\u001b[0m\n",
      "\u001b[34m#metrics {\"StartTime\": 1644192365.8960617, \"EndTime\": 1644192365.896076, \"Dimensions\": {\"Algorithm\": \"Linear Learner\", \"Host\": \"algo-1\", \"Operation\": \"training\", \"epoch\": 3, \"model\": 19}, \"Metrics\": {\"validation_mse_objective\": {\"sum\": 91.12554931640625, \"count\": 1, \"min\": 91.12554931640625, \"max\": 91.12554931640625}}}\u001b[0m\n",
      "\u001b[34m#metrics {\"StartTime\": 1644192365.8961256, \"EndTime\": 1644192365.8961387, \"Dimensions\": {\"Algorithm\": \"Linear Learner\", \"Host\": \"algo-1\", \"Operation\": \"training\", \"epoch\": 3, \"model\": 20}, \"Metrics\": {\"validation_mse_objective\": {\"sum\": 67.13915579659599, \"count\": 1, \"min\": 67.13915579659599, \"max\": 67.13915579659599}}}\u001b[0m\n",
      "\u001b[34m#metrics {\"StartTime\": 1644192365.8961854, \"EndTime\": 1644192365.8961985, \"Dimensions\": {\"Algorithm\": \"Linear Learner\", \"Host\": \"algo-1\", \"Operation\": \"training\", \"epoch\": 3, \"model\": 21}, \"Metrics\": {\"validation_mse_objective\": {\"sum\": 54.291172572544646, \"count\": 1, \"min\": 54.291172572544646, \"max\": 54.291172572544646}}}\u001b[0m\n",
      "\u001b[34m#metrics {\"StartTime\": 1644192365.896243, \"EndTime\": 1644192365.896256, \"Dimensions\": {\"Algorithm\": \"Linear Learner\", \"Host\": \"algo-1\", \"Operation\": \"training\", \"epoch\": 3, \"model\": 22}, \"Metrics\": {\"validation_mse_objective\": {\"sum\": 69.81203787667411, \"count\": 1, \"min\": 69.81203787667411, \"max\": 69.81203787667411}}}\u001b[0m\n",
      "\u001b[34m#metrics {\"StartTime\": 1644192365.8963125, \"EndTime\": 1644192365.8963265, \"Dimensions\": {\"Algorithm\": \"Linear Learner\", \"Host\": \"algo-1\", \"Operation\": \"training\", \"epoch\": 3, \"model\": 23}, \"Metrics\": {\"validation_mse_objective\": {\"sum\": 58.041207449776785, \"count\": 1, \"min\": 58.041207449776785, \"max\": 58.041207449776785}}}\u001b[0m\n",
      "\u001b[34m#metrics {\"StartTime\": 1644192365.8963733, \"EndTime\": 1644192365.8963876, \"Dimensions\": {\"Algorithm\": \"Linear Learner\", \"Host\": \"algo-1\", \"Operation\": \"training\", \"epoch\": 3, \"model\": 24}, \"Metrics\": {\"validation_mse_objective\": {\"sum\": 102.78036063058036, \"count\": 1, \"min\": 102.78036063058036, \"max\": 102.78036063058036}}}\u001b[0m\n",
      "\u001b[34m#metrics {\"StartTime\": 1644192365.8964467, \"EndTime\": 1644192365.8964608, \"Dimensions\": {\"Algorithm\": \"Linear Learner\", \"Host\": \"algo-1\", \"Operation\": \"training\", \"epoch\": 3, \"model\": 25}, \"Metrics\": {\"validation_mse_objective\": {\"sum\": 104.11227852957589, \"count\": 1, \"min\": 104.11227852957589, \"max\": 104.11227852957589}}}\u001b[0m\n",
      "\u001b[34m#metrics {\"StartTime\": 1644192365.8965106, \"EndTime\": 1644192365.8965237, \"Dimensions\": {\"Algorithm\": \"Linear Learner\", \"Host\": \"algo-1\", \"Operation\": \"training\", \"epoch\": 3, \"model\": 26}, \"Metrics\": {\"validation_mse_objective\": {\"sum\": 113.65516008649554, \"count\": 1, \"min\": 113.65516008649554, \"max\": 113.65516008649554}}}\u001b[0m\n",
      "\u001b[34m#metrics {\"StartTime\": 1644192365.8965805, \"EndTime\": 1644192365.8965945, \"Dimensions\": {\"Algorithm\": \"Linear Learner\", \"Host\": \"algo-1\", \"Operation\": \"training\", \"epoch\": 3, \"model\": 27}, \"Metrics\": {\"validation_mse_objective\": {\"sum\": 116.90934535435268, \"count\": 1, \"min\": 116.90934535435268, \"max\": 116.90934535435268}}}\u001b[0m\n",
      "\u001b[34m#metrics {\"StartTime\": 1644192365.896641, \"EndTime\": 1644192365.896654, \"Dimensions\": {\"Algorithm\": \"Linear Learner\", \"Host\": \"algo-1\", \"Operation\": \"training\", \"epoch\": 3, \"model\": 28}, \"Metrics\": {\"validation_mse_objective\": {\"sum\": 124.07313755580357, \"count\": 1, \"min\": 124.07313755580357, \"max\": 124.07313755580357}}}\u001b[0m\n",
      "\u001b[34m#metrics {\"StartTime\": 1644192365.8967097, \"EndTime\": 1644192365.8967235, \"Dimensions\": {\"Algorithm\": \"Linear Learner\", \"Host\": \"algo-1\", \"Operation\": \"training\", \"epoch\": 3, \"model\": 29}, \"Metrics\": {\"validation_mse_objective\": {\"sum\": 104.23042515345982, \"count\": 1, \"min\": 104.23042515345982, \"max\": 104.23042515345982}}}\u001b[0m\n",
      "\u001b[34m#metrics {\"StartTime\": 1644192365.8967721, \"EndTime\": 1644192365.8967857, \"Dimensions\": {\"Algorithm\": \"Linear Learner\", \"Host\": \"algo-1\", \"Operation\": \"training\", \"epoch\": 3, \"model\": 30}, \"Metrics\": {\"validation_mse_objective\": {\"sum\": 128.7529558454241, \"count\": 1, \"min\": 128.7529558454241, \"max\": 128.7529558454241}}}\u001b[0m\n",
      "\u001b[34m#metrics {\"StartTime\": 1644192365.8968313, \"EndTime\": 1644192365.8968444, \"Dimensions\": {\"Algorithm\": \"Linear Learner\", \"Host\": \"algo-1\", \"Operation\": \"training\", \"epoch\": 3, \"model\": 31}, \"Metrics\": {\"validation_mse_objective\": {\"sum\": 130.79420689174108, \"count\": 1, \"min\": 130.79420689174108, \"max\": 130.79420689174108}}}\u001b[0m\n",
      "\u001b[34m[02/07/2022 00:06:05 INFO 139888956827456] #quality_metric: host=algo-1, epoch=3, validation mse_objective <loss>=83.91934640066964\u001b[0m\n",
      "\u001b[34m[02/07/2022 00:06:05 INFO 139888956827456] #early_stopping_criteria_metric: host=algo-1, epoch=3, criteria=mse_objective, value=49.36954607282366\u001b[0m\n",
      "\u001b[34m[02/07/2022 00:06:05 INFO 139888956827456] Saving model for epoch: 3\u001b[0m\n",
      "\u001b[34m[02/07/2022 00:06:05 INFO 139888956827456] Saved checkpoint to \"/tmp/tmpe8l0sv69/mx-mod-0000.params\"\u001b[0m\n",
      "\u001b[34m[02/07/2022 00:06:05 INFO 139888956827456] #progress_metric: host=algo-1, completed 26.666666666666668 % of epochs\u001b[0m\n",
      "\u001b[34m#metrics {\"StartTime\": 1644192365.771186, \"EndTime\": 1644192365.9052882, \"Dimensions\": {\"Algorithm\": \"Linear Learner\", \"Host\": \"algo-1\", \"Operation\": \"training\", \"epoch\": 3, \"Meta\": \"training_data_iter\"}, \"Metrics\": {\"Total Records Seen\": {\"sum\": 1335.0, \"count\": 1, \"min\": 1335, \"max\": 1335}, \"Total Batches Seen\": {\"sum\": 11.0, \"count\": 1, \"min\": 11, \"max\": 11}, \"Max Records Seen Between Resets\": {\"sum\": 227.0, \"count\": 1, \"min\": 227, \"max\": 227}, \"Max Batches Seen Between Resets\": {\"sum\": 2.0, \"count\": 1, \"min\": 2, \"max\": 2}, \"Reset Count\": {\"sum\": 6.0, \"count\": 1, \"min\": 6, \"max\": 6}, \"Number of Records Since Last Reset\": {\"sum\": 227.0, \"count\": 1, \"min\": 227, \"max\": 227}, \"Number of Batches Since Last Reset\": {\"sum\": 2.0, \"count\": 1, \"min\": 2, \"max\": 2}}}\u001b[0m\n",
      "\u001b[34m[02/07/2022 00:06:05 INFO 139888956827456] #throughput_metric: host=algo-1, train throughput=1690.687009453998 records/second\u001b[0m\n",
      "\u001b[34m#metrics {\"StartTime\": 1644192365.944775, \"EndTime\": 1644192365.9448323, \"Dimensions\": {\"Algorithm\": \"Linear Learner\", \"Host\": \"algo-1\", \"Operation\": \"training\", \"epoch\": 4, \"model\": 0}, \"Metrics\": {\"train_mse_objective\": {\"sum\": 0.803362045288086, \"count\": 1, \"min\": 0.803362045288086, \"max\": 0.803362045288086}}}\u001b[0m\n",
      "\u001b[34m#metrics {\"StartTime\": 1644192365.944911, \"EndTime\": 1644192365.9449248, \"Dimensions\": {\"Algorithm\": \"Linear Learner\", \"Host\": \"algo-1\", \"Operation\": \"training\", \"epoch\": 4, \"model\": 1}, \"Metrics\": {\"train_mse_objective\": {\"sum\": 0.7401646423339844, \"count\": 1, \"min\": 0.7401646423339844, \"max\": 0.7401646423339844}}}\u001b[0m\n",
      "\u001b[34m#metrics {\"StartTime\": 1644192365.9449885, \"EndTime\": 1644192365.9450006, \"Dimensions\": {\"Algorithm\": \"Linear Learner\", \"Host\": \"algo-1\", \"Operation\": \"training\", \"epoch\": 4, \"model\": 2}, \"Metrics\": {\"train_mse_objective\": {\"sum\": 1.0781429290771485, \"count\": 1, \"min\": 1.0781429290771485, \"max\": 1.0781429290771485}}}\u001b[0m\n",
      "\u001b[34m#metrics {\"StartTime\": 1644192365.9450555, \"EndTime\": 1644192365.9450722, \"Dimensions\": {\"Algorithm\": \"Linear Learner\", \"Host\": \"algo-1\", \"Operation\": \"training\", \"epoch\": 4, \"model\": 3}, \"Metrics\": {\"train_mse_objective\": {\"sum\": 0.7473445892333984, \"count\": 1, \"min\": 0.7473445892333984, \"max\": 0.7473445892333984}}}\u001b[0m\n",
      "\u001b[34m#metrics {\"StartTime\": 1644192365.9451392, \"EndTime\": 1644192365.945157, \"Dimensions\": {\"Algorithm\": \"Linear Learner\", \"Host\": \"algo-1\", \"Operation\": \"training\", \"epoch\": 4, \"model\": 4}, \"Metrics\": {\"train_mse_objective\": {\"sum\": 0.46543968200683594, \"count\": 1, \"min\": 0.46543968200683594, \"max\": 0.46543968200683594}}}\u001b[0m\n",
      "\u001b[34m#metrics {\"StartTime\": 1644192365.9452183, \"EndTime\": 1644192365.9452348, \"Dimensions\": {\"Algorithm\": \"Linear Learner\", \"Host\": \"algo-1\", \"Operation\": \"training\", \"epoch\": 4, \"model\": 5}, \"Metrics\": {\"train_mse_objective\": {\"sum\": 0.5082807159423828, \"count\": 1, \"min\": 0.5082807159423828, \"max\": 0.5082807159423828}}}\u001b[0m\n",
      "\u001b[34m#metrics {\"StartTime\": 1644192365.9452882, \"EndTime\": 1644192365.9453056, \"Dimensions\": {\"Algorithm\": \"Linear Learner\", \"Host\": \"algo-1\", \"Operation\": \"training\", \"epoch\": 4, \"model\": 6}, \"Metrics\": {\"train_mse_objective\": {\"sum\": 0.47954540252685546, \"count\": 1, \"min\": 0.47954540252685546, \"max\": 0.47954540252685546}}}\u001b[0m\n",
      "\u001b[34m#metrics {\"StartTime\": 1644192365.94536, \"EndTime\": 1644192365.9453757, \"Dimensions\": {\"Algorithm\": \"Linear Learner\", \"Host\": \"algo-1\", \"Operation\": \"training\", \"epoch\": 4, \"model\": 7}, \"Metrics\": {\"train_mse_objective\": {\"sum\": 0.46473121643066406, \"count\": 1, \"min\": 0.46473121643066406, \"max\": 0.46473121643066406}}}\u001b[0m\n",
      "\u001b[34m#metrics {\"StartTime\": 1644192365.9454372, \"EndTime\": 1644192365.945454, \"Dimensions\": {\"Algorithm\": \"Linear Learner\", \"Host\": \"algo-1\", \"Operation\": \"training\", \"epoch\": 4, \"model\": 8}, \"Metrics\": {\"train_mse_objective\": {\"sum\": 0.8064583587646484, \"count\": 1, \"min\": 0.8064583587646484, \"max\": 0.8064583587646484}}}\u001b[0m\n",
      "\u001b[34m#metrics {\"StartTime\": 1644192365.9454975, \"EndTime\": 1644192365.9455125, \"Dimensions\": {\"Algorithm\": \"Linear Learner\", \"Host\": \"algo-1\", \"Operation\": \"training\", \"epoch\": 4, \"model\": 9}, \"Metrics\": {\"train_mse_objective\": {\"sum\": 1.131249008178711, \"count\": 1, \"min\": 1.131249008178711, \"max\": 1.131249008178711}}}\u001b[0m\n",
      "\u001b[34m#metrics {\"StartTime\": 1644192365.945565, \"EndTime\": 1644192365.9455802, \"Dimensions\": {\"Algorithm\": \"Linear Learner\", \"Host\": \"algo-1\", \"Operation\": \"training\", \"epoch\": 4, \"model\": 10}, \"Metrics\": {\"train_mse_objective\": {\"sum\": 0.7583131408691406, \"count\": 1, \"min\": 0.7583131408691406, \"max\": 0.7583131408691406}}}\u001b[0m\n",
      "\u001b[34m#metrics {\"StartTime\": 1644192365.9456332, \"EndTime\": 1644192365.9456496, \"Dimensions\": {\"Algorithm\": \"Linear Learner\", \"Host\": \"algo-1\", \"Operation\": \"training\", \"epoch\": 4, \"model\": 11}, \"Metrics\": {\"train_mse_objective\": {\"sum\": 0.9251282501220703, \"count\": 1, \"min\": 0.9251282501220703, \"max\": 0.9251282501220703}}}\u001b[0m\n",
      "\u001b[34m#metrics {\"StartTime\": 1644192365.945703, \"EndTime\": 1644192365.9457197, \"Dimensions\": {\"Algorithm\": \"Linear Learner\", \"Host\": \"algo-1\", \"Operation\": \"training\", \"epoch\": 4, \"model\": 12}, \"Metrics\": {\"train_mse_objective\": {\"sum\": 0.45876914978027344, \"count\": 1, \"min\": 0.45876914978027344, \"max\": 0.45876914978027344}}}\u001b[0m\n",
      "\u001b[34m#metrics {\"StartTime\": 1644192365.945771, \"EndTime\": 1644192365.9457867, \"Dimensions\": {\"Algorithm\": \"Linear Learner\", \"Host\": \"algo-1\", \"Operation\": \"training\", \"epoch\": 4, \"model\": 13}, \"Metrics\": {\"train_mse_objective\": {\"sum\": 0.4336803436279297, \"count\": 1, \"min\": 0.4336803436279297, \"max\": 0.4336803436279297}}}\u001b[0m\n",
      "\u001b[34m#metrics {\"StartTime\": 1644192365.94584, \"EndTime\": 1644192365.9458554, \"Dimensions\": {\"Algorithm\": \"Linear Learner\", \"Host\": \"algo-1\", \"Operation\": \"training\", \"epoch\": 4, \"model\": 14}, \"Metrics\": {\"train_mse_objective\": {\"sum\": 0.4848576736450195, \"count\": 1, \"min\": 0.4848576736450195, \"max\": 0.4848576736450195}}}\u001b[0m\n",
      "\u001b[34m#metrics {\"StartTime\": 1644192365.945919, \"EndTime\": 1644192365.945935, \"Dimensions\": {\"Algorithm\": \"Linear Learner\", \"Host\": \"algo-1\", \"Operation\": \"training\", \"epoch\": 4, \"model\": 15}, \"Metrics\": {\"train_mse_objective\": {\"sum\": 0.5081505584716797, \"count\": 1, \"min\": 0.5081505584716797, \"max\": 0.5081505584716797}}}\u001b[0m\n",
      "\u001b[34m#metrics {\"StartTime\": 1644192365.94598, \"EndTime\": 1644192365.9459913, \"Dimensions\": {\"Algorithm\": \"Linear Learner\", \"Host\": \"algo-1\", \"Operation\": \"training\", \"epoch\": 4, \"model\": 16}, \"Metrics\": {\"train_mse_objective\": {\"sum\": 0.8412191009521485, \"count\": 1, \"min\": 0.8412191009521485, \"max\": 0.8412191009521485}}}\u001b[0m\n",
      "\u001b[34m#metrics {\"StartTime\": 1644192365.9460468, \"EndTime\": 1644192365.9460623, \"Dimensions\": {\"Algorithm\": \"Linear Learner\", \"Host\": \"algo-1\", \"Operation\": \"training\", \"epoch\": 4, \"model\": 17}, \"Metrics\": {\"train_mse_objective\": {\"sum\": 0.7466289520263671, \"count\": 1, \"min\": 0.7466289520263671, \"max\": 0.7466289520263671}}}\u001b[0m\n",
      "\u001b[34m#metrics {\"StartTime\": 1644192365.94613, \"EndTime\": 1644192365.9461455, \"Dimensions\": {\"Algorithm\": \"Linear Learner\", \"Host\": \"algo-1\", \"Operation\": \"training\", \"epoch\": 4, \"model\": 18}, \"Metrics\": {\"train_mse_objective\": {\"sum\": 1.0186239624023437, \"count\": 1, \"min\": 1.0186239624023437, \"max\": 1.0186239624023437}}}\u001b[0m\n",
      "\u001b[34m#metrics {\"StartTime\": 1644192365.9462001, \"EndTime\": 1644192365.946215, \"Dimensions\": {\"Algorithm\": \"Linear Learner\", \"Host\": \"algo-1\", \"Operation\": \"training\", \"epoch\": 4, \"model\": 19}, \"Metrics\": {\"train_mse_objective\": {\"sum\": 0.8663433074951172, \"count\": 1, \"min\": 0.8663433074951172, \"max\": 0.8663433074951172}}}\u001b[0m\n",
      "\u001b[34m#metrics {\"StartTime\": 1644192365.9462674, \"EndTime\": 1644192365.9462833, \"Dimensions\": {\"Algorithm\": \"Linear Learner\", \"Host\": \"algo-1\", \"Operation\": \"training\", \"epoch\": 4, \"model\": 20}, \"Metrics\": {\"train_mse_objective\": {\"sum\": 0.5905255889892578, \"count\": 1, \"min\": 0.5905255889892578, \"max\": 0.5905255889892578}}}\u001b[0m\n",
      "\u001b[34m#metrics {\"StartTime\": 1644192365.9463363, \"EndTime\": 1644192365.9463522, \"Dimensions\": {\"Algorithm\": \"Linear Learner\", \"Host\": \"algo-1\", \"Operation\": \"training\", \"epoch\": 4, \"model\": 21}, \"Metrics\": {\"train_mse_objective\": {\"sum\": 0.43413185119628905, \"count\": 1, \"min\": 0.43413185119628905, \"max\": 0.43413185119628905}}}\u001b[0m\n",
      "\u001b[34m#metrics {\"StartTime\": 1644192365.9464037, \"EndTime\": 1644192365.9464197, \"Dimensions\": {\"Algorithm\": \"Linear Learner\", \"Host\": \"algo-1\", \"Operation\": \"training\", \"epoch\": 4, \"model\": 22}, \"Metrics\": {\"train_mse_objective\": {\"sum\": 0.6011471939086914, \"count\": 1, \"min\": 0.6011471939086914, \"max\": 0.6011471939086914}}}\u001b[0m\n",
      "\u001b[34m#metrics {\"StartTime\": 1644192365.9464777, \"EndTime\": 1644192365.9464931, \"Dimensions\": {\"Algorithm\": \"Linear Learner\", \"Host\": \"algo-1\", \"Operation\": \"training\", \"epoch\": 4, \"model\": 23}, \"Metrics\": {\"train_mse_objective\": {\"sum\": 0.5409020614624024, \"count\": 1, \"min\": 0.5409020614624024, \"max\": 0.5409020614624024}}}\u001b[0m\n",
      "\u001b[34m#metrics {\"StartTime\": 1644192365.946545, \"EndTime\": 1644192365.9465606, \"Dimensions\": {\"Algorithm\": \"Linear Learner\", \"Host\": \"algo-1\", \"Operation\": \"training\", \"epoch\": 4, \"model\": 24}, \"Metrics\": {\"train_mse_objective\": {\"sum\": 0.9580036163330078, \"count\": 1, \"min\": 0.9580036163330078, \"max\": 0.9580036163330078}}}\u001b[0m\n",
      "\u001b[34m#metrics {\"StartTime\": 1644192365.946612, \"EndTime\": 1644192365.9466276, \"Dimensions\": {\"Algorithm\": \"Linear Learner\", \"Host\": \"algo-1\", \"Operation\": \"training\", \"epoch\": 4, \"model\": 25}, \"Metrics\": {\"train_mse_objective\": {\"sum\": 0.9822682189941406, \"count\": 1, \"min\": 0.9822682189941406, \"max\": 0.9822682189941406}}}\u001b[0m\n",
      "\u001b[34m#metrics {\"StartTime\": 1644192365.9466722, \"EndTime\": 1644192365.946687, \"Dimensions\": {\"Algorithm\": \"Linear Learner\", \"Host\": \"algo-1\", \"Operation\": \"training\", \"epoch\": 4, \"model\": 26}, \"Metrics\": {\"train_mse_objective\": {\"sum\": 1.0789842224121093, \"count\": 1, \"min\": 1.0789842224121093, \"max\": 1.0789842224121093}}}\u001b[0m\n",
      "\u001b[34m#metrics {\"StartTime\": 1644192365.9467413, \"EndTime\": 1644192365.946758, \"Dimensions\": {\"Algorithm\": \"Linear Learner\", \"Host\": \"algo-1\", \"Operation\": \"training\", \"epoch\": 4, \"model\": 27}, \"Metrics\": {\"train_mse_objective\": {\"sum\": 1.0616756439208985, \"count\": 1, \"min\": 1.0616756439208985, \"max\": 1.0616756439208985}}}\u001b[0m\n",
      "\u001b[34m#metrics {\"StartTime\": 1644192365.9468653, \"EndTime\": 1644192365.9468837, \"Dimensions\": {\"Algorithm\": \"Linear Learner\", \"Host\": \"algo-1\", \"Operation\": \"training\", \"epoch\": 4, \"model\": 28}, \"Metrics\": {\"train_mse_objective\": {\"sum\": 1.1055745697021484, \"count\": 1, \"min\": 1.1055745697021484, \"max\": 1.1055745697021484}}}\u001b[0m\n",
      "\u001b[34m#metrics {\"StartTime\": 1644192365.9469278, \"EndTime\": 1644192365.9469376, \"Dimensions\": {\"Algorithm\": \"Linear Learner\", \"Host\": \"algo-1\", \"Operation\": \"training\", \"epoch\": 4, \"model\": 29}, \"Metrics\": {\"train_mse_objective\": {\"sum\": 0.9675852203369141, \"count\": 1, \"min\": 0.9675852203369141, \"max\": 0.9675852203369141}}}\u001b[0m\n",
      "\u001b[34m#metrics {\"StartTime\": 1644192365.9469657, \"EndTime\": 1644192365.9469798, \"Dimensions\": {\"Algorithm\": \"Linear Learner\", \"Host\": \"algo-1\", \"Operation\": \"training\", \"epoch\": 4, \"model\": 30}, \"Metrics\": {\"train_mse_objective\": {\"sum\": 1.1807530975341798, \"count\": 1, \"min\": 1.1807530975341798, \"max\": 1.1807530975341798}}}\u001b[0m\n",
      "\u001b[34m#metrics {\"StartTime\": 1644192365.947065, \"EndTime\": 1644192365.9470785, \"Dimensions\": {\"Algorithm\": \"Linear Learner\", \"Host\": \"algo-1\", \"Operation\": \"training\", \"epoch\": 4, \"model\": 31}, \"Metrics\": {\"train_mse_objective\": {\"sum\": 1.119607162475586, \"count\": 1, \"min\": 1.119607162475586, \"max\": 1.119607162475586}}}\u001b[0m\n",
      "\u001b[34m[02/07/2022 00:06:05 INFO 139888956827456] #quality_metric: host=algo-1, epoch=4, train mse_objective <loss>=0.803362045288086\u001b[0m\n",
      "\u001b[34m#metrics {\"StartTime\": 1644192365.9990141, \"EndTime\": 1644192365.9990904, \"Dimensions\": {\"Algorithm\": \"Linear Learner\", \"Host\": \"algo-1\", \"Operation\": \"training\", \"epoch\": 4, \"model\": 0}, \"Metrics\": {\"validation_mse_objective\": {\"sum\": 80.09337506975446, \"count\": 1, \"min\": 80.09337506975446, \"max\": 80.09337506975446}}}\u001b[0m\n",
      "\u001b[34m#metrics {\"StartTime\": 1644192365.9991767, \"EndTime\": 1644192365.999191, \"Dimensions\": {\"Algorithm\": \"Linear Learner\", \"Host\": \"algo-1\", \"Operation\": \"training\", \"epoch\": 4, \"model\": 1}, \"Metrics\": {\"validation_mse_objective\": {\"sum\": 78.114013671875, \"count\": 1, \"min\": 78.114013671875, \"max\": 78.114013671875}}}\u001b[0m\n",
      "\u001b[34m#metrics {\"StartTime\": 1644192365.9992259, \"EndTime\": 1644192365.9992352, \"Dimensions\": {\"Algorithm\": \"Linear Learner\", \"Host\": \"algo-1\", \"Operation\": \"training\", \"epoch\": 4, \"model\": 2}, \"Metrics\": {\"validation_mse_objective\": {\"sum\": 112.90682547433036, \"count\": 1, \"min\": 112.90682547433036, \"max\": 112.90682547433036}}}\u001b[0m\n",
      "\u001b[34m#metrics {\"StartTime\": 1644192365.9992726, \"EndTime\": 1644192365.9992874, \"Dimensions\": {\"Algorithm\": \"Linear Learner\", \"Host\": \"algo-1\", \"Operation\": \"training\", \"epoch\": 4, \"model\": 3}, \"Metrics\": {\"validation_mse_objective\": {\"sum\": 73.05552455357143, \"count\": 1, \"min\": 73.05552455357143, \"max\": 73.05552455357143}}}\u001b[0m\n",
      "\u001b[34m#metrics {\"StartTime\": 1644192365.9993494, \"EndTime\": 1644192365.9993653, \"Dimensions\": {\"Algorithm\": \"Linear Learner\", \"Host\": \"algo-1\", \"Operation\": \"training\", \"epoch\": 4, \"model\": 4}, \"Metrics\": {\"validation_mse_objective\": {\"sum\": 59.032884870256694, \"count\": 1, \"min\": 59.032884870256694, \"max\": 59.032884870256694}}}\u001b[0m\n",
      "\u001b[34m#metrics {\"StartTime\": 1644192365.9994211, \"EndTime\": 1644192365.9994366, \"Dimensions\": {\"Algorithm\": \"Linear Learner\", \"Host\": \"algo-1\", \"Operation\": \"training\", \"epoch\": 4, \"model\": 5}, \"Metrics\": {\"validation_mse_objective\": {\"sum\": 53.318359375, \"count\": 1, \"min\": 53.318359375, \"max\": 53.318359375}}}\u001b[0m\n",
      "\u001b[34m#metrics {\"StartTime\": 1644192365.9994848, \"EndTime\": 1644192365.9995, \"Dimensions\": {\"Algorithm\": \"Linear Learner\", \"Host\": \"algo-1\", \"Operation\": \"training\", \"epoch\": 4, \"model\": 6}, \"Metrics\": {\"validation_mse_objective\": {\"sum\": 52.794446672712056, \"count\": 1, \"min\": 52.794446672712056, \"max\": 52.794446672712056}}}\u001b[0m\n",
      "\u001b[34m#metrics {\"StartTime\": 1644192365.999553, \"EndTime\": 1644192365.9995692, \"Dimensions\": {\"Algorithm\": \"Linear Learner\", \"Host\": \"algo-1\", \"Operation\": \"training\", \"epoch\": 4, \"model\": 7}, \"Metrics\": {\"validation_mse_objective\": {\"sum\": 52.017735072544646, \"count\": 1, \"min\": 52.017735072544646, \"max\": 52.017735072544646}}}\u001b[0m\n",
      "\u001b[34m#metrics {\"StartTime\": 1644192365.9996345, \"EndTime\": 1644192365.9996505, \"Dimensions\": {\"Algorithm\": \"Linear Learner\", \"Host\": \"algo-1\", \"Operation\": \"training\", \"epoch\": 4, \"model\": 8}, \"Metrics\": {\"validation_mse_objective\": {\"sum\": 82.42755998883929, \"count\": 1, \"min\": 82.42755998883929, \"max\": 82.42755998883929}}}\u001b[0m\n",
      "\u001b[34m#metrics {\"StartTime\": 1644192365.9996998, \"EndTime\": 1644192365.9997141, \"Dimensions\": {\"Algorithm\": \"Linear Learner\", \"Host\": \"algo-1\", \"Operation\": \"training\", \"epoch\": 4, \"model\": 9}, \"Metrics\": {\"validation_mse_objective\": {\"sum\": 122.31158447265625, \"count\": 1, \"min\": 122.31158447265625, \"max\": 122.31158447265625}}}\u001b[0m\n",
      "\u001b[34m#metrics {\"StartTime\": 1644192365.9997647, \"EndTime\": 1644192365.9997797, \"Dimensions\": {\"Algorithm\": \"Linear Learner\", \"Host\": \"algo-1\", \"Operation\": \"training\", \"epoch\": 4, \"model\": 10}, \"Metrics\": {\"validation_mse_objective\": {\"sum\": 76.32764543805804, \"count\": 1, \"min\": 76.32764543805804, \"max\": 76.32764543805804}}}\u001b[0m\n",
      "\u001b[34m#metrics {\"StartTime\": 1644192365.9998333, \"EndTime\": 1644192365.9998493, \"Dimensions\": {\"Algorithm\": \"Linear Learner\", \"Host\": \"algo-1\", \"Operation\": \"training\", \"epoch\": 4, \"model\": 11}, \"Metrics\": {\"validation_mse_objective\": {\"sum\": 102.73093959263393, \"count\": 1, \"min\": 102.73093959263393, \"max\": 102.73093959263393}}}\u001b[0m\n",
      "\u001b[34m#metrics {\"StartTime\": 1644192365.9998884, \"EndTime\": 1644192365.9999027, \"Dimensions\": {\"Algorithm\": \"Linear Learner\", \"Host\": \"algo-1\", \"Operation\": \"training\", \"epoch\": 4, \"model\": 12}, \"Metrics\": {\"validation_mse_objective\": {\"sum\": 59.5252685546875, \"count\": 1, \"min\": 59.5252685546875, \"max\": 59.5252685546875}}}\u001b[0m\n",
      "\u001b[34m#metrics {\"StartTime\": 1644192365.9999547, \"EndTime\": 1644192365.99997, \"Dimensions\": {\"Algorithm\": \"Linear Learner\", \"Host\": \"algo-1\", \"Operation\": \"training\", \"epoch\": 4, \"model\": 13}, \"Metrics\": {\"validation_mse_objective\": {\"sum\": 55.645333426339285, \"count\": 1, \"min\": 55.645333426339285, \"max\": 55.645333426339285}}}\u001b[0m\n",
      "\u001b[34m#metrics {\"StartTime\": 1644192366.0000212, \"EndTime\": 1644192366.0000358, \"Dimensions\": {\"Algorithm\": \"Linear Learner\", \"Host\": \"algo-1\", \"Operation\": \"training\", \"epoch\": 4, \"model\": 14}, \"Metrics\": {\"validation_mse_objective\": {\"sum\": 58.55839320591518, \"count\": 1, \"min\": 58.55839320591518, \"max\": 58.55839320591518}}}\u001b[0m\n",
      "\u001b[34m#metrics {\"StartTime\": 1644192366.000084, \"EndTime\": 1644192366.0000982, \"Dimensions\": {\"Algorithm\": \"Linear Learner\", \"Host\": \"algo-1\", \"Operation\": \"training\", \"epoch\": 4, \"model\": 15}, \"Metrics\": {\"validation_mse_objective\": {\"sum\": 59.95112827845982, \"count\": 1, \"min\": 59.95112827845982, \"max\": 59.95112827845982}}}\u001b[0m\n",
      "\u001b[34m#metrics {\"StartTime\": 1644192366.0001516, \"EndTime\": 1644192366.000167, \"Dimensions\": {\"Algorithm\": \"Linear Learner\", \"Host\": \"algo-1\", \"Operation\": \"training\", \"epoch\": 4, \"model\": 16}, \"Metrics\": {\"validation_mse_objective\": {\"sum\": 88.42543247767857, \"count\": 1, \"min\": 88.42543247767857, \"max\": 88.42543247767857}}}\u001b[0m\n",
      "\u001b[34m#metrics {\"StartTime\": 1644192366.0002162, \"EndTime\": 1644192366.0002325, \"Dimensions\": {\"Algorithm\": \"Linear Learner\", \"Host\": \"algo-1\", \"Operation\": \"training\", \"epoch\": 4, \"model\": 17}, \"Metrics\": {\"validation_mse_objective\": {\"sum\": 82.96820940290179, \"count\": 1, \"min\": 82.96820940290179, \"max\": 82.96820940290179}}}\u001b[0m\n",
      "\u001b[34m#metrics {\"StartTime\": 1644192366.0002983, \"EndTime\": 1644192366.0003157, \"Dimensions\": {\"Algorithm\": \"Linear Learner\", \"Host\": \"algo-1\", \"Operation\": \"training\", \"epoch\": 4, \"model\": 18}, \"Metrics\": {\"validation_mse_objective\": {\"sum\": 105.72210693359375, \"count\": 1, \"min\": 105.72210693359375, \"max\": 105.72210693359375}}}\u001b[0m\n",
      "\u001b[34m#metrics {\"StartTime\": 1644192366.0003817, \"EndTime\": 1644192366.000399, \"Dimensions\": {\"Algorithm\": \"Linear Learner\", \"Host\": \"algo-1\", \"Operation\": \"training\", \"epoch\": 4, \"model\": 19}, \"Metrics\": {\"validation_mse_objective\": {\"sum\": 87.31998988560268, \"count\": 1, \"min\": 87.31998988560268, \"max\": 87.31998988560268}}}\u001b[0m\n",
      "\u001b[34m#metrics {\"StartTime\": 1644192366.0004659, \"EndTime\": 1644192366.0004838, \"Dimensions\": {\"Algorithm\": \"Linear Learner\", \"Host\": \"algo-1\", \"Operation\": \"training\", \"epoch\": 4, \"model\": 20}, \"Metrics\": {\"validation_mse_objective\": {\"sum\": 69.09369332449776, \"count\": 1, \"min\": 69.09369332449776, \"max\": 69.09369332449776}}}\u001b[0m\n",
      "\u001b[34m#metrics {\"StartTime\": 1644192366.0005345, \"EndTime\": 1644192366.000548, \"Dimensions\": {\"Algorithm\": \"Linear Learner\", \"Host\": \"algo-1\", \"Operation\": \"training\", \"epoch\": 4, \"model\": 21}, \"Metrics\": {\"validation_mse_objective\": {\"sum\": 60.061793736049104, \"count\": 1, \"min\": 60.061793736049104, \"max\": 60.061793736049104}}}\u001b[0m\n",
      "\u001b[34m#metrics {\"StartTime\": 1644192366.0005774, \"EndTime\": 1644192366.0005856, \"Dimensions\": {\"Algorithm\": \"Linear Learner\", \"Host\": \"algo-1\", \"Operation\": \"training\", \"epoch\": 4, \"model\": 22}, \"Metrics\": {\"validation_mse_objective\": {\"sum\": 79.78223528180804, \"count\": 1, \"min\": 79.78223528180804, \"max\": 79.78223528180804}}}\u001b[0m\n",
      "\u001b[34m#metrics {\"StartTime\": 1644192366.0006323, \"EndTime\": 1644192366.0006478, \"Dimensions\": {\"Algorithm\": \"Linear Learner\", \"Host\": \"algo-1\", \"Operation\": \"training\", \"epoch\": 4, \"model\": 23}, \"Metrics\": {\"validation_mse_objective\": {\"sum\": 70.37643432617188, \"count\": 1, \"min\": 70.37643432617188, \"max\": 70.37643432617188}}}\u001b[0m\n",
      "\u001b[34m#metrics {\"StartTime\": 1644192366.0007107, \"EndTime\": 1644192366.000729, \"Dimensions\": {\"Algorithm\": \"Linear Learner\", \"Host\": \"algo-1\", \"Operation\": \"training\", \"epoch\": 4, \"model\": 24}, \"Metrics\": {\"validation_mse_objective\": {\"sum\": 103.8216552734375, \"count\": 1, \"min\": 103.8216552734375, \"max\": 103.8216552734375}}}\u001b[0m\n",
      "\u001b[34m#metrics {\"StartTime\": 1644192366.0007823, \"EndTime\": 1644192366.000799, \"Dimensions\": {\"Algorithm\": \"Linear Learner\", \"Host\": \"algo-1\", \"Operation\": \"training\", \"epoch\": 4, \"model\": 25}, \"Metrics\": {\"validation_mse_objective\": {\"sum\": 104.45558384486607, \"count\": 1, \"min\": 104.45558384486607, \"max\": 104.45558384486607}}}\u001b[0m\n",
      "\u001b[34m#metrics {\"StartTime\": 1644192366.0008543, \"EndTime\": 1644192366.000869, \"Dimensions\": {\"Algorithm\": \"Linear Learner\", \"Host\": \"algo-1\", \"Operation\": \"training\", \"epoch\": 4, \"model\": 26}, \"Metrics\": {\"validation_mse_objective\": {\"sum\": 110.41666085379464, \"count\": 1, \"min\": 110.41666085379464, \"max\": 110.41666085379464}}}\u001b[0m\n",
      "\u001b[34m#metrics {\"StartTime\": 1644192366.0009346, \"EndTime\": 1644192366.0009513, \"Dimensions\": {\"Algorithm\": \"Linear Learner\", \"Host\": \"algo-1\", \"Operation\": \"training\", \"epoch\": 4, \"model\": 27}, \"Metrics\": {\"validation_mse_objective\": {\"sum\": 114.93818010602679, \"count\": 1, \"min\": 114.93818010602679, \"max\": 114.93818010602679}}}\u001b[0m\n",
      "\u001b[34m#metrics {\"StartTime\": 1644192366.0010078, \"EndTime\": 1644192366.0010226, \"Dimensions\": {\"Algorithm\": \"Linear Learner\", \"Host\": \"algo-1\", \"Operation\": \"training\", \"epoch\": 4, \"model\": 28}, \"Metrics\": {\"validation_mse_objective\": {\"sum\": 131.05721609933036, \"count\": 1, \"min\": 131.05721609933036, \"max\": 131.05721609933036}}}\u001b[0m\n",
      "\u001b[34m#metrics {\"StartTime\": 1644192366.0010855, \"EndTime\": 1644192366.0011032, \"Dimensions\": {\"Algorithm\": \"Linear Learner\", \"Host\": \"algo-1\", \"Operation\": \"training\", \"epoch\": 4, \"model\": 29}, \"Metrics\": {\"validation_mse_objective\": {\"sum\": 114.32870047433036, \"count\": 1, \"min\": 114.32870047433036, \"max\": 114.32870047433036}}}\u001b[0m\n",
      "\u001b[34m#metrics {\"StartTime\": 1644192366.0011718, \"EndTime\": 1644192366.0011895, \"Dimensions\": {\"Algorithm\": \"Linear Learner\", \"Host\": \"algo-1\", \"Operation\": \"training\", \"epoch\": 4, \"model\": 30}, \"Metrics\": {\"validation_mse_objective\": {\"sum\": 142.1631120954241, \"count\": 1, \"min\": 142.1631120954241, \"max\": 142.1631120954241}}}\u001b[0m\n",
      "\u001b[34m#metrics {\"StartTime\": 1644192366.001257, \"EndTime\": 1644192366.0012743, \"Dimensions\": {\"Algorithm\": \"Linear Learner\", \"Host\": \"algo-1\", \"Operation\": \"training\", \"epoch\": 4, \"model\": 31}, \"Metrics\": {\"validation_mse_objective\": {\"sum\": 140.3437238420759, \"count\": 1, \"min\": 140.3437238420759, \"max\": 140.3437238420759}}}\u001b[0m\n",
      "\u001b[34m[02/07/2022 00:06:06 INFO 139888956827456] #quality_metric: host=algo-1, epoch=4, validation mse_objective <loss>=80.09337506975446\u001b[0m\n",
      "\u001b[34m[02/07/2022 00:06:06 INFO 139888956827456] #early_stopping_criteria_metric: host=algo-1, epoch=4, criteria=mse_objective, value=52.017735072544646\u001b[0m\n",
      "\u001b[34m[02/07/2022 00:06:06 INFO 139888956827456] Saving model for epoch: 4\u001b[0m\n",
      "\u001b[34m[02/07/2022 00:06:06 INFO 139888956827456] Saved checkpoint to \"/tmp/tmpw7dyjsw3/mx-mod-0000.params\"\u001b[0m\n",
      "\u001b[34m[02/07/2022 00:06:06 INFO 139888956827456] #progress_metric: host=algo-1, completed 33.333333333333336 % of epochs\u001b[0m\n",
      "\u001b[34m#metrics {\"StartTime\": 1644192365.90558, \"EndTime\": 1644192366.0075235, \"Dimensions\": {\"Algorithm\": \"Linear Learner\", \"Host\": \"algo-1\", \"Operation\": \"training\", \"epoch\": 4, \"Meta\": \"training_data_iter\"}, \"Metrics\": {\"Total Records Seen\": {\"sum\": 1562.0, \"count\": 1, \"min\": 1562, \"max\": 1562}, \"Total Batches Seen\": {\"sum\": 13.0, \"count\": 1, \"min\": 13, \"max\": 13}, \"Max Records Seen Between Resets\": {\"sum\": 227.0, \"count\": 1, \"min\": 227, \"max\": 227}, \"Max Batches Seen Between Resets\": {\"sum\": 2.0, \"count\": 1, \"min\": 2, \"max\": 2}, \"Reset Count\": {\"sum\": 7.0, \"count\": 1, \"min\": 7, \"max\": 7}, \"Number of Records Since Last Reset\": {\"sum\": 227.0, \"count\": 1, \"min\": 227, \"max\": 227}, \"Number of Batches Since Last Reset\": {\"sum\": 2.0, \"count\": 1, \"min\": 2, \"max\": 2}}}\u001b[0m\n",
      "\u001b[34m[02/07/2022 00:06:06 INFO 139888956827456] #throughput_metric: host=algo-1, train throughput=2223.8060834814537 records/second\u001b[0m\n",
      "\u001b[34m#metrics {\"StartTime\": 1644192366.035591, \"EndTime\": 1644192366.0356445, \"Dimensions\": {\"Algorithm\": \"Linear Learner\", \"Host\": \"algo-1\", \"Operation\": \"training\", \"epoch\": 5, \"model\": 0}, \"Metrics\": {\"train_mse_objective\": {\"sum\": 0.7682672119140626, \"count\": 1, \"min\": 0.7682672119140626, \"max\": 0.7682672119140626}}}\u001b[0m\n",
      "\u001b[34m#metrics {\"StartTime\": 1644192366.0357192, \"EndTime\": 1644192366.0357332, \"Dimensions\": {\"Algorithm\": \"Linear Learner\", \"Host\": \"algo-1\", \"Operation\": \"training\", \"epoch\": 5, \"model\": 1}, \"Metrics\": {\"train_mse_objective\": {\"sum\": 0.7126531219482422, \"count\": 1, \"min\": 0.7126531219482422, \"max\": 0.7126531219482422}}}\u001b[0m\n",
      "\u001b[34m#metrics {\"StartTime\": 1644192366.0357769, \"EndTime\": 1644192366.0357912, \"Dimensions\": {\"Algorithm\": \"Linear Learner\", \"Host\": \"algo-1\", \"Operation\": \"training\", \"epoch\": 5, \"model\": 2}, \"Metrics\": {\"train_mse_objective\": {\"sum\": 1.0243558502197265, \"count\": 1, \"min\": 1.0243558502197265, \"max\": 1.0243558502197265}}}\u001b[0m\n",
      "\u001b[34m#metrics {\"StartTime\": 1644192366.0358503, \"EndTime\": 1644192366.035866, \"Dimensions\": {\"Algorithm\": \"Linear Learner\", \"Host\": \"algo-1\", \"Operation\": \"training\", \"epoch\": 5, \"model\": 3}, \"Metrics\": {\"train_mse_objective\": {\"sum\": 0.7194985961914062, \"count\": 1, \"min\": 0.7194985961914062, \"max\": 0.7194985961914062}}}\u001b[0m\n",
      "\u001b[34m#metrics {\"StartTime\": 1644192366.0359142, \"EndTime\": 1644192366.0359278, \"Dimensions\": {\"Algorithm\": \"Linear Learner\", \"Host\": \"algo-1\", \"Operation\": \"training\", \"epoch\": 5, \"model\": 4}, \"Metrics\": {\"train_mse_objective\": {\"sum\": 0.5742161560058594, \"count\": 1, \"min\": 0.5742161560058594, \"max\": 0.5742161560058594}}}\u001b[0m\n",
      "\u001b[34m#metrics {\"StartTime\": 1644192366.0359774, \"EndTime\": 1644192366.0359936, \"Dimensions\": {\"Algorithm\": \"Linear Learner\", \"Host\": \"algo-1\", \"Operation\": \"training\", \"epoch\": 5, \"model\": 5}, \"Metrics\": {\"train_mse_objective\": {\"sum\": 0.5151924896240234, \"count\": 1, \"min\": 0.5151924896240234, \"max\": 0.5151924896240234}}}\u001b[0m\n",
      "\u001b[34m#metrics {\"StartTime\": 1644192366.0360503, \"EndTime\": 1644192366.0360668, \"Dimensions\": {\"Algorithm\": \"Linear Learner\", \"Host\": \"algo-1\", \"Operation\": \"training\", \"epoch\": 5, \"model\": 6}, \"Metrics\": {\"train_mse_objective\": {\"sum\": 0.4933563995361328, \"count\": 1, \"min\": 0.4933563995361328, \"max\": 0.4933563995361328}}}\u001b[0m\n",
      "\u001b[34m#metrics {\"StartTime\": 1644192366.0361183, \"EndTime\": 1644192366.036133, \"Dimensions\": {\"Algorithm\": \"Linear Learner\", \"Host\": \"algo-1\", \"Operation\": \"training\", \"epoch\": 5, \"model\": 7}, \"Metrics\": {\"train_mse_objective\": {\"sum\": 0.48284526824951174, \"count\": 1, \"min\": 0.48284526824951174, \"max\": 0.48284526824951174}}}\u001b[0m\n",
      "\u001b[34m#metrics {\"StartTime\": 1644192366.036184, \"EndTime\": 1644192366.0361993, \"Dimensions\": {\"Algorithm\": \"Linear Learner\", \"Host\": \"algo-1\", \"Operation\": \"training\", \"epoch\": 5, \"model\": 8}, \"Metrics\": {\"train_mse_objective\": {\"sum\": 0.7787596130371094, \"count\": 1, \"min\": 0.7787596130371094, \"max\": 0.7787596130371094}}}\u001b[0m\n",
      "\u001b[34m#metrics {\"StartTime\": 1644192366.036252, \"EndTime\": 1644192366.0362682, \"Dimensions\": {\"Algorithm\": \"Linear Learner\", \"Host\": \"algo-1\", \"Operation\": \"training\", \"epoch\": 5, \"model\": 9}, \"Metrics\": {\"train_mse_objective\": {\"sum\": 1.074328384399414, \"count\": 1, \"min\": 1.074328384399414, \"max\": 1.074328384399414}}}\u001b[0m\n",
      "\u001b[34m#metrics {\"StartTime\": 1644192366.0363219, \"EndTime\": 1644192366.0363376, \"Dimensions\": {\"Algorithm\": \"Linear Learner\", \"Host\": \"algo-1\", \"Operation\": \"training\", \"epoch\": 5, \"model\": 10}, \"Metrics\": {\"train_mse_objective\": {\"sum\": 0.7325186157226562, \"count\": 1, \"min\": 0.7325186157226562, \"max\": 0.7325186157226562}}}\u001b[0m\n",
      "\u001b[34m#metrics {\"StartTime\": 1644192366.0363925, \"EndTime\": 1644192366.0364094, \"Dimensions\": {\"Algorithm\": \"Linear Learner\", \"Host\": \"algo-1\", \"Operation\": \"training\", \"epoch\": 5, \"model\": 11}, \"Metrics\": {\"train_mse_objective\": {\"sum\": 0.8855956268310546, \"count\": 1, \"min\": 0.8855956268310546, \"max\": 0.8855956268310546}}}\u001b[0m\n",
      "\u001b[34m#metrics {\"StartTime\": 1644192366.0364614, \"EndTime\": 1644192366.0364778, \"Dimensions\": {\"Algorithm\": \"Linear Learner\", \"Host\": \"algo-1\", \"Operation\": \"training\", \"epoch\": 5, \"model\": 12}, \"Metrics\": {\"train_mse_objective\": {\"sum\": 0.5331383132934571, \"count\": 1, \"min\": 0.5331383132934571, \"max\": 0.5331383132934571}}}\u001b[0m\n",
      "\u001b[34m#metrics {\"StartTime\": 1644192366.036546, \"EndTime\": 1644192366.0365646, \"Dimensions\": {\"Algorithm\": \"Linear Learner\", \"Host\": \"algo-1\", \"Operation\": \"training\", \"epoch\": 5, \"model\": 13}, \"Metrics\": {\"train_mse_objective\": {\"sum\": 0.5176532363891602, \"count\": 1, \"min\": 0.5176532363891602, \"max\": 0.5176532363891602}}}\u001b[0m\n",
      "\u001b[34m#metrics {\"StartTime\": 1644192366.0366204, \"EndTime\": 1644192366.0366375, \"Dimensions\": {\"Algorithm\": \"Linear Learner\", \"Host\": \"algo-1\", \"Operation\": \"training\", \"epoch\": 5, \"model\": 14}, \"Metrics\": {\"train_mse_objective\": {\"sum\": 0.5855047225952148, \"count\": 1, \"min\": 0.5855047225952148, \"max\": 0.5855047225952148}}}\u001b[0m\n",
      "\u001b[34m#metrics {\"StartTime\": 1644192366.0366936, \"EndTime\": 1644192366.0367105, \"Dimensions\": {\"Algorithm\": \"Linear Learner\", \"Host\": \"algo-1\", \"Operation\": \"training\", \"epoch\": 5, \"model\": 15}, \"Metrics\": {\"train_mse_objective\": {\"sum\": 0.5507038116455079, \"count\": 1, \"min\": 0.5507038116455079, \"max\": 0.5507038116455079}}}\u001b[0m\n",
      "\u001b[34m#metrics {\"StartTime\": 1644192366.036767, \"EndTime\": 1644192366.0367844, \"Dimensions\": {\"Algorithm\": \"Linear Learner\", \"Host\": \"algo-1\", \"Operation\": \"training\", \"epoch\": 5, \"model\": 16}, \"Metrics\": {\"train_mse_objective\": {\"sum\": 0.8044499206542969, \"count\": 1, \"min\": 0.8044499206542969, \"max\": 0.8044499206542969}}}\u001b[0m\n",
      "\u001b[34m#metrics {\"StartTime\": 1644192366.0368364, \"EndTime\": 1644192366.0368538, \"Dimensions\": {\"Algorithm\": \"Linear Learner\", \"Host\": \"algo-1\", \"Operation\": \"training\", \"epoch\": 5, \"model\": 17}, \"Metrics\": {\"train_mse_objective\": {\"sum\": 0.7194841003417969, \"count\": 1, \"min\": 0.7194841003417969, \"max\": 0.7194841003417969}}}\u001b[0m\n",
      "\u001b[34m#metrics {\"StartTime\": 1644192366.0369086, \"EndTime\": 1644192366.0369246, \"Dimensions\": {\"Algorithm\": \"Linear Learner\", \"Host\": \"algo-1\", \"Operation\": \"training\", \"epoch\": 5, \"model\": 18}, \"Metrics\": {\"train_mse_objective\": {\"sum\": 0.9774118041992188, \"count\": 1, \"min\": 0.9774118041992188, \"max\": 0.9774118041992188}}}\u001b[0m\n",
      "\u001b[34m#metrics {\"StartTime\": 1644192366.0369627, \"EndTime\": 1644192366.0369778, \"Dimensions\": {\"Algorithm\": \"Linear Learner\", \"Host\": \"algo-1\", \"Operation\": \"training\", \"epoch\": 5, \"model\": 19}, \"Metrics\": {\"train_mse_objective\": {\"sum\": 0.831356201171875, \"count\": 1, \"min\": 0.831356201171875, \"max\": 0.831356201171875}}}\u001b[0m\n",
      "\u001b[34m#metrics {\"StartTime\": 1644192366.0370188, \"EndTime\": 1644192366.0370336, \"Dimensions\": {\"Algorithm\": \"Linear Learner\", \"Host\": \"algo-1\", \"Operation\": \"training\", \"epoch\": 5, \"model\": 20}, \"Metrics\": {\"train_mse_objective\": {\"sum\": 0.6245729064941407, \"count\": 1, \"min\": 0.6245729064941407, \"max\": 0.6245729064941407}}}\u001b[0m\n",
      "\u001b[34m#metrics {\"StartTime\": 1644192366.0370867, \"EndTime\": 1644192366.037102, \"Dimensions\": {\"Algorithm\": \"Linear Learner\", \"Host\": \"algo-1\", \"Operation\": \"training\", \"epoch\": 5, \"model\": 21}, \"Metrics\": {\"train_mse_objective\": {\"sum\": 0.5299085235595703, \"count\": 1, \"min\": 0.5299085235595703, \"max\": 0.5299085235595703}}}\u001b[0m\n",
      "\u001b[34m#metrics {\"StartTime\": 1644192366.0371516, \"EndTime\": 1644192366.0371678, \"Dimensions\": {\"Algorithm\": \"Linear Learner\", \"Host\": \"algo-1\", \"Operation\": \"training\", \"epoch\": 5, \"model\": 22}, \"Metrics\": {\"train_mse_objective\": {\"sum\": 0.7090473937988281, \"count\": 1, \"min\": 0.7090473937988281, \"max\": 0.7090473937988281}}}\u001b[0m\n",
      "\u001b[34m#metrics {\"StartTime\": 1644192366.0372183, \"EndTime\": 1644192366.037229, \"Dimensions\": {\"Algorithm\": \"Linear Learner\", \"Host\": \"algo-1\", \"Operation\": \"training\", \"epoch\": 5, \"model\": 23}, \"Metrics\": {\"train_mse_objective\": {\"sum\": 0.6482240295410157, \"count\": 1, \"min\": 0.6482240295410157, \"max\": 0.6482240295410157}}}\u001b[0m\n",
      "\u001b[34m#metrics {\"StartTime\": 1644192366.0372727, \"EndTime\": 1644192366.0372877, \"Dimensions\": {\"Algorithm\": \"Linear Learner\", \"Host\": \"algo-1\", \"Operation\": \"training\", \"epoch\": 5, \"model\": 24}, \"Metrics\": {\"train_mse_objective\": {\"sum\": 0.9622917938232421, \"count\": 1, \"min\": 0.9622917938232421, \"max\": 0.9622917938232421}}}\u001b[0m\n",
      "\u001b[34m#metrics {\"StartTime\": 1644192366.0373356, \"EndTime\": 1644192366.0373468, \"Dimensions\": {\"Algorithm\": \"Linear Learner\", \"Host\": \"algo-1\", \"Operation\": \"training\", \"epoch\": 5, \"model\": 25}, \"Metrics\": {\"train_mse_objective\": {\"sum\": 0.9793478393554688, \"count\": 1, \"min\": 0.9793478393554688, \"max\": 0.9793478393554688}}}\u001b[0m\n",
      "\u001b[34m#metrics {\"StartTime\": 1644192366.0373993, \"EndTime\": 1644192366.0374165, \"Dimensions\": {\"Algorithm\": \"Linear Learner\", \"Host\": \"algo-1\", \"Operation\": \"training\", \"epoch\": 5, \"model\": 26}, \"Metrics\": {\"train_mse_objective\": {\"sum\": 1.0467894744873047, \"count\": 1, \"min\": 1.0467894744873047, \"max\": 1.0467894744873047}}}\u001b[0m\n",
      "\u001b[34m#metrics {\"StartTime\": 1644192366.0374684, \"EndTime\": 1644192366.0374846, \"Dimensions\": {\"Algorithm\": \"Linear Learner\", \"Host\": \"algo-1\", \"Operation\": \"training\", \"epoch\": 5, \"model\": 27}, \"Metrics\": {\"train_mse_objective\": {\"sum\": 1.0427711486816407, \"count\": 1, \"min\": 1.0427711486816407, \"max\": 1.0427711486816407}}}\u001b[0m\n",
      "\u001b[34m#metrics {\"StartTime\": 1644192366.0375495, \"EndTime\": 1644192366.0375652, \"Dimensions\": {\"Algorithm\": \"Linear Learner\", \"Host\": \"algo-1\", \"Operation\": \"training\", \"epoch\": 5, \"model\": 28}, \"Metrics\": {\"train_mse_objective\": {\"sum\": 1.1895960235595704, \"count\": 1, \"min\": 1.1895960235595704, \"max\": 1.1895960235595704}}}\u001b[0m\n",
      "\u001b[34m#metrics {\"StartTime\": 1644192366.0376096, \"EndTime\": 1644192366.0376241, \"Dimensions\": {\"Algorithm\": \"Linear Learner\", \"Host\": \"algo-1\", \"Operation\": \"training\", \"epoch\": 5, \"model\": 29}, \"Metrics\": {\"train_mse_objective\": {\"sum\": 1.071641387939453, \"count\": 1, \"min\": 1.071641387939453, \"max\": 1.071641387939453}}}\u001b[0m\n",
      "\u001b[34m#metrics {\"StartTime\": 1644192366.037689, \"EndTime\": 1644192366.0377057, \"Dimensions\": {\"Algorithm\": \"Linear Learner\", \"Host\": \"algo-1\", \"Operation\": \"training\", \"epoch\": 5, \"model\": 30}, \"Metrics\": {\"train_mse_objective\": {\"sum\": 1.3123348999023436, \"count\": 1, \"min\": 1.3123348999023436, \"max\": 1.3123348999023436}}}\u001b[0m\n",
      "\u001b[34m#metrics {\"StartTime\": 1644192366.037761, \"EndTime\": 1644192366.0377767, \"Dimensions\": {\"Algorithm\": \"Linear Learner\", \"Host\": \"algo-1\", \"Operation\": \"training\", \"epoch\": 5, \"model\": 31}, \"Metrics\": {\"train_mse_objective\": {\"sum\": 1.2039189147949219, \"count\": 1, \"min\": 1.2039189147949219, \"max\": 1.2039189147949219}}}\u001b[0m\n",
      "\u001b[34m[02/07/2022 00:06:06 INFO 139888956827456] #quality_metric: host=algo-1, epoch=5, train mse_objective <loss>=0.7682672119140626\u001b[0m\n",
      "\u001b[34m#metrics {\"StartTime\": 1644192366.090653, \"EndTime\": 1644192366.0907135, \"Dimensions\": {\"Algorithm\": \"Linear Learner\", \"Host\": \"algo-1\", \"Operation\": \"training\", \"epoch\": 5, \"model\": 0}, \"Metrics\": {\"validation_mse_objective\": {\"sum\": 76.51190185546875, \"count\": 1, \"min\": 76.51190185546875, \"max\": 76.51190185546875}}}\u001b[0m\n",
      "\u001b[34m#metrics {\"StartTime\": 1644192366.0908015, \"EndTime\": 1644192366.0908203, \"Dimensions\": {\"Algorithm\": \"Linear Learner\", \"Host\": \"algo-1\", \"Operation\": \"training\", \"epoch\": 5, \"model\": 1}, \"Metrics\": {\"validation_mse_objective\": {\"sum\": 75.13548060825893, \"count\": 1, \"min\": 75.13548060825893, \"max\": 75.13548060825893}}}\u001b[0m\n",
      "\u001b[34m#metrics {\"StartTime\": 1644192366.0908759, \"EndTime\": 1644192366.0908926, \"Dimensions\": {\"Algorithm\": \"Linear Learner\", \"Host\": \"algo-1\", \"Operation\": \"training\", \"epoch\": 5, \"model\": 2}, \"Metrics\": {\"validation_mse_objective\": {\"sum\": 106.66653006417411, \"count\": 1, \"min\": 106.66653006417411, \"max\": 106.66653006417411}}}\u001b[0m\n",
      "\u001b[34m#metrics {\"StartTime\": 1644192366.0909584, \"EndTime\": 1644192366.0909755, \"Dimensions\": {\"Algorithm\": \"Linear Learner\", \"Host\": \"algo-1\", \"Operation\": \"training\", \"epoch\": 5, \"model\": 3}, \"Metrics\": {\"validation_mse_objective\": {\"sum\": 70.60633196149554, \"count\": 1, \"min\": 70.60633196149554, \"max\": 70.60633196149554}}}\u001b[0m\n",
      "\u001b[34m#metrics {\"StartTime\": 1644192366.09106, \"EndTime\": 1644192366.0910776, \"Dimensions\": {\"Algorithm\": \"Linear Learner\", \"Host\": \"algo-1\", \"Operation\": \"training\", \"epoch\": 5, \"model\": 4}, \"Metrics\": {\"validation_mse_objective\": {\"sum\": 44.55256870814732, \"count\": 1, \"min\": 44.55256870814732, \"max\": 44.55256870814732}}}\u001b[0m\n",
      "\u001b[34m#metrics {\"StartTime\": 1644192366.091125, \"EndTime\": 1644192366.091135, \"Dimensions\": {\"Algorithm\": \"Linear Learner\", \"Host\": \"algo-1\", \"Operation\": \"training\", \"epoch\": 5, \"model\": 5}, \"Metrics\": {\"validation_mse_objective\": {\"sum\": 43.74806867327009, \"count\": 1, \"min\": 43.74806867327009, \"max\": 43.74806867327009}}}\u001b[0m\n",
      "\u001b[34m#metrics {\"StartTime\": 1644192366.0911636, \"EndTime\": 1644192366.0911713, \"Dimensions\": {\"Algorithm\": \"Linear Learner\", \"Host\": \"algo-1\", \"Operation\": \"training\", \"epoch\": 5, \"model\": 6}, \"Metrics\": {\"validation_mse_objective\": {\"sum\": 43.34386771065848, \"count\": 1, \"min\": 43.34386771065848, \"max\": 43.34386771065848}}}\u001b[0m\n",
      "\u001b[34m#metrics {\"StartTime\": 1644192366.091219, \"EndTime\": 1644192366.0912344, \"Dimensions\": {\"Algorithm\": \"Linear Learner\", \"Host\": \"algo-1\", \"Operation\": \"training\", \"epoch\": 5, \"model\": 7}, \"Metrics\": {\"validation_mse_objective\": {\"sum\": 45.704637799944194, \"count\": 1, \"min\": 45.704637799944194, \"max\": 45.704637799944194}}}\u001b[0m\n",
      "\u001b[34m#metrics {\"StartTime\": 1644192366.0912852, \"EndTime\": 1644192366.0913012, \"Dimensions\": {\"Algorithm\": \"Linear Learner\", \"Host\": \"algo-1\", \"Operation\": \"training\", \"epoch\": 5, \"model\": 8}, \"Metrics\": {\"validation_mse_objective\": {\"sum\": 79.60617501395089, \"count\": 1, \"min\": 79.60617501395089, \"max\": 79.60617501395089}}}\u001b[0m\n",
      "\u001b[34m#metrics {\"StartTime\": 1644192366.0913637, \"EndTime\": 1644192366.0913815, \"Dimensions\": {\"Algorithm\": \"Linear Learner\", \"Host\": \"algo-1\", \"Operation\": \"training\", \"epoch\": 5, \"model\": 9}, \"Metrics\": {\"validation_mse_objective\": {\"sum\": 115.51926095145089, \"count\": 1, \"min\": 115.51926095145089, \"max\": 115.51926095145089}}}\u001b[0m\n",
      "\u001b[34m#metrics {\"StartTime\": 1644192366.0914366, \"EndTime\": 1644192366.0914524, \"Dimensions\": {\"Algorithm\": \"Linear Learner\", \"Host\": \"algo-1\", \"Operation\": \"training\", \"epoch\": 5, \"model\": 10}, \"Metrics\": {\"validation_mse_objective\": {\"sum\": 73.83414132254464, \"count\": 1, \"min\": 73.83414132254464, \"max\": 73.83414132254464}}}\u001b[0m\n",
      "\u001b[34m#metrics {\"StartTime\": 1644192366.0915048, \"EndTime\": 1644192366.0915215, \"Dimensions\": {\"Algorithm\": \"Linear Learner\", \"Host\": \"algo-1\", \"Operation\": \"training\", \"epoch\": 5, \"model\": 11}, \"Metrics\": {\"validation_mse_objective\": {\"sum\": 98.04037911551339, \"count\": 1, \"min\": 98.04037911551339, \"max\": 98.04037911551339}}}\u001b[0m\n",
      "\u001b[34m#metrics {\"StartTime\": 1644192366.0915737, \"EndTime\": 1644192366.0915902, \"Dimensions\": {\"Algorithm\": \"Linear Learner\", \"Host\": \"algo-1\", \"Operation\": \"training\", \"epoch\": 5, \"model\": 12}, \"Metrics\": {\"validation_mse_objective\": {\"sum\": 49.741895403180806, \"count\": 1, \"min\": 49.741895403180806, \"max\": 49.741895403180806}}}\u001b[0m\n",
      "\u001b[34m#metrics {\"StartTime\": 1644192366.091643, \"EndTime\": 1644192366.0916588, \"Dimensions\": {\"Algorithm\": \"Linear Learner\", \"Host\": \"algo-1\", \"Operation\": \"training\", \"epoch\": 5, \"model\": 13}, \"Metrics\": {\"validation_mse_objective\": {\"sum\": 45.689383370535715, \"count\": 1, \"min\": 45.689383370535715, \"max\": 45.689383370535715}}}\u001b[0m\n",
      "\u001b[34m#metrics {\"StartTime\": 1644192366.091709, \"EndTime\": 1644192366.0917237, \"Dimensions\": {\"Algorithm\": \"Linear Learner\", \"Host\": \"algo-1\", \"Operation\": \"training\", \"epoch\": 5, \"model\": 14}, \"Metrics\": {\"validation_mse_objective\": {\"sum\": 42.56255667550223, \"count\": 1, \"min\": 42.56255667550223, \"max\": 42.56255667550223}}}\u001b[0m\n",
      "\u001b[34m#metrics {\"StartTime\": 1644192366.091774, \"EndTime\": 1644192366.091788, \"Dimensions\": {\"Algorithm\": \"Linear Learner\", \"Host\": \"algo-1\", \"Operation\": \"training\", \"epoch\": 5, \"model\": 15}, \"Metrics\": {\"validation_mse_objective\": {\"sum\": 49.96551077706473, \"count\": 1, \"min\": 49.96551077706473, \"max\": 49.96551077706473}}}\u001b[0m\n",
      "\u001b[34m#metrics {\"StartTime\": 1644192366.0918367, \"EndTime\": 1644192366.0918524, \"Dimensions\": {\"Algorithm\": \"Linear Learner\", \"Host\": \"algo-1\", \"Operation\": \"training\", \"epoch\": 5, \"model\": 16}, \"Metrics\": {\"validation_mse_objective\": {\"sum\": 84.46220179966518, \"count\": 1, \"min\": 84.46220179966518, \"max\": 84.46220179966518}}}\u001b[0m\n",
      "\u001b[34m#metrics {\"StartTime\": 1644192366.0919037, \"EndTime\": 1644192366.091918, \"Dimensions\": {\"Algorithm\": \"Linear Learner\", \"Host\": \"algo-1\", \"Operation\": \"training\", \"epoch\": 5, \"model\": 17}, \"Metrics\": {\"validation_mse_objective\": {\"sum\": 79.77411760602679, \"count\": 1, \"min\": 79.77411760602679, \"max\": 79.77411760602679}}}\u001b[0m\n",
      "\u001b[34m#metrics {\"StartTime\": 1644192366.0919697, \"EndTime\": 1644192366.0919855, \"Dimensions\": {\"Algorithm\": \"Linear Learner\", \"Host\": \"algo-1\", \"Operation\": \"training\", \"epoch\": 5, \"model\": 18}, \"Metrics\": {\"validation_mse_objective\": {\"sum\": 100.98011997767857, \"count\": 1, \"min\": 100.98011997767857, \"max\": 100.98011997767857}}}\u001b[0m\n",
      "\u001b[34m#metrics {\"StartTime\": 1644192366.092042, \"EndTime\": 1644192366.0920584, \"Dimensions\": {\"Algorithm\": \"Linear Learner\", \"Host\": \"algo-1\", \"Operation\": \"training\", \"epoch\": 5, \"model\": 19}, \"Metrics\": {\"validation_mse_objective\": {\"sum\": 83.65947614397321, \"count\": 1, \"min\": 83.65947614397321, \"max\": 83.65947614397321}}}\u001b[0m\n",
      "\u001b[34m#metrics {\"StartTime\": 1644192366.0921109, \"EndTime\": 1644192366.0921266, \"Dimensions\": {\"Algorithm\": \"Linear Learner\", \"Host\": \"algo-1\", \"Operation\": \"training\", \"epoch\": 5, \"model\": 20}, \"Metrics\": {\"validation_mse_objective\": {\"sum\": 45.03983851841518, \"count\": 1, \"min\": 45.03983851841518, \"max\": 45.03983851841518}}}\u001b[0m\n",
      "\u001b[34m#metrics {\"StartTime\": 1644192366.0921717, \"EndTime\": 1644192366.0921874, \"Dimensions\": {\"Algorithm\": \"Linear Learner\", \"Host\": \"algo-1\", \"Operation\": \"training\", \"epoch\": 5, \"model\": 21}, \"Metrics\": {\"validation_mse_objective\": {\"sum\": 56.43233380998884, \"count\": 1, \"min\": 56.43233380998884, \"max\": 56.43233380998884}}}\u001b[0m\n",
      "\u001b[34m#metrics {\"StartTime\": 1644192366.0922403, \"EndTime\": 1644192366.0922558, \"Dimensions\": {\"Algorithm\": \"Linear Learner\", \"Host\": \"algo-1\", \"Operation\": \"training\", \"epoch\": 5, \"model\": 22}, \"Metrics\": {\"validation_mse_objective\": {\"sum\": 52.65274919782366, \"count\": 1, \"min\": 52.65274919782366, \"max\": 52.65274919782366}}}\u001b[0m\n",
      "\u001b[34m#metrics {\"StartTime\": 1644192366.0923061, \"EndTime\": 1644192366.0923202, \"Dimensions\": {\"Algorithm\": \"Linear Learner\", \"Host\": \"algo-1\", \"Operation\": \"training\", \"epoch\": 5, \"model\": 23}, \"Metrics\": {\"validation_mse_objective\": {\"sum\": 51.43713814871652, \"count\": 1, \"min\": 51.43713814871652, \"max\": 51.43713814871652}}}\u001b[0m\n",
      "\u001b[34m#metrics {\"StartTime\": 1644192366.0923696, \"EndTime\": 1644192366.0923855, \"Dimensions\": {\"Algorithm\": \"Linear Learner\", \"Host\": \"algo-1\", \"Operation\": \"training\", \"epoch\": 5, \"model\": 24}, \"Metrics\": {\"validation_mse_objective\": {\"sum\": 104.947265625, \"count\": 1, \"min\": 104.947265625, \"max\": 104.947265625}}}\u001b[0m\n",
      "\u001b[34m#metrics {\"StartTime\": 1644192366.0924351, \"EndTime\": 1644192366.0924513, \"Dimensions\": {\"Algorithm\": \"Linear Learner\", \"Host\": \"algo-1\", \"Operation\": \"training\", \"epoch\": 5, \"model\": 25}, \"Metrics\": {\"validation_mse_objective\": {\"sum\": 104.50933837890625, \"count\": 1, \"min\": 104.50933837890625, \"max\": 104.50933837890625}}}\u001b[0m\n",
      "\u001b[34m#metrics {\"StartTime\": 1644192366.092505, \"EndTime\": 1644192366.092522, \"Dimensions\": {\"Algorithm\": \"Linear Learner\", \"Host\": \"algo-1\", \"Operation\": \"training\", \"epoch\": 5, \"model\": 26}, \"Metrics\": {\"validation_mse_objective\": {\"sum\": 107.49855259486607, \"count\": 1, \"min\": 107.49855259486607, \"max\": 107.49855259486607}}}\u001b[0m\n",
      "\u001b[34m#metrics {\"StartTime\": 1644192366.0925753, \"EndTime\": 1644192366.0925915, \"Dimensions\": {\"Algorithm\": \"Linear Learner\", \"Host\": \"algo-1\", \"Operation\": \"training\", \"epoch\": 5, \"model\": 27}, \"Metrics\": {\"validation_mse_objective\": {\"sum\": 112.55072893415179, \"count\": 1, \"min\": 112.55072893415179, \"max\": 112.55072893415179}}}\u001b[0m\n",
      "\u001b[34m#metrics {\"StartTime\": 1644192366.0926447, \"EndTime\": 1644192366.0926623, \"Dimensions\": {\"Algorithm\": \"Linear Learner\", \"Host\": \"algo-1\", \"Operation\": \"training\", \"epoch\": 5, \"model\": 28}, \"Metrics\": {\"validation_mse_objective\": {\"sum\": 114.85690743582589, \"count\": 1, \"min\": 114.85690743582589, \"max\": 114.85690743582589}}}\u001b[0m\n",
      "\u001b[34m#metrics {\"StartTime\": 1644192366.0927157, \"EndTime\": 1644192366.092733, \"Dimensions\": {\"Algorithm\": \"Linear Learner\", \"Host\": \"algo-1\", \"Operation\": \"training\", \"epoch\": 5, \"model\": 29}, \"Metrics\": {\"validation_mse_objective\": {\"sum\": 109.41843087332589, \"count\": 1, \"min\": 109.41843087332589, \"max\": 109.41843087332589}}}\u001b[0m\n",
      "\u001b[34m#metrics {\"StartTime\": 1644192366.0927882, \"EndTime\": 1644192366.092805, \"Dimensions\": {\"Algorithm\": \"Linear Learner\", \"Host\": \"algo-1\", \"Operation\": \"training\", \"epoch\": 5, \"model\": 30}, \"Metrics\": {\"validation_mse_objective\": {\"sum\": 124.01657540457589, \"count\": 1, \"min\": 124.01657540457589, \"max\": 124.01657540457589}}}\u001b[0m\n",
      "\u001b[34m#metrics {\"StartTime\": 1644192366.0928557, \"EndTime\": 1644192366.0928736, \"Dimensions\": {\"Algorithm\": \"Linear Learner\", \"Host\": \"algo-1\", \"Operation\": \"training\", \"epoch\": 5, \"model\": 31}, \"Metrics\": {\"validation_mse_objective\": {\"sum\": 120.48423549107143, \"count\": 1, \"min\": 120.48423549107143, \"max\": 120.48423549107143}}}\u001b[0m\n",
      "\u001b[34m[02/07/2022 00:06:06 INFO 139888956827456] #quality_metric: host=algo-1, epoch=5, validation mse_objective <loss>=76.51190185546875\u001b[0m\n",
      "\u001b[34m[02/07/2022 00:06:06 INFO 139888956827456] #early_stopping_criteria_metric: host=algo-1, epoch=5, criteria=mse_objective, value=42.56255667550223\u001b[0m\n",
      "\u001b[34m[02/07/2022 00:06:06 INFO 139888956827456] Saving model for epoch: 5\u001b[0m\n",
      "\u001b[34m[02/07/2022 00:06:06 INFO 139888956827456] Saved checkpoint to \"/tmp/tmp91iwqg44/mx-mod-0000.params\"\u001b[0m\n",
      "\u001b[34m[02/07/2022 00:06:06 INFO 139888956827456] #progress_metric: host=algo-1, completed 40.0 % of epochs\u001b[0m\n",
      "\u001b[34m#metrics {\"StartTime\": 1644192366.0078273, \"EndTime\": 1644192366.0993567, \"Dimensions\": {\"Algorithm\": \"Linear Learner\", \"Host\": \"algo-1\", \"Operation\": \"training\", \"epoch\": 5, \"Meta\": \"training_data_iter\"}, \"Metrics\": {\"Total Records Seen\": {\"sum\": 1789.0, \"count\": 1, \"min\": 1789, \"max\": 1789}, \"Total Batches Seen\": {\"sum\": 15.0, \"count\": 1, \"min\": 15, \"max\": 15}, \"Max Records Seen Between Resets\": {\"sum\": 227.0, \"count\": 1, \"min\": 227, \"max\": 227}, \"Max Batches Seen Between Resets\": {\"sum\": 2.0, \"count\": 1, \"min\": 2, \"max\": 2}, \"Reset Count\": {\"sum\": 8.0, \"count\": 1, \"min\": 8, \"max\": 8}, \"Number of Records Since Last Reset\": {\"sum\": 227.0, \"count\": 1, \"min\": 227, \"max\": 227}, \"Number of Batches Since Last Reset\": {\"sum\": 2.0, \"count\": 1, \"min\": 2, \"max\": 2}}}\u001b[0m\n",
      "\u001b[34m[02/07/2022 00:06:06 INFO 139888956827456] #throughput_metric: host=algo-1, train throughput=2476.002142853428 records/second\u001b[0m\n",
      "\u001b[34m#metrics {\"StartTime\": 1644192366.1325736, \"EndTime\": 1644192366.1326232, \"Dimensions\": {\"Algorithm\": \"Linear Learner\", \"Host\": \"algo-1\", \"Operation\": \"training\", \"epoch\": 6, \"model\": 0}, \"Metrics\": {\"train_mse_objective\": {\"sum\": 0.7360417175292969, \"count\": 1, \"min\": 0.7360417175292969, \"max\": 0.7360417175292969}}}\u001b[0m\n",
      "\u001b[34m#metrics {\"StartTime\": 1644192366.1326907, \"EndTime\": 1644192366.1327107, \"Dimensions\": {\"Algorithm\": \"Linear Learner\", \"Host\": \"algo-1\", \"Operation\": \"training\", \"epoch\": 6, \"model\": 1}, \"Metrics\": {\"train_mse_objective\": {\"sum\": 0.6875000762939453, \"count\": 1, \"min\": 0.6875000762939453, \"max\": 0.6875000762939453}}}\u001b[0m\n",
      "\u001b[34m#metrics {\"StartTime\": 1644192366.132778, \"EndTime\": 1644192366.1327984, \"Dimensions\": {\"Algorithm\": \"Linear Learner\", \"Host\": \"algo-1\", \"Operation\": \"training\", \"epoch\": 6, \"model\": 2}, \"Metrics\": {\"train_mse_objective\": {\"sum\": 0.9736424255371093, \"count\": 1, \"min\": 0.9736424255371093, \"max\": 0.9736424255371093}}}\u001b[0m\n",
      "\u001b[34m#metrics {\"StartTime\": 1644192366.1328504, \"EndTime\": 1644192366.1328669, \"Dimensions\": {\"Algorithm\": \"Linear Learner\", \"Host\": \"algo-1\", \"Operation\": \"training\", \"epoch\": 6, \"model\": 3}, \"Metrics\": {\"train_mse_objective\": {\"sum\": 0.6942396545410157, \"count\": 1, \"min\": 0.6942396545410157, \"max\": 0.6942396545410157}}}\u001b[0m\n",
      "\u001b[34m#metrics {\"StartTime\": 1644192366.1329136, \"EndTime\": 1644192366.1329288, \"Dimensions\": {\"Algorithm\": \"Linear Learner\", \"Host\": \"algo-1\", \"Operation\": \"training\", \"epoch\": 6, \"model\": 4}, \"Metrics\": {\"train_mse_objective\": {\"sum\": 0.41970478057861327, \"count\": 1, \"min\": 0.41970478057861327, \"max\": 0.41970478057861327}}}\u001b[0m\n",
      "\u001b[34m#metrics {\"StartTime\": 1644192366.132982, \"EndTime\": 1644192366.1329975, \"Dimensions\": {\"Algorithm\": \"Linear Learner\", \"Host\": \"algo-1\", \"Operation\": \"training\", \"epoch\": 6, \"model\": 5}, \"Metrics\": {\"train_mse_objective\": {\"sum\": 0.428216438293457, \"count\": 1, \"min\": 0.428216438293457, \"max\": 0.428216438293457}}}\u001b[0m\n",
      "\u001b[34m#metrics {\"StartTime\": 1644192366.1330578, \"EndTime\": 1644192366.1330755, \"Dimensions\": {\"Algorithm\": \"Linear Learner\", \"Host\": \"algo-1\", \"Operation\": \"training\", \"epoch\": 6, \"model\": 6}, \"Metrics\": {\"train_mse_objective\": {\"sum\": 0.4237316131591797, \"count\": 1, \"min\": 0.4237316131591797, \"max\": 0.4237316131591797}}}\u001b[0m\n",
      "\u001b[34m#metrics {\"StartTime\": 1644192366.1331415, \"EndTime\": 1644192366.13316, \"Dimensions\": {\"Algorithm\": \"Linear Learner\", \"Host\": \"algo-1\", \"Operation\": \"training\", \"epoch\": 6, \"model\": 7}, \"Metrics\": {\"train_mse_objective\": {\"sum\": 0.41564102172851564, \"count\": 1, \"min\": 0.41564102172851564, \"max\": 0.41564102172851564}}}\u001b[0m\n",
      "\u001b[34m#metrics {\"StartTime\": 1644192366.1332266, \"EndTime\": 1644192366.1332455, \"Dimensions\": {\"Algorithm\": \"Linear Learner\", \"Host\": \"algo-1\", \"Operation\": \"training\", \"epoch\": 6, \"model\": 8}, \"Metrics\": {\"train_mse_objective\": {\"sum\": 0.7537990570068359, \"count\": 1, \"min\": 0.7537990570068359, \"max\": 0.7537990570068359}}}\u001b[0m\n",
      "\u001b[34m#metrics {\"StartTime\": 1644192366.133302, \"EndTime\": 1644192366.1333191, \"Dimensions\": {\"Algorithm\": \"Linear Learner\", \"Host\": \"algo-1\", \"Operation\": \"training\", \"epoch\": 6, \"model\": 9}, \"Metrics\": {\"train_mse_objective\": {\"sum\": 1.0205808258056641, \"count\": 1, \"min\": 1.0205808258056641, \"max\": 1.0205808258056641}}}\u001b[0m\n",
      "\u001b[34m#metrics {\"StartTime\": 1644192366.1333733, \"EndTime\": 1644192366.1333895, \"Dimensions\": {\"Algorithm\": \"Linear Learner\", \"Host\": \"algo-1\", \"Operation\": \"training\", \"epoch\": 6, \"model\": 10}, \"Metrics\": {\"train_mse_objective\": {\"sum\": 0.7087115478515625, \"count\": 1, \"min\": 0.7087115478515625, \"max\": 0.7087115478515625}}}\u001b[0m\n",
      "\u001b[34m#metrics {\"StartTime\": 1644192366.1334417, \"EndTime\": 1644192366.133459, \"Dimensions\": {\"Algorithm\": \"Linear Learner\", \"Host\": \"algo-1\", \"Operation\": \"training\", \"epoch\": 6, \"model\": 11}, \"Metrics\": {\"train_mse_objective\": {\"sum\": 0.8488877105712891, \"count\": 1, \"min\": 0.8488877105712891, \"max\": 0.8488877105712891}}}\u001b[0m\n",
      "\u001b[34m#metrics {\"StartTime\": 1644192366.1335275, \"EndTime\": 1644192366.1335452, \"Dimensions\": {\"Algorithm\": \"Linear Learner\", \"Host\": \"algo-1\", \"Operation\": \"training\", \"epoch\": 6, \"model\": 12}, \"Metrics\": {\"train_mse_objective\": {\"sum\": 0.4459610748291016, \"count\": 1, \"min\": 0.4459610748291016, \"max\": 0.4459610748291016}}}\u001b[0m\n",
      "\u001b[34m#metrics {\"StartTime\": 1644192366.133611, \"EndTime\": 1644192366.133624, \"Dimensions\": {\"Algorithm\": \"Linear Learner\", \"Host\": \"algo-1\", \"Operation\": \"training\", \"epoch\": 6, \"model\": 13}, \"Metrics\": {\"train_mse_objective\": {\"sum\": 0.43115547180175784, \"count\": 1, \"min\": 0.43115547180175784, \"max\": 0.43115547180175784}}}\u001b[0m\n",
      "\u001b[34m#metrics {\"StartTime\": 1644192366.133679, \"EndTime\": 1644192366.1336951, \"Dimensions\": {\"Algorithm\": \"Linear Learner\", \"Host\": \"algo-1\", \"Operation\": \"training\", \"epoch\": 6, \"model\": 14}, \"Metrics\": {\"train_mse_objective\": {\"sum\": 0.42001483917236326, \"count\": 1, \"min\": 0.42001483917236326, \"max\": 0.42001483917236326}}}\u001b[0m\n",
      "\u001b[34m#metrics {\"StartTime\": 1644192366.1337621, \"EndTime\": 1644192366.1337805, \"Dimensions\": {\"Algorithm\": \"Linear Learner\", \"Host\": \"algo-1\", \"Operation\": \"training\", \"epoch\": 6, \"model\": 15}, \"Metrics\": {\"train_mse_objective\": {\"sum\": 0.4592880630493164, \"count\": 1, \"min\": 0.4592880630493164, \"max\": 0.4592880630493164}}}\u001b[0m\n",
      "\u001b[34m#metrics {\"StartTime\": 1644192366.133846, \"EndTime\": 1644192366.1338637, \"Dimensions\": {\"Algorithm\": \"Linear Learner\", \"Host\": \"algo-1\", \"Operation\": \"training\", \"epoch\": 6, \"model\": 16}, \"Metrics\": {\"train_mse_objective\": {\"sum\": 0.7708354949951172, \"count\": 1, \"min\": 0.7708354949951172, \"max\": 0.7708354949951172}}}\u001b[0m\n",
      "\u001b[34m#metrics {\"StartTime\": 1644192366.133911, \"EndTime\": 1644192366.1339207, \"Dimensions\": {\"Algorithm\": \"Linear Learner\", \"Host\": \"algo-1\", \"Operation\": \"training\", \"epoch\": 6, \"model\": 17}, \"Metrics\": {\"train_mse_objective\": {\"sum\": 0.6942430877685547, \"count\": 1, \"min\": 0.6942430877685547, \"max\": 0.6942430877685547}}}\u001b[0m\n",
      "\u001b[34m#metrics {\"StartTime\": 1644192366.1339667, \"EndTime\": 1644192366.133982, \"Dimensions\": {\"Algorithm\": \"Linear Learner\", \"Host\": \"algo-1\", \"Operation\": \"training\", \"epoch\": 6, \"model\": 18}, \"Metrics\": {\"train_mse_objective\": {\"sum\": 0.9392877960205078, \"count\": 1, \"min\": 0.9392877960205078, \"max\": 0.9392877960205078}}}\u001b[0m\n",
      "\u001b[34m#metrics {\"StartTime\": 1644192366.134025, \"EndTime\": 1644192366.1340406, \"Dimensions\": {\"Algorithm\": \"Linear Learner\", \"Host\": \"algo-1\", \"Operation\": \"training\", \"epoch\": 6, \"model\": 19}, \"Metrics\": {\"train_mse_objective\": {\"sum\": 0.7991516876220703, \"count\": 1, \"min\": 0.7991516876220703, \"max\": 0.7991516876220703}}}\u001b[0m\n",
      "\u001b[34m#metrics {\"StartTime\": 1644192366.1340938, \"EndTime\": 1644192366.1341102, \"Dimensions\": {\"Algorithm\": \"Linear Learner\", \"Host\": \"algo-1\", \"Operation\": \"training\", \"epoch\": 6, \"model\": 20}, \"Metrics\": {\"train_mse_objective\": {\"sum\": 0.38051322937011717, \"count\": 1, \"min\": 0.38051322937011717, \"max\": 0.38051322937011717}}}\u001b[0m\n",
      "\u001b[34m#metrics {\"StartTime\": 1644192366.1341627, \"EndTime\": 1644192366.1341789, \"Dimensions\": {\"Algorithm\": \"Linear Learner\", \"Host\": \"algo-1\", \"Operation\": \"training\", \"epoch\": 6, \"model\": 21}, \"Metrics\": {\"train_mse_objective\": {\"sum\": 0.5063788223266602, \"count\": 1, \"min\": 0.5063788223266602, \"max\": 0.5063788223266602}}}\u001b[0m\n",
      "\u001b[34m#metrics {\"StartTime\": 1644192366.1342273, \"EndTime\": 1644192366.1342425, \"Dimensions\": {\"Algorithm\": \"Linear Learner\", \"Host\": \"algo-1\", \"Operation\": \"training\", \"epoch\": 6, \"model\": 22}, \"Metrics\": {\"train_mse_objective\": {\"sum\": 0.45456748962402344, \"count\": 1, \"min\": 0.45456748962402344, \"max\": 0.45456748962402344}}}\u001b[0m\n",
      "\u001b[34m#metrics {\"StartTime\": 1644192366.1343033, \"EndTime\": 1644192366.1343188, \"Dimensions\": {\"Algorithm\": \"Linear Learner\", \"Host\": \"algo-1\", \"Operation\": \"training\", \"epoch\": 6, \"model\": 23}, \"Metrics\": {\"train_mse_objective\": {\"sum\": 0.4379875564575195, \"count\": 1, \"min\": 0.4379875564575195, \"max\": 0.4379875564575195}}}\u001b[0m\n",
      "\u001b[34m#metrics {\"StartTime\": 1644192366.134373, \"EndTime\": 1644192366.1343884, \"Dimensions\": {\"Algorithm\": \"Linear Learner\", \"Host\": \"algo-1\", \"Operation\": \"training\", \"epoch\": 6, \"model\": 24}, \"Metrics\": {\"train_mse_objective\": {\"sum\": 0.9690396881103516, \"count\": 1, \"min\": 0.9690396881103516, \"max\": 0.9690396881103516}}}\u001b[0m\n",
      "\u001b[34m#metrics {\"StartTime\": 1644192366.1344416, \"EndTime\": 1644192366.1344578, \"Dimensions\": {\"Algorithm\": \"Linear Learner\", \"Host\": \"algo-1\", \"Operation\": \"training\", \"epoch\": 6, \"model\": 25}, \"Metrics\": {\"train_mse_objective\": {\"sum\": 0.9752116394042969, \"count\": 1, \"min\": 0.9752116394042969, \"max\": 0.9752116394042969}}}\u001b[0m\n",
      "\u001b[34m#metrics {\"StartTime\": 1644192366.1345115, \"EndTime\": 1644192366.1345284, \"Dimensions\": {\"Algorithm\": \"Linear Learner\", \"Host\": \"algo-1\", \"Operation\": \"training\", \"epoch\": 6, \"model\": 26}, \"Metrics\": {\"train_mse_objective\": {\"sum\": 1.0183943939208984, \"count\": 1, \"min\": 1.0183943939208984, \"max\": 1.0183943939208984}}}\u001b[0m\n",
      "\u001b[34m#metrics {\"StartTime\": 1644192366.1345835, \"EndTime\": 1644192366.1345992, \"Dimensions\": {\"Algorithm\": \"Linear Learner\", \"Host\": \"algo-1\", \"Operation\": \"training\", \"epoch\": 6, \"model\": 27}, \"Metrics\": {\"train_mse_objective\": {\"sum\": 1.0232814788818358, \"count\": 1, \"min\": 1.0232814788818358, \"max\": 1.0232814788818358}}}\u001b[0m\n",
      "\u001b[34m#metrics {\"StartTime\": 1644192366.1346595, \"EndTime\": 1644192366.1346703, \"Dimensions\": {\"Algorithm\": \"Linear Learner\", \"Host\": \"algo-1\", \"Operation\": \"training\", \"epoch\": 6, \"model\": 28}, \"Metrics\": {\"train_mse_objective\": {\"sum\": 1.0481312561035157, \"count\": 1, \"min\": 1.0481312561035157, \"max\": 1.0481312561035157}}}\u001b[0m\n",
      "\u001b[34m#metrics {\"StartTime\": 1644192366.1347218, \"EndTime\": 1644192366.1347373, \"Dimensions\": {\"Algorithm\": \"Linear Learner\", \"Host\": \"algo-1\", \"Operation\": \"training\", \"epoch\": 6, \"model\": 29}, \"Metrics\": {\"train_mse_objective\": {\"sum\": 1.0183676147460938, \"count\": 1, \"min\": 1.0183676147460938, \"max\": 1.0183676147460938}}}\u001b[0m\n",
      "\u001b[34m#metrics {\"StartTime\": 1644192366.1347902, \"EndTime\": 1644192366.1348066, \"Dimensions\": {\"Algorithm\": \"Linear Learner\", \"Host\": \"algo-1\", \"Operation\": \"training\", \"epoch\": 6, \"model\": 30}, \"Metrics\": {\"train_mse_objective\": {\"sum\": 1.1381403350830077, \"count\": 1, \"min\": 1.1381403350830077, \"max\": 1.1381403350830077}}}\u001b[0m\n",
      "\u001b[34m#metrics {\"StartTime\": 1644192366.1348608, \"EndTime\": 1644192366.1348777, \"Dimensions\": {\"Algorithm\": \"Linear Learner\", \"Host\": \"algo-1\", \"Operation\": \"training\", \"epoch\": 6, \"model\": 31}, \"Metrics\": {\"train_mse_objective\": {\"sum\": 1.0470491790771483, \"count\": 1, \"min\": 1.0470491790771483, \"max\": 1.0470491790771483}}}\u001b[0m\n",
      "\u001b[34m[02/07/2022 00:06:06 INFO 139888956827456] #quality_metric: host=algo-1, epoch=6, train mse_objective <loss>=0.7360417175292969\u001b[0m\n",
      "\u001b[34m#metrics {\"StartTime\": 1644192366.2043595, \"EndTime\": 1644192366.204419, \"Dimensions\": {\"Algorithm\": \"Linear Learner\", \"Host\": \"algo-1\", \"Operation\": \"training\", \"epoch\": 6, \"model\": 0}, \"Metrics\": {\"validation_mse_objective\": {\"sum\": 73.30558558872768, \"count\": 1, \"min\": 73.30558558872768, \"max\": 73.30558558872768}}}\u001b[0m\n",
      "\u001b[34m#metrics {\"StartTime\": 1644192366.2045064, \"EndTime\": 1644192366.2045274, \"Dimensions\": {\"Algorithm\": \"Linear Learner\", \"Host\": \"algo-1\", \"Operation\": \"training\", \"epoch\": 6, \"model\": 1}, \"Metrics\": {\"validation_mse_objective\": {\"sum\": 72.49130249023438, \"count\": 1, \"min\": 72.49130249023438, \"max\": 72.49130249023438}}}\u001b[0m\n",
      "\u001b[34m#metrics {\"StartTime\": 1644192366.2045965, \"EndTime\": 1644192366.2046158, \"Dimensions\": {\"Algorithm\": \"Linear Learner\", \"Host\": \"algo-1\", \"Operation\": \"training\", \"epoch\": 6, \"model\": 2}, \"Metrics\": {\"validation_mse_objective\": {\"sum\": 100.86293247767857, \"count\": 1, \"min\": 100.86293247767857, \"max\": 100.86293247767857}}}\u001b[0m\n",
      "\u001b[34m#metrics {\"StartTime\": 1644192366.2046838, \"EndTime\": 1644192366.204702, \"Dimensions\": {\"Algorithm\": \"Linear Learner\", \"Host\": \"algo-1\", \"Operation\": \"training\", \"epoch\": 6, \"model\": 3}, \"Metrics\": {\"validation_mse_objective\": {\"sum\": 68.45674787248883, \"count\": 1, \"min\": 68.45674787248883, \"max\": 68.45674787248883}}}\u001b[0m\n",
      "\u001b[34m#metrics {\"StartTime\": 1644192366.204765, \"EndTime\": 1644192366.204777, \"Dimensions\": {\"Algorithm\": \"Linear Learner\", \"Host\": \"algo-1\", \"Operation\": \"training\", \"epoch\": 6, \"model\": 4}, \"Metrics\": {\"validation_mse_objective\": {\"sum\": 37.972704206194194, \"count\": 1, \"min\": 37.972704206194194, \"max\": 37.972704206194194}}}\u001b[0m\n",
      "\u001b[34m#metrics {\"StartTime\": 1644192366.2048104, \"EndTime\": 1644192366.204819, \"Dimensions\": {\"Algorithm\": \"Linear Learner\", \"Host\": \"algo-1\", \"Operation\": \"training\", \"epoch\": 6, \"model\": 5}, \"Metrics\": {\"validation_mse_objective\": {\"sum\": 44.89805385044643, \"count\": 1, \"min\": 44.89805385044643, \"max\": 44.89805385044643}}}\u001b[0m\n",
      "\u001b[34m#metrics {\"StartTime\": 1644192366.2048569, \"EndTime\": 1644192366.2048724, \"Dimensions\": {\"Algorithm\": \"Linear Learner\", \"Host\": \"algo-1\", \"Operation\": \"training\", \"epoch\": 6, \"model\": 6}, \"Metrics\": {\"validation_mse_objective\": {\"sum\": 42.57468959263393, \"count\": 1, \"min\": 42.57468959263393, \"max\": 42.57468959263393}}}\u001b[0m\n",
      "\u001b[34m#metrics {\"StartTime\": 1644192366.2049253, \"EndTime\": 1644192366.2049408, \"Dimensions\": {\"Algorithm\": \"Linear Learner\", \"Host\": \"algo-1\", \"Operation\": \"training\", \"epoch\": 6, \"model\": 7}, \"Metrics\": {\"validation_mse_objective\": {\"sum\": 46.215379987444194, \"count\": 1, \"min\": 46.215379987444194, \"max\": 46.215379987444194}}}\u001b[0m\n",
      "\u001b[34m#metrics {\"StartTime\": 1644192366.2049935, \"EndTime\": 1644192366.2050097, \"Dimensions\": {\"Algorithm\": \"Linear Learner\", \"Host\": \"algo-1\", \"Operation\": \"training\", \"epoch\": 6, \"model\": 8}, \"Metrics\": {\"validation_mse_objective\": {\"sum\": 77.11238316127232, \"count\": 1, \"min\": 77.11238316127232, \"max\": 77.11238316127232}}}\u001b[0m\n",
      "\u001b[34m#metrics {\"StartTime\": 1644192366.205074, \"EndTime\": 1644192366.2050922, \"Dimensions\": {\"Algorithm\": \"Linear Learner\", \"Host\": \"algo-1\", \"Operation\": \"training\", \"epoch\": 6, \"model\": 9}, \"Metrics\": {\"validation_mse_objective\": {\"sum\": 109.16005161830357, \"count\": 1, \"min\": 109.16005161830357, \"max\": 109.16005161830357}}}\u001b[0m\n",
      "\u001b[34m#metrics {\"StartTime\": 1644192366.2051516, \"EndTime\": 1644192366.2051687, \"Dimensions\": {\"Algorithm\": \"Linear Learner\", \"Host\": \"algo-1\", \"Operation\": \"training\", \"epoch\": 6, \"model\": 10}, \"Metrics\": {\"validation_mse_objective\": {\"sum\": 71.67660958426339, \"count\": 1, \"min\": 71.67660958426339, \"max\": 71.67660958426339}}}\u001b[0m\n",
      "\u001b[34m#metrics {\"StartTime\": 1644192366.2052212, \"EndTime\": 1644192366.2052348, \"Dimensions\": {\"Algorithm\": \"Linear Learner\", \"Host\": \"algo-1\", \"Operation\": \"training\", \"epoch\": 6, \"model\": 11}, \"Metrics\": {\"validation_mse_objective\": {\"sum\": 93.78548758370536, \"count\": 1, \"min\": 93.78548758370536, \"max\": 93.78548758370536}}}\u001b[0m\n",
      "\u001b[34m#metrics {\"StartTime\": 1644192366.2052813, \"EndTime\": 1644192366.2052968, \"Dimensions\": {\"Algorithm\": \"Linear Learner\", \"Host\": \"algo-1\", \"Operation\": \"training\", \"epoch\": 6, \"model\": 12}, \"Metrics\": {\"validation_mse_objective\": {\"sum\": 42.94978550502232, \"count\": 1, \"min\": 42.94978550502232, \"max\": 42.94978550502232}}}\u001b[0m\n",
      "\u001b[34m#metrics {\"StartTime\": 1644192366.205347, \"EndTime\": 1644192366.2053638, \"Dimensions\": {\"Algorithm\": \"Linear Learner\", \"Host\": \"algo-1\", \"Operation\": \"training\", \"epoch\": 6, \"model\": 13}, \"Metrics\": {\"validation_mse_objective\": {\"sum\": 39.859810965401785, \"count\": 1, \"min\": 39.859810965401785, \"max\": 39.859810965401785}}}\u001b[0m\n",
      "\u001b[34m#metrics {\"StartTime\": 1644192366.205427, \"EndTime\": 1644192366.2054439, \"Dimensions\": {\"Algorithm\": \"Linear Learner\", \"Host\": \"algo-1\", \"Operation\": \"training\", \"epoch\": 6, \"model\": 14}, \"Metrics\": {\"validation_mse_objective\": {\"sum\": 36.14306422642299, \"count\": 1, \"min\": 36.14306422642299, \"max\": 36.14306422642299}}}\u001b[0m\n",
      "\u001b[34m#metrics {\"StartTime\": 1644192366.2054963, \"EndTime\": 1644192366.2055132, \"Dimensions\": {\"Algorithm\": \"Linear Learner\", \"Host\": \"algo-1\", \"Operation\": \"training\", \"epoch\": 6, \"model\": 15}, \"Metrics\": {\"validation_mse_objective\": {\"sum\": 45.944872174944194, \"count\": 1, \"min\": 45.944872174944194, \"max\": 45.944872174944194}}}\u001b[0m\n",
      "\u001b[34m#metrics {\"StartTime\": 1644192366.2055662, \"EndTime\": 1644192366.205583, \"Dimensions\": {\"Algorithm\": \"Linear Learner\", \"Host\": \"algo-1\", \"Operation\": \"training\", \"epoch\": 6, \"model\": 16}, \"Metrics\": {\"validation_mse_objective\": {\"sum\": 80.873291015625, \"count\": 1, \"min\": 80.873291015625, \"max\": 80.873291015625}}}\u001b[0m\n",
      "\u001b[34m#metrics {\"StartTime\": 1644192366.2056453, \"EndTime\": 1644192366.2056625, \"Dimensions\": {\"Algorithm\": \"Linear Learner\", \"Host\": \"algo-1\", \"Operation\": \"training\", \"epoch\": 6, \"model\": 17}, \"Metrics\": {\"validation_mse_objective\": {\"sum\": 76.89667619977679, \"count\": 1, \"min\": 76.89667619977679, \"max\": 76.89667619977679}}}\u001b[0m\n",
      "\u001b[34m#metrics {\"StartTime\": 1644192366.2057052, \"EndTime\": 1644192366.2057195, \"Dimensions\": {\"Algorithm\": \"Linear Learner\", \"Host\": \"algo-1\", \"Operation\": \"training\", \"epoch\": 6, \"model\": 18}, \"Metrics\": {\"validation_mse_objective\": {\"sum\": 96.63719831194196, \"count\": 1, \"min\": 96.63719831194196, \"max\": 96.63719831194196}}}\u001b[0m\n",
      "\u001b[34m#metrics {\"StartTime\": 1644192366.2057724, \"EndTime\": 1644192366.2057881, \"Dimensions\": {\"Algorithm\": \"Linear Learner\", \"Host\": \"algo-1\", \"Operation\": \"training\", \"epoch\": 6, \"model\": 19}, \"Metrics\": {\"validation_mse_objective\": {\"sum\": 80.34081159319196, \"count\": 1, \"min\": 80.34081159319196, \"max\": 80.34081159319196}}}\u001b[0m\n",
      "\u001b[34m#metrics {\"StartTime\": 1644192366.2058408, \"EndTime\": 1644192366.2058568, \"Dimensions\": {\"Algorithm\": \"Linear Learner\", \"Host\": \"algo-1\", \"Operation\": \"training\", \"epoch\": 6, \"model\": 20}, \"Metrics\": {\"validation_mse_objective\": {\"sum\": 36.3553706577846, \"count\": 1, \"min\": 36.3553706577846, \"max\": 36.3553706577846}}}\u001b[0m\n",
      "\u001b[34m#metrics {\"StartTime\": 1644192366.2059073, \"EndTime\": 1644192366.2059226, \"Dimensions\": {\"Algorithm\": \"Linear Learner\", \"Host\": \"algo-1\", \"Operation\": \"training\", \"epoch\": 6, \"model\": 21}, \"Metrics\": {\"validation_mse_objective\": {\"sum\": 50.782706124441965, \"count\": 1, \"min\": 50.782706124441965, \"max\": 50.782706124441965}}}\u001b[0m\n",
      "\u001b[34m#metrics {\"StartTime\": 1644192366.2059765, \"EndTime\": 1644192366.2059934, \"Dimensions\": {\"Algorithm\": \"Linear Learner\", \"Host\": \"algo-1\", \"Operation\": \"training\", \"epoch\": 6, \"model\": 22}, \"Metrics\": {\"validation_mse_objective\": {\"sum\": 35.199083600725444, \"count\": 1, \"min\": 35.199083600725444, \"max\": 35.199083600725444}}}\u001b[0m\n",
      "\u001b[34m#metrics {\"StartTime\": 1644192366.2060502, \"EndTime\": 1644192366.2060678, \"Dimensions\": {\"Algorithm\": \"Linear Learner\", \"Host\": \"algo-1\", \"Operation\": \"training\", \"epoch\": 6, \"model\": 23}, \"Metrics\": {\"validation_mse_objective\": {\"sum\": 39.702078683035715, \"count\": 1, \"min\": 39.702078683035715, \"max\": 39.702078683035715}}}\u001b[0m\n",
      "\u001b[34m#metrics {\"StartTime\": 1644192366.2061212, \"EndTime\": 1644192366.2061374, \"Dimensions\": {\"Algorithm\": \"Linear Learner\", \"Host\": \"algo-1\", \"Operation\": \"training\", \"epoch\": 6, \"model\": 24}, \"Metrics\": {\"validation_mse_objective\": {\"sum\": 106.17847551618304, \"count\": 1, \"min\": 106.17847551618304, \"max\": 106.17847551618304}}}\u001b[0m\n",
      "\u001b[34m#metrics {\"StartTime\": 1644192366.2061915, \"EndTime\": 1644192366.2062085, \"Dimensions\": {\"Algorithm\": \"Linear Learner\", \"Host\": \"algo-1\", \"Operation\": \"training\", \"epoch\": 6, \"model\": 25}, \"Metrics\": {\"validation_mse_objective\": {\"sum\": 104.54400634765625, \"count\": 1, \"min\": 104.54400634765625, \"max\": 104.54400634765625}}}\u001b[0m\n",
      "\u001b[34m#metrics {\"StartTime\": 1644192366.2062595, \"EndTime\": 1644192366.2062762, \"Dimensions\": {\"Algorithm\": \"Linear Learner\", \"Host\": \"algo-1\", \"Operation\": \"training\", \"epoch\": 6, \"model\": 26}, \"Metrics\": {\"validation_mse_objective\": {\"sum\": 105.0975341796875, \"count\": 1, \"min\": 105.0975341796875, \"max\": 105.0975341796875}}}\u001b[0m\n",
      "\u001b[34m#metrics {\"StartTime\": 1644192366.2063289, \"EndTime\": 1644192366.2063444, \"Dimensions\": {\"Algorithm\": \"Linear Learner\", \"Host\": \"algo-1\", \"Operation\": \"training\", \"epoch\": 6, \"model\": 27}, \"Metrics\": {\"validation_mse_objective\": {\"sum\": 110.13258579799107, \"count\": 1, \"min\": 110.13258579799107, \"max\": 110.13258579799107}}}\u001b[0m\n",
      "\u001b[34m#metrics {\"StartTime\": 1644192366.2063985, \"EndTime\": 1644192366.2064154, \"Dimensions\": {\"Algorithm\": \"Linear Learner\", \"Host\": \"algo-1\", \"Operation\": \"training\", \"epoch\": 6, \"model\": 28}, \"Metrics\": {\"validation_mse_objective\": {\"sum\": 104.9920654296875, \"count\": 1, \"min\": 104.9920654296875, \"max\": 104.9920654296875}}}\u001b[0m\n",
      "\u001b[34m#metrics {\"StartTime\": 1644192366.2064712, \"EndTime\": 1644192366.2064872, \"Dimensions\": {\"Algorithm\": \"Linear Learner\", \"Host\": \"algo-1\", \"Operation\": \"training\", \"epoch\": 6, \"model\": 29}, \"Metrics\": {\"validation_mse_objective\": {\"sum\": 112.80595179966518, \"count\": 1, \"min\": 112.80595179966518, \"max\": 112.80595179966518}}}\u001b[0m\n",
      "\u001b[34m#metrics {\"StartTime\": 1644192366.2065403, \"EndTime\": 1644192366.2065563, \"Dimensions\": {\"Algorithm\": \"Linear Learner\", \"Host\": \"algo-1\", \"Operation\": \"training\", \"epoch\": 6, \"model\": 30}, \"Metrics\": {\"validation_mse_objective\": {\"sum\": 109.02495465959821, \"count\": 1, \"min\": 109.02495465959821, \"max\": 109.02495465959821}}}\u001b[0m\n",
      "\u001b[34m#metrics {\"StartTime\": 1644192366.2066092, \"EndTime\": 1644192366.206627, \"Dimensions\": {\"Algorithm\": \"Linear Learner\", \"Host\": \"algo-1\", \"Operation\": \"training\", \"epoch\": 6, \"model\": 31}, \"Metrics\": {\"validation_mse_objective\": {\"sum\": 103.7957763671875, \"count\": 1, \"min\": 103.7957763671875, \"max\": 103.7957763671875}}}\u001b[0m\n",
      "\u001b[34m[02/07/2022 00:06:06 INFO 139888956827456] #quality_metric: host=algo-1, epoch=6, validation mse_objective <loss>=73.30558558872768\u001b[0m\n",
      "\u001b[34m[02/07/2022 00:06:06 INFO 139888956827456] #early_stopping_criteria_metric: host=algo-1, epoch=6, criteria=mse_objective, value=35.199083600725444\u001b[0m\n",
      "\u001b[34m[02/07/2022 00:06:06 INFO 139888956827456] Epoch 6: Loss improved. Updating best model\u001b[0m\n",
      "\u001b[34m[02/07/2022 00:06:06 INFO 139888956827456] Saving model for epoch: 6\u001b[0m\n",
      "\u001b[34m[02/07/2022 00:06:06 INFO 139888956827456] Saved checkpoint to \"/tmp/tmph2f1cwt5/mx-mod-0000.params\"\u001b[0m\n",
      "\u001b[34m[02/07/2022 00:06:06 INFO 139888956827456] #progress_metric: host=algo-1, completed 46.666666666666664 % of epochs\u001b[0m\n",
      "\u001b[34m#metrics {\"StartTime\": 1644192366.0996704, \"EndTime\": 1644192366.214331, \"Dimensions\": {\"Algorithm\": \"Linear Learner\", \"Host\": \"algo-1\", \"Operation\": \"training\", \"epoch\": 6, \"Meta\": \"training_data_iter\"}, \"Metrics\": {\"Total Records Seen\": {\"sum\": 2016.0, \"count\": 1, \"min\": 2016, \"max\": 2016}, \"Total Batches Seen\": {\"sum\": 17.0, \"count\": 1, \"min\": 17, \"max\": 17}, \"Max Records Seen Between Resets\": {\"sum\": 227.0, \"count\": 1, \"min\": 227, \"max\": 227}, \"Max Batches Seen Between Resets\": {\"sum\": 2.0, \"count\": 1, \"min\": 2, \"max\": 2}, \"Reset Count\": {\"sum\": 9.0, \"count\": 1, \"min\": 9, \"max\": 9}, \"Number of Records Since Last Reset\": {\"sum\": 227.0, \"count\": 1, \"min\": 227, \"max\": 227}, \"Number of Batches Since Last Reset\": {\"sum\": 2.0, \"count\": 1, \"min\": 2, \"max\": 2}}}\u001b[0m\n",
      "\u001b[34m[02/07/2022 00:06:06 INFO 139888956827456] #throughput_metric: host=algo-1, train throughput=1977.134697929018 records/second\u001b[0m\n",
      "\u001b[34m#metrics {\"StartTime\": 1644192366.264535, \"EndTime\": 1644192366.2646935, \"Dimensions\": {\"Algorithm\": \"Linear Learner\", \"Host\": \"algo-1\", \"Operation\": \"training\", \"epoch\": 7, \"model\": 0}, \"Metrics\": {\"train_mse_objective\": {\"sum\": 0.7074369049072265, \"count\": 1, \"min\": 0.7074369049072265, \"max\": 0.7074369049072265}}}\u001b[0m\n",
      "\u001b[34m#metrics {\"StartTime\": 1644192366.2648747, \"EndTime\": 1644192366.2649002, \"Dimensions\": {\"Algorithm\": \"Linear Learner\", \"Host\": \"algo-1\", \"Operation\": \"training\", \"epoch\": 7, \"model\": 1}, \"Metrics\": {\"train_mse_objective\": {\"sum\": 0.6653354644775391, \"count\": 1, \"min\": 0.6653354644775391, \"max\": 0.6653354644775391}}}\u001b[0m\n",
      "\u001b[34m#metrics {\"StartTime\": 1644192366.2650135, \"EndTime\": 1644192366.265037, \"Dimensions\": {\"Algorithm\": \"Linear Learner\", \"Host\": \"algo-1\", \"Operation\": \"training\", \"epoch\": 7, \"model\": 2}, \"Metrics\": {\"train_mse_objective\": {\"sum\": 0.9268223571777344, \"count\": 1, \"min\": 0.9268223571777344, \"max\": 0.9268223571777344}}}\u001b[0m\n",
      "\u001b[34m#metrics {\"StartTime\": 1644192366.2651, \"EndTime\": 1644192366.2651174, \"Dimensions\": {\"Algorithm\": \"Linear Learner\", \"Host\": \"algo-1\", \"Operation\": \"training\", \"epoch\": 7, \"model\": 3}, \"Metrics\": {\"train_mse_objective\": {\"sum\": 0.6722283172607422, \"count\": 1, \"min\": 0.6722283172607422, \"max\": 0.6722283172607422}}}\u001b[0m\n",
      "\u001b[34m#metrics {\"StartTime\": 1644192366.2651753, \"EndTime\": 1644192366.2651925, \"Dimensions\": {\"Algorithm\": \"Linear Learner\", \"Host\": \"algo-1\", \"Operation\": \"training\", \"epoch\": 7, \"model\": 4}, \"Metrics\": {\"train_mse_objective\": {\"sum\": 0.35676132202148436, \"count\": 1, \"min\": 0.35676132202148436, \"max\": 0.35676132202148436}}}\u001b[0m\n",
      "\u001b[34m#metrics {\"StartTime\": 1644192366.265412, \"EndTime\": 1644192366.2654333, \"Dimensions\": {\"Algorithm\": \"Linear Learner\", \"Host\": \"algo-1\", \"Operation\": \"training\", \"epoch\": 7, \"model\": 5}, \"Metrics\": {\"train_mse_objective\": {\"sum\": 0.4315680694580078, \"count\": 1, \"min\": 0.4315680694580078, \"max\": 0.4315680694580078}}}\u001b[0m\n",
      "\u001b[34m#metrics {\"StartTime\": 1644192366.265493, \"EndTime\": 1644192366.2655108, \"Dimensions\": {\"Algorithm\": \"Linear Learner\", \"Host\": \"algo-1\", \"Operation\": \"training\", \"epoch\": 7, \"model\": 6}, \"Metrics\": {\"train_mse_objective\": {\"sum\": 0.42897865295410154, \"count\": 1, \"min\": 0.42897865295410154, \"max\": 0.42897865295410154}}}\u001b[0m\n",
      "\u001b[34m#metrics {\"StartTime\": 1644192366.2655656, \"EndTime\": 1644192366.265583, \"Dimensions\": {\"Algorithm\": \"Linear Learner\", \"Host\": \"algo-1\", \"Operation\": \"training\", \"epoch\": 7, \"model\": 7}, \"Metrics\": {\"train_mse_objective\": {\"sum\": 0.4235513687133789, \"count\": 1, \"min\": 0.4235513687133789, \"max\": 0.4235513687133789}}}\u001b[0m\n",
      "\u001b[34m#metrics {\"StartTime\": 1644192366.2656336, \"EndTime\": 1644192366.2656481, \"Dimensions\": {\"Algorithm\": \"Linear Learner\", \"Host\": \"algo-1\", \"Operation\": \"training\", \"epoch\": 7, \"model\": 8}, \"Metrics\": {\"train_mse_objective\": {\"sum\": 0.7319650268554687, \"count\": 1, \"min\": 0.7319650268554687, \"max\": 0.7319650268554687}}}\u001b[0m\n",
      "\u001b[34m#metrics {\"StartTime\": 1644192366.2656975, \"EndTime\": 1644192366.2657137, \"Dimensions\": {\"Algorithm\": \"Linear Learner\", \"Host\": \"algo-1\", \"Operation\": \"training\", \"epoch\": 7, \"model\": 9}, \"Metrics\": {\"train_mse_objective\": {\"sum\": 0.9707131195068359, \"count\": 1, \"min\": 0.9707131195068359, \"max\": 0.9707131195068359}}}\u001b[0m\n",
      "\u001b[34m#metrics {\"StartTime\": 1644192366.2657654, \"EndTime\": 1644192366.2657812, \"Dimensions\": {\"Algorithm\": \"Linear Learner\", \"Host\": \"algo-1\", \"Operation\": \"training\", \"epoch\": 7, \"model\": 10}, \"Metrics\": {\"train_mse_objective\": {\"sum\": 0.6875161743164062, \"count\": 1, \"min\": 0.6875161743164062, \"max\": 0.6875161743164062}}}\u001b[0m\n",
      "\u001b[34m#metrics {\"StartTime\": 1644192366.2658308, \"EndTime\": 1644192366.2658486, \"Dimensions\": {\"Algorithm\": \"Linear Learner\", \"Host\": \"algo-1\", \"Operation\": \"training\", \"epoch\": 7, \"model\": 11}, \"Metrics\": {\"train_mse_objective\": {\"sum\": 0.8157476043701172, \"count\": 1, \"min\": 0.8157476043701172, \"max\": 0.8157476043701172}}}\u001b[0m\n",
      "\u001b[34m#metrics {\"StartTime\": 1644192366.2658978, \"EndTime\": 1644192366.265912, \"Dimensions\": {\"Algorithm\": \"Linear Learner\", \"Host\": \"algo-1\", \"Operation\": \"training\", \"epoch\": 7, \"model\": 12}, \"Metrics\": {\"train_mse_objective\": {\"sum\": 0.40426815032958985, \"count\": 1, \"min\": 0.40426815032958985, \"max\": 0.40426815032958985}}}\u001b[0m\n",
      "\u001b[34m#metrics {\"StartTime\": 1644192366.265956, \"EndTime\": 1644192366.2659712, \"Dimensions\": {\"Algorithm\": \"Linear Learner\", \"Host\": \"algo-1\", \"Operation\": \"training\", \"epoch\": 7, \"model\": 13}, \"Metrics\": {\"train_mse_objective\": {\"sum\": 0.387360725402832, \"count\": 1, \"min\": 0.387360725402832, \"max\": 0.387360725402832}}}\u001b[0m\n",
      "\u001b[34m#metrics {\"StartTime\": 1644192366.266015, \"EndTime\": 1644192366.2660258, \"Dimensions\": {\"Algorithm\": \"Linear Learner\", \"Host\": \"algo-1\", \"Operation\": \"training\", \"epoch\": 7, \"model\": 14}, \"Metrics\": {\"train_mse_objective\": {\"sum\": 0.3535698699951172, \"count\": 1, \"min\": 0.3535698699951172, \"max\": 0.3535698699951172}}}\u001b[0m\n",
      "\u001b[34m#metrics {\"StartTime\": 1644192366.2661242, \"EndTime\": 1644192366.2661383, \"Dimensions\": {\"Algorithm\": \"Linear Learner\", \"Host\": \"algo-1\", \"Operation\": \"training\", \"epoch\": 7, \"model\": 15}, \"Metrics\": {\"train_mse_objective\": {\"sum\": 0.43020877838134763, \"count\": 1, \"min\": 0.43020877838134763, \"max\": 0.43020877838134763}}}\u001b[0m\n",
      "\u001b[34m#metrics {\"StartTime\": 1644192366.2662184, \"EndTime\": 1644192366.266238, \"Dimensions\": {\"Algorithm\": \"Linear Learner\", \"Host\": \"algo-1\", \"Operation\": \"training\", \"epoch\": 7, \"model\": 16}, \"Metrics\": {\"train_mse_objective\": {\"sum\": 0.7409742736816406, \"count\": 1, \"min\": 0.7409742736816406, \"max\": 0.7409742736816406}}}\u001b[0m\n",
      "\u001b[34m#metrics {\"StartTime\": 1644192366.2662897, \"EndTime\": 1644192366.2663043, \"Dimensions\": {\"Algorithm\": \"Linear Learner\", \"Host\": \"algo-1\", \"Operation\": \"training\", \"epoch\": 7, \"model\": 17}, \"Metrics\": {\"train_mse_objective\": {\"sum\": 0.6715031433105468, \"count\": 1, \"min\": 0.6715031433105468, \"max\": 0.6715031433105468}}}\u001b[0m\n",
      "\u001b[34m#metrics {\"StartTime\": 1644192366.26635, \"EndTime\": 1644192366.266364, \"Dimensions\": {\"Algorithm\": \"Linear Learner\", \"Host\": \"algo-1\", \"Operation\": \"training\", \"epoch\": 7, \"model\": 18}, \"Metrics\": {\"train_mse_objective\": {\"sum\": 0.9049079895019532, \"count\": 1, \"min\": 0.9049079895019532, \"max\": 0.9049079895019532}}}\u001b[0m\n",
      "\u001b[34m#metrics {\"StartTime\": 1644192366.2664084, \"EndTime\": 1644192366.266422, \"Dimensions\": {\"Algorithm\": \"Linear Learner\", \"Host\": \"algo-1\", \"Operation\": \"training\", \"epoch\": 7, \"model\": 19}, \"Metrics\": {\"train_mse_objective\": {\"sum\": 0.7703542327880859, \"count\": 1, \"min\": 0.7703542327880859, \"max\": 0.7703542327880859}}}\u001b[0m\n",
      "\u001b[34m#metrics {\"StartTime\": 1644192366.266466, \"EndTime\": 1644192366.266478, \"Dimensions\": {\"Algorithm\": \"Linear Learner\", \"Host\": \"algo-1\", \"Operation\": \"training\", \"epoch\": 7, \"model\": 20}, \"Metrics\": {\"train_mse_objective\": {\"sum\": 0.2947030830383301, \"count\": 1, \"min\": 0.2947030830383301, \"max\": 0.2947030830383301}}}\u001b[0m\n",
      "\u001b[34m#metrics {\"StartTime\": 1644192366.2665203, \"EndTime\": 1644192366.2665331, \"Dimensions\": {\"Algorithm\": \"Linear Learner\", \"Host\": \"algo-1\", \"Operation\": \"training\", \"epoch\": 7, \"model\": 21}, \"Metrics\": {\"train_mse_objective\": {\"sum\": 0.47387699127197264, \"count\": 1, \"min\": 0.47387699127197264, \"max\": 0.47387699127197264}}}\u001b[0m\n",
      "\u001b[34m#metrics {\"StartTime\": 1644192366.2665825, \"EndTime\": 1644192366.2665973, \"Dimensions\": {\"Algorithm\": \"Linear Learner\", \"Host\": \"algo-1\", \"Operation\": \"training\", \"epoch\": 7, \"model\": 22}, \"Metrics\": {\"train_mse_objective\": {\"sum\": 0.30653804779052735, \"count\": 1, \"min\": 0.30653804779052735, \"max\": 0.30653804779052735}}}\u001b[0m\n",
      "\u001b[34m#metrics {\"StartTime\": 1644192366.2666433, \"EndTime\": 1644192366.2666576, \"Dimensions\": {\"Algorithm\": \"Linear Learner\", \"Host\": \"algo-1\", \"Operation\": \"training\", \"epoch\": 7, \"model\": 23}, \"Metrics\": {\"train_mse_objective\": {\"sum\": 0.32444282531738283, \"count\": 1, \"min\": 0.32444282531738283, \"max\": 0.32444282531738283}}}\u001b[0m\n",
      "\u001b[34m#metrics {\"StartTime\": 1644192366.2667048, \"EndTime\": 1644192366.2667205, \"Dimensions\": {\"Algorithm\": \"Linear Learner\", \"Host\": \"algo-1\", \"Operation\": \"training\", \"epoch\": 7, \"model\": 24}, \"Metrics\": {\"train_mse_objective\": {\"sum\": 0.9776048278808593, \"count\": 1, \"min\": 0.9776048278808593, \"max\": 0.9776048278808593}}}\u001b[0m\n",
      "\u001b[34m#metrics {\"StartTime\": 1644192366.2667704, \"EndTime\": 1644192366.2667866, \"Dimensions\": {\"Algorithm\": \"Linear Learner\", \"Host\": \"algo-1\", \"Operation\": \"training\", \"epoch\": 7, \"model\": 25}, \"Metrics\": {\"train_mse_objective\": {\"sum\": 0.9713395690917969, \"count\": 1, \"min\": 0.9713395690917969, \"max\": 0.9713395690917969}}}\u001b[0m\n",
      "\u001b[34m#metrics {\"StartTime\": 1644192366.2668333, \"EndTime\": 1644192366.2668498, \"Dimensions\": {\"Algorithm\": \"Linear Learner\", \"Host\": \"algo-1\", \"Operation\": \"training\", \"epoch\": 7, \"model\": 26}, \"Metrics\": {\"train_mse_objective\": {\"sum\": 0.9948030853271485, \"count\": 1, \"min\": 0.9948030853271485, \"max\": 0.9948030853271485}}}\u001b[0m\n",
      "\u001b[34m#metrics {\"StartTime\": 1644192366.2669015, \"EndTime\": 1644192366.2669182, \"Dimensions\": {\"Algorithm\": \"Linear Learner\", \"Host\": \"algo-1\", \"Operation\": \"training\", \"epoch\": 7, \"model\": 27}, \"Metrics\": {\"train_mse_objective\": {\"sum\": 1.0051651000976562, \"count\": 1, \"min\": 1.0051651000976562, \"max\": 1.0051651000976562}}}\u001b[0m\n",
      "\u001b[34m#metrics {\"StartTime\": 1644192366.2670097, \"EndTime\": 1644192366.2670305, \"Dimensions\": {\"Algorithm\": \"Linear Learner\", \"Host\": \"algo-1\", \"Operation\": \"training\", \"epoch\": 7, \"model\": 28}, \"Metrics\": {\"train_mse_objective\": {\"sum\": 0.9921046447753906, \"count\": 1, \"min\": 0.9921046447753906, \"max\": 0.9921046447753906}}}\u001b[0m\n",
      "\u001b[34m#metrics {\"StartTime\": 1644192366.2671366, \"EndTime\": 1644192366.2671597, \"Dimensions\": {\"Algorithm\": \"Linear Learner\", \"Host\": \"algo-1\", \"Operation\": \"training\", \"epoch\": 7, \"model\": 29}, \"Metrics\": {\"train_mse_objective\": {\"sum\": 1.0663184356689452, \"count\": 1, \"min\": 1.0663184356689452, \"max\": 1.0663184356689452}}}\u001b[0m\n",
      "\u001b[34m#metrics {\"StartTime\": 1644192366.2672198, \"EndTime\": 1644192366.267236, \"Dimensions\": {\"Algorithm\": \"Linear Learner\", \"Host\": \"algo-1\", \"Operation\": \"training\", \"epoch\": 7, \"model\": 30}, \"Metrics\": {\"train_mse_objective\": {\"sum\": 1.012121124267578, \"count\": 1, \"min\": 1.012121124267578, \"max\": 1.012121124267578}}}\u001b[0m\n",
      "\u001b[34m#metrics {\"StartTime\": 1644192366.267287, \"EndTime\": 1644192366.2673035, \"Dimensions\": {\"Algorithm\": \"Linear Learner\", \"Host\": \"algo-1\", \"Operation\": \"training\", \"epoch\": 7, \"model\": 31}, \"Metrics\": {\"train_mse_objective\": {\"sum\": 0.9676522827148437, \"count\": 1, \"min\": 0.9676522827148437, \"max\": 0.9676522827148437}}}\u001b[0m\n",
      "\u001b[34m[02/07/2022 00:06:06 INFO 139888956827456] #quality_metric: host=algo-1, epoch=7, train mse_objective <loss>=0.7074369049072265\u001b[0m\n",
      "\u001b[34m#metrics {\"StartTime\": 1644192366.3429365, \"EndTime\": 1644192366.3430684, \"Dimensions\": {\"Algorithm\": \"Linear Learner\", \"Host\": \"algo-1\", \"Operation\": \"training\", \"epoch\": 7, \"model\": 0}, \"Metrics\": {\"validation_mse_objective\": {\"sum\": 70.54571969168526, \"count\": 1, \"min\": 70.54571969168526, \"max\": 70.54571969168526}}}\u001b[0m\n",
      "\u001b[34m#metrics {\"StartTime\": 1644192366.3431933, \"EndTime\": 1644192366.3432484, \"Dimensions\": {\"Algorithm\": \"Linear Learner\", \"Host\": \"algo-1\", \"Operation\": \"training\", \"epoch\": 7, \"model\": 1}, \"Metrics\": {\"validation_mse_objective\": {\"sum\": 70.23098318917411, \"count\": 1, \"min\": 70.23098318917411, \"max\": 70.23098318917411}}}\u001b[0m\n",
      "\u001b[34m#metrics {\"StartTime\": 1644192366.343324, \"EndTime\": 1644192366.3433752, \"Dimensions\": {\"Algorithm\": \"Linear Learner\", \"Host\": \"algo-1\", \"Operation\": \"training\", \"epoch\": 7, \"model\": 2}, \"Metrics\": {\"validation_mse_objective\": {\"sum\": 95.60377720424107, \"count\": 1, \"min\": 95.60377720424107, \"max\": 95.60377720424107}}}\u001b[0m\n",
      "\u001b[34m#metrics {\"StartTime\": 1644192366.343716, \"EndTime\": 1644192366.3437412, \"Dimensions\": {\"Algorithm\": \"Linear Learner\", \"Host\": \"algo-1\", \"Operation\": \"training\", \"epoch\": 7, \"model\": 3}, \"Metrics\": {\"validation_mse_objective\": {\"sum\": 66.72154017857143, \"count\": 1, \"min\": 66.72154017857143, \"max\": 66.72154017857143}}}\u001b[0m\n",
      "\u001b[34m#metrics {\"StartTime\": 1644192366.343821, \"EndTime\": 1644192366.3438425, \"Dimensions\": {\"Algorithm\": \"Linear Learner\", \"Host\": \"algo-1\", \"Operation\": \"training\", \"epoch\": 7, \"model\": 4}, \"Metrics\": {\"validation_mse_objective\": {\"sum\": 49.01043265206473, \"count\": 1, \"min\": 49.01043265206473, \"max\": 49.01043265206473}}}\u001b[0m\n",
      "\u001b[34m#metrics {\"StartTime\": 1644192366.343914, \"EndTime\": 1644192366.344082, \"Dimensions\": {\"Algorithm\": \"Linear Learner\", \"Host\": \"algo-1\", \"Operation\": \"training\", \"epoch\": 7, \"model\": 5}, \"Metrics\": {\"validation_mse_objective\": {\"sum\": 51.091993059430806, \"count\": 1, \"min\": 51.091993059430806, \"max\": 51.091993059430806}}}\u001b[0m\n",
      "\u001b[34m#metrics {\"StartTime\": 1644192366.3441658, \"EndTime\": 1644192366.3441865, \"Dimensions\": {\"Algorithm\": \"Linear Learner\", \"Host\": \"algo-1\", \"Operation\": \"training\", \"epoch\": 7, \"model\": 6}, \"Metrics\": {\"validation_mse_objective\": {\"sum\": 46.93585641043527, \"count\": 1, \"min\": 46.93585641043527, \"max\": 46.93585641043527}}}\u001b[0m\n",
      "\u001b[34m#metrics {\"StartTime\": 1644192366.3443205, \"EndTime\": 1644192366.3443828, \"Dimensions\": {\"Algorithm\": \"Linear Learner\", \"Host\": \"algo-1\", \"Operation\": \"training\", \"epoch\": 7, \"model\": 7}, \"Metrics\": {\"validation_mse_objective\": {\"sum\": 50.578478131975444, \"count\": 1, \"min\": 50.578478131975444, \"max\": 50.578478131975444}}}\u001b[0m\n",
      "\u001b[34m#metrics {\"StartTime\": 1644192366.3444648, \"EndTime\": 1644192366.3444831, \"Dimensions\": {\"Algorithm\": \"Linear Learner\", \"Host\": \"algo-1\", \"Operation\": \"training\", \"epoch\": 7, \"model\": 8}, \"Metrics\": {\"validation_mse_objective\": {\"sum\": 75.03829520089286, \"count\": 1, \"min\": 75.03829520089286, \"max\": 75.03829520089286}}}\u001b[0m\n",
      "\u001b[34m#metrics {\"StartTime\": 1644192366.3445506, \"EndTime\": 1644192366.344616, \"Dimensions\": {\"Algorithm\": \"Linear Learner\", \"Host\": \"algo-1\", \"Operation\": \"training\", \"epoch\": 7, \"model\": 9}, \"Metrics\": {\"validation_mse_objective\": {\"sum\": 103.35194614955357, \"count\": 1, \"min\": 103.35194614955357, \"max\": 103.35194614955357}}}\u001b[0m\n",
      "\u001b[34m#metrics {\"StartTime\": 1644192366.3446915, \"EndTime\": 1644192366.3447104, \"Dimensions\": {\"Algorithm\": \"Linear Learner\", \"Host\": \"algo-1\", \"Operation\": \"training\", \"epoch\": 7, \"model\": 10}, \"Metrics\": {\"validation_mse_objective\": {\"sum\": 69.92157418387276, \"count\": 1, \"min\": 69.92157418387276, \"max\": 69.92157418387276}}}\u001b[0m\n",
      "\u001b[34m#metrics {\"StartTime\": 1644192366.3447795, \"EndTime\": 1644192366.3447964, \"Dimensions\": {\"Algorithm\": \"Linear Learner\", \"Host\": \"algo-1\", \"Operation\": \"training\", \"epoch\": 7, \"model\": 11}, \"Metrics\": {\"validation_mse_objective\": {\"sum\": 89.99305071149554, \"count\": 1, \"min\": 89.99305071149554, \"max\": 89.99305071149554}}}\u001b[0m\n",
      "\u001b[34m#metrics {\"StartTime\": 1644192366.3448539, \"EndTime\": 1644192366.3448713, \"Dimensions\": {\"Algorithm\": \"Linear Learner\", \"Host\": \"algo-1\", \"Operation\": \"training\", \"epoch\": 7, \"model\": 12}, \"Metrics\": {\"validation_mse_objective\": {\"sum\": 45.881029401506694, \"count\": 1, \"min\": 45.881029401506694, \"max\": 45.881029401506694}}}\u001b[0m\n",
      "\u001b[34m#metrics {\"StartTime\": 1644192366.344941, \"EndTime\": 1644192366.3449588, \"Dimensions\": {\"Algorithm\": \"Linear Learner\", \"Host\": \"algo-1\", \"Operation\": \"training\", \"epoch\": 7, \"model\": 13}, \"Metrics\": {\"validation_mse_objective\": {\"sum\": 44.684618268694194, \"count\": 1, \"min\": 44.684618268694194, \"max\": 44.684618268694194}}}\u001b[0m\n",
      "\u001b[34m#metrics {\"StartTime\": 1644192366.3451068, \"EndTime\": 1644192366.3451276, \"Dimensions\": {\"Algorithm\": \"Linear Learner\", \"Host\": \"algo-1\", \"Operation\": \"training\", \"epoch\": 7, \"model\": 14}, \"Metrics\": {\"validation_mse_objective\": {\"sum\": 47.709446498325896, \"count\": 1, \"min\": 47.709446498325896, \"max\": 47.709446498325896}}}\u001b[0m\n",
      "\u001b[34m#metrics {\"StartTime\": 1644192366.3451853, \"EndTime\": 1644192366.3452022, \"Dimensions\": {\"Algorithm\": \"Linear Learner\", \"Host\": \"algo-1\", \"Operation\": \"training\", \"epoch\": 7, \"model\": 15}, \"Metrics\": {\"validation_mse_objective\": {\"sum\": 49.34936959402902, \"count\": 1, \"min\": 49.34936959402902, \"max\": 49.34936959402902}}}\u001b[0m\n",
      "\u001b[34m#metrics {\"StartTime\": 1644192366.3452597, \"EndTime\": 1644192366.3452768, \"Dimensions\": {\"Algorithm\": \"Linear Learner\", \"Host\": \"algo-1\", \"Operation\": \"training\", \"epoch\": 7, \"model\": 16}, \"Metrics\": {\"validation_mse_objective\": {\"sum\": 77.83214460100446, \"count\": 1, \"min\": 77.83214460100446, \"max\": 77.83214460100446}}}\u001b[0m\n",
      "\u001b[34m#metrics {\"StartTime\": 1644192366.3453321, \"EndTime\": 1644192366.345348, \"Dimensions\": {\"Algorithm\": \"Linear Learner\", \"Host\": \"algo-1\", \"Operation\": \"training\", \"epoch\": 7, \"model\": 17}, \"Metrics\": {\"validation_mse_objective\": {\"sum\": 74.36400495256696, \"count\": 1, \"min\": 74.36400495256696, \"max\": 74.36400495256696}}}\u001b[0m\n",
      "\u001b[34m#metrics {\"StartTime\": 1644192366.3453991, \"EndTime\": 1644192366.3454154, \"Dimensions\": {\"Algorithm\": \"Linear Learner\", \"Host\": \"algo-1\", \"Operation\": \"training\", \"epoch\": 7, \"model\": 18}, \"Metrics\": {\"validation_mse_objective\": {\"sum\": 92.82987758091518, \"count\": 1, \"min\": 92.82987758091518, \"max\": 92.82987758091518}}}\u001b[0m\n",
      "\u001b[34m#metrics {\"StartTime\": 1644192366.3454938, \"EndTime\": 1644192366.3455102, \"Dimensions\": {\"Algorithm\": \"Linear Learner\", \"Host\": \"algo-1\", \"Operation\": \"training\", \"epoch\": 7, \"model\": 19}, \"Metrics\": {\"validation_mse_objective\": {\"sum\": 77.48032052176339, \"count\": 1, \"min\": 77.48032052176339, \"max\": 77.48032052176339}}}\u001b[0m\n",
      "\u001b[34m#metrics {\"StartTime\": 1644192366.3455617, \"EndTime\": 1644192366.3455768, \"Dimensions\": {\"Algorithm\": \"Linear Learner\", \"Host\": \"algo-1\", \"Operation\": \"training\", \"epoch\": 7, \"model\": 20}, \"Metrics\": {\"validation_mse_objective\": {\"sum\": 46.25581577845982, \"count\": 1, \"min\": 46.25581577845982, \"max\": 46.25581577845982}}}\u001b[0m\n",
      "\u001b[34m#metrics {\"StartTime\": 1644192366.3456538, \"EndTime\": 1644192366.34567, \"Dimensions\": {\"Algorithm\": \"Linear Learner\", \"Host\": \"algo-1\", \"Operation\": \"training\", \"epoch\": 7, \"model\": 21}, \"Metrics\": {\"validation_mse_objective\": {\"sum\": 47.155591692243306, \"count\": 1, \"min\": 47.155591692243306, \"max\": 47.155591692243306}}}\u001b[0m\n",
      "\u001b[34m#metrics {\"StartTime\": 1644192366.345726, \"EndTime\": 1644192366.345743, \"Dimensions\": {\"Algorithm\": \"Linear Learner\", \"Host\": \"algo-1\", \"Operation\": \"training\", \"epoch\": 7, \"model\": 22}, \"Metrics\": {\"validation_mse_objective\": {\"sum\": 42.64494105747768, \"count\": 1, \"min\": 42.64494105747768, \"max\": 42.64494105747768}}}\u001b[0m\n",
      "\u001b[34m#metrics {\"StartTime\": 1644192366.3457942, \"EndTime\": 1644192366.3458107, \"Dimensions\": {\"Algorithm\": \"Linear Learner\", \"Host\": \"algo-1\", \"Operation\": \"training\", \"epoch\": 7, \"model\": 23}, \"Metrics\": {\"validation_mse_objective\": {\"sum\": 46.72106497628348, \"count\": 1, \"min\": 46.72106497628348, \"max\": 46.72106497628348}}}\u001b[0m\n",
      "\u001b[34m#metrics {\"StartTime\": 1644192366.3458636, \"EndTime\": 1644192366.3458798, \"Dimensions\": {\"Algorithm\": \"Linear Learner\", \"Host\": \"algo-1\", \"Operation\": \"training\", \"epoch\": 7, \"model\": 24}, \"Metrics\": {\"validation_mse_objective\": {\"sum\": 107.43092564174107, \"count\": 1, \"min\": 107.43092564174107, \"max\": 107.43092564174107}}}\u001b[0m\n",
      "\u001b[34m#metrics {\"StartTime\": 1644192366.3459268, \"EndTime\": 1644192366.3459382, \"Dimensions\": {\"Algorithm\": \"Linear Learner\", \"Host\": \"algo-1\", \"Operation\": \"training\", \"epoch\": 7, \"model\": 25}, \"Metrics\": {\"validation_mse_objective\": {\"sum\": 104.67546735491071, \"count\": 1, \"min\": 104.67546735491071, \"max\": 104.67546735491071}}}\u001b[0m\n",
      "\u001b[34m#metrics {\"StartTime\": 1644192366.3459864, \"EndTime\": 1644192366.3460011, \"Dimensions\": {\"Algorithm\": \"Linear Learner\", \"Host\": \"algo-1\", \"Operation\": \"training\", \"epoch\": 7, \"model\": 26}, \"Metrics\": {\"validation_mse_objective\": {\"sum\": 103.29656110491071, \"count\": 1, \"min\": 103.29656110491071, \"max\": 103.29656110491071}}}\u001b[0m\n",
      "\u001b[34m#metrics {\"StartTime\": 1644192366.3460522, \"EndTime\": 1644192366.346068, \"Dimensions\": {\"Algorithm\": \"Linear Learner\", \"Host\": \"algo-1\", \"Operation\": \"training\", \"epoch\": 7, \"model\": 27}, \"Metrics\": {\"validation_mse_objective\": {\"sum\": 107.96732875279018, \"count\": 1, \"min\": 107.96732875279018, \"max\": 107.96732875279018}}}\u001b[0m\n",
      "\u001b[34m#metrics {\"StartTime\": 1644192366.3461223, \"EndTime\": 1644192366.3461375, \"Dimensions\": {\"Algorithm\": \"Linear Learner\", \"Host\": \"algo-1\", \"Operation\": \"training\", \"epoch\": 7, \"model\": 28}, \"Metrics\": {\"validation_mse_objective\": {\"sum\": 107.29310825892857, \"count\": 1, \"min\": 107.29310825892857, \"max\": 107.29310825892857}}}\u001b[0m\n",
      "\u001b[34m#metrics {\"StartTime\": 1644192366.3461685, \"EndTime\": 1644192366.3461826, \"Dimensions\": {\"Algorithm\": \"Linear Learner\", \"Host\": \"algo-1\", \"Operation\": \"training\", \"epoch\": 7, \"model\": 29}, \"Metrics\": {\"validation_mse_objective\": {\"sum\": 124.24754987444196, \"count\": 1, \"min\": 124.24754987444196, \"max\": 124.24754987444196}}}\u001b[0m\n",
      "\u001b[34m#metrics {\"StartTime\": 1644192366.3462336, \"EndTime\": 1644192366.346249, \"Dimensions\": {\"Algorithm\": \"Linear Learner\", \"Host\": \"algo-1\", \"Operation\": \"training\", \"epoch\": 7, \"model\": 30}, \"Metrics\": {\"validation_mse_objective\": {\"sum\": 106.58390590122768, \"count\": 1, \"min\": 106.58390590122768, \"max\": 106.58390590122768}}}\u001b[0m\n",
      "\u001b[34m#metrics {\"StartTime\": 1644192366.3463037, \"EndTime\": 1644192366.3463185, \"Dimensions\": {\"Algorithm\": \"Linear Learner\", \"Host\": \"algo-1\", \"Operation\": \"training\", \"epoch\": 7, \"model\": 31}, \"Metrics\": {\"validation_mse_objective\": {\"sum\": 100.44888741629464, \"count\": 1, \"min\": 100.44888741629464, \"max\": 100.44888741629464}}}\u001b[0m\n",
      "\u001b[34m[02/07/2022 00:06:06 INFO 139888956827456] #quality_metric: host=algo-1, epoch=7, validation mse_objective <loss>=70.54571969168526\u001b[0m\n",
      "\u001b[34m[02/07/2022 00:06:06 INFO 139888956827456] #early_stopping_criteria_metric: host=algo-1, epoch=7, criteria=mse_objective, value=42.64494105747768\u001b[0m\n",
      "\u001b[34m[02/07/2022 00:06:06 INFO 139888956827456] Saving model for epoch: 7\u001b[0m\n",
      "\u001b[34m[02/07/2022 00:06:06 INFO 139888956827456] Saved checkpoint to \"/tmp/tmp2b_w2w0j/mx-mod-0000.params\"\u001b[0m\n",
      "\u001b[34m[02/07/2022 00:06:06 INFO 139888956827456] #progress_metric: host=algo-1, completed 53.333333333333336 % of epochs\u001b[0m\n",
      "\u001b[34m#metrics {\"StartTime\": 1644192366.2146485, \"EndTime\": 1644192366.357424, \"Dimensions\": {\"Algorithm\": \"Linear Learner\", \"Host\": \"algo-1\", \"Operation\": \"training\", \"epoch\": 7, \"Meta\": \"training_data_iter\"}, \"Metrics\": {\"Total Records Seen\": {\"sum\": 2243.0, \"count\": 1, \"min\": 2243, \"max\": 2243}, \"Total Batches Seen\": {\"sum\": 19.0, \"count\": 1, \"min\": 19, \"max\": 19}, \"Max Records Seen Between Resets\": {\"sum\": 227.0, \"count\": 1, \"min\": 227, \"max\": 227}, \"Max Batches Seen Between Resets\": {\"sum\": 2.0, \"count\": 1, \"min\": 2, \"max\": 2}, \"Reset Count\": {\"sum\": 10.0, \"count\": 1, \"min\": 10, \"max\": 10}, \"Number of Records Since Last Reset\": {\"sum\": 227.0, \"count\": 1, \"min\": 227, \"max\": 227}, \"Number of Batches Since Last Reset\": {\"sum\": 2.0, \"count\": 1, \"min\": 2, \"max\": 2}}}\u001b[0m\n",
      "\u001b[34m[02/07/2022 00:06:06 INFO 139888956827456] #throughput_metric: host=algo-1, train throughput=1586.8106324362973 records/second\u001b[0m\n",
      "\u001b[34m#metrics {\"StartTime\": 1644192366.400539, \"EndTime\": 1644192366.4006155, \"Dimensions\": {\"Algorithm\": \"Linear Learner\", \"Host\": \"algo-1\", \"Operation\": \"training\", \"epoch\": 8, \"model\": 0}, \"Metrics\": {\"train_mse_objective\": {\"sum\": 0.6824320220947265, \"count\": 1, \"min\": 0.6824320220947265, \"max\": 0.6824320220947265}}}\u001b[0m\n",
      "\u001b[34m#metrics {\"StartTime\": 1644192366.40071, \"EndTime\": 1644192366.4007244, \"Dimensions\": {\"Algorithm\": \"Linear Learner\", \"Host\": \"algo-1\", \"Operation\": \"training\", \"epoch\": 8, \"model\": 1}, \"Metrics\": {\"train_mse_objective\": {\"sum\": 0.6461571502685547, \"count\": 1, \"min\": 0.6461571502685547, \"max\": 0.6461571502685547}}}\u001b[0m\n",
      "\u001b[34m#metrics {\"StartTime\": 1644192366.4007592, \"EndTime\": 1644192366.4007685, \"Dimensions\": {\"Algorithm\": \"Linear Learner\", \"Host\": \"algo-1\", \"Operation\": \"training\", \"epoch\": 8, \"model\": 2}, \"Metrics\": {\"train_mse_objective\": {\"sum\": 0.8839813995361329, \"count\": 1, \"min\": 0.8839813995361329, \"max\": 0.8839813995361329}}}\u001b[0m\n",
      "\u001b[34m#metrics {\"StartTime\": 1644192366.400799, \"EndTime\": 1644192366.4008074, \"Dimensions\": {\"Algorithm\": \"Linear Learner\", \"Host\": \"algo-1\", \"Operation\": \"training\", \"epoch\": 8, \"model\": 3}, \"Metrics\": {\"train_mse_objective\": {\"sum\": 0.6533807373046875, \"count\": 1, \"min\": 0.6533807373046875, \"max\": 0.6533807373046875}}}\u001b[0m\n",
      "\u001b[34m#metrics {\"StartTime\": 1644192366.4008462, \"EndTime\": 1644192366.4008598, \"Dimensions\": {\"Algorithm\": \"Linear Learner\", \"Host\": \"algo-1\", \"Operation\": \"training\", \"epoch\": 8, \"model\": 4}, \"Metrics\": {\"train_mse_objective\": {\"sum\": 0.47735038757324216, \"count\": 1, \"min\": 0.47735038757324216, \"max\": 0.47735038757324216}}}\u001b[0m\n",
      "\u001b[34m#metrics {\"StartTime\": 1644192366.400894, \"EndTime\": 1644192366.4009025, \"Dimensions\": {\"Algorithm\": \"Linear Learner\", \"Host\": \"algo-1\", \"Operation\": \"training\", \"epoch\": 8, \"model\": 5}, \"Metrics\": {\"train_mse_objective\": {\"sum\": 0.5043899917602539, \"count\": 1, \"min\": 0.5043899917602539, \"max\": 0.5043899917602539}}}\u001b[0m\n",
      "\u001b[34m#metrics {\"StartTime\": 1644192366.4009283, \"EndTime\": 1644192366.4009364, \"Dimensions\": {\"Algorithm\": \"Linear Learner\", \"Host\": \"algo-1\", \"Operation\": \"training\", \"epoch\": 8, \"model\": 6}, \"Metrics\": {\"train_mse_objective\": {\"sum\": 0.49098575592041016, \"count\": 1, \"min\": 0.49098575592041016, \"max\": 0.49098575592041016}}}\u001b[0m\n",
      "\u001b[34m#metrics {\"StartTime\": 1644192366.4009728, \"EndTime\": 1644192366.4009871, \"Dimensions\": {\"Algorithm\": \"Linear Learner\", \"Host\": \"algo-1\", \"Operation\": \"training\", \"epoch\": 8, \"model\": 7}, \"Metrics\": {\"train_mse_objective\": {\"sum\": 0.49446739196777345, \"count\": 1, \"min\": 0.49446739196777345, \"max\": 0.49446739196777345}}}\u001b[0m\n",
      "\u001b[34m#metrics {\"StartTime\": 1644192366.4010234, \"EndTime\": 1644192366.4010332, \"Dimensions\": {\"Algorithm\": \"Linear Learner\", \"Host\": \"algo-1\", \"Operation\": \"training\", \"epoch\": 8, \"model\": 8}, \"Metrics\": {\"train_mse_objective\": {\"sum\": 0.7129607391357422, \"count\": 1, \"min\": 0.7129607391357422, \"max\": 0.7129607391357422}}}\u001b[0m\n",
      "\u001b[34m#metrics {\"StartTime\": 1644192366.401058, \"EndTime\": 1644192366.4010658, \"Dimensions\": {\"Algorithm\": \"Linear Learner\", \"Host\": \"algo-1\", \"Operation\": \"training\", \"epoch\": 8, \"model\": 9}, \"Metrics\": {\"train_mse_objective\": {\"sum\": 0.9247503662109375, \"count\": 1, \"min\": 0.9247503662109375, \"max\": 0.9247503662109375}}}\u001b[0m\n",
      "\u001b[34m#metrics {\"StartTime\": 1644192366.4010942, \"EndTime\": 1644192366.4011085, \"Dimensions\": {\"Algorithm\": \"Linear Learner\", \"Host\": \"algo-1\", \"Operation\": \"training\", \"epoch\": 8, \"model\": 10}, \"Metrics\": {\"train_mse_objective\": {\"sum\": 0.6688484191894531, \"count\": 1, \"min\": 0.6688484191894531, \"max\": 0.6688484191894531}}}\u001b[0m\n",
      "\u001b[34m#metrics {\"StartTime\": 1644192366.4011493, \"EndTime\": 1644192366.401158, \"Dimensions\": {\"Algorithm\": \"Linear Learner\", \"Host\": \"algo-1\", \"Operation\": \"training\", \"epoch\": 8, \"model\": 11}, \"Metrics\": {\"train_mse_objective\": {\"sum\": 0.7861561584472656, \"count\": 1, \"min\": 0.7861561584472656, \"max\": 0.7861561584472656}}}\u001b[0m\n",
      "\u001b[34m#metrics {\"StartTime\": 1644192366.4011846, \"EndTime\": 1644192366.4011922, \"Dimensions\": {\"Algorithm\": \"Linear Learner\", \"Host\": \"algo-1\", \"Operation\": \"training\", \"epoch\": 8, \"model\": 12}, \"Metrics\": {\"train_mse_objective\": {\"sum\": 0.47244312286376955, \"count\": 1, \"min\": 0.47244312286376955, \"max\": 0.47244312286376955}}}\u001b[0m\n",
      "\u001b[34m#metrics {\"StartTime\": 1644192366.4012172, \"EndTime\": 1644192366.4012246, \"Dimensions\": {\"Algorithm\": \"Linear Learner\", \"Host\": \"algo-1\", \"Operation\": \"training\", \"epoch\": 8, \"model\": 13}, \"Metrics\": {\"train_mse_objective\": {\"sum\": 0.4562856292724609, \"count\": 1, \"min\": 0.4562856292724609, \"max\": 0.4562856292724609}}}\u001b[0m\n",
      "\u001b[34m#metrics {\"StartTime\": 1644192366.4012496, \"EndTime\": 1644192366.4012568, \"Dimensions\": {\"Algorithm\": \"Linear Learner\", \"Host\": \"algo-1\", \"Operation\": \"training\", \"epoch\": 8, \"model\": 14}, \"Metrics\": {\"train_mse_objective\": {\"sum\": 0.468611946105957, \"count\": 1, \"min\": 0.468611946105957, \"max\": 0.468611946105957}}}\u001b[0m\n",
      "\u001b[34m#metrics {\"StartTime\": 1644192366.4012847, \"EndTime\": 1644192366.4012926, \"Dimensions\": {\"Algorithm\": \"Linear Learner\", \"Host\": \"algo-1\", \"Operation\": \"training\", \"epoch\": 8, \"model\": 15}, \"Metrics\": {\"train_mse_objective\": {\"sum\": 0.4980973434448242, \"count\": 1, \"min\": 0.4980973434448242, \"max\": 0.4980973434448242}}}\u001b[0m\n",
      "\u001b[34m#metrics {\"StartTime\": 1644192366.4013352, \"EndTime\": 1644192366.4013495, \"Dimensions\": {\"Algorithm\": \"Linear Learner\", \"Host\": \"algo-1\", \"Operation\": \"training\", \"epoch\": 8, \"model\": 16}, \"Metrics\": {\"train_mse_objective\": {\"sum\": 0.7147695922851562, \"count\": 1, \"min\": 0.7147695922851562, \"max\": 0.7147695922851562}}}\u001b[0m\n",
      "\u001b[34m#metrics {\"StartTime\": 1644192366.4014013, \"EndTime\": 1644192366.4014165, \"Dimensions\": {\"Algorithm\": \"Linear Learner\", \"Host\": \"algo-1\", \"Operation\": \"training\", \"epoch\": 8, \"model\": 17}, \"Metrics\": {\"train_mse_objective\": {\"sum\": 0.6511553955078125, \"count\": 1, \"min\": 0.6511553955078125, \"max\": 0.6511553955078125}}}\u001b[0m\n",
      "\u001b[34m#metrics {\"StartTime\": 1644192366.4014637, \"EndTime\": 1644192366.4014733, \"Dimensions\": {\"Algorithm\": \"Linear Learner\", \"Host\": \"algo-1\", \"Operation\": \"training\", \"epoch\": 8, \"model\": 18}, \"Metrics\": {\"train_mse_objective\": {\"sum\": 0.8741603851318359, \"count\": 1, \"min\": 0.8741603851318359, \"max\": 0.8741603851318359}}}\u001b[0m\n",
      "\u001b[34m#metrics {\"StartTime\": 1644192366.4015002, \"EndTime\": 1644192366.4015076, \"Dimensions\": {\"Algorithm\": \"Linear Learner\", \"Host\": \"algo-1\", \"Operation\": \"training\", \"epoch\": 8, \"model\": 19}, \"Metrics\": {\"train_mse_objective\": {\"sum\": 0.7448461151123047, \"count\": 1, \"min\": 0.7448461151123047, \"max\": 0.7448461151123047}}}\u001b[0m\n",
      "\u001b[34m#metrics {\"StartTime\": 1644192366.4015338, \"EndTime\": 1644192366.4015472, \"Dimensions\": {\"Algorithm\": \"Linear Learner\", \"Host\": \"algo-1\", \"Operation\": \"training\", \"epoch\": 8, \"model\": 20}, \"Metrics\": {\"train_mse_objective\": {\"sum\": 0.4220730209350586, \"count\": 1, \"min\": 0.4220730209350586, \"max\": 0.4220730209350586}}}\u001b[0m\n",
      "\u001b[34m#metrics {\"StartTime\": 1644192366.401596, \"EndTime\": 1644192366.4016063, \"Dimensions\": {\"Algorithm\": \"Linear Learner\", \"Host\": \"algo-1\", \"Operation\": \"training\", \"epoch\": 8, \"model\": 21}, \"Metrics\": {\"train_mse_objective\": {\"sum\": 0.4656502151489258, \"count\": 1, \"min\": 0.4656502151489258, \"max\": 0.4656502151489258}}}\u001b[0m\n",
      "\u001b[34m#metrics {\"StartTime\": 1644192366.4016342, \"EndTime\": 1644192366.4016407, \"Dimensions\": {\"Algorithm\": \"Linear Learner\", \"Host\": \"algo-1\", \"Operation\": \"training\", \"epoch\": 8, \"model\": 22}, \"Metrics\": {\"train_mse_objective\": {\"sum\": 0.40262794494628906, \"count\": 1, \"min\": 0.40262794494628906, \"max\": 0.40262794494628906}}}\u001b[0m\n",
      "\u001b[34m#metrics {\"StartTime\": 1644192366.4016657, \"EndTime\": 1644192366.4016733, \"Dimensions\": {\"Algorithm\": \"Linear Learner\", \"Host\": \"algo-1\", \"Operation\": \"training\", \"epoch\": 8, \"model\": 23}, \"Metrics\": {\"train_mse_objective\": {\"sum\": 0.41073902130126955, \"count\": 1, \"min\": 0.41073902130126955, \"max\": 0.41073902130126955}}}\u001b[0m\n",
      "\u001b[34m#metrics {\"StartTime\": 1644192366.4017165, \"EndTime\": 1644192366.40173, \"Dimensions\": {\"Algorithm\": \"Linear Learner\", \"Host\": \"algo-1\", \"Operation\": \"training\", \"epoch\": 8, \"model\": 24}, \"Metrics\": {\"train_mse_objective\": {\"sum\": 0.9865084075927735, \"count\": 1, \"min\": 0.9865084075927735, \"max\": 0.9865084075927735}}}\u001b[0m\n",
      "\u001b[34m#metrics {\"StartTime\": 1644192366.4017587, \"EndTime\": 1644192366.4017677, \"Dimensions\": {\"Algorithm\": \"Linear Learner\", \"Host\": \"algo-1\", \"Operation\": \"training\", \"epoch\": 8, \"model\": 25}, \"Metrics\": {\"train_mse_objective\": {\"sum\": 0.9680058288574219, \"count\": 1, \"min\": 0.9680058288574219, \"max\": 0.9680058288574219}}}\u001b[0m\n",
      "\u001b[34m#metrics {\"StartTime\": 1644192366.401792, \"EndTime\": 1644192366.401799, \"Dimensions\": {\"Algorithm\": \"Linear Learner\", \"Host\": \"algo-1\", \"Operation\": \"training\", \"epoch\": 8, \"model\": 26}, \"Metrics\": {\"train_mse_objective\": {\"sum\": 0.9759638977050781, \"count\": 1, \"min\": 0.9759638977050781, \"max\": 0.9759638977050781}}}\u001b[0m\n",
      "\u001b[34m#metrics {\"StartTime\": 1644192366.4018352, \"EndTime\": 1644192366.4018502, \"Dimensions\": {\"Algorithm\": \"Linear Learner\", \"Host\": \"algo-1\", \"Operation\": \"training\", \"epoch\": 8, \"model\": 27}, \"Metrics\": {\"train_mse_objective\": {\"sum\": 0.9893359375, \"count\": 1, \"min\": 0.9893359375, \"max\": 0.9893359375}}}\u001b[0m\n",
      "\u001b[34m#metrics {\"StartTime\": 1644192366.4018831, \"EndTime\": 1644192366.4018915, \"Dimensions\": {\"Algorithm\": \"Linear Learner\", \"Host\": \"algo-1\", \"Operation\": \"training\", \"epoch\": 8, \"model\": 28}, \"Metrics\": {\"train_mse_objective\": {\"sum\": 1.0525214385986328, \"count\": 1, \"min\": 1.0525214385986328, \"max\": 1.0525214385986328}}}\u001b[0m\n",
      "\u001b[34m#metrics {\"StartTime\": 1644192366.401917, \"EndTime\": 1644192366.4019244, \"Dimensions\": {\"Algorithm\": \"Linear Learner\", \"Host\": \"algo-1\", \"Operation\": \"training\", \"epoch\": 8, \"model\": 29}, \"Metrics\": {\"train_mse_objective\": {\"sum\": 1.1911141967773438, \"count\": 1, \"min\": 1.1911141967773438, \"max\": 1.1911141967773438}}}\u001b[0m\n",
      "\u001b[34m#metrics {\"StartTime\": 1644192366.401949, \"EndTime\": 1644192366.401956, \"Dimensions\": {\"Algorithm\": \"Linear Learner\", \"Host\": \"algo-1\", \"Operation\": \"training\", \"epoch\": 8, \"model\": 30}, \"Metrics\": {\"train_mse_objective\": {\"sum\": 1.01328857421875, \"count\": 1, \"min\": 1.01328857421875, \"max\": 1.01328857421875}}}\u001b[0m\n",
      "\u001b[34m#metrics {\"StartTime\": 1644192366.4019806, \"EndTime\": 1644192366.4019878, \"Dimensions\": {\"Algorithm\": \"Linear Learner\", \"Host\": \"algo-1\", \"Operation\": \"training\", \"epoch\": 8, \"model\": 31}, \"Metrics\": {\"train_mse_objective\": {\"sum\": 1.0190530395507813, \"count\": 1, \"min\": 1.0190530395507813, \"max\": 1.0190530395507813}}}\u001b[0m\n",
      "\u001b[34m[02/07/2022 00:06:06 INFO 139888956827456] #quality_metric: host=algo-1, epoch=8, train mse_objective <loss>=0.6824320220947265\u001b[0m\n",
      "\u001b[34m#metrics {\"StartTime\": 1644192366.4678047, \"EndTime\": 1644192366.4678676, \"Dimensions\": {\"Algorithm\": \"Linear Learner\", \"Host\": \"algo-1\", \"Operation\": \"training\", \"epoch\": 8, \"model\": 0}, \"Metrics\": {\"validation_mse_objective\": {\"sum\": 68.22471400669643, \"count\": 1, \"min\": 68.22471400669643, \"max\": 68.22471400669643}}}\u001b[0m\n",
      "\u001b[34m#metrics {\"StartTime\": 1644192366.4679916, \"EndTime\": 1644192366.4680169, \"Dimensions\": {\"Algorithm\": \"Linear Learner\", \"Host\": \"algo-1\", \"Operation\": \"training\", \"epoch\": 8, \"model\": 1}, \"Metrics\": {\"validation_mse_objective\": {\"sum\": 68.32412719726562, \"count\": 1, \"min\": 68.32412719726562, \"max\": 68.32412719726562}}}\u001b[0m\n",
      "\u001b[34m#metrics {\"StartTime\": 1644192366.4681373, \"EndTime\": 1644192366.4681568, \"Dimensions\": {\"Algorithm\": \"Linear Learner\", \"Host\": \"algo-1\", \"Operation\": \"training\", \"epoch\": 8, \"model\": 2}, \"Metrics\": {\"validation_mse_objective\": {\"sum\": 90.90249197823661, \"count\": 1, \"min\": 90.90249197823661, \"max\": 90.90249197823661}}}\u001b[0m\n",
      "\u001b[34m#metrics {\"StartTime\": 1644192366.4682534, \"EndTime\": 1644192366.468273, \"Dimensions\": {\"Algorithm\": \"Linear Learner\", \"Host\": \"algo-1\", \"Operation\": \"training\", \"epoch\": 8, \"model\": 3}, \"Metrics\": {\"validation_mse_objective\": {\"sum\": 65.41678292410714, \"count\": 1, \"min\": 65.41678292410714, \"max\": 65.41678292410714}}}\u001b[0m\n",
      "\u001b[34m#metrics {\"StartTime\": 1644192366.4683805, \"EndTime\": 1644192366.4684014, \"Dimensions\": {\"Algorithm\": \"Linear Learner\", \"Host\": \"algo-1\", \"Operation\": \"training\", \"epoch\": 8, \"model\": 4}, \"Metrics\": {\"validation_mse_objective\": {\"sum\": 55.804635184151785, \"count\": 1, \"min\": 55.804635184151785, \"max\": 55.804635184151785}}}\u001b[0m\n",
      "\u001b[34m#metrics {\"StartTime\": 1644192366.4685025, \"EndTime\": 1644192366.468523, \"Dimensions\": {\"Algorithm\": \"Linear Learner\", \"Host\": \"algo-1\", \"Operation\": \"training\", \"epoch\": 8, \"model\": 5}, \"Metrics\": {\"validation_mse_objective\": {\"sum\": 48.629137311662944, \"count\": 1, \"min\": 48.629137311662944, \"max\": 48.629137311662944}}}\u001b[0m\n",
      "\u001b[34m#metrics {\"StartTime\": 1644192366.4685698, \"EndTime\": 1644192366.468621, \"Dimensions\": {\"Algorithm\": \"Linear Learner\", \"Host\": \"algo-1\", \"Operation\": \"training\", \"epoch\": 8, \"model\": 6}, \"Metrics\": {\"validation_mse_objective\": {\"sum\": 45.015389578683035, \"count\": 1, \"min\": 45.015389578683035, \"max\": 45.015389578683035}}}\u001b[0m\n",
      "\u001b[34m#metrics {\"StartTime\": 1644192366.4686866, \"EndTime\": 1644192366.4688609, \"Dimensions\": {\"Algorithm\": \"Linear Learner\", \"Host\": \"algo-1\", \"Operation\": \"training\", \"epoch\": 8, \"model\": 7}, \"Metrics\": {\"validation_mse_objective\": {\"sum\": 47.741978236607146, \"count\": 1, \"min\": 47.741978236607146, \"max\": 47.741978236607146}}}\u001b[0m\n",
      "\u001b[34m#metrics {\"StartTime\": 1644192366.4689252, \"EndTime\": 1644192366.4689782, \"Dimensions\": {\"Algorithm\": \"Linear Learner\", \"Host\": \"algo-1\", \"Operation\": \"training\", \"epoch\": 8, \"model\": 8}, \"Metrics\": {\"validation_mse_objective\": {\"sum\": 73.37565394810268, \"count\": 1, \"min\": 73.37565394810268, \"max\": 73.37565394810268}}}\u001b[0m\n",
      "\u001b[34m#metrics {\"StartTime\": 1644192366.469044, \"EndTime\": 1644192366.4690628, \"Dimensions\": {\"Algorithm\": \"Linear Learner\", \"Host\": \"algo-1\", \"Operation\": \"training\", \"epoch\": 8, \"model\": 9}, \"Metrics\": {\"validation_mse_objective\": {\"sum\": 98.11426653180804, \"count\": 1, \"min\": 98.11426653180804, \"max\": 98.11426653180804}}}\u001b[0m\n",
      "\u001b[34m#metrics {\"StartTime\": 1644192366.4691565, \"EndTime\": 1644192366.4691768, \"Dimensions\": {\"Algorithm\": \"Linear Learner\", \"Host\": \"algo-1\", \"Operation\": \"training\", \"epoch\": 8, \"model\": 10}, \"Metrics\": {\"validation_mse_objective\": {\"sum\": 68.53131975446429, \"count\": 1, \"min\": 68.53131975446429, \"max\": 68.53131975446429}}}\u001b[0m\n",
      "\u001b[34m#metrics {\"StartTime\": 1644192366.4692736, \"EndTime\": 1644192366.4692938, \"Dimensions\": {\"Algorithm\": \"Linear Learner\", \"Host\": \"algo-1\", \"Operation\": \"training\", \"epoch\": 8, \"model\": 11}, \"Metrics\": {\"validation_mse_objective\": {\"sum\": 86.61028180803571, \"count\": 1, \"min\": 86.61028180803571, \"max\": 86.61028180803571}}}\u001b[0m\n",
      "\u001b[34m#metrics {\"StartTime\": 1644192366.4693944, \"EndTime\": 1644192366.4694536, \"Dimensions\": {\"Algorithm\": \"Linear Learner\", \"Host\": \"algo-1\", \"Operation\": \"training\", \"epoch\": 8, \"model\": 12}, \"Metrics\": {\"validation_mse_objective\": {\"sum\": 47.636400495256694, \"count\": 1, \"min\": 47.636400495256694, \"max\": 47.636400495256694}}}\u001b[0m\n",
      "\u001b[34m#metrics {\"StartTime\": 1644192366.4695513, \"EndTime\": 1644192366.469574, \"Dimensions\": {\"Algorithm\": \"Linear Learner\", \"Host\": \"algo-1\", \"Operation\": \"training\", \"epoch\": 8, \"model\": 13}, \"Metrics\": {\"validation_mse_objective\": {\"sum\": 47.553662981305806, \"count\": 1, \"min\": 47.553662981305806, \"max\": 47.553662981305806}}}\u001b[0m\n",
      "\u001b[34m#metrics {\"StartTime\": 1644192366.4696748, \"EndTime\": 1644192366.4697294, \"Dimensions\": {\"Algorithm\": \"Linear Learner\", \"Host\": \"algo-1\", \"Operation\": \"training\", \"epoch\": 8, \"model\": 14}, \"Metrics\": {\"validation_mse_objective\": {\"sum\": 54.39353288922991, \"count\": 1, \"min\": 54.39353288922991, \"max\": 54.39353288922991}}}\u001b[0m\n",
      "\u001b[34m#metrics {\"StartTime\": 1644192366.4697974, \"EndTime\": 1644192366.4698358, \"Dimensions\": {\"Algorithm\": \"Linear Learner\", \"Host\": \"algo-1\", \"Operation\": \"training\", \"epoch\": 8, \"model\": 15}, \"Metrics\": {\"validation_mse_objective\": {\"sum\": 48.697640555245535, \"count\": 1, \"min\": 48.697640555245535, \"max\": 48.697640555245535}}}\u001b[0m\n",
      "\u001b[34m#metrics {\"StartTime\": 1644192366.469932, \"EndTime\": 1644192366.4699903, \"Dimensions\": {\"Algorithm\": \"Linear Learner\", \"Host\": \"algo-1\", \"Operation\": \"training\", \"epoch\": 8, \"model\": 16}, \"Metrics\": {\"validation_mse_objective\": {\"sum\": 75.37486921037946, \"count\": 1, \"min\": 75.37486921037946, \"max\": 75.37486921037946}}}\u001b[0m\n",
      "\u001b[34m#metrics {\"StartTime\": 1644192366.4700508, \"EndTime\": 1644192366.4700994, \"Dimensions\": {\"Algorithm\": \"Linear Learner\", \"Host\": \"algo-1\", \"Operation\": \"training\", \"epoch\": 8, \"model\": 17}, \"Metrics\": {\"validation_mse_objective\": {\"sum\": 72.13757760184151, \"count\": 1, \"min\": 72.13757760184151, \"max\": 72.13757760184151}}}\u001b[0m\n",
      "\u001b[34m#metrics {\"StartTime\": 1644192366.4701915, \"EndTime\": 1644192366.4702103, \"Dimensions\": {\"Algorithm\": \"Linear Learner\", \"Host\": \"algo-1\", \"Operation\": \"training\", \"epoch\": 8, \"model\": 18}, \"Metrics\": {\"validation_mse_objective\": {\"sum\": 89.57564871651786, \"count\": 1, \"min\": 89.57564871651786, \"max\": 89.57564871651786}}}\u001b[0m\n",
      "\u001b[34m#metrics {\"StartTime\": 1644192366.4703047, \"EndTime\": 1644192366.470362, \"Dimensions\": {\"Algorithm\": \"Linear Learner\", \"Host\": \"algo-1\", \"Operation\": \"training\", \"epoch\": 8, \"model\": 19}, \"Metrics\": {\"validation_mse_objective\": {\"sum\": 75.09014892578125, \"count\": 1, \"min\": 75.09014892578125, \"max\": 75.09014892578125}}}\u001b[0m\n",
      "\u001b[34m#metrics {\"StartTime\": 1644192366.4704232, \"EndTime\": 1644192366.470477, \"Dimensions\": {\"Algorithm\": \"Linear Learner\", \"Host\": \"algo-1\", \"Operation\": \"training\", \"epoch\": 8, \"model\": 20}, \"Metrics\": {\"validation_mse_objective\": {\"sum\": 50.857269287109375, \"count\": 1, \"min\": 50.857269287109375, \"max\": 50.857269287109375}}}\u001b[0m\n",
      "\u001b[34m#metrics {\"StartTime\": 1644192366.4705806, \"EndTime\": 1644192366.4706035, \"Dimensions\": {\"Algorithm\": \"Linear Learner\", \"Host\": \"algo-1\", \"Operation\": \"training\", \"epoch\": 8, \"model\": 21}, \"Metrics\": {\"validation_mse_objective\": {\"sum\": 41.149684361049104, \"count\": 1, \"min\": 41.149684361049104, \"max\": 41.149684361049104}}}\u001b[0m\n",
      "\u001b[34m#metrics {\"StartTime\": 1644192366.4707036, \"EndTime\": 1644192366.4707253, \"Dimensions\": {\"Algorithm\": \"Linear Learner\", \"Host\": \"algo-1\", \"Operation\": \"training\", \"epoch\": 8, \"model\": 22}, \"Metrics\": {\"validation_mse_objective\": {\"sum\": 51.18749564034598, \"count\": 1, \"min\": 51.18749564034598, \"max\": 51.18749564034598}}}\u001b[0m\n",
      "\u001b[34m#metrics {\"StartTime\": 1644192366.4707842, \"EndTime\": 1644192366.4708025, \"Dimensions\": {\"Algorithm\": \"Linear Learner\", \"Host\": \"algo-1\", \"Operation\": \"training\", \"epoch\": 8, \"model\": 23}, \"Metrics\": {\"validation_mse_objective\": {\"sum\": 51.847813197544646, \"count\": 1, \"min\": 51.847813197544646, \"max\": 51.847813197544646}}}\u001b[0m\n",
      "\u001b[34m#metrics {\"StartTime\": 1644192366.4708948, \"EndTime\": 1644192366.4709146, \"Dimensions\": {\"Algorithm\": \"Linear Learner\", \"Host\": \"algo-1\", \"Operation\": \"training\", \"epoch\": 8, \"model\": 24}, \"Metrics\": {\"validation_mse_objective\": {\"sum\": 108.56432233537946, \"count\": 1, \"min\": 108.56432233537946, \"max\": 108.56432233537946}}}\u001b[0m\n",
      "\u001b[34m#metrics {\"StartTime\": 1644192366.4710085, \"EndTime\": 1644192366.4710288, \"Dimensions\": {\"Algorithm\": \"Linear Learner\", \"Host\": \"algo-1\", \"Operation\": \"training\", \"epoch\": 8, \"model\": 25}, \"Metrics\": {\"validation_mse_objective\": {\"sum\": 104.89889962332589, \"count\": 1, \"min\": 104.89889962332589, \"max\": 104.89889962332589}}}\u001b[0m\n",
      "\u001b[34m#metrics {\"StartTime\": 1644192366.4711258, \"EndTime\": 1644192366.4711456, \"Dimensions\": {\"Algorithm\": \"Linear Learner\", \"Host\": \"algo-1\", \"Operation\": \"training\", \"epoch\": 8, \"model\": 26}, \"Metrics\": {\"validation_mse_objective\": {\"sum\": 102.06166294642857, \"count\": 1, \"min\": 102.06166294642857, \"max\": 102.06166294642857}}}\u001b[0m\n",
      "\u001b[34m#metrics {\"StartTime\": 1644192366.471208, \"EndTime\": 1644192366.4712255, \"Dimensions\": {\"Algorithm\": \"Linear Learner\", \"Host\": \"algo-1\", \"Operation\": \"training\", \"epoch\": 8, \"model\": 27}, \"Metrics\": {\"validation_mse_objective\": {\"sum\": 106.19611467633929, \"count\": 1, \"min\": 106.19611467633929, \"max\": 106.19611467633929}}}\u001b[0m\n",
      "\u001b[34m#metrics {\"StartTime\": 1644192366.4713168, \"EndTime\": 1644192366.4713395, \"Dimensions\": {\"Algorithm\": \"Linear Learner\", \"Host\": \"algo-1\", \"Operation\": \"training\", \"epoch\": 8, \"model\": 28}, \"Metrics\": {\"validation_mse_objective\": {\"sum\": 106.20359584263393, \"count\": 1, \"min\": 106.20359584263393, \"max\": 106.20359584263393}}}\u001b[0m\n",
      "\u001b[34m#metrics {\"StartTime\": 1644192366.4714425, \"EndTime\": 1644192366.4714632, \"Dimensions\": {\"Algorithm\": \"Linear Learner\", \"Host\": \"algo-1\", \"Operation\": \"training\", \"epoch\": 8, \"model\": 29}, \"Metrics\": {\"validation_mse_objective\": {\"sum\": 123.49254499162946, \"count\": 1, \"min\": 123.49254499162946, \"max\": 123.49254499162946}}}\u001b[0m\n",
      "\u001b[34m#metrics {\"StartTime\": 1644192366.4715605, \"EndTime\": 1644192366.4715817, \"Dimensions\": {\"Algorithm\": \"Linear Learner\", \"Host\": \"algo-1\", \"Operation\": \"training\", \"epoch\": 8, \"model\": 30}, \"Metrics\": {\"validation_mse_objective\": {\"sum\": 102.13003104073661, \"count\": 1, \"min\": 102.13003104073661, \"max\": 102.13003104073661}}}\u001b[0m\n",
      "\u001b[34m#metrics {\"StartTime\": 1644192366.4716408, \"EndTime\": 1644192366.4716594, \"Dimensions\": {\"Algorithm\": \"Linear Learner\", \"Host\": \"algo-1\", \"Operation\": \"training\", \"epoch\": 8, \"model\": 31}, \"Metrics\": {\"validation_mse_objective\": {\"sum\": 98.49271937779018, \"count\": 1, \"min\": 98.49271937779018, \"max\": 98.49271937779018}}}\u001b[0m\n",
      "\u001b[34m[02/07/2022 00:06:06 INFO 139888956827456] #quality_metric: host=algo-1, epoch=8, validation mse_objective <loss>=68.22471400669643\u001b[0m\n",
      "\u001b[34m[02/07/2022 00:06:06 INFO 139888956827456] #early_stopping_criteria_metric: host=algo-1, epoch=8, criteria=mse_objective, value=41.149684361049104\u001b[0m\n",
      "\u001b[34m[02/07/2022 00:06:06 INFO 139888956827456] Saving model for epoch: 8\u001b[0m\n",
      "\u001b[34m[02/07/2022 00:06:06 INFO 139888956827456] Saved checkpoint to \"/tmp/tmpak1df7hf/mx-mod-0000.params\"\u001b[0m\n",
      "\u001b[34m[02/07/2022 00:06:06 INFO 139888956827456] #progress_metric: host=algo-1, completed 60.0 % of epochs\u001b[0m\n",
      "\u001b[34m#metrics {\"StartTime\": 1644192366.3578897, \"EndTime\": 1644192366.4799216, \"Dimensions\": {\"Algorithm\": \"Linear Learner\", \"Host\": \"algo-1\", \"Operation\": \"training\", \"epoch\": 8, \"Meta\": \"training_data_iter\"}, \"Metrics\": {\"Total Records Seen\": {\"sum\": 2470.0, \"count\": 1, \"min\": 2470, \"max\": 2470}, \"Total Batches Seen\": {\"sum\": 21.0, \"count\": 1, \"min\": 21, \"max\": 21}, \"Max Records Seen Between Resets\": {\"sum\": 227.0, \"count\": 1, \"min\": 227, \"max\": 227}, \"Max Batches Seen Between Resets\": {\"sum\": 2.0, \"count\": 1, \"min\": 2, \"max\": 2}, \"Reset Count\": {\"sum\": 11.0, \"count\": 1, \"min\": 11, \"max\": 11}, \"Number of Records Since Last Reset\": {\"sum\": 227.0, \"count\": 1, \"min\": 227, \"max\": 227}, \"Number of Batches Since Last Reset\": {\"sum\": 2.0, \"count\": 1, \"min\": 2, \"max\": 2}}}\u001b[0m\n",
      "\u001b[34m[02/07/2022 00:06:06 INFO 139888956827456] #throughput_metric: host=algo-1, train throughput=1857.3348835394638 records/second\u001b[0m\n",
      "\u001b[34m#metrics {\"StartTime\": 1644192366.5189562, \"EndTime\": 1644192366.5190122, \"Dimensions\": {\"Algorithm\": \"Linear Learner\", \"Host\": \"algo-1\", \"Operation\": \"training\", \"epoch\": 9, \"model\": 0}, \"Metrics\": {\"train_mse_objective\": {\"sum\": 0.6602252960205078, \"count\": 1, \"min\": 0.6602252960205078, \"max\": 0.6602252960205078}}}\u001b[0m\n",
      "\u001b[34m#metrics {\"StartTime\": 1644192366.5191436, \"EndTime\": 1644192366.5191638, \"Dimensions\": {\"Algorithm\": \"Linear Learner\", \"Host\": \"algo-1\", \"Operation\": \"training\", \"epoch\": 9, \"model\": 1}, \"Metrics\": {\"train_mse_objective\": {\"sum\": 0.6291540145874024, \"count\": 1, \"min\": 0.6291540145874024, \"max\": 0.6291540145874024}}}\u001b[0m\n",
      "\u001b[34m#metrics {\"StartTime\": 1644192366.5192685, \"EndTime\": 1644192366.5192895, \"Dimensions\": {\"Algorithm\": \"Linear Learner\", \"Host\": \"algo-1\", \"Operation\": \"training\", \"epoch\": 9, \"model\": 2}, \"Metrics\": {\"train_mse_objective\": {\"sum\": 0.8445188903808594, \"count\": 1, \"min\": 0.8445188903808594, \"max\": 0.8445188903808594}}}\u001b[0m\n",
      "\u001b[34m#metrics {\"StartTime\": 1644192366.5194118, \"EndTime\": 1644192366.5194318, \"Dimensions\": {\"Algorithm\": \"Linear Learner\", \"Host\": \"algo-1\", \"Operation\": \"training\", \"epoch\": 9, \"model\": 3}, \"Metrics\": {\"train_mse_objective\": {\"sum\": 0.6368007659912109, \"count\": 1, \"min\": 0.6368007659912109, \"max\": 0.6368007659912109}}}\u001b[0m\n",
      "\u001b[34m#metrics {\"StartTime\": 1644192366.5195339, \"EndTime\": 1644192366.5195541, \"Dimensions\": {\"Algorithm\": \"Linear Learner\", \"Host\": \"algo-1\", \"Operation\": \"training\", \"epoch\": 9, \"model\": 4}, \"Metrics\": {\"train_mse_objective\": {\"sum\": 0.5377547073364258, \"count\": 1, \"min\": 0.5377547073364258, \"max\": 0.5377547073364258}}}\u001b[0m\n",
      "\u001b[34m#metrics {\"StartTime\": 1644192366.5196445, \"EndTime\": 1644192366.5196633, \"Dimensions\": {\"Algorithm\": \"Linear Learner\", \"Host\": \"algo-1\", \"Operation\": \"training\", \"epoch\": 9, \"model\": 5}, \"Metrics\": {\"train_mse_objective\": {\"sum\": 0.48300895690917967, \"count\": 1, \"min\": 0.48300895690917967, \"max\": 0.48300895690917967}}}\u001b[0m\n",
      "\u001b[34m#metrics {\"StartTime\": 1644192366.519717, \"EndTime\": 1644192366.5197332, \"Dimensions\": {\"Algorithm\": \"Linear Learner\", \"Host\": \"algo-1\", \"Operation\": \"training\", \"epoch\": 9, \"model\": 6}, \"Metrics\": {\"train_mse_objective\": {\"sum\": 0.46714698791503906, \"count\": 1, \"min\": 0.46714698791503906, \"max\": 0.46714698791503906}}}\u001b[0m\n",
      "\u001b[34m#metrics {\"StartTime\": 1644192366.519787, \"EndTime\": 1644192366.5198028, \"Dimensions\": {\"Algorithm\": \"Linear Learner\", \"Host\": \"algo-1\", \"Operation\": \"training\", \"epoch\": 9, \"model\": 7}, \"Metrics\": {\"train_mse_objective\": {\"sum\": 0.47826011657714845, \"count\": 1, \"min\": 0.47826011657714845, \"max\": 0.47826011657714845}}}\u001b[0m\n",
      "\u001b[34m#metrics {\"StartTime\": 1644192366.5198562, \"EndTime\": 1644192366.5198724, \"Dimensions\": {\"Algorithm\": \"Linear Learner\", \"Host\": \"algo-1\", \"Operation\": \"training\", \"epoch\": 9, \"model\": 8}, \"Metrics\": {\"train_mse_objective\": {\"sum\": 0.6959828948974609, \"count\": 1, \"min\": 0.6959828948974609, \"max\": 0.6959828948974609}}}\u001b[0m\n",
      "\u001b[34m#metrics {\"StartTime\": 1644192366.519924, \"EndTime\": 1644192366.5199392, \"Dimensions\": {\"Algorithm\": \"Linear Learner\", \"Host\": \"algo-1\", \"Operation\": \"training\", \"epoch\": 9, \"model\": 9}, \"Metrics\": {\"train_mse_objective\": {\"sum\": 0.8821681213378906, \"count\": 1, \"min\": 0.8821681213378906, \"max\": 0.8821681213378906}}}\u001b[0m\n",
      "\u001b[34m#metrics {\"StartTime\": 1644192366.5199919, \"EndTime\": 1644192366.5200086, \"Dimensions\": {\"Algorithm\": \"Linear Learner\", \"Host\": \"algo-1\", \"Operation\": \"training\", \"epoch\": 9, \"model\": 10}, \"Metrics\": {\"train_mse_objective\": {\"sum\": 0.6520046997070312, \"count\": 1, \"min\": 0.6520046997070312, \"max\": 0.6520046997070312}}}\u001b[0m\n",
      "\u001b[34m#metrics {\"StartTime\": 1644192366.5200627, \"EndTime\": 1644192366.5200799, \"Dimensions\": {\"Algorithm\": \"Linear Learner\", \"Host\": \"algo-1\", \"Operation\": \"training\", \"epoch\": 9, \"model\": 11}, \"Metrics\": {\"train_mse_objective\": {\"sum\": 0.7592935180664062, \"count\": 1, \"min\": 0.7592935180664062, \"max\": 0.7592935180664062}}}\u001b[0m\n",
      "\u001b[34m#metrics {\"StartTime\": 1644192366.5201411, \"EndTime\": 1644192366.5201569, \"Dimensions\": {\"Algorithm\": \"Linear Learner\", \"Host\": \"algo-1\", \"Operation\": \"training\", \"epoch\": 9, \"model\": 12}, \"Metrics\": {\"train_mse_objective\": {\"sum\": 0.4935635757446289, \"count\": 1, \"min\": 0.4935635757446289, \"max\": 0.4935635757446289}}}\u001b[0m\n",
      "\u001b[34m#metrics {\"StartTime\": 1644192366.5202107, \"EndTime\": 1644192366.520228, \"Dimensions\": {\"Algorithm\": \"Linear Learner\", \"Host\": \"algo-1\", \"Operation\": \"training\", \"epoch\": 9, \"model\": 13}, \"Metrics\": {\"train_mse_objective\": {\"sum\": 0.47943916320800783, \"count\": 1, \"min\": 0.47943916320800783, \"max\": 0.47943916320800783}}}\u001b[0m\n",
      "\u001b[34m#metrics {\"StartTime\": 1644192366.5202801, \"EndTime\": 1644192366.5202954, \"Dimensions\": {\"Algorithm\": \"Linear Learner\", \"Host\": \"algo-1\", \"Operation\": \"training\", \"epoch\": 9, \"model\": 14}, \"Metrics\": {\"train_mse_objective\": {\"sum\": 0.5197441101074218, \"count\": 1, \"min\": 0.5197441101074218, \"max\": 0.5197441101074218}}}\u001b[0m\n",
      "\u001b[34m#metrics {\"StartTime\": 1644192366.5203464, \"EndTime\": 1644192366.5203636, \"Dimensions\": {\"Algorithm\": \"Linear Learner\", \"Host\": \"algo-1\", \"Operation\": \"training\", \"epoch\": 9, \"model\": 15}, \"Metrics\": {\"train_mse_objective\": {\"sum\": 0.5063198852539063, \"count\": 1, \"min\": 0.5063198852539063, \"max\": 0.5063198852539063}}}\u001b[0m\n",
      "\u001b[34m#metrics {\"StartTime\": 1644192366.520416, \"EndTime\": 1644192366.5204325, \"Dimensions\": {\"Algorithm\": \"Linear Learner\", \"Host\": \"algo-1\", \"Operation\": \"training\", \"epoch\": 9, \"model\": 16}, \"Metrics\": {\"train_mse_objective\": {\"sum\": 0.6915496826171875, \"count\": 1, \"min\": 0.6915496826171875, \"max\": 0.6915496826171875}}}\u001b[0m\n",
      "\u001b[34m#metrics {\"StartTime\": 1644192366.5204973, \"EndTime\": 1644192366.5205142, \"Dimensions\": {\"Algorithm\": \"Linear Learner\", \"Host\": \"algo-1\", \"Operation\": \"training\", \"epoch\": 9, \"model\": 17}, \"Metrics\": {\"train_mse_objective\": {\"sum\": 0.6324688339233399, \"count\": 1, \"min\": 0.6324688339233399, \"max\": 0.6324688339233399}}}\u001b[0m\n",
      "\u001b[34m#metrics {\"StartTime\": 1644192366.5205688, \"EndTime\": 1644192366.5205855, \"Dimensions\": {\"Algorithm\": \"Linear Learner\", \"Host\": \"algo-1\", \"Operation\": \"training\", \"epoch\": 9, \"model\": 18}, \"Metrics\": {\"train_mse_objective\": {\"sum\": 0.8462893676757812, \"count\": 1, \"min\": 0.8462893676757812, \"max\": 0.8462893676757812}}}\u001b[0m\n",
      "\u001b[34m#metrics {\"StartTime\": 1644192366.5206387, \"EndTime\": 1644192366.5206547, \"Dimensions\": {\"Algorithm\": \"Linear Learner\", \"Host\": \"algo-1\", \"Operation\": \"training\", \"epoch\": 9, \"model\": 19}, \"Metrics\": {\"train_mse_objective\": {\"sum\": 0.7217729187011719, \"count\": 1, \"min\": 0.7217729187011719, \"max\": 0.7217729187011719}}}\u001b[0m\n",
      "\u001b[34m#metrics {\"StartTime\": 1644192366.5207057, \"EndTime\": 1644192366.520721, \"Dimensions\": {\"Algorithm\": \"Linear Learner\", \"Host\": \"algo-1\", \"Operation\": \"training\", \"epoch\": 9, \"model\": 20}, \"Metrics\": {\"train_mse_objective\": {\"sum\": 0.4993279266357422, \"count\": 1, \"min\": 0.4993279266357422, \"max\": 0.4993279266357422}}}\u001b[0m\n",
      "\u001b[34m#metrics {\"StartTime\": 1644192366.5207734, \"EndTime\": 1644192366.520787, \"Dimensions\": {\"Algorithm\": \"Linear Learner\", \"Host\": \"algo-1\", \"Operation\": \"training\", \"epoch\": 9, \"model\": 21}, \"Metrics\": {\"train_mse_objective\": {\"sum\": 0.3938579559326172, \"count\": 1, \"min\": 0.3938579559326172, \"max\": 0.3938579559326172}}}\u001b[0m\n",
      "\u001b[34m#metrics {\"StartTime\": 1644192366.5208404, \"EndTime\": 1644192366.5208566, \"Dimensions\": {\"Algorithm\": \"Linear Learner\", \"Host\": \"algo-1\", \"Operation\": \"training\", \"epoch\": 9, \"model\": 22}, \"Metrics\": {\"train_mse_objective\": {\"sum\": 0.48363658905029294, \"count\": 1, \"min\": 0.48363658905029294, \"max\": 0.48363658905029294}}}\u001b[0m\n",
      "\u001b[34m#metrics {\"StartTime\": 1644192366.5209095, \"EndTime\": 1644192366.5209265, \"Dimensions\": {\"Algorithm\": \"Linear Learner\", \"Host\": \"algo-1\", \"Operation\": \"training\", \"epoch\": 9, \"model\": 23}, \"Metrics\": {\"train_mse_objective\": {\"sum\": 0.45860149383544924, \"count\": 1, \"min\": 0.45860149383544924, \"max\": 0.45860149383544924}}}\u001b[0m\n",
      "\u001b[34m#metrics {\"StartTime\": 1644192366.5209777, \"EndTime\": 1644192366.5209928, \"Dimensions\": {\"Algorithm\": \"Linear Learner\", \"Host\": \"algo-1\", \"Operation\": \"training\", \"epoch\": 9, \"model\": 24}, \"Metrics\": {\"train_mse_objective\": {\"sum\": 0.9938056945800782, \"count\": 1, \"min\": 0.9938056945800782, \"max\": 0.9938056945800782}}}\u001b[0m\n",
      "\u001b[34m#metrics {\"StartTime\": 1644192366.521042, \"EndTime\": 1644192366.5210586, \"Dimensions\": {\"Algorithm\": \"Linear Learner\", \"Host\": \"algo-1\", \"Operation\": \"training\", \"epoch\": 9, \"model\": 25}, \"Metrics\": {\"train_mse_objective\": {\"sum\": 0.9647627258300782, \"count\": 1, \"min\": 0.9647627258300782, \"max\": 0.9647627258300782}}}\u001b[0m\n",
      "\u001b[34m#metrics {\"StartTime\": 1644192366.5211132, \"EndTime\": 1644192366.5211306, \"Dimensions\": {\"Algorithm\": \"Linear Learner\", \"Host\": \"algo-1\", \"Operation\": \"training\", \"epoch\": 9, \"model\": 26}, \"Metrics\": {\"train_mse_objective\": {\"sum\": 0.9608724212646484, \"count\": 1, \"min\": 0.9608724212646484, \"max\": 0.9608724212646484}}}\u001b[0m\n",
      "\u001b[34m#metrics {\"StartTime\": 1644192366.5211837, \"EndTime\": 1644192366.5211995, \"Dimensions\": {\"Algorithm\": \"Linear Learner\", \"Host\": \"algo-1\", \"Operation\": \"training\", \"epoch\": 9, \"model\": 27}, \"Metrics\": {\"train_mse_objective\": {\"sum\": 0.9758420562744141, \"count\": 1, \"min\": 0.9758420562744141, \"max\": 0.9758420562744141}}}\u001b[0m\n",
      "\u001b[34m#metrics {\"StartTime\": 1644192366.5212517, \"EndTime\": 1644192366.521267, \"Dimensions\": {\"Algorithm\": \"Linear Learner\", \"Host\": \"algo-1\", \"Operation\": \"training\", \"epoch\": 9, \"model\": 28}, \"Metrics\": {\"train_mse_objective\": {\"sum\": 1.0330248260498047, \"count\": 1, \"min\": 1.0330248260498047, \"max\": 1.0330248260498047}}}\u001b[0m\n",
      "\u001b[34m#metrics {\"StartTime\": 1644192366.5213199, \"EndTime\": 1644192366.5213363, \"Dimensions\": {\"Algorithm\": \"Linear Learner\", \"Host\": \"algo-1\", \"Operation\": \"training\", \"epoch\": 9, \"model\": 29}, \"Metrics\": {\"train_mse_objective\": {\"sum\": 1.160946044921875, \"count\": 1, \"min\": 1.160946044921875, \"max\": 1.160946044921875}}}\u001b[0m\n",
      "\u001b[34m#metrics {\"StartTime\": 1644192366.5213878, \"EndTime\": 1644192366.5214033, \"Dimensions\": {\"Algorithm\": \"Linear Learner\", \"Host\": \"algo-1\", \"Operation\": \"training\", \"epoch\": 9, \"model\": 30}, \"Metrics\": {\"train_mse_objective\": {\"sum\": 0.9682872772216797, \"count\": 1, \"min\": 0.9682872772216797, \"max\": 0.9682872772216797}}}\u001b[0m\n",
      "\u001b[34m#metrics {\"StartTime\": 1644192366.5214572, \"EndTime\": 1644192366.5214732, \"Dimensions\": {\"Algorithm\": \"Linear Learner\", \"Host\": \"algo-1\", \"Operation\": \"training\", \"epoch\": 9, \"model\": 31}, \"Metrics\": {\"train_mse_objective\": {\"sum\": 1.0181401824951173, \"count\": 1, \"min\": 1.0181401824951173, \"max\": 1.0181401824951173}}}\u001b[0m\n",
      "\u001b[34m[02/07/2022 00:06:06 INFO 139888956827456] #quality_metric: host=algo-1, epoch=9, train mse_objective <loss>=0.6602252960205078\u001b[0m\n",
      "\u001b[34m#metrics {\"StartTime\": 1644192366.58641, \"EndTime\": 1644192366.5864704, \"Dimensions\": {\"Algorithm\": \"Linear Learner\", \"Host\": \"algo-1\", \"Operation\": \"training\", \"epoch\": 9, \"model\": 0}, \"Metrics\": {\"validation_mse_objective\": {\"sum\": 66.29880632672992, \"count\": 1, \"min\": 66.29880632672992, \"max\": 66.29880632672992}}}\u001b[0m\n",
      "\u001b[34m#metrics {\"StartTime\": 1644192366.5865605, \"EndTime\": 1644192366.5865808, \"Dimensions\": {\"Algorithm\": \"Linear Learner\", \"Host\": \"algo-1\", \"Operation\": \"training\", \"epoch\": 9, \"model\": 1}, \"Metrics\": {\"validation_mse_objective\": {\"sum\": 66.71273803710938, \"count\": 1, \"min\": 66.71273803710938, \"max\": 66.71273803710938}}}\u001b[0m\n",
      "\u001b[34m#metrics {\"StartTime\": 1644192366.5866363, \"EndTime\": 1644192366.5866523, \"Dimensions\": {\"Algorithm\": \"Linear Learner\", \"Host\": \"algo-1\", \"Operation\": \"training\", \"epoch\": 9, \"model\": 2}, \"Metrics\": {\"validation_mse_objective\": {\"sum\": 86.72902134486607, \"count\": 1, \"min\": 86.72902134486607, \"max\": 86.72902134486607}}}\u001b[0m\n",
      "\u001b[34m#metrics {\"StartTime\": 1644192366.5867155, \"EndTime\": 1644192366.586733, \"Dimensions\": {\"Algorithm\": \"Linear Learner\", \"Host\": \"algo-1\", \"Operation\": \"training\", \"epoch\": 9, \"model\": 3}, \"Metrics\": {\"validation_mse_objective\": {\"sum\": 64.48827689034599, \"count\": 1, \"min\": 64.48827689034599, \"max\": 64.48827689034599}}}\u001b[0m\n",
      "\u001b[34m#metrics {\"StartTime\": 1644192366.5867898, \"EndTime\": 1644192366.5868068, \"Dimensions\": {\"Algorithm\": \"Linear Learner\", \"Host\": \"algo-1\", \"Operation\": \"training\", \"epoch\": 9, \"model\": 4}, \"Metrics\": {\"validation_mse_objective\": {\"sum\": 48.88871547154018, \"count\": 1, \"min\": 48.88871547154018, \"max\": 48.88871547154018}}}\u001b[0m\n",
      "\u001b[34m#metrics {\"StartTime\": 1644192366.586863, \"EndTime\": 1644192366.5868795, \"Dimensions\": {\"Algorithm\": \"Linear Learner\", \"Host\": \"algo-1\", \"Operation\": \"training\", \"epoch\": 9, \"model\": 5}, \"Metrics\": {\"validation_mse_objective\": {\"sum\": 41.67388480050223, \"count\": 1, \"min\": 41.67388480050223, \"max\": 41.67388480050223}}}\u001b[0m\n",
      "\u001b[34m#metrics {\"StartTime\": 1644192366.586942, \"EndTime\": 1644192366.5869598, \"Dimensions\": {\"Algorithm\": \"Linear Learner\", \"Host\": \"algo-1\", \"Operation\": \"training\", \"epoch\": 9, \"model\": 6}, \"Metrics\": {\"validation_mse_objective\": {\"sum\": 41.78979928152902, \"count\": 1, \"min\": 41.78979928152902, \"max\": 41.78979928152902}}}\u001b[0m\n",
      "\u001b[34m#metrics {\"StartTime\": 1644192366.5870101, \"EndTime\": 1644192366.5870497, \"Dimensions\": {\"Algorithm\": \"Linear Learner\", \"Host\": \"algo-1\", \"Operation\": \"training\", \"epoch\": 9, \"model\": 7}, \"Metrics\": {\"validation_mse_objective\": {\"sum\": 42.662628173828125, \"count\": 1, \"min\": 42.662628173828125, \"max\": 42.662628173828125}}}\u001b[0m\n",
      "\u001b[34m#metrics {\"StartTime\": 1644192366.587105, \"EndTime\": 1644192366.5871215, \"Dimensions\": {\"Algorithm\": \"Linear Learner\", \"Host\": \"algo-1\", \"Operation\": \"training\", \"epoch\": 9, \"model\": 8}, \"Metrics\": {\"validation_mse_objective\": {\"sum\": 72.05892944335938, \"count\": 1, \"min\": 72.05892944335938, \"max\": 72.05892944335938}}}\u001b[0m\n",
      "\u001b[34m#metrics {\"StartTime\": 1644192366.5871685, \"EndTime\": 1644192366.587185, \"Dimensions\": {\"Algorithm\": \"Linear Learner\", \"Host\": \"algo-1\", \"Operation\": \"training\", \"epoch\": 9, \"model\": 9}, \"Metrics\": {\"validation_mse_objective\": {\"sum\": 93.41557094029018, \"count\": 1, \"min\": 93.41557094029018, \"max\": 93.41557094029018}}}\u001b[0m\n",
      "\u001b[34m#metrics {\"StartTime\": 1644192366.587245, \"EndTime\": 1644192366.5872622, \"Dimensions\": {\"Algorithm\": \"Linear Learner\", \"Host\": \"algo-1\", \"Operation\": \"training\", \"epoch\": 9, \"model\": 10}, \"Metrics\": {\"validation_mse_objective\": {\"sum\": 67.42220633370536, \"count\": 1, \"min\": 67.42220633370536, \"max\": 67.42220633370536}}}\u001b[0m\n",
      "\u001b[34m#metrics {\"StartTime\": 1644192366.5873108, \"EndTime\": 1644192366.5873253, \"Dimensions\": {\"Algorithm\": \"Linear Learner\", \"Host\": \"algo-1\", \"Operation\": \"training\", \"epoch\": 9, \"model\": 11}, \"Metrics\": {\"validation_mse_objective\": {\"sum\": 83.58595493861607, \"count\": 1, \"min\": 83.58595493861607, \"max\": 83.58595493861607}}}\u001b[0m\n",
      "\u001b[34m#metrics {\"StartTime\": 1644192366.58737, \"EndTime\": 1644192366.587384, \"Dimensions\": {\"Algorithm\": \"Linear Learner\", \"Host\": \"algo-1\", \"Operation\": \"training\", \"epoch\": 9, \"model\": 12}, \"Metrics\": {\"validation_mse_objective\": {\"sum\": 45.647936139787944, \"count\": 1, \"min\": 45.647936139787944, \"max\": 45.647936139787944}}}\u001b[0m\n",
      "\u001b[34m#metrics {\"StartTime\": 1644192366.5874295, \"EndTime\": 1644192366.587443, \"Dimensions\": {\"Algorithm\": \"Linear Learner\", \"Host\": \"algo-1\", \"Operation\": \"training\", \"epoch\": 9, \"model\": 13}, \"Metrics\": {\"validation_mse_objective\": {\"sum\": 45.57249232700893, \"count\": 1, \"min\": 45.57249232700893, \"max\": 45.57249232700893}}}\u001b[0m\n",
      "\u001b[34m#metrics {\"StartTime\": 1644192366.587485, \"EndTime\": 1644192366.5874999, \"Dimensions\": {\"Algorithm\": \"Linear Learner\", \"Host\": \"algo-1\", \"Operation\": \"training\", \"epoch\": 9, \"model\": 14}, \"Metrics\": {\"validation_mse_objective\": {\"sum\": 48.043932233537944, \"count\": 1, \"min\": 48.043932233537944, \"max\": 48.043932233537944}}}\u001b[0m\n",
      "\u001b[34m#metrics {\"StartTime\": 1644192366.5875487, \"EndTime\": 1644192366.587565, \"Dimensions\": {\"Algorithm\": \"Linear Learner\", \"Host\": \"algo-1\", \"Operation\": \"training\", \"epoch\": 9, \"model\": 15}, \"Metrics\": {\"validation_mse_objective\": {\"sum\": 43.624664306640625, \"count\": 1, \"min\": 43.624664306640625, \"max\": 43.624664306640625}}}\u001b[0m\n",
      "\u001b[34m#metrics {\"StartTime\": 1644192366.5876167, \"EndTime\": 1644192366.5876327, \"Dimensions\": {\"Algorithm\": \"Linear Learner\", \"Host\": \"algo-1\", \"Operation\": \"training\", \"epoch\": 9, \"model\": 16}, \"Metrics\": {\"validation_mse_objective\": {\"sum\": 73.42320033482143, \"count\": 1, \"min\": 73.42320033482143, \"max\": 73.42320033482143}}}\u001b[0m\n",
      "\u001b[34m#metrics {\"StartTime\": 1644192366.587684, \"EndTime\": 1644192366.5876992, \"Dimensions\": {\"Algorithm\": \"Linear Learner\", \"Host\": \"algo-1\", \"Operation\": \"training\", \"epoch\": 9, \"model\": 17}, \"Metrics\": {\"validation_mse_objective\": {\"sum\": 70.18072509765625, \"count\": 1, \"min\": 70.18072509765625, \"max\": 70.18072509765625}}}\u001b[0m\n",
      "\u001b[34m#metrics {\"StartTime\": 1644192366.5877512, \"EndTime\": 1644192366.5877676, \"Dimensions\": {\"Algorithm\": \"Linear Learner\", \"Host\": \"algo-1\", \"Operation\": \"training\", \"epoch\": 9, \"model\": 18}, \"Metrics\": {\"validation_mse_objective\": {\"sum\": 86.80976213727679, \"count\": 1, \"min\": 86.80976213727679, \"max\": 86.80976213727679}}}\u001b[0m\n",
      "\u001b[34m#metrics {\"StartTime\": 1644192366.5878172, \"EndTime\": 1644192366.5878327, \"Dimensions\": {\"Algorithm\": \"Linear Learner\", \"Host\": \"algo-1\", \"Operation\": \"training\", \"epoch\": 9, \"model\": 19}, \"Metrics\": {\"validation_mse_objective\": {\"sum\": 73.10671997070312, \"count\": 1, \"min\": 73.10671997070312, \"max\": 73.10671997070312}}}\u001b[0m\n",
      "\u001b[34m#metrics {\"StartTime\": 1644192366.5878818, \"EndTime\": 1644192366.5878973, \"Dimensions\": {\"Algorithm\": \"Linear Learner\", \"Host\": \"algo-1\", \"Operation\": \"training\", \"epoch\": 9, \"model\": 20}, \"Metrics\": {\"validation_mse_objective\": {\"sum\": 46.18324497767857, \"count\": 1, \"min\": 46.18324497767857, \"max\": 46.18324497767857}}}\u001b[0m\n",
      "\u001b[34m#metrics {\"StartTime\": 1644192366.587948, \"EndTime\": 1644192366.5879655, \"Dimensions\": {\"Algorithm\": \"Linear Learner\", \"Host\": \"algo-1\", \"Operation\": \"training\", \"epoch\": 9, \"model\": 21}, \"Metrics\": {\"validation_mse_objective\": {\"sum\": 39.225367954799104, \"count\": 1, \"min\": 39.225367954799104, \"max\": 39.225367954799104}}}\u001b[0m\n",
      "\u001b[34m#metrics {\"StartTime\": 1644192366.5880172, \"EndTime\": 1644192366.5880334, \"Dimensions\": {\"Algorithm\": \"Linear Learner\", \"Host\": \"algo-1\", \"Operation\": \"training\", \"epoch\": 9, \"model\": 22}, \"Metrics\": {\"validation_mse_objective\": {\"sum\": 48.090301513671875, \"count\": 1, \"min\": 48.090301513671875, \"max\": 48.090301513671875}}}\u001b[0m\n",
      "\u001b[34m#metrics {\"StartTime\": 1644192366.5880842, \"EndTime\": 1644192366.5881007, \"Dimensions\": {\"Algorithm\": \"Linear Learner\", \"Host\": \"algo-1\", \"Operation\": \"training\", \"epoch\": 9, \"model\": 23}, \"Metrics\": {\"validation_mse_objective\": {\"sum\": 47.624952043805806, \"count\": 1, \"min\": 47.624952043805806, \"max\": 47.624952043805806}}}\u001b[0m\n",
      "\u001b[34m#metrics {\"StartTime\": 1644192366.5881538, \"EndTime\": 1644192366.5881708, \"Dimensions\": {\"Algorithm\": \"Linear Learner\", \"Host\": \"algo-1\", \"Operation\": \"training\", \"epoch\": 9, \"model\": 24}, \"Metrics\": {\"validation_mse_objective\": {\"sum\": 109.47549874441964, \"count\": 1, \"min\": 109.47549874441964, \"max\": 109.47549874441964}}}\u001b[0m\n",
      "\u001b[34m#metrics {\"StartTime\": 1644192366.5882223, \"EndTime\": 1644192366.5882382, \"Dimensions\": {\"Algorithm\": \"Linear Learner\", \"Host\": \"algo-1\", \"Operation\": \"training\", \"epoch\": 9, \"model\": 25}, \"Metrics\": {\"validation_mse_objective\": {\"sum\": 105.15284075055804, \"count\": 1, \"min\": 105.15284075055804, \"max\": 105.15284075055804}}}\u001b[0m\n",
      "\u001b[34m#metrics {\"StartTime\": 1644192366.58829, \"EndTime\": 1644192366.5883057, \"Dimensions\": {\"Algorithm\": \"Linear Learner\", \"Host\": \"algo-1\", \"Operation\": \"training\", \"epoch\": 9, \"model\": 26}, \"Metrics\": {\"validation_mse_objective\": {\"sum\": 101.29588971819196, \"count\": 1, \"min\": 101.29588971819196, \"max\": 101.29588971819196}}}\u001b[0m\n",
      "\u001b[34m#metrics {\"StartTime\": 1644192366.5883572, \"EndTime\": 1644192366.588372, \"Dimensions\": {\"Algorithm\": \"Linear Learner\", \"Host\": \"algo-1\", \"Operation\": \"training\", \"epoch\": 9, \"model\": 27}, \"Metrics\": {\"validation_mse_objective\": {\"sum\": 104.85920933314732, \"count\": 1, \"min\": 104.85920933314732, \"max\": 104.85920933314732}}}\u001b[0m\n",
      "\u001b[34m#metrics {\"StartTime\": 1644192366.588419, \"EndTime\": 1644192366.5884347, \"Dimensions\": {\"Algorithm\": \"Linear Learner\", \"Host\": \"algo-1\", \"Operation\": \"training\", \"epoch\": 9, \"model\": 28}, \"Metrics\": {\"validation_mse_objective\": {\"sum\": 101.19962855747768, \"count\": 1, \"min\": 101.19962855747768, \"max\": 101.19962855747768}}}\u001b[0m\n",
      "\u001b[34m#metrics {\"StartTime\": 1644192366.588489, \"EndTime\": 1644192366.5885055, \"Dimensions\": {\"Algorithm\": \"Linear Learner\", \"Host\": \"algo-1\", \"Operation\": \"training\", \"epoch\": 9, \"model\": 29}, \"Metrics\": {\"validation_mse_objective\": {\"sum\": 111.22286551339286, \"count\": 1, \"min\": 111.22286551339286, \"max\": 111.22286551339286}}}\u001b[0m\n",
      "\u001b[34m#metrics {\"StartTime\": 1644192366.5885568, \"EndTime\": 1644192366.5885727, \"Dimensions\": {\"Algorithm\": \"Linear Learner\", \"Host\": \"algo-1\", \"Operation\": \"training\", \"epoch\": 9, \"model\": 30}, \"Metrics\": {\"validation_mse_objective\": {\"sum\": 95.47164481026786, \"count\": 1, \"min\": 95.47164481026786, \"max\": 95.47164481026786}}}\u001b[0m\n",
      "\u001b[34m#metrics {\"StartTime\": 1644192366.588625, \"EndTime\": 1644192366.5886416, \"Dimensions\": {\"Algorithm\": \"Linear Learner\", \"Host\": \"algo-1\", \"Operation\": \"training\", \"epoch\": 9, \"model\": 31}, \"Metrics\": {\"validation_mse_objective\": {\"sum\": 97.52651541573661, \"count\": 1, \"min\": 97.52651541573661, \"max\": 97.52651541573661}}}\u001b[0m\n",
      "\u001b[34m[02/07/2022 00:06:06 INFO 139888956827456] #quality_metric: host=algo-1, epoch=9, validation mse_objective <loss>=66.29880632672992\u001b[0m\n",
      "\u001b[34m[02/07/2022 00:06:06 INFO 139888956827456] #early_stopping_criteria_metric: host=algo-1, epoch=9, criteria=mse_objective, value=39.225367954799104\u001b[0m\n",
      "\u001b[34m[02/07/2022 00:06:06 INFO 139888956827456] Saving model for epoch: 9\u001b[0m\n",
      "\u001b[34m[02/07/2022 00:06:06 INFO 139888956827456] Saved checkpoint to \"/tmp/tmpdth58hew/mx-mod-0000.params\"\u001b[0m\n",
      "\u001b[34m[02/07/2022 00:06:06 INFO 139888956827456] #progress_metric: host=algo-1, completed 66.66666666666667 % of epochs\u001b[0m\n",
      "\u001b[34m#metrics {\"StartTime\": 1644192366.4803247, \"EndTime\": 1644192366.5968394, \"Dimensions\": {\"Algorithm\": \"Linear Learner\", \"Host\": \"algo-1\", \"Operation\": \"training\", \"epoch\": 9, \"Meta\": \"training_data_iter\"}, \"Metrics\": {\"Total Records Seen\": {\"sum\": 2697.0, \"count\": 1, \"min\": 2697, \"max\": 2697}, \"Total Batches Seen\": {\"sum\": 23.0, \"count\": 1, \"min\": 23, \"max\": 23}, \"Max Records Seen Between Resets\": {\"sum\": 227.0, \"count\": 1, \"min\": 227, \"max\": 227}, \"Max Batches Seen Between Resets\": {\"sum\": 2.0, \"count\": 1, \"min\": 2, \"max\": 2}, \"Reset Count\": {\"sum\": 12.0, \"count\": 1, \"min\": 12, \"max\": 12}, \"Number of Records Since Last Reset\": {\"sum\": 227.0, \"count\": 1, \"min\": 227, \"max\": 227}, \"Number of Batches Since Last Reset\": {\"sum\": 2.0, \"count\": 1, \"min\": 2, \"max\": 2}}}\u001b[0m\n",
      "\u001b[34m[02/07/2022 00:06:06 INFO 139888956827456] #throughput_metric: host=algo-1, train throughput=1944.7623101669815 records/second\u001b[0m\n",
      "\u001b[34m#metrics {\"StartTime\": 1644192366.6342437, \"EndTime\": 1644192366.6343062, \"Dimensions\": {\"Algorithm\": \"Linear Learner\", \"Host\": \"algo-1\", \"Operation\": \"training\", \"epoch\": 10, \"model\": 0}, \"Metrics\": {\"train_mse_objective\": {\"sum\": 0.6403640747070313, \"count\": 1, \"min\": 0.6403640747070313, \"max\": 0.6403640747070313}}}\u001b[0m\n",
      "\u001b[34m#metrics {\"StartTime\": 1644192366.6344168, \"EndTime\": 1644192366.6344392, \"Dimensions\": {\"Algorithm\": \"Linear Learner\", \"Host\": \"algo-1\", \"Operation\": \"training\", \"epoch\": 10, \"model\": 1}, \"Metrics\": {\"train_mse_objective\": {\"sum\": 0.6137119674682617, \"count\": 1, \"min\": 0.6137119674682617, \"max\": 0.6137119674682617}}}\u001b[0m\n",
      "\u001b[34m#metrics {\"StartTime\": 1644192366.6344998, \"EndTime\": 1644192366.6345174, \"Dimensions\": {\"Algorithm\": \"Linear Learner\", \"Host\": \"algo-1\", \"Operation\": \"training\", \"epoch\": 10, \"model\": 2}, \"Metrics\": {\"train_mse_objective\": {\"sum\": 0.8082557678222656, \"count\": 1, \"min\": 0.8082557678222656, \"max\": 0.8082557678222656}}}\u001b[0m\n",
      "\u001b[34m#metrics {\"StartTime\": 1644192366.634572, \"EndTime\": 1644192366.6345878, \"Dimensions\": {\"Algorithm\": \"Linear Learner\", \"Host\": \"algo-1\", \"Operation\": \"training\", \"epoch\": 10, \"model\": 3}, \"Metrics\": {\"train_mse_objective\": {\"sum\": 0.6218918228149414, \"count\": 1, \"min\": 0.6218918228149414, \"max\": 0.6218918228149414}}}\u001b[0m\n",
      "\u001b[34m#metrics {\"StartTime\": 1644192366.6346574, \"EndTime\": 1644192366.6346757, \"Dimensions\": {\"Algorithm\": \"Linear Learner\", \"Host\": \"algo-1\", \"Operation\": \"training\", \"epoch\": 10, \"model\": 4}, \"Metrics\": {\"train_mse_objective\": {\"sum\": 0.4524592590332031, \"count\": 1, \"min\": 0.4524592590332031, \"max\": 0.4524592590332031}}}\u001b[0m\n",
      "\u001b[34m#metrics {\"StartTime\": 1644192366.6347325, \"EndTime\": 1644192366.6347485, \"Dimensions\": {\"Algorithm\": \"Linear Learner\", \"Host\": \"algo-1\", \"Operation\": \"training\", \"epoch\": 10, \"model\": 5}, \"Metrics\": {\"train_mse_objective\": {\"sum\": 0.3888286209106445, \"count\": 1, \"min\": 0.3888286209106445, \"max\": 0.3888286209106445}}}\u001b[0m\n",
      "\u001b[34m#metrics {\"StartTime\": 1644192366.6348164, \"EndTime\": 1644192366.6348412, \"Dimensions\": {\"Algorithm\": \"Linear Learner\", \"Host\": \"algo-1\", \"Operation\": \"training\", \"epoch\": 10, \"model\": 6}, \"Metrics\": {\"train_mse_objective\": {\"sum\": 0.40061733245849607, \"count\": 1, \"min\": 0.40061733245849607, \"max\": 0.40061733245849607}}}\u001b[0m\n",
      "\u001b[34m#metrics {\"StartTime\": 1644192366.634899, \"EndTime\": 1644192366.6349156, \"Dimensions\": {\"Algorithm\": \"Linear Learner\", \"Host\": \"algo-1\", \"Operation\": \"training\", \"epoch\": 10, \"model\": 7}, \"Metrics\": {\"train_mse_objective\": {\"sum\": 0.4069062805175781, \"count\": 1, \"min\": 0.4069062805175781, \"max\": 0.4069062805175781}}}\u001b[0m\n",
      "\u001b[34m#metrics {\"StartTime\": 1644192366.6349697, \"EndTime\": 1644192366.634986, \"Dimensions\": {\"Algorithm\": \"Linear Learner\", \"Host\": \"algo-1\", \"Operation\": \"training\", \"epoch\": 10, \"model\": 8}, \"Metrics\": {\"train_mse_objective\": {\"sum\": 0.6807477569580078, \"count\": 1, \"min\": 0.6807477569580078, \"max\": 0.6807477569580078}}}\u001b[0m\n",
      "\u001b[34m#metrics {\"StartTime\": 1644192366.6350937, \"EndTime\": 1644192366.635113, \"Dimensions\": {\"Algorithm\": \"Linear Learner\", \"Host\": \"algo-1\", \"Operation\": \"training\", \"epoch\": 10, \"model\": 9}, \"Metrics\": {\"train_mse_objective\": {\"sum\": 0.8429220581054687, \"count\": 1, \"min\": 0.8429220581054687, \"max\": 0.8429220581054687}}}\u001b[0m\n",
      "\u001b[34m#metrics {\"StartTime\": 1644192366.635168, \"EndTime\": 1644192366.6351862, \"Dimensions\": {\"Algorithm\": \"Linear Learner\", \"Host\": \"algo-1\", \"Operation\": \"training\", \"epoch\": 10, \"model\": 10}, \"Metrics\": {\"train_mse_objective\": {\"sum\": 0.6367332458496093, \"count\": 1, \"min\": 0.6367332458496093, \"max\": 0.6367332458496093}}}\u001b[0m\n",
      "\u001b[34m#metrics {\"StartTime\": 1644192366.635239, \"EndTime\": 1644192366.6352537, \"Dimensions\": {\"Algorithm\": \"Linear Learner\", \"Host\": \"algo-1\", \"Operation\": \"training\", \"epoch\": 10, \"model\": 11}, \"Metrics\": {\"train_mse_objective\": {\"sum\": 0.7346758270263671, \"count\": 1, \"min\": 0.7346758270263671, \"max\": 0.7346758270263671}}}\u001b[0m\n",
      "\u001b[34m#metrics {\"StartTime\": 1644192366.6353035, \"EndTime\": 1644192366.63532, \"Dimensions\": {\"Algorithm\": \"Linear Learner\", \"Host\": \"algo-1\", \"Operation\": \"training\", \"epoch\": 10, \"model\": 12}, \"Metrics\": {\"train_mse_objective\": {\"sum\": 0.43679813385009764, \"count\": 1, \"min\": 0.43679813385009764, \"max\": 0.43679813385009764}}}\u001b[0m\n",
      "\u001b[34m#metrics {\"StartTime\": 1644192366.6353712, \"EndTime\": 1644192366.6353858, \"Dimensions\": {\"Algorithm\": \"Linear Learner\", \"Host\": \"algo-1\", \"Operation\": \"training\", \"epoch\": 10, \"model\": 13}, \"Metrics\": {\"train_mse_objective\": {\"sum\": 0.4301484680175781, \"count\": 1, \"min\": 0.4301484680175781, \"max\": 0.4301484680175781}}}\u001b[0m\n",
      "\u001b[34m#metrics {\"StartTime\": 1644192366.6354373, \"EndTime\": 1644192366.6354523, \"Dimensions\": {\"Algorithm\": \"Linear Learner\", \"Host\": \"algo-1\", \"Operation\": \"training\", \"epoch\": 10, \"model\": 14}, \"Metrics\": {\"train_mse_objective\": {\"sum\": 0.4365679168701172, \"count\": 1, \"min\": 0.4365679168701172, \"max\": 0.4365679168701172}}}\u001b[0m\n",
      "\u001b[34m#metrics {\"StartTime\": 1644192366.6355057, \"EndTime\": 1644192366.6355212, \"Dimensions\": {\"Algorithm\": \"Linear Learner\", \"Host\": \"algo-1\", \"Operation\": \"training\", \"epoch\": 10, \"model\": 15}, \"Metrics\": {\"train_mse_objective\": {\"sum\": 0.4284121704101562, \"count\": 1, \"min\": 0.4284121704101562, \"max\": 0.4284121704101562}}}\u001b[0m\n",
      "\u001b[34m#metrics {\"StartTime\": 1644192366.6355717, \"EndTime\": 1644192366.6355865, \"Dimensions\": {\"Algorithm\": \"Linear Learner\", \"Host\": \"algo-1\", \"Operation\": \"training\", \"epoch\": 10, \"model\": 16}, \"Metrics\": {\"train_mse_objective\": {\"sum\": 0.6710761260986328, \"count\": 1, \"min\": 0.6710761260986328, \"max\": 0.6710761260986328}}}\u001b[0m\n",
      "\u001b[34m#metrics {\"StartTime\": 1644192366.6356373, \"EndTime\": 1644192366.635653, \"Dimensions\": {\"Algorithm\": \"Linear Learner\", \"Host\": \"algo-1\", \"Operation\": \"training\", \"epoch\": 10, \"model\": 17}, \"Metrics\": {\"train_mse_objective\": {\"sum\": 0.6151820755004883, \"count\": 1, \"min\": 0.6151820755004883, \"max\": 0.6151820755004883}}}\u001b[0m\n",
      "\u001b[34m#metrics {\"StartTime\": 1644192366.6357048, \"EndTime\": 1644192366.6357203, \"Dimensions\": {\"Algorithm\": \"Linear Learner\", \"Host\": \"algo-1\", \"Operation\": \"training\", \"epoch\": 10, \"model\": 18}, \"Metrics\": {\"train_mse_objective\": {\"sum\": 0.820986557006836, \"count\": 1, \"min\": 0.820986557006836, \"max\": 0.820986557006836}}}\u001b[0m\n",
      "\u001b[34m#metrics {\"StartTime\": 1644192366.6357706, \"EndTime\": 1644192366.6357863, \"Dimensions\": {\"Algorithm\": \"Linear Learner\", \"Host\": \"algo-1\", \"Operation\": \"training\", \"epoch\": 10, \"model\": 19}, \"Metrics\": {\"train_mse_objective\": {\"sum\": 0.700660629272461, \"count\": 1, \"min\": 0.700660629272461, \"max\": 0.700660629272461}}}\u001b[0m\n",
      "\u001b[34m#metrics {\"StartTime\": 1644192366.6358352, \"EndTime\": 1644192366.6358495, \"Dimensions\": {\"Algorithm\": \"Linear Learner\", \"Host\": \"algo-1\", \"Operation\": \"training\", \"epoch\": 10, \"model\": 20}, \"Metrics\": {\"train_mse_objective\": {\"sum\": 0.4575006866455078, \"count\": 1, \"min\": 0.4575006866455078, \"max\": 0.4575006866455078}}}\u001b[0m\n",
      "\u001b[34m#metrics {\"StartTime\": 1644192366.6358984, \"EndTime\": 1644192366.6359131, \"Dimensions\": {\"Algorithm\": \"Linear Learner\", \"Host\": \"algo-1\", \"Operation\": \"training\", \"epoch\": 10, \"model\": 21}, \"Metrics\": {\"train_mse_objective\": {\"sum\": 0.32232563018798827, \"count\": 1, \"min\": 0.32232563018798827, \"max\": 0.32232563018798827}}}\u001b[0m\n",
      "\u001b[34m#metrics {\"StartTime\": 1644192366.635964, \"EndTime\": 1644192366.635979, \"Dimensions\": {\"Algorithm\": \"Linear Learner\", \"Host\": \"algo-1\", \"Operation\": \"training\", \"epoch\": 10, \"model\": 22}, \"Metrics\": {\"train_mse_objective\": {\"sum\": 0.43157100677490234, \"count\": 1, \"min\": 0.43157100677490234, \"max\": 0.43157100677490234}}}\u001b[0m\n",
      "\u001b[34m#metrics {\"StartTime\": 1644192366.6360278, \"EndTime\": 1644192366.6360424, \"Dimensions\": {\"Algorithm\": \"Linear Learner\", \"Host\": \"algo-1\", \"Operation\": \"training\", \"epoch\": 10, \"model\": 23}, \"Metrics\": {\"train_mse_objective\": {\"sum\": 0.3998945999145508, \"count\": 1, \"min\": 0.3998945999145508, \"max\": 0.3998945999145508}}}\u001b[0m\n",
      "\u001b[34m#metrics {\"StartTime\": 1644192366.6360915, \"EndTime\": 1644192366.6361058, \"Dimensions\": {\"Algorithm\": \"Linear Learner\", \"Host\": \"algo-1\", \"Operation\": \"training\", \"epoch\": 10, \"model\": 24}, \"Metrics\": {\"train_mse_objective\": {\"sum\": 0.9985770416259766, \"count\": 1, \"min\": 0.9985770416259766, \"max\": 0.9985770416259766}}}\u001b[0m\n",
      "\u001b[34m#metrics {\"StartTime\": 1644192366.636158, \"EndTime\": 1644192366.6361747, \"Dimensions\": {\"Algorithm\": \"Linear Learner\", \"Host\": \"algo-1\", \"Operation\": \"training\", \"epoch\": 10, \"model\": 25}, \"Metrics\": {\"train_mse_objective\": {\"sum\": 0.9616194152832032, \"count\": 1, \"min\": 0.9616194152832032, \"max\": 0.9616194152832032}}}\u001b[0m\n",
      "\u001b[34m#metrics {\"StartTime\": 1644192366.6362245, \"EndTime\": 1644192366.6362393, \"Dimensions\": {\"Algorithm\": \"Linear Learner\", \"Host\": \"algo-1\", \"Operation\": \"training\", \"epoch\": 10, \"model\": 26}, \"Metrics\": {\"train_mse_objective\": {\"sum\": 0.9487861633300781, \"count\": 1, \"min\": 0.9487861633300781, \"max\": 0.9487861633300781}}}\u001b[0m\n",
      "\u001b[34m#metrics {\"StartTime\": 1644192366.6362875, \"EndTime\": 1644192366.6363032, \"Dimensions\": {\"Algorithm\": \"Linear Learner\", \"Host\": \"algo-1\", \"Operation\": \"training\", \"epoch\": 10, \"model\": 27}, \"Metrics\": {\"train_mse_objective\": {\"sum\": 0.9649562835693359, \"count\": 1, \"min\": 0.9649562835693359, \"max\": 0.9649562835693359}}}\u001b[0m\n",
      "\u001b[34m#metrics {\"StartTime\": 1644192366.6363525, \"EndTime\": 1644192366.6363664, \"Dimensions\": {\"Algorithm\": \"Linear Learner\", \"Host\": \"algo-1\", \"Operation\": \"training\", \"epoch\": 10, \"model\": 28}, \"Metrics\": {\"train_mse_objective\": {\"sum\": 0.944298095703125, \"count\": 1, \"min\": 0.944298095703125, \"max\": 0.944298095703125}}}\u001b[0m\n",
      "\u001b[34m#metrics {\"StartTime\": 1644192366.6364133, \"EndTime\": 1644192366.6364295, \"Dimensions\": {\"Algorithm\": \"Linear Learner\", \"Host\": \"algo-1\", \"Operation\": \"training\", \"epoch\": 10, \"model\": 29}, \"Metrics\": {\"train_mse_objective\": {\"sum\": 1.005903854370117, \"count\": 1, \"min\": 1.005903854370117, \"max\": 1.005903854370117}}}\u001b[0m\n",
      "\u001b[34m#metrics {\"StartTime\": 1644192366.6364784, \"EndTime\": 1644192366.6364937, \"Dimensions\": {\"Algorithm\": \"Linear Learner\", \"Host\": \"algo-1\", \"Operation\": \"training\", \"epoch\": 10, \"model\": 30}, \"Metrics\": {\"train_mse_objective\": {\"sum\": 0.8798921966552734, \"count\": 1, \"min\": 0.8798921966552734, \"max\": 0.8798921966552734}}}\u001b[0m\n",
      "\u001b[34m#metrics {\"StartTime\": 1644192366.6365404, \"EndTime\": 1644192366.6365564, \"Dimensions\": {\"Algorithm\": \"Linear Learner\", \"Host\": \"algo-1\", \"Operation\": \"training\", \"epoch\": 10, \"model\": 31}, \"Metrics\": {\"train_mse_objective\": {\"sum\": 0.9636975860595703, \"count\": 1, \"min\": 0.9636975860595703, \"max\": 0.9636975860595703}}}\u001b[0m\n",
      "\u001b[34m[02/07/2022 00:06:06 INFO 139888956827456] #quality_metric: host=algo-1, epoch=10, train mse_objective <loss>=0.6403640747070313\u001b[0m\n",
      "\u001b[34m#metrics {\"StartTime\": 1644192366.7032053, \"EndTime\": 1644192366.7033176, \"Dimensions\": {\"Algorithm\": \"Linear Learner\", \"Host\": \"algo-1\", \"Operation\": \"training\", \"epoch\": 10, \"model\": 0}, \"Metrics\": {\"validation_mse_objective\": {\"sum\": 64.7443106515067, \"count\": 1, \"min\": 64.7443106515067, \"max\": 64.7443106515067}}}\u001b[0m\n",
      "\u001b[34m#metrics {\"StartTime\": 1644192366.7034457, \"EndTime\": 1644192366.7034695, \"Dimensions\": {\"Algorithm\": \"Linear Learner\", \"Host\": \"algo-1\", \"Operation\": \"training\", \"epoch\": 10, \"model\": 1}, \"Metrics\": {\"validation_mse_objective\": {\"sum\": 65.35932268415179, \"count\": 1, \"min\": 65.35932268415179, \"max\": 65.35932268415179}}}\u001b[0m\n",
      "\u001b[34m#metrics {\"StartTime\": 1644192366.7035334, \"EndTime\": 1644192366.703551, \"Dimensions\": {\"Algorithm\": \"Linear Learner\", \"Host\": \"algo-1\", \"Operation\": \"training\", \"epoch\": 10, \"model\": 2}, \"Metrics\": {\"validation_mse_objective\": {\"sum\": 83.08602469308036, \"count\": 1, \"min\": 83.08602469308036, \"max\": 83.08602469308036}}}\u001b[0m\n",
      "\u001b[34m#metrics {\"StartTime\": 1644192366.7036061, \"EndTime\": 1644192366.7036216, \"Dimensions\": {\"Algorithm\": \"Linear Learner\", \"Host\": \"algo-1\", \"Operation\": \"training\", \"epoch\": 10, \"model\": 3}, \"Metrics\": {\"validation_mse_objective\": {\"sum\": 63.868639264787944, \"count\": 1, \"min\": 63.868639264787944, \"max\": 63.868639264787944}}}\u001b[0m\n",
      "\u001b[34m#metrics {\"StartTime\": 1644192366.7036703, \"EndTime\": 1644192366.7036839, \"Dimensions\": {\"Algorithm\": \"Linear Learner\", \"Host\": \"algo-1\", \"Operation\": \"training\", \"epoch\": 10, \"model\": 4}, \"Metrics\": {\"validation_mse_objective\": {\"sum\": 39.84554181780134, \"count\": 1, \"min\": 39.84554181780134, \"max\": 39.84554181780134}}}\u001b[0m\n",
      "\u001b[34m#metrics {\"StartTime\": 1644192366.7037332, \"EndTime\": 1644192366.7037487, \"Dimensions\": {\"Algorithm\": \"Linear Learner\", \"Host\": \"algo-1\", \"Operation\": \"training\", \"epoch\": 10, \"model\": 5}, \"Metrics\": {\"validation_mse_objective\": {\"sum\": 42.564928327287944, \"count\": 1, \"min\": 42.564928327287944, \"max\": 42.564928327287944}}}\u001b[0m\n",
      "\u001b[34m#metrics {\"StartTime\": 1644192366.7037954, \"EndTime\": 1644192366.7038095, \"Dimensions\": {\"Algorithm\": \"Linear Learner\", \"Host\": \"algo-1\", \"Operation\": \"training\", \"epoch\": 10, \"model\": 6}, \"Metrics\": {\"validation_mse_objective\": {\"sum\": 45.93408203125, \"count\": 1, \"min\": 45.93408203125, \"max\": 45.93408203125}}}\u001b[0m\n",
      "\u001b[34m#metrics {\"StartTime\": 1644192366.7038596, \"EndTime\": 1644192366.703874, \"Dimensions\": {\"Algorithm\": \"Linear Learner\", \"Host\": \"algo-1\", \"Operation\": \"training\", \"epoch\": 10, \"model\": 7}, \"Metrics\": {\"validation_mse_objective\": {\"sum\": 44.62963431222098, \"count\": 1, \"min\": 44.62963431222098, \"max\": 44.62963431222098}}}\u001b[0m\n",
      "\u001b[34m#metrics {\"StartTime\": 1644192366.7039258, \"EndTime\": 1644192366.7039406, \"Dimensions\": {\"Algorithm\": \"Linear Learner\", \"Host\": \"algo-1\", \"Operation\": \"training\", \"epoch\": 10, \"model\": 8}, \"Metrics\": {\"validation_mse_objective\": {\"sum\": 71.01504080636161, \"count\": 1, \"min\": 71.01504080636161, \"max\": 71.01504080636161}}}\u001b[0m\n",
      "\u001b[34m#metrics {\"StartTime\": 1644192366.7039924, \"EndTime\": 1644192366.7040088, \"Dimensions\": {\"Algorithm\": \"Linear Learner\", \"Host\": \"algo-1\", \"Operation\": \"training\", \"epoch\": 10, \"model\": 9}, \"Metrics\": {\"validation_mse_objective\": {\"sum\": 89.20991734095982, \"count\": 1, \"min\": 89.20991734095982, \"max\": 89.20991734095982}}}\u001b[0m\n",
      "\u001b[34m#metrics {\"StartTime\": 1644192366.7040594, \"EndTime\": 1644192366.7040737, \"Dimensions\": {\"Algorithm\": \"Linear Learner\", \"Host\": \"algo-1\", \"Operation\": \"training\", \"epoch\": 10, \"model\": 10}, \"Metrics\": {\"validation_mse_objective\": {\"sum\": 66.53081839425224, \"count\": 1, \"min\": 66.53081839425224, \"max\": 66.53081839425224}}}\u001b[0m\n",
      "\u001b[34m#metrics {\"StartTime\": 1644192366.7041237, \"EndTime\": 1644192366.7041385, \"Dimensions\": {\"Algorithm\": \"Linear Learner\", \"Host\": \"algo-1\", \"Operation\": \"training\", \"epoch\": 10, \"model\": 11}, \"Metrics\": {\"validation_mse_objective\": {\"sum\": 80.89963204520089, \"count\": 1, \"min\": 80.89963204520089, \"max\": 80.89963204520089}}}\u001b[0m\n",
      "\u001b[34m#metrics {\"StartTime\": 1644192366.7041876, \"EndTime\": 1644192366.7042012, \"Dimensions\": {\"Algorithm\": \"Linear Learner\", \"Host\": \"algo-1\", \"Operation\": \"training\", \"epoch\": 10, \"model\": 12}, \"Metrics\": {\"validation_mse_objective\": {\"sum\": 45.07562691824777, \"count\": 1, \"min\": 45.07562691824777, \"max\": 45.07562691824777}}}\u001b[0m\n",
      "\u001b[34m#metrics {\"StartTime\": 1644192366.7042491, \"EndTime\": 1644192366.704263, \"Dimensions\": {\"Algorithm\": \"Linear Learner\", \"Host\": \"algo-1\", \"Operation\": \"training\", \"epoch\": 10, \"model\": 13}, \"Metrics\": {\"validation_mse_objective\": {\"sum\": 44.214085170200896, \"count\": 1, \"min\": 44.214085170200896, \"max\": 44.214085170200896}}}\u001b[0m\n",
      "\u001b[34m#metrics {\"StartTime\": 1644192366.704309, \"EndTime\": 1644192366.7043219, \"Dimensions\": {\"Algorithm\": \"Linear Learner\", \"Host\": \"algo-1\", \"Operation\": \"training\", \"epoch\": 10, \"model\": 14}, \"Metrics\": {\"validation_mse_objective\": {\"sum\": 40.865652901785715, \"count\": 1, \"min\": 40.865652901785715, \"max\": 40.865652901785715}}}\u001b[0m\n",
      "\u001b[34m#metrics {\"StartTime\": 1644192366.7043695, \"EndTime\": 1644192366.7043853, \"Dimensions\": {\"Algorithm\": \"Linear Learner\", \"Host\": \"algo-1\", \"Operation\": \"training\", \"epoch\": 10, \"model\": 15}, \"Metrics\": {\"validation_mse_objective\": {\"sum\": 42.989959716796875, \"count\": 1, \"min\": 42.989959716796875, \"max\": 42.989959716796875}}}\u001b[0m\n",
      "\u001b[34m#metrics {\"StartTime\": 1644192366.704439, \"EndTime\": 1644192366.704454, \"Dimensions\": {\"Algorithm\": \"Linear Learner\", \"Host\": \"algo-1\", \"Operation\": \"training\", \"epoch\": 10, \"model\": 16}, \"Metrics\": {\"validation_mse_objective\": {\"sum\": 71.8707275390625, \"count\": 1, \"min\": 71.8707275390625, \"max\": 71.8707275390625}}}\u001b[0m\n",
      "\u001b[34m#metrics {\"StartTime\": 1644192366.7045012, \"EndTime\": 1644192366.7045143, \"Dimensions\": {\"Algorithm\": \"Linear Learner\", \"Host\": \"algo-1\", \"Operation\": \"training\", \"epoch\": 10, \"model\": 17}, \"Metrics\": {\"validation_mse_objective\": {\"sum\": 68.46807861328125, \"count\": 1, \"min\": 68.46807861328125, \"max\": 68.46807861328125}}}\u001b[0m\n",
      "\u001b[34m#metrics {\"StartTime\": 1644192366.7045574, \"EndTime\": 1644192366.7045693, \"Dimensions\": {\"Algorithm\": \"Linear Learner\", \"Host\": \"algo-1\", \"Operation\": \"training\", \"epoch\": 10, \"model\": 18}, \"Metrics\": {\"validation_mse_objective\": {\"sum\": 84.46719796316964, \"count\": 1, \"min\": 84.46719796316964, \"max\": 84.46719796316964}}}\u001b[0m\n",
      "\u001b[34m#metrics {\"StartTime\": 1644192366.7046208, \"EndTime\": 1644192366.7046363, \"Dimensions\": {\"Algorithm\": \"Linear Learner\", \"Host\": \"algo-1\", \"Operation\": \"training\", \"epoch\": 10, \"model\": 19}, \"Metrics\": {\"validation_mse_objective\": {\"sum\": 71.45375279017857, \"count\": 1, \"min\": 71.45375279017857, \"max\": 71.45375279017857}}}\u001b[0m\n",
      "\u001b[34m#metrics {\"StartTime\": 1644192366.7046845, \"EndTime\": 1644192366.7046998, \"Dimensions\": {\"Algorithm\": \"Linear Learner\", \"Host\": \"algo-1\", \"Operation\": \"training\", \"epoch\": 10, \"model\": 20}, \"Metrics\": {\"validation_mse_objective\": {\"sum\": 46.56180681501116, \"count\": 1, \"min\": 46.56180681501116, \"max\": 46.56180681501116}}}\u001b[0m\n",
      "\u001b[34m#metrics {\"StartTime\": 1644192366.7048097, \"EndTime\": 1644192366.7048323, \"Dimensions\": {\"Algorithm\": \"Linear Learner\", \"Host\": \"algo-1\", \"Operation\": \"training\", \"epoch\": 10, \"model\": 21}, \"Metrics\": {\"validation_mse_objective\": {\"sum\": 46.487583705357146, \"count\": 1, \"min\": 46.487583705357146, \"max\": 46.487583705357146}}}\u001b[0m\n",
      "\u001b[34m#metrics {\"StartTime\": 1644192366.704871, \"EndTime\": 1644192366.7048793, \"Dimensions\": {\"Algorithm\": \"Linear Learner\", \"Host\": \"algo-1\", \"Operation\": \"training\", \"epoch\": 10, \"model\": 22}, \"Metrics\": {\"validation_mse_objective\": {\"sum\": 45.450574602399556, \"count\": 1, \"min\": 45.450574602399556, \"max\": 45.450574602399556}}}\u001b[0m\n",
      "\u001b[34m#metrics {\"StartTime\": 1644192366.7049243, \"EndTime\": 1644192366.7049391, \"Dimensions\": {\"Algorithm\": \"Linear Learner\", \"Host\": \"algo-1\", \"Operation\": \"training\", \"epoch\": 10, \"model\": 23}, \"Metrics\": {\"validation_mse_objective\": {\"sum\": 45.824227469308035, \"count\": 1, \"min\": 45.824227469308035, \"max\": 45.824227469308035}}}\u001b[0m\n",
      "\u001b[34m#metrics {\"StartTime\": 1644192366.7049706, \"EndTime\": 1644192366.7049787, \"Dimensions\": {\"Algorithm\": \"Linear Learner\", \"Host\": \"algo-1\", \"Operation\": \"training\", \"epoch\": 10, \"model\": 24}, \"Metrics\": {\"validation_mse_objective\": {\"sum\": 110.12458147321429, \"count\": 1, \"min\": 110.12458147321429, \"max\": 110.12458147321429}}}\u001b[0m\n",
      "\u001b[34m#metrics {\"StartTime\": 1644192366.7050037, \"EndTime\": 1644192366.7050111, \"Dimensions\": {\"Algorithm\": \"Linear Learner\", \"Host\": \"algo-1\", \"Operation\": \"training\", \"epoch\": 10, \"model\": 25}, \"Metrics\": {\"validation_mse_objective\": {\"sum\": 105.3865966796875, \"count\": 1, \"min\": 105.3865966796875, \"max\": 105.3865966796875}}}\u001b[0m\n",
      "\u001b[34m#metrics {\"StartTime\": 1644192366.7050445, \"EndTime\": 1644192366.705058, \"Dimensions\": {\"Algorithm\": \"Linear Learner\", \"Host\": \"algo-1\", \"Operation\": \"training\", \"epoch\": 10, \"model\": 26}, \"Metrics\": {\"validation_mse_objective\": {\"sum\": 100.89940534319196, \"count\": 1, \"min\": 100.89940534319196, \"max\": 100.89940534319196}}}\u001b[0m\n",
      "\u001b[34m#metrics {\"StartTime\": 1644192366.7050977, \"EndTime\": 1644192366.7051067, \"Dimensions\": {\"Algorithm\": \"Linear Learner\", \"Host\": \"algo-1\", \"Operation\": \"training\", \"epoch\": 10, \"model\": 27}, \"Metrics\": {\"validation_mse_objective\": {\"sum\": 103.93739536830357, \"count\": 1, \"min\": 103.93739536830357, \"max\": 103.93739536830357}}}\u001b[0m\n",
      "\u001b[34m#metrics {\"StartTime\": 1644192366.7051327, \"EndTime\": 1644192366.70514, \"Dimensions\": {\"Algorithm\": \"Linear Learner\", \"Host\": \"algo-1\", \"Operation\": \"training\", \"epoch\": 10, \"model\": 28}, \"Metrics\": {\"validation_mse_objective\": {\"sum\": 102.47943115234375, \"count\": 1, \"min\": 102.47943115234375, \"max\": 102.47943115234375}}}\u001b[0m\n",
      "\u001b[34m#metrics {\"StartTime\": 1644192366.7051675, \"EndTime\": 1644192366.705175, \"Dimensions\": {\"Algorithm\": \"Linear Learner\", \"Host\": \"algo-1\", \"Operation\": \"training\", \"epoch\": 10, \"model\": 29}, \"Metrics\": {\"validation_mse_objective\": {\"sum\": 102.46749441964286, \"count\": 1, \"min\": 102.46749441964286, \"max\": 102.46749441964286}}}\u001b[0m\n",
      "\u001b[34m#metrics {\"StartTime\": 1644192366.7052, \"EndTime\": 1644192366.7052073, \"Dimensions\": {\"Algorithm\": \"Linear Learner\", \"Host\": \"algo-1\", \"Operation\": \"training\", \"epoch\": 10, \"model\": 30}, \"Metrics\": {\"validation_mse_objective\": {\"sum\": 97.48569161551339, \"count\": 1, \"min\": 97.48569161551339, \"max\": 97.48569161551339}}}\u001b[0m\n",
      "\u001b[34m#metrics {\"StartTime\": 1644192366.705232, \"EndTime\": 1644192366.7052395, \"Dimensions\": {\"Algorithm\": \"Linear Learner\", \"Host\": \"algo-1\", \"Operation\": \"training\", \"epoch\": 10, \"model\": 31}, \"Metrics\": {\"validation_mse_objective\": {\"sum\": 104.92653982979911, \"count\": 1, \"min\": 104.92653982979911, \"max\": 104.92653982979911}}}\u001b[0m\n",
      "\u001b[34m[02/07/2022 00:06:06 INFO 139888956827456] #quality_metric: host=algo-1, epoch=10, validation mse_objective <loss>=64.7443106515067\u001b[0m\n",
      "\u001b[34m[02/07/2022 00:06:06 INFO 139888956827456] #early_stopping_criteria_metric: host=algo-1, epoch=10, criteria=mse_objective, value=39.84554181780134\u001b[0m\n",
      "\u001b[34m[02/07/2022 00:06:06 INFO 139888956827456] Saving model for epoch: 10\u001b[0m\n",
      "\u001b[34m[02/07/2022 00:06:06 INFO 139888956827456] Saved checkpoint to \"/tmp/tmpaycav1li/mx-mod-0000.params\"\u001b[0m\n",
      "\u001b[34m[02/07/2022 00:06:06 INFO 139888956827456] Early stop condition met. Stopping training.\u001b[0m\n",
      "\u001b[34m[02/07/2022 00:06:06 INFO 139888956827456] #progress_metric: host=algo-1, completed 100 % epochs\u001b[0m\n",
      "\u001b[34m#metrics {\"StartTime\": 1644192366.5972798, \"EndTime\": 1644192366.7124012, \"Dimensions\": {\"Algorithm\": \"Linear Learner\", \"Host\": \"algo-1\", \"Operation\": \"training\", \"epoch\": 10, \"Meta\": \"training_data_iter\"}, \"Metrics\": {\"Total Records Seen\": {\"sum\": 2924.0, \"count\": 1, \"min\": 2924, \"max\": 2924}, \"Total Batches Seen\": {\"sum\": 25.0, \"count\": 1, \"min\": 25, \"max\": 25}, \"Max Records Seen Between Resets\": {\"sum\": 227.0, \"count\": 1, \"min\": 227, \"max\": 227}, \"Max Batches Seen Between Resets\": {\"sum\": 2.0, \"count\": 1, \"min\": 2, \"max\": 2}, \"Reset Count\": {\"sum\": 13.0, \"count\": 1, \"min\": 13, \"max\": 13}, \"Number of Records Since Last Reset\": {\"sum\": 227.0, \"count\": 1, \"min\": 227, \"max\": 227}, \"Number of Batches Since Last Reset\": {\"sum\": 2.0, \"count\": 1, \"min\": 2, \"max\": 2}}}\u001b[0m\n",
      "\u001b[34m[02/07/2022 00:06:06 INFO 139888956827456] #throughput_metric: host=algo-1, train throughput=1969.7882674224948 records/second\u001b[0m\n",
      "\u001b[34m[02/07/2022 00:06:06 WARNING 139888956827456] wait_for_all_workers will not sync workers since the kv store is not running distributed\u001b[0m\n",
      "\u001b[34m[02/07/2022 00:06:06 WARNING 139888956827456] wait_for_all_workers will not sync workers since the kv store is not running distributed\u001b[0m\n",
      "\u001b[34m[02/07/2022 00:06:06 INFO 139888956827456] #early_stopping_criteria_metric: host=algo-1, epoch=10, criteria=mse_objective, value=39.84554181780134\u001b[0m\n",
      "\u001b[34m[02/07/2022 00:06:06 INFO 139888956827456] #validation_score (algo-1) : ('mse_objective', 35.199083600725444)\u001b[0m\n",
      "\u001b[34m[02/07/2022 00:06:06 INFO 139888956827456] #validation_score (algo-1) : ('mse', 35.199083600725444)\u001b[0m\n",
      "\u001b[34m[02/07/2022 00:06:06 INFO 139888956827456] #validation_score (algo-1) : ('absolute_loss', 4.068080357142857)\u001b[0m\n",
      "\u001b[34m[02/07/2022 00:06:06 INFO 139888956827456] #validation_score (algo-1) : ('rmse', 5.932881559640766)\u001b[0m\n",
      "\u001b[34m[02/07/2022 00:06:06 INFO 139888956827456] #validation_score (algo-1) : ('r2', 0.6767919518252641)\u001b[0m\n",
      "\u001b[34m[02/07/2022 00:06:06 INFO 139888956827456] #validation_score (algo-1) : ('mae', 4.068080395460129)\u001b[0m\n",
      "\u001b[34m[02/07/2022 00:06:06 INFO 139888956827456] #quality_metric: host=algo-1, validation mse_objective <loss>=35.199083600725444\u001b[0m\n",
      "\u001b[34m[02/07/2022 00:06:06 INFO 139888956827456] #quality_metric: host=algo-1, validation mse <loss>=35.199083600725444\u001b[0m\n",
      "\u001b[34m[02/07/2022 00:06:06 INFO 139888956827456] #quality_metric: host=algo-1, validation absolute_loss <loss>=4.068080357142857\u001b[0m\n",
      "\u001b[34m[02/07/2022 00:06:06 INFO 139888956827456] #quality_metric: host=algo-1, validation rmse <loss>=5.932881559640766\u001b[0m\n",
      "\u001b[34m[02/07/2022 00:06:06 INFO 139888956827456] #quality_metric: host=algo-1, validation r2 <loss>=0.6767919518252641\u001b[0m\n",
      "\u001b[34m[02/07/2022 00:06:06 INFO 139888956827456] #quality_metric: host=algo-1, validation mae <loss>=4.068080395460129\u001b[0m\n",
      "\u001b[34m[02/07/2022 00:06:06 INFO 139888956827456] Best model found for hyperparameters: {\"optimizer\": \"adam\", \"learning_rate\": 0.1, \"wd\": 1, \"l1\": 0.0, \"lr_scheduler_step\": 10, \"lr_scheduler_factor\": 0.99, \"lr_scheduler_minimum_lr\": 0.0001}\u001b[0m\n",
      "\u001b[34m[02/07/2022 00:06:06 INFO 139888956827456] Saved checkpoint to \"/tmp/tmpvykol8vk/mx-mod-0000.params\"\u001b[0m\n",
      "\u001b[34m[02/07/2022 00:06:06 INFO 139888956827456] Test data is not provided.\u001b[0m\n",
      "\u001b[34m#metrics {\"StartTime\": 1644192365.2626326, \"EndTime\": 1644192366.8059258, \"Dimensions\": {\"Algorithm\": \"Linear Learner\", \"Host\": \"algo-1\", \"Operation\": \"training\"}, \"Metrics\": {\"initialize.time\": {\"sum\": 181.74266815185547, \"count\": 1, \"min\": 181.74266815185547, \"max\": 181.74266815185547}, \"epochs\": {\"sum\": 15.0, \"count\": 1, \"min\": 15, \"max\": 15}, \"check_early_stopping.time\": {\"sum\": 6.300210952758789, \"count\": 12, \"min\": 0.2334117889404297, \"max\": 1.3921260833740234}, \"update.time\": {\"sum\": 1219.0513610839844, \"count\": 11, \"min\": 86.71116828918457, \"max\": 135.65969467163086}, \"finalize.time\": {\"sum\": 85.14595031738281, \"count\": 1, \"min\": 85.14595031738281, \"max\": 85.14595031738281}, \"setuptime\": {\"sum\": 26.34716033935547, \"count\": 1, \"min\": 26.34716033935547, \"max\": 26.34716033935547}, \"totaltime\": {\"sum\": 1805.598258972168, \"count\": 1, \"min\": 1805.598258972168, \"max\": 1805.598258972168}}}\u001b[0m\n"
     ]
    },
    {
     "name": "stdout",
     "output_type": "stream",
     "text": [
      "\n",
      "2022-02-07 00:06:16 Uploading - Uploading generated training model\n",
      "2022-02-07 00:06:16 Completed - Training job completed\n",
      "Training seconds: 136\n",
      "Billable seconds: 136\n"
     ]
    }
   ],
   "source": [
    "linear.fit({'train': s3_input_train, 'validation': s3_input_validation})"
   ]
  },
  {
   "cell_type": "markdown",
   "metadata": {},
   "source": [
    "## Step 6 (B): Deploy the trained model\n",
    "\n",
    "Similar to the XGBoost model, now that we've fit the model we need to deploy it. Also like the XGBoost model, we will use the lower level approach so that we have more control over the endpoint that gets created.\n",
    "\n",
    "### Build the model\n",
    "\n",
    "Of course, before we can deploy the model, we need to first create it. The `fit` method that we used earlier created some model artifacts and we can use these to construct a model object."
   ]
  },
  {
   "cell_type": "code",
   "execution_count": 24,
   "metadata": {},
   "outputs": [],
   "source": [
    "# First, we create a unique model name\n",
    "linear_model_name = \"boston-update-linear-model\" + strftime(\"%Y-%m-%d-%H-%M-%S\", gmtime())\n",
    "\n",
    "# We also need to tell SageMaker which container should be used for inference and where it should\n",
    "# retrieve the model artifacts from. In our case, the linear-learner container that we used for training\n",
    "# can also be used for inference.\n",
    "linear_primary_container = {\n",
    "    \"Image\": linear_container,\n",
    "    \"ModelDataUrl\": linear.model_data\n",
    "}\n",
    "\n",
    "# And lastly we construct the SageMaker model\n",
    "linear_model_info = session.sagemaker_client.create_model(\n",
    "                                ModelName = linear_model_name,\n",
    "                                ExecutionRoleArn = role,\n",
    "                                PrimaryContainer = linear_primary_container)"
   ]
  },
  {
   "cell_type": "markdown",
   "metadata": {},
   "source": [
    "### Create the endpoint configuration\n",
    "\n",
    "Once we have the model we can start putting together the endpoint by creating an endpoint configuration."
   ]
  },
  {
   "cell_type": "code",
   "execution_count": 25,
   "metadata": {},
   "outputs": [],
   "source": [
    "# As before, we need to give our endpoint configuration a name which should be unique\n",
    "linear_endpoint_config_name = \"boston-linear-endpoint-config-\" + strftime(\"%Y-%m-%d-%H-%M-%S\", gmtime())\n",
    "\n",
    "# And then we ask SageMaker to construct the endpoint configuration\n",
    "linear_endpoint_config_info = session.sagemaker_client.create_endpoint_config(\n",
    "                            EndpointConfigName = linear_endpoint_config_name,\n",
    "                            ProductionVariants = [{\n",
    "                                \"InstanceType\": \"ml.m4.xlarge\",\n",
    "                                \"InitialVariantWeight\": 1,\n",
    "                                \"InitialInstanceCount\": 1,\n",
    "                                \"ModelName\": linear_model_name,\n",
    "                                \"VariantName\": \"Linear-Model\"\n",
    "                            }])"
   ]
  },
  {
   "cell_type": "markdown",
   "metadata": {},
   "source": [
    "### Deploy the endpoint\n",
    "\n",
    "Now that the endpoint configuration has been created, we can ask SageMaker to build our endpoint.\n",
    "\n",
    "**Note:** This is a friendly (repeated) reminder that you are about to deploy an endpoint. Make sure that you shut it down once you've finished with it!"
   ]
  },
  {
   "cell_type": "code",
   "execution_count": 26,
   "metadata": {},
   "outputs": [],
   "source": [
    "# Again, we need a unique name for our endpoint\n",
    "endpoint_name = \"boston-update-endpoint-\" + strftime(\"%Y-%m-%d-%H-%M-%S\", gmtime())\n",
    "\n",
    "# And then we can deploy our endpoint\n",
    "endpoint_info = session.sagemaker_client.create_endpoint(\n",
    "                    EndpointName = endpoint_name,\n",
    "                    EndpointConfigName = linear_endpoint_config_name)"
   ]
  },
  {
   "cell_type": "code",
   "execution_count": 27,
   "metadata": {},
   "outputs": [
    {
     "name": "stdout",
     "output_type": "stream",
     "text": [
      "----------!"
     ]
    }
   ],
   "source": [
    "endpoint_dec = session.wait_for_endpoint(endpoint_name)"
   ]
  },
  {
   "cell_type": "markdown",
   "metadata": {},
   "source": [
    "## Step 7 (B): Use the model\n",
    "\n",
    "Just like with the XGBoost model, we will send some data to our endpoint to make sure that it is working properly. An important note is that the output format for the linear model is different from the XGBoost model."
   ]
  },
  {
   "cell_type": "code",
   "execution_count": 28,
   "metadata": {},
   "outputs": [],
   "source": [
    "response = session.sagemaker_runtime_client.invoke_endpoint(\n",
    "                                                EndpointName = endpoint_name,\n",
    "                                                ContentType = 'text/csv',\n",
    "                                                Body = ','.join(map(str, X_test.values[0])))"
   ]
  },
  {
   "cell_type": "code",
   "execution_count": 29,
   "metadata": {},
   "outputs": [
    {
     "name": "stdout",
     "output_type": "stream",
     "text": [
      "{'Body': <botocore.response.StreamingBody object at 0x7f5eefdc9828>,\n",
      " 'ContentType': 'application/json',\n",
      " 'InvokedProductionVariant': 'Linear-Model',\n",
      " 'ResponseMetadata': {'HTTPHeaders': {'content-length': '48',\n",
      "                                      'content-type': 'application/json',\n",
      "                                      'date': 'Mon, 07 Feb 2022 00:12:48 GMT',\n",
      "                                      'x-amzn-invoked-production-variant': 'Linear-Model',\n",
      "                                      'x-amzn-requestid': 'b9f63af7-c191-44b1-a766-462a05feee41'},\n",
      "                      'HTTPStatusCode': 200,\n",
      "                      'RequestId': 'b9f63af7-c191-44b1-a766-462a05feee41',\n",
      "                      'RetryAttempts': 0}}\n"
     ]
    }
   ],
   "source": [
    "pprint(response)"
   ]
  },
  {
   "cell_type": "code",
   "execution_count": 30,
   "metadata": {},
   "outputs": [],
   "source": [
    "result = response['Body'].read().decode(\"utf-8\")"
   ]
  },
  {
   "cell_type": "code",
   "execution_count": 31,
   "metadata": {},
   "outputs": [
    {
     "name": "stdout",
     "output_type": "stream",
     "text": [
      "'{\"predictions\": [{\"score\": 22.382028579711914}]}'\n"
     ]
    }
   ],
   "source": [
    "pprint(result)"
   ]
  },
  {
   "cell_type": "code",
   "execution_count": 32,
   "metadata": {},
   "outputs": [
    {
     "data": {
      "text/plain": [
       "array([21.2])"
      ]
     },
     "execution_count": 32,
     "metadata": {},
     "output_type": "execute_result"
    }
   ],
   "source": [
    "Y_test.values[0]"
   ]
  },
  {
   "cell_type": "markdown",
   "metadata": {},
   "source": [
    "## Shut down the endpoint\n",
    "\n",
    "Now that we know that the Linear model's endpoint works, we can shut it down."
   ]
  },
  {
   "cell_type": "code",
   "execution_count": null,
   "metadata": {},
   "outputs": [],
   "source": [
    "session.sagemaker_client.delete_endpoint(EndpointName = endpoint_name)"
   ]
  },
  {
   "cell_type": "markdown",
   "metadata": {},
   "source": [
    "## Step 6 (C): Deploy a combined model\n",
    "\n",
    "So far we've constructed two separate models which we could deploy and use. Before we talk about how we can change a deployed endpoint from one configuration to another, let's consider a slightly different situation. Suppose that before we switch from using only the XGBoost model to only the Linear model, we first want to do something like an A-B test, where we send some of the incoming data to the XGBoost model and some of the data to the Linear model.\n",
    "\n",
    "Fortunately, SageMaker provides this functionality. And to actually get SageMaker to do this for us is not too different from deploying a model in the way that we've already done. The only difference is that we need to list more than one model in the production variants parameter of the endpoint configuration.\n",
    "\n",
    "A reasonable question to ask is, how much data is sent to each of the models that I list in the production variants parameter? The answer is that it depends on the weight set for each model.\n",
    "\n",
    "Suppose that we have $k$ models listed in the production variants and that each model $i$ is assigned the weight $w_i$. Then each model $i$ will receive $w_i / W$ of the traffic where $W = \\sum_{i} w_i$.\n",
    "\n",
    "In our case, since we have two models, the linear model and the XGBoost model, and each model has weight 1, we see that each model will get 1 / (1 + 1) = 1/2 of the data sent to the endpoint."
   ]
  },
  {
   "cell_type": "code",
   "execution_count": 33,
   "metadata": {},
   "outputs": [],
   "source": [
    "# As before, we need to give our endpoint configuration a name which should be unique\n",
    "combined_endpoint_config_name = \"boston-combined-endpoint-config-\" + strftime(\"%Y-%m-%d-%H-%M-%S\", gmtime())\n",
    "\n",
    "# And then we ask SageMaker to construct the endpoint configuration\n",
    "combined_endpoint_config_info = session.sagemaker_client.create_endpoint_config(\n",
    "                            EndpointConfigName = combined_endpoint_config_name,\n",
    "                            ProductionVariants = [\n",
    "                                { # First we include the linear model\n",
    "                                    \"InstanceType\": \"ml.m4.xlarge\",\n",
    "                                    \"InitialVariantWeight\": 1,\n",
    "                                    \"InitialInstanceCount\": 1,\n",
    "                                    \"ModelName\": linear_model_name,\n",
    "                                    \"VariantName\": \"Linear-Model\"\n",
    "                                }, { # And next we include the xgb model\n",
    "                                    \"InstanceType\": \"ml.m4.xlarge\",\n",
    "                                    \"InitialVariantWeight\": 1,\n",
    "                                    \"InitialInstanceCount\": 1,\n",
    "                                    \"ModelName\": xgb_model_name,\n",
    "                                    \"VariantName\": \"XGB-Model\"\n",
    "                                }])"
   ]
  },
  {
   "cell_type": "markdown",
   "metadata": {},
   "source": [
    "Now that we've created the endpoint configuration, we can ask SageMaker to construct the endpoint.\n",
    "\n",
    "**Note:** This is a friendly (repeated) reminder that you are about to deploy an endpoint. Make sure that you shut it down once you've finished with it!"
   ]
  },
  {
   "cell_type": "code",
   "execution_count": 34,
   "metadata": {},
   "outputs": [],
   "source": [
    "# Again, we need a unique name for our endpoint\n",
    "endpoint_name = \"boston-update-endpoint-\" + strftime(\"%Y-%m-%d-%H-%M-%S\", gmtime())\n",
    "\n",
    "# And then we can deploy our endpoint\n",
    "endpoint_info = session.sagemaker_client.create_endpoint(\n",
    "                    EndpointName = endpoint_name,\n",
    "                    EndpointConfigName = combined_endpoint_config_name)"
   ]
  },
  {
   "cell_type": "code",
   "execution_count": 35,
   "metadata": {},
   "outputs": [
    {
     "name": "stdout",
     "output_type": "stream",
     "text": [
      "-----------------!"
     ]
    }
   ],
   "source": [
    "endpoint_dec = session.wait_for_endpoint(endpoint_name)"
   ]
  },
  {
   "cell_type": "markdown",
   "metadata": {},
   "source": [
    "## Step 7 (C): Use the model\n",
    "\n",
    "Now that we've constructed an endpoint which sends data to both the XGBoost model and the linear model we can send some data to the endpoint and see what sort of results we get back."
   ]
  },
  {
   "cell_type": "code",
   "execution_count": 36,
   "metadata": {},
   "outputs": [
    {
     "name": "stdout",
     "output_type": "stream",
     "text": [
      "{'Body': <botocore.response.StreamingBody object at 0x7f5eefdf1c88>,\n",
      " 'ContentType': 'application/json',\n",
      " 'InvokedProductionVariant': 'Linear-Model',\n",
      " 'ResponseMetadata': {'HTTPHeaders': {'content-length': '48',\n",
      "                                      'content-type': 'application/json',\n",
      "                                      'date': 'Mon, 07 Feb 2022 00:26:23 GMT',\n",
      "                                      'x-amzn-invoked-production-variant': 'Linear-Model',\n",
      "                                      'x-amzn-requestid': '7fd04df3-3750-452f-8597-1049674a423b'},\n",
      "                      'HTTPStatusCode': 200,\n",
      "                      'RequestId': '7fd04df3-3750-452f-8597-1049674a423b',\n",
      "                      'RetryAttempts': 0}}\n"
     ]
    }
   ],
   "source": [
    "response = session.sagemaker_runtime_client.invoke_endpoint(\n",
    "                                                EndpointName = endpoint_name,\n",
    "                                                ContentType = 'text/csv',\n",
    "                                                Body = ','.join(map(str, X_test.values[0])))\n",
    "pprint(response)"
   ]
  },
  {
   "cell_type": "markdown",
   "metadata": {},
   "source": [
    "Since looking at a single response doesn't give us a clear look at what is happening, we can instead take a look at a few different responses to our endpoint"
   ]
  },
  {
   "cell_type": "code",
   "execution_count": 37,
   "metadata": {},
   "outputs": [
    {
     "name": "stdout",
     "output_type": "stream",
     "text": [
      "{'Body': <botocore.response.StreamingBody object at 0x7f5eeff41518>,\n",
      " 'ContentType': 'application/json',\n",
      " 'InvokedProductionVariant': 'Linear-Model',\n",
      " 'ResponseMetadata': {'HTTPHeaders': {'content-length': '48',\n",
      "                                      'content-type': 'application/json',\n",
      "                                      'date': 'Mon, 07 Feb 2022 00:26:26 GMT',\n",
      "                                      'x-amzn-invoked-production-variant': 'Linear-Model',\n",
      "                                      'x-amzn-requestid': '8778ee68-803d-41bb-8dfb-fe7940f3bc98'},\n",
      "                      'HTTPStatusCode': 200,\n",
      "                      'RequestId': '8778ee68-803d-41bb-8dfb-fe7940f3bc98',\n",
      "                      'RetryAttempts': 0}}\n",
      "{\"predictions\": [{\"score\": 22.382028579711914}]}\n",
      "[21.2]\n",
      "{'Body': <botocore.response.StreamingBody object at 0x7f5eeff411d0>,\n",
      " 'ContentType': 'application/json',\n",
      " 'InvokedProductionVariant': 'Linear-Model',\n",
      " 'ResponseMetadata': {'HTTPHeaders': {'content-length': '47',\n",
      "                                      'content-type': 'application/json',\n",
      "                                      'date': 'Mon, 07 Feb 2022 00:26:26 GMT',\n",
      "                                      'x-amzn-invoked-production-variant': 'Linear-Model',\n",
      "                                      'x-amzn-requestid': '10c17a01-4d64-45da-a778-11021c4cad37'},\n",
      "                      'HTTPStatusCode': 200,\n",
      "                      'RequestId': '10c17a01-4d64-45da-a778-11021c4cad37',\n",
      "                      'RetryAttempts': 0}}\n",
      "{\"predictions\": [{\"score\": 17.61265754699707}]}\n",
      "[20.2]\n",
      "{'Body': <botocore.response.StreamingBody object at 0x7f5eeff41128>,\n",
      " 'ContentType': 'application/json',\n",
      " 'InvokedProductionVariant': 'Linear-Model',\n",
      " 'ResponseMetadata': {'HTTPHeaders': {'content-length': '47',\n",
      "                                      'content-type': 'application/json',\n",
      "                                      'date': 'Mon, 07 Feb 2022 00:26:26 GMT',\n",
      "                                      'x-amzn-invoked-production-variant': 'Linear-Model',\n",
      "                                      'x-amzn-requestid': '4ba07572-0786-4fc8-b542-e4bc7bb38281'},\n",
      "                      'HTTPStatusCode': 200,\n",
      "                      'RequestId': '4ba07572-0786-4fc8-b542-e4bc7bb38281',\n",
      "                      'RetryAttempts': 0}}\n",
      "{\"predictions\": [{\"score\": 25.47496795654297}]}\n",
      "[23.1]\n",
      "{'Body': <botocore.response.StreamingBody object at 0x7f5eeff414e0>,\n",
      " 'ContentType': 'application/json',\n",
      " 'InvokedProductionVariant': 'Linear-Model',\n",
      " 'ResponseMetadata': {'HTTPHeaders': {'content-length': '48',\n",
      "                                      'content-type': 'application/json',\n",
      "                                      'date': 'Mon, 07 Feb 2022 00:26:26 GMT',\n",
      "                                      'x-amzn-invoked-production-variant': 'Linear-Model',\n",
      "                                      'x-amzn-requestid': '1982478b-858a-4fc6-b602-054439443fae'},\n",
      "                      'HTTPStatusCode': 200,\n",
      "                      'RequestId': '1982478b-858a-4fc6-b602-054439443fae',\n",
      "                      'RetryAttempts': 0}}\n",
      "{\"predictions\": [{\"score\": 30.167606353759766}]}\n",
      "[29.4]\n",
      "{'Body': <botocore.response.StreamingBody object at 0x7f5eeff41748>,\n",
      " 'ContentType': 'text/csv; charset=utf-8',\n",
      " 'InvokedProductionVariant': 'XGB-Model',\n",
      " 'ResponseMetadata': {'HTTPHeaders': {'content-length': '17',\n",
      "                                      'content-type': 'text/csv; charset=utf-8',\n",
      "                                      'date': 'Mon, 07 Feb 2022 00:26:27 GMT',\n",
      "                                      'x-amzn-invoked-production-variant': 'XGB-Model',\n",
      "                                      'x-amzn-requestid': 'a7482588-3cda-47a9-bc41-1fe1eb42dae9'},\n",
      "                      'HTTPStatusCode': 200,\n",
      "                      'RequestId': 'a7482588-3cda-47a9-bc41-1fe1eb42dae9',\n",
      "                      'RetryAttempts': 0}}\n",
      "14.80773639678955\n",
      "[15.6]\n",
      "{'Body': <botocore.response.StreamingBody object at 0x7f5eeff41a20>,\n",
      " 'ContentType': 'application/json',\n",
      " 'InvokedProductionVariant': 'Linear-Model',\n",
      " 'ResponseMetadata': {'HTTPHeaders': {'content-length': '47',\n",
      "                                      'content-type': 'application/json',\n",
      "                                      'date': 'Mon, 07 Feb 2022 00:26:27 GMT',\n",
      "                                      'x-amzn-invoked-production-variant': 'Linear-Model',\n",
      "                                      'x-amzn-requestid': '73156205-52a5-4067-ab7e-e8b530e157ba'},\n",
      "                      'HTTPStatusCode': 200,\n",
      "                      'RequestId': '73156205-52a5-4067-ab7e-e8b530e157ba',\n",
      "                      'RetryAttempts': 0}}\n",
      "{\"predictions\": [{\"score\": 8.791814804077148}]}\n",
      "[8.4]\n",
      "{'Body': <botocore.response.StreamingBody object at 0x7f5eeff41d30>,\n",
      " 'ContentType': 'text/csv; charset=utf-8',\n",
      " 'InvokedProductionVariant': 'XGB-Model',\n",
      " 'ResponseMetadata': {'HTTPHeaders': {'content-length': '18',\n",
      "                                      'content-type': 'text/csv; charset=utf-8',\n",
      "                                      'date': 'Mon, 07 Feb 2022 00:26:27 GMT',\n",
      "                                      'x-amzn-invoked-production-variant': 'XGB-Model',\n",
      "                                      'x-amzn-requestid': '47055e60-c5b0-4545-96cf-5870fb2db24b'},\n",
      "                      'HTTPStatusCode': 200,\n",
      "                      'RequestId': '47055e60-c5b0-4545-96cf-5870fb2db24b',\n",
      "                      'RetryAttempts': 0}}\n",
      "31.704736709594727\n",
      "[24.]\n",
      "{'Body': <botocore.response.StreamingBody object at 0x7f5eeff41eb8>,\n",
      " 'ContentType': 'text/csv; charset=utf-8',\n",
      " 'InvokedProductionVariant': 'XGB-Model',\n",
      " 'ResponseMetadata': {'HTTPHeaders': {'content-length': '18',\n",
      "                                      'content-type': 'text/csv; charset=utf-8',\n",
      "                                      'date': 'Mon, 07 Feb 2022 00:26:27 GMT',\n",
      "                                      'x-amzn-invoked-production-variant': 'XGB-Model',\n",
      "                                      'x-amzn-requestid': '215a89ca-f256-4530-80ff-be885ea23c2a'},\n",
      "                      'HTTPStatusCode': 200,\n",
      "                      'RequestId': '215a89ca-f256-4530-80ff-be885ea23c2a',\n",
      "                      'RetryAttempts': 0}}\n",
      "28.723167419433594\n",
      "[23.6]\n",
      "{'Body': <botocore.response.StreamingBody object at 0x7f5eeff412e8>,\n",
      " 'ContentType': 'application/json',\n",
      " 'InvokedProductionVariant': 'Linear-Model',\n",
      " 'ResponseMetadata': {'HTTPHeaders': {'content-length': '48',\n",
      "                                      'content-type': 'application/json',\n",
      "                                      'date': 'Mon, 07 Feb 2022 00:26:27 GMT',\n",
      "                                      'x-amzn-invoked-production-variant': 'Linear-Model',\n",
      "                                      'x-amzn-requestid': '6e7a8965-00e5-48a1-a32c-5120e8c40107'},\n",
      "                      'HTTPStatusCode': 200,\n",
      "                      'RequestId': '6e7a8965-00e5-48a1-a32c-5120e8c40107',\n",
      "                      'RetryAttempts': 0}}\n",
      "{\"predictions\": [{\"score\": 21.625688552856445}]}\n",
      "[17.5]\n",
      "{'Body': <botocore.response.StreamingBody object at 0x7f5eeff77080>,\n",
      " 'ContentType': 'text/csv; charset=utf-8',\n",
      " 'InvokedProductionVariant': 'XGB-Model',\n",
      " 'ResponseMetadata': {'HTTPHeaders': {'content-length': '18',\n",
      "                                      'content-type': 'text/csv; charset=utf-8',\n",
      "                                      'date': 'Mon, 07 Feb 2022 00:26:27 GMT',\n",
      "                                      'x-amzn-invoked-production-variant': 'XGB-Model',\n",
      "                                      'x-amzn-requestid': 'b588695a-4fbe-4b02-b1a8-6bb7a426e354'},\n",
      "                      'HTTPStatusCode': 200,\n",
      "                      'RequestId': 'b588695a-4fbe-4b02-b1a8-6bb7a426e354',\n",
      "                      'RetryAttempts': 0}}\n",
      "24.732786178588867\n",
      "[24.6]\n"
     ]
    }
   ],
   "source": [
    "for rec in range(10):\n",
    "    response = session.sagemaker_runtime_client.invoke_endpoint(\n",
    "                                                EndpointName = endpoint_name,\n",
    "                                                ContentType = 'text/csv',\n",
    "                                                Body = ','.join(map(str, X_test.values[rec])))\n",
    "    pprint(response)\n",
    "    result = response['Body'].read().decode(\"utf-8\")\n",
    "    print(result)\n",
    "    print(Y_test.values[rec])"
   ]
  },
  {
   "cell_type": "markdown",
   "metadata": {},
   "source": [
    "If at some point we aren't sure about the properties of a deployed endpoint, we can use the `describe_endpoint` function to get SageMaker to return a description of the deployed endpoint."
   ]
  },
  {
   "cell_type": "code",
   "execution_count": 38,
   "metadata": {},
   "outputs": [
    {
     "name": "stdout",
     "output_type": "stream",
     "text": [
      "{'CreationTime': datetime.datetime(2022, 2, 7, 0, 13, 4, 713000, tzinfo=tzlocal()),\n",
      " 'EndpointArn': 'arn:aws:sagemaker:us-east-1:801008216402:endpoint/boston-update-endpoint-2022-02-07-00-13-04',\n",
      " 'EndpointConfigName': 'boston-combined-endpoint-config-2022-02-07-00-13-01',\n",
      " 'EndpointName': 'boston-update-endpoint-2022-02-07-00-13-04',\n",
      " 'EndpointStatus': 'InService',\n",
      " 'LastModifiedTime': datetime.datetime(2022, 2, 7, 0, 21, 22, 354000, tzinfo=tzlocal()),\n",
      " 'ProductionVariants': [{'CurrentInstanceCount': 1,\n",
      "                         'CurrentWeight': 1.0,\n",
      "                         'DeployedImages': [{'ResolutionTime': datetime.datetime(2022, 2, 7, 0, 13, 6, 802000, tzinfo=tzlocal()),\n",
      "                                             'ResolvedImage': '382416733822.dkr.ecr.us-east-1.amazonaws.com/linear-learner@sha256:889b8e306db6fd1aca29ce2f74a4c22a88569aab782693132aac096976b2da9a',\n",
      "                                             'SpecifiedImage': '382416733822.dkr.ecr.us-east-1.amazonaws.com/linear-learner:1'}],\n",
      "                         'DesiredInstanceCount': 1,\n",
      "                         'DesiredWeight': 1.0,\n",
      "                         'VariantName': 'Linear-Model'},\n",
      "                        {'CurrentInstanceCount': 1,\n",
      "                         'CurrentWeight': 1.0,\n",
      "                         'DeployedImages': [{'ResolutionTime': datetime.datetime(2022, 2, 7, 0, 13, 7, 20000, tzinfo=tzlocal()),\n",
      "                                             'ResolvedImage': '811284229777.dkr.ecr.us-east-1.amazonaws.com/xgboost@sha256:ec2e1e6c72a5888eb6dc5ede0f33729aef93edf61d55a1251db9759306cb7f01',\n",
      "                                             'SpecifiedImage': '811284229777.dkr.ecr.us-east-1.amazonaws.com/xgboost:1'}],\n",
      "                         'DesiredInstanceCount': 1,\n",
      "                         'DesiredWeight': 1.0,\n",
      "                         'VariantName': 'XGB-Model'}],\n",
      " 'ResponseMetadata': {'HTTPHeaders': {'content-length': '1161',\n",
      "                                      'content-type': 'application/x-amz-json-1.1',\n",
      "                                      'date': 'Mon, 07 Feb 2022 00:26:37 GMT',\n",
      "                                      'x-amzn-requestid': '519be165-e014-4fa8-81ef-f07e2b3029df'},\n",
      "                      'HTTPStatusCode': 200,\n",
      "                      'RequestId': '519be165-e014-4fa8-81ef-f07e2b3029df',\n",
      "                      'RetryAttempts': 0}}\n"
     ]
    }
   ],
   "source": [
    "pprint(session.sagemaker_client.describe_endpoint(EndpointName=endpoint_name))"
   ]
  },
  {
   "cell_type": "markdown",
   "metadata": {},
   "source": [
    "## Updating an Endpoint\n",
    "\n",
    "Now suppose that we've done our A-B test and the new linear model is working well enough. What we'd like to do now is to switch our endpoint from sending data to both the XGBoost model and the linear model to sending data only to the linear model.\n",
    "\n",
    "Of course, we don't really want to shut down the endpoint to do this as doing so would interrupt service to whoever depends on our endpoint. Instead, we can ask SageMaker to **update** an endpoint to a new endpoint configuration.\n",
    "\n",
    "What is actually happening is that SageMaker will set up a new endpoint with the new characteristics. Once this new endpoint is running, SageMaker will switch the old endpoint so that it now points at the newly deployed model, making sure that this happens seamlessly in the background."
   ]
  },
  {
   "cell_type": "code",
   "execution_count": 39,
   "metadata": {},
   "outputs": [
    {
     "data": {
      "text/plain": [
       "'boston-linear-endpoint-config-2022-02-07-00-07-04'"
      ]
     },
     "execution_count": 39,
     "metadata": {},
     "output_type": "execute_result"
    }
   ],
   "source": [
    "linear_endpoint_config_name"
   ]
  },
  {
   "cell_type": "code",
   "execution_count": 40,
   "metadata": {},
   "outputs": [
    {
     "data": {
      "text/plain": [
       "'boston-update-endpoint-2022-02-07-00-13-04'"
      ]
     },
     "execution_count": 40,
     "metadata": {},
     "output_type": "execute_result"
    }
   ],
   "source": [
    "endpoint_name"
   ]
  },
  {
   "cell_type": "code",
   "execution_count": 41,
   "metadata": {},
   "outputs": [
    {
     "data": {
      "text/plain": [
       "{'EndpointArn': 'arn:aws:sagemaker:us-east-1:801008216402:endpoint/boston-update-endpoint-2022-02-07-00-13-04',\n",
       " 'ResponseMetadata': {'RequestId': '7b9a1847-9c79-4130-a2c4-00cec4096f01',\n",
       "  'HTTPStatusCode': 200,\n",
       "  'HTTPHeaders': {'x-amzn-requestid': '7b9a1847-9c79-4130-a2c4-00cec4096f01',\n",
       "   'content-type': 'application/x-amz-json-1.1',\n",
       "   'content-length': '110',\n",
       "   'date': 'Mon, 07 Feb 2022 00:29:17 GMT'},\n",
       "  'RetryAttempts': 0}}"
      ]
     },
     "execution_count": 41,
     "metadata": {},
     "output_type": "execute_result"
    }
   ],
   "source": [
    "session.sagemaker_client.update_endpoint(EndpointName=endpoint_name, EndpointConfigName=linear_endpoint_config_name)"
   ]
  },
  {
   "cell_type": "markdown",
   "metadata": {},
   "source": [
    "To get a glimpse at what is going on, we can ask SageMaker to describe our in-use endpoint now, before the update process has completed. When we do so, we can see that the in-use endpoint still has the same characteristics it had before."
   ]
  },
  {
   "cell_type": "code",
   "execution_count": 42,
   "metadata": {},
   "outputs": [
    {
     "name": "stdout",
     "output_type": "stream",
     "text": [
      "{'CreationTime': datetime.datetime(2022, 2, 7, 0, 13, 4, 713000, tzinfo=tzlocal()),\n",
      " 'EndpointArn': 'arn:aws:sagemaker:us-east-1:801008216402:endpoint/boston-update-endpoint-2022-02-07-00-13-04',\n",
      " 'EndpointConfigName': 'boston-combined-endpoint-config-2022-02-07-00-13-01',\n",
      " 'EndpointName': 'boston-update-endpoint-2022-02-07-00-13-04',\n",
      " 'EndpointStatus': 'Updating',\n",
      " 'LastModifiedTime': datetime.datetime(2022, 2, 7, 0, 29, 17, 725000, tzinfo=tzlocal()),\n",
      " 'ProductionVariants': [{'CurrentInstanceCount': 1,\n",
      "                         'CurrentWeight': 1.0,\n",
      "                         'DeployedImages': [{'ResolutionTime': datetime.datetime(2022, 2, 7, 0, 13, 6, 802000, tzinfo=tzlocal()),\n",
      "                                             'ResolvedImage': '382416733822.dkr.ecr.us-east-1.amazonaws.com/linear-learner@sha256:889b8e306db6fd1aca29ce2f74a4c22a88569aab782693132aac096976b2da9a',\n",
      "                                             'SpecifiedImage': '382416733822.dkr.ecr.us-east-1.amazonaws.com/linear-learner:1'}],\n",
      "                         'DesiredInstanceCount': 1,\n",
      "                         'DesiredWeight': 1.0,\n",
      "                         'VariantName': 'Linear-Model'},\n",
      "                        {'CurrentInstanceCount': 1,\n",
      "                         'CurrentWeight': 1.0,\n",
      "                         'DeployedImages': [{'ResolutionTime': datetime.datetime(2022, 2, 7, 0, 13, 7, 20000, tzinfo=tzlocal()),\n",
      "                                             'ResolvedImage': '811284229777.dkr.ecr.us-east-1.amazonaws.com/xgboost@sha256:ec2e1e6c72a5888eb6dc5ede0f33729aef93edf61d55a1251db9759306cb7f01',\n",
      "                                             'SpecifiedImage': '811284229777.dkr.ecr.us-east-1.amazonaws.com/xgboost:1'}],\n",
      "                         'DesiredInstanceCount': 1,\n",
      "                         'DesiredWeight': 1.0,\n",
      "                         'VariantName': 'XGB-Model'}],\n",
      " 'ResponseMetadata': {'HTTPHeaders': {'content-length': '1160',\n",
      "                                      'content-type': 'application/x-amz-json-1.1',\n",
      "                                      'date': 'Mon, 07 Feb 2022 00:33:52 GMT',\n",
      "                                      'x-amzn-requestid': 'fd96c306-1023-4c88-9560-c94a20406550'},\n",
      "                      'HTTPStatusCode': 200,\n",
      "                      'RequestId': 'fd96c306-1023-4c88-9560-c94a20406550',\n",
      "                      'RetryAttempts': 0}}\n"
     ]
    }
   ],
   "source": [
    "pprint(session.sagemaker_client.describe_endpoint(EndpointName=endpoint_name))"
   ]
  },
  {
   "cell_type": "markdown",
   "metadata": {},
   "source": [
    "If we now wait for the update process to complete, and then ask SageMaker to describe the endpoint, it will return the characteristics of the new endpoint configuration."
   ]
  },
  {
   "cell_type": "code",
   "execution_count": 43,
   "metadata": {},
   "outputs": [
    {
     "name": "stdout",
     "output_type": "stream",
     "text": [
      "----!"
     ]
    }
   ],
   "source": [
    "endpoint_dec = session.wait_for_endpoint(endpoint_name)"
   ]
  },
  {
   "cell_type": "code",
   "execution_count": 44,
   "metadata": {},
   "outputs": [
    {
     "name": "stdout",
     "output_type": "stream",
     "text": [
      "{'CreationTime': datetime.datetime(2022, 2, 7, 0, 13, 4, 713000, tzinfo=tzlocal()),\n",
      " 'EndpointArn': 'arn:aws:sagemaker:us-east-1:801008216402:endpoint/boston-update-endpoint-2022-02-07-00-13-04',\n",
      " 'EndpointConfigName': 'boston-linear-endpoint-config-2022-02-07-00-07-04',\n",
      " 'EndpointName': 'boston-update-endpoint-2022-02-07-00-13-04',\n",
      " 'EndpointStatus': 'InService',\n",
      " 'LastModifiedTime': datetime.datetime(2022, 2, 7, 0, 35, 36, 197000, tzinfo=tzlocal()),\n",
      " 'ProductionVariants': [{'CurrentInstanceCount': 1,\n",
      "                         'CurrentWeight': 1.0,\n",
      "                         'DeployedImages': [{'ResolutionTime': datetime.datetime(2022, 2, 7, 0, 29, 19, 520000, tzinfo=tzlocal()),\n",
      "                                             'ResolvedImage': '382416733822.dkr.ecr.us-east-1.amazonaws.com/linear-learner@sha256:889b8e306db6fd1aca29ce2f74a4c22a88569aab782693132aac096976b2da9a',\n",
      "                                             'SpecifiedImage': '382416733822.dkr.ecr.us-east-1.amazonaws.com/linear-learner:1'}],\n",
      "                         'DesiredInstanceCount': 1,\n",
      "                         'DesiredWeight': 1.0,\n",
      "                         'VariantName': 'Linear-Model'}],\n",
      " 'ResponseMetadata': {'HTTPHeaders': {'content-length': '769',\n",
      "                                      'content-type': 'application/x-amz-json-1.1',\n",
      "                                      'date': 'Mon, 07 Feb 2022 00:36:33 GMT',\n",
      "                                      'x-amzn-requestid': '1cb6508b-6235-45b7-8579-90a0416131a2'},\n",
      "                      'HTTPStatusCode': 200,\n",
      "                      'RequestId': '1cb6508b-6235-45b7-8579-90a0416131a2',\n",
      "                      'RetryAttempts': 0}}\n"
     ]
    }
   ],
   "source": [
    "pprint(session.sagemaker_client.describe_endpoint(EndpointName=endpoint_name))"
   ]
  },
  {
   "cell_type": "markdown",
   "metadata": {},
   "source": [
    "## Shut down the endpoint\n",
    "\n",
    "Now that we've finished, we need to make sure to shut down the endpoint."
   ]
  },
  {
   "cell_type": "code",
   "execution_count": 45,
   "metadata": {},
   "outputs": [
    {
     "data": {
      "text/plain": [
       "{'ResponseMetadata': {'RequestId': 'e84faf64-fcab-4303-973c-6574ecc5bff3',\n",
       "  'HTTPStatusCode': 200,\n",
       "  'HTTPHeaders': {'x-amzn-requestid': 'e84faf64-fcab-4303-973c-6574ecc5bff3',\n",
       "   'content-type': 'application/x-amz-json-1.1',\n",
       "   'content-length': '0',\n",
       "   'date': 'Mon, 07 Feb 2022 00:36:57 GMT'},\n",
       "  'RetryAttempts': 0}}"
      ]
     },
     "execution_count": 45,
     "metadata": {},
     "output_type": "execute_result"
    }
   ],
   "source": [
    "session.sagemaker_client.delete_endpoint(EndpointName = endpoint_name)"
   ]
  },
  {
   "cell_type": "markdown",
   "metadata": {},
   "source": [
    "## Optional: Clean up\n",
    "\n",
    "The default notebook instance on SageMaker doesn't have a lot of excess disk space available. As you continue to complete and execute notebooks you will eventually fill up this disk space, leading to errors which can be difficult to diagnose. Once you are completely finished using a notebook it is a good idea to remove the files that you created along the way. Of course, you can do this from the terminal or from the notebook hub if you would like. The cell below contains some commands to clean up the created files from within the notebook."
   ]
  },
  {
   "cell_type": "code",
   "execution_count": null,
   "metadata": {},
   "outputs": [],
   "source": [
    "# First we will remove all of the files contained in the data_dir directory\n",
    "!rm $data_dir/*\n",
    "\n",
    "# And then we delete the directory itself\n",
    "!rmdir $data_dir"
   ]
  },
  {
   "cell_type": "code",
   "execution_count": null,
   "metadata": {},
   "outputs": [],
   "source": []
  }
 ],
 "metadata": {
  "kernelspec": {
   "display_name": "conda_pytorch_p36",
   "language": "python",
   "name": "conda_pytorch_p36"
  },
  "language_info": {
   "codemirror_mode": {
    "name": "ipython",
    "version": 3
   },
   "file_extension": ".py",
   "mimetype": "text/x-python",
   "name": "python",
   "nbconvert_exporter": "python",
   "pygments_lexer": "ipython3",
   "version": "3.6.13"
  }
 },
 "nbformat": 4,
 "nbformat_minor": 2
}
