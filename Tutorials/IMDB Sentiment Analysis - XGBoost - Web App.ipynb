{
 "cells": [
  {
   "cell_type": "markdown",
   "metadata": {},
   "source": [
    "# Sentiment Analysis Web App\n",
    "\n",
    "_Deep Learning Nanodegree Program | Deployment_\n",
    "\n",
    "---\n",
    "\n",
    "In this notebook we will use Amazon's SageMaker service to construct a random tree model to predict the sentiment of a movie review. In addition, we will deploy this model to an endpoint and construct a very simple web app which will interact with our model's deployed endpoint.\n",
    "\n",
    "## General Outline\n",
    "\n",
    "Typically, when using a notebook instance with SageMaker, you will proceed through the following steps. Of course, not every step will need to be done with each project. Also, there is quite a lot of room for variation in many of the steps, as you will see throughout these lessons.\n",
    "\n",
    "1. Download or otherwise retrieve the data.\n",
    "2. Process / Prepare the data.\n",
    "3. Upload the processed data to S3.\n",
    "4. Train a chosen model.\n",
    "5. Test the trained model (typically using a batch transform job).\n",
    "6. Deploy the trained model.\n",
    "7. Use the deployed model.\n",
    "\n",
    "In this notebook we will progress through each of the steps above. We will also see that the final step, using the deployed model, can be quite challenging."
   ]
  },
  {
   "cell_type": "code",
   "execution_count": null,
   "metadata": {},
   "outputs": [],
   "source": [
    "# Make sure that we use SageMaker 1.x\n",
    "!pip install sagemaker==1.72.0"
   ]
  },
  {
   "cell_type": "markdown",
   "metadata": {},
   "source": [
    "## Step 1: Downloading the data\n",
    "\n",
    "The dataset we are going to use is very popular among researchers in Natural Language Processing, usually referred to as the [IMDb dataset](http://ai.stanford.edu/~amaas/data/sentiment/). It consists of movie reviews from the website [imdb.com](http://www.imdb.com/), each labeled as either '**pos**itive', if the reviewer enjoyed the film, or '**neg**ative' otherwise.\n",
    "\n",
    "> Maas, Andrew L., et al. [Learning Word Vectors for Sentiment Analysis](http://ai.stanford.edu/~amaas/data/sentiment/). In _Proceedings of the 49th Annual Meeting of the Association for Computational Linguistics: Human Language Technologies_. Association for Computational Linguistics, 2011.\n",
    "\n",
    "We begin by using some Jupyter Notebook magic to download and extract the dataset."
   ]
  },
  {
   "cell_type": "code",
   "execution_count": 1,
   "metadata": {},
   "outputs": [
    {
     "name": "stdout",
     "output_type": "stream",
     "text": [
      "mkdir: cannot create directory ‘../data’: File exists\n",
      "--2022-01-27 07:35:23--  http://ai.stanford.edu/~amaas/data/sentiment/aclImdb_v1.tar.gz\n",
      "Resolving ai.stanford.edu (ai.stanford.edu)... 171.64.68.10\n",
      "Connecting to ai.stanford.edu (ai.stanford.edu)|171.64.68.10|:80... connected.\n",
      "HTTP request sent, awaiting response... 200 OK\n",
      "Length: 84125825 (80M) [application/x-gzip]\n",
      "Saving to: ‘../data/aclImdb_v1.tar.gz’\n",
      "\n",
      "../data/aclImdb_v1. 100%[===================>]  80.23M  24.0MB/s    in 4.3s    \n",
      "\n",
      "2022-01-27 07:35:28 (18.8 MB/s) - ‘../data/aclImdb_v1.tar.gz’ saved [84125825/84125825]\n",
      "\n"
     ]
    }
   ],
   "source": [
    "%mkdir ../data\n",
    "!wget -O ../data/aclImdb_v1.tar.gz http://ai.stanford.edu/~amaas/data/sentiment/aclImdb_v1.tar.gz\n",
    "!tar -zxf ../data/aclImdb_v1.tar.gz -C ../data"
   ]
  },
  {
   "cell_type": "markdown",
   "metadata": {},
   "source": [
    "## Step 2: Preparing and Processing the data\n",
    "\n",
    "The data we have downloaded is split into various files, each of which contains a single review. It will be much easier going forward if we combine these individual files into two large files, one for training and one for testing."
   ]
  },
  {
   "cell_type": "code",
   "execution_count": 2,
   "metadata": {},
   "outputs": [],
   "source": [
    "import os\n",
    "import glob\n",
    "\n",
    "def read_imdb_data(data_dir='../data/aclImdb'):\n",
    "    data = {}\n",
    "    labels = {}\n",
    "    \n",
    "    for data_type in ['train', 'test']:\n",
    "        data[data_type] = {}\n",
    "        labels[data_type] = {}\n",
    "        \n",
    "        for sentiment in ['pos', 'neg']:\n",
    "            data[data_type][sentiment] = []\n",
    "            labels[data_type][sentiment] = []\n",
    "            \n",
    "            path = os.path.join(data_dir, data_type, sentiment, '*.txt')\n",
    "            files = glob.glob(path)\n",
    "            \n",
    "            for f in files:\n",
    "                with open(f) as review:\n",
    "                    data[data_type][sentiment].append(review.read())\n",
    "                    # Here we represent a positive review by '1' and a negative review by '0'\n",
    "                    labels[data_type][sentiment].append(1 if sentiment == 'pos' else 0)\n",
    "                    \n",
    "            assert len(data[data_type][sentiment]) == len(labels[data_type][sentiment]), \\\n",
    "                    \"{}/{} data size does not match labels size\".format(data_type, sentiment)\n",
    "                \n",
    "    return data, labels"
   ]
  },
  {
   "cell_type": "code",
   "execution_count": 3,
   "metadata": {},
   "outputs": [
    {
     "name": "stdout",
     "output_type": "stream",
     "text": [
      "IMDB reviews: train = 12500 pos / 12500 neg, test = 12500 pos / 12500 neg\n"
     ]
    }
   ],
   "source": [
    "data, labels = read_imdb_data()\n",
    "print(\"IMDB reviews: train = {} pos / {} neg, test = {} pos / {} neg\".format(\n",
    "            len(data['train']['pos']), len(data['train']['neg']),\n",
    "            len(data['test']['pos']), len(data['test']['neg'])))"
   ]
  },
  {
   "cell_type": "code",
   "execution_count": 4,
   "metadata": {},
   "outputs": [],
   "source": [
    "from sklearn.utils import shuffle\n",
    "\n",
    "def prepare_imdb_data(data, labels):\n",
    "    \"\"\"Prepare training and test sets from IMDb movie reviews.\"\"\"\n",
    "    \n",
    "    #Combine positive and negative reviews and labels\n",
    "    data_train = data['train']['pos'] + data['train']['neg']\n",
    "    data_test = data['test']['pos'] + data['test']['neg']\n",
    "    labels_train = labels['train']['pos'] + labels['train']['neg']\n",
    "    labels_test = labels['test']['pos'] + labels['test']['neg']\n",
    "    \n",
    "    #Shuffle reviews and corresponding labels within training and test sets\n",
    "    data_train, labels_train = shuffle(data_train, labels_train)\n",
    "    data_test, labels_test = shuffle(data_test, labels_test)\n",
    "    \n",
    "    # Return a unified training data, test data, training labels, test labets\n",
    "    return data_train, data_test, labels_train, labels_test"
   ]
  },
  {
   "cell_type": "code",
   "execution_count": 5,
   "metadata": {},
   "outputs": [
    {
     "name": "stdout",
     "output_type": "stream",
     "text": [
      "IMDb reviews (combined): train = 25000, test = 25000\n"
     ]
    }
   ],
   "source": [
    "train_X, test_X, train_y, test_y = prepare_imdb_data(data, labels)\n",
    "print(\"IMDb reviews (combined): train = {}, test = {}\".format(len(train_X), len(test_X)))"
   ]
  },
  {
   "cell_type": "code",
   "execution_count": 6,
   "metadata": {},
   "outputs": [
    {
     "data": {
      "text/plain": [
       "'This is an art film that was either made in 1969 or 1972 (the National Film Preservation Foundation says 1969 and IMDb says 1972). Regardless of the exact date, the film definitely appears to be very indicative of this general time period--with some camera-work and pop art stylings that are pure late 60s-early 70s.<br /><br />The film consists of three simple images that are distorted using different weird camera tricks. These distorted images are accompanied by music and there is absolutely no dialog or plot of any sort. This was obviously intended as almost like a form of performance art, and like most performance art, it\\'s interesting at first but quickly becomes tiresome. The film, to put it even more bluntly, is a total bore and would appeal to no one but perhaps those who made the film, their family and friends and perhaps a few people just too hip and \"with it\" to be understood by us mortals.'"
      ]
     },
     "execution_count": 6,
     "metadata": {},
     "output_type": "execute_result"
    }
   ],
   "source": [
    "train_X[100]"
   ]
  },
  {
   "cell_type": "markdown",
   "metadata": {},
   "source": [
    "## Processing the data\n",
    "\n",
    "Now that we have our training and testing datasets merged and ready to use, we need to start processing the raw data into something that will be useable by our machine learning algorithm. To begin with, we remove any html formatting and any non-alpha numeric characters that may appear in the reviews. We will do this in a very simplistic way using Python's regular expression module. We will discuss the reason for this rather simplistic pre-processing later on."
   ]
  },
  {
   "cell_type": "code",
   "execution_count": 7,
   "metadata": {},
   "outputs": [],
   "source": [
    "import re\n",
    "\n",
    "REPLACE_NO_SPACE = re.compile(\"(\\.)|(\\;)|(\\:)|(\\!)|(\\')|(\\?)|(\\,)|(\\\")|(\\()|(\\))|(\\[)|(\\])\")\n",
    "REPLACE_WITH_SPACE = re.compile(\"(<br\\s*/><br\\s*/>)|(\\-)|(\\/)\")\n",
    "\n",
    "def review_to_words(review):\n",
    "    words = REPLACE_NO_SPACE.sub(\"\", review.lower())\n",
    "    words = REPLACE_WITH_SPACE.sub(\" \", words)\n",
    "    return words"
   ]
  },
  {
   "cell_type": "code",
   "execution_count": 8,
   "metadata": {},
   "outputs": [
    {
     "data": {
      "text/plain": [
       "'this is an art film that was either made in 1969 or 1972 the national film preservation foundation says 1969 and imdb says 1972 regardless of the exact date the film definitely appears to be very indicative of this general time period  with some camera work and pop art stylings that are pure late 60s early 70s the film consists of three simple images that are distorted using different weird camera tricks these distorted images are accompanied by music and there is absolutely no dialog or plot of any sort this was obviously intended as almost like a form of performance art and like most performance art its interesting at first but quickly becomes tiresome the film to put it even more bluntly is a total bore and would appeal to no one but perhaps those who made the film their family and friends and perhaps a few people just too hip and with it to be understood by us mortals'"
      ]
     },
     "execution_count": 8,
     "metadata": {},
     "output_type": "execute_result"
    }
   ],
   "source": [
    "review_to_words(train_X[100])"
   ]
  },
  {
   "cell_type": "code",
   "execution_count": 9,
   "metadata": {},
   "outputs": [],
   "source": [
    "import pickle\n",
    "\n",
    "cache_dir = os.path.join(\"../cache\", \"sentiment_web_app\")  # where to store cache files\n",
    "os.makedirs(cache_dir, exist_ok=True)  # ensure cache directory exists\n",
    "\n",
    "def preprocess_data(data_train, data_test, labels_train, labels_test,\n",
    "                    cache_dir=cache_dir, cache_file=\"preprocessed_data.pkl\"):\n",
    "    \"\"\"Convert each review to words; read from cache if available.\"\"\"\n",
    "\n",
    "    # If cache_file is not None, try to read from it first\n",
    "    cache_data = None\n",
    "    if cache_file is not None:\n",
    "        try:\n",
    "            with open(os.path.join(cache_dir, cache_file), \"rb\") as f:\n",
    "                cache_data = pickle.load(f)\n",
    "            print(\"Read preprocessed data from cache file:\", cache_file)\n",
    "        except:\n",
    "            pass  # unable to read from cache, but that's okay\n",
    "    \n",
    "    # If cache is missing, then do the heavy lifting\n",
    "    if cache_data is None:\n",
    "        # Preprocess training and test data to obtain words for each review\n",
    "        #words_train = list(map(review_to_words, data_train))\n",
    "        #words_test = list(map(review_to_words, data_test))\n",
    "        words_train = [review_to_words(review) for review in data_train]\n",
    "        words_test = [review_to_words(review) for review in data_test]\n",
    "        \n",
    "        # Write to cache file for future runs\n",
    "        if cache_file is not None:\n",
    "            cache_data = dict(words_train=words_train, words_test=words_test,\n",
    "                              labels_train=labels_train, labels_test=labels_test)\n",
    "            with open(os.path.join(cache_dir, cache_file), \"wb\") as f:\n",
    "                pickle.dump(cache_data, f)\n",
    "            print(\"Wrote preprocessed data to cache file:\", cache_file)\n",
    "    else:\n",
    "        # Unpack data loaded from cache file\n",
    "        words_train, words_test, labels_train, labels_test = (cache_data['words_train'],\n",
    "                cache_data['words_test'], cache_data['labels_train'], cache_data['labels_test'])\n",
    "    \n",
    "    return words_train, words_test, labels_train, labels_test"
   ]
  },
  {
   "cell_type": "code",
   "execution_count": 10,
   "metadata": {},
   "outputs": [
    {
     "name": "stdout",
     "output_type": "stream",
     "text": [
      "Wrote preprocessed data to cache file: preprocessed_data.pkl\n"
     ]
    }
   ],
   "source": [
    "# Preprocess data\n",
    "train_X, test_X, train_y, test_y = preprocess_data(train_X, test_X, train_y, test_y)"
   ]
  },
  {
   "cell_type": "markdown",
   "metadata": {},
   "source": [
    "### Extract Bag-of-Words features\n",
    "\n",
    "For the model we will be implementing, rather than using the reviews directly, we are going to transform each review into a Bag-of-Words feature representation. Keep in mind that 'in the wild' we will only have access to the training set so our transformer can only use the training set to construct a representation."
   ]
  },
  {
   "cell_type": "code",
   "execution_count": 11,
   "metadata": {},
   "outputs": [],
   "source": [
    "import numpy as np\n",
    "from sklearn.feature_extraction.text import CountVectorizer\n",
    "\n",
    "# sklearn.externals.joblib is deprecated in 0.21 and will be removed in 0.23. \n",
    "# from sklearn.externals import joblib\n",
    "\n",
    "# Import joblib package directly\n",
    "import joblib\n",
    "# joblib is an enhanced version of pickle that is more efficient for storing NumPy arrays\n",
    "\n",
    "def extract_BoW_features(words_train, words_test, vocabulary_size=5000,\n",
    "                         cache_dir=cache_dir, cache_file=\"bow_features.pkl\"):\n",
    "    \"\"\"Extract Bag-of-Words for a given set of documents, already preprocessed into words.\"\"\"\n",
    "    \n",
    "    # If cache_file is not None, try to read from it first\n",
    "    cache_data = None\n",
    "    if cache_file is not None:\n",
    "        try:\n",
    "            with open(os.path.join(cache_dir, cache_file), \"rb\") as f:\n",
    "                cache_data = joblib.load(f)\n",
    "            print(\"Read features from cache file:\", cache_file)\n",
    "        except:\n",
    "            pass  # unable to read from cache, but that's okay\n",
    "    \n",
    "    # If cache is missing, then do the heavy lifting\n",
    "    if cache_data is None:\n",
    "        # Fit a vectorizer to training documents and use it to transform them\n",
    "        # NOTE: Training documents have already been preprocessed and tokenized into words;\n",
    "        #       pass in dummy functions to skip those steps, e.g. preprocessor=lambda x: x\n",
    "        vectorizer = CountVectorizer(max_features=vocabulary_size)\n",
    "        features_train = vectorizer.fit_transform(words_train).toarray()\n",
    "\n",
    "        # Apply the same vectorizer to transform the test documents (ignore unknown words)\n",
    "        features_test = vectorizer.transform(words_test).toarray()\n",
    "        \n",
    "        # NOTE: Remember to convert the features using .toarray() for a compact representation\n",
    "        \n",
    "        # Write to cache file for future runs (store vocabulary as well)\n",
    "        if cache_file is not None:\n",
    "            vocabulary = vectorizer.vocabulary_\n",
    "            cache_data = dict(features_train=features_train, features_test=features_test,\n",
    "                             vocabulary=vocabulary)\n",
    "            with open(os.path.join(cache_dir, cache_file), \"wb\") as f:\n",
    "                joblib.dump(cache_data, f)\n",
    "            print(\"Wrote features to cache file:\", cache_file)\n",
    "    else:\n",
    "        # Unpack data loaded from cache file\n",
    "        features_train, features_test, vocabulary = (cache_data['features_train'],\n",
    "                cache_data['features_test'], cache_data['vocabulary'])\n",
    "    \n",
    "    # Return both the extracted features as well as the vocabulary\n",
    "    return features_train, features_test, vocabulary"
   ]
  },
  {
   "cell_type": "code",
   "execution_count": 12,
   "metadata": {},
   "outputs": [
    {
     "name": "stdout",
     "output_type": "stream",
     "text": [
      "Wrote features to cache file: bow_features.pkl\n"
     ]
    }
   ],
   "source": [
    "# Extract Bag of Words features for both training and test datasets\n",
    "train_X, test_X, vocabulary = extract_BoW_features(train_X, test_X)"
   ]
  },
  {
   "cell_type": "code",
   "execution_count": 13,
   "metadata": {},
   "outputs": [
    {
     "data": {
      "text/plain": [
       "5000"
      ]
     },
     "execution_count": 13,
     "metadata": {},
     "output_type": "execute_result"
    }
   ],
   "source": [
    "len(train_X[100])"
   ]
  },
  {
   "cell_type": "markdown",
   "metadata": {},
   "source": [
    "## Step 3: Upload data to S3\n",
    "\n",
    "Now that we have created the feature representation of our training (and testing) data, it is time to start setting up and using the XGBoost classifier provided by SageMaker.\n",
    "\n",
    "### Writing the datasets\n",
    "\n",
    "The XGBoost classifier that we will be using requires the dataset to be written to a file and stored using Amazon S3. To do this, we will start by splitting the training dataset into two parts, the data we will train the model with and a validation set. Then, we will write those datasets to a file locally and then upload the files to S3. In addition, we will write the test set to a file and upload that file to S3. This is so that we can use SageMakers Batch Transform functionality to test our model once we've fit it."
   ]
  },
  {
   "cell_type": "code",
   "execution_count": 14,
   "metadata": {},
   "outputs": [],
   "source": [
    "import pandas as pd\n",
    "\n",
    "# Earlier we shuffled the training dataset so to make things simple we can just assign\n",
    "# the first 10 000 reviews to the validation set and use the remaining reviews for training.\n",
    "val_X = pd.DataFrame(train_X[:10000])\n",
    "train_X = pd.DataFrame(train_X[10000:])\n",
    "\n",
    "val_y = pd.DataFrame(train_y[:10000])\n",
    "train_y = pd.DataFrame(train_y[10000:])"
   ]
  },
  {
   "cell_type": "markdown",
   "metadata": {},
   "source": [
    "The documentation for the XGBoost algorithm in SageMaker requires that the training and validation datasets should contain no headers or index and that the label should occur first for each sample.\n",
    "\n",
    "For more information about this and other algorithms, the SageMaker developer documentation can be found on __[Amazon's website.](https://docs.aws.amazon.com/sagemaker/latest/dg/)__"
   ]
  },
  {
   "cell_type": "code",
   "execution_count": 15,
   "metadata": {},
   "outputs": [],
   "source": [
    "# First we make sure that the local directory in which we'd like to store the training and validation csv files exists.\n",
    "data_dir = '../data/sentiment_web_app'\n",
    "if not os.path.exists(data_dir):\n",
    "    os.makedirs(data_dir)"
   ]
  },
  {
   "cell_type": "code",
   "execution_count": 16,
   "metadata": {},
   "outputs": [],
   "source": [
    "pd.DataFrame(test_X).to_csv(os.path.join(data_dir, 'test.csv'), header=False, index=False)\n",
    "\n",
    "pd.concat([val_y, val_X], axis=1).to_csv(os.path.join(data_dir, 'validation.csv'), header=False, index=False)\n",
    "pd.concat([train_y, train_X], axis=1).to_csv(os.path.join(data_dir, 'train.csv'), header=False, index=False)"
   ]
  },
  {
   "cell_type": "code",
   "execution_count": 17,
   "metadata": {},
   "outputs": [],
   "source": [
    "# To save a bit of memory we can set text_X, train_X, val_X, train_y and val_y to None.\n",
    "\n",
    "test_X = train_X = val_X = train_y = val_y = None"
   ]
  },
  {
   "cell_type": "markdown",
   "metadata": {},
   "source": [
    "### Uploading Training / Validation files to S3\n",
    "\n",
    "Amazon's S3 service allows us to store files that can be accessed by both the built-in training models such as the XGBoost model we will be using as well as custom models such as the one we will see a little later.\n",
    "\n",
    "For this and most other tasks we will be doing using SageMaker, there are two methods we could use. The first is to use the low level functionality of SageMaker which requires knowing each of the objects involved in the SageMaker environment. The second is to use the high level functionality in which certain choices have been made on the user's behalf. The low level approach benefits from allowing the user a great deal of flexibility while the high level approach makes development much quicker. For our purposes we will opt to use the high level approach although using the low-level approach is certainly an option.\n",
    "\n",
    "Recall the method `upload_data()` which is a member of the object representing our current SageMaker session. What this method does is upload the data to the default bucket (which is created if it does not exist) into the path described by the key_prefix variable. To see this for yourself, once you have uploaded the data files, go to the S3 console and look to see where the files have been uploaded.\n",
    "\n",
    "For additional resources, see the __[SageMaker API documentation](http://sagemaker.readthedocs.io/en/latest/)__ and in addition the __[SageMaker Developer Guide.](https://docs.aws.amazon.com/sagemaker/latest/dg/)__"
   ]
  },
  {
   "cell_type": "code",
   "execution_count": 18,
   "metadata": {},
   "outputs": [],
   "source": [
    "import sagemaker\n",
    "\n",
    "session = sagemaker.Session() # Store the current SageMaker session\n",
    "\n",
    "# S3 prefix (which folder will we use)\n",
    "prefix = 'sentiment-web-app'\n",
    "\n",
    "test_location = session.upload_data(os.path.join(data_dir, 'test.csv'), key_prefix=prefix)\n",
    "val_location = session.upload_data(os.path.join(data_dir, 'validation.csv'), key_prefix=prefix)\n",
    "train_location = session.upload_data(os.path.join(data_dir, 'train.csv'), key_prefix=prefix)"
   ]
  },
  {
   "cell_type": "markdown",
   "metadata": {},
   "source": [
    "## Step 4: Creating the XGBoost model\n",
    "\n",
    "Now that the data has been uploaded it is time to create the XGBoost model. To begin with, we need to do some setup. At this point it is worth discussing what a model is in SageMaker. It is easiest to think of a model of comprising three different objects in the SageMaker ecosystem, which interact with one another.\n",
    "\n",
    "- Model Artifacts\n",
    "- Training Code (Container)\n",
    "- Inference Code (Container)\n",
    "\n",
    "The Model Artifacts are what you might think of as the actual model itself. For example, if you were building a neural network, the model artifacts would be the weights of the various layers. In our case, for an XGBoost model, the artifacts are the actual trees that are created during training.\n",
    "\n",
    "The other two objects, the training code and the inference code are then used to manipulate the training artifacts. More precisely, the training code uses the training data that is provided and creates the model artifacts, while the inference code uses the model artifacts to make predictions on new data.\n",
    "\n",
    "The way that SageMaker runs the training and inference code is by making use of Docker containers. For now, think of a container as being a way of packaging code up so that dependencies aren't an issue."
   ]
  },
  {
   "cell_type": "code",
   "execution_count": 19,
   "metadata": {},
   "outputs": [],
   "source": [
    "from sagemaker import get_execution_role\n",
    "\n",
    "# Our current execution role is required when creating the model as the training\n",
    "# and inference code will need to access the model artifacts.\n",
    "role = get_execution_role()"
   ]
  },
  {
   "cell_type": "code",
   "execution_count": 20,
   "metadata": {},
   "outputs": [
    {
     "name": "stderr",
     "output_type": "stream",
     "text": [
      "'get_image_uri' method will be deprecated in favor of 'ImageURIProvider' class in SageMaker Python SDK v2.\n",
      "There is a more up to date SageMaker XGBoost image. To use the newer image, please set 'repo_version'='1.0-1'. For example:\n",
      "\tget_image_uri(region, 'xgboost', '1.0-1').\n"
     ]
    }
   ],
   "source": [
    "# We need to retrieve the location of the container which is provided by Amazon for using XGBoost.\n",
    "# As a matter of convenience, the training and inference code both use the same container.\n",
    "from sagemaker.amazon.amazon_estimator import get_image_uri\n",
    "\n",
    "container = get_image_uri(session.boto_region_name, 'xgboost')"
   ]
  },
  {
   "cell_type": "code",
   "execution_count": 21,
   "metadata": {},
   "outputs": [
    {
     "name": "stderr",
     "output_type": "stream",
     "text": [
      "Parameter image_name will be renamed to image_uri in SageMaker Python SDK v2.\n"
     ]
    }
   ],
   "source": [
    "# First we create a SageMaker estimator object for our model.\n",
    "xgb = sagemaker.estimator.Estimator(container, # The location of the container we wish to use\n",
    "                                    role,                                    # What is our current IAM Role\n",
    "                                    train_instance_count=1,                  # How many compute instances\n",
    "                                    train_instance_type='ml.m4.xlarge',      # What kind of compute instances\n",
    "                                    output_path='s3://{}/{}/output'.format(session.default_bucket(), prefix),\n",
    "                                    sagemaker_session=session)\n",
    "\n",
    "# And then set the algorithm specific parameters.\n",
    "xgb.set_hyperparameters(max_depth=5,\n",
    "                        eta=0.2,\n",
    "                        gamma=4,\n",
    "                        min_child_weight=6,\n",
    "                        subsample=0.8,\n",
    "                        silent=0,\n",
    "                        objective='binary:logistic',\n",
    "                        early_stopping_rounds=10,\n",
    "                        num_round=500)"
   ]
  },
  {
   "cell_type": "markdown",
   "metadata": {},
   "source": [
    "### Fit the XGBoost model\n",
    "\n",
    "Now that our model has been set up we simply need to attach the training and validation datasets and then ask SageMaker to set up the computation."
   ]
  },
  {
   "cell_type": "code",
   "execution_count": 22,
   "metadata": {},
   "outputs": [
    {
     "name": "stderr",
     "output_type": "stream",
     "text": [
      "'s3_input' class will be renamed to 'TrainingInput' in SageMaker Python SDK v2.\n",
      "'s3_input' class will be renamed to 'TrainingInput' in SageMaker Python SDK v2.\n"
     ]
    }
   ],
   "source": [
    "s3_input_train = sagemaker.s3_input(s3_data=train_location, content_type='csv')\n",
    "s3_input_validation = sagemaker.s3_input(s3_data=val_location, content_type='csv')"
   ]
  },
  {
   "cell_type": "code",
   "execution_count": 23,
   "metadata": {
    "scrolled": true
   },
   "outputs": [
    {
     "name": "stdout",
     "output_type": "stream",
     "text": [
      "2022-01-27 07:37:59 Starting - Starting the training job...\n",
      "2022-01-27 07:38:01 Starting - Launching requested ML instances...........................\n",
      "2022-01-27 07:42:37 Starting - Preparing the instances for training.........\n",
      "2022-01-27 07:44:22 Downloading - Downloading input data...\n",
      "2022-01-27 07:45:02 Training - Training image download completed. Training in progress..\u001b[34mArguments: train\u001b[0m\n",
      "\u001b[34m[2022-01-27:07:45:03:INFO] Running standalone xgboost training.\u001b[0m\n",
      "\u001b[34m[2022-01-27:07:45:03:INFO] File size need to be processed in the node: 238.5mb. Available memory size in the node: 8354.83mb\u001b[0m\n",
      "\u001b[34m[2022-01-27:07:45:03:INFO] Determined delimiter of CSV input is ','\u001b[0m\n",
      "\u001b[34m[07:45:03] S3DistributionType set as FullyReplicated\u001b[0m\n",
      "\u001b[34m[07:45:06] 15000x5000 matrix with 75000000 entries loaded from /opt/ml/input/data/train?format=csv&label_column=0&delimiter=,\u001b[0m\n",
      "\u001b[34m[2022-01-27:07:45:06:INFO] Determined delimiter of CSV input is ','\u001b[0m\n",
      "\u001b[34m[07:45:06] S3DistributionType set as FullyReplicated\u001b[0m\n",
      "\u001b[34m[07:45:07] 10000x5000 matrix with 50000000 entries loaded from /opt/ml/input/data/validation?format=csv&label_column=0&delimiter=,\u001b[0m\n",
      "\u001b[34m[07:45:11] src/tree/updater_prune.cc:74: tree pruning end, 1 roots, 40 extra nodes, 4 pruned nodes, max_depth=5\u001b[0m\n",
      "\u001b[34m[0]#011train-error:0.3046#011validation-error:0.3107\u001b[0m\n",
      "\u001b[34mMultiple eval metrics have been passed: 'validation-error' will be used for early stopping.\u001b[0m\n",
      "\u001b[34mWill train until validation-error hasn't improved in 10 rounds.\u001b[0m\n",
      "\u001b[34m[07:45:12] src/tree/updater_prune.cc:74: tree pruning end, 1 roots, 46 extra nodes, 6 pruned nodes, max_depth=5\u001b[0m\n",
      "\u001b[34m[1]#011train-error:0.301667#011validation-error:0.309\u001b[0m\n",
      "\u001b[34m[07:45:14] src/tree/updater_prune.cc:74: tree pruning end, 1 roots, 46 extra nodes, 6 pruned nodes, max_depth=5\u001b[0m\n",
      "\u001b[34m[2]#011train-error:0.2914#011validation-error:0.3\u001b[0m\n",
      "\u001b[34m[07:45:15] src/tree/updater_prune.cc:74: tree pruning end, 1 roots, 38 extra nodes, 8 pruned nodes, max_depth=5\u001b[0m\n",
      "\u001b[34m[3]#011train-error:0.2816#011validation-error:0.2893\u001b[0m\n",
      "\u001b[34m[07:45:17] src/tree/updater_prune.cc:74: tree pruning end, 1 roots, 32 extra nodes, 0 pruned nodes, max_depth=5\u001b[0m\n",
      "\u001b[34m[4]#011train-error:0.272867#011validation-error:0.2796\u001b[0m\n",
      "\u001b[34m[07:45:18] src/tree/updater_prune.cc:74: tree pruning end, 1 roots, 24 extra nodes, 6 pruned nodes, max_depth=5\u001b[0m\n",
      "\u001b[34m[5]#011train-error:0.269067#011validation-error:0.2748\u001b[0m\n",
      "\u001b[34m[07:45:20] src/tree/updater_prune.cc:74: tree pruning end, 1 roots, 36 extra nodes, 8 pruned nodes, max_depth=5\u001b[0m\n",
      "\u001b[34m[6]#011train-error:0.257#011validation-error:0.2644\u001b[0m\n",
      "\u001b[34m[07:45:21] src/tree/updater_prune.cc:74: tree pruning end, 1 roots, 36 extra nodes, 8 pruned nodes, max_depth=5\u001b[0m\n",
      "\u001b[34m[7]#011train-error:0.248667#011validation-error:0.2562\u001b[0m\n",
      "\u001b[34m[07:45:22] src/tree/updater_prune.cc:74: tree pruning end, 1 roots, 32 extra nodes, 10 pruned nodes, max_depth=5\u001b[0m\n",
      "\u001b[34m[8]#011train-error:0.237267#011validation-error:0.2457\u001b[0m\n",
      "\u001b[34m[07:45:24] src/tree/updater_prune.cc:74: tree pruning end, 1 roots, 40 extra nodes, 0 pruned nodes, max_depth=5\u001b[0m\n",
      "\u001b[34m[9]#011train-error:0.23#011validation-error:0.2428\u001b[0m\n",
      "\u001b[34m[07:45:25] src/tree/updater_prune.cc:74: tree pruning end, 1 roots, 28 extra nodes, 4 pruned nodes, max_depth=5\u001b[0m\n",
      "\u001b[34m[10]#011train-error:0.226133#011validation-error:0.24\u001b[0m\n",
      "\u001b[34m[07:45:27] src/tree/updater_prune.cc:74: tree pruning end, 1 roots, 24 extra nodes, 4 pruned nodes, max_depth=5\u001b[0m\n",
      "\u001b[34m[11]#011train-error:0.221467#011validation-error:0.2354\u001b[0m\n",
      "\u001b[34m[07:45:28] src/tree/updater_prune.cc:74: tree pruning end, 1 roots, 48 extra nodes, 4 pruned nodes, max_depth=5\u001b[0m\n",
      "\u001b[34m[12]#011train-error:0.213867#011validation-error:0.2307\u001b[0m\n",
      "\u001b[34m[07:45:29] src/tree/updater_prune.cc:74: tree pruning end, 1 roots, 34 extra nodes, 6 pruned nodes, max_depth=5\u001b[0m\n",
      "\u001b[34m[13]#011train-error:0.2114#011validation-error:0.2267\u001b[0m\n",
      "\u001b[34m[07:45:31] src/tree/updater_prune.cc:74: tree pruning end, 1 roots, 24 extra nodes, 10 pruned nodes, max_depth=5\u001b[0m\n",
      "\u001b[34m[14]#011train-error:0.205733#011validation-error:0.2203\u001b[0m\n",
      "\u001b[34m[07:45:32] src/tree/updater_prune.cc:74: tree pruning end, 1 roots, 36 extra nodes, 6 pruned nodes, max_depth=5\u001b[0m\n",
      "\u001b[34m[15]#011train-error:0.2018#011validation-error:0.2172\u001b[0m\n",
      "\u001b[34m[07:45:33] src/tree/updater_prune.cc:74: tree pruning end, 1 roots, 42 extra nodes, 4 pruned nodes, max_depth=5\u001b[0m\n",
      "\u001b[34m[16]#011train-error:0.1986#011validation-error:0.2155\u001b[0m\n",
      "\u001b[34m[07:45:35] src/tree/updater_prune.cc:74: tree pruning end, 1 roots, 26 extra nodes, 6 pruned nodes, max_depth=5\u001b[0m\n",
      "\u001b[34m[17]#011train-error:0.1962#011validation-error:0.2134\u001b[0m\n",
      "\u001b[34m[07:45:36] src/tree/updater_prune.cc:74: tree pruning end, 1 roots, 28 extra nodes, 12 pruned nodes, max_depth=5\u001b[0m\n",
      "\u001b[34m[18]#011train-error:0.194267#011validation-error:0.2096\u001b[0m\n",
      "\u001b[34m[07:45:38] src/tree/updater_prune.cc:74: tree pruning end, 1 roots, 26 extra nodes, 12 pruned nodes, max_depth=5\u001b[0m\n",
      "\u001b[34m[19]#011train-error:0.1908#011validation-error:0.208\u001b[0m\n",
      "\u001b[34m[07:45:39] src/tree/updater_prune.cc:74: tree pruning end, 1 roots, 32 extra nodes, 4 pruned nodes, max_depth=5\u001b[0m\n",
      "\u001b[34m[20]#011train-error:0.188867#011validation-error:0.2059\u001b[0m\n",
      "\u001b[34m[07:45:40] src/tree/updater_prune.cc:74: tree pruning end, 1 roots, 24 extra nodes, 8 pruned nodes, max_depth=5\u001b[0m\n",
      "\u001b[34m[21]#011train-error:0.185933#011validation-error:0.2039\u001b[0m\n",
      "\u001b[34m[07:45:42] src/tree/updater_prune.cc:74: tree pruning end, 1 roots, 32 extra nodes, 6 pruned nodes, max_depth=5\u001b[0m\n",
      "\u001b[34m[22]#011train-error:0.184933#011validation-error:0.203\u001b[0m\n",
      "\u001b[34m[07:45:43] src/tree/updater_prune.cc:74: tree pruning end, 1 roots, 32 extra nodes, 8 pruned nodes, max_depth=5\u001b[0m\n",
      "\u001b[34m[23]#011train-error:0.180533#011validation-error:0.2035\u001b[0m\n",
      "\u001b[34m[07:45:44] src/tree/updater_prune.cc:74: tree pruning end, 1 roots, 28 extra nodes, 4 pruned nodes, max_depth=5\u001b[0m\n",
      "\u001b[34m[24]#011train-error:0.178933#011validation-error:0.2028\u001b[0m\n",
      "\u001b[34m[07:45:46] src/tree/updater_prune.cc:74: tree pruning end, 1 roots, 28 extra nodes, 8 pruned nodes, max_depth=5\u001b[0m\n",
      "\u001b[34m[25]#011train-error:0.177533#011validation-error:0.2002\u001b[0m\n",
      "\u001b[34m[07:45:47] src/tree/updater_prune.cc:74: tree pruning end, 1 roots, 22 extra nodes, 10 pruned nodes, max_depth=5\u001b[0m\n",
      "\u001b[34m[26]#011train-error:0.176533#011validation-error:0.1987\u001b[0m\n",
      "\u001b[34m[07:45:49] src/tree/updater_prune.cc:74: tree pruning end, 1 roots, 32 extra nodes, 8 pruned nodes, max_depth=5\u001b[0m\n",
      "\u001b[34m[27]#011train-error:0.1738#011validation-error:0.1975\u001b[0m\n",
      "\u001b[34m[07:45:50] src/tree/updater_prune.cc:74: tree pruning end, 1 roots, 28 extra nodes, 8 pruned nodes, max_depth=5\u001b[0m\n",
      "\u001b[34m[28]#011train-error:0.1736#011validation-error:0.1971\u001b[0m\n",
      "\u001b[34m[07:45:51] src/tree/updater_prune.cc:74: tree pruning end, 1 roots, 24 extra nodes, 10 pruned nodes, max_depth=5\u001b[0m\n",
      "\u001b[34m[29]#011train-error:0.1732#011validation-error:0.1946\u001b[0m\n",
      "\u001b[34m[07:45:53] src/tree/updater_prune.cc:74: tree pruning end, 1 roots, 40 extra nodes, 4 pruned nodes, max_depth=5\u001b[0m\n",
      "\u001b[34m[30]#011train-error:0.169467#011validation-error:0.1929\u001b[0m\n",
      "\u001b[34m[07:45:54] src/tree/updater_prune.cc:74: tree pruning end, 1 roots, 26 extra nodes, 12 pruned nodes, max_depth=5\u001b[0m\n",
      "\u001b[34m[31]#011train-error:0.167267#011validation-error:0.1912\u001b[0m\n",
      "\u001b[34m[07:45:55] src/tree/updater_prune.cc:74: tree pruning end, 1 roots, 20 extra nodes, 2 pruned nodes, max_depth=5\u001b[0m\n",
      "\u001b[34m[32]#011train-error:0.166733#011validation-error:0.1896\u001b[0m\n",
      "\u001b[34m[07:45:57] src/tree/updater_prune.cc:74: tree pruning end, 1 roots, 40 extra nodes, 10 pruned nodes, max_depth=5\u001b[0m\n",
      "\u001b[34m[33]#011train-error:0.163733#011validation-error:0.1882\u001b[0m\n",
      "\u001b[34m[07:45:58] src/tree/updater_prune.cc:74: tree pruning end, 1 roots, 24 extra nodes, 10 pruned nodes, max_depth=5\u001b[0m\n",
      "\u001b[34m[34]#011train-error:0.1618#011validation-error:0.1881\u001b[0m\n",
      "\u001b[34m[07:45:59] src/tree/updater_prune.cc:74: tree pruning end, 1 roots, 28 extra nodes, 10 pruned nodes, max_depth=5\u001b[0m\n",
      "\u001b[34m[35]#011train-error:0.1616#011validation-error:0.1881\u001b[0m\n",
      "\u001b[34m[07:46:01] src/tree/updater_prune.cc:74: tree pruning end, 1 roots, 14 extra nodes, 8 pruned nodes, max_depth=5\u001b[0m\n",
      "\u001b[34m[36]#011train-error:0.160267#011validation-error:0.1865\u001b[0m\n",
      "\u001b[34m[07:46:02] src/tree/updater_prune.cc:74: tree pruning end, 1 roots, 22 extra nodes, 6 pruned nodes, max_depth=5\u001b[0m\n",
      "\u001b[34m[37]#011train-error:0.158733#011validation-error:0.1854\u001b[0m\n",
      "\u001b[34m[07:46:04] src/tree/updater_prune.cc:74: tree pruning end, 1 roots, 12 extra nodes, 6 pruned nodes, max_depth=5\u001b[0m\n",
      "\u001b[34m[38]#011train-error:0.156133#011validation-error:0.1827\u001b[0m\n",
      "\u001b[34m[07:46:05] src/tree/updater_prune.cc:74: tree pruning end, 1 roots, 26 extra nodes, 8 pruned nodes, max_depth=5\u001b[0m\n",
      "\u001b[34m[39]#011train-error:0.155667#011validation-error:0.1839\u001b[0m\n",
      "\u001b[34m[07:46:07] src/tree/updater_prune.cc:74: tree pruning end, 1 roots, 22 extra nodes, 6 pruned nodes, max_depth=5\u001b[0m\n",
      "\u001b[34m[40]#011train-error:0.1552#011validation-error:0.1842\u001b[0m\n",
      "\u001b[34m[07:46:08] src/tree/updater_prune.cc:74: tree pruning end, 1 roots, 28 extra nodes, 6 pruned nodes, max_depth=5\u001b[0m\n",
      "\u001b[34m[41]#011train-error:0.154733#011validation-error:0.1824\u001b[0m\n",
      "\u001b[34m[07:46:10] src/tree/updater_prune.cc:74: tree pruning end, 1 roots, 18 extra nodes, 4 pruned nodes, max_depth=5\u001b[0m\n",
      "\u001b[34m[42]#011train-error:0.1538#011validation-error:0.1807\u001b[0m\n"
     ]
    },
    {
     "name": "stdout",
     "output_type": "stream",
     "text": [
      "\u001b[34m[07:46:11] src/tree/updater_prune.cc:74: tree pruning end, 1 roots, 32 extra nodes, 12 pruned nodes, max_depth=5\u001b[0m\n",
      "\u001b[34m[43]#011train-error:0.150333#011validation-error:0.1791\u001b[0m\n",
      "\u001b[34m[07:46:12] src/tree/updater_prune.cc:74: tree pruning end, 1 roots, 26 extra nodes, 6 pruned nodes, max_depth=5\u001b[0m\n",
      "\u001b[34m[44]#011train-error:0.1492#011validation-error:0.1784\u001b[0m\n",
      "\u001b[34m[07:46:14] src/tree/updater_prune.cc:74: tree pruning end, 1 roots, 28 extra nodes, 4 pruned nodes, max_depth=5\u001b[0m\n",
      "\u001b[34m[45]#011train-error:0.148867#011validation-error:0.1773\u001b[0m\n",
      "\u001b[34m[07:46:15] src/tree/updater_prune.cc:74: tree pruning end, 1 roots, 14 extra nodes, 6 pruned nodes, max_depth=5\u001b[0m\n",
      "\u001b[34m[46]#011train-error:0.1482#011validation-error:0.1762\u001b[0m\n",
      "\u001b[34m[07:46:17] src/tree/updater_prune.cc:74: tree pruning end, 1 roots, 30 extra nodes, 10 pruned nodes, max_depth=5\u001b[0m\n",
      "\u001b[34m[47]#011train-error:0.1474#011validation-error:0.1745\u001b[0m\n",
      "\u001b[34m[07:46:18] src/tree/updater_prune.cc:74: tree pruning end, 1 roots, 22 extra nodes, 18 pruned nodes, max_depth=5\u001b[0m\n",
      "\u001b[34m[48]#011train-error:0.1454#011validation-error:0.1746\u001b[0m\n",
      "\u001b[34m[07:46:19] src/tree/updater_prune.cc:74: tree pruning end, 1 roots, 20 extra nodes, 6 pruned nodes, max_depth=5\u001b[0m\n",
      "\u001b[34m[49]#011train-error:0.1444#011validation-error:0.1733\u001b[0m\n",
      "\u001b[34m[07:46:21] src/tree/updater_prune.cc:74: tree pruning end, 1 roots, 30 extra nodes, 8 pruned nodes, max_depth=5\u001b[0m\n",
      "\u001b[34m[50]#011train-error:0.142333#011validation-error:0.1729\u001b[0m\n",
      "\u001b[34m[07:46:22] src/tree/updater_prune.cc:74: tree pruning end, 1 roots, 20 extra nodes, 10 pruned nodes, max_depth=5\u001b[0m\n",
      "\u001b[34m[51]#011train-error:0.141467#011validation-error:0.1717\u001b[0m\n",
      "\u001b[34m[07:46:23] src/tree/updater_prune.cc:74: tree pruning end, 1 roots, 12 extra nodes, 12 pruned nodes, max_depth=5\u001b[0m\n",
      "\u001b[34m[52]#011train-error:0.140667#011validation-error:0.1707\u001b[0m\n",
      "\u001b[34m[07:46:25] src/tree/updater_prune.cc:74: tree pruning end, 1 roots, 26 extra nodes, 4 pruned nodes, max_depth=5\u001b[0m\n",
      "\u001b[34m[53]#011train-error:0.1404#011validation-error:0.1704\u001b[0m\n",
      "\u001b[34m[07:46:26] src/tree/updater_prune.cc:74: tree pruning end, 1 roots, 12 extra nodes, 14 pruned nodes, max_depth=5\u001b[0m\n",
      "\u001b[34m[54]#011train-error:0.140133#011validation-error:0.1695\u001b[0m\n",
      "\u001b[34m[07:46:27] src/tree/updater_prune.cc:74: tree pruning end, 1 roots, 16 extra nodes, 4 pruned nodes, max_depth=5\u001b[0m\n",
      "\u001b[34m[55]#011train-error:0.139133#011validation-error:0.1688\u001b[0m\n",
      "\u001b[34m[07:46:29] src/tree/updater_prune.cc:74: tree pruning end, 1 roots, 26 extra nodes, 12 pruned nodes, max_depth=5\u001b[0m\n",
      "\u001b[34m[56]#011train-error:0.138133#011validation-error:0.1693\u001b[0m\n",
      "\u001b[34m[07:46:30] src/tree/updater_prune.cc:74: tree pruning end, 1 roots, 18 extra nodes, 6 pruned nodes, max_depth=5\u001b[0m\n",
      "\u001b[34m[57]#011train-error:0.1376#011validation-error:0.168\u001b[0m\n",
      "\u001b[34m[07:46:32] src/tree/updater_prune.cc:74: tree pruning end, 1 roots, 32 extra nodes, 8 pruned nodes, max_depth=5\u001b[0m\n",
      "\u001b[34m[58]#011train-error:0.135733#011validation-error:0.1667\u001b[0m\n",
      "\u001b[34m[07:46:33] src/tree/updater_prune.cc:74: tree pruning end, 1 roots, 26 extra nodes, 6 pruned nodes, max_depth=5\u001b[0m\n",
      "\u001b[34m[59]#011train-error:0.134667#011validation-error:0.1658\u001b[0m\n",
      "\u001b[34m[07:46:34] src/tree/updater_prune.cc:74: tree pruning end, 1 roots, 26 extra nodes, 12 pruned nodes, max_depth=5\u001b[0m\n",
      "\u001b[34m[60]#011train-error:0.133467#011validation-error:0.1647\u001b[0m\n",
      "\u001b[34m[07:46:36] src/tree/updater_prune.cc:74: tree pruning end, 1 roots, 12 extra nodes, 10 pruned nodes, max_depth=5\u001b[0m\n",
      "\u001b[34m[61]#011train-error:0.131867#011validation-error:0.165\u001b[0m\n",
      "\u001b[34m[07:46:37] src/tree/updater_prune.cc:74: tree pruning end, 1 roots, 22 extra nodes, 8 pruned nodes, max_depth=5\u001b[0m\n",
      "\u001b[34m[62]#011train-error:0.131667#011validation-error:0.1643\u001b[0m\n",
      "\u001b[34m[07:46:38] src/tree/updater_prune.cc:74: tree pruning end, 1 roots, 42 extra nodes, 10 pruned nodes, max_depth=5\u001b[0m\n",
      "\u001b[34m[63]#011train-error:0.128867#011validation-error:0.1638\u001b[0m\n",
      "\u001b[34m[07:46:40] src/tree/updater_prune.cc:74: tree pruning end, 1 roots, 28 extra nodes, 8 pruned nodes, max_depth=5\u001b[0m\n",
      "\u001b[34m[64]#011train-error:0.1278#011validation-error:0.1627\u001b[0m\n",
      "\u001b[34m[07:46:41] src/tree/updater_prune.cc:74: tree pruning end, 1 roots, 12 extra nodes, 2 pruned nodes, max_depth=5\u001b[0m\n",
      "\u001b[34m[65]#011train-error:0.126267#011validation-error:0.1623\u001b[0m\n",
      "\u001b[34m[07:46:42] src/tree/updater_prune.cc:74: tree pruning end, 1 roots, 16 extra nodes, 16 pruned nodes, max_depth=5\u001b[0m\n",
      "\u001b[34m[66]#011train-error:0.126333#011validation-error:0.1624\u001b[0m\n",
      "\u001b[34m[07:46:44] src/tree/updater_prune.cc:74: tree pruning end, 1 roots, 22 extra nodes, 12 pruned nodes, max_depth=5\u001b[0m\n",
      "\u001b[34m[67]#011train-error:0.125733#011validation-error:0.1615\u001b[0m\n",
      "\u001b[34m[07:46:45] src/tree/updater_prune.cc:74: tree pruning end, 1 roots, 22 extra nodes, 6 pruned nodes, max_depth=5\u001b[0m\n",
      "\u001b[34m[68]#011train-error:0.125067#011validation-error:0.162\u001b[0m\n",
      "\u001b[34m[07:46:46] src/tree/updater_prune.cc:74: tree pruning end, 1 roots, 24 extra nodes, 6 pruned nodes, max_depth=5\u001b[0m\n",
      "\u001b[34m[69]#011train-error:0.124467#011validation-error:0.1621\u001b[0m\n",
      "\u001b[34m[07:46:48] src/tree/updater_prune.cc:74: tree pruning end, 1 roots, 14 extra nodes, 14 pruned nodes, max_depth=5\u001b[0m\n",
      "\u001b[34m[70]#011train-error:0.123467#011validation-error:0.1613\u001b[0m\n",
      "\u001b[34m[07:46:49] src/tree/updater_prune.cc:74: tree pruning end, 1 roots, 30 extra nodes, 4 pruned nodes, max_depth=5\u001b[0m\n",
      "\u001b[34m[71]#011train-error:0.1218#011validation-error:0.161\u001b[0m\n",
      "\u001b[34m[07:46:51] src/tree/updater_prune.cc:74: tree pruning end, 1 roots, 18 extra nodes, 6 pruned nodes, max_depth=5\u001b[0m\n",
      "\u001b[34m[72]#011train-error:0.121867#011validation-error:0.1601\u001b[0m\n",
      "\u001b[34m[07:46:52] src/tree/updater_prune.cc:74: tree pruning end, 1 roots, 16 extra nodes, 6 pruned nodes, max_depth=5\u001b[0m\n",
      "\u001b[34m[73]#011train-error:0.121667#011validation-error:0.1601\u001b[0m\n",
      "\u001b[34m[07:46:53] src/tree/updater_prune.cc:74: tree pruning end, 1 roots, 32 extra nodes, 10 pruned nodes, max_depth=5\u001b[0m\n",
      "\u001b[34m[74]#011train-error:0.120533#011validation-error:0.1597\u001b[0m\n",
      "\u001b[34m[07:46:55] src/tree/updater_prune.cc:74: tree pruning end, 1 roots, 24 extra nodes, 4 pruned nodes, max_depth=5\u001b[0m\n",
      "\u001b[34m[75]#011train-error:0.119067#011validation-error:0.1599\u001b[0m\n",
      "\u001b[34m[07:46:56] src/tree/updater_prune.cc:74: tree pruning end, 1 roots, 22 extra nodes, 14 pruned nodes, max_depth=5\u001b[0m\n",
      "\u001b[34m[76]#011train-error:0.118467#011validation-error:0.1593\u001b[0m\n",
      "\u001b[34m[07:46:57] src/tree/updater_prune.cc:74: tree pruning end, 1 roots, 18 extra nodes, 12 pruned nodes, max_depth=5\u001b[0m\n",
      "\u001b[34m[77]#011train-error:0.1186#011validation-error:0.1584\u001b[0m\n",
      "\u001b[34m[07:46:59] src/tree/updater_prune.cc:74: tree pruning end, 1 roots, 10 extra nodes, 6 pruned nodes, max_depth=5\u001b[0m\n",
      "\u001b[34m[78]#011train-error:0.1178#011validation-error:0.1577\u001b[0m\n",
      "\u001b[34m[07:47:00] src/tree/updater_prune.cc:74: tree pruning end, 1 roots, 16 extra nodes, 6 pruned nodes, max_depth=5\u001b[0m\n",
      "\u001b[34m[79]#011train-error:0.116533#011validation-error:0.1573\u001b[0m\n",
      "\u001b[34m[07:47:02] src/tree/updater_prune.cc:74: tree pruning end, 1 roots, 24 extra nodes, 8 pruned nodes, max_depth=5\u001b[0m\n",
      "\u001b[34m[80]#011train-error:0.116067#011validation-error:0.156\u001b[0m\n",
      "\u001b[34m[07:47:03] src/tree/updater_prune.cc:74: tree pruning end, 1 roots, 22 extra nodes, 14 pruned nodes, max_depth=5\u001b[0m\n",
      "\u001b[34m[81]#011train-error:0.1158#011validation-error:0.1562\u001b[0m\n",
      "\u001b[34m[07:47:05] src/tree/updater_prune.cc:74: tree pruning end, 1 roots, 20 extra nodes, 8 pruned nodes, max_depth=5\u001b[0m\n",
      "\u001b[34m[82]#011train-error:0.115067#011validation-error:0.1553\u001b[0m\n",
      "\u001b[34m[07:47:06] src/tree/updater_prune.cc:74: tree pruning end, 1 roots, 10 extra nodes, 4 pruned nodes, max_depth=5\u001b[0m\n",
      "\u001b[34m[83]#011train-error:0.114333#011validation-error:0.1548\u001b[0m\n",
      "\u001b[34m[07:47:08] src/tree/updater_prune.cc:74: tree pruning end, 1 roots, 20 extra nodes, 10 pruned nodes, max_depth=5\u001b[0m\n",
      "\u001b[34m[84]#011train-error:0.113733#011validation-error:0.1541\u001b[0m\n",
      "\u001b[34m[07:47:09] src/tree/updater_prune.cc:74: tree pruning end, 1 roots, 30 extra nodes, 6 pruned nodes, max_depth=5\u001b[0m\n",
      "\u001b[34m[85]#011train-error:0.114067#011validation-error:0.1547\u001b[0m\n",
      "\u001b[34m[07:47:10] src/tree/updater_prune.cc:74: tree pruning end, 1 roots, 24 extra nodes, 2 pruned nodes, max_depth=5\u001b[0m\n",
      "\u001b[34m[86]#011train-error:0.113067#011validation-error:0.1544\u001b[0m\n",
      "\u001b[34m[07:47:12] src/tree/updater_prune.cc:74: tree pruning end, 1 roots, 12 extra nodes, 16 pruned nodes, max_depth=5\u001b[0m\n",
      "\u001b[34m[87]#011train-error:0.112867#011validation-error:0.1537\u001b[0m\n"
     ]
    },
    {
     "name": "stdout",
     "output_type": "stream",
     "text": [
      "\u001b[34m[07:47:13] src/tree/updater_prune.cc:74: tree pruning end, 1 roots, 18 extra nodes, 8 pruned nodes, max_depth=5\u001b[0m\n",
      "\u001b[34m[88]#011train-error:0.1118#011validation-error:0.1535\u001b[0m\n",
      "\u001b[34m[07:47:14] src/tree/updater_prune.cc:74: tree pruning end, 1 roots, 16 extra nodes, 2 pruned nodes, max_depth=5\u001b[0m\n",
      "\u001b[34m[89]#011train-error:0.111467#011validation-error:0.1534\u001b[0m\n",
      "\u001b[34m[07:47:16] src/tree/updater_prune.cc:74: tree pruning end, 1 roots, 24 extra nodes, 10 pruned nodes, max_depth=5\u001b[0m\n",
      "\u001b[34m[90]#011train-error:0.110733#011validation-error:0.1522\u001b[0m\n",
      "\u001b[34m[07:47:17] src/tree/updater_prune.cc:74: tree pruning end, 1 roots, 32 extra nodes, 10 pruned nodes, max_depth=5\u001b[0m\n",
      "\u001b[34m[91]#011train-error:0.11#011validation-error:0.1531\u001b[0m\n",
      "\u001b[34m[07:47:19] src/tree/updater_prune.cc:74: tree pruning end, 1 roots, 10 extra nodes, 6 pruned nodes, max_depth=5\u001b[0m\n",
      "\u001b[34m[92]#011train-error:0.109533#011validation-error:0.1527\u001b[0m\n",
      "\u001b[34m[07:47:20] src/tree/updater_prune.cc:74: tree pruning end, 1 roots, 10 extra nodes, 14 pruned nodes, max_depth=5\u001b[0m\n",
      "\u001b[34m[93]#011train-error:0.109267#011validation-error:0.1524\u001b[0m\n",
      "\u001b[34m[07:47:21] src/tree/updater_prune.cc:74: tree pruning end, 1 roots, 14 extra nodes, 8 pruned nodes, max_depth=5\u001b[0m\n",
      "\u001b[34m[94]#011train-error:0.108667#011validation-error:0.1516\u001b[0m\n",
      "\u001b[34m[07:47:23] src/tree/updater_prune.cc:74: tree pruning end, 1 roots, 16 extra nodes, 10 pruned nodes, max_depth=5\u001b[0m\n",
      "\u001b[34m[95]#011train-error:0.107533#011validation-error:0.1519\u001b[0m\n",
      "\u001b[34m[07:47:24] src/tree/updater_prune.cc:74: tree pruning end, 1 roots, 26 extra nodes, 8 pruned nodes, max_depth=5\u001b[0m\n",
      "\u001b[34m[96]#011train-error:0.106933#011validation-error:0.1516\u001b[0m\n",
      "\u001b[34m[07:47:25] src/tree/updater_prune.cc:74: tree pruning end, 1 roots, 16 extra nodes, 10 pruned nodes, max_depth=5\u001b[0m\n",
      "\u001b[34m[97]#011train-error:0.1068#011validation-error:0.1519\u001b[0m\n",
      "\u001b[34m[07:47:27] src/tree/updater_prune.cc:74: tree pruning end, 1 roots, 30 extra nodes, 10 pruned nodes, max_depth=5\u001b[0m\n",
      "\u001b[34m[98]#011train-error:0.106267#011validation-error:0.1513\u001b[0m\n",
      "\u001b[34m[07:47:28] src/tree/updater_prune.cc:74: tree pruning end, 1 roots, 18 extra nodes, 0 pruned nodes, max_depth=5\u001b[0m\n",
      "\u001b[34m[99]#011train-error:0.1052#011validation-error:0.1509\u001b[0m\n",
      "\u001b[34m[07:47:30] src/tree/updater_prune.cc:74: tree pruning end, 1 roots, 12 extra nodes, 2 pruned nodes, max_depth=5\u001b[0m\n",
      "\u001b[34m[100]#011train-error:0.104867#011validation-error:0.1507\u001b[0m\n",
      "\u001b[34m[07:47:31] src/tree/updater_prune.cc:74: tree pruning end, 1 roots, 10 extra nodes, 8 pruned nodes, max_depth=5\u001b[0m\n",
      "\u001b[34m[101]#011train-error:0.104267#011validation-error:0.1502\u001b[0m\n",
      "\u001b[34m[07:47:32] src/tree/updater_prune.cc:74: tree pruning end, 1 roots, 16 extra nodes, 12 pruned nodes, max_depth=5\u001b[0m\n",
      "\u001b[34m[102]#011train-error:0.104467#011validation-error:0.15\u001b[0m\n",
      "\u001b[34m[07:47:34] src/tree/updater_prune.cc:74: tree pruning end, 1 roots, 22 extra nodes, 6 pruned nodes, max_depth=5\u001b[0m\n",
      "\u001b[34m[103]#011train-error:0.1036#011validation-error:0.1504\u001b[0m\n",
      "\u001b[34m[07:47:35] src/tree/updater_prune.cc:74: tree pruning end, 1 roots, 14 extra nodes, 12 pruned nodes, max_depth=5\u001b[0m\n",
      "\u001b[34m[104]#011train-error:0.103467#011validation-error:0.1501\u001b[0m\n",
      "\u001b[34m[07:47:36] src/tree/updater_prune.cc:74: tree pruning end, 1 roots, 12 extra nodes, 0 pruned nodes, max_depth=5\u001b[0m\n",
      "\u001b[34m[105]#011train-error:0.103333#011validation-error:0.1498\u001b[0m\n",
      "\u001b[34m[07:47:38] src/tree/updater_prune.cc:74: tree pruning end, 1 roots, 32 extra nodes, 4 pruned nodes, max_depth=5\u001b[0m\n",
      "\u001b[34m[106]#011train-error:0.1022#011validation-error:0.1494\u001b[0m\n",
      "\u001b[34m[07:47:39] src/tree/updater_prune.cc:74: tree pruning end, 1 roots, 28 extra nodes, 4 pruned nodes, max_depth=5\u001b[0m\n",
      "\u001b[34m[107]#011train-error:0.1016#011validation-error:0.1491\u001b[0m\n",
      "\u001b[34m[07:47:40] src/tree/updater_prune.cc:74: tree pruning end, 1 roots, 24 extra nodes, 8 pruned nodes, max_depth=5\u001b[0m\n",
      "\u001b[34m[108]#011train-error:0.101533#011validation-error:0.1485\u001b[0m\n",
      "\u001b[34m[07:47:42] src/tree/updater_prune.cc:74: tree pruning end, 1 roots, 12 extra nodes, 10 pruned nodes, max_depth=5\u001b[0m\n",
      "\u001b[34m[109]#011train-error:0.1014#011validation-error:0.1479\u001b[0m\n",
      "\u001b[34m[07:47:43] src/tree/updater_prune.cc:74: tree pruning end, 1 roots, 18 extra nodes, 4 pruned nodes, max_depth=5\u001b[0m\n",
      "\u001b[34m[110]#011train-error:0.1002#011validation-error:0.1471\u001b[0m\n",
      "\u001b[34m[07:47:44] src/tree/updater_prune.cc:74: tree pruning end, 1 roots, 16 extra nodes, 6 pruned nodes, max_depth=5\u001b[0m\n",
      "\u001b[34m[111]#011train-error:0.0996#011validation-error:0.1462\u001b[0m\n",
      "\u001b[34m[07:47:46] src/tree/updater_prune.cc:74: tree pruning end, 1 roots, 26 extra nodes, 4 pruned nodes, max_depth=5\u001b[0m\n",
      "\u001b[34m[112]#011train-error:0.098667#011validation-error:0.1464\u001b[0m\n",
      "\u001b[34m[07:47:47] src/tree/updater_prune.cc:74: tree pruning end, 1 roots, 30 extra nodes, 6 pruned nodes, max_depth=5\u001b[0m\n",
      "\u001b[34m[113]#011train-error:0.098067#011validation-error:0.1466\u001b[0m\n",
      "\u001b[34m[07:47:49] src/tree/updater_prune.cc:74: tree pruning end, 1 roots, 40 extra nodes, 8 pruned nodes, max_depth=5\u001b[0m\n",
      "\u001b[34m[114]#011train-error:0.096467#011validation-error:0.1472\u001b[0m\n",
      "\u001b[34m[07:47:50] src/tree/updater_prune.cc:74: tree pruning end, 1 roots, 20 extra nodes, 16 pruned nodes, max_depth=5\u001b[0m\n",
      "\u001b[34m[115]#011train-error:0.096333#011validation-error:0.1483\u001b[0m\n",
      "\u001b[34m[07:47:51] src/tree/updater_prune.cc:74: tree pruning end, 1 roots, 32 extra nodes, 10 pruned nodes, max_depth=5\u001b[0m\n",
      "\u001b[34m[116]#011train-error:0.095067#011validation-error:0.1483\u001b[0m\n",
      "\u001b[34m[07:47:53] src/tree/updater_prune.cc:74: tree pruning end, 1 roots, 10 extra nodes, 8 pruned nodes, max_depth=5\u001b[0m\n",
      "\u001b[34m[117]#011train-error:0.095#011validation-error:0.1486\u001b[0m\n",
      "\u001b[34m[07:47:54] src/tree/updater_prune.cc:74: tree pruning end, 1 roots, 10 extra nodes, 8 pruned nodes, max_depth=5\u001b[0m\n",
      "\u001b[34m[118]#011train-error:0.094867#011validation-error:0.1492\u001b[0m\n",
      "\n",
      "2022-01-27 07:48:02 Uploading - Uploading generated training model\u001b[34m[07:47:55] src/tree/updater_prune.cc:74: tree pruning end, 1 roots, 36 extra nodes, 12 pruned nodes, max_depth=5\u001b[0m\n",
      "\u001b[34m[119]#011train-error:0.0938#011validation-error:0.1479\u001b[0m\n",
      "\u001b[34m[07:47:57] src/tree/updater_prune.cc:74: tree pruning end, 1 roots, 10 extra nodes, 6 pruned nodes, max_depth=5\u001b[0m\n",
      "\u001b[34m[120]#011train-error:0.093467#011validation-error:0.1471\u001b[0m\n",
      "\u001b[34m[07:47:58] src/tree/updater_prune.cc:74: tree pruning end, 1 roots, 18 extra nodes, 8 pruned nodes, max_depth=5\u001b[0m\n",
      "\u001b[34m[121]#011train-error:0.0942#011validation-error:0.1472\u001b[0m\n",
      "\u001b[34mStopping. Best iteration:\u001b[0m\n",
      "\u001b[34m[111]#011train-error:0.0996#011validation-error:0.1462\u001b[0m\n",
      "\n",
      "2022-01-27 07:48:09 Completed - Training job completed\n",
      "Training seconds: 227\n",
      "Billable seconds: 227\n"
     ]
    }
   ],
   "source": [
    "xgb.fit({'train': s3_input_train, 'validation': s3_input_validation})"
   ]
  },
  {
   "cell_type": "markdown",
   "metadata": {},
   "source": [
    "## Step 5: Testing the model\n",
    "\n",
    "Now that we've fit our XGBoost model, it's time to see how well it performs. To do this we will use SageMakers Batch Transform functionality. Batch Transform is a convenient way to perform inference on a large dataset in a way that is not realtime. That is, we don't necessarily need to use our model's results immediately and instead we can perform inference on a large number of samples. An example of this in industry might be performing an end of month report. This method of inference can also be useful to us as it means that we can perform inference on our entire test set. \n",
    "\n",
    "To perform a Batch Transformation we need to first create a transformer objects from our trained estimator object."
   ]
  },
  {
   "cell_type": "code",
   "execution_count": 24,
   "metadata": {},
   "outputs": [
    {
     "name": "stderr",
     "output_type": "stream",
     "text": [
      "Parameter image will be renamed to image_uri in SageMaker Python SDK v2.\n"
     ]
    }
   ],
   "source": [
    "xgb_transformer = xgb.transformer(instance_count = 1, instance_type = 'ml.m4.xlarge')"
   ]
  },
  {
   "cell_type": "markdown",
   "metadata": {},
   "source": [
    "Next we actually perform the transform job. When doing so we need to make sure to specify the type of data we are sending so that it is serialized correctly in the background. In our case we are providing our model with csv data so we specify `text/csv`. Also, if the test data that we have provided is too large to process all at once then we need to specify how the data file should be split up. Since each line is a single entry in our data set we tell SageMaker that it can split the input on each line."
   ]
  },
  {
   "cell_type": "code",
   "execution_count": 25,
   "metadata": {},
   "outputs": [],
   "source": [
    "xgb_transformer.transform(test_location, content_type='text/csv', split_type='Line')"
   ]
  },
  {
   "cell_type": "markdown",
   "metadata": {},
   "source": [
    "Currently the transform job is running but it is doing so in the background. Since we wish to wait until the transform job is done and we would like a bit of feedback we can run the `wait()` method."
   ]
  },
  {
   "cell_type": "code",
   "execution_count": 26,
   "metadata": {},
   "outputs": [
    {
     "name": "stdout",
     "output_type": "stream",
     "text": [
      ".................................\u001b[34mArguments: serve\u001b[0m\n",
      "\u001b[35mArguments: serve\u001b[0m\n",
      "\u001b[34m[2022-01-27 07:54:09 +0000] [1] [INFO] Starting gunicorn 19.9.0\u001b[0m\n",
      "\u001b[34m[2022-01-27 07:54:09 +0000] [1] [INFO] Listening at: http://0.0.0.0:8080 (1)\u001b[0m\n",
      "\u001b[34m[2022-01-27 07:54:09 +0000] [1] [INFO] Using worker: gevent\u001b[0m\n",
      "\u001b[34m[2022-01-27 07:54:09 +0000] [21] [INFO] Booting worker with pid: 21\u001b[0m\n",
      "\u001b[34m[2022-01-27 07:54:09 +0000] [22] [INFO] Booting worker with pid: 22\u001b[0m\n",
      "\u001b[34m/opt/amazon/lib/python3.7/site-packages/gunicorn/workers/ggevent.py:65: MonkeyPatchWarning: Monkey-patching ssl after ssl has already been imported may lead to errors, including RecursionError on Python 3.6. It may also silently lead to incorrect behaviour on Python 3.7. Please monkey-patch earlier. See https://github.com/gevent/gevent/issues/1016. Modules that had direct imports (NOT patched): ['urllib3.util (/opt/amazon/lib/python3.7/site-packages/urllib3/util/__init__.py)', 'urllib3.util.ssl_ (/opt/amazon/lib/python3.7/site-packages/urllib3/util/ssl_.py)']. \n",
      "  monkey.patch_all(subprocess=True)\u001b[0m\n",
      "\u001b[34m[2022-01-27:07:54:09:INFO] Model loaded successfully for worker : 21\u001b[0m\n",
      "\u001b[34m/opt/amazon/lib/python3.7/site-packages/gunicorn/workers/ggevent.py:65: MonkeyPatchWarning: Monkey-patching ssl after ssl has already been imported may lead to errors, including RecursionError on Python 3.6. It may also silently lead to incorrect behaviour on Python 3.7. Please monkey-patch earlier. See https://github.com/gevent/gevent/issues/1016. Modules that had direct imports (NOT patched): ['urllib3.util (/opt/amazon/lib/python3.7/site-packages/urllib3/util/__init__.py)', 'urllib3.util.ssl_ (/opt/amazon/lib/python3.7/site-packages/urllib3/util/ssl_.py)']. \n",
      "  monkey.patch_all(subprocess=True)\u001b[0m\n",
      "\u001b[34m[2022-01-27:07:54:09:INFO] Model loaded successfully for worker : 22\u001b[0m\n",
      "\u001b[34m[2022-01-27 07:54:09 +0000] [23] [INFO] Booting worker with pid: 23\u001b[0m\n",
      "\u001b[34m/opt/amazon/lib/python3.7/site-packages/gunicorn/workers/ggevent.py:65: MonkeyPatchWarning: Monkey-patching ssl after ssl has already been imported may lead to errors, including RecursionError on Python 3.6. It may also silently lead to incorrect behaviour on Python 3.7. Please monkey-patch earlier. See https://github.com/gevent/gevent/issues/1016. Modules that had direct imports (NOT patched): ['urllib3.util (/opt/amazon/lib/python3.7/site-packages/urllib3/util/__init__.py)', 'urllib3.util.ssl_ (/opt/amazon/lib/python3.7/site-packages/urllib3/util/ssl_.py)']. \n",
      "  monkey.patch_all(subprocess=True)\u001b[0m\n",
      "\u001b[34m[2022-01-27:07:54:09:INFO] Model loaded successfully for worker : 23\u001b[0m\n",
      "\u001b[35m[2022-01-27 07:54:09 +0000] [1] [INFO] Starting gunicorn 19.9.0\u001b[0m\n",
      "\u001b[35m[2022-01-27 07:54:09 +0000] [1] [INFO] Listening at: http://0.0.0.0:8080 (1)\u001b[0m\n",
      "\u001b[35m[2022-01-27 07:54:09 +0000] [1] [INFO] Using worker: gevent\u001b[0m\n",
      "\u001b[35m[2022-01-27 07:54:09 +0000] [21] [INFO] Booting worker with pid: 21\u001b[0m\n",
      "\u001b[35m[2022-01-27 07:54:09 +0000] [22] [INFO] Booting worker with pid: 22\u001b[0m\n",
      "\u001b[35m/opt/amazon/lib/python3.7/site-packages/gunicorn/workers/ggevent.py:65: MonkeyPatchWarning: Monkey-patching ssl after ssl has already been imported may lead to errors, including RecursionError on Python 3.6. It may also silently lead to incorrect behaviour on Python 3.7. Please monkey-patch earlier. See https://github.com/gevent/gevent/issues/1016. Modules that had direct imports (NOT patched): ['urllib3.util (/opt/amazon/lib/python3.7/site-packages/urllib3/util/__init__.py)', 'urllib3.util.ssl_ (/opt/amazon/lib/python3.7/site-packages/urllib3/util/ssl_.py)']. \n",
      "  monkey.patch_all(subprocess=True)\u001b[0m\n",
      "\u001b[35m[2022-01-27:07:54:09:INFO] Model loaded successfully for worker : 21\u001b[0m\n",
      "\u001b[35m/opt/amazon/lib/python3.7/site-packages/gunicorn/workers/ggevent.py:65: MonkeyPatchWarning: Monkey-patching ssl after ssl has already been imported may lead to errors, including RecursionError on Python 3.6. It may also silently lead to incorrect behaviour on Python 3.7. Please monkey-patch earlier. See https://github.com/gevent/gevent/issues/1016. Modules that had direct imports (NOT patched): ['urllib3.util (/opt/amazon/lib/python3.7/site-packages/urllib3/util/__init__.py)', 'urllib3.util.ssl_ (/opt/amazon/lib/python3.7/site-packages/urllib3/util/ssl_.py)']. \n",
      "  monkey.patch_all(subprocess=True)\u001b[0m\n",
      "\u001b[35m[2022-01-27:07:54:09:INFO] Model loaded successfully for worker : 22\u001b[0m\n",
      "\u001b[35m[2022-01-27 07:54:09 +0000] [23] [INFO] Booting worker with pid: 23\u001b[0m\n",
      "\u001b[35m/opt/amazon/lib/python3.7/site-packages/gunicorn/workers/ggevent.py:65: MonkeyPatchWarning: Monkey-patching ssl after ssl has already been imported may lead to errors, including RecursionError on Python 3.6. It may also silently lead to incorrect behaviour on Python 3.7. Please monkey-patch earlier. See https://github.com/gevent/gevent/issues/1016. Modules that had direct imports (NOT patched): ['urllib3.util (/opt/amazon/lib/python3.7/site-packages/urllib3/util/__init__.py)', 'urllib3.util.ssl_ (/opt/amazon/lib/python3.7/site-packages/urllib3/util/ssl_.py)']. \n",
      "  monkey.patch_all(subprocess=True)\u001b[0m\n",
      "\u001b[35m[2022-01-27:07:54:09:INFO] Model loaded successfully for worker : 23\u001b[0m\n",
      "\u001b[34m[2022-01-27 07:54:09 +0000] [24] [INFO] Booting worker with pid: 24\u001b[0m\n",
      "\u001b[34m/opt/amazon/lib/python3.7/site-packages/gunicorn/workers/ggevent.py:65: MonkeyPatchWarning: Monkey-patching ssl after ssl has already been imported may lead to errors, including RecursionError on Python 3.6. It may also silently lead to incorrect behaviour on Python 3.7. Please monkey-patch earlier. See https://github.com/gevent/gevent/issues/1016. Modules that had direct imports (NOT patched): ['urllib3.util (/opt/amazon/lib/python3.7/site-packages/urllib3/util/__init__.py)', 'urllib3.util.ssl_ (/opt/amazon/lib/python3.7/site-packages/urllib3/util/ssl_.py)']. \n",
      "  monkey.patch_all(subprocess=True)\u001b[0m\n",
      "\u001b[34m[2022-01-27:07:54:10:INFO] Model loaded successfully for worker : 24\u001b[0m\n",
      "\u001b[35m[2022-01-27 07:54:09 +0000] [24] [INFO] Booting worker with pid: 24\u001b[0m\n",
      "\u001b[35m/opt/amazon/lib/python3.7/site-packages/gunicorn/workers/ggevent.py:65: MonkeyPatchWarning: Monkey-patching ssl after ssl has already been imported may lead to errors, including RecursionError on Python 3.6. It may also silently lead to incorrect behaviour on Python 3.7. Please monkey-patch earlier. See https://github.com/gevent/gevent/issues/1016. Modules that had direct imports (NOT patched): ['urllib3.util (/opt/amazon/lib/python3.7/site-packages/urllib3/util/__init__.py)', 'urllib3.util.ssl_ (/opt/amazon/lib/python3.7/site-packages/urllib3/util/ssl_.py)']. \n",
      "  monkey.patch_all(subprocess=True)\u001b[0m\n",
      "\u001b[35m[2022-01-27:07:54:10:INFO] Model loaded successfully for worker : 24\u001b[0m\n",
      "\u001b[32m2022-01-27T07:54:13.826:[sagemaker logs]: MaxConcurrentTransforms=4, MaxPayloadInMB=6, BatchStrategy=MULTI_RECORD\u001b[0m\n",
      "\u001b[34m[2022-01-27:07:54:17:INFO] Sniff delimiter as ','\u001b[0m\n",
      "\u001b[34m[2022-01-27:07:54:17:INFO] Determined delimiter of CSV input is ','\u001b[0m\n",
      "\u001b[34m[2022-01-27:07:54:17:INFO] Sniff delimiter as ','\u001b[0m\n",
      "\u001b[34m[2022-01-27:07:54:17:INFO] Determined delimiter of CSV input is ','\u001b[0m\n",
      "\u001b[34m[2022-01-27:07:54:17:INFO] Sniff delimiter as ','\u001b[0m\n",
      "\u001b[34m[2022-01-27:07:54:17:INFO] Determined delimiter of CSV input is ','\u001b[0m\n",
      "\u001b[35m[2022-01-27:07:54:17:INFO] Sniff delimiter as ','\u001b[0m\n",
      "\u001b[35m[2022-01-27:07:54:17:INFO] Determined delimiter of CSV input is ','\u001b[0m\n",
      "\u001b[35m[2022-01-27:07:54:17:INFO] Sniff delimiter as ','\u001b[0m\n",
      "\u001b[35m[2022-01-27:07:54:17:INFO] Determined delimiter of CSV input is ','\u001b[0m\n",
      "\u001b[35m[2022-01-27:07:54:17:INFO] Sniff delimiter as ','\u001b[0m\n",
      "\u001b[35m[2022-01-27:07:54:17:INFO] Determined delimiter of CSV input is ','\u001b[0m\n",
      "\u001b[34m[2022-01-27:07:54:17:INFO] Sniff delimiter as ','\u001b[0m\n",
      "\u001b[34m[2022-01-27:07:54:17:INFO] Determined delimiter of CSV input is ','\u001b[0m\n",
      "\u001b[35m[2022-01-27:07:54:17:INFO] Sniff delimiter as ','\u001b[0m\n",
      "\u001b[35m[2022-01-27:07:54:17:INFO] Determined delimiter of CSV input is ','\u001b[0m\n",
      "\u001b[34m[2022-01-27:07:54:21:INFO] Sniff delimiter as ','\u001b[0m\n",
      "\u001b[34m[2022-01-27:07:54:21:INFO] Determined delimiter of CSV input is ','\u001b[0m\n",
      "\u001b[34m[2022-01-27:07:54:21:INFO] Sniff delimiter as ','\u001b[0m\n",
      "\u001b[34m[2022-01-27:07:54:21:INFO] Determined delimiter of CSV input is ','\u001b[0m\n",
      "\u001b[34m[2022-01-27:07:54:21:INFO] Sniff delimiter as ','\u001b[0m\n",
      "\u001b[34m[2022-01-27:07:54:21:INFO] Determined delimiter of CSV input is ','\u001b[0m\n",
      "\u001b[34m[2022-01-27:07:54:21:INFO] Sniff delimiter as ','\u001b[0m\n",
      "\u001b[34m[2022-01-27:07:54:21:INFO] Determined delimiter of CSV input is ','\u001b[0m\n",
      "\u001b[35m[2022-01-27:07:54:21:INFO] Sniff delimiter as ','\u001b[0m\n",
      "\u001b[35m[2022-01-27:07:54:21:INFO] Determined delimiter of CSV input is ','\u001b[0m\n",
      "\u001b[35m[2022-01-27:07:54:21:INFO] Sniff delimiter as ','\u001b[0m\n",
      "\u001b[35m[2022-01-27:07:54:21:INFO] Determined delimiter of CSV input is ','\u001b[0m\n",
      "\u001b[35m[2022-01-27:07:54:21:INFO] Sniff delimiter as ','\u001b[0m\n",
      "\u001b[35m[2022-01-27:07:54:21:INFO] Determined delimiter of CSV input is ','\u001b[0m\n",
      "\u001b[35m[2022-01-27:07:54:21:INFO] Sniff delimiter as ','\u001b[0m\n",
      "\u001b[35m[2022-01-27:07:54:21:INFO] Determined delimiter of CSV input is ','\u001b[0m\n"
     ]
    },
    {
     "name": "stdout",
     "output_type": "stream",
     "text": [
      "\u001b[34m[2022-01-27:07:54:28:INFO] Sniff delimiter as ','\u001b[0m\n",
      "\u001b[35m[2022-01-27:07:54:28:INFO] Sniff delimiter as ','\u001b[0m\n",
      "\u001b[34m[2022-01-27:07:54:28:INFO] Determined delimiter of CSV input is ','\u001b[0m\n",
      "\u001b[34m[2022-01-27:07:54:29:INFO] Sniff delimiter as ','\u001b[0m\n",
      "\u001b[34m[2022-01-27:07:54:29:INFO] Determined delimiter of CSV input is ','\u001b[0m\n",
      "\u001b[34m[2022-01-27:07:54:29:INFO] Sniff delimiter as ','\u001b[0m\n",
      "\u001b[34m[2022-01-27:07:54:29:INFO] Determined delimiter of CSV input is ','\u001b[0m\n",
      "\u001b[34m[2022-01-27:07:54:29:INFO] Sniff delimiter as ','\u001b[0m\n",
      "\u001b[34m[2022-01-27:07:54:29:INFO] Determined delimiter of CSV input is ','\u001b[0m\n",
      "\u001b[35m[2022-01-27:07:54:28:INFO] Determined delimiter of CSV input is ','\u001b[0m\n",
      "\u001b[35m[2022-01-27:07:54:29:INFO] Sniff delimiter as ','\u001b[0m\n",
      "\u001b[35m[2022-01-27:07:54:29:INFO] Determined delimiter of CSV input is ','\u001b[0m\n",
      "\u001b[35m[2022-01-27:07:54:29:INFO] Sniff delimiter as ','\u001b[0m\n",
      "\u001b[35m[2022-01-27:07:54:29:INFO] Determined delimiter of CSV input is ','\u001b[0m\n",
      "\u001b[35m[2022-01-27:07:54:29:INFO] Sniff delimiter as ','\u001b[0m\n",
      "\u001b[35m[2022-01-27:07:54:29:INFO] Determined delimiter of CSV input is ','\u001b[0m\n",
      "\u001b[34m[2022-01-27:07:54:33:INFO] Determined delimiter of CSV input is ','\u001b[0m\n",
      "\u001b[35m[2022-01-27:07:54:33:INFO] Determined delimiter of CSV input is ','\u001b[0m\n",
      "\u001b[34m[2022-01-27:07:54:36:INFO] Sniff delimiter as ','\u001b[0m\n",
      "\u001b[34m[2022-01-27:07:54:36:INFO] Determined delimiter of CSV input is ','\u001b[0m\n",
      "\u001b[34m[2022-01-27:07:54:36:INFO] Sniff delimiter as ','\u001b[0m\n",
      "\u001b[34m[2022-01-27:07:54:36:INFO] Determined delimiter of CSV input is ','\u001b[0m\n",
      "\u001b[35m[2022-01-27:07:54:36:INFO] Sniff delimiter as ','\u001b[0m\n",
      "\u001b[35m[2022-01-27:07:54:36:INFO] Determined delimiter of CSV input is ','\u001b[0m\n",
      "\u001b[35m[2022-01-27:07:54:36:INFO] Sniff delimiter as ','\u001b[0m\n",
      "\u001b[35m[2022-01-27:07:54:36:INFO] Determined delimiter of CSV input is ','\u001b[0m\n",
      "\u001b[34m[2022-01-27:07:54:37:INFO] Sniff delimiter as ','\u001b[0m\n",
      "\u001b[34m[2022-01-27:07:54:37:INFO] Determined delimiter of CSV input is ','\u001b[0m\n",
      "\u001b[34m[2022-01-27:07:54:37:INFO] Sniff delimiter as ','\u001b[0m\n",
      "\u001b[34m[2022-01-27:07:54:37:INFO] Determined delimiter of CSV input is ','\u001b[0m\n",
      "\u001b[35m[2022-01-27:07:54:37:INFO] Sniff delimiter as ','\u001b[0m\n",
      "\u001b[35m[2022-01-27:07:54:37:INFO] Determined delimiter of CSV input is ','\u001b[0m\n",
      "\u001b[35m[2022-01-27:07:54:37:INFO] Sniff delimiter as ','\u001b[0m\n",
      "\u001b[35m[2022-01-27:07:54:37:INFO] Determined delimiter of CSV input is ','\u001b[0m\n",
      "\u001b[34m[2022-01-27:07:54:40:INFO] Sniff delimiter as ','\u001b[0m\n",
      "\u001b[34m[2022-01-27:07:54:40:INFO] Determined delimiter of CSV input is ','\u001b[0m\n",
      "\u001b[34m[2022-01-27:07:54:40:INFO] Sniff delimiter as ','\u001b[0m\n",
      "\u001b[34m[2022-01-27:07:54:40:INFO] Determined delimiter of CSV input is ','\u001b[0m\n",
      "\u001b[34m[2022-01-27:07:54:40:INFO] Sniff delimiter as ','\u001b[0m\n",
      "\u001b[34m[2022-01-27:07:54:40:INFO] Determined delimiter of CSV input is ','\u001b[0m\n",
      "\u001b[35m[2022-01-27:07:54:40:INFO] Sniff delimiter as ','\u001b[0m\n",
      "\u001b[35m[2022-01-27:07:54:40:INFO] Determined delimiter of CSV input is ','\u001b[0m\n",
      "\u001b[35m[2022-01-27:07:54:40:INFO] Sniff delimiter as ','\u001b[0m\n",
      "\u001b[35m[2022-01-27:07:54:40:INFO] Determined delimiter of CSV input is ','\u001b[0m\n",
      "\u001b[35m[2022-01-27:07:54:40:INFO] Sniff delimiter as ','\u001b[0m\n",
      "\u001b[35m[2022-01-27:07:54:40:INFO] Determined delimiter of CSV input is ','\u001b[0m\n",
      "\u001b[34m[2022-01-27:07:54:41:INFO] Sniff delimiter as ','\u001b[0m\n",
      "\u001b[34m[2022-01-27:07:54:41:INFO] Determined delimiter of CSV input is ','\u001b[0m\n",
      "\u001b[35m[2022-01-27:07:54:41:INFO] Sniff delimiter as ','\u001b[0m\n",
      "\u001b[35m[2022-01-27:07:54:41:INFO] Determined delimiter of CSV input is ','\u001b[0m\n",
      "\u001b[34m[2022-01-27:07:54:44:INFO] Sniff delimiter as ','\u001b[0m\n",
      "\u001b[34m[2022-01-27:07:54:44:INFO] Determined delimiter of CSV input is ','\u001b[0m\n",
      "\u001b[34m[2022-01-27:07:54:44:INFO] Sniff delimiter as ','\u001b[0m\n",
      "\u001b[34m[2022-01-27:07:54:44:INFO] Determined delimiter of CSV input is ','\u001b[0m\n",
      "\u001b[35m[2022-01-27:07:54:44:INFO] Sniff delimiter as ','\u001b[0m\n",
      "\u001b[35m[2022-01-27:07:54:44:INFO] Determined delimiter of CSV input is ','\u001b[0m\n",
      "\u001b[35m[2022-01-27:07:54:44:INFO] Sniff delimiter as ','\u001b[0m\n",
      "\u001b[35m[2022-01-27:07:54:44:INFO] Determined delimiter of CSV input is ','\u001b[0m\n",
      "\u001b[34m[2022-01-27:07:54:45:INFO] Sniff delimiter as ','\u001b[0m\n",
      "\u001b[34m[2022-01-27:07:54:45:INFO] Determined delimiter of CSV input is ','\u001b[0m\n",
      "\u001b[35m[2022-01-27:07:54:45:INFO] Sniff delimiter as ','\u001b[0m\n",
      "\u001b[35m[2022-01-27:07:54:45:INFO] Determined delimiter of CSV input is ','\u001b[0m\n",
      "\u001b[34m[2022-01-27:07:54:48:INFO] Sniff delimiter as ','\u001b[0m\n",
      "\u001b[34m[2022-01-27:07:54:48:INFO] Determined delimiter of CSV input is ','\u001b[0m\n",
      "\u001b[34m[2022-01-27:07:54:48:INFO] Sniff delimiter as ','\u001b[0m\n",
      "\u001b[34m[2022-01-27:07:54:48:INFO] Determined delimiter of CSV input is ','\u001b[0m\n",
      "\u001b[34m[2022-01-27:07:54:48:INFO] Sniff delimiter as ','\u001b[0m\n",
      "\u001b[34m[2022-01-27:07:54:48:INFO] Determined delimiter of CSV input is ','\u001b[0m\n",
      "\u001b[34m[2022-01-27:07:54:48:INFO] Sniff delimiter as ','\u001b[0m\n",
      "\u001b[34m[2022-01-27:07:54:48:INFO] Determined delimiter of CSV input is ','\u001b[0m\n",
      "\u001b[35m[2022-01-27:07:54:48:INFO] Sniff delimiter as ','\u001b[0m\n",
      "\u001b[35m[2022-01-27:07:54:48:INFO] Determined delimiter of CSV input is ','\u001b[0m\n",
      "\u001b[35m[2022-01-27:07:54:48:INFO] Sniff delimiter as ','\u001b[0m\n",
      "\u001b[35m[2022-01-27:07:54:48:INFO] Determined delimiter of CSV input is ','\u001b[0m\n",
      "\u001b[35m[2022-01-27:07:54:48:INFO] Sniff delimiter as ','\u001b[0m\n",
      "\u001b[35m[2022-01-27:07:54:48:INFO] Determined delimiter of CSV input is ','\u001b[0m\n",
      "\u001b[35m[2022-01-27:07:54:48:INFO] Sniff delimiter as ','\u001b[0m\n",
      "\u001b[35m[2022-01-27:07:54:48:INFO] Determined delimiter of CSV input is ','\u001b[0m\n",
      "\n"
     ]
    }
   ],
   "source": [
    "xgb_transformer.wait()"
   ]
  },
  {
   "cell_type": "markdown",
   "metadata": {},
   "source": [
    "Now the transform job has executed and the result, the estimated sentiment of each review, has been saved on S3. Since we would rather work on this file locally we can perform a bit of notebook magic to copy the file to the `data_dir`."
   ]
  },
  {
   "cell_type": "code",
   "execution_count": 28,
   "metadata": {},
   "outputs": [
    {
     "name": "stdout",
     "output_type": "stream",
     "text": [
      "Completed 256.0 KiB/472.6 KiB (2.5 MiB/s) with 1 file(s) remaining\r",
      "Completed 472.6 KiB/472.6 KiB (4.4 MiB/s) with 1 file(s) remaining\r",
      "download: s3://sagemaker-us-east-1-801008216402/xgboost-2022-01-27-07-48-51-779/test.csv.out to ../data/sentiment_web_app/test.csv.out\r\n"
     ]
    }
   ],
   "source": [
    "!aws s3 cp --recursive $xgb_transformer.output_path $data_dir"
   ]
  },
  {
   "cell_type": "markdown",
   "metadata": {},
   "source": [
    "The last step is now to read in the output from our model, convert the output to something a little more usable, in this case we want the sentiment to be either `1` (positive) or `0` (negative), and then compare to the ground truth labels."
   ]
  },
  {
   "cell_type": "code",
   "execution_count": 29,
   "metadata": {},
   "outputs": [],
   "source": [
    "predictions = pd.read_csv(os.path.join(data_dir, 'test.csv.out'), header=None)\n",
    "predictions = [round(num) for num in predictions.squeeze().values]"
   ]
  },
  {
   "cell_type": "code",
   "execution_count": 30,
   "metadata": {},
   "outputs": [
    {
     "data": {
      "text/plain": [
       "0.84932"
      ]
     },
     "execution_count": 30,
     "metadata": {},
     "output_type": "execute_result"
    }
   ],
   "source": [
    "from sklearn.metrics import accuracy_score\n",
    "accuracy_score(test_y, predictions)"
   ]
  },
  {
   "cell_type": "markdown",
   "metadata": {},
   "source": [
    "## Step 6: Deploying the model\n",
    "\n",
    "Once we construct and fit our model, SageMaker stores the resulting model artifacts and we can use those to deploy an endpoint (inference code). To see this, look in the SageMaker console and you should see that a model has been created along with a link to the S3 location where the model artifacts have been stored.\n",
    "\n",
    "Deploying an endpoint is a lot like training the model with a few important differences. The first is that a deployed model doesn't change the model artifacts, so as you send it various testing instances the model won't change. Another difference is that since we aren't performing a fixed computation, as we were in the training step or while performing a batch transform, the compute instance that gets started stays running until we tell it to stop. This is important to note as if we forget and leave it running we will be charged the entire time.\n",
    "\n",
    "In other words **If you are no longer using a deployed endpoint, shut it down!**"
   ]
  },
  {
   "cell_type": "code",
   "execution_count": 31,
   "metadata": {},
   "outputs": [
    {
     "name": "stderr",
     "output_type": "stream",
     "text": [
      "Parameter image will be renamed to image_uri in SageMaker Python SDK v2.\n",
      "Using already existing model: xgboost-2022-01-27-07-37-59-589\n"
     ]
    },
    {
     "name": "stdout",
     "output_type": "stream",
     "text": [
      "----------!"
     ]
    }
   ],
   "source": [
    "xgb_predictor = xgb.deploy(initial_instance_count = 1, instance_type = 'ml.m4.xlarge')"
   ]
  },
  {
   "cell_type": "markdown",
   "metadata": {},
   "source": [
    "### Testing the model (again)\n",
    "\n",
    "Now that we have deployed our endpoint, we can send the testing data to it and get back the inference results. We already did this earlier using the batch transform functionality of SageMaker, however, we will test our model again using the newly deployed endpoint so that we can make sure that it works properly and to get a bit of a feel for how the endpoint works.\n",
    "\n",
    "When using the created endpoint it is important to know that we are limited in the amount of information we can send in each call so we need to break the testing data up into chunks and then send each chunk. Also, we need to serialize our data before we send it to the endpoint to ensure that our data is transmitted properly. Fortunately, SageMaker can do the serialization part for us provided we tell it the format of our data."
   ]
  },
  {
   "cell_type": "code",
   "execution_count": 32,
   "metadata": {},
   "outputs": [],
   "source": [
    "from sagemaker.predictor import csv_serializer\n",
    "\n",
    "# We need to tell the endpoint what format the data we are sending is in so that SageMaker can perform the serialization.\n",
    "xgb_predictor.content_type = 'text/csv'\n",
    "xgb_predictor.serializer = csv_serializer"
   ]
  },
  {
   "cell_type": "code",
   "execution_count": 33,
   "metadata": {},
   "outputs": [],
   "source": [
    "# We split the data into chunks and send each chunk seperately, accumulating the results.\n",
    "\n",
    "def predict(data, rows=512):\n",
    "    split_array = np.array_split(data, int(data.shape[0] / float(rows) + 1))\n",
    "    predictions = ''\n",
    "    for array in split_array:\n",
    "        predictions = ','.join([predictions, xgb_predictor.predict(array).decode('utf-8')])\n",
    "    \n",
    "    return np.fromstring(predictions[1:], sep=',')"
   ]
  },
  {
   "cell_type": "code",
   "execution_count": 34,
   "metadata": {},
   "outputs": [],
   "source": [
    "test_X = pd.read_csv(os.path.join(data_dir, 'test.csv'), header=None).values\n",
    "\n",
    "predictions = predict(test_X)\n",
    "predictions = [round(num) for num in predictions]"
   ]
  },
  {
   "cell_type": "markdown",
   "metadata": {},
   "source": [
    "Lastly, we check to see what the accuracy of our model is."
   ]
  },
  {
   "cell_type": "code",
   "execution_count": 35,
   "metadata": {},
   "outputs": [
    {
     "data": {
      "text/plain": [
       "0.84932"
      ]
     },
     "execution_count": 35,
     "metadata": {},
     "output_type": "execute_result"
    }
   ],
   "source": [
    "from sklearn.metrics import accuracy_score\n",
    "accuracy_score(test_y, predictions)"
   ]
  },
  {
   "cell_type": "markdown",
   "metadata": {},
   "source": [
    "And the results here should agree with the model testing that we did earlier using the batch transform job.\n",
    "\n",
    "### Cleaning up\n",
    "\n",
    "Now that we've determined that deploying our model works as expected, we are going to shut it down. Remember that the longer the endpoint is left running, the greater the cost and since we have a bit more work to do before we are able to use our endpoint with our simple web app, we should shut everything down."
   ]
  },
  {
   "cell_type": "code",
   "execution_count": null,
   "metadata": {},
   "outputs": [],
   "source": [
    "xgb_predictor.delete_endpoint()"
   ]
  },
  {
   "cell_type": "markdown",
   "metadata": {},
   "source": [
    "## Step 7: Putting our model to work\n",
    "\n",
    "As we've mentioned a few times now, our goal is to have our model deployed and then access it using a very simple web app. The intent is for this web app to take some user submitted data (a review), send it off to our endpoint (the model) and then display the result.\n",
    "\n",
    "However, there is a small catch. Currently the only way we can access the endpoint to send it data is using the SageMaker API. We can, if we wish, expose the actual URL that our model's endpoint is receiving data from, however, if we just send it data ourselves we will not get anything in return. This is because the endpoint created by SageMaker requires the entity accessing it have the correct permissions. So, we would need to somehow authenticate our web app with AWS.\n",
    "\n",
    "Having a website that authenticates to AWS seems a bit beyond the scope of this lesson so we will opt for an alternative approach. Namely, we will create a new endpoint which does not require authentication and which acts as a proxy for the SageMaker endpoint.\n",
    "\n",
    "As an additional constraint, we will try to avoid doing any data processing in the web app itself. Remember that when we constructed and tested our model we started with a movie review, then we simplified it by removing any html formatting and punctuation, then we constructed a bag of words embedding and the resulting vector is what we sent to our model. All of this needs to be done to our user input as well.\n",
    "\n",
    "Fortunately we can do all of this data processing in the backend, using Amazon's Lambda service.\n",
    "\n",
    "<img src=\"Web App Diagram.svg\">\n",
    "\n",
    "The diagram above gives an overview of how the various services will work together. On the far right is the model which we trained above and which will be deployed using SageMaker. On the far left is our web app that collects a user's movie review, sends it off and expects a positive or negative sentiment in return.\n",
    "\n",
    "In the middle is where some of the magic happens. We will construct a Lambda function, which you can think of as a straightforward Python function that can be executed whenever a specified event occurs. This Python function will do the data processing we need to perform on a user submitted review. In addition, we will give this function permission to send and recieve data from a SageMaker endpoint.\n",
    "\n",
    "Lastly, the method we will use to execute the Lambda function is a new endpoint that we will create using API Gateway. This endpoint will be a url that listens for data to be sent to it. Once it gets some data it will pass that data on to the Lambda function and then return whatever the Lambda function returns. Essentially it will act as an interface that lets our web app communicate with the Lambda function.\n",
    "\n",
    "### Processing a single review\n",
    "\n",
    "For now, suppose we are given a movie review by our user in the form of a string, like so:"
   ]
  },
  {
   "cell_type": "code",
   "execution_count": 36,
   "metadata": {},
   "outputs": [],
   "source": [
    "test_review = \"Nothing but a disgusting materialistic pageant of glistening abed remote control greed zombies, totally devoid of any heart or heat. A romantic comedy that has zero romantic chemestry and zero laughs!\""
   ]
  },
  {
   "cell_type": "markdown",
   "metadata": {},
   "source": [
    "How do we go from this string to the bag of words feature vector that is expected by our model?\n",
    "\n",
    "If we recall at the beginning of this notebook, the first step is to remove any unnecessary characters using the `review_to_words` method. Remember that we intentionally did this in a very simplistic way. This is because we are going to have to copy this method to our (eventual) Lambda function (we will go into more detail later) and this means it needs to be rather simplistic."
   ]
  },
  {
   "cell_type": "code",
   "execution_count": 37,
   "metadata": {},
   "outputs": [
    {
     "name": "stdout",
     "output_type": "stream",
     "text": [
      "nothing but a disgusting materialistic pageant of glistening abed remote control greed zombies totally devoid of any heart or heat a romantic comedy that has zero romantic chemestry and zero laughs\n"
     ]
    }
   ],
   "source": [
    "test_words = review_to_words(test_review)\n",
    "print(test_words)"
   ]
  },
  {
   "cell_type": "markdown",
   "metadata": {},
   "source": [
    "Next, we need to construct a bag of words embedding of the `test_words` string. To do this, remember that a bag of words embedding uses a `vocabulary` consisting of the most frequently appearing words in a set of documents. Then, for each word in the vocabulary we record the number of times that word appears in `test_words`. We constructed the `vocabulary` earlier using the training set for our problem so encoding `test_words` is relatively straightforward."
   ]
  },
  {
   "cell_type": "code",
   "execution_count": 38,
   "metadata": {},
   "outputs": [],
   "source": [
    "def bow_encoding(words, vocabulary):\n",
    "    bow = [0] * len(vocabulary) # Start by setting the count for each word in the vocabulary to zero.\n",
    "    for word in words.split():  # For each word in the string\n",
    "        if word in vocabulary:  # If the word is one that occurs in the vocabulary, increase its count.\n",
    "            bow[vocabulary[word]] += 1\n",
    "    return bow"
   ]
  },
  {
   "cell_type": "code",
   "execution_count": 39,
   "metadata": {},
   "outputs": [
    {
     "name": "stdout",
     "output_type": "stream",
     "text": [
      "[0, 0, 0, 0, 0, 0, 0, 0, 0, 0, 0, 0, 0, 0, 0, 0, 0, 0, 0, 0, 0, 0, 0, 0, 0, 0, 0, 0, 0, 0, 0, 0, 0, 0, 0, 0, 0, 0, 0, 0, 0, 0, 0, 0, 0, 0, 0, 0, 0, 0, 0, 0, 0, 0, 0, 0, 0, 0, 0, 0, 0, 0, 0, 0, 0, 0, 0, 0, 0, 0, 0, 0, 0, 0, 0, 0, 0, 0, 0, 0, 0, 0, 0, 0, 0, 0, 0, 0, 0, 0, 0, 0, 0, 0, 0, 0, 0, 0, 0, 0, 0, 0, 0, 0, 0, 0, 0, 0, 0, 0, 0, 0, 0, 0, 0, 0, 0, 0, 0, 0, 0, 0, 0, 0, 0, 0, 0, 0, 0, 0, 0, 0, 0, 0, 0, 0, 0, 0, 0, 0, 0, 0, 0, 0, 0, 0, 0, 0, 0, 0, 0, 0, 0, 0, 0, 0, 0, 0, 0, 0, 0, 0, 0, 0, 0, 0, 0, 0, 0, 0, 0, 0, 0, 0, 0, 0, 0, 0, 0, 0, 0, 0, 0, 0, 0, 0, 0, 0, 0, 0, 0, 0, 0, 0, 0, 0, 0, 0, 0, 0, 0, 0, 0, 0, 0, 0, 0, 0, 0, 0, 0, 0, 0, 0, 0, 0, 0, 0, 0, 0, 0, 0, 0, 0, 0, 0, 1, 0, 0, 0, 0, 0, 0, 0, 0, 0, 0, 0, 0, 0, 0, 0, 0, 0, 0, 0, 0, 0, 0, 0, 0, 0, 0, 0, 0, 0, 1, 0, 0, 0, 0, 0, 0, 0, 0, 0, 0, 0, 0, 0, 0, 0, 0, 0, 0, 0, 0, 0, 0, 0, 0, 0, 0, 0, 0, 0, 0, 0, 0, 0, 0, 0, 0, 0, 0, 0, 0, 0, 0, 0, 0, 0, 0, 0, 0, 0, 0, 0, 0, 0, 0, 0, 0, 0, 0, 0, 0, 0, 0, 0, 0, 0, 0, 0, 0, 0, 0, 0, 0, 0, 0, 0, 0, 0, 0, 0, 0, 0, 0, 0, 0, 0, 0, 0, 0, 0, 0, 0, 0, 0, 0, 0, 0, 0, 0, 0, 0, 0, 0, 0, 0, 0, 0, 0, 0, 0, 0, 0, 0, 0, 0, 0, 0, 0, 0, 0, 0, 0, 0, 0, 0, 0, 0, 0, 0, 0, 0, 0, 0, 0, 0, 0, 0, 0, 0, 0, 0, 0, 0, 0, 0, 0, 0, 0, 0, 0, 0, 0, 0, 0, 0, 0, 0, 0, 0, 0, 0, 0, 0, 0, 0, 0, 0, 0, 0, 0, 0, 0, 0, 0, 0, 0, 0, 0, 0, 0, 0, 0, 0, 0, 0, 0, 0, 0, 0, 0, 0, 0, 0, 0, 0, 0, 0, 0, 0, 0, 0, 0, 0, 0, 0, 0, 0, 0, 0, 0, 0, 0, 0, 0, 0, 0, 0, 0, 0, 0, 0, 0, 0, 0, 0, 0, 0, 0, 0, 0, 0, 0, 0, 0, 0, 0, 0, 0, 0, 0, 0, 0, 0, 0, 0, 0, 0, 0, 0, 0, 0, 0, 0, 0, 0, 0, 0, 0, 0, 0, 0, 0, 0, 0, 0, 0, 0, 0, 0, 0, 0, 0, 0, 0, 0, 0, 0, 0, 0, 0, 0, 0, 0, 0, 0, 0, 0, 0, 0, 0, 0, 0, 0, 0, 0, 0, 0, 0, 0, 0, 0, 0, 0, 0, 0, 0, 0, 0, 0, 0, 0, 0, 0, 0, 0, 0, 0, 0, 0, 0, 0, 0, 0, 0, 0, 0, 0, 0, 0, 0, 0, 0, 0, 0, 0, 0, 0, 0, 0, 0, 0, 0, 0, 0, 0, 0, 0, 0, 0, 0, 0, 0, 0, 0, 0, 0, 0, 0, 0, 0, 0, 0, 0, 0, 0, 0, 0, 0, 0, 0, 0, 0, 0, 0, 0, 0, 0, 0, 0, 0, 1, 0, 0, 0, 0, 0, 0, 0, 0, 0, 0, 0, 0, 0, 0, 0, 0, 0, 0, 0, 0, 0, 0, 0, 0, 0, 0, 0, 0, 0, 0, 0, 0, 0, 0, 0, 0, 0, 0, 0, 0, 0, 0, 0, 0, 0, 0, 0, 0, 0, 0, 0, 0, 0, 0, 0, 0, 0, 0, 0, 0, 0, 0, 0, 0, 0, 0, 0, 0, 0, 0, 0, 0, 0, 0, 0, 0, 0, 0, 0, 0, 0, 0, 0, 0, 0, 0, 0, 0, 0, 0, 0, 0, 0, 0, 0, 0, 0, 0, 0, 0, 0, 0, 0, 0, 0, 0, 0, 0, 0, 0, 0, 0, 0, 0, 0, 0, 0, 0, 0, 0, 0, 0, 0, 0, 0, 0, 0, 0, 0, 0, 0, 0, 0, 0, 0, 0, 0, 0, 0, 0, 0, 0, 0, 0, 0, 0, 0, 0, 0, 0, 0, 0, 0, 0, 0, 0, 0, 0, 0, 0, 0, 0, 0, 0, 0, 0, 0, 0, 0, 0, 0, 0, 0, 0, 0, 0, 0, 0, 0, 0, 0, 0, 0, 0, 0, 0, 0, 0, 0, 0, 0, 0, 0, 0, 0, 0, 0, 0, 0, 0, 0, 0, 0, 0, 0, 0, 0, 0, 0, 0, 0, 0, 0, 0, 0, 0, 0, 0, 0, 0, 0, 0, 0, 0, 0, 0, 0, 0, 0, 0, 0, 0, 0, 0, 0, 0, 0, 0, 0, 0, 0, 0, 0, 0, 0, 0, 0, 0, 0, 0, 0, 0, 0, 1, 0, 0, 0, 0, 0, 0, 0, 0, 0, 0, 0, 0, 0, 0, 0, 0, 0, 0, 0, 0, 0, 0, 0, 0, 0, 0, 0, 0, 0, 0, 0, 0, 0, 0, 0, 0, 0, 0, 0, 0, 0, 0, 0, 0, 0, 0, 0, 0, 0, 0, 0, 0, 0, 0, 0, 0, 0, 0, 0, 0, 0, 0, 0, 0, 0, 0, 0, 0, 0, 0, 0, 0, 0, 0, 0, 0, 0, 0, 0, 0, 0, 0, 0, 0, 0, 0, 1, 0, 0, 0, 0, 0, 0, 0, 0, 0, 0, 0, 0, 0, 0, 0, 0, 0, 0, 0, 0, 0, 0, 0, 0, 0, 0, 0, 0, 0, 0, 0, 0, 0, 0, 0, 0, 0, 0, 0, 0, 0, 0, 0, 0, 0, 0, 0, 0, 0, 0, 0, 0, 0, 0, 0, 0, 0, 0, 0, 0, 0, 0, 0, 0, 0, 0, 0, 0, 0, 0, 0, 0, 0, 0, 0, 0, 0, 0, 0, 0, 0, 0, 0, 0, 0, 0, 0, 0, 0, 0, 0, 0, 0, 0, 0, 0, 0, 0, 0, 0, 0, 0, 0, 0, 0, 0, 0, 0, 0, 0, 0, 0, 0, 0, 0, 0, 0, 0, 0, 0, 0, 0, 0, 0, 0, 0, 0, 0, 0, 0, 0, 0, 0, 0, 0, 0, 0, 0, 0, 0, 0, 0, 0, 0, 0, 0, 0, 0, 0, 0, 0, 0, 0, 0, 0, 0, 0, 0, 0, 0, 0, 0, 0, 0, 0, 0, 0, 0, 0, 0, 0, 0, 0, 0, 0, 0, 0, 0, 0, 0, 0, 0, 0, 0, 0, 0, 0, 0, 0, 0, 0, 0, 0, 0, 0, 0, 0, 0, 0, 0, 0, 0, 0, 0, 0, 0, 0, 0, 0, 0, 0, 0, 0, 0, 0, 0, 0, 0, 0, 0, 0, 0, 0, 0, 0, 0, 0, 0, 0, 0, 0, 0, 0, 0, 0, 0, 0, 0, 0, 0, 0, 0, 0, 0, 0, 0, 0, 0, 0, 0, 0, 0, 1, 0, 0, 0, 0, 0, 0, 0, 0, 0, 0, 0, 0, 0, 0, 0, 0, 0, 0, 0, 0, 0, 0, 0, 0, 0, 0, 0, 0, 0, 0, 0, 0, 0, 0, 0, 0, 0, 0, 0, 0, 0, 0, 0, 0, 0, 0, 0, 0, 0, 0, 0, 0, 0, 0, 0, 1, 0, 0, 0, 0, 0, 0, 0, 0, 0, 0, 0, 0, 0, 0, 0, 0, 0, 0, 0, 0, 0, 0, 0, 0, 0, 0, 0, 0, 0, 0, 0, 0, 0, 0, 0, 0, 0, 0, 0, 0, 0, 0, 0, 0, 0, 0, 0, 0, 0, 0, 0, 0, 0, 0, 0, 0, 0, 0, 0, 0, 0, 0, 0, 0, 0, 0, 0, 0, 0, 0, 0, 0, 0, 0, 0, 0, 0, 0, 0, 0, 0, 0, 0, 0, 0, 0, 0, 0, 0, 0, 0, 0, 0, 0, 0, 0, 0, 0, 0, 0, 0, 0, 0, 0, 0, 0, 0, 0, 0, 0, 0, 0, 0, 0, 0, 0, 0, 0, 0, 0, 0, 0, 0, 0, 0, 0, 0, 0, 0, 0, 0, 0, 0, 0, 0, 0, 0, 0, 0, 0, 0, 0, 0, 0, 0, 0, 0, 0, 0, 0, 0, 0, 0, 0, 0, 0, 0, 0, 0, 0, 0, 0, 0, 0, 0, 0, 0, 0, 0, 0, 0, 0, 0, 0, 0, 0, 0, 0, 0, 0, 0, 0, 0, 0, 0, 0, 0, 0, 0, 0, 0, 0, 0, 0, 0, 0, 0, 0, 0, 0, 0, 0, 0, 0, 0, 0, 0, 0, 0, 0, 0, 0, 0, 0, 0, 0, 0, 0, 0, 0, 0, 0, 0, 0, 0, 0, 0, 0, 0, 0, 0, 0, 0, 0, 0, 0, 0, 0, 0, 0, 0, 0, 0, 0, 0, 0, 0, 0, 0, 0, 0, 0, 0, 0, 0, 0, 0, 0, 0, 0, 0, 0, 0, 0, 0, 0, 0, 0, 0, 0, 0, 0, 0, 0, 0, 0, 0, 0, 0, 0, 0, 0, 0, 0, 0, 0, 0, 0, 0, 0, 0, 0, 0, 0, 0, 0, 0, 0, 0, 0, 0, 0, 0, 0, 0, 0, 0, 0, 0, 0, 0, 0, 0, 0, 0, 0, 0, 0, 0, 0, 0, 0, 0, 0, 0, 0, 0, 0, 0, 0, 0, 0, 0, 0, 0, 0, 0, 0, 0, 0, 0, 0, 0, 0, 0, 0, 0, 0, 0, 0, 0, 0, 0, 0, 0, 0, 0, 0, 0, 0, 0, 0, 0, 0, 0, 0, 0, 0, 0, 0, 0, 0, 0, 0, 0, 0, 0, 0, 0, 0, 0, 0, 0, 0, 0, 0, 0, 0, 0, 0, 0, 0, 0, 0, 0, 0, 0, 0, 0, 0, 0, 0, 0, 0, 0, 0, 0, 0, 0, 0, 0, 0, 0, 0, 0, 0, 0, 0, 0, 0, 0, 0, 0, 0, 0, 0, 0, 0, 0, 0, 0, 0, 0, 0, 0, 0, 0, 0, 0, 0, 0, 0, 0, 0, 0, 0, 0, 0, 0, 0, 0, 0, 0, 0, 0, 0, 0, 0, 0, 0, 0, 0, 0, 0, 0, 0, 0, 0, 0, 0, 0, 0, 0, 0, 0, 0, 0, 0, 0, 0, 0, 0, 0, 0, 0, 0, 0, 0, 0, 0, 0, 0, 0, 0, 0, 0, 0, 0, 0, 0, 0, 0, 0, 0, 0, 0, 0, 0, 0, 0, 0, 0, 0, 0, 0, 0, 0, 0, 0, 0, 0, 0, 0, 0, 0, 0, 0, 0, 0, 0, 0, 0, 0, 0, 0, 0, 0, 0, 0, 0, 0, 0, 0, 0, 0, 0, 0, 0, 0, 0, 0, 0, 0, 0, 0, 0, 0, 0, 0, 0, 0, 0, 0, 0, 0, 0, 0, 0, 0, 0, 0, 0, 0, 0, 0, 0, 0, 0, 0, 0, 0, 0, 0, 0, 0, 0, 0, 0, 0, 0, 0, 0, 0, 0, 0, 0, 0, 0, 0, 0, 0, 0, 0, 0, 0, 0, 0, 0, 0, 0, 0, 0, 0, 0, 0, 0, 0, 0, 0, 0, 0, 0, 0, 0, 0, 0, 0, 0, 0, 0, 0, 0, 0, 0, 0, 0, 0, 0, 0, 0, 0, 0, 0, 0, 0, 0, 0, 0, 0, 0, 0, 0, 0, 0, 0, 0, 0, 0, 0, 0, 0, 0, 0, 0, 0, 0, 0, 0, 0, 0, 0, 0, 0, 0, 0, 0, 0, 0, 0, 0, 0, 1, 0, 0, 0, 0, 0, 0, 0, 0, 0, 0, 0, 0, 0, 0, 0, 0, 0, 0, 0, 0, 0, 0, 0, 0, 0, 0, 0, 0, 0, 0, 0, 0, 0, 0, 0, 0, 0, 0, 0, 0, 0, 0, 0, 0, 0, 0, 0, 0, 0, 0, 0, 0, 0, 0, 0, 0, 0, 0, 0, 0, 0, 0, 0, 0, 0, 0, 0, 0, 0, 0, 0, 0, 0, 0, 1, 0, 0, 0, 0, 0, 0, 0, 0, 0, 0, 0, 0, 0, 0, 0, 0, 0, 0, 0, 0, 1, 0, 0, 1, 0, 0, 0, 0, 0, 0, 0, 0, 0, 0, 0, 0, 0, 0, 0, 0, 0, 0, 0, 0, 0, 0, 0, 0, 0, 0, 0, 0, 0, 0, 0, 0, 0, 0, 0, 0, 0, 0, 0, 0, 0, 0, 0, 0, 0, 0, 0, 0, 0, 0, 0, 0, 0, 0, 0, 0, 0, 0, 0, 0, 0, 0, 0, 0, 0, 0, 0, 0, 0, 0, 0, 0, 0, 0, 0, 0, 0, 0, 0, 0, 0, 0, 0, 0, 0, 0, 0, 0, 0, 0, 0, 0, 0, 0, 0, 0, 0, 0, 0, 0, 0, 0, 0, 0, 0, 0, 0, 0, 0, 0, 0, 0, 0, 0, 0, 0, 0, 0, 0, 0, 0, 0, 0, 0, 0, 0, 0, 0, 0, 0, 0, 0, 0, 0, 0, 0, 0, 0, 0, 0, 0, 0, 0, 0, 0, 0, 0, 0, 0, 0, 0, 0, 0, 0, 0, 0, 0, 0, 0, 0, 0, 0, 0, 0, 0, 0, 0, 0, 0, 0, 0, 0, 0, 0, 0, 0, 0, 0, 0, 0, 0, 0, 0, 0, 0, 0, 0, 0, 0, 0, 0, 0, 0, 0, 0, 0, 0, 0, 0, 0, 0, 0, 0, 0, 0, 0, 0, 0, 0, 0, 0, 0, 0, 0, 0, 0, 0, 0, 0, 0, 0, 0, 0, 0, 0, 0, 0, 0, 0, 0, 0, 0, 0, 0, 0, 0, 0, 0, 0, 0, 0, 0, 0, 0, 0, 0, 0, 0, 0, 0, 0, 0, 0, 0, 0, 0, 0, 0, 0, 0, 0, 0, 0, 0, 0, 0, 0, 0, 0, 0, 0, 0, 0, 0, 0, 0, 0, 0, 0, 0, 0, 0, 0, 0, 0, 0, 0, 0, 0, 0, 0, 0, 0, 0, 0, 0, 0, 0, 0, 0, 0, 0, 0, 0, 0, 0, 0, 0, 0, 0, 0, 0, 0, 0, 0, 0, 0, 0, 0, 0, 0, 0, 0, 0, 0, 0, 0, 0, 0, 0, 0, 0, 0, 0, 0, 0, 0, 0, 0, 0, 0, 0, 0, 0, 0, 0, 0, 0, 0, 0, 0, 0, 0, 0, 0, 0, 0, 0, 0, 0, 0, 0, 0, 0, 0, 0, 0, 0, 0, 0, 0, 0, 0, 0, 0, 0, 0, 0, 0, 0, 0, 0, 0, 0, 0, 0, 0, 0, 0, 0, 0, 0, 0, 0, 0, 0, 0, 0, 0, 0, 0, 0, 0, 0, 0, 0, 0, 0, 0, 0, 0, 0, 0, 0, 0, 0, 0, 0, 0, 0, 0, 0, 0, 0, 0, 0, 0, 0, 0, 0, 0, 0, 0, 0, 0, 0, 0, 0, 0, 0, 0, 0, 0, 0, 0, 0, 0, 0, 0, 0, 0, 0, 0, 0, 0, 0, 0, 0, 0, 0, 0, 0, 0, 0, 0, 0, 1, 0, 0, 0, 0, 0, 0, 0, 0, 0, 0, 0, 0, 0, 0, 0, 0, 0, 0, 0, 0, 0, 0, 0, 0, 0, 0, 0, 0, 0, 0, 0, 0, 0, 0, 0, 0, 0, 0, 0, 0, 0, 0, 0, 0, 0, 0, 0, 0, 0, 0, 0, 0, 0, 0, 0, 0, 0, 0, 0, 0, 0, 0, 0, 0, 0, 0, 0, 0, 0, 0, 0, 0, 0, 0, 0, 0, 0, 0, 0, 0, 0, 0, 0, 0, 0, 0, 0, 0, 0, 0, 0, 0, 0, 0, 0, 0, 0, 0, 0, 0, 0, 0, 0, 0, 0, 0, 0, 0, 0, 0, 0, 0, 0, 0, 0, 0, 0, 0, 0, 0, 0, 0, 0, 0, 0, 0, 0, 0, 0, 0, 0, 0, 0, 0, 0, 0, 0, 0, 0, 0, 0, 0, 0, 0, 0, 0, 0, 0, 0, 0, 0, 0, 0, 0, 0, 0, 0, 0, 0, 0, 0, 0, 0, 0, 0, 0, 0, 0, 0, 0, 0, 0, 0, 0, 0, 0, 0, 0, 0, 0, 0, 0, 0, 0, 0, 0, 0, 0, 0, 0, 0, 0, 0, 0, 0, 0, 0, 0, 0, 0, 0, 0, 0, 0, 0, 0, 0, 0, 0, 0, 0, 0, 0, 0, 0, 0, 0, 0, 0, 0, 0, 0, 0, 0, 0, 0, 0, 0, 0, 0, 0, 0, 0, 0, 0, 0, 0, 0, 0, 0, 0, 0, 0, 0, 0, 0, 0, 0, 0, 0, 0, 0, 0, 0, 0, 0, 0, 0, 0, 0, 0, 0, 0, 0, 0, 0, 0, 0, 0, 0, 0, 0, 0, 0, 0, 0, 0, 0, 0, 0, 0, 0, 0, 0, 0, 0, 0, 0, 0, 0, 0, 0, 0, 0, 0, 0, 0, 0, 0, 0, 0, 0, 0, 0, 0, 0, 0, 0, 0, 0, 0, 0, 0, 0, 0, 0, 0, 0, 0, 0, 0, 0, 0, 0, 0, 0, 0, 0, 0, 0, 0, 0, 0, 0, 0, 0, 0, 0, 0, 0, 0, 0, 0, 0, 0, 0, 0, 0, 0, 0, 0, 0, 0, 0, 0, 0, 0, 0, 0, 0, 0, 0, 0, 0, 0, 0, 0, 0, 0, 0, 0, 0, 0, 0, 0, 0, 0, 0, 0, 0, 0, 0, 0, 0, 0, 0, 0, 0, 0, 0, 0, 0, 0, 0, 0, 0, 0, 0, 0, 0, 0, 0, 0, 0, 0, 0, 0, 0, 0, 0, 0, 0, 0, 0, 0, 0, 0, 0, 0, 0, 0, 0, 0, 0, 0, 0, 0, 0, 0, 0, 0, 0, 0, 0, 0, 0, 0, 0, 0, 0, 0, 0, 0, 0, 0, 0, 0, 0, 0, 0, 0, 0, 0, 0, 0, 0, 0, 0, 0, 0, 0, 0, 0, 0, 0, 0, 0, 0, 0, 0, 0, 0, 0, 0, 0, 0, 0, 0, 0, 0, 0, 0, 0, 0, 0, 0, 0, 0, 0, 0, 0, 0, 0, 0, 0, 0, 0, 0, 0, 0, 0, 0, 0, 0, 0, 0, 0, 0, 0, 0, 0, 0, 1, 0, 0, 0, 0, 0, 0, 0, 0, 0, 0, 0, 0, 0, 0, 0, 0, 0, 0, 0, 0, 0, 0, 0, 0, 0, 0, 0, 0, 0, 0, 0, 0, 0, 0, 0, 2, 0, 0, 0, 0, 0, 0, 0, 0, 0, 0, 0, 0, 0, 0, 0, 0, 0, 0, 0, 0, 0, 0, 0, 0, 0, 0, 0, 0, 0, 0, 0, 0, 0, 0, 0, 0, 0, 0, 0, 0, 1, 0, 0, 0, 0, 0, 0, 0, 0, 0, 0, 0, 0, 0, 0, 0, 0, 0, 0, 0, 0, 0, 0, 0, 0, 0, 0, 0, 0, 0, 0, 0, 0, 0, 0, 0, 0, 0, 0, 0, 0, 0, 0, 0, 0, 0, 0, 0, 0, 0, 0, 0, 0, 0, 0, 0, 0, 0, 0, 0, 0, 0, 0, 0, 0, 0, 0, 0, 0, 0, 0, 0, 0, 0, 0, 0, 0, 0, 0, 0, 0, 0, 0, 0, 0, 0, 0, 0, 0, 0, 0, 0, 0, 0, 0, 0, 0, 0, 0, 0, 0, 0, 0, 0, 0, 0, 0, 0, 0, 0, 0, 0, 0, 0, 0, 0, 0, 0, 0, 0, 0, 0, 0, 0, 0, 0, 0, 0, 0, 0, 0, 0, 0, 0, 0, 0, 0, 0, 0, 0, 0, 0, 0, 0, 0, 0, 0, 0, 0, 0, 0, 0, 0, 0, 0, 0, 0, 0, 0, 0, 0, 0, 0, 0, 0, 0, 0, 0, 0, 0, 0, 0, 0, 0, 0, 0, 0, 0, 0, 0, 0, 0, 0, 0, 0, 0, 0, 0, 0, 0, 0, 0, 0, 0, 0, 0, 0, 0, 0, 0, 0, 0, 0, 0, 0, 0, 0, 0, 0, 0, 0, 0, 0, 0, 0, 0, 0, 0, 0, 0, 0, 0, 0, 0, 0, 0, 0, 0, 0, 0, 0, 0, 0, 0, 0, 0, 0, 0, 0, 0, 0, 0, 0, 0, 0, 0, 0, 0, 0, 0, 0, 0, 0, 0, 0, 0, 0, 0, 0, 0, 0, 0, 0, 0, 0, 0, 0, 0, 0, 0, 0, 0, 0, 0, 0, 0, 0, 0, 0, 0, 0, 0, 0, 0, 0, 0, 0, 0, 0, 0, 0, 0, 0, 0, 0, 0, 0, 0, 0, 0, 0, 0, 0, 0, 0, 0, 0, 0, 0, 0, 0, 0, 0, 0, 0, 0, 0, 0, 0, 0, 0, 0, 0, 0, 0, 0, 0, 0, 0, 0, 0, 0, 0, 0, 0, 0, 0, 0, 0, 0, 0, 0, 0, 0, 0, 0, 0, 0, 0, 0, 0, 0, 0, 0, 0, 0, 0, 0, 0, 0, 0, 0, 0, 0, 0, 0, 0, 0, 0, 0, 0, 0, 0, 0, 0, 0, 0, 0, 0, 0, 0, 0, 0, 0, 0, 0, 0, 0, 0, 0, 0, 0, 0, 0, 0, 0, 0, 0, 0, 0, 0, 0, 0, 0, 0, 0, 0, 0, 0, 0, 0, 0, 0, 0, 0, 0, 0, 0, 0, 0, 0, 0, 0, 0, 0, 0, 0, 0, 0, 0, 0, 0, 0, 0, 0, 0, 0, 0, 0, 0, 0, 0, 0, 0, 0, 0, 0, 0, 0, 0, 0, 0, 0, 0, 0, 0, 0, 0, 0, 0, 0, 0, 0, 0, 0, 0, 0, 0, 0, 0, 0, 0, 0, 0, 0, 0, 0, 0, 0, 0, 0, 0, 0, 0, 0, 0, 0, 0, 0, 0, 0, 0, 0, 0, 0, 0, 0, 0, 1, 0, 0, 0, 0, 0, 0, 0, 0, 0, 0, 0, 0, 0, 0, 0, 0, 0, 0, 0, 0, 0, 0, 0, 0, 0, 0, 0, 0, 0, 0, 0, 0, 0, 0, 0, 0, 0, 0, 0, 0, 0, 0, 0, 0, 0, 0, 0, 0, 0, 0, 0, 0, 0, 0, 0, 0, 0, 0, 0, 0, 0, 0, 0, 0, 0, 0, 0, 0, 0, 0, 0, 0, 0, 0, 0, 0, 0, 0, 0, 0, 0, 0, 0, 0, 0, 0, 0, 0, 0, 0, 0, 0, 0, 0, 0, 0, 0, 0, 0, 0, 0, 0, 0, 0, 0, 0, 0, 0, 0, 0, 2, 0, 0, 0, 0, 0, 0, 0, 0, 0, 0, 0, 0, 0, 0, 0, 0, 0, 0, 0, 0, 0, 0, 0, 0, 0, 0, 0, 0, 0, 0, 0, 0, 0, 0, 0, 0, 0, 0, 0, 0, 0, 0, 0, 0, 0, 0, 0, 0, 0, 0, 0, 0, 0, 0, 0, 0, 0, 0, 0, 0, 0, 0, 0, 0, 0, 0, 0, 0, 0, 0, 0, 0, 0, 0, 0, 0, 0, 0, 0, 0, 0, 0, 0, 0, 0, 0, 0, 0, 0, 0, 0, 0, 0, 0, 0, 0, 0, 0, 0, 0, 0, 0, 0, 0, 0, 0, 0, 0, 0, 0, 0, 0, 0, 0, 0, 0, 0, 0, 0, 0, 0, 0, 0, 0, 0, 0, 0, 0, 0, 0, 0, 0, 0, 0, 0, 0, 0, 0, 0, 0, 0, 0, 0, 0, 0, 0, 0, 0, 0, 0, 0, 0, 0, 0, 0, 0, 0, 0, 0, 0, 0, 0, 0, 0, 0, 0, 0, 0, 0, 0, 0, 0, 0, 0, 0, 0, 0, 0, 0, 0, 0, 0, 0, 0, 0, 0, 0, 0, 0, 0, 0, 0, 0, 0, 0, 0, 0, 0, 0, 0, 0, 0, 0, 0, 0, 0, 0, 0, 0, 0, 0, 0, 0, 0, 0, 0, 0, 0, 0, 0, 0, 0, 0, 0, 0, 0, 0, 0, 0, 0, 0, 0, 0, 0, 0, 0, 0, 0, 0, 0, 0, 0, 0, 0, 0, 0, 0, 0, 0, 0, 0, 0, 0, 0, 0, 0, 0, 0, 0, 0, 0, 0, 0, 0, 0, 0, 0, 0, 0, 0, 0, 0, 0, 0, 0, 0, 0, 0, 0, 0, 0, 0, 0, 0, 0, 0, 0, 0, 0, 0, 0, 0, 0, 0, 0, 0, 0, 0, 0, 0, 0, 0, 0, 0, 0, 0, 0, 0, 0, 0, 0, 0, 0, 0, 0, 0, 0, 0, 0, 0, 0, 0, 0, 0, 0, 0, 0, 0, 0, 0, 0, 0, 0, 0, 0, 0, 0, 0, 0, 0, 0, 0, 0, 0, 0, 0, 0, 0, 0, 0, 0, 0, 0, 0, 0, 0, 0, 0, 0, 0, 0, 0, 0, 0, 0, 0, 0, 0, 0, 0, 0, 0, 0, 0, 0, 0, 0, 0, 0, 0, 0, 0, 0, 0, 0, 0, 0, 0, 0, 0, 0, 0, 0, 0, 0, 0, 0, 0, 0, 0, 0, 0, 0, 0, 0, 0, 0, 0, 0, 0, 0, 0, 0, 0, 0, 0, 0, 0, 0, 0, 0, 0, 0, 0, 0, 0, 0, 0, 0, 0, 0, 0, 0, 0, 0, 0, 0, 0, 0, 0, 0, 0, 0, 0, 0, 0, 0, 0, 0, 0, 0, 0, 0, 0, 0, 0, 0, 0, 0, 0, 0, 0, 0, 0, 0, 0, 0, 0, 0, 0, 0, 0, 0, 0, 0, 0, 0, 0, 0, 0, 0, 0, 0, 0, 0, 0, 0, 0, 0, 0, 0, 0, 0, 0, 0, 0, 0, 0, 0, 0, 0, 0, 0, 0, 0, 0, 0, 0, 0, 0, 0, 0, 0, 0, 0, 0, 0, 0, 0, 0, 0, 0, 0, 0, 0, 0, 0, 0, 0, 0, 0, 0, 0, 0, 0, 0, 0, 0, 0, 0, 0, 0, 0, 0, 0, 0, 0, 0, 0, 0, 0, 0, 0, 0, 0, 0, 0, 0, 0, 0, 0, 0, 0, 0, 0, 0, 0, 0, 0, 0, 0, 0, 0, 0, 0, 0, 0, 0, 0, 0, 0, 0, 0, 0, 0, 0, 0, 0, 0, 0, 0, 0, 0, 0, 0, 0, 0, 0, 0, 0, 0, 0, 0, 0, 0, 0, 0, 0, 0, 0, 0, 0, 0, 0, 0, 0, 0, 0, 0, 0, 0, 0, 0, 0, 0, 0, 0, 0, 0, 0, 0, 0, 0, 0, 0, 0, 0, 0, 0, 0, 0, 0, 0, 0, 0, 0, 0, 0, 0, 0, 0, 0, 0, 0, 0, 0, 0, 0, 0, 0, 0, 0, 0, 0, 0, 0, 0, 0, 0, 0, 0, 0, 0, 0, 0, 0, 0, 0, 0, 0, 0, 0, 0, 0, 0, 0, 0, 0, 0, 0, 1, 0, 0, 0, 0, 0, 0, 0, 0, 0, 0, 0, 0, 0, 0, 0, 0, 0, 0, 0, 0, 0, 0, 0, 0, 0, 0, 0, 0, 0, 0, 0, 0, 0, 0, 0, 0, 0, 0, 0, 0, 0, 0, 0, 0, 0, 0, 0, 0, 0, 0, 0, 0, 0, 0, 0, 0, 0, 0, 0, 0, 0, 0, 0, 0, 0, 0, 0, 0, 0, 0, 0, 0, 0, 0, 0, 0, 0, 0, 0, 0, 0, 0, 0, 0, 0, 0, 0, 0, 0, 0, 0, 0, 0, 0, 0, 0, 0, 0, 0, 0, 0, 0, 0, 0, 0, 0, 0, 1, 0, 0, 0, 0, 0, 0, 0, 0, 0, 0, 0, 0, 0, 0, 0, 0, 0, 0, 0, 0, 0, 0, 0, 0, 0, 0, 0, 0, 0, 0, 0, 0, 0, 0, 0, 0, 0, 0, 0, 0, 0, 0, 0, 0, 0, 0, 0, 0, 0, 0, 0, 0, 0, 0, 0, 0, 0, 0, 0, 0, 0, 0, 0, 0, 0, 0, 0, 0, 0, 0, 0, 0, 0, 0, 0, 0, 0, 0, 0, 0, 0, 0, 0, 0, 0, 0, 0, 0, 0, 0, 0, 0, 0, 0, 0, 0, 0, 0, 0, 0, 0, 0, 0, 0, 0, 0, 0, 0, 0, 0, 0, 0, 0, 0, 0, 0, 0, 0, 0, 0, 0, 0, 0, 0, 0, 0, 0, 0, 0, 0, 0, 0, 0, 0, 0, 0, 0, 0, 0, 0, 0, 0, 0, 0, 0, 0, 0, 0, 0, 0, 0, 0, 0, 0, 0, 0, 0, 0, 0, 0, 0, 0, 0, 0, 0, 0, 0, 0, 0, 0, 0, 0, 0, 0, 0, 0, 0, 0, 0, 0, 0, 0, 0, 0, 0, 0, 0, 0, 0, 0, 0, 0, 0, 0, 0, 0, 0, 0, 0, 0, 0, 0, 0, 0, 0, 0, 0, 0, 0, 0, 0, 0, 0, 0, 0, 0, 0, 0, 0, 0, 0, 0, 0, 0, 0, 0, 0, 0, 0, 0, 0, 0, 0, 0, 0, 0, 0, 0, 0, 0, 0, 0, 0, 0, 0, 0, 0, 0, 0, 0, 0, 0, 0, 0, 0, 0, 0, 0, 0, 0, 0, 0, 0, 0, 0, 0, 0, 0, 0, 0, 0, 0, 0, 0, 0, 0, 0, 0, 0, 0, 0, 0, 0, 0, 0, 0, 0, 0, 0, 0, 0, 0, 0, 0, 0, 0, 0, 0, 0, 0, 0, 0, 0, 0, 0, 0, 0, 0, 0, 0, 0, 0, 0, 0, 0, 0, 0, 0, 0, 0, 0, 0, 0, 0, 0, 0, 0, 0, 0, 0, 0, 0, 0, 0, 0, 0, 0, 0, 0, 0, 0, 0, 0, 0, 0, 0, 0, 0, 0, 0, 0, 0, 0, 0, 0, 0, 0, 0, 0, 0, 0, 0, 0, 0, 0, 0, 0, 0, 0, 0, 0, 0, 0, 0, 0, 0, 0, 0, 0, 0, 0, 0, 0, 0, 0, 0, 0, 0, 0, 0, 0, 0, 0, 0, 0, 0, 0, 0, 0, 0, 0, 0, 0, 0, 0, 0, 0, 0, 0, 0, 0, 0, 0, 0, 0, 0, 0, 0, 0, 0, 0, 0, 0, 0, 0, 0, 0, 0, 0, 0, 0, 0, 0, 0, 0, 0, 0, 0, 0, 0, 0, 0, 0, 0, 0, 0, 0, 0, 0, 0, 0, 0, 0, 0, 0, 0, 0, 0, 0, 0, 0, 0, 0, 2, 0, 1, 0]\n"
     ]
    }
   ],
   "source": [
    "test_bow = bow_encoding(test_words, vocabulary)\n",
    "print(test_bow)"
   ]
  },
  {
   "cell_type": "code",
   "execution_count": 40,
   "metadata": {},
   "outputs": [
    {
     "data": {
      "text/plain": [
       "5000"
      ]
     },
     "execution_count": 40,
     "metadata": {},
     "output_type": "execute_result"
    }
   ],
   "source": [
    "len(test_bow)"
   ]
  },
  {
   "cell_type": "markdown",
   "metadata": {},
   "source": [
    "So now we know how to construct a bag of words encoding of a user provided review, how to we send it to our endpoint? First, we need to start the endpoint back up."
   ]
  },
  {
   "cell_type": "code",
   "execution_count": null,
   "metadata": {},
   "outputs": [],
   "source": [
    "xgb_predictor = xgb.deploy(initial_instance_count = 1, instance_type = 'ml.m4.xlarge')"
   ]
  },
  {
   "cell_type": "markdown",
   "metadata": {},
   "source": [
    "At this point we could just do the same thing that we did earlier when we tested our deployed model and send `test_bow` to our endpoint using the `xgb_predictor` object. However, when we eventually construct our Lambda function we won't have access to this object, so how do we call a SageMaker endpoint?\n",
    "\n",
    "It turns out that Python functions that are used in Lambda have access to another Amazon library called `boto3`. This library provides an API for working with Amazon services, including SageMaker. To start with, we need to get a handle to the SageMaker runtime."
   ]
  },
  {
   "cell_type": "code",
   "execution_count": 41,
   "metadata": {},
   "outputs": [],
   "source": [
    "import boto3\n",
    "\n",
    "runtime = boto3.Session().client('sagemaker-runtime')"
   ]
  },
  {
   "cell_type": "markdown",
   "metadata": {},
   "source": [
    "And now that we have access to the SageMaker runtime, we can ask it to make use of (invoke) an endpoint that has already been created. However, we need to provide SageMaker with the name of the deployed endpoint. To find this out we can print it out using the `xgb_predictor` object."
   ]
  },
  {
   "cell_type": "code",
   "execution_count": 42,
   "metadata": {},
   "outputs": [
    {
     "data": {
      "text/plain": [
       "'xgboost-2022-01-27-07-37-59-589'"
      ]
     },
     "execution_count": 42,
     "metadata": {},
     "output_type": "execute_result"
    }
   ],
   "source": [
    "xgb_predictor.endpoint"
   ]
  },
  {
   "cell_type": "markdown",
   "metadata": {},
   "source": [
    "Using the SageMaker runtime and the name of our endpoint, we can invoke the endpoint and send it the `test_bow` data."
   ]
  },
  {
   "cell_type": "code",
   "execution_count": null,
   "metadata": {},
   "outputs": [],
   "source": [
    "response = runtime.invoke_endpoint(EndpointName = xgb_predictor.endpoint, # The name of the endpoint we created\n",
    "                                       ContentType = 'text/csv',                     # The data format that is expected\n",
    "                                       Body = test_bow)"
   ]
  },
  {
   "cell_type": "markdown",
   "metadata": {},
   "source": [
    "So why did we get an error?\n",
    "\n",
    "Because we tried to send the endpoint a list of integers but it expected us to send data of type `text/csv`. So, we need to convert it."
   ]
  },
  {
   "cell_type": "code",
   "execution_count": 43,
   "metadata": {},
   "outputs": [],
   "source": [
    "response = runtime.invoke_endpoint(EndpointName = xgb_predictor.endpoint, # The name of the endpoint we created\n",
    "                                       ContentType = 'text/csv',                     # The data format that is expected\n",
    "                                       Body = ','.join([str(val) for val in test_bow]).encode('utf-8'))"
   ]
  },
  {
   "cell_type": "code",
   "execution_count": 44,
   "metadata": {},
   "outputs": [
    {
     "name": "stdout",
     "output_type": "stream",
     "text": [
      "{'ResponseMetadata': {'RequestId': '801d34f0-23c7-4fb5-853c-a70480cde260', 'HTTPStatusCode': 200, 'HTTPHeaders': {'x-amzn-requestid': '801d34f0-23c7-4fb5-853c-a70480cde260', 'x-amzn-invoked-production-variant': 'AllTraffic', 'date': 'Thu, 27 Jan 2022 08:03:42 GMT', 'content-type': 'text/csv; charset=utf-8', 'content-length': '18'}, 'RetryAttempts': 0}, 'ContentType': 'text/csv; charset=utf-8', 'InvokedProductionVariant': 'AllTraffic', 'Body': <botocore.response.StreamingBody object at 0x7f9747b78e10>}\n"
     ]
    }
   ],
   "source": [
    "print(response)"
   ]
  },
  {
   "cell_type": "markdown",
   "metadata": {},
   "source": [
    "As we can see, the response from our model is a somewhat complicated looking dict that contains a bunch of information. The bit that we are most interested in is `'Body'` object which is a streaming object that we need to `read` in order to make use of."
   ]
  },
  {
   "cell_type": "code",
   "execution_count": 45,
   "metadata": {},
   "outputs": [
    {
     "name": "stdout",
     "output_type": "stream",
     "text": [
      "0.4191037118434906\n"
     ]
    }
   ],
   "source": [
    "response = response['Body'].read().decode('utf-8')\n",
    "print(response)"
   ]
  },
  {
   "cell_type": "markdown",
   "metadata": {},
   "source": [
    "Now that we know how to process the incoming user data we can start setting up the infrastructure to make our simple web app work. To do this we will make use of two different services. Amazon's Lambda and API Gateway services.\n",
    "\n",
    "Lambda is a service which allows someone to write some relatively simple code and have it executed whenever a chosen trigger occurs. For example, you may want to update a database whenever new data is uploaded to a folder stored on S3.\n",
    "\n",
    "API Gateway is a service that allows you to create HTTP endpoints (url addresses) which are connected to other AWS services. One of the benefits to this is that you get to decide what credentials, if any, are required to access these endpoints.\n",
    "\n",
    "In our case we are going to set up an HTTP endpoint through API Gateway which is open to the public. Then, whenever anyone sends data to our public endpoint we will trigger a Lambda function which will send the input (in our case a review) to our model's endpoint and then return the result."
   ]
  },
  {
   "cell_type": "markdown",
   "metadata": {},
   "source": [
    "### Setting up a Lambda function\n",
    "\n",
    "The first thing we are going to do is set up a Lambda function. This Lambda function will be executed whenever our public API has data sent to it. When it is executed it will receive the data, perform any sort of processing that is required, send the data (the review) to the SageMaker endpoint we've created and then return the result.\n",
    "\n",
    "#### Part A: Create an IAM Role for the Lambda function\n",
    "\n",
    "Since we want the Lambda function to call a SageMaker endpoint, we need to make sure that it has permission to do so. To do this, we will construct a role that we can later give the Lambda function.\n",
    "\n",
    "Using the AWS Console, navigate to the **IAM** page and click on **Roles**. Then, click on **Create role**. Make sure that the **AWS service** is the type of trusted entity selected and choose **Lambda** as the service that will use this role, then click **Next: Permissions**.\n",
    "\n",
    "In the search box type `sagemaker` and select the check box next to the **AmazonSageMakerFullAccess** policy. Then, click on **Next: Review**.\n",
    "\n",
    "Lastly, give this role a name. Make sure you use a name that you will remember later on, for example `LambdaSageMakerRole`. Then, click on **Create role**."
   ]
  },
  {
   "cell_type": "markdown",
   "metadata": {},
   "source": [
    "#### Part B: Create a Lambda function\n",
    "\n",
    "Now it is time to actually create the Lambda function. Remember from earlier that in order to process the user provided input and send it to our endpoint we need to gather two pieces of information:\n",
    "\n",
    " - The name of the endpoint, and\n",
    " - the vocabulary object.\n",
    "\n",
    "We will copy these pieces of information to our Lambda function after we create it.\n",
    "\n",
    "To start, using the AWS Console, navigate to the AWS Lambda page and click on **Create a function**. When you get to the next page, make sure that **Author from scratch** is selected. Now, name your Lambda function, using a name that you will remember later on, for example `sentiment_analysis_xgboost_func`. Make sure that the **Python 3.6** runtime is selected and then choose the role that you created in the previous part. Then, click on **Create Function**.\n",
    "\n",
    "On the next page you will see some information about the Lambda function you've just created. If you scroll down you should see an editor in which you can write the code that will be executed when your Lambda function is triggered. Collecting the code we wrote above to process a single review and adding it to the provided example `lambda_handler` we arrive at the following.\n",
    "\n",
    "```python\n",
    "# We need to use the low-level library to interact with SageMaker since the SageMaker API\n",
    "# is not available natively through Lambda.\n",
    "import boto3\n",
    "\n",
    "# And we need the regular expression library to do some of the data processing\n",
    "import re\n",
    "\n",
    "REPLACE_NO_SPACE = re.compile(\"(\\.)|(\\;)|(\\:)|(\\!)|(\\')|(\\?)|(\\,)|(\\\")|(\\()|(\\))|(\\[)|(\\])\")\n",
    "REPLACE_WITH_SPACE = re.compile(\"(<br\\s*/><br\\s*/>)|(\\-)|(\\/)\")\n",
    "\n",
    "def review_to_words(review):\n",
    "    words = REPLACE_NO_SPACE.sub(\"\", review.lower())\n",
    "    words = REPLACE_WITH_SPACE.sub(\" \", words)\n",
    "    return words\n",
    "    \n",
    "def bow_encoding(words, vocabulary):\n",
    "    bow = [0] * len(vocabulary) # Start by setting the count for each word in the vocabulary to zero.\n",
    "    for word in words.split():  # For each word in the string\n",
    "        if word in vocabulary:  # If the word is one that occurs in the vocabulary, increase its count.\n",
    "            bow[vocabulary[word]] += 1\n",
    "    return bow\n",
    "\n",
    "\n",
    "def lambda_handler(event, context):\n",
    "    \n",
    "    vocab = \"*** ACTUAL VOCABULARY GOES HERE ***\"\n",
    "    \n",
    "    words = review_to_words(event['body'])\n",
    "    bow = bow_encoding(words, vocab)\n",
    "\n",
    "    # The SageMaker runtime is what allows us to invoke the endpoint that we've created.\n",
    "    runtime = boto3.Session().client('sagemaker-runtime')\n",
    "\n",
    "    # Now we use the SageMaker runtime to invoke our endpoint, sending the review we were given\n",
    "    response = runtime.invoke_endpoint(EndpointName = '***ENDPOINT NAME HERE***',# The name of the endpoint we created\n",
    "                                       ContentType = 'text/csv',                 # The data format that is expected\n",
    "                                       Body = ','.join([str(val) for val in bow]).encode('utf-8')) # The actual review\n",
    "\n",
    "    # The response is an HTTP response whose body contains the result of our inference\n",
    "    result = response['Body'].read().decode('utf-8')\n",
    "    \n",
    "    # Round the result so that our web app only gets '1' or '0' as a response.\n",
    "    result = round(float(result))\n",
    "\n",
    "    return {\n",
    "        'statusCode' : 200,\n",
    "        'headers' : { 'Content-Type' : 'text/plain', 'Access-Control-Allow-Origin' : '*' },\n",
    "        'body' : str(result)\n",
    "    }\n",
    "```"
   ]
  },
  {
   "cell_type": "markdown",
   "metadata": {},
   "source": [
    "Once you have copy and pasted the code above into the Lambda code editor, replace the `**ENDPOINT NAME HERE**` portion with the name of the endpoint that we deployed earlier. You can determine the name of the endpoint using the code cell below."
   ]
  },
  {
   "cell_type": "code",
   "execution_count": 46,
   "metadata": {},
   "outputs": [
    {
     "data": {
      "text/plain": [
       "'xgboost-2022-01-27-07-37-59-589'"
      ]
     },
     "execution_count": 46,
     "metadata": {},
     "output_type": "execute_result"
    }
   ],
   "source": [
    "xgb_predictor.endpoint"
   ]
  },
  {
   "cell_type": "markdown",
   "metadata": {},
   "source": [
    "In addition, you will need to copy the vocabulary dict to the appropriate place in the code at the beginning of the `lambda_handler` method. The cell below prints out the vocabulary dict in a way that is easy to copy and paste."
   ]
  },
  {
   "cell_type": "code",
   "execution_count": 47,
   "metadata": {},
   "outputs": [
    {
     "name": "stdout",
     "output_type": "stream",
     "text": [
      "{'elvira': 1450, 'mistress': 2874, 'of': 3083, 'the': 4426, 'dark': 1115, 'is': 2360, 'one': 3107, 'my': 2951, 'movies': 2927, 'it': 2366, 'has': 2043, 'every': 1539, 'thing': 4450, 'you': 4986, 'would': 4957, 'want': 4788, 'in': 2257, 'film': 1716, 'like': 2599, 'great': 1964, 'liners': 2611, 'sexy': 3911, 'star': 4150, 'and': 226, 'outrageous': 3145, 'story': 4207, 'if': 2222, 'have': 2052, 'not': 3040, 'seen': 3865, 'are': 285, 'missing': 2869, 'out': 3141, 'on': 3105, 'greatest': 1966, 'films': 1721, 'made': 2697, 'cant': 671, 'wait': 4770, 'till': 4493, 'her': 2085, 'new': 3003, 'movie': 2926, 'comes': 891, 'passing': 3204, 'stones': 4198, 'definitely': 1162, 'best': 469, 'comedy': 890, 'independent': 2272, 'ever': 1538, 'must': 2950, 'sense': 3877, 'humor': 2192, 'to': 4507, 'fully': 1847, 'enjoy': 1484, 'this': 4457, 'for': 1784, 'some': 4061, 'reason': 3557, 'hasnt': 2044, 'received': 3564, 'its': 2370, 'credit': 1049, 'due': 1382, 'first': 1736, 'lets': 2580, 'start': 4156, 'with': 4911, 'line': 2610, 'everyone': 1542, 'loves': 2674, 'good': 1937, 'treasure': 4571, 'hunt': 2198, 'when': 4862, 'dead': 1132, 'father': 1666, 'leaves': 2556, 'letters': 2582, 'behind': 447, 'hidden': 2096, 'only': 3110, 'brings': 587, 'two': 4620, 'families': 1644, 'together': 4511, 'but': 636, 'starts': 4159, 'adventure': 130, 'mix': 2876, 'mother': 2911, 'crack': 1027, 'head': 2057, 'twisted': 4618, 'homosexual': 2145, 'drag': 1342, 'queen': 3485, 'money': 2888, 'makes': 2716, 'world': 4946, 'go': 1924, 'round': 3742, 'can': 665, 'turn': 4605, 'family': 1645, 'into': 2332, 'enemies': 1476, 'favorite': 1671, 'character': 758, 'be': 418, 'sister': 4001, 'sudden': 4272, 'will': 4886, 'crying': 1074, 'weeks': 4839, 'absolutely': 72, 'loved': 2670, 'am': 204, 'even': 1533, 'sure': 4308, 'what': 4858, 'particularly': 3195, 'about': 67, 'think': 4452, 'was': 4805, 'wonderful': 4928, 'should': 3951, 'available': 361, 'dvd': 1391, 'women': 4923, 'were': 4848, 'strangers': 4214, 'yet': 4984, 'got': 1944, 'along': 195, 'well': 4843, 'enough': 1491, 'spend': 4105, 'time': 4495, 'they': 4442, 'did': 1241, 'italy': 2368, 'actors': 104, 'opinion': 3118, 'an': 223, 'excellent': 1555, 'job': 2405, 'characters': 760, 'all': 187, 'so': 4046, 'different': 1248, 'clever': 841, 'that': 4424, 'work': 4940, 'there': 4438, 'drama': 1346, 'relationship': 3597, 'issues': 2365, 'requires': 3642, '10': 0, 'lines': 2612, 'just': 2437, 'any': 256, 'more': 2904, 'say': 3799, 'until': 4680, 'get': 1899, 'sorry': 4076, 'else': 1448, 'possibly': 3351, 'been': 438, 'long': 2644, 'since': 3990, 'last': 2521, 'saw': 3798, 'looking': 2648, 'forward': 1808, 'view': 4736, 'again': 146, 'isnt': 2362, 'dont': 1324, 'know': 2489, 'why': 4878, 'people': 3221, 'except': 1556, 'lot': 2661, 'from': 1840, 'low': 2676, 'budget': 610, 'indie': 2276, 'enjoyed': 1486, 'as': 311, 'im': 2232, 'fan': 1648, 'urban': 4688, 'horror': 2168, 'theres': 4440, 'too': 4522, 'many': 2732, 'shelf': 3926, 'title': 4504, 'alone': 194, 'curiosity': 1082, 'decided': 1149, 'check': 777, 'often': 3095, 'run': 3755, 'acting': 99, 'yes': 4982, 'tell': 4395, 'once': 3106, 'watching': 4815, 'become': 433, 'wrapped': 4964, 'up': 4683, 'doesnt': 1309, 'matter': 2769, 'hip': 2114, 'hop': 2154, 'music': 2946, 'soundtrack': 4085, 'nice': 3008, 'whats': 4860, 'these': 4441, 'bad': 382, 'reviews': 3679, 'hear': 2061, 'worst': 4952, 'idiots': 2220, 'thousands': 4466, 'how': 2181, 'video': 4733, 'may': 2775, 'havent': 2053, 'bottom': 551, 'who': 4871, 'gave': 1875, 'probably': 3407, 'listen': 2619, 'based': 404, 'then': 4436, 'watch': 4811, 'types': 4622, 'knowing': 2490, 'type': 4621, 'stuff': 4243, 'multi': 2935, 'cultural': 1078, 'cast': 710, 'tv': 4610, 'shows': 3960, 'or': 3124, 'suck': 4269, 'me': 2778, 'garden': 1872, 'state': 4160, 'wedding': 4836, 'heart': 2064, 'guy': 2000, 'because': 432, 'relate': 3593, 'them': 4432, 'interest': 2323, 'common': 906, 'believe': 454, 'never': 3001, 'heres': 2087, 'sequel': 3885, 'torture': 4529, 'sucked': 4270, 'now': 3054, 'back': 378, 'comment': 898, 'above': 68, 'smoking': 4040, 'stupid': 4247, 'by': 642, 'his': 2118, 'drunken': 1376, 'dad': 1095, 'before': 440, 'he': 2056, 'watched': 4813, 'actor': 103, 'played': 3297, 'forgot': 1796, 'name': 2960, 'very': 4723, 'myself': 2953, 'taking': 4352, 'theater': 4427, 'at': 331, 'school': 3813, 'had': 2003, 'do': 1302, 'play': 3296, 'where': 4864, 'cry': 1073, 'easy': 1410, 'emotional': 1459, 'scene': 3809, 'give': 1912, 'props': 3439, 'pull': 3461, 'off': 3084, 'liked': 2600, 'heard': 2062, 'directors': 1266, 'bet': 470, 'ill': 2228, 'their': 4431, 'reading': 3544, 'bring': 585, 'ive': 2372, 'bought': 552, 'truly': 4597, 'horrible': 2163, 'things': 4451, 'could': 1007, 'better': 472, 'historical': 2119, 'value': 4709, 'talented': 4355, 'actress': 105, 'everyday': 1541, 'such': 4268, 'role': 3726, 'somewhat': 4068, 'believable': 453, 'parts': 3199, 'little': 2624, 'mediocre': 2791, 'confusing': 942, 'wouldnt': 4958, 'entire': 1502, 'capturing': 679, 'making': 2718, 'something': 4066, 'pretty': 3384, 'hard': 2033, 'much': 2934, 'harder': 2035, 'strongly': 4231, 'those': 4460, 'big': 478, 'problem': 3408, 'most': 2909, 'free': 1827, 'color': 877, 'mostly': 2910, 'light': 2595, 'universal': 4665, 'casting': 711, 'others': 3136, 'werent': 4849, 'old': 3100, 'stereotypes': 4179, 'still': 4188, 'exists': 1573, 'picked': 3266, 'variety': 4714, 'came': 656, 'despite': 1211, 'picking': 3267, 'looked': 2647, 'near': 2979, 'white': 4870, 'thought': 4462, 'script': 3834, 'written': 4972, 'overall': 3150, 'found': 1811, 'performances': 3229, 'sounded': 4082, 'spoof': 4127, 'spy': 4135, 'reminded': 3619, 'short': 3946, 'plot': 3309, 'ridiculous': 3693, 'soviet': 4089, 'union': 4661, 'started': 4157, 'teach': 4374, 'act': 97, 'americans': 214, 'town': 4541, 'set': 3898, 'training': 4558, 'bit': 488, 'dated': 1119, 'grab': 1949, 'us': 4690, 'seems': 3864, 'gets': 1900, 'really': 3556, 'odd': 3080, 'next': 3007, 'no': 3020, 'russian': 3762, 'speaks': 4096, 'accent': 78, 'someone': 4064, 'also': 199, 'painfully': 3172, 'dry': 1377, 'funny': 1852, 'spots': 4132, 'nothing': 3047, 'sing': 3992, 'dance': 1103, 'end': 1468, 'likely': 2601, 'put': 3480, 'sleep': 4024, 'punch': 3466, 'face': 1616, 'pro': 3406, 'sick': 3963, 'keeps': 2451, 'saying': 3800, 'god': 1926, 'devil': 1228, 'kind': 2476, 'done': 1322, 'against': 147, 'japanese': 2382, 'war': 4792, 'full': 1846, 'itself': 2371, 'being': 448, 'dragged': 1343, 'far': 1653, 'followed': 1773, 'public': 3460, 'several': 3905, 'years': 4979, 'used': 4693, 'fiction': 1702, 'told': 4513, 'through': 4477, 'true': 4596, 'stories': 4205, 'obscure': 3068, 'philosophical': 3253, 'mind': 2849, 'games': 1865, 'while': 4868, 'entertaining': 1499, 'fay': 1674, 'grim': 1974, 'another': 250, 'step': 4175, 'henry': 2084, 'fool': 1779, 'thinking': 4453, 'quality': 3484, 'object': 3066, 'within': 4912, 'which': 4867, 'themselves': 4435, 'stolen': 4195, 'make': 2713, 'ie': 2221, 'process': 3412, 'writing': 4971, 'modern': 2882, 'era': 1513, 'blockbuster': 509, 'than': 4420, 'past': 3207, 'perhaps': 3235, 'tragedy': 4551, 'shock': 3938, 'cliché': 844, 'dull': 1384, 'opening': 3114, 'scenes': 3811, 'office': 3091, 'said': 3774, 'points': 3319, 'lost': 2660, 'understand': 4643, 'simon': 3982, 'etc': 1527, 'without': 4913, 'understanding': 4645, 'tragic': 4552, 'detail': 1217, 'expressed': 1601, 'flashbacks': 1747, 'cannot': 670, 'compare': 911, 'feeling': 1685, 'walks': 4780, 'cold': 872, 'minutes': 2859, 'highly': 2105, 'constructed': 959, 'dialog': 1232, 'thats': 4425, 'however': 2183, 'least': 2554, 'realized': 3553, 'dirty': 1268, 'broken': 594, 'proper': 3436, 'villain': 4744, 'flaw': 1749, 'him': 2110, 'endearing': 1469, 'works': 4945, 'come': 886, 'across': 96, 'although': 201, 'does': 1308, 'sort': 4077, 'around': 297, 'ends': 1474, 'add': 115, 'interesting': 2325, 'twist': 4617, 'viewing': 4740, 'showing': 3958, 'earlier': 1399, 'having': 2054, 'describe': 1194, 'basic': 406, 'storyline': 4208, 'unless': 4669, 'part': 3193, 'disappointed': 1273, 'sex': 3907, 'though': 4461, 'cheesy': 781, 'jim': 2402, 'carrey': 696, 'keep': 2449, 'getting': 1901, 'stuck': 4237, 'grinch': 1975, 'liking': 2604, 'annoying': 249, 'sweet': 4336, 'innocence': 2293, 'tries': 4585, 'christmas': 810, 'spirit': 4113, 'childhood': 790, 'weak': 4824, 'obvious': 3071, 'ending': 1471, 'presents': 3377, 'felt': 1692, 'walking': 4779, 'bunch': 623, 'laughing': 2533, 'forth': 1804, 'ages': 152, 'executed': 1565, 'house': 2178, 'includes': 2263, 'himself': 2111, 'london': 2641, 'here': 2086, 'taken': 4350, 'dare': 1113, 'visit': 4755, 'particular': 3194, 'night': 3013, 'running': 3756, 'room': 3735, 'either': 1438, 'enjoyable': 1485, 'plus': 3311, 'we': 4823, 'delightful': 1168, 'barbara': 397, 'wooden': 4934, 'dialogue': 1234, 'bits': 490, 'super': 4295, 'creepy': 1052, 'atmosphere': 333, 'throughout': 4478, 'musical': 2947, 'score': 3822, 'moving': 2928, 'nicely': 3009, 'few': 1700, 'extras': 1608, 'simplistic': 3985, 'engaging': 1481, 'heroine': 2091, 'john': 2409, 'carpenter': 694, 'life': 2592, 'nail': 2957, 'nightmare': 3014, 'halloween': 2010, 'jamie': 2379, 'lee': 2559, 'curtis': 1087, 'debut': 1143, 'career': 686, 'friends': 1837, 'plan': 3287, 'fun': 1848, 'cross': 1066, 'hell': 2077, 'michael': 2829, 'myers': 2952, 'escaped': 1518, 'nearby': 2980, 'insane': 2296, 'fifteen': 1706, 'murder': 2939, 'took': 4523, 'place': 3282, 'sets': 3899, 'eyes': 1613, 'after': 143, 'she': 3923, 'drops': 1372, 'abandoned': 62, 'lived': 2626, 'begins': 444, 'turning': 4608, 'terror': 4412, 'picks': 3268, 'anyone': 259, 'path': 3209, 'beautiful': 428, 'cinematography': 820, 'lighting': 2596, 'moody': 2899, 'flick': 1754, 'scary': 3807, 'shots': 3950, 'constantly': 958, 'feels': 1687, 'youre': 4992, 'serial': 3889, 'killer': 2470, 'revealed': 3671, 'exciting': 1563, 'conclusion': 936, 'certainly': 738, 'means': 2783, 'less': 2575, 'chilling': 794, 'idea': 2213, 'inducing': 2279, 'famous': 1647, 'memorable': 2802, 'day': 1129, 'seven': 3903, 'sequels': 3886, 'eventually': 1537, 'rob': 3710, 'zombies': 4998, 'equally': 1510, 'remake': 3612, 'standard': 4144, 'today': 4508, 'section': 3853, 'pet': 3246, 'mentions': 2813, 'george': 1893, 'director': 1264, 'stephen': 4176, 'king': 2479, 'half': 2007, 'direct': 1258, 'pulled': 3462, 'wonders': 4931, 'wouldve': 4959, 'brought': 600, 'mary': 2751, 'imagination': 2236, 'adaptation': 113, 'kings': 2481, 'novel': 3052, 'wrote': 4974, 'screenplay': 3831, 'course': 1019, 'effective': 1429, 'surreal': 4317, 'mainly': 2708, 'involving': 2349, 'creep': 1051, 'kids': 2467, 'see': 3855, 'roles': 3727, 'perfect': 3224, 'times': 4497, 'style': 4249, 'case': 707, 'going': 1931, 'rising': 3703, 'thrown': 4481, 'knows': 2493, 'save': 3794, 'final': 1722, 'mentioned': 2811, 'terrific': 4409, 'notably': 3042, 'boy': 557, 'goes': 1930, 'side': 3965, '80s': 59, 'monster': 2892, 'especially': 1520, 'certain': 737, 'supporting': 4304, 'fred': 1825, 'plays': 3301, 'man': 2721, 'right': 3696, 'notes': 3046, 'under': 4639, 'playing': 3300, 'doom': 1326, 'tone': 4517, 'andrew': 228, 'other': 3135, 'flaws': 1752, 'disturbed': 1299, 'figure': 1711, 'daughter': 1121, 'didnt': 1242, 'terms': 4406, 'setting': 3900, 'pieces': 3273, 'couple': 1016, 'stand': 4143, 'moment': 2886, 'spoil': 4121, 'involve': 2345, 'cool': 989, 'ramones': 3512, 'song': 4071, 'bigger': 479, 'including': 2264, 'shining': 3933, 'polished': 3323, 'directing': 1260, 'couldve': 1009, 'darker': 1116, 'logical': 2639, 'albeit': 173, 'period': 3236, 'midnight': 2834, 'rating': 3529, 'delight': 1167, 'strong': 4229, 'suspense': 4330, 'reminiscent': 3621, 'evil': 1548, 'down': 1335, 'amazed': 208, 'kenneth': 2455, 'southern': 4088, 'robert': 3713, 'small': 4033, 'bomb': 531, 'nude': 3058, 'fairly': 1631, 'effectively': 1430, 'worth': 4953, 'tired': 4501, 'gender': 1878, 'previous': 3387, 'point': 3316, 'general': 1880, 'enjoyment': 1488, 'late': 2523, 'girls': 1911, 'high': 2100, 'kid': 2464, 'avoid': 363, 'dressing': 1359, 'girl': 1909, 'fellow': 1691, 'marie': 2737, 'obviously': 3072, 'longer': 2645, 'utter': 4701, 'crap': 1031, 'wasnt': 4807, 'judging': 2425, 'majority': 2712, 'looks': 2649, 'fans': 1650, 'teen': 4388, 'ones': 3108, 'feature': 1678, 'look': 2646, 'further': 1853, 'savage': 3793, 'island': 2361, '2003': 33, 'lame': 2510, 'home': 2142, 'shot': 3949, 'minimal': 2855, 'horrid': 2165, 'flicks': 1755, 'hate': 2046, 'angry': 238, 'blood': 512, 'situations': 4009, 'inane': 2258, 'picture': 3269, 'fooled': 1780, 'cover': 1022, 'cinema': 816, 'virtually': 4751, 'unwatchable': 4682, 'superior': 4300, 'wrong': 4973, 'recommend': 3571, 'waste': 4808, 'rental': 3627, 'store': 4204, 'pass': 3201, 'ritter': 3705, 'sam': 3777, 'hits': 2125, 'close': 853, 'lovely': 2671, 'ben': 463, 'fall': 1637, 'love': 2669, 'met': 2822, 'arthur': 305, 'travels': 4569, 'somewhere': 4069, 'choice': 797, 'pick': 3265, 'evening': 1534, 'let': 2579, 'friend': 1835, 'starting': 4158, 'soon': 4074, 'buy': 640, 'expect': 1575, 'whole': 4873, 'magnificent': 2705, 'ron': 3734, '13': 4, 'way': 4820, 'scenery': 3810, 'amazing': 209, 'upon': 4684, 'person': 3238, 'lives': 2628, 'change': 749, 'lou': 2663, 'adorable': 124, 'taylor': 4372, 'meets': 2795, 'finds': 1728, 'straight': 4210, 'away': 369, 'attempts': 343, 'break': 569, 'help': 2079, 'move': 2921, 'laughs': 2534, 'both': 547, 'parents': 3188, 'solid': 4057, 'oh': 3096, 'rubbish': 3748, 'mildly': 2840, 'amusing': 221, 'worry': 4950, 'happy': 2032, 'fell': 1690, 'toilet': 4512, 'roll': 3728, 'feet': 1688, 'legs': 2566, 'apart': 264, 'everything': 1544, 'hit': 2122, 'anyway': 261, 'completely': 922, 'terrible': 4407, 'might': 2835, 'wallace': 4782, 'animation': 242, 'extremely': 1610, 'continuity': 972, 'mistakes': 2873, 'number': 3060, 'pointed': 3317, 'makers': 2715, 'site': 4005, 'wont': 4932, 'young': 4989, 'catch': 714, 'cage': 645, 'door': 1328, 'hook': 2152, 'clearly': 840, 'thus': 4486, 'able': 66, 'simply': 3986, 'kicking': 2462, 'ruby': 3749, 'falls': 1640, 'pushed': 3478, 'air': 164, 'ship': 3934, 'caught': 722, 'impossible': 2249, 'seeing': 3857, 'shirt': 3937, 'water': 4816, 'hand': 2015, 'third': 4455, 'wanted': 4789, 'forgotten': 1797, 'word': 4937, 'jokes': 2415, 'repeated': 3631, 'connection': 946, 'hollow': 2135, 'shallow': 3917, 'empty': 1465, 'left': 2561, 'anything': 260, 'paint': 3173, 'growing': 1983, 'superb': 4296, 'guide': 1993, 'imdb': 2240, 'try': 4600, 'expecting': 1578, 'elephant': 1444, 'fact': 1621, 'supposed': 4306, 'dislike': 1288, 'busy': 635, 'doing': 1312, 'toward': 4539, 'between': 475, 'mean': 2779, 'almost': 193, 'find': 1726, 'besides': 468, 'present': 3374, 'shooting': 3943, 'share': 3920, 'extent': 1605, 'progresses': 3426, 'glad': 1916, 'positive': 3346, 'comments': 901, 'couldnt': 1008, 'seemed': 3862, 'compelling': 916, 'realistic': 3550, 'chain': 741, 'progress': 3425, 'mature': 2773, 'entirely': 1503, 'impressed': 2251, 'originally': 3131, 'named': 2961, 'sin': 3988, 'stayed': 4167, 'considering': 952, 'talked': 4359, '20': 29, 'rest': 3657, 'slow': 4031, 'peter': 3247, 'main': 2707, 'sad': 3767, 'dealing': 1136, 'catholic': 720, 'religion': 3607, 'surely': 4309, 'flop': 1760, 'days': 1130, 'version': 4720, 'alice': 182, '1983': 22, 'largely': 2518, 'central': 735, 'massive': 2756, 'oscar': 3133, 'success': 4265, 'goldberg': 1933, 'screen': 3829, 'performance': 3228, 'miles': 2843, 'woman': 4921, 'fate': 1665, 'walker': 4778, 'introduced': 2337, 'page': 3167, 'danny': 1112, 'glover': 1923, 'albert': 174, 'abusive': 75, 'husband': 2204, 'margaret': 2735, 'force': 1786, 'dawn': 1127, 'susan': 4326, 'wife': 4884, 'missed': 2867, 'carl': 692, 'anderson': 227, 'otherwise': 3137, 'known': 2492, '1973': 19, 'jesus': 2399, 'christ': 807, 'beautifully': 429, 'paced': 3162, 'purple': 3473, 'justice': 2438, 'source': 4086, 'viewers': 4739, 'length': 2569, 'finally': 1724, 'opportunity': 3121, 'zombie': 4997, 'blown': 516, 'epic': 1506, 'transfer': 4559, 'bay': 416, 'hold': 2129, 'gore': 1941, 'stands': 4147, 'appreciate': 279, 'makeup': 2717, 'sound': 4081, 'channel': 753, 'cheap': 774, 'adds': 119, 'brutal': 603, 'filled': 1715, 'womans': 4922, 'burned': 626, 'burn': 625, 'track': 4544, 'doubt': 1332, 'hardcore': 2034, 'action': 100, 'italian': 2367, 'clean': 838, 'horrendous': 2162, 'experience': 1580, 'realize': 3552, 'dubbing': 1380, 'grand': 1953, 'charm': 767, 'genius': 1887, 'highest': 2102, 'result': 3660, 'cult': 1077, 'classic': 835, 'thumbs': 4485, 'nose': 3037, 'traditional': 4550, 'standards': 4145, 'tons': 4520, 'kick': 2460, 'sometimes': 4067, 'always': 203, 'test': 4416, 'reporter': 3636, 'sent': 3880, 'interview': 2329, 'supposedly': 4307, 'fortune': 1806, 'interviews': 2330, 'each': 1395, 'costumes': 1006, 'turns': 4609, 'quite': 3495, 'early': 1400, 'advertising': 132, 'follows': 1775, 'ups': 4686, 'romance': 3732, 'davis': 1126, 'carry': 700, 'predictable': 3367, 'actually': 109, 'guess': 1989, 'unintentionally': 4659, 'funnier': 1850, 'towards': 4540, 'climax': 849, 'given': 1913, 'lawyer': 2541, 'real': 3547, 'fictional': 1703, 'weird': 4841, 'planet': 3289, 'behave': 445, 'front': 1841, 'court': 1020, 'earth': 1403, 'prove': 3445, 'guilty': 1995, 'simple': 3983, 'search': 3841, 'rings': 3699, 'during': 1387, 'trial': 4580, 'blonde': 511, 'truth': 4599, 'drug': 1373, 'innocent': 2294, 'proved': 3446, 'obsession': 3070, 'silent': 3975, 'urge': 4689, 'take': 4349, 'bang': 393, 'silly': 3976, 'fake': 1635, 'marry': 2745, 'jail': 2376, 'men': 2805, 'flying': 1764, 'instead': 2307, 'wish': 4904, 'our': 3139, 'dreams': 1355, 'trust': 4598, 'mom': 2885, 'please': 3304, '25': 40, 'year': 4978, 'says': 3801, 'thank': 4421, 'dr': 1340, 'fu': 1844, 'starring': 4154, 'sellers': 3872, 'created': 1037, 'handled': 2019, 'poorly': 3329, 'reasons': 3560, 'poor': 3328, 'awkward': 374, 'kept': 2456, 'mixed': 2877, 'portrayal': 3341, 'brilliantly': 584, 'occasional': 3074, 'remembered': 3617, 'example': 1553, 'confused': 941, 'ah': 158, 'same': 3778, 'admit': 122, 'laughed': 2532, 'loud': 2664, 'attention': 345, 'likes': 2602, 'helen': 2075, 'david': 1124, 'sir': 4000, 'roger': 3724, 'sid': 3964, 'gives': 1914, 'rather': 3528, 'al': 170, 'relative': 3599, 'fbi': 1675, 'designs': 1204, 'english': 1483, 'society': 4050, '1933': 12, 'depicted': 1183, 'honesty': 2148, 'advice': 133, 'beginning': 443, 'established': 1524, 'warren': 4801, '1930s': 11, 'farm': 1656, 'surrounded': 4318, 'second': 3846, 'command': 897, 'johnson': 2411, 'sticks': 4186, 'mouth': 2920, 'loaded': 2632, '45': 50, 'caliber': 649, 'distant': 1295, 'carrying': 701, 'female': 1693, 'red': 3576, 'riding': 3695, 'hood': 2151, 'considerable': 950, 'appeal': 271, 'mindless': 2851, 'multiple': 2936, 'code': 869, 'plenty': 3307, 'shoot': 3942, 'tommy': 4516, 'guns': 1998, 'over': 3148, 'history': 2121, 'stinks': 4192, 'remember': 3616, 'hero': 2088, 'partly': 3197, 'edgar': 1417, 'fired': 1735, 'rival': 3706, 'quest': 3486, 'directed': 1259, 'hes': 2093, 'contract': 973, 'animals': 240, 'killed': 2469, 'productions': 3420, 'gun': 1996, 'freak': 1824, 'rough': 3741, 'spanish': 4092, 'american': 213, 'complete': 921, 'garbage': 1870, 'knew': 2486, 'id': 2212, 'alive': 186, 'neither': 2996, 'kill': 2468, 'em': 1452, 'youll': 4988, 'ray': 3533, 'tom': 4514, 'shine': 3931, 'mentally': 2809, 'putting': 3482, '12': 3, 'younger': 4990, 'twin': 4615, 'brother': 598, 'medical': 2790, 'deals': 1137, 'bond': 532, 'twins': 4616, 'child': 789, 'abuse': 74, 'winning': 4898, 'captivating': 675, 'laughter': 2535, 'tears': 4380, 'rent': 3626, 'promise': 3430, 'un': 4630, 'noticed': 3049, 'suppose': 4305, 'mysterious': 2955, 'serious': 3891, 'thriller': 4472, '30': 42, 'unrealistic': 4677, 'random': 3514, 'imagine': 2238, 'randomly': 3515, 'kicks': 2463, 'bear': 420, 'lady': 2507, 'wants': 4791, 'intense': 2316, 'gripping': 1976, 'original': 3129, 'ready': 3546, 'laugh': 2529, 'seriously': 3892, 'dog': 1310, 'car': 680, 'your': 4991, 'yourself': 4993, 'decide': 1148, 'pool': 3327, 'resources': 3651, 'answer': 251, 'ad': 110, 'months': 2897, 'financial': 1725, 'circumstances': 822, 'join': 2412, 'elderly': 1440, 'live': 2625, 'fourth': 1813, 'wealthy': 4827, 'wholly': 4874, 'spell': 4104, 'spirits': 4115, 'grows': 1985, 'own': 3158, 'changes': 751, 'leave': 2555, 'magic': 2703, 'remain': 3609, 'already': 197, 'copy': 994, 'black': 493, 'wanting': 4790, 'typically': 4624, 'gross': 1978, 'interested': 2324, 'reaction': 3541, 'continued': 970, 'biggest': 480, 'joke': 2414, 'sat': 3786, 'pile': 3275, 'footage': 1782, 'stomach': 4196, 'ended': 1470, 'intent': 2318, 'actual': 108, 'holding': 2130, 'shut': 3961, 'baby': 376, 'covered': 1023, 'wonder': 4926, 'bargain': 400, 'bin': 483, 'desire': 1205, 'uwe': 4703, 'needs': 2990, 'lifetime': 2594, 'event': 1535, 'million': 2847, 'show': 3953, 'catherine': 719, 'stewart': 4184, 'decides': 1150, 'larry': 2520, 'awake': 365, 'morning': 2906, 'attacked': 338, 'attacks': 339, 'manages': 2725, 'escape': 1517, 'discovers': 1281, 'turned': 4606, 'dust': 1388, 'survive': 4321, 'happens': 2029, 'desperately': 1209, 'survivors': 4325, 'meet': 2793, 'distance': 1294, 'meanwhile': 2785, 'scientists': 3819, 'need': 2987, 'human': 2188, 'develop': 1222, 'theyre': 4445, 'surprised': 4313, 'amount': 219, 'boring': 543, 'potential': 3355, '100': 1, 'hour': 2176, 'population': 3335, 'attack': 337, 'nowhere': 3056, 'introduces': 2338, 'sinister': 3998, 'stealing': 4171, 'holes': 2133, 'three': 4469, 'four': 1812, 'gang': 1867, 'members': 2801, 'sisters': 4002, 'guys': 2001, 'provided': 3449, 'experiments': 1584, 'killing': 2472, 'totally': 4532, 'bizarre': 492, 'cure': 1081, 'die': 1243, 'experiment': 1583, 'five': 1743, 'six': 4010, 'providing': 3451, 'survived': 4322, 'odds': 3082, 'scientist': 3818, 'underground': 4640, 'committed': 905, 'suicide': 4283, 'twenty': 4612, 'pace': 3161, 'became': 431, 'incredibly': 2270, 'hearing': 2063, 'overrated': 3156, 'piece': 3272, 'sky': 4017, 'create': 1036, 'unfortunately': 4654, 'streets': 4217, 'constant': 957, 'buildings': 616, 'repetitive': 3633, 'ok': 3098, 'cars': 702, 'wasted': 4809, 'individual': 2277, 'pays': 3218, 'homage': 2141, 'prefer': 3368, 'mall': 2720, 'forget': 1793, 'technically': 4382, 'special': 4097, 'effects': 1431, 'decent': 1147, 'production': 3419, 'crew': 1053, 'closing': 859, 'alright': 198, 'irritating': 2359, 'disappointment': 1275, 'hoped': 2156, 'sequence': 3887, 'tune': 4602, 'wanna': 4786, 'begin': 442, 'gratuitous': 1961, 'references': 3583, 'write': 4967, 'flat': 1748, 'intended': 2315, 'review': 3676, 'impress': 2250, 'foster': 1809, 'suffice': 4279, 'rocks': 3722, '50s': 52, 'reference': 3582, 'shines': 3932, 'absolute': 71, 'tender': 4401, 'age': 148, 'buying': 641, 'worse': 4951, 'wear': 4830, 'mail': 2706, 'feel': 1684, 'ps': 3453, 'edie': 1419, 'deserves': 1201, 'cary': 706, 'grant': 1956, 'expected': 1577, 'usual': 4699, 'bored': 541, 'ranks': 3519, 'among': 217, 'witnessed': 4915, 'terribly': 4408, 'exaggerated': 1552, 'according': 88, 'claims': 830, 'whenever': 4863, 'deliver': 1169, 'higher': 2101, 'member': 2800, 'tried': 4584, 'lovable': 2668, 'country': 1014, 'blow': 514, 'doll': 1313, 'hollywood': 2137, 'ability': 65, 'screams': 3828, 'ultimately': 4628, 'contrived': 976, 'absurd': 73, 'fighting': 1709, 'misses': 2868, 'yeah': 4977, 'giving': 1915, 'saturday': 3792, 'strange': 4211, 'apparently': 270, 'hours': 2177, 'jerk': 2395, 'messed': 2821, 'wandering': 4785, 'selfish': 3870, 'attraction': 350, 'coming': 896, 'son': 4070, 'physical': 3262, 'loving': 2675, 'charles': 764, 'dig': 1250, 'endless': 1473, 'shown': 3959, 'culture': 1079, 'crazy': 1035, 'mad': 2696, 'waiting': 4772, 'tiger': 4491, 'appearance': 274, 'okay': 3099, 'jobs': 2406, 'trying': 4601, 'taste': 4369, 'ring': 3698, 'previously': 3388, 'stop': 4201, 'throw': 4479, 'unbelievable': 4634, 'seem': 3861, 'happen': 2026, 'foreign': 1790, 'gay': 1876, 'elvis': 1451, 'building': 615, 'lucky': 2683, 'unfunny': 4655, 'stinker': 4191, 'ways': 4822, 'deaths': 1142, 'trite': 4589, 'desperate': 1208, 'hope': 2155, 'kim': 2475, 'shes': 3930, 'dennis': 1179, 'richards': 3687, 'talents': 4356, 'sounds': 4084, 'hanks': 2025, 'cameo': 657, 'painful': 3171, 'pictures': 3270, 'future': 1856, '2001': 31, 'freddy': 1826, 'surviving': 4323, 'teenager': 4390, 'elm': 1447, 'street': 4216, 'scares': 3806, 'whatsoever': 4861, 'needless': 2989, 'celebrity': 729, 'cameos': 658, 'arnold': 296, 'tied': 4489, 'demon': 1177, 'wow': 4962, 'legendary': 2565, 'cooper': 990, 'retarded': 3663, 'single': 3996, 'shape': 3919, 'form': 1798, 'rachel': 3500, 'heaven': 2068, 'babe': 375, 'grade': 1951, 'jump': 2429, '3d': 46, 'disc': 1278, 'collection': 874, 'content': 966, 'game': 1864, 'web': 4833, 'link': 2613, 'youve': 4995, 'wondered': 4927, 'porn': 3336, 'dream': 1354, 'effort': 1432, 'using': 4698, 'adult': 125, 'power': 3359, 'quickly': 3491, 'becomes': 434, 'apparent': 269, '15': 7, 'seconds': 3848, 'degree': 1164, 'cut': 1089, 'maybe': 2776, 'combination': 883, 'somebody': 4062, 'commented': 900, 'necessarily': 2983, 'care': 684, 'consider': 949, 'stereotypical': 4180, 'cynical': 1093, 'appreciation': 281, 'rich': 3685, 'ten': 4399, 'loose': 2650, 'interpretation': 2328, 'marriage': 2743, 'sexual': 3908, 'ego': 1435, 'dinner': 1254, 'whether': 4866, 'european': 1530, 'male': 2719, 'reviewers': 3678, 'karen': 2444, 'cute': 1090, 'body': 527, 'stars': 4155, 'steve': 4181, 'martin': 2748, 'dan': 1102, 'series': 3890, '1990s': 25, 'premise': 3370, 'portray': 3340, 'hilarious': 2106, 'asking': 318, 'trouble': 4592, 'pay': 3216, 'sit': 4003, 'trailer': 4554, 'finding': 1727, 'spike': 4111, 'excited': 1561, 'york': 4985, 'lesson': 2577, 'summer': 4291, 'deadly': 1133, 'joe': 2407, 'sons': 4073, 'bell': 458, 'derek': 1192, 'knock': 2488, 'opened': 3113, 'open': 3112, 'stopped': 4202, 'sends': 3876, 'bed': 436, 'opens': 3115, 'gift': 1906, 'inside': 2297, 'ball': 388, 'santa': 3783, 'arms': 294, 'proceeds': 3411, 'incident': 2260, 'grow': 1982, 'stops': 4203, 'talking': 4360, 'stranger': 4213, 'toys': 4543, 'takes': 4351, 'exactly': 1551, 'promising': 3433, 'cash': 709, 'toy': 4542, 'box': 555, 'arent': 288, 'suffers': 4278, 'smooth': 4041, 'plastic': 3294, 'account': 89, 'identity': 2217, 'sorts': 4078, 'brian': 576, 'involved': 2346, 'screaming': 3827, 'hanging': 2023, 'clint': 850, 'howard': 2182, 'hunter': 2199, 'difference': 1246, 'system': 4345, 'brain': 562, 'brilliant': 583, 'soul': 4079, 'recently': 3567, 'showed': 3956, 'blew': 505, 'psychological': 3458, 'author': 359, 'camera': 659, 'nazis': 2978, 'irish': 2353, '70s': 56, 'personally': 3243, 'believed': 455, 'pure': 3471, 'settle': 3902, 'warm': 4794, 'allows': 192, 'humanity': 2189, 'fix': 1744, 'bull': 619, 'headed': 2058, 'erotic': 1515, 'book': 535, '1970s': 17, 'perspective': 3245, 'whatever': 4859, 'beyond': 476, 'pathetic': 3210, 'cg': 739, 'top': 4525, 'writers': 4969, 'badly': 383, 'mass': 2753, 'audiences': 353, 'typical': 4623, 'disappointing': 1274, 'city': 825, 'crisis': 1060, 'rural': 3758, 'fears': 1677, 'challenging': 744, 'trip': 4588, 'river': 3707, 'replaced': 3634, 'leads': 2548, 'loads': 2633, 'outstanding': 3147, 'voight': 4764, 'lead': 2545, 'captured': 677, 'breathtaking': 574, 'date': 1118, 'dramatic': 1348, 'burt': 629, 'week': 4837, 'filmed': 1717, 'humour': 2194, 'minute': 2858, 'read': 3543, 'cat': 713, 'vhs': 4725, 'corner': 996, 'victims': 4730, 'luck': 2681, 'animal': 239, 'whoever': 4872, 'awful': 372, 'description': 1197, 'responsible': 3656, 'use': 4692, 'contained': 963, 'basically': 407, 'tells': 4397, 'butt': 638, 'latter': 2528, 'convincing': 985, 'martial': 2747, 'arts': 310, 'expert': 1585, 'streep': 4215, 'fail': 1625, 'belief': 451, 'fight': 1707, 'hysterical': 2208, 'gag': 1861, 'similar': 3978, 'shame': 3918, 'errors': 1516, 'sexually': 3910, 'herself': 2092, 'corrupt': 1001, 'judge': 2424, 'overwhelming': 3157, 'evidence': 1546, 'daring': 1114, 'group': 1980, 'shower': 3957, 'lesbian': 2573, 'crush': 1072, 'fights': 1710, 'released': 3603, 'continue': 969, 'battle': 414, 'producers': 3416, 'sub': 4252, 'kinds': 2478, 'question': 3487, 'exploitation': 1592, 'response': 3654, 'sleazy': 4023, 'camp': 662, 'exploration': 1593, 'purely': 3472, 'stay': 4166, 'sadly': 3769, 'failed': 1626, 'horrors': 2169, 'mistake': 2871, 'hot': 2174, 'emotionally': 1460, 'illogical': 2231, 'disturbing': 1300, 'souls': 4080, 'curious': 1083, 'research': 3644, 'flesh': 1753, 'whereas': 4865, 'translation': 4562, 'deeply': 1156, 'sympathy': 4343, 'deep': 1154, 'aimed': 162, 'lacking': 2504, 'authentic': 358, 'empathy': 1462, 'audience': 352, 'chance': 747, 'relation': 3595, 'exception': 1557, 'non': 3027, 'involvement': 2347, 'core': 995, 'pain': 3170, 'death': 1141, 'beloved': 461, 'caused': 724, 'decision': 1151, 'guilt': 1994, 'living': 2629, 'helping': 2081, 'standing': 4146, 'presence': 3373, 'saved': 3795, 'suffering': 4277, 'moral': 2902, 'initial': 2290, 'gods': 1928, 'creation': 1040, 'bible': 477, 'disease': 1285, 'singing': 3995, 'normal': 3033, 'destroyed': 1214, 'physically': 3263, 'condition': 937, 'nonsense': 3030, 'romantic': 3733, 'taxi': 4371, 'airport': 167, 'saves': 3796, 'eastwood': 1409, 'minor': 2857, 'miss': 2866, 'pair': 3176, 'inevitable': 2282, 'succeed': 4262, 'adults': 126, 'married': 2744, 'patrick': 3213, 'delivery': 1173, 'ensemble': 1492, 'addition': 118, 'pilot': 3276, 'develops': 1226, 'gene': 1879, 'kelly': 2452, 'ideas': 2215, 'musicals': 2948, 'mgm': 2828, 'creative': 1041, 'powers': 3361, 'working': 4944, 'unit': 4663, 'paris': 3189, 'players': 3299, 'editing': 1421, 'direction': 1261, 'vincent': 4746, 'designed': 1203, 'background': 380, 'lengthy': 2570, 'ballet': 389, 'poem': 3312, 'fine': 1729, 'material': 2766, 'deal': 1135, 'berlin': 467, 'normally': 3034, 'note': 3044, 'numbers': 3061, 'fair': 1630, 'lyrics': 2692, 'alan': 171, 'jay': 2386, 'admittedly': 123, 'thin': 4449, 'ex': 1549, 'ii': 2226, 'france': 1816, 'apartment': 265, 'bank': 394, 'artist': 307, 'eccentric': 1414, 'matters': 2770, 'shop': 3945, 'leslie': 2574, 'georges': 1894, 'excuse': 1564, 'flight': 1757, 'airplane': 166, 'kennedy': 2454, 'la': 2500, 'sings': 3997, 'dances': 1106, 'piano': 3264, 'quote': 3496, 'french': 1830, 'happened': 2027, 'sequences': 3888, 'words': 4938, 'later': 2525, 'surprise': 4312, 'upset': 4687, 'oscars': 3134, 'chosen': 805, 'beating': 425, 'heavily': 2069, 'fantasy': 1652, 'realism': 3549, 'upper': 4685, 'studios': 4241, 'talent': 4354, 'disagree': 1269, 'negative': 2991, 'vehicle': 4718, 'eddie': 1416, 'murphy': 2944, 'appeared': 276, 'critics': 1064, 'combined': 885, 'tension': 4404, 'mr': 2929, 'comedic': 888, 'golden': 1934, 'imaginative': 2237, 'popular': 3333, 'copies': 992, 'went': 4847, 'fast': 1661, 'list': 2617, 'rented': 3628, 'resident': 3647, 'critic': 1061, 'regular': 3592, 'ask': 316, 'favorites': 1672, 'recommended': 3572, 'marketing': 2741, 'purchase': 3469, 'market': 2740, 'library': 2589, 'victor': 4731, 'china': 795, 'rate': 3526, 'fit': 1740, 'theme': 4433, 'nature': 2975, 'remarks': 3615, 'presented': 3376, 'reality': 3551, 'depressing': 1188, 'entertainment': 1500, 'hong': 2149, 'kong': 2494, 'unknown': 4668, 'yesterday': 4983, 'placed': 3283, 'photography': 3260, 'difficult': 1249, 'lack': 2502, 'disjointed': 1287, 'frustration': 1843, 'masters': 2761, 'chinese': 796, 'pretentious': 3383, 'con': 928, 'disneys': 1290, 'latest': 2526, 'installment': 2303, 'pleasant': 3302, 'animated': 241, 'disney': 1289, 'limits': 2607, 'tarzan': 4367, 'thankfully': 4422, 'subtle': 4260, 'plain': 3286, 'happening': 2028, 'outside': 3146, 'tradition': 4549, 'possibilities': 3348, 'atlantis': 332, 'honest': 2146, 'project': 3427, 'viewer': 4738, 'produced': 3414, 'product': 3418, 'changing': 752, 'channels': 754, 'accidentally': 85, 'eye': 1611, 'impression': 2252, 'cinematic': 818, 'sixties': 4011, 'aside': 315, 'leading': 2547, 'household': 2179, 'appear': 273, 'hat': 2045, 'creating': 1039, 'bare': 398, 'studio': 4240, 'blue': 518, 'backgrounds': 381, 'generated': 1882, 'uninspired': 4657, 'inspired': 2301, 'ears': 1402, 'occasion': 3073, 'merely': 2815, 'dialogs': 1233, 'dimensional': 1253, 'attempted': 341, 'de': 1131, 'dutch': 1389, 'tim': 4494, 'books': 536, 'mystery': 2956, 'called': 652, 'moments': 2887, 'learn': 2550, 'van': 4713, 'plane': 3288, 'clear': 839, 'border': 539, 'perfectly': 3226, 'photographed': 3258, 'acted': 98, 'flashback': 1746, 'flash': 1745, 'der': 1191, 'grew': 1972, 'criminal': 1057, 'college': 875, 'students': 4239, 'mid': 2832, 'jumps': 2432, 'explains': 1589, 'spoilers': 4124, 'cave': 727, 'middle': 2833, 'everybody': 1540, 'succeeds': 4264, 'message': 2819, 'mini': 2854, 'novels': 3053, 'fortunately': 1805, 'helps': 2082, 'executive': 1567, 'producer': 3415, 'writer': 4968, 'huh': 2187, 'wide': 4880, 'range': 3516, 'richard': 3686, 'location': 2635, 'imagined': 2239, 'slightly': 4029, 'follow': 1772, 'attempt': 340, 'political': 3324, 'elements': 1443, 'actresses': 106, 'inspiration': 2300, 'meant': 2784, 'parody': 3192, 'trilogy': 4586, 'personal': 3240, 'mel': 2796, 'brooks': 596, 'brothers': 599, 'areas': 287, 'dropped': 1370, 'nobody': 3022, 'asked': 317, 'anymore': 258, 'empire': 1464, 'expectations': 1576, 'wore': 4939, 'believes': 456, 'grandfather': 1954, 'friendship': 1838, 'voice': 4761, 'likable': 2598, 'barry': 401, 'holds': 2131, 'comedies': 889, 'england': 1482, 'claim': 828, 'block': 508, 'drink': 1361, 'notch': 3043, 'funniest': 1851, 'songs': 4072, 'favourite': 1673, 'suffer': 4275, 'solve': 4060, 'illness': 2230, 'journey': 2421, 'pitt': 3280, 'lewis': 2586, 'michelle': 2830, 'language': 2516, 'dollars': 1315, 'cinemas': 817, 'familiar': 1643, 'effect': 1428, 'mine': 2853, 'underrated': 4642, 'educational': 1425, 'offer': 3087, 'faith': 1633, 'answers': 252, 'questions': 3489, 'provides': 3450, 'exceptionally': 1559, 'inner': 2292, 'struggles': 4235, 'decisions': 1152, 'paul': 3214, 'values': 4710, 'taught': 4370, 'ken': 2453, 'ellen': 1446, 'julia': 2427, 'donna': 1323, 'park': 3190, 'aspect': 321, 'nowadays': 3055, 'problems': 3409, 'powerful': 3360, 'nevertheless': 3002, 'focuses': 1768, 'peoples': 3222, 'alexander': 180, 'attitude': 346, 'talk': 4358, 'kinda': 2477, 'angel': 231, 'possible': 3350, 'angels': 234, 'artistic': 308, 'features': 1680, 'instance': 2304, 'appears': 278, 'faithful': 1634, 'fallen': 1638, 'sunshine': 4294, 'everywhere': 1545, 'joy': 2422, 'profound': 3423, 'touching': 4536, 'uncle': 4636, 'forces': 1788, 'rules': 3754, 'obsessed': 3069, 'older': 3101, 'issue': 2364, 'eric': 1514, 'prince': 3396, 'calm': 655, 'genuine': 1891, 'onto': 3111, 'terrifying': 4410, 'passed': 3202, 'seemingly': 3863, 'useless': 4695, 'pops': 3332, 'steal': 4170, 'month': 2896, 'originality': 3130, 'scare': 3803, 'purpose': 3474, 'held': 2074, 'none': 3028, 'respect': 3652, 'hed': 2072, 'earned': 1401, 'fear': 1676, 'hearts': 2066, 'subjects': 4254, 'comic': 893, 'relief': 3605, 'hopper': 2161, 'call': 651, 'added': 116, 'twice': 4613, 'mess': 2818, 'fat': 1663, 'fish': 1738, 'children': 792, 'bland': 500, 'depth': 1190, 'cable': 644, 'afternoon': 144, 'baseball': 403, 'sports': 4130, 'related': 3594, 'depiction': 1185, 'community': 908, 'mental': 2808, 'health': 2060, 'refreshing': 3586, 'jumping': 2431, 'melting': 2799, 'joseph': 2419, 'gordon': 1940, 'tear': 4379, 'road': 3709, 'convoluted': 987, 'ancient': 225, 'stick': 4185, 'comparison': 914, 'superficial': 4298, 'satire': 3788, 'arrives': 302, 'basis': 408, 'suit': 4284, 'mark': 2739, 'equal': 1509, 'clown': 862, 'self': 3869, 'mill': 2845, 'therefore': 4439, 'skills': 4014, 'doomed': 1327, 'unlike': 4670, 'behavior': 446, 'minded': 2850, 'specific': 4099, 'somehow': 4063, 'successful': 4266, 'narrative': 2966, 'influence': 2286, 'fault': 1668, 'bruce': 602, 'willis': 4890, 'measure': 2786, 'abraham': 69, 'morgan': 2905, 'freeman': 1829, 'mere': 2814, 'fails': 1628, 'angela': 232, 'grown': 1984, 'gotten': 1947, 'operation': 3117, 'born': 544, 'appropriate': 283, 'franchise': 1817, 'killings': 2473, 'nudity': 3059, 'elaborate': 1439, 'generally': 1881, 'goofy': 1939, 'asks': 319, 'gonna': 1936, 'phone': 3255, 'wondering': 4930, 'hair': 2005, 'dude': 1381, 'slasher': 4020, 'murdered': 2940, 'teenagers': 4391, 'usually': 4700, 'friday': 1834, '13th': 5, '90s': 61, 'learned': 2551, 'class': 833, 'method': 2824, 'madness': 2698, 'kills': 2474, 'drugs': 1374, 'developed': 1223, 'changed': 750, 'wicked': 4879, 'witch': 4909, 'west': 4852, 'control': 977, 'ha': 2002, 'demands': 1175, 'walked': 4776, 'ago': 154, 'portrayed': 3342, 'notice': 3048, 'hardly': 2036, '11': 2, 'hadnt': 2004, 'telling': 4396, 'guessed': 1990, 'menacing': 2807, 'easily': 1406, 'par': 3184, 'visuals': 4759, 'explore': 1594, 'concept': 930, 'disbelief': 1277, 'necessary': 2984, 'letting': 2583, 'annoyed': 248, 'losing': 2658, 'spoiler': 4123, 'territory': 4411, 'ludicrous': 2685, 'mention': 2810, 'experienced': 1581, 'realise': 3548, 'chances': 748, 'satisfied': 3789, 'alex': 179, 'dying': 1393, 'jr': 2423, 'ryan': 3765, 'meeting': 2794, 'emotion': 1458, 'happiness': 2031, 'downhill': 1336, 'satisfying': 3791, 'september': 3884, 'millions': 2848, 'gruesome': 1986, 'manner': 2729, 'victim': 4729, 'whose': 4877, 'sole': 4055, 'mission': 2870, 'destroy': 1213, 'importantly': 2248, 'loss': 2659, 'charlie': 765, 'adam': 111, 'sandler': 3781, 'former': 1800, 'dentist': 1180, 'loses': 2657, 'los': 2653, 'angeles': 233, 'events': 1536, 'touch': 4533, 'reminds': 3620, 'laws': 2540, 'mike': 2838, 'continues': 971, 'runs': 3757, 'don': 1320, 'slowly': 4032, 'practice': 3363, 'patient': 3211, 'perform': 3227, 'sees': 3866, 'coffee': 870, 'rock': 3720, 'artists': 309, 'unpleasant': 4674, 'puts': 3481, 'theyll': 4444, 'granted': 1957, 'important': 2247, 'swedish': 4335, 'throwing': 4480, 'window': 4894, 'military': 2844, 'police': 3322, 'officers': 3093, 'complicated': 925, 'performs': 3234, 'revolves': 3682, 'thousand': 4465, 'plausible': 3295, 'aliens': 184, 'landing': 2512, 'asleep': 320, 'dropping': 1371, 'filmmakers': 1720, 'focus': 1766, 'forgettable': 1794, 'industry': 2280, 'bridge': 578, 'match': 2762, 'treated': 4573, 'championship': 745, 'boxing': 556, 'contest': 967, 'square': 4136, 'area': 286, 'radio': 3504, 'delivers': 1172, 'matches': 2764, 'worked': 4941, 'indeed': 2271, 'provide': 3448, 'needed': 2988, 'miscast': 2862, 'frank': 1821, 'practically': 3362, '1940s': 13, 'unbearable': 4633, 'haunted': 2050, 'kay': 2447, 'leader': 2546, 'jones': 2418, 'hired': 2117, 'birthday': 487, 'party': 3200, 'mansion': 2731, 'africa': 141, 'hung': 2197, 'wall': 4781, 'professor': 3422, 'lots': 2662, 'females': 1694, 'fill': 1714, 'bob': 524, 'jimmy': 2403, 'johnny': 2410, 'considered': 951, 'carrie': 697, 'fury': 1855, 'mentioning': 2812, 'hitchcock': 2123, 'dressed': 1358, 'museum': 2945, 'key': 2458, 'inevitably': 2283, 'psycho': 3457, 'rip': 3700, 'tend': 4400, 'generous': 1886, 'category': 718, 'alongside': 196, 'lovers': 2673, 'filmmaker': 1719, 'sophisticated': 4075, 'rise': 3702, 'helped': 2080, 'suspenseful': 4331, '1980': 20, 'formulaic': 1803, 'corny': 997, 'ingredients': 2289, 'prostitute': 3440, 'witness': 4914, 'crime': 1055, 'murderer': 2941, 'uses': 4697, 'superbly': 4297, 'figures': 1713, 'stretch': 4221, 'themes': 4434, 'soft': 4051, 'afraid': 140, 'nancy': 2964, 'allen': 188, 'approach': 282, 'conceived': 929, 'mirror': 2861, 'treat': 4572, 'global': 1920, 'aspects': 322, 'smith': 4038, 'ratings': 3530, 'theyve': 4446, 'include': 2261, 'post': 3352, 'dawson': 1128, 'faults': 1669, 'theatrical': 4430, 'inept': 2281, 'suggest': 4280, '40s': 49, 'murderous': 2942, 'civil': 826, 'dangerous': 1110, 'horrific': 2166, 'rare': 3523, 'large': 2517, 'understood': 4647, 'atrocious': 335, 'redeeming': 3577, 'factor': 1622, 'crappy': 1032, 'consists': 955, 'troops': 4591, 'wives': 4918, 'hill': 2108, 'defeat': 1157, 'enemy': 1477, 'calling': 653, 'base': 402, 'order': 3126, 'covers': 1024, 'ground': 1979, 'wit': 4908, 'prevent': 3385, 'julie': 2428, 'harris': 2038, 'portrays': 3344, 'uncomfortable': 4637, 'conflict': 939, 'pulls': 3464, 'rank': 3518, 'narration': 2965, 'spends': 4107, 'british': 589, 'dancing': 1107, 'steals': 4172, 'exercise': 1568, 'board': 522, 'hands': 2020, 'major': 2711, 'tea': 4373, 'fatal': 1664, 'crash': 1033, 'logic': 2638, 'ruins': 3752, 'suddenly': 4273, 'apes': 267, 'monkeys': 2891, 'rick': 3689, 'testament': 4417, 'weve': 4856, 'monkey': 2890, 'field': 1704, 'generation': 1883, '60s': 54, 'burning': 627, 'cards': 683, 'moronic': 2907, 'importance': 2246, 'joan': 2404, 'astaire': 330, 'burns': 628, 'mistaken': 2872, 'stevens': 4183, 'contains': 964, 'stiff': 4187, 'secretary': 3850, 'double': 1331, 'trees': 4577, 'lousy': 2667, 'scarecrow': 3804, 'enjoys': 1489, 'sentence': 3881, 'justify': 2439, 'thinks': 4454, 'trash': 4565, 'adding': 117, 'current': 1084, 'boyfriend': 558, 'refuses': 3587, 'chases': 771, 'vengeance': 4719, 'official': 3094, 'tag': 4348, 'spite': 4117, 'abysmal': 76, 'level': 2584, 'nearly': 2981, 'risk': 3704, 'safe': 3771, 'art': 304, 'technical': 4381, 'skill': 4013, 'motion': 2913, 'secret': 3849, 'coherent': 871, 'houses': 2180, 'tale': 4353, 'revenge': 3675, 'affair': 135, 'returns': 3668, 'mrs': 2930, 'lover': 2672, 'described': 1195, 'brad': 560, 'cities': 823, 'property': 3438, 'theory': 4437, 'worlds': 4947, 'parallel': 3185, 'brown': 601, 'beauty': 430, 'doctor': 1304, 'girlfriend': 1910, 'bullet': 620, 'honestly': 2147, '16': 8, 'dire': 1257, 'mothers': 2912, 'wound': 4960, 'vs': 4767, 'speed': 4103, 'band': 391, 'speech': 4102, 'television': 4394, 'beaten': 424, 'cuts': 1091, 'commercial': 902, 'network': 3000, 'explaining': 1588, 'shake': 3914, 'versions': 4721, 'alternate': 200, 'regarding': 3589, 'huge': 2185, 'cares': 690, 'birth': 486, 'aware': 368, 'portraying': 3343, 'personality': 3242, 'speaking': 4095, 'spot': 4131, 'performing': 3233, 'ed': 1415, 'sullivan': 4288, 'accurate': 90, 'boys': 559, 'pre': 3365, 'arrival': 299, 'america': 212, 'critical': 1062, 'fox': 1814, 'emotions': 1461, 'brave': 567, 'leaving': 2557, 'capture': 676, 'guard': 1988, 'tough': 4537, 'comfortable': 892, 'ordinary': 3128, 'doc': 1303, 'dragon': 1344, 'classics': 837, 'asian': 314, 'managed': 2723, 'spoken': 4126, 'wood': 4933, 'stunt': 4245, 'opposite': 3123, 'bette': 471, 'james': 2378, 'cagney': 646, 'clark': 832, 'proves': 3447, 'gags': 1862, 'suited': 4286, 'suitable': 4285, 'jack': 2373, 'harry': 2039, 'william': 4887, 'cops': 993, 'irony': 2357, 'performers': 3232, 'achieve': 92, 'chemistry': 782, 'bride': 577, 'chuck': 812, 'entertained': 1498, 'politically': 3325, 'glory': 1922, 'worthless': 4954, 'qualities': 3483, 'countryside': 1015, 'cliche': 843, 'exact': 1550, 'united': 4664, 'states': 4163, 'europe': 1529, 'hates': 2048, 'junk': 2436, 'colour': 880, 'essentially': 1523, 'depicting': 1184, 'groups': 1981, 'existence': 1571, 'harsh': 2040, 'heads': 2059, 'alcohol': 176, 'kitchen': 2485, 'sink': 3999, 'drawing': 1350, 'heights': 2073, 'melodramatic': 2798, 'intriguing': 2335, 'guts': 1999, 'essence': 1521, 'frequently': 1832, 'cruel': 1070, 'bone': 533, 'blind': 506, 'faces': 1618, 'scream': 3826, 'someones': 4065, 'criticism': 1063, 'emily': 1456, 'featured': 1679, 'ralph': 3510, 'gothic': 1945, 'mtv': 2933, 'structure': 4233, 'beach': 419, 'catching': 716, 'space': 4090, 'explain': 1586, 'shouldnt': 3952, 'local': 2634, 'vampire': 4711, 'stylish': 4251, 'surprises': 4314, 'satisfy': 3790, 'surprisingly': 4316, 'gory': 1943, 'mild': 2839, 'regardless': 3590, 'delivering': 1171, 'unforgettable': 4652, 'neck': 2985, 'split': 4120, 'violent': 4748, '90': 60, 'welcome': 4842, 'wake': 4774, 'fetched': 1698, 'watches': 4814, 'closer': 856, 'acts': 107, 'violence': 4747, 'ran': 3513, 'lazy': 2543, 'user': 4696, 'deserve': 1199, 'april': 284, 'medium': 2792, 'devoid': 1230, 'screens': 3832, 'gray': 1963, 'pat': 3208, 'nick': 3012, 'aunt': 355, 'hoping': 2160, 'neighbors': 2994, 'shirley': 3936, 'immediately': 2242, 'horse': 2170, 'wild': 4885, 'handle': 2018, 'image': 2233, 'opportunities': 3120, 'grace': 1950, 'gorgeous': 1942, 'troubles': 4594, 'enjoying': 1487, 'andy': 230, 'bag': 384, 'department': 1182, 'gain': 1863, '1972': 18, 'national': 2970, 'pop': 3330, 'images': 2235, 'tricks': 4583, 'accompanied': 86, 'tiresome': 4502, 'total': 4531, 'bore': 540, 'reunion': 3669, 'gem': 1877, 'return': 3665, 'walter': 4784, 'subject': 4253, 'escapes': 1519, 'plans': 3292, 'naked': 2959, 'offers': 3090, 'directions': 1262, 'intelligence': 2313, 'promised': 3431, 'sitting': 4007, 'table': 4346, '24': 39, 'wing': 4896, 'agree': 155, 'expensive': 1579, 'station': 4164, 'sitcom': 4004, 'cost': 1003, 'chief': 788, 'suggests': 4282, 'listening': 2620, 'boss': 546, 'naive': 2958, 'junior': 2435, 'instantly': 2306, 'crimes': 1056, 'vulnerable': 4768, 'average': 362, 'scripts': 3836, 'instinct': 2308, 'slap': 4018, 'arrested': 298, 'development': 1225, 'merits': 2817, 'iran': 2350, 'lose': 2654, 'credibility': 1047, 'slightest': 4028, 'knowledge': 2491, 'landscape': 2513, 'train': 4556, 'wearing': 4831, 'banned': 395, 'turkey': 4604, 'indian': 2274, 'classical': 836, 'exotic': 1574, 'clothes': 860, 'fabulous': 1615, 'seeking': 3859, 'meaning': 2780, 'priest': 3392, 'stale': 4141, 'unreal': 4676, 'max': 2774, 'edited': 1420, 'disappear': 1270, 'dancer': 1104, 'carradine': 695, 'desert': 1198, 'noted': 3045, 'garbo': 1871, '30s': 44, 'wears': 4832, 'outfit': 3144, 'dinosaurs': 1256, 'bullets': 621, 'theyd': 4443, 'fire': 1734, 'heavy': 2070, 'challenge': 743, 'hunters': 2200, 'allow': 189, 'noise': 3024, 'bears': 421, 'charge': 761, 'wounded': 4961, 'pride': 3391, 'desperation': 1210, 'larger': 2519, 'hunting': 2201, 'counter': 1011, 'smaller': 4034, 'mexican': 2826, 'sacrifice': 3766, 'fed': 1682, 'et': 1526, 'uneven': 4649, 'soldiers': 4054, 'dinosaur': 1255, 'ticket': 4487, 'lay': 2542, 'trap': 4563, 'hide': 2097, 'walk': 4775, 'manage': 2722, 'energy': 1478, 'target': 4366, 'steel': 4173, 'explosion': 1596, 'jumped': 2430, 'rain': 3506, 'raw': 3532, 'mask': 2752, 'offered': 3088, 'eerie': 1427, 'beat': 423, 'hint': 2112, 'wave': 4818, 'shadow': 3912, 'heck': 2071, 'frightening': 1839, 'burton': 630, 'gone': 1935, 'baker': 385, 'texas': 4418, 'shoots': 3944, 'locked': 2637, 'monk': 2889, 'boat': 523, 'chase': 769, 'winds': 4895, 'catchy': 717, 'mitchell': 2875, 'mountain': 2917, 'rescue': 3643, 'gabriel': 1859, 'turner': 4607, 'threatening': 4468, 'win': 4892, 'trained': 4557, 'hall': 2009, 'team': 4378, 'arrive': 300, 'unaware': 4632, 'terrorists': 4414, 'led': 2558, 'psychotic': 3459, 'cases': 708, 'surrounding': 4319, 'incomprehensible': 2267, 'attracted': 349, 'viewed': 4737, 'newly': 3004, 'relatively': 3600, 'compared': 912, 'opera': 3116, 'singer': 3993, 'timing': 4498, 'rolling': 3730, 'ann': 244, 'splendid': 4119, 'jazz': 2387, 'appearances': 275, 'sounding': 4083, 'eve': 1532, 'perry': 3237, 'dick': 1239, 'barely': 399, 'button': 639, 'skin': 4015, 'wonderfully': 4929, 'duke': 1383, 'dancers': 1105, 'spooky': 4128, 'poverty': 3357, 'row': 3744, 'company': 910, 'bat': 410, 'german': 1896, 'bound': 553, 'masterpiece': 2759, 'graphics': 1959, 'weapons': 4829, 'impressive': 2253, 'pacing': 3163, 'todd': 4510, 'vision': 4754, 'professional': 3421, 'serve': 3893, 'screenwriter': 3833, 'fantastic': 1651, 'scott': 3824, 'stereotype': 4178, 'overdone': 3152, 'names': 2963, 'gary': 1873, 'roy': 3745, 'strictly': 4223, 'rambo': 3511, 'innovative': 2295, 'featuring': 1681, 'land': 2511, 'laura': 2536, 'thomas': 4458, 'thrills': 4475, 'surprising': 4315, 'thrilling': 4474, 'thrillers': 4473, 'dramas': 1347, 'ladies': 2506, 'idiot': 2218, 'vote': 4766, 'ocean': 3079, 'deserved': 1200, 'severe': 3906, 'term': 4405, 'anti': 254, 'occurred': 3077, 'mst3k': 2932, 'billy': 482, 'miracle': 2860, 'shall': 3916, 'gangster': 1868, 'anybody': 257, 'kidding': 2465, 'bar': 396, 'holiday': 2134, 'joined': 2413, 'required': 3641, 'disappeared': 1271, 'renting': 3629, 'advise': 134, 'foot': 1781, 'various': 4715, 'dear': 1140, 'thanks': 4423, 'rose': 3739, 'laughable': 2530, 'cringe': 1059, 'worthy': 4956, 'sum': 4289, 'travesty': 4570, 'choose': 799, 'laughably': 2531, 'amy': 222, 'unfortunate': 4653, 'snl': 4044, '2002': 32, '2006': 36, 'credits': 1050, 'spring': 4134, 'blank': 501, 'co': 867, 'parker': 3191, 'thirty': 4456, 'colors': 879, 'nights': 3016, 'parties': 3196, 'student': 4238, 'doubts': 1333, 'jane': 2380, 'lynch': 2691, 'whos': 4876, 'attractive': 351, 'vacation': 4704, 'ultimate': 4627, 'showdown': 3955, 'stole': 4194, 'spoiled': 4122, 'magazine': 2701, 'trademark': 4548, 'hopefully': 2157, 'allowed': 190, 'accept': 80, 'domestic': 1318, 'attorney': 348, 'private': 3404, 'security': 3854, 'staff': 4138, 'fancy': 1649, 'hire': 2116, 'brains': 563, 'unlikely': 4671, 'insult': 2309, 'drivel': 1364, 'veteran': 4724, 'insulting': 2310, 'offering': 3089, 'kung': 2498, 'snake': 4042, 'limited': 2606, 'styles': 4250, 'display': 1291, 'conflicts': 940, 'breath': 573, 'fresh': 1833, 'dave': 1123, 'recent': 3566, 'useful': 4694, 'hardy': 2037, 'joey': 2408, 'partner': 3198, 'carried': 698, 'titles': 4506, 'elsewhere': 1449, 'kane': 2442, 'costume': 1005, 'chris': 806, 'cared': 685, 'results': 3662, 'ride': 3692, 're': 3535, 'tremendous': 4579, 'visually': 4758, 'climactic': 848, 'tie': 4488, 'wilson': 4891, '60': 53, 'fits': 1741, 'ear': 1397, 'sadness': 3770, 'regret': 3591, 'visual': 4757, 'crafted': 1029, 'closely': 855, 'prepared': 3371, 'cameron': 661, 'altogether': 202, 'brilliance': 582, 'touched': 4534, 'league': 2549, 'react': 3540, 'ripped': 3701, 'boredom': 542, 'plots': 3310, 'mood': 2898, 'kevin': 2457, 'details': 1219, 'nation': 2969, 'clip': 851, 'episode': 1507, 'broke': 593, 'performer': 3231, 'marvelous': 2750, 'reveals': 3673, 'remind': 3618, 'dickens': 1240, 'sentimental': 3882, 'festival': 1697, 'castle': 712, 'documentary': 1307, 'smile': 4036, 'documentaries': 1306, 'influenced': 2287, 'waters': 4817, 'sci': 3815, 'fi': 1701, 'accident': 84, 'giant': 1905, 'intention': 2319, 'selling': 3873, 'rape': 3521, 'jeremy': 2394, 'unhappy': 4656, 'miserable': 2863, 'lucy': 2684, 'agent': 150, 'confusion': 943, 'transformation': 4560, 'finished': 1733, 'incredible': 2269, 'dealt': 1138, 'genre': 1888, 'clue': 864, 'frankly': 1823, 'unusual': 4681, 'whale': 4857, 'fare': 1655, 'ms': 2931, 'roberts': 3714, 'persona': 3239, 'shed': 3924, 'insight': 2298, 'fashioned': 1660, 'associated': 327, 'hated': 2047, 'praise': 3364, 'price': 3389, 'gold': 1932, 'eight': 1436, 'luckily': 2682, 'bothered': 549, 'sun': 4292, 'humans': 2190, 'agrees': 157, 'techniques': 4384, 'charming': 768, 'complaint': 920, 'purchased': 3470, 'dedicated': 1153, 'separate': 3883, 'hamilton': 2012, 'carries': 699, 'dignity': 1252, 'semi': 3874, 'integrity': 2311, 'christian': 808, 'scared': 3805, 'dreadful': 1353, 'chorus': 803, 'nostalgic': 3039, 'release': 3602, 'spin': 4112, 'st': 4137, 'timeless': 4496, 'fashion': 1659, 'model': 2880, 'moves': 2925, 'brooklyn': 595, 'encounters': 1467, 'neighbor': 2992, 'send': 3875, 'ice': 2210, 'builds': 617, 'topless': 4527, 'cannibal': 669, 'floor': 1759, 'stunts': 4246, 'threw': 4470, 'matrix': 2767, 'rangers': 3517, 'hey': 2095, 'jet': 2400, 'li': 2587, 'pants': 3182, 'jackie': 2374, 'chan': 746, 'admire': 121, 'below': 462, 'shocking': 3940, 'courage': 1018, 'notable': 3041, 'safety': 3772, 'filming': 1718, 'natural': 2973, 'reach': 3536, 'sneak': 4043, 'blatant': 502, 'substance': 4258, 'record': 3573, 'spoke': 4125, 'tribute': 4581, 'godfather': 1927, 'forever': 1792, 'ignorant': 2223, 'idiotic': 2219, 'realizing': 3555, 'offensive': 3086, 'prequel': 3372, 'concert': 935, 'science': 3816, 'presentation': 3375, 'bill': 481, 'ted': 4386, 'lacks': 2505, 'lights': 2597, 'smoke': 4039, 'skip': 4016, 'searching': 3842, 'protagonist': 3441, 'overly': 3155, 'lifestyle': 2593, 'fame': 1642, 'reputation': 3640, 'exposure': 1599, 'media': 2789, 'daily': 1097, 'social': 4049, 'center': 732, 'ignore': 2224, 'editor': 1423, 'pearl': 3220, 'proceedings': 3410, 'sutherland': 4333, 'douglas': 1334, 'service': 3896, 'chasing': 772, 'eva': 1531, 'finish': 1732, 'guessing': 1991, 'compelled': 915, 'ridiculously': 3694, 'finale': 1723, 'computer': 927, 'hopeless': 2158, 'invisible': 2344, 'mans': 2730, 'lab': 2501, 'extended': 1604, 'breasts': 572, 'whilst': 4869, 'increasingly': 2268, 'sheer': 3925, 'happily': 2030, 'hurt': 2202, 'treats': 4575, 'failing': 1627, 'laid': 2508, 'faster': 1662, 'strength': 4219, 'appearing': 277, 'reaching': 3539, 'heroes': 2089, 'falling': 1639, 'hitting': 2126, 'lesser': 2576, 'destruction': 1216, 'stage': 4139, 'anywhere': 263, 'saving': 3797, 'avoided': 364, 'costs': 1004, 'characterization': 759, 'stiller': 4189, 'hank': 2024, 'louise': 2666, 'rush': 3759, 'choreography': 802, 'news': 3005, 'report': 3635, 'kiss': 2483, 'pleasure': 3306, 'pitch': 3279, 'directly': 1263, 'consistently': 954, 'wes': 4851, 'macy': 2695, 'hints': 2113, 'reveal': 3670, 'cube': 1076, 'roots': 3738, 'developing': 1224, 'unnecessary': 4672, 'monsters': 2893, 'achieved': 93, 'equipment': 1511, 'embarrassment': 1455, 'text': 4419, 'racist': 3503, 'imagery': 2234, 'racism': 3502, 'bakshi': 386, 'powell': 3358, 'jean': 2389, 'whom': 4875, 'ginger': 1908, 'rogers': 3725, 'witty': 4917, 'served': 3894, 'bringing': 586, 'raise': 3507, 'dies': 1245, 'solution': 4059, 'suspect': 4327, 'wacky': 4769, 'arrived': 301, 'statement': 4162, 'situation': 4008, 'east': 1407, 'meat': 2787, 'quiet': 3492, 'americas': 215, 'finest': 1730, 'sign': 3970, 'army': 295, 'government': 1948, 'vampires': 4712, 'damn': 1100, 'illegal': 2229, 'disgusting': 1286, 'humorous': 2193, 'ninja': 3018, 'slick': 4026, 'knife': 2487, 'segment': 3867, 'highlight': 2103, 'ahead': 159, 'implausible': 2245, 'countless': 1012, 'strike': 4224, 'alas': 172, 'currently': 1085, 'prison': 3401, 'commentary': 899, 'anthony': 253, 'eighties': 1437, 'checking': 778, 'comparing': 913, 'ashamed': 312, 'fathers': 1667, 'demons': 1178, 'darkness': 1117, 'advanced': 128, 'civilization': 827, 'edward': 1426, 'trail': 4553, 'context': 968, 'embarrassed': 1453, 'capable': 672, 'load': 2631, 'goodness': 1938, 'nuclear': 3057, 'spending': 4106, 'jessica': 2398, 'simpson': 3987, 'stock': 4193, 'quotes': 3497, 'dumb': 1385, 'food': 1778, 'steven': 4182, 'utterly': 4702, 'boll': 529, 'wars': 4804, 'narrator': 2967, 'incoherent': 2265, 'ham': 2011, 'handed': 2016, 'chaos': 755, 'caring': 691, 'creatures': 1046, 'ironically': 2356, 'planned': 3290, 'lowest': 2678, 'hopes': 2159, 'tiny': 4500, 'nyc': 3065, 'club': 863, 'madonna': 2699, 'spectacular': 4101, 'doors': 1329, 'kingdom': 2480, 'sharp': 3922, 'excitement': 1562, 'folks': 1771, 'fx': 1858, 'jake': 2377, 'tape': 4365, 'scale': 3802, 'correct': 1000, 'horses': 2171, 'intelligent': 2314, 'lion': 2614, 'season': 3843, 'shakespeare': 3915, '20th': 38, 'century': 736, 'eg': 1434, 'branagh': 564, 'efforts': 1433, 'tedious': 4387, 'mann': 2728, 'western': 4853, 'gangsters': 1869, 'shelley': 3928, 'winters': 4901, 'questionable': 3488, 'complex': 923, 'tony': 4521, 'legend': 2564, 'loyal': 2679, 'involves': 2348, 'japan': 2381, 'sword': 4340, 'mountains': 2918, 'began': 441, 'historically': 2120, 'extra': 1606, 'convey': 982, 'fascinating': 1658, 'drunk': 1375, 'killers': 2471, 'robin': 3715, 'intrigue': 2333, 'position': 3345, 'activities': 102, 'naturally': 2974, 'tall': 4362, 'handsome': 2021, 'unconvincing': 4638, 'extreme': 1609, 'overlook': 3153, 'personalities': 3241, 'confidence': 938, 'reasonably': 3559, 'buffs': 612, 'transition': 4561, 'build': 614, 'thief': 4448, '2005': 35, 'succeeded': 4263, 'miserably': 2864, 'brief': 579, 'encounter': 1466, 'sensitive': 3879, 'dvds': 1392, 'figured': 1712, 'decade': 1144, 'graphic': 1958, 'devoted': 1231, 'mob': 2879, 'witnesses': 4916, 'forced': 1787, 'seeks': 3860, 'chicago': 785, 'law': 2538, 'reads': 3545, 'teeth': 4393, 'tortured': 4530, 'stunning': 4244, 'hundreds': 2196, 'suits': 4287, 'travel': 4567, 'cgi': 740, 'winner': 4897, 'mechanical': 2788, 'niro': 3019, 'brando': 566, 'noir': 3023, 'driving': 1368, 'lit': 2621, 'impact': 2244, 'redemption': 3578, 'places': 3284, 'masses': 2755, 'speak': 4094, 'actions': 101, 'delivered': 1170, 'everyones': 1543, 'generic': 1885, 'awfully': 373, 'enters': 1496, 'drinking': 1362, 'beats': 426, 'rocky': 3723, 'distinct': 1296, 'honor': 2150, 'dolph': 1317, 'lees': 2560, 'senseless': 3878, 'jason': 2383, 'breaking': 570, 'sidekick': 3966, 'drive': 1363, 'presumably': 3380, 'hotel': 2175, 'touches': 4535, 'drags': 1345, 'agreed': 156, 'concerned': 932, 'bother': 548, 'funeral': 1849, 'quit': 3494, 'business': 633, 'properly': 3437, 'bloody': 513, 'charismatic': 763, 'wise': 4903, 'mafia': 2700, 'sandra': 3782, 'pal': 3177, 'ruthless': 3764, 'briefly': 580, 'sight': 3969, 'yellow': 4981, 'childrens': 793, 'screening': 3830, 'aged': 149, '17': 9, 'eager': 1396, 'angles': 237, 'anne': 246, 'sally': 3776, 'oddly': 3081, 'won': 4925, 'captain': 674, 'paid': 3169, 'sea': 3838, 'russell': 3761, 'memory': 2804, 'contrast': 975, 'bath': 411, 'crucial': 1068, 'drawn': 1351, 'moved': 2922, 'lips': 2615, 'views': 4742, 'pity': 3281, 'ruin': 3750, 'rats': 3531, 'embarrassing': 1454, 'rat': 3525, 'tight': 4492, 'blows': 517, 'favor': 1670, 'warner': 4799, 'flynn': 1765, 'died': 1244, 'maker': 2714, 'directs': 1267, 'poignant': 3315, 'ward': 4793, 'concerns': 934, 'forty': 1807, 'included': 2262, 'jealous': 2388, 'pursuit': 3476, 'extraordinary': 1607, 'ned': 2986, 'beatty': 427, 'proud': 3444, 'warrior': 4802, 'woods': 4935, 'nuts': 3064, 'reynolds': 3684, 'levels': 2585, 'danger': 1109, 'amounts': 220, 'symbolism': 4341, 'driver': 1366, 'blade': 495, 'unintentional': 4658, 'following': 1774, 'draw': 1349, 'amazingly': 210, 'prom': 3429, 'roman': 3731, 'african': 142, 'chose': 804, 'literature': 2623, 'christopher': 811, 'stilted': 4190, 'wished': 4905, 'authority': 360, 'warning': 4800, 'machine': 2693, 'intrigued': 2334, 'williams': 4888, 'folk': 1770, 'complain': 919, 'green': 1971, 'pan': 3180, 'master': 2757, 'mile': 2842, 'engaged': 1480, 'per': 3223, 'episodes': 1508, 'south': 4087, 'realizes': 3554, 'captures': 678, 'mainstream': 2709, 'schools': 3814, 'surfing': 4311, 'heat': 2067, 'shorts': 3948, 'paper': 3183, 'punk': 3468, 'edge': 1418, 'corporate': 998, 'keeping': 2450, 'pushing': 3479, 'bold': 528, 'ourselves': 3140, 'solely': 4056, 'werewolf': 4850, 'adventures': 131, 'superman': 4301, 'wed': 4835, 'visible': 4753, 'crowd': 1067, 'luke': 2687, 'reasonable': 3558, 'cause': 723, 'bud': 607, 'advantage': 129, 'familys': 1646, 'choices': 798, 'cried': 1054, 'unpredictable': 4675, 'scooby': 3820, 'doo': 1325, 'nor': 3032, 'zone': 4999, 'forgive': 1795, 'facial': 1619, 'voiced': 4762, 'unoriginal': 4673, 'childish': 791, 'cox': 1026, 'laurel': 2537, 'ghost': 1902, 'recall': 3562, 'rated': 3527, 'pie': 3271, 'lord': 2652, 'provoking': 3452, 'fest': 1696, 'vague': 4705, 'san': 3780, 'willing': 4889, 'handful': 2017, 'hospital': 2172, 'latin': 2527, 'warned': 4798, 'fascinated': 1657, 'revelation': 3674, 'le': 2544, 'comical': 894, 'introduce': 2336, 'bbc': 417, 'locations': 2636, 'adapted': 114, 'bitter': 491, 'lasted': 2522, 'eyed': 1612, 'armed': 293, 'photo': 3257, 'similarly': 3980, 'experiences': 1582, 'receive': 3563, 'recognition': 3568, 'poster': 3353, 'argument': 291, 'intentions': 2321, 'kate': 2446, 'hugh': 2186, 'loosely': 2651, 'louis': 2665, 'serving': 3897, 'borrowed': 545, 'string': 4227, 'colonel': 876, 'prisoner': 3402, 'scottish': 3825, 'catches': 715, 'alcoholic': 177, 'pleased': 3305, 'instant': 2305, 'subplot': 4255, 'hearted': 2065, 'allowing': 191, 'anna': 245, 'spirited': 4114, 'appealing': 272, 'genuinely': 1892, 'richardson': 3688, 'concern': 931, 'settings': 3901, 'ireland': 2352, 'germany': 1898, 'elegant': 1441, 'cake': 648, 'assume': 328, 'struck': 4232, 'sheriff': 3929, 'raising': 3509, 'regard': 3588, 'disappoint': 1272, 'remotely': 3623, 'remains': 3611, 'literally': 2622, 'status': 4165, 'judy': 2426, 'temple': 4398, 'blame': 499, 'rex': 3683, 'reed': 3580, 'retired': 3664, 'deaf': 1134, 'halfway': 2008, 'damage': 1099, 'resembles': 3646, 'meaningful': 2781, 'pleasantly': 3303, 'faced': 1617, 'village': 4743, 'mixture': 2878, 'samurai': 3779, 'returning': 3667, 'survival': 4320, 'uk': 4626, 'directorial': 1265, 'craig': 1030, 'rage': 3505, 'understated': 4646, 'initially': 2291, 'threat': 4467, 'imitation': 2241, 'resulting': 3661, 'worthwhile': 4955, 'owner': 3159, 'adequate': 120, 'dorothy': 1330, 'ridden': 3691, 'plight': 3308, 'returned': 3666, 'projects': 3428, 'broadway': 592, 'greater': 1965, 'loser': 2655, 'kudos': 2497, 'expressions': 1603, 'affected': 137, '40': 48, 'university': 4667, 'teaching': 4377, 'merit': 2816, 'enormous': 1490, 'education': 1424, 'study': 4242, 'raised': 3508, 'intentionally': 2320, 'valley': 4707, 'quick': 3490, 'pulling': 3463, 'ford': 1789, 'improved': 2255, 'player': 3298, 'wreck': 4965, 'talks': 4361, 'acceptable': 81, 'enter': 1494, 'theatre': 4429, 'sappy': 3784, 'frame': 1815, 'rolled': 3729, 'bright': 581, 'entry': 1504, 'attempting': 342, 'access': 83, 'glimpse': 1919, 'calls': 654, 'composed': 926, 'unable': 4631, 'print': 3399, 'coach': 868, 'youth': 4994, 'cutting': 1092, 'eating': 1413, 'award': 366, 'stellar': 4174, 'woody': 4936, 'shy': 3962, 'stays': 4169, 'introduction': 2339, 'creature': 1045, 'superhero': 4299, 'voices': 4763, 'careers': 687, 'conversation': 980, 'removed': 3624, 'mundane': 2938, 'dogs': 1311, 'birds': 485, 'carter': 703, 'batman': 413, '3000': 43, 'lacked': 2503, 'lake': 2509, 'entertain': 1497, 'dozens': 1339, 'ruined': 3751, 'wishes': 4906, 'aired': 165, 'becoming': 435, 'native': 2972, 'sides': 3967, 'struggle': 4234, 'support': 4303, 'weight': 4840, 'highlights': 2104, '1st': 28, 'francisco': 1819, 'raymond': 3534, 'race': 3499, 'alien': 183, 'tongue': 4518, 'lawrence': 2539, 'mario': 2738, 'prime': 3395, 'memories': 2803, 'oil': 3097, 'jeff': 2390, 'paranoia': 3186, 'wishing': 4907, 'remote': 3622, 'revealing': 3672, 'tracy': 4546, 'unique': 4662, 'virus': 4752, 'classes': 834, 'youd': 4987, 'outer': 3143, 'wet': 4855, 'fisher': 1739, 'kirk': 2482, 'rubber': 3747, 'canadian': 667, 'nicholson': 3011, 'produce': 3413, 'element': 1442, 'tends': 4402, 'secrets': 3852, 'unfolds': 4651, 'marty': 2749, 'acid': 95, 'resemblance': 3645, 'corpse': 999, 'signs': 3973, 'nervous': 2999, 'jaws': 2385, 'chased': 770, 'nurse': 3063, 'shortly': 3947, 'thoroughly': 4459, 'attitudes': 347, 'stanley': 4148, 'wealth': 4826, 'buried': 624, 'legal': 2563, 'signed': 3971, 'international': 2326, 'clothing': 861, 'britain': 588, 'sell': 3871, 'closed': 854, 'capital': 673, 'cia': 814, 'moon': 2900, 'football': 1783, 'task': 4368, 'contain': 962, 'mars': 2746, 'psychiatrist': 3455, 'brand': 565, 'conservative': 948, 'elizabeth': 1445, 'bite': 489, 'fly': 1763, 'rarely': 3524, 'pointless': 3318, 'amateur': 206, 'firstly': 1737, 'emphasis': 1463, 'belongs': 460, 'horribly': 2164, 'thoughts': 4464, 'photographer': 3259, 'hippie': 2115, 'india': 2273, 'beliefs': 452, 'ships': 3935, 'information': 2288, 'indians': 2275, 'arrogant': 303, 'waves': 4819, 'walls': 4783, 'false': 1641, 'zero': 4996, 'creates': 1038, 'hitler': 2124, 'wasting': 4810, 'worried': 4949, 'lonely': 2643, 'religious': 3608, '1950s': 14, 'communist': 907, 'frustrated': 1842, 'decades': 1145, 'bus': 631, 'melodrama': 2797, 'represents': 3639, 'hudson': 2184, 'bacall': 377, 'paying': 3217, 'academy': 77, 'breaks': 571, 'bedroom': 437, 'strangely': 4212, 'showcase': 3954, 'freedom': 1828, 'kubrick': 2496, 'orange': 3125, 'earl': 1398, 'pregnant': 3369, 'restaurant': 3658, 'recognized': 3570, 'intimate': 2331, 'ruth': 3763, 'maria': 2736, 'learns': 2553, 'lena': 2568, 'alert': 178, 'jewish': 2401, 'nine': 3017, 'nazi': 2977, 'von': 4765, 'treatment': 4574, 'wwii': 4975, 'misery': 2865, 'trick': 4582, 'racial': 3501, 'thru': 4483, 'bucks': 606, 'digital': 1251, 'revolution': 3680, 'soap': 4047, 'lucas': 2680, 'peace': 3219, 'nasty': 2968, 'opinions': 3119, 'warn': 4797, 'duty': 1390, 'slapstick': 4019, 'revolutionary': 3681, 'franco': 1820, 'vicious': 4728, 'throws': 4482, '14': 6, 'remarkable': 3613, 'brady': 561, 'buddy': 609, 'donald': 1321, 'waitress': 4773, 'lie': 2590, 'sinatra': 3989, 'gifted': 1907, 'dean': 1139, 'jerry': 2396, 'mickey': 2831, 'mouse': 2919, 'nominated': 3025, 'shocked': 3939, 'todays': 4509, 'battles': 415, 'weakest': 4825, 'silence': 3974, 'slaughter': 4021, 'fields': 1705, 'diane': 1238, 'drives': 1367, 'universe': 4666, 'bonus': 534, 'cell': 730, 'seat': 3845, 'card': 681, 'cop': 991, 'investigate': 2342, 'construction': 960, 'defense': 1159, 'omen': 3104, 'satan': 3787, 'jon': 2416, 'lincoln': 2608, 'reactions': 3542, 'focusing': 1769, 'fonda': 1777, 'storytelling': 4209, 'tales': 4357, 'explained': 1587, 'daughters': 1122, 'beast': 422, 'morality': 2903, 'scripted': 3835, 'beer': 439, 'campy': 664, 'possibility': 3349, 'count': 1010, 'smart': 4035, 'truck': 4595, 'blond': 510, 'holy': 2140, 'washington': 4806, 'jennifer': 2392, 'humble': 2191, 'criminals': 1058, 'affect': 136, 'balance': 387, 'afterwards': 145, 'aka': 168, 'awards': 367, 'basement': 405, 'fitting': 1742, 'march': 2734, 'titled': 4505, 'discovery': 1282, 'warming': 4795, 'liberal': 2588, 'cliff': 847, 'comics': 895, 'drew': 1360, 'bobby': 525, 'weekend': 4838, 'massacre': 2754, 'hills': 2109, 'haunting': 2051, 'spent': 4108, 'causes': 725, 'soldier': 4053, 'execution': 1566, 'sake': 3775, 'crude': 1069, 'starred': 4153, 'singers': 3994, 'buff': 611, 'built': 618, 'enterprise': 1495, 'scenario': 3808, 'explicit': 1591, 'discovered': 1280, 'ideal': 2214, 'benefit': 465, 'invasion': 2340, 'feelings': 1686, 'wannabe': 4787, 'deeper': 1155, 'saga': 3773, 'iii': 2227, 'aging': 153, 'ambitious': 211, 'riveting': 3708, 'unbelievably': 4635, 'greatly': 1967, 'pretend': 3381, 'exist': 1569, 'learning': 2552, 'centered': 733, 'politics': 3326, 'occur': 3076, 'overcome': 3151, 'size': 4012, 'failure': 1629, 'california': 650, 'hang': 2022, 'bush': 632, 'villains': 4745, 'raped': 3522, 'aid': 160, 'ease': 1404, 'planning': 3291, 'jackson': 2375, 'alike': 185, 'proof': 3434, 'hooked': 2153, 'cole': 873, 'buck': 605, 'blacks': 494, 'mysteries': 2954, '75': 57, 'spiritual': 4116, 'bodies': 526, 'blend': 504, 'forest': 1791, '1980s': 21, 'stated': 4161, 'lane': 2515, 'holly': 2136, 'pamela': 3179, 'minimum': 2856, 'twelve': 4611, 'vast': 4716, 'cheated': 775, 'successfully': 4267, 'trapped': 4564, 'responsibility': 3655, 'steps': 4177, 'dozen': 1338, 'ugly': 4625, 'purposes': 3475, 'depicts': 1186, 'workers': 4943, 'sold': 4052, 'countries': 1013, 'dubbed': 1379, 'montana': 2895, 'contrary': 974, 'accomplished': 87, 'hurts': 2203, 'rule': 3753, 'blowing': 515, 'slight': 4027, 'passes': 3203, 'sits': 4006, 'closest': 857, 'candy': 668, 'meaningless': 2782, 'hatred': 2049, 'disaster': 1276, 'uninteresting': 4660, 'equivalent': 1512, 'possessed': 3347, 'eaten': 1412, 'tree': 4576, 'cardboard': 682, 'design': 1202, 'grandmother': 1955, 'repeat': 3630, 'blah': 496, 'destroying': 1215, 'technology': 4385, 'philosophy': 3254, 'consistent': 953, 'womens': 4924, 'inferior': 2285, 'primarily': 3393, 'minds': 2852, 'pg': 3250, 'endings': 1472, 'resolution': 3649, 'claire': 831, 'interaction': 2322, 'relationships': 3598, 'intellectual': 2312, 'mummy': 2937, 'portion': 3338, '1960s': 15, 'stan': 4142, 'significant': 3972, 'finger': 1731, 'ya': 4976, 'sleeping': 4025, 'virgin': 4749, 'smiling': 4037, 'contemporary': 965, 'existent': 1572, 'clichés': 846, 'jaw': 2384, 'existed': 1570, 'itll': 2369, 'program': 3424, 'petty': 3249, 'dreary': 1356, 'winter': 4900, 'hamlet': 2013, 'yelling': 4980, 'heston': 2094, 'mighty': 2836, 'ghosts': 1903, 'overacting': 3149, 'dress': 1357, 'pot': 3354, 'bottle': 550, 'competent': 917, 'intensity': 2317, 'displayed': 1292, 'determined': 1221, 'represented': 3638, 'torn': 4528, 'commit': 904, 'convinced': 984, 'achievement': 94, 'cusack': 1088, 'passion': 3205, 'drop': 1369, 'twists': 4619, 'consequences': 947, 'princess': 3397, 'north': 3036, 'cook': 988, 'species': 4098, 'bo': 521, 'lol': 2640, 'detective': 1220, 'friendly': 1836, 'protect': 3443, 'colorful': 878, 'gentle': 1890, 'guest': 1992, 'creator': 1043, 'fairy': 1632, 'essential': 1522, 'paulie': 3215, 'lies': 2591, 'assumed': 329, 'cd': 728, 'album': 175, 'walken': 4777, 'propaganda': 3435, 'phony': 3256, 'pseudo': 3454, 'sean': 3840, 'models': 2881, 'hype': 2207, 'teacher': 4375, 'harvey': 2042, 'che': 773, 'defined': 1160, 'discuss': 1283, 'cuba': 1075, 'distracting': 1297, 'greek': 1970, 'supernatural': 4302, 'balls': 390, 'strikes': 4225, 'likewise': 2603, 'spread': 4133, 'popcorn': 3331, 'secretly': 3851, 'kidnapped': 2466, 'via': 4726, 'conventional': 979, 'driven': 1365, 'movement': 2923, 'format': 1799, 'wind': 4893, 'brutally': 604, 'displays': 1293, 'arm': 292, 'lust': 2689, 'goal': 1925, 'seasons': 3844, 'root': 3737, 'manipulative': 2727, 'nonetheless': 3029, 'punishment': 3467, 'charisma': 762, 'blake': 498, 'gritty': 1977, 'marks': 2742, 'internet': 2327, 'church': 813, 'closet': 858, 'columbo': 881, 'murders': 2943, 'falk': 1636, 'creators': 1044, 'unexpected': 4650, 'inventive': 2341, 'robbins': 3712, 'porno': 3337, 'conspiracy': 956, 'sunday': 4293, 'chick': 786, '2nd': 41, 'pit': 3278, 'officer': 3092, 'defend': 1158, 'davies': 1125, 'sexuality': 3909, 'shoes': 3941, 'stress': 4220, '18': 10, 'tad': 4347, 'ass': 323, 'audio': 354, 'trailers': 4555, 'basketball': 409, 'boom': 537, 'magical': 2704, 'bugs': 613, 'gradually': 1952, 'citizen': 824, 'wizard': 4919, 'oz': 3160, 'demand': 1174, 'denzel': 1181, 'crocodile': 1065, 'antics': 255, 'watchable': 4812, 'photos': 3261, 'amongst': 218, 'cruise': 1071, 'germans': 1897, 'usa': 4691, 'relevant': 3604, 'greed': 1968, 'relations': 3596, 'greedy': 1969, 'brazil': 568, 'thrill': 4471, 'appalling': 268, 'menace': 2806, 'infamous': 2284, 'horrifying': 2167, 'sadistic': 3768, 'leo': 2571, 'brenda': 575, 'cowboy': 1025, 'poetic': 3313, 'rights': 3697, 'mayor': 2777, 'draws': 1352, 'orders': 3127, 'pig': 3274, 'boot': 538, 'hundred': 2195, 'cats': 721, 'teenage': 4389, 'respected': 3653, 'rushed': 3760, 'controversial': 978, 'exceptional': 1558, 'masterful': 2758, 'investigation': 2343, 'reviewer': 3677, 'recorded': 3574, 'stood': 4199, 'homer': 2144, 'serves': 3895, 'combat': 882, 'causing': 726, 'holmes': 2139, 'competition': 918, 'noble': 3021, 'packed': 3166, 'lessons': 2578, 'subtlety': 4261, 'mate': 2765, 'fever': 1699, 'ties': 4490, 'receives': 3565, 'letter': 2581, 'traveling': 4568, 'aint': 163, 'valuable': 4708, 'maintain': 2710, 'clips': 852, 'rocket': 3721, 'broadcast': 591, 'principal': 3398, 'connect': 944, 'bourne': 554, 'isolated': 2363, 'striking': 4226, 'parent': 3187, 'suspicious': 4332, 'sidney': 3968, 'carefully': 689, 'ironic': 2355, 'simplicity': 3984, 'rap': 3520, 'cartoons': 705, 'vegas': 4717, 'reel': 3581, 'grave': 1962, 'oliver': 3102, '2004': 34, 'credible': 1048, 'angle': 236, 'kurt': 2499, 'awesome': 371, 'abilities': 64, 'frequent': 1831, 'definition': 1163, 'beneath': 464, 'generations': 1884, 'vivid': 4760, 'portrait': 3339, 'occasionally': 3075, 'flies': 1756, 'tour': 4538, 'ought': 3138, 'contact': 961, 'norman': 3035, 'worn': 4948, 'arguably': 289, 'factory': 1623, 'immensely': 2243, 'outcome': 3142, 'assault': 324, 'nicholas': 3010, 'dollar': 1314, 'widely': 4881, 'feed': 1683, 'artificial': 306, 'christians': 809, 'amateurish': 207, 'chair': 742, 'cartoon': 704, '3rd': 47, 'notorious': 3051, 'atmospheric': 334, 'accused': 91, '1996': 26, 'journalist': 2420, 'jonathan': 2417, 'struggling': 4236, 'australia': 356, 'divorce': 1301, 'depressed': 1187, 'explanation': 1590, 'rooms': 3736, '35': 45, '50': 51, 'careful': 688, 'precious': 3366, 'swear': 4334, 'host': 2173, 'pretending': 3382, 'miller': 2846, 'relatives': 3601, 'connected': 945, 'motivation': 2914, 'shell': 3927, 'throat': 4476, 'flawless': 1751, 'warmth': 4796, 'anime': 243, 'vice': 4727, 'masterpieces': 2760, 'stone': 4197, 'silver': 3977, 'secondly': 3847, 'bollywood': 530, 'represent': 3637, 'relies': 3606, 'absence': 70, 'stronger': 4230, 'spain': 4091, 'virginia': 4750, 'listed': 2618, 'remarkably': 3614, 'rebel': 3561, 'worker': 4942, 'sympathetic': 4342, 'nonsensical': 3031, 'president': 3378, 'detailed': 1218, 'clues': 865, 'businessman': 634, 'deliberately': 1166, 'belong': 459, 'chest': 784, 'neat': 2982, 'definite': 1161, 'appreciated': 280, 'hyde': 2206, 'craven': 1034, 'bleak': 503, 'desired': 1206, 'online': 3109, 'agents': 151, 'montage': 2894, '80': 58, 'repeatedly': 3632, 'ape': 266, '70': 55, 'icon': 2211, 'prior': 3400, 'push': 3477, 'swim': 4337, 'jungle': 2434, 'neil': 2995, 'hideous': 2098, 'triumph': 4590, 'wins': 4899, 'routine': 3743, 'glass': 1917, 'neighborhood': 2993, 'metal': 2823, 'irrelevant': 2358, 'rendition': 3625, 'poetry': 3314, 'molly': 2884, 'quirky': 3493, 'viewings': 4741, '2007': 37, 'suggested': 4281, 'reflection': 3585, 'overlooked': 3154, 'notion': 3050, 'primary': 3394, 'spare': 4093, 'heroic': 2090, 'flawed': 1750, 'facing': 1620, 'alfred': 181, 'craft': 1028, 'cleverly': 842, 'wayne': 4821, 'rid': 3690, 'morris': 2908, 'circle': 821, 'curse': 1086, 'nelson': 2997, 'hal': 2006, 'teens': 4392, 'occurs': 3078, 'estate': 1525, 'justin': 2440, 'ethan': 1528, 'maggie': 2702, 'synopsis': 4344, 'snow': 4045, 'deceased': 1146, 'glorious': 1921, 'foul': 1810, 'hbo': 2055, 'matt': 2768, 'moore': 2901, 'duo': 1386, 'ultra': 4629, 'aforementioned': 139, 'newspaper': 3006, 'spider': 4109, 'unsettling': 4679, 'combine': 884, 'futuristic': 1857, 'gotta': 1946, 'seagal': 3839, 'fighter': 1708, 'subsequent': 4257, 'staying': 4168, 'recording': 3575, 'scores': 3823, 'pack': 3165, 'manager': 2724, 'blues': 519, 'seek': 3858, 'trashy': 4566, 'suspects': 4328, 'motivations': 2915, 'beings': 449, 'scientific': 3817, 'claimed': 829, 'cheese': 780, 'mexico': 2827, 'press': 3379, 'philip': 3252, 'mildred': 2841, 'plague': 3285, 'advance': 127, 'convince': 983, 'potentially': 3356, 'feminist': 1695, 'corruption': 1002, 'believing': 457, 'accepted': 82, 'tooth': 4524, 'robot': 3717, 'forbidden': 1785, 'cabin': 643, 'focused': 1767, 'pulp': 3465, 'trade': 4547, 'conversations': 981, 'sue': 4274, 'splatter': 4118, 'wolf': 4920, 'clichéd': 845, 'incompetent': 2266, 'tame': 4363, 'accents': 79, 'inappropriate': 2259, 'hammer': 2014, 'centers': 734, 'device': 1227, 'cinematographer': 819, 'videos': 4734, 'expression': 1602, 'perfection': 3225, 'matched': 2763, 'reaches': 3538, 'slave': 4022, 'daniel': 1111, 'widow': 4883, 'surface': 4310, 'seventies': 3904, 'gas': 1874, 'describes': 1196, 'tunes': 4603, 'bands': 392, 'subtitles': 4259, 'discover': 1279, 'scheme': 3812, 'explosions': 1597, 'kicked': 2461, 'reflect': 3584, 'farce': 1654, 'neo': 2998, 'differences': 1247, 'messages': 2820, 'formula': 1802, 'edition': 1422, 'segments': 3868, 'landscapes': 2514, 'khan': 2459, 'rotten': 3740, 'argue': 290, 'lisa': 2616, 'bathroom': 412, 'afford': 138, 'jeffrey': 2391, 'broad': 590, 'assistant': 326, 'comedian': 887, 'leonard': 2572, 'losers': 2656, 'excessive': 1560, 'motives': 2916, 'hilariously': 2107, 'keaton': 2448, 'visits': 4756, 'storm': 4206, 'numerous': 3062, 'june': 2433, 'bumbling': 622, 'da': 1094, 'facts': 1624, 'protagonists': 3442, 'grasp': 1960, 'ensues': 1493, 'troubled': 4593, 'movements': 2924, 'technique': 4383, 'thugs': 4484, 'complexity': 924, 'kissing': 2484, 'seed': 3856, 'gundam': 1997, 'eastern': 1408, 'wendy': 4846, 'teachers': 4376, 'warriors': 4803, 'understandable': 4644, 'priceless': 3390, 'resort': 3650, 'cheek': 779, 'clumsy': 866, 'celluloid': 731, 'persons': 3244, 'linda': 2609, 'tracks': 4545, 'depression': 1189, 'endure': 1475, 'cameras': 660, 'wisdom': 4902, 'painting': 3175, 'leg': 2562, 'grey': 1973, 'attend': 344, 'despair': 1207, 'anger': 235, 'theaters': 4428, 'damon': 1101, 'exposed': 1598, 'dynamic': 1394, 'anyways': 262, 'hiding': 2099, 'prisoners': 3403, 'giallo': 1904, 'swimming': 4338, 'summary': 4290, 'sucks': 4271, 'chapter': 757, 'cousin': 1021, 'shadows': 3913, 'strip': 4228, 'iron': 2354, 'obnoxious': 3067, 'namely': 2962, 'trio': 4587, 'sincere': 3991, 'korean': 2495, 'guarantee': 1987, 'identify': 2216, 'vietnam': 4735, 'undoubtedly': 4648, 'florida': 1761, 'creativity': 1042, 'weapon': 4828, 'forms': 1801, 'reached': 3537, 'resist': 3648, 'wrap': 4963, 'downright': 1337, 'lone': 2642, 'wrestling': 4966, 'danes': 1108, 'glenn': 1918, 'dracula': 1341, 'bergman': 466, 'lively': 2627, 'pink': 3277, 'spielberg': 4110, 'choreographed': 801, 'engage': 1479, 'witches': 4910, 'cinderella': 815, 'improve': 2254, 'fond': 1776, 'royal': 3746, 'nightmares': 3015, 'thoughtful': 4463, 'andrews': 229, 'companion': 909, 'chaplin': 756, 'analysis': 224, 'homeless': 2143, 'switch': 4339, 'blair': 497, 'map': 2733, 'frankenstein': 1822, 'environment': 1505, 'painted': 3174, 'robinson': 3716, 'muslim': 2949, 'specifically': 4100, 'juvenile': 2441, 'iraq': 2351, 'remaining': 3610, 'tense': 4403, 'akshay': 169, 'westerns': 4854, 'survivor': 4324, 'lloyd': 2630, 'scrooge': 3837, 'cheating': 776, 'olivier': 3103, 'brosnan': 597, 'emma': 1457, 'timothy': 4499, 'dalton': 1098, 'rochester': 3719, 'passionate': 3206, 'eyre': 1614, 'pacino': 3164, 'hoffman': 2128, 'patients': 3212, 'explored': 1595, 'twilight': 4614, 'del': 1165, 'lately': 2524, 'inspector': 2299, 'restored': 3659, 'lower': 2677, 'soccer': 4048, 'inspiring': 2302, 'preview': 3386, 'thick': 4447, 'topic': 4526, 'aids': 161, 'ian': 2209, 'amanda': 205, 'panic': 3181, 'recognize': 3569, 'doctors': 1305, 'similarities': 3979, 'ignored': 2225, 'eat': 1411, 'bird': 484, 'concerning': 933, 'express': 1600, 'australian': 357, 'stupidity': 4248, 'victoria': 4732, 'flow': 1762, 'couples': 1017, 'waited': 4771, 'gandhi': 1866, 'kapoor': 2443, 'performed': 3230, 'examples': 1554, 'promises': 3432, 'opposed': 3122, 'versus': 4722, 'evident': 1547, 'phantom': 3251, 'annie': 247, 'floating': 1758, 'hence': 2083, 'tap': 4364, 'writes': 4970, 'solo': 4058, 'vaguely': 4706, 'ho': 2127, 'lying': 2690, 'bettie': 473, 'pages': 3168, 'matthau': 2771, 'caine': 647, 'destiny': 1212, 'navy': 2976, 'improvement': 2256, 'easier': 1405, 'prize': 3405, 'individuals': 2278, 'husbands': 2205, 'stooges': 4200, 'tomatoes': 4515, 'lemmon': 2567, 'descent': 1193, 'manhattan': 2726, 'welles': 4844, 'reduced': 3579, 'diana': 1237, 'trek': 4578, 'enthusiasm': 1501, 'buddies': 608, 'widmark': 4882, 'peters': 3248, 'terrorist': 4413, 'canada': 666, 'producing': 3417, 'dub': 1378, 'distribution': 1298, '1968': 16, 'stretched': 4222, 'hole': 2132, 'miike': 2837, 'attached': 336, 'helicopter': 2076, '2000': 30, 'genres': 1889, 'adams': 112, 'hollywoods': 2138, 'methods': 2825, 'karloff': 2445, 'terry': 4415, 'popularity': 3334, 'discussion': 1284, 'dolls': 1316, 'website': 4834, '1999': 27, 'nostalgia': 3038, 'plant': 3293, 'cup': 1080, 'orson': 3132, '1990': 24, 'campbell': 663, 'demented': 1176, 'stanwyck': 4149, 'furthermore': 1854, 'chicks': 787, 'suspend': 4329, 'domino': 1319, 'blunt': 520, 'simmons': 3981, 'stargate': 4151, 'dating': 1120, 'hello': 2078, '1984': 23, 'subplots': 4256, 'charlotte': 766, 'nations': 2971, 'chooses': 800, 'robbery': 3711, 'offended': 3085, 'backdrop': 379, 'wells': 4845, 'machines': 2694, 'paltrow': 3178, 'awe': 370, 'felix': 1689, 'modesty': 2883, 'blob': 507, 'suffered': 4276, 'staring': 4152, 'rabbit': 3498, 'assigned': 325, 'jesse': 2397, 'betty': 474, 'butler': 637, 'staged': 4140, 'unseen': 4678, 'jenny': 2393, 'abc': 63, 'sloppy': 4030, 'robots': 3718, 'chess': 783, 'dialogues': 1235, 'streisand': 4218, 'nomination': 3026, 'francis': 1818, 'commercials': 903, 'carol': 693, 'lumet': 2688, 'tonight': 4519, 'daddy': 1096, 'psychic': 3456, 'ashley': 313, 'matthew': 2772, 'hart': 2041, 'devils': 1229, 'gadget': 1860, 'sport': 4129, 'amitabh': 216, 'convincingly': 986, 'polanski': 3321, 'sarah': 3785, 'diamond': 1236, 'fulci': 1845, 'gerard': 1895, 'underlying': 4641, 'scope': 3821, 'titanic': 4503, 'pokemon': 3320, 'shark': 3921, 'godzilla': 1929, 'bela': 450, 'lugosi': 2686, 'lily': 2605}\n"
     ]
    }
   ],
   "source": [
    "print(str(vocabulary))"
   ]
  },
  {
   "cell_type": "markdown",
   "metadata": {},
   "source": [
    "Once you have added the endpoint name to the Lambda function, click on **Save**. Your Lambda function is now up and running. Next we need to create a way for our web app to execute the Lambda function."
   ]
  },
  {
   "cell_type": "markdown",
   "metadata": {},
   "source": [
    "### Setting up API Gateway\n",
    "\n",
    "Now that our Lambda function is set up, it is time to create a new API using API Gateway that will trigger the Lambda function we have just created.\n",
    "\n",
    "Using AWS Console, navigate to **Amazon API Gateway** and then click on **Get started**.\n",
    "\n",
    "On the next page, make sure that **New API** is selected and give the new api a name, for example, `sentiment_analysis_web_app`. Then, click on **Create API**.\n",
    "\n",
    "Now we have created an API, however it doesn't currently do anything. What we want it to do is to trigger the Lambda function that we created earlier.\n",
    "\n",
    "Select the **Actions** dropdown menu and click **Create Method**. A new blank method will be created, select its dropdown menu and select **POST**, then click on the check mark beside it.\n",
    "\n",
    "For the integration point, make sure that **Lambda Function** is selected and click on the **Use Lambda Proxy integration**. This option makes sure that the data that is sent to the API is then sent directly to the Lambda function with no processing. It also means that the return value must be a proper response object as it will also not be processed by API Gateway.\n",
    "\n",
    "Type the name of the Lambda function you created earlier into the **Lambda Function** text entry box and then click on **Save**. Click on **OK** in the pop-up box that then appears, giving permission to API Gateway to invoke the Lambda function you created.\n",
    "\n",
    "The last step in creating the API Gateway is to select the **Actions** dropdown and click on **Deploy API**. You will need to create a new Deployment stage and name it anything you like, for example `prod`.\n",
    "\n",
    "You have now successfully set up a public API to access your SageMaker model. Make sure to copy or write down the URL provided to invoke your newly created public API as this will be needed in the next step. This URL can be found at the top of the page, highlighted in blue next to the text **Invoke URL**."
   ]
  },
  {
   "cell_type": "markdown",
   "metadata": {},
   "source": [
    "## Step 7: Deploying our web app\n",
    "\n",
    "Now that we have a publicly available API, we can start using it in a web app. For our purposes, we have provided a simple static html file which can make use of the public api you created earlier.\n",
    "\n",
    "In the `website` folder there should be a file called `index.html`. Download the file to your computer and open that file up in a text editor of your choice. There should be a line which contains **\\*\\*REPLACE WITH PUBLIC API URL\\*\\***. Replace this string with the url that you wrote down in the last step and then save the file.\n",
    "\n",
    "Now, if you open `index.html` on your local computer, your browser will behave as a local web server and you can use the provided site to interact with your SageMaker model.\n",
    "\n",
    "If you'd like to go further, you can host this html file anywhere you'd like, for example using github or hosting a static site on Amazon's S3. Once you have done this you can share the link with anyone you'd like and have them play with it too!\n",
    "\n",
    "> **Important Note** In order for the web app to communicate with the SageMaker endpoint, the endpoint has to actually be deployed and running. This means that you are paying for it. Make sure that the endpoint is running when you want to use the web app but that you shut it down when you don't need it, otherwise you will end up with a surprisingly large AWS bill."
   ]
  },
  {
   "cell_type": "markdown",
   "metadata": {},
   "source": [
    "### Delete the endpoint\n",
    "\n",
    "Remember to always shut down your endpoint if you are no longer using it. You are charged for the length of time that the endpoint is running so if you forget and leave it on you could end up with an unexpectedly large bill."
   ]
  },
  {
   "cell_type": "code",
   "execution_count": null,
   "metadata": {},
   "outputs": [],
   "source": [
    "xgb_predictor.delete_endpoint()"
   ]
  },
  {
   "cell_type": "markdown",
   "metadata": {},
   "source": [
    "## Optional: Clean up\n",
    "\n",
    "The default notebook instance on SageMaker doesn't have a lot of excess disk space available. As you continue to complete and execute notebooks you will eventually fill up this disk space, leading to errors which can be difficult to diagnose. Once you are completely finished using a notebook it is a good idea to remove the files that you created along the way. Of course, you can do this from the terminal or from the notebook hub if you would like. The cell below contains some commands to clean up the created files from within the notebook."
   ]
  },
  {
   "cell_type": "code",
   "execution_count": null,
   "metadata": {},
   "outputs": [],
   "source": [
    "# First we will remove all of the files contained in the data_dir directory\n",
    "!rm $data_dir/*\n",
    "\n",
    "# And then we delete the directory itself\n",
    "!rmdir $data_dir\n",
    "\n",
    "# Similarly we remove the files in the cache_dir directory and the directory itself\n",
    "!rm $cache_dir/*\n",
    "!rmdir $cache_dir"
   ]
  },
  {
   "cell_type": "code",
   "execution_count": null,
   "metadata": {},
   "outputs": [],
   "source": []
  }
 ],
 "metadata": {
  "kernelspec": {
   "display_name": "conda_pytorch_p36",
   "language": "python",
   "name": "conda_pytorch_p36"
  },
  "language_info": {
   "codemirror_mode": {
    "name": "ipython",
    "version": 3
   },
   "file_extension": ".py",
   "mimetype": "text/x-python",
   "name": "python",
   "nbconvert_exporter": "python",
   "pygments_lexer": "ipython3",
   "version": "3.6.13"
  }
 },
 "nbformat": 4,
 "nbformat_minor": 2
}
